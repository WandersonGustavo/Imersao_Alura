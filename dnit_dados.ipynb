{
  "nbformat": 4,
  "nbformat_minor": 0,
  "metadata": {
    "colab": {
      "provenance": [],
      "authorship_tag": "ABX9TyMX7XjKHmeCQgCwOZ6UzO58",
      "include_colab_link": true
    },
    "kernelspec": {
      "name": "python3",
      "display_name": "Python 3"
    },
    "language_info": {
      "name": "python"
    }
  },
  "cells": [
    {
      "cell_type": "markdown",
      "metadata": {
        "id": "view-in-github",
        "colab_type": "text"
      },
      "source": [
        "<a href=\"https://colab.research.google.com/github/WandersonGustavo/Imersao_Alura/blob/main/dnit_dados.ipynb\" target=\"_parent\"><img src=\"https://colab.research.google.com/assets/colab-badge.svg\" alt=\"Open In Colab\"/></a>"
      ]
    },
    {
      "cell_type": "code",
      "execution_count": 17,
      "metadata": {
        "id": "24EIvXN_du_L"
      },
      "outputs": [],
      "source": [
        "import pandas as pd\n",
        "import matplotlib.pyplot as plt\n",
        "import seaborn as sns\n",
        "import numpy as np\n",
        "from sklearn.linear_model import LinearRegression\n",
        "from yellowbrick.regressor import ResidualsPlot \n",
        "import statsmodels.formula.api as sm"
      ]
    },
    {
      "cell_type": "code",
      "source": [
        "base=pd.read_csv('contagem_de_trafego_cgplan.csv',error_bad_lines=False, sep=\";\")"
      ],
      "metadata": {
        "id": "Eb_hMizEd5HF",
        "colab": {
          "base_uri": "https://localhost:8080/"
        },
        "outputId": "1039b8c8-b094-4a6e-e997-2d8c0d42667f"
      },
      "execution_count": 2,
      "outputs": [
        {
          "output_type": "stream",
          "name": "stderr",
          "text": [
            "/usr/local/lib/python3.8/dist-packages/IPython/core/interactiveshell.py:3326: FutureWarning: The error_bad_lines argument has been deprecated and will be removed in a future version.\n",
            "\n",
            "\n",
            "  exec(code_obj, self.user_global_ns, self.user_ns)\n"
          ]
        }
      ]
    },
    {
      "cell_type": "code",
      "source": [
        "len(base)"
      ],
      "metadata": {
        "colab": {
          "base_uri": "https://localhost:8080/"
        },
        "id": "RRt2SqpEzanX",
        "outputId": "3f14f5df-e876-4d9f-a01d-b53b8264e0a5"
      },
      "execution_count": null,
      "outputs": [
        {
          "output_type": "execute_result",
          "data": {
            "text/plain": [
              "6769"
            ]
          },
          "metadata": {},
          "execution_count": 22
        }
      ]
    },
    {
      "cell_type": "code",
      "source": [
        "base"
      ],
      "metadata": {
        "colab": {
          "base_uri": "https://localhost:8080/",
          "height": 869
        },
        "id": "kb03nD0FrhLu",
        "outputId": "cefb42a3-758f-4a40-9369-4dcb58384abf"
      },
      "execution_count": null,
      "outputs": [
        {
          "output_type": "execute_result",
          "data": {
            "text/plain": [
              "        ID  id_trecho_  vl_br sg_uf      nm_tipo_tr sg_tipo_tr desc_coinc  \\\n",
              "0     4317      155030    307    AC  Eixo Principal          B          -   \n",
              "1     4318      155031    307    AC  Eixo Principal          B          -   \n",
              "2     4319      158261    307    AC  Eixo Principal          B          -   \n",
              "3     4320      158260    307    AC  Eixo Principal          B          -   \n",
              "4     4321      158259    307    AC  Eixo Principal          B          -   \n",
              "...    ...         ...    ...   ...             ...        ...        ...   \n",
              "6764  3434      160957    242    TO  Eixo Principal          B          -   \n",
              "6765  3435      154198    242    TO  Eixo Principal          B          -   \n",
              "6766  3436      154199    242    TO  Eixo Principal          B          -   \n",
              "6767  3437      154200    242    TO  Eixo Principal          B          -   \n",
              "6768  3438      154201    242    TO  Eixo Principal          B          -   \n",
              "\n",
              "       vl_codigo                                         ds_local_i  \\\n",
              "0     307BAC0005              ENTR AC-190/378 (MARECHAL TAUMATURGO)   \n",
              "1     307BAC0010                         ENTR AC-090 (PORTO VALTER)   \n",
              "2     307BAC0015                           INÍCIO TRECHO IMPLANTADO   \n",
              "3     307BAC0018                                      ENTR RAMAL 03   \n",
              "4     307BAC0020                          INÍCIO TRECHO PAVIMENTADO   \n",
              "...          ...                                                ...   \n",
              "6764  242BTO0500  ENTR AV. JOAQUIM BATISTA DE OLIVEIRA (FORMOSO ...   \n",
              "6765  242BTO0510                  ENTR TO-070 (FORMOSO DO ARAGUAIA)   \n",
              "6766  242BTO0512                                     ENTR TO-181(A)   \n",
              "6767  242BTO0520                                     ENTR TO-181(B)   \n",
              "6768  242BTO0530                           PORTO PIAUÍ (RIO JAVAÉS)   \n",
              "\n",
              "                             ds_local_f  ... E_D F_D G_D H_D  I_D J_D VMDa_C  \\\n",
              "0            ENTR AC-090 (PORTO VALTER)  ...   -   -   -   -    -   -      -   \n",
              "1              INÍCIO TRECHO IMPLANTADO  ...   -   -   -   -    -   -      -   \n",
              "2                         ENTR RAMAL 03  ...   -   -   -   -    -   -      -   \n",
              "3             INÍCIO TRECHO PAVIMENTADO  ...   -   -   -   -    -   -      -   \n",
              "4                        ENTR BR-364(A)  ...   -   -   -   -    -   -      -   \n",
              "...                                 ...  ...  ..  ..  ..  ..  ...  ..    ...   \n",
              "6764  ENTR TO-070 (FORMOSO DO ARAGUAIA)  ...   6   4   0   0  344  43    569   \n",
              "6765                     ENTR TO-181(A)  ...   -   -   -   -    -   -      -   \n",
              "6766                     ENTR TO-181(B)  ...   -   -   -   -    -   -      -   \n",
              "6767           PORTO PIAUÍ (RIO JAVAÉS)  ...   -   -   -   -    -   -      -   \n",
              "6768  DIV TO/MT (SÃO FÉLIX DO ARAGUAIA)  ...   -   -   -   -    -   -      -   \n",
              "\n",
              "     VMDa_D NS_C NS_D  \n",
              "0         -    -    -  \n",
              "1         -    -    -  \n",
              "2         -    -    -  \n",
              "3         -    -    -  \n",
              "4         -    -    -  \n",
              "...     ...  ...  ...  \n",
              "6764    547    A    A  \n",
              "6765      -    -    -  \n",
              "6766      -    -    -  \n",
              "6767      -    -    -  \n",
              "6768      -    -    -  \n",
              "\n",
              "[6769 rows x 56 columns]"
            ],
            "text/html": [
              "\n",
              "  <div id=\"df-7bc2b3af-2b80-41a7-afba-2f73bf168279\">\n",
              "    <div class=\"colab-df-container\">\n",
              "      <div>\n",
              "<style scoped>\n",
              "    .dataframe tbody tr th:only-of-type {\n",
              "        vertical-align: middle;\n",
              "    }\n",
              "\n",
              "    .dataframe tbody tr th {\n",
              "        vertical-align: top;\n",
              "    }\n",
              "\n",
              "    .dataframe thead th {\n",
              "        text-align: right;\n",
              "    }\n",
              "</style>\n",
              "<table border=\"1\" class=\"dataframe\">\n",
              "  <thead>\n",
              "    <tr style=\"text-align: right;\">\n",
              "      <th></th>\n",
              "      <th>ID</th>\n",
              "      <th>id_trecho_</th>\n",
              "      <th>vl_br</th>\n",
              "      <th>sg_uf</th>\n",
              "      <th>nm_tipo_tr</th>\n",
              "      <th>sg_tipo_tr</th>\n",
              "      <th>desc_coinc</th>\n",
              "      <th>vl_codigo</th>\n",
              "      <th>ds_local_i</th>\n",
              "      <th>ds_local_f</th>\n",
              "      <th>...</th>\n",
              "      <th>E_D</th>\n",
              "      <th>F_D</th>\n",
              "      <th>G_D</th>\n",
              "      <th>H_D</th>\n",
              "      <th>I_D</th>\n",
              "      <th>J_D</th>\n",
              "      <th>VMDa_C</th>\n",
              "      <th>VMDa_D</th>\n",
              "      <th>NS_C</th>\n",
              "      <th>NS_D</th>\n",
              "    </tr>\n",
              "  </thead>\n",
              "  <tbody>\n",
              "    <tr>\n",
              "      <th>0</th>\n",
              "      <td>4317</td>\n",
              "      <td>155030</td>\n",
              "      <td>307</td>\n",
              "      <td>AC</td>\n",
              "      <td>Eixo Principal</td>\n",
              "      <td>B</td>\n",
              "      <td>-</td>\n",
              "      <td>307BAC0005</td>\n",
              "      <td>ENTR AC-190/378 (MARECHAL TAUMATURGO)</td>\n",
              "      <td>ENTR AC-090 (PORTO VALTER)</td>\n",
              "      <td>...</td>\n",
              "      <td>-</td>\n",
              "      <td>-</td>\n",
              "      <td>-</td>\n",
              "      <td>-</td>\n",
              "      <td>-</td>\n",
              "      <td>-</td>\n",
              "      <td>-</td>\n",
              "      <td>-</td>\n",
              "      <td>-</td>\n",
              "      <td>-</td>\n",
              "    </tr>\n",
              "    <tr>\n",
              "      <th>1</th>\n",
              "      <td>4318</td>\n",
              "      <td>155031</td>\n",
              "      <td>307</td>\n",
              "      <td>AC</td>\n",
              "      <td>Eixo Principal</td>\n",
              "      <td>B</td>\n",
              "      <td>-</td>\n",
              "      <td>307BAC0010</td>\n",
              "      <td>ENTR AC-090 (PORTO VALTER)</td>\n",
              "      <td>INÍCIO TRECHO IMPLANTADO</td>\n",
              "      <td>...</td>\n",
              "      <td>-</td>\n",
              "      <td>-</td>\n",
              "      <td>-</td>\n",
              "      <td>-</td>\n",
              "      <td>-</td>\n",
              "      <td>-</td>\n",
              "      <td>-</td>\n",
              "      <td>-</td>\n",
              "      <td>-</td>\n",
              "      <td>-</td>\n",
              "    </tr>\n",
              "    <tr>\n",
              "      <th>2</th>\n",
              "      <td>4319</td>\n",
              "      <td>158261</td>\n",
              "      <td>307</td>\n",
              "      <td>AC</td>\n",
              "      <td>Eixo Principal</td>\n",
              "      <td>B</td>\n",
              "      <td>-</td>\n",
              "      <td>307BAC0015</td>\n",
              "      <td>INÍCIO TRECHO IMPLANTADO</td>\n",
              "      <td>ENTR RAMAL 03</td>\n",
              "      <td>...</td>\n",
              "      <td>-</td>\n",
              "      <td>-</td>\n",
              "      <td>-</td>\n",
              "      <td>-</td>\n",
              "      <td>-</td>\n",
              "      <td>-</td>\n",
              "      <td>-</td>\n",
              "      <td>-</td>\n",
              "      <td>-</td>\n",
              "      <td>-</td>\n",
              "    </tr>\n",
              "    <tr>\n",
              "      <th>3</th>\n",
              "      <td>4320</td>\n",
              "      <td>158260</td>\n",
              "      <td>307</td>\n",
              "      <td>AC</td>\n",
              "      <td>Eixo Principal</td>\n",
              "      <td>B</td>\n",
              "      <td>-</td>\n",
              "      <td>307BAC0018</td>\n",
              "      <td>ENTR RAMAL 03</td>\n",
              "      <td>INÍCIO TRECHO PAVIMENTADO</td>\n",
              "      <td>...</td>\n",
              "      <td>-</td>\n",
              "      <td>-</td>\n",
              "      <td>-</td>\n",
              "      <td>-</td>\n",
              "      <td>-</td>\n",
              "      <td>-</td>\n",
              "      <td>-</td>\n",
              "      <td>-</td>\n",
              "      <td>-</td>\n",
              "      <td>-</td>\n",
              "    </tr>\n",
              "    <tr>\n",
              "      <th>4</th>\n",
              "      <td>4321</td>\n",
              "      <td>158259</td>\n",
              "      <td>307</td>\n",
              "      <td>AC</td>\n",
              "      <td>Eixo Principal</td>\n",
              "      <td>B</td>\n",
              "      <td>-</td>\n",
              "      <td>307BAC0020</td>\n",
              "      <td>INÍCIO TRECHO PAVIMENTADO</td>\n",
              "      <td>ENTR BR-364(A)</td>\n",
              "      <td>...</td>\n",
              "      <td>-</td>\n",
              "      <td>-</td>\n",
              "      <td>-</td>\n",
              "      <td>-</td>\n",
              "      <td>-</td>\n",
              "      <td>-</td>\n",
              "      <td>-</td>\n",
              "      <td>-</td>\n",
              "      <td>-</td>\n",
              "      <td>-</td>\n",
              "    </tr>\n",
              "    <tr>\n",
              "      <th>...</th>\n",
              "      <td>...</td>\n",
              "      <td>...</td>\n",
              "      <td>...</td>\n",
              "      <td>...</td>\n",
              "      <td>...</td>\n",
              "      <td>...</td>\n",
              "      <td>...</td>\n",
              "      <td>...</td>\n",
              "      <td>...</td>\n",
              "      <td>...</td>\n",
              "      <td>...</td>\n",
              "      <td>...</td>\n",
              "      <td>...</td>\n",
              "      <td>...</td>\n",
              "      <td>...</td>\n",
              "      <td>...</td>\n",
              "      <td>...</td>\n",
              "      <td>...</td>\n",
              "      <td>...</td>\n",
              "      <td>...</td>\n",
              "      <td>...</td>\n",
              "    </tr>\n",
              "    <tr>\n",
              "      <th>6764</th>\n",
              "      <td>3434</td>\n",
              "      <td>160957</td>\n",
              "      <td>242</td>\n",
              "      <td>TO</td>\n",
              "      <td>Eixo Principal</td>\n",
              "      <td>B</td>\n",
              "      <td>-</td>\n",
              "      <td>242BTO0500</td>\n",
              "      <td>ENTR AV. JOAQUIM BATISTA DE OLIVEIRA (FORMOSO ...</td>\n",
              "      <td>ENTR TO-070 (FORMOSO DO ARAGUAIA)</td>\n",
              "      <td>...</td>\n",
              "      <td>6</td>\n",
              "      <td>4</td>\n",
              "      <td>0</td>\n",
              "      <td>0</td>\n",
              "      <td>344</td>\n",
              "      <td>43</td>\n",
              "      <td>569</td>\n",
              "      <td>547</td>\n",
              "      <td>A</td>\n",
              "      <td>A</td>\n",
              "    </tr>\n",
              "    <tr>\n",
              "      <th>6765</th>\n",
              "      <td>3435</td>\n",
              "      <td>154198</td>\n",
              "      <td>242</td>\n",
              "      <td>TO</td>\n",
              "      <td>Eixo Principal</td>\n",
              "      <td>B</td>\n",
              "      <td>-</td>\n",
              "      <td>242BTO0510</td>\n",
              "      <td>ENTR TO-070 (FORMOSO DO ARAGUAIA)</td>\n",
              "      <td>ENTR TO-181(A)</td>\n",
              "      <td>...</td>\n",
              "      <td>-</td>\n",
              "      <td>-</td>\n",
              "      <td>-</td>\n",
              "      <td>-</td>\n",
              "      <td>-</td>\n",
              "      <td>-</td>\n",
              "      <td>-</td>\n",
              "      <td>-</td>\n",
              "      <td>-</td>\n",
              "      <td>-</td>\n",
              "    </tr>\n",
              "    <tr>\n",
              "      <th>6766</th>\n",
              "      <td>3436</td>\n",
              "      <td>154199</td>\n",
              "      <td>242</td>\n",
              "      <td>TO</td>\n",
              "      <td>Eixo Principal</td>\n",
              "      <td>B</td>\n",
              "      <td>-</td>\n",
              "      <td>242BTO0512</td>\n",
              "      <td>ENTR TO-181(A)</td>\n",
              "      <td>ENTR TO-181(B)</td>\n",
              "      <td>...</td>\n",
              "      <td>-</td>\n",
              "      <td>-</td>\n",
              "      <td>-</td>\n",
              "      <td>-</td>\n",
              "      <td>-</td>\n",
              "      <td>-</td>\n",
              "      <td>-</td>\n",
              "      <td>-</td>\n",
              "      <td>-</td>\n",
              "      <td>-</td>\n",
              "    </tr>\n",
              "    <tr>\n",
              "      <th>6767</th>\n",
              "      <td>3437</td>\n",
              "      <td>154200</td>\n",
              "      <td>242</td>\n",
              "      <td>TO</td>\n",
              "      <td>Eixo Principal</td>\n",
              "      <td>B</td>\n",
              "      <td>-</td>\n",
              "      <td>242BTO0520</td>\n",
              "      <td>ENTR TO-181(B)</td>\n",
              "      <td>PORTO PIAUÍ (RIO JAVAÉS)</td>\n",
              "      <td>...</td>\n",
              "      <td>-</td>\n",
              "      <td>-</td>\n",
              "      <td>-</td>\n",
              "      <td>-</td>\n",
              "      <td>-</td>\n",
              "      <td>-</td>\n",
              "      <td>-</td>\n",
              "      <td>-</td>\n",
              "      <td>-</td>\n",
              "      <td>-</td>\n",
              "    </tr>\n",
              "    <tr>\n",
              "      <th>6768</th>\n",
              "      <td>3438</td>\n",
              "      <td>154201</td>\n",
              "      <td>242</td>\n",
              "      <td>TO</td>\n",
              "      <td>Eixo Principal</td>\n",
              "      <td>B</td>\n",
              "      <td>-</td>\n",
              "      <td>242BTO0530</td>\n",
              "      <td>PORTO PIAUÍ (RIO JAVAÉS)</td>\n",
              "      <td>DIV TO/MT (SÃO FÉLIX DO ARAGUAIA)</td>\n",
              "      <td>...</td>\n",
              "      <td>-</td>\n",
              "      <td>-</td>\n",
              "      <td>-</td>\n",
              "      <td>-</td>\n",
              "      <td>-</td>\n",
              "      <td>-</td>\n",
              "      <td>-</td>\n",
              "      <td>-</td>\n",
              "      <td>-</td>\n",
              "      <td>-</td>\n",
              "    </tr>\n",
              "  </tbody>\n",
              "</table>\n",
              "<p>6769 rows × 56 columns</p>\n",
              "</div>\n",
              "      <button class=\"colab-df-convert\" onclick=\"convertToInteractive('df-7bc2b3af-2b80-41a7-afba-2f73bf168279')\"\n",
              "              title=\"Convert this dataframe to an interactive table.\"\n",
              "              style=\"display:none;\">\n",
              "        \n",
              "  <svg xmlns=\"http://www.w3.org/2000/svg\" height=\"24px\"viewBox=\"0 0 24 24\"\n",
              "       width=\"24px\">\n",
              "    <path d=\"M0 0h24v24H0V0z\" fill=\"none\"/>\n",
              "    <path d=\"M18.56 5.44l.94 2.06.94-2.06 2.06-.94-2.06-.94-.94-2.06-.94 2.06-2.06.94zm-11 1L8.5 8.5l.94-2.06 2.06-.94-2.06-.94L8.5 2.5l-.94 2.06-2.06.94zm10 10l.94 2.06.94-2.06 2.06-.94-2.06-.94-.94-2.06-.94 2.06-2.06.94z\"/><path d=\"M17.41 7.96l-1.37-1.37c-.4-.4-.92-.59-1.43-.59-.52 0-1.04.2-1.43.59L10.3 9.45l-7.72 7.72c-.78.78-.78 2.05 0 2.83L4 21.41c.39.39.9.59 1.41.59.51 0 1.02-.2 1.41-.59l7.78-7.78 2.81-2.81c.8-.78.8-2.07 0-2.86zM5.41 20L4 18.59l7.72-7.72 1.47 1.35L5.41 20z\"/>\n",
              "  </svg>\n",
              "      </button>\n",
              "      \n",
              "  <style>\n",
              "    .colab-df-container {\n",
              "      display:flex;\n",
              "      flex-wrap:wrap;\n",
              "      gap: 12px;\n",
              "    }\n",
              "\n",
              "    .colab-df-convert {\n",
              "      background-color: #E8F0FE;\n",
              "      border: none;\n",
              "      border-radius: 50%;\n",
              "      cursor: pointer;\n",
              "      display: none;\n",
              "      fill: #1967D2;\n",
              "      height: 32px;\n",
              "      padding: 0 0 0 0;\n",
              "      width: 32px;\n",
              "    }\n",
              "\n",
              "    .colab-df-convert:hover {\n",
              "      background-color: #E2EBFA;\n",
              "      box-shadow: 0px 1px 2px rgba(60, 64, 67, 0.3), 0px 1px 3px 1px rgba(60, 64, 67, 0.15);\n",
              "      fill: #174EA6;\n",
              "    }\n",
              "\n",
              "    [theme=dark] .colab-df-convert {\n",
              "      background-color: #3B4455;\n",
              "      fill: #D2E3FC;\n",
              "    }\n",
              "\n",
              "    [theme=dark] .colab-df-convert:hover {\n",
              "      background-color: #434B5C;\n",
              "      box-shadow: 0px 1px 3px 1px rgba(0, 0, 0, 0.15);\n",
              "      filter: drop-shadow(0px 1px 2px rgba(0, 0, 0, 0.3));\n",
              "      fill: #FFFFFF;\n",
              "    }\n",
              "  </style>\n",
              "\n",
              "      <script>\n",
              "        const buttonEl =\n",
              "          document.querySelector('#df-7bc2b3af-2b80-41a7-afba-2f73bf168279 button.colab-df-convert');\n",
              "        buttonEl.style.display =\n",
              "          google.colab.kernel.accessAllowed ? 'block' : 'none';\n",
              "\n",
              "        async function convertToInteractive(key) {\n",
              "          const element = document.querySelector('#df-7bc2b3af-2b80-41a7-afba-2f73bf168279');\n",
              "          const dataTable =\n",
              "            await google.colab.kernel.invokeFunction('convertToInteractive',\n",
              "                                                     [key], {});\n",
              "          if (!dataTable) return;\n",
              "\n",
              "          const docLinkHtml = 'Like what you see? Visit the ' +\n",
              "            '<a target=\"_blank\" href=https://colab.research.google.com/notebooks/data_table.ipynb>data table notebook</a>'\n",
              "            + ' to learn more about interactive tables.';\n",
              "          element.innerHTML = '';\n",
              "          dataTable['output_type'] = 'display_data';\n",
              "          await google.colab.output.renderOutput(dataTable, element);\n",
              "          const docLink = document.createElement('div');\n",
              "          docLink.innerHTML = docLinkHtml;\n",
              "          element.appendChild(docLink);\n",
              "        }\n",
              "      </script>\n",
              "    </div>\n",
              "  </div>\n",
              "  "
            ]
          },
          "metadata": {},
          "execution_count": 3
        }
      ]
    },
    {
      "cell_type": "code",
      "source": [
        "#Tratando dados, primeiro verificar NaN nos id's\n",
        "idAgrupado=base.groupby(['ID']).size()\n",
        "idAgrupado"
      ],
      "metadata": {
        "colab": {
          "base_uri": "https://localhost:8080/"
        },
        "id": "p7IoX4YOz5qT",
        "outputId": "9a8e715b-c536-4948-b01c-8f61b7f90d8f"
      },
      "execution_count": null,
      "outputs": [
        {
          "output_type": "execute_result",
          "data": {
            "text/plain": [
              "ID\n",
              "1       1\n",
              "2       1\n",
              "3       1\n",
              "4       1\n",
              "5       1\n",
              "       ..\n",
              "7606    1\n",
              "7607    1\n",
              "7608    1\n",
              "7609    1\n",
              "7610    1\n",
              "Length: 6769, dtype: int64"
            ]
          },
          "metadata": {},
          "execution_count": 7
        }
      ]
    },
    {
      "cell_type": "code",
      "source": [
        "#verficar se há estados duplicados ou inexistentes\n",
        "ufAgrupado=base.groupby(['sg_uf']).describe()\n",
        "ufAgrupado"
      ],
      "metadata": {
        "id": "vaYvsNnMeuQk",
        "colab": {
          "base_uri": "https://localhost:8080/",
          "height": 988
        },
        "outputId": "7129d6a9-e7d2-4ea7-ad9e-c96f2ad37c7a"
      },
      "execution_count": null,
      "outputs": [
        {
          "output_type": "execute_result",
          "data": {
            "text/plain": [
              "          ID                                                              \\\n",
              "       count         mean          std     min      25%     50%      75%   \n",
              "sg_uf                                                                      \n",
              "AC      70.0  4820.371429   400.377401  4317.0  4541.25  5035.5  5052.75   \n",
              "AL      91.0  3387.934066  2423.731681   658.0   680.50  4417.0  6104.50   \n",
              "AM     225.0  3446.120000   842.690784  2559.0  2742.00  3031.0  4355.00   \n",
              "AP      35.0  2273.742857   290.210810  2093.0  2101.50  2110.0  2436.00   \n",
              "BA     544.0  3209.248162  2396.212626   104.0  1134.75  3288.5  4848.25   \n",
              "CE     211.0  3093.706161  2209.711843   121.0  1288.50  2824.0  5861.50   \n",
              "DF      89.0  2994.415730  2837.157784     1.0   441.00  3454.0  6399.00   \n",
              "ES     146.0  4194.431507  2562.598210   644.0   777.25  4729.5  6920.75   \n",
              "GO     362.0  2945.903315  2556.900986    11.0   537.25  2056.5  5076.75   \n",
              "MA     177.0  3186.129944  1723.840005    23.0  1699.00  2911.0  4441.00   \n",
              "MG     913.0  4373.743702  2244.711876   273.0  1876.00  4901.0  6483.00   \n",
              "MS     244.0  3383.426230  1936.990691   482.0  2172.75  3695.5  5000.25   \n",
              "MT     265.0  2756.924528  1536.767362   571.0  2197.00  2435.0  3409.00   \n",
              "PA     214.0  2782.686916  1498.052670    35.0  2446.25  2499.5  3133.75   \n",
              "PB     155.0  3487.890323  2169.145273   782.0  1153.50  3170.0  5926.50   \n",
              "PE     188.0  3459.196809  2237.174449   795.0  1165.75  3253.5  6014.75   \n",
              "PI     231.0  4009.558442  1999.830753   102.0  2888.50  4519.0  4804.50   \n",
              "PR     490.0  4375.295918  1848.542731   819.0  2513.25  4021.5  5553.75   \n",
              "RJ     262.0  3499.312977  2863.227461   256.0   845.25  1555.5  6983.75   \n",
              "RN     188.0  3409.367021  2171.686298   653.0  1114.75  2966.5  5937.25   \n",
              "RO     118.0  5470.627119   871.858039  2656.0  5188.25  5217.5  6194.75   \n",
              "RR     135.0  3651.807407  1533.917984  2661.0  2694.50  2728.0  5844.50   \n",
              "RS     478.0  4419.261506  2119.243353   907.0  2255.25  4249.5  6632.75   \n",
              "SC     278.0  4097.100719  2275.050705   654.0  1965.25  4088.5  6693.75   \n",
              "SE      60.0  2223.800000  1794.351909   976.0   990.75  1005.5  3334.25   \n",
              "SP     445.0  3969.435955  2394.069013   382.0  1496.00  3892.0  5716.00   \n",
              "TO     155.0  2255.077419  1802.542669    61.0    99.50  2037.0  3344.50   \n",
              "\n",
              "              id_trecho_                 ...  vl_br        id_versao        \\\n",
              "          max      count           mean  ...    75%    max     count  mean   \n",
              "sg_uf                                    ...                                 \n",
              "AC     6057.0       70.0  157241.128571  ...  364.0  409.0      70.0  52.0   \n",
              "AL     7586.0       91.0  154954.901099  ...  316.0  424.0      91.0  52.0   \n",
              "AM     6068.0      225.0  154476.737778  ...  307.0  413.0     225.0  52.0   \n",
              "AP     2764.0       35.0  153140.600000  ...  183.0  210.0      35.0  52.0   \n",
              "BA     7594.0      544.0  154424.340074  ...  330.0  498.0     544.0  52.0   \n",
              "CE     7597.0      211.0  154458.549763  ...  304.0  437.0     211.0  52.0   \n",
              "DF     7466.0       89.0  153801.191011  ...  450.0  479.0      89.0  52.0   \n",
              "ES     7439.0      146.0  155281.047945  ...  439.0  484.0     146.0  52.0   \n",
              "GO     7465.0      362.0  154283.864641  ...  352.0  490.0     362.0  52.0   \n",
              "MA     7496.0      177.0  154866.502825  ...  308.0  402.0     177.0  52.0   \n",
              "MG     7593.0      913.0  155236.346112  ...  381.0  499.0     913.0  52.0   \n",
              "MS     7262.0      244.0  154428.323770  ...  359.0  497.0     244.0  52.0   \n",
              "MT     7279.0      265.0  153884.641509  ...  242.0  364.0     265.0  52.0   \n",
              "PA     7483.0      214.0  153845.196262  ...  230.0  422.0     214.0  52.0   \n",
              "PB     7587.0      155.0  154655.070968  ...  361.0  434.0     155.0  52.0   \n",
              "PE     7598.0      188.0  154462.787234  ...  361.5  428.0     188.0  52.0   \n",
              "PI     7595.0      231.0  154524.220779  ...  343.0  407.0     231.0  52.0   \n",
              "PR     7288.0      490.0  155641.702041  ...  376.0  487.0     490.0  52.0   \n",
              "RJ     7592.0      262.0  154964.702290  ...  442.5  495.0     262.0  52.0   \n",
              "RN     7610.0      188.0  154917.303191  ...  405.0  437.0     188.0  52.0   \n",
              "RO     7269.0      118.0  156707.855932  ...  421.0  435.0     118.0  52.0   \n",
              "RR     6353.0      135.0  154603.474074  ...  401.0  433.0     135.0  52.0   \n",
              "RS     7608.0      478.0  155577.728033  ...  453.0  481.0     478.0  52.0   \n",
              "SC     7579.0      278.0  155045.593525  ...  285.0  486.0     278.0  52.0   \n",
              "SE     7539.0       60.0  153502.533333  ...  235.0  349.0      60.0  52.0   \n",
              "SP     7607.0      445.0  154369.939326  ...  373.0  488.0     445.0  52.0   \n",
              "TO     7481.0      155.0  153612.980645  ...  232.5  242.0     155.0  52.0   \n",
              "\n",
              "                                          \n",
              "       std   min   25%   50%   75%   max  \n",
              "sg_uf                                     \n",
              "AC     0.0  52.0  52.0  52.0  52.0  52.0  \n",
              "AL     0.0  52.0  52.0  52.0  52.0  52.0  \n",
              "AM     0.0  52.0  52.0  52.0  52.0  52.0  \n",
              "AP     0.0  52.0  52.0  52.0  52.0  52.0  \n",
              "BA     0.0  52.0  52.0  52.0  52.0  52.0  \n",
              "CE     0.0  52.0  52.0  52.0  52.0  52.0  \n",
              "DF     0.0  52.0  52.0  52.0  52.0  52.0  \n",
              "ES     0.0  52.0  52.0  52.0  52.0  52.0  \n",
              "GO     0.0  52.0  52.0  52.0  52.0  52.0  \n",
              "MA     0.0  52.0  52.0  52.0  52.0  52.0  \n",
              "MG     0.0  52.0  52.0  52.0  52.0  52.0  \n",
              "MS     0.0  52.0  52.0  52.0  52.0  52.0  \n",
              "MT     0.0  52.0  52.0  52.0  52.0  52.0  \n",
              "PA     0.0  52.0  52.0  52.0  52.0  52.0  \n",
              "PB     0.0  52.0  52.0  52.0  52.0  52.0  \n",
              "PE     0.0  52.0  52.0  52.0  52.0  52.0  \n",
              "PI     0.0  52.0  52.0  52.0  52.0  52.0  \n",
              "PR     0.0  52.0  52.0  52.0  52.0  52.0  \n",
              "RJ     0.0  52.0  52.0  52.0  52.0  52.0  \n",
              "RN     0.0  52.0  52.0  52.0  52.0  52.0  \n",
              "RO     0.0  52.0  52.0  52.0  52.0  52.0  \n",
              "RR     0.0  52.0  52.0  52.0  52.0  52.0  \n",
              "RS     0.0  52.0  52.0  52.0  52.0  52.0  \n",
              "SC     0.0  52.0  52.0  52.0  52.0  52.0  \n",
              "SE     0.0  52.0  52.0  52.0  52.0  52.0  \n",
              "SP     0.0  52.0  52.0  52.0  52.0  52.0  \n",
              "TO     0.0  52.0  52.0  52.0  52.0  52.0  \n",
              "\n",
              "[27 rows x 32 columns]"
            ],
            "text/html": [
              "\n",
              "  <div id=\"df-cf2a8c87-50fb-431b-b877-1b966314719a\">\n",
              "    <div class=\"colab-df-container\">\n",
              "      <div>\n",
              "<style scoped>\n",
              "    .dataframe tbody tr th:only-of-type {\n",
              "        vertical-align: middle;\n",
              "    }\n",
              "\n",
              "    .dataframe tbody tr th {\n",
              "        vertical-align: top;\n",
              "    }\n",
              "\n",
              "    .dataframe thead tr th {\n",
              "        text-align: left;\n",
              "    }\n",
              "\n",
              "    .dataframe thead tr:last-of-type th {\n",
              "        text-align: right;\n",
              "    }\n",
              "</style>\n",
              "<table border=\"1\" class=\"dataframe\">\n",
              "  <thead>\n",
              "    <tr>\n",
              "      <th></th>\n",
              "      <th colspan=\"8\" halign=\"left\">ID</th>\n",
              "      <th colspan=\"2\" halign=\"left\">id_trecho_</th>\n",
              "      <th>...</th>\n",
              "      <th colspan=\"2\" halign=\"left\">vl_br</th>\n",
              "      <th colspan=\"8\" halign=\"left\">id_versao</th>\n",
              "    </tr>\n",
              "    <tr>\n",
              "      <th></th>\n",
              "      <th>count</th>\n",
              "      <th>mean</th>\n",
              "      <th>std</th>\n",
              "      <th>min</th>\n",
              "      <th>25%</th>\n",
              "      <th>50%</th>\n",
              "      <th>75%</th>\n",
              "      <th>max</th>\n",
              "      <th>count</th>\n",
              "      <th>mean</th>\n",
              "      <th>...</th>\n",
              "      <th>75%</th>\n",
              "      <th>max</th>\n",
              "      <th>count</th>\n",
              "      <th>mean</th>\n",
              "      <th>std</th>\n",
              "      <th>min</th>\n",
              "      <th>25%</th>\n",
              "      <th>50%</th>\n",
              "      <th>75%</th>\n",
              "      <th>max</th>\n",
              "    </tr>\n",
              "    <tr>\n",
              "      <th>sg_uf</th>\n",
              "      <th></th>\n",
              "      <th></th>\n",
              "      <th></th>\n",
              "      <th></th>\n",
              "      <th></th>\n",
              "      <th></th>\n",
              "      <th></th>\n",
              "      <th></th>\n",
              "      <th></th>\n",
              "      <th></th>\n",
              "      <th></th>\n",
              "      <th></th>\n",
              "      <th></th>\n",
              "      <th></th>\n",
              "      <th></th>\n",
              "      <th></th>\n",
              "      <th></th>\n",
              "      <th></th>\n",
              "      <th></th>\n",
              "      <th></th>\n",
              "      <th></th>\n",
              "    </tr>\n",
              "  </thead>\n",
              "  <tbody>\n",
              "    <tr>\n",
              "      <th>AC</th>\n",
              "      <td>70.0</td>\n",
              "      <td>4820.371429</td>\n",
              "      <td>400.377401</td>\n",
              "      <td>4317.0</td>\n",
              "      <td>4541.25</td>\n",
              "      <td>5035.5</td>\n",
              "      <td>5052.75</td>\n",
              "      <td>6057.0</td>\n",
              "      <td>70.0</td>\n",
              "      <td>157241.128571</td>\n",
              "      <td>...</td>\n",
              "      <td>364.0</td>\n",
              "      <td>409.0</td>\n",
              "      <td>70.0</td>\n",
              "      <td>52.0</td>\n",
              "      <td>0.0</td>\n",
              "      <td>52.0</td>\n",
              "      <td>52.0</td>\n",
              "      <td>52.0</td>\n",
              "      <td>52.0</td>\n",
              "      <td>52.0</td>\n",
              "    </tr>\n",
              "    <tr>\n",
              "      <th>AL</th>\n",
              "      <td>91.0</td>\n",
              "      <td>3387.934066</td>\n",
              "      <td>2423.731681</td>\n",
              "      <td>658.0</td>\n",
              "      <td>680.50</td>\n",
              "      <td>4417.0</td>\n",
              "      <td>6104.50</td>\n",
              "      <td>7586.0</td>\n",
              "      <td>91.0</td>\n",
              "      <td>154954.901099</td>\n",
              "      <td>...</td>\n",
              "      <td>316.0</td>\n",
              "      <td>424.0</td>\n",
              "      <td>91.0</td>\n",
              "      <td>52.0</td>\n",
              "      <td>0.0</td>\n",
              "      <td>52.0</td>\n",
              "      <td>52.0</td>\n",
              "      <td>52.0</td>\n",
              "      <td>52.0</td>\n",
              "      <td>52.0</td>\n",
              "    </tr>\n",
              "    <tr>\n",
              "      <th>AM</th>\n",
              "      <td>225.0</td>\n",
              "      <td>3446.120000</td>\n",
              "      <td>842.690784</td>\n",
              "      <td>2559.0</td>\n",
              "      <td>2742.00</td>\n",
              "      <td>3031.0</td>\n",
              "      <td>4355.00</td>\n",
              "      <td>6068.0</td>\n",
              "      <td>225.0</td>\n",
              "      <td>154476.737778</td>\n",
              "      <td>...</td>\n",
              "      <td>307.0</td>\n",
              "      <td>413.0</td>\n",
              "      <td>225.0</td>\n",
              "      <td>52.0</td>\n",
              "      <td>0.0</td>\n",
              "      <td>52.0</td>\n",
              "      <td>52.0</td>\n",
              "      <td>52.0</td>\n",
              "      <td>52.0</td>\n",
              "      <td>52.0</td>\n",
              "    </tr>\n",
              "    <tr>\n",
              "      <th>AP</th>\n",
              "      <td>35.0</td>\n",
              "      <td>2273.742857</td>\n",
              "      <td>290.210810</td>\n",
              "      <td>2093.0</td>\n",
              "      <td>2101.50</td>\n",
              "      <td>2110.0</td>\n",
              "      <td>2436.00</td>\n",
              "      <td>2764.0</td>\n",
              "      <td>35.0</td>\n",
              "      <td>153140.600000</td>\n",
              "      <td>...</td>\n",
              "      <td>183.0</td>\n",
              "      <td>210.0</td>\n",
              "      <td>35.0</td>\n",
              "      <td>52.0</td>\n",
              "      <td>0.0</td>\n",
              "      <td>52.0</td>\n",
              "      <td>52.0</td>\n",
              "      <td>52.0</td>\n",
              "      <td>52.0</td>\n",
              "      <td>52.0</td>\n",
              "    </tr>\n",
              "    <tr>\n",
              "      <th>BA</th>\n",
              "      <td>544.0</td>\n",
              "      <td>3209.248162</td>\n",
              "      <td>2396.212626</td>\n",
              "      <td>104.0</td>\n",
              "      <td>1134.75</td>\n",
              "      <td>3288.5</td>\n",
              "      <td>4848.25</td>\n",
              "      <td>7594.0</td>\n",
              "      <td>544.0</td>\n",
              "      <td>154424.340074</td>\n",
              "      <td>...</td>\n",
              "      <td>330.0</td>\n",
              "      <td>498.0</td>\n",
              "      <td>544.0</td>\n",
              "      <td>52.0</td>\n",
              "      <td>0.0</td>\n",
              "      <td>52.0</td>\n",
              "      <td>52.0</td>\n",
              "      <td>52.0</td>\n",
              "      <td>52.0</td>\n",
              "      <td>52.0</td>\n",
              "    </tr>\n",
              "    <tr>\n",
              "      <th>CE</th>\n",
              "      <td>211.0</td>\n",
              "      <td>3093.706161</td>\n",
              "      <td>2209.711843</td>\n",
              "      <td>121.0</td>\n",
              "      <td>1288.50</td>\n",
              "      <td>2824.0</td>\n",
              "      <td>5861.50</td>\n",
              "      <td>7597.0</td>\n",
              "      <td>211.0</td>\n",
              "      <td>154458.549763</td>\n",
              "      <td>...</td>\n",
              "      <td>304.0</td>\n",
              "      <td>437.0</td>\n",
              "      <td>211.0</td>\n",
              "      <td>52.0</td>\n",
              "      <td>0.0</td>\n",
              "      <td>52.0</td>\n",
              "      <td>52.0</td>\n",
              "      <td>52.0</td>\n",
              "      <td>52.0</td>\n",
              "      <td>52.0</td>\n",
              "    </tr>\n",
              "    <tr>\n",
              "      <th>DF</th>\n",
              "      <td>89.0</td>\n",
              "      <td>2994.415730</td>\n",
              "      <td>2837.157784</td>\n",
              "      <td>1.0</td>\n",
              "      <td>441.00</td>\n",
              "      <td>3454.0</td>\n",
              "      <td>6399.00</td>\n",
              "      <td>7466.0</td>\n",
              "      <td>89.0</td>\n",
              "      <td>153801.191011</td>\n",
              "      <td>...</td>\n",
              "      <td>450.0</td>\n",
              "      <td>479.0</td>\n",
              "      <td>89.0</td>\n",
              "      <td>52.0</td>\n",
              "      <td>0.0</td>\n",
              "      <td>52.0</td>\n",
              "      <td>52.0</td>\n",
              "      <td>52.0</td>\n",
              "      <td>52.0</td>\n",
              "      <td>52.0</td>\n",
              "    </tr>\n",
              "    <tr>\n",
              "      <th>ES</th>\n",
              "      <td>146.0</td>\n",
              "      <td>4194.431507</td>\n",
              "      <td>2562.598210</td>\n",
              "      <td>644.0</td>\n",
              "      <td>777.25</td>\n",
              "      <td>4729.5</td>\n",
              "      <td>6920.75</td>\n",
              "      <td>7439.0</td>\n",
              "      <td>146.0</td>\n",
              "      <td>155281.047945</td>\n",
              "      <td>...</td>\n",
              "      <td>439.0</td>\n",
              "      <td>484.0</td>\n",
              "      <td>146.0</td>\n",
              "      <td>52.0</td>\n",
              "      <td>0.0</td>\n",
              "      <td>52.0</td>\n",
              "      <td>52.0</td>\n",
              "      <td>52.0</td>\n",
              "      <td>52.0</td>\n",
              "      <td>52.0</td>\n",
              "    </tr>\n",
              "    <tr>\n",
              "      <th>GO</th>\n",
              "      <td>362.0</td>\n",
              "      <td>2945.903315</td>\n",
              "      <td>2556.900986</td>\n",
              "      <td>11.0</td>\n",
              "      <td>537.25</td>\n",
              "      <td>2056.5</td>\n",
              "      <td>5076.75</td>\n",
              "      <td>7465.0</td>\n",
              "      <td>362.0</td>\n",
              "      <td>154283.864641</td>\n",
              "      <td>...</td>\n",
              "      <td>352.0</td>\n",
              "      <td>490.0</td>\n",
              "      <td>362.0</td>\n",
              "      <td>52.0</td>\n",
              "      <td>0.0</td>\n",
              "      <td>52.0</td>\n",
              "      <td>52.0</td>\n",
              "      <td>52.0</td>\n",
              "      <td>52.0</td>\n",
              "      <td>52.0</td>\n",
              "    </tr>\n",
              "    <tr>\n",
              "      <th>MA</th>\n",
              "      <td>177.0</td>\n",
              "      <td>3186.129944</td>\n",
              "      <td>1723.840005</td>\n",
              "      <td>23.0</td>\n",
              "      <td>1699.00</td>\n",
              "      <td>2911.0</td>\n",
              "      <td>4441.00</td>\n",
              "      <td>7496.0</td>\n",
              "      <td>177.0</td>\n",
              "      <td>154866.502825</td>\n",
              "      <td>...</td>\n",
              "      <td>308.0</td>\n",
              "      <td>402.0</td>\n",
              "      <td>177.0</td>\n",
              "      <td>52.0</td>\n",
              "      <td>0.0</td>\n",
              "      <td>52.0</td>\n",
              "      <td>52.0</td>\n",
              "      <td>52.0</td>\n",
              "      <td>52.0</td>\n",
              "      <td>52.0</td>\n",
              "    </tr>\n",
              "    <tr>\n",
              "      <th>MG</th>\n",
              "      <td>913.0</td>\n",
              "      <td>4373.743702</td>\n",
              "      <td>2244.711876</td>\n",
              "      <td>273.0</td>\n",
              "      <td>1876.00</td>\n",
              "      <td>4901.0</td>\n",
              "      <td>6483.00</td>\n",
              "      <td>7593.0</td>\n",
              "      <td>913.0</td>\n",
              "      <td>155236.346112</td>\n",
              "      <td>...</td>\n",
              "      <td>381.0</td>\n",
              "      <td>499.0</td>\n",
              "      <td>913.0</td>\n",
              "      <td>52.0</td>\n",
              "      <td>0.0</td>\n",
              "      <td>52.0</td>\n",
              "      <td>52.0</td>\n",
              "      <td>52.0</td>\n",
              "      <td>52.0</td>\n",
              "      <td>52.0</td>\n",
              "    </tr>\n",
              "    <tr>\n",
              "      <th>MS</th>\n",
              "      <td>244.0</td>\n",
              "      <td>3383.426230</td>\n",
              "      <td>1936.990691</td>\n",
              "      <td>482.0</td>\n",
              "      <td>2172.75</td>\n",
              "      <td>3695.5</td>\n",
              "      <td>5000.25</td>\n",
              "      <td>7262.0</td>\n",
              "      <td>244.0</td>\n",
              "      <td>154428.323770</td>\n",
              "      <td>...</td>\n",
              "      <td>359.0</td>\n",
              "      <td>497.0</td>\n",
              "      <td>244.0</td>\n",
              "      <td>52.0</td>\n",
              "      <td>0.0</td>\n",
              "      <td>52.0</td>\n",
              "      <td>52.0</td>\n",
              "      <td>52.0</td>\n",
              "      <td>52.0</td>\n",
              "      <td>52.0</td>\n",
              "    </tr>\n",
              "    <tr>\n",
              "      <th>MT</th>\n",
              "      <td>265.0</td>\n",
              "      <td>2756.924528</td>\n",
              "      <td>1536.767362</td>\n",
              "      <td>571.0</td>\n",
              "      <td>2197.00</td>\n",
              "      <td>2435.0</td>\n",
              "      <td>3409.00</td>\n",
              "      <td>7279.0</td>\n",
              "      <td>265.0</td>\n",
              "      <td>153884.641509</td>\n",
              "      <td>...</td>\n",
              "      <td>242.0</td>\n",
              "      <td>364.0</td>\n",
              "      <td>265.0</td>\n",
              "      <td>52.0</td>\n",
              "      <td>0.0</td>\n",
              "      <td>52.0</td>\n",
              "      <td>52.0</td>\n",
              "      <td>52.0</td>\n",
              "      <td>52.0</td>\n",
              "      <td>52.0</td>\n",
              "    </tr>\n",
              "    <tr>\n",
              "      <th>PA</th>\n",
              "      <td>214.0</td>\n",
              "      <td>2782.686916</td>\n",
              "      <td>1498.052670</td>\n",
              "      <td>35.0</td>\n",
              "      <td>2446.25</td>\n",
              "      <td>2499.5</td>\n",
              "      <td>3133.75</td>\n",
              "      <td>7483.0</td>\n",
              "      <td>214.0</td>\n",
              "      <td>153845.196262</td>\n",
              "      <td>...</td>\n",
              "      <td>230.0</td>\n",
              "      <td>422.0</td>\n",
              "      <td>214.0</td>\n",
              "      <td>52.0</td>\n",
              "      <td>0.0</td>\n",
              "      <td>52.0</td>\n",
              "      <td>52.0</td>\n",
              "      <td>52.0</td>\n",
              "      <td>52.0</td>\n",
              "      <td>52.0</td>\n",
              "    </tr>\n",
              "    <tr>\n",
              "      <th>PB</th>\n",
              "      <td>155.0</td>\n",
              "      <td>3487.890323</td>\n",
              "      <td>2169.145273</td>\n",
              "      <td>782.0</td>\n",
              "      <td>1153.50</td>\n",
              "      <td>3170.0</td>\n",
              "      <td>5926.50</td>\n",
              "      <td>7587.0</td>\n",
              "      <td>155.0</td>\n",
              "      <td>154655.070968</td>\n",
              "      <td>...</td>\n",
              "      <td>361.0</td>\n",
              "      <td>434.0</td>\n",
              "      <td>155.0</td>\n",
              "      <td>52.0</td>\n",
              "      <td>0.0</td>\n",
              "      <td>52.0</td>\n",
              "      <td>52.0</td>\n",
              "      <td>52.0</td>\n",
              "      <td>52.0</td>\n",
              "      <td>52.0</td>\n",
              "    </tr>\n",
              "    <tr>\n",
              "      <th>PE</th>\n",
              "      <td>188.0</td>\n",
              "      <td>3459.196809</td>\n",
              "      <td>2237.174449</td>\n",
              "      <td>795.0</td>\n",
              "      <td>1165.75</td>\n",
              "      <td>3253.5</td>\n",
              "      <td>6014.75</td>\n",
              "      <td>7598.0</td>\n",
              "      <td>188.0</td>\n",
              "      <td>154462.787234</td>\n",
              "      <td>...</td>\n",
              "      <td>361.5</td>\n",
              "      <td>428.0</td>\n",
              "      <td>188.0</td>\n",
              "      <td>52.0</td>\n",
              "      <td>0.0</td>\n",
              "      <td>52.0</td>\n",
              "      <td>52.0</td>\n",
              "      <td>52.0</td>\n",
              "      <td>52.0</td>\n",
              "      <td>52.0</td>\n",
              "    </tr>\n",
              "    <tr>\n",
              "      <th>PI</th>\n",
              "      <td>231.0</td>\n",
              "      <td>4009.558442</td>\n",
              "      <td>1999.830753</td>\n",
              "      <td>102.0</td>\n",
              "      <td>2888.50</td>\n",
              "      <td>4519.0</td>\n",
              "      <td>4804.50</td>\n",
              "      <td>7595.0</td>\n",
              "      <td>231.0</td>\n",
              "      <td>154524.220779</td>\n",
              "      <td>...</td>\n",
              "      <td>343.0</td>\n",
              "      <td>407.0</td>\n",
              "      <td>231.0</td>\n",
              "      <td>52.0</td>\n",
              "      <td>0.0</td>\n",
              "      <td>52.0</td>\n",
              "      <td>52.0</td>\n",
              "      <td>52.0</td>\n",
              "      <td>52.0</td>\n",
              "      <td>52.0</td>\n",
              "    </tr>\n",
              "    <tr>\n",
              "      <th>PR</th>\n",
              "      <td>490.0</td>\n",
              "      <td>4375.295918</td>\n",
              "      <td>1848.542731</td>\n",
              "      <td>819.0</td>\n",
              "      <td>2513.25</td>\n",
              "      <td>4021.5</td>\n",
              "      <td>5553.75</td>\n",
              "      <td>7288.0</td>\n",
              "      <td>490.0</td>\n",
              "      <td>155641.702041</td>\n",
              "      <td>...</td>\n",
              "      <td>376.0</td>\n",
              "      <td>487.0</td>\n",
              "      <td>490.0</td>\n",
              "      <td>52.0</td>\n",
              "      <td>0.0</td>\n",
              "      <td>52.0</td>\n",
              "      <td>52.0</td>\n",
              "      <td>52.0</td>\n",
              "      <td>52.0</td>\n",
              "      <td>52.0</td>\n",
              "    </tr>\n",
              "    <tr>\n",
              "      <th>RJ</th>\n",
              "      <td>262.0</td>\n",
              "      <td>3499.312977</td>\n",
              "      <td>2863.227461</td>\n",
              "      <td>256.0</td>\n",
              "      <td>845.25</td>\n",
              "      <td>1555.5</td>\n",
              "      <td>6983.75</td>\n",
              "      <td>7592.0</td>\n",
              "      <td>262.0</td>\n",
              "      <td>154964.702290</td>\n",
              "      <td>...</td>\n",
              "      <td>442.5</td>\n",
              "      <td>495.0</td>\n",
              "      <td>262.0</td>\n",
              "      <td>52.0</td>\n",
              "      <td>0.0</td>\n",
              "      <td>52.0</td>\n",
              "      <td>52.0</td>\n",
              "      <td>52.0</td>\n",
              "      <td>52.0</td>\n",
              "      <td>52.0</td>\n",
              "    </tr>\n",
              "    <tr>\n",
              "      <th>RN</th>\n",
              "      <td>188.0</td>\n",
              "      <td>3409.367021</td>\n",
              "      <td>2171.686298</td>\n",
              "      <td>653.0</td>\n",
              "      <td>1114.75</td>\n",
              "      <td>2966.5</td>\n",
              "      <td>5937.25</td>\n",
              "      <td>7610.0</td>\n",
              "      <td>188.0</td>\n",
              "      <td>154917.303191</td>\n",
              "      <td>...</td>\n",
              "      <td>405.0</td>\n",
              "      <td>437.0</td>\n",
              "      <td>188.0</td>\n",
              "      <td>52.0</td>\n",
              "      <td>0.0</td>\n",
              "      <td>52.0</td>\n",
              "      <td>52.0</td>\n",
              "      <td>52.0</td>\n",
              "      <td>52.0</td>\n",
              "      <td>52.0</td>\n",
              "    </tr>\n",
              "    <tr>\n",
              "      <th>RO</th>\n",
              "      <td>118.0</td>\n",
              "      <td>5470.627119</td>\n",
              "      <td>871.858039</td>\n",
              "      <td>2656.0</td>\n",
              "      <td>5188.25</td>\n",
              "      <td>5217.5</td>\n",
              "      <td>6194.75</td>\n",
              "      <td>7269.0</td>\n",
              "      <td>118.0</td>\n",
              "      <td>156707.855932</td>\n",
              "      <td>...</td>\n",
              "      <td>421.0</td>\n",
              "      <td>435.0</td>\n",
              "      <td>118.0</td>\n",
              "      <td>52.0</td>\n",
              "      <td>0.0</td>\n",
              "      <td>52.0</td>\n",
              "      <td>52.0</td>\n",
              "      <td>52.0</td>\n",
              "      <td>52.0</td>\n",
              "      <td>52.0</td>\n",
              "    </tr>\n",
              "    <tr>\n",
              "      <th>RR</th>\n",
              "      <td>135.0</td>\n",
              "      <td>3651.807407</td>\n",
              "      <td>1533.917984</td>\n",
              "      <td>2661.0</td>\n",
              "      <td>2694.50</td>\n",
              "      <td>2728.0</td>\n",
              "      <td>5844.50</td>\n",
              "      <td>6353.0</td>\n",
              "      <td>135.0</td>\n",
              "      <td>154603.474074</td>\n",
              "      <td>...</td>\n",
              "      <td>401.0</td>\n",
              "      <td>433.0</td>\n",
              "      <td>135.0</td>\n",
              "      <td>52.0</td>\n",
              "      <td>0.0</td>\n",
              "      <td>52.0</td>\n",
              "      <td>52.0</td>\n",
              "      <td>52.0</td>\n",
              "      <td>52.0</td>\n",
              "      <td>52.0</td>\n",
              "    </tr>\n",
              "    <tr>\n",
              "      <th>RS</th>\n",
              "      <td>478.0</td>\n",
              "      <td>4419.261506</td>\n",
              "      <td>2119.243353</td>\n",
              "      <td>907.0</td>\n",
              "      <td>2255.25</td>\n",
              "      <td>4249.5</td>\n",
              "      <td>6632.75</td>\n",
              "      <td>7608.0</td>\n",
              "      <td>478.0</td>\n",
              "      <td>155577.728033</td>\n",
              "      <td>...</td>\n",
              "      <td>453.0</td>\n",
              "      <td>481.0</td>\n",
              "      <td>478.0</td>\n",
              "      <td>52.0</td>\n",
              "      <td>0.0</td>\n",
              "      <td>52.0</td>\n",
              "      <td>52.0</td>\n",
              "      <td>52.0</td>\n",
              "      <td>52.0</td>\n",
              "      <td>52.0</td>\n",
              "    </tr>\n",
              "    <tr>\n",
              "      <th>SC</th>\n",
              "      <td>278.0</td>\n",
              "      <td>4097.100719</td>\n",
              "      <td>2275.050705</td>\n",
              "      <td>654.0</td>\n",
              "      <td>1965.25</td>\n",
              "      <td>4088.5</td>\n",
              "      <td>6693.75</td>\n",
              "      <td>7579.0</td>\n",
              "      <td>278.0</td>\n",
              "      <td>155045.593525</td>\n",
              "      <td>...</td>\n",
              "      <td>285.0</td>\n",
              "      <td>486.0</td>\n",
              "      <td>278.0</td>\n",
              "      <td>52.0</td>\n",
              "      <td>0.0</td>\n",
              "      <td>52.0</td>\n",
              "      <td>52.0</td>\n",
              "      <td>52.0</td>\n",
              "      <td>52.0</td>\n",
              "      <td>52.0</td>\n",
              "    </tr>\n",
              "    <tr>\n",
              "      <th>SE</th>\n",
              "      <td>60.0</td>\n",
              "      <td>2223.800000</td>\n",
              "      <td>1794.351909</td>\n",
              "      <td>976.0</td>\n",
              "      <td>990.75</td>\n",
              "      <td>1005.5</td>\n",
              "      <td>3334.25</td>\n",
              "      <td>7539.0</td>\n",
              "      <td>60.0</td>\n",
              "      <td>153502.533333</td>\n",
              "      <td>...</td>\n",
              "      <td>235.0</td>\n",
              "      <td>349.0</td>\n",
              "      <td>60.0</td>\n",
              "      <td>52.0</td>\n",
              "      <td>0.0</td>\n",
              "      <td>52.0</td>\n",
              "      <td>52.0</td>\n",
              "      <td>52.0</td>\n",
              "      <td>52.0</td>\n",
              "      <td>52.0</td>\n",
              "    </tr>\n",
              "    <tr>\n",
              "      <th>SP</th>\n",
              "      <td>445.0</td>\n",
              "      <td>3969.435955</td>\n",
              "      <td>2394.069013</td>\n",
              "      <td>382.0</td>\n",
              "      <td>1496.00</td>\n",
              "      <td>3892.0</td>\n",
              "      <td>5716.00</td>\n",
              "      <td>7607.0</td>\n",
              "      <td>445.0</td>\n",
              "      <td>154369.939326</td>\n",
              "      <td>...</td>\n",
              "      <td>373.0</td>\n",
              "      <td>488.0</td>\n",
              "      <td>445.0</td>\n",
              "      <td>52.0</td>\n",
              "      <td>0.0</td>\n",
              "      <td>52.0</td>\n",
              "      <td>52.0</td>\n",
              "      <td>52.0</td>\n",
              "      <td>52.0</td>\n",
              "      <td>52.0</td>\n",
              "    </tr>\n",
              "    <tr>\n",
              "      <th>TO</th>\n",
              "      <td>155.0</td>\n",
              "      <td>2255.077419</td>\n",
              "      <td>1802.542669</td>\n",
              "      <td>61.0</td>\n",
              "      <td>99.50</td>\n",
              "      <td>2037.0</td>\n",
              "      <td>3344.50</td>\n",
              "      <td>7481.0</td>\n",
              "      <td>155.0</td>\n",
              "      <td>153612.980645</td>\n",
              "      <td>...</td>\n",
              "      <td>232.5</td>\n",
              "      <td>242.0</td>\n",
              "      <td>155.0</td>\n",
              "      <td>52.0</td>\n",
              "      <td>0.0</td>\n",
              "      <td>52.0</td>\n",
              "      <td>52.0</td>\n",
              "      <td>52.0</td>\n",
              "      <td>52.0</td>\n",
              "      <td>52.0</td>\n",
              "    </tr>\n",
              "  </tbody>\n",
              "</table>\n",
              "<p>27 rows × 32 columns</p>\n",
              "</div>\n",
              "      <button class=\"colab-df-convert\" onclick=\"convertToInteractive('df-cf2a8c87-50fb-431b-b877-1b966314719a')\"\n",
              "              title=\"Convert this dataframe to an interactive table.\"\n",
              "              style=\"display:none;\">\n",
              "        \n",
              "  <svg xmlns=\"http://www.w3.org/2000/svg\" height=\"24px\"viewBox=\"0 0 24 24\"\n",
              "       width=\"24px\">\n",
              "    <path d=\"M0 0h24v24H0V0z\" fill=\"none\"/>\n",
              "    <path d=\"M18.56 5.44l.94 2.06.94-2.06 2.06-.94-2.06-.94-.94-2.06-.94 2.06-2.06.94zm-11 1L8.5 8.5l.94-2.06 2.06-.94-2.06-.94L8.5 2.5l-.94 2.06-2.06.94zm10 10l.94 2.06.94-2.06 2.06-.94-2.06-.94-.94-2.06-.94 2.06-2.06.94z\"/><path d=\"M17.41 7.96l-1.37-1.37c-.4-.4-.92-.59-1.43-.59-.52 0-1.04.2-1.43.59L10.3 9.45l-7.72 7.72c-.78.78-.78 2.05 0 2.83L4 21.41c.39.39.9.59 1.41.59.51 0 1.02-.2 1.41-.59l7.78-7.78 2.81-2.81c.8-.78.8-2.07 0-2.86zM5.41 20L4 18.59l7.72-7.72 1.47 1.35L5.41 20z\"/>\n",
              "  </svg>\n",
              "      </button>\n",
              "      \n",
              "  <style>\n",
              "    .colab-df-container {\n",
              "      display:flex;\n",
              "      flex-wrap:wrap;\n",
              "      gap: 12px;\n",
              "    }\n",
              "\n",
              "    .colab-df-convert {\n",
              "      background-color: #E8F0FE;\n",
              "      border: none;\n",
              "      border-radius: 50%;\n",
              "      cursor: pointer;\n",
              "      display: none;\n",
              "      fill: #1967D2;\n",
              "      height: 32px;\n",
              "      padding: 0 0 0 0;\n",
              "      width: 32px;\n",
              "    }\n",
              "\n",
              "    .colab-df-convert:hover {\n",
              "      background-color: #E2EBFA;\n",
              "      box-shadow: 0px 1px 2px rgba(60, 64, 67, 0.3), 0px 1px 3px 1px rgba(60, 64, 67, 0.15);\n",
              "      fill: #174EA6;\n",
              "    }\n",
              "\n",
              "    [theme=dark] .colab-df-convert {\n",
              "      background-color: #3B4455;\n",
              "      fill: #D2E3FC;\n",
              "    }\n",
              "\n",
              "    [theme=dark] .colab-df-convert:hover {\n",
              "      background-color: #434B5C;\n",
              "      box-shadow: 0px 1px 3px 1px rgba(0, 0, 0, 0.15);\n",
              "      filter: drop-shadow(0px 1px 2px rgba(0, 0, 0, 0.3));\n",
              "      fill: #FFFFFF;\n",
              "    }\n",
              "  </style>\n",
              "\n",
              "      <script>\n",
              "        const buttonEl =\n",
              "          document.querySelector('#df-cf2a8c87-50fb-431b-b877-1b966314719a button.colab-df-convert');\n",
              "        buttonEl.style.display =\n",
              "          google.colab.kernel.accessAllowed ? 'block' : 'none';\n",
              "\n",
              "        async function convertToInteractive(key) {\n",
              "          const element = document.querySelector('#df-cf2a8c87-50fb-431b-b877-1b966314719a');\n",
              "          const dataTable =\n",
              "            await google.colab.kernel.invokeFunction('convertToInteractive',\n",
              "                                                     [key], {});\n",
              "          if (!dataTable) return;\n",
              "\n",
              "          const docLinkHtml = 'Like what you see? Visit the ' +\n",
              "            '<a target=\"_blank\" href=https://colab.research.google.com/notebooks/data_table.ipynb>data table notebook</a>'\n",
              "            + ' to learn more about interactive tables.';\n",
              "          element.innerHTML = '';\n",
              "          dataTable['output_type'] = 'display_data';\n",
              "          await google.colab.output.renderOutput(dataTable, element);\n",
              "          const docLink = document.createElement('div');\n",
              "          docLink.innerHTML = docLinkHtml;\n",
              "          element.appendChild(docLink);\n",
              "        }\n",
              "      </script>\n",
              "    </div>\n",
              "  </div>\n",
              "  "
            ]
          },
          "metadata": {},
          "execution_count": 26
        }
      ]
    },
    {
      "cell_type": "code",
      "source": [
        "#histograma relacionando os estados, o estado de Minas Gerais apresenta maior intensidade no trafego\n",
        "histogramaUF=plt.hist(base['sg_uf'])\n",
        "histogramaUF=plt.title(\"Estados\")\n",
        "histogramaUF=plt.figure( figsize=(50, 48))\n",
        "histogramaUF=plt.gcf().set_size_inches(50, 48)\n",
        "histogramaUF"
      ],
      "metadata": {
        "id": "GkL5pSJvKPrg",
        "colab": {
          "base_uri": "https://localhost:8080/",
          "height": 298
        },
        "outputId": "59d86dd6-d321-4f3f-c094-17621ed3d298"
      },
      "execution_count": null,
      "outputs": [
        {
          "output_type": "display_data",
          "data": {
            "text/plain": [
              "<Figure size 432x288 with 1 Axes>"
            ],
            "image/png": "[encoded data removed]"
          },
          "metadata": {
            "needs_background": "light"
          }
        },
        {
          "output_type": "display_data",
          "data": {
            "text/plain": [
              "<Figure size 3600x3456 with 0 Axes>"
            ]
          },
          "metadata": {}
        }
      ]
    },
    {
      "cell_type": "code",
      "source": [
        "#distplot dos estados\n",
        "#bpUF=srn.distplot(base['vl_km_i_estim']).set_title(\"Estimativa de km's rodados por trecho \")\n",
        "#bpUF"
      ],
      "metadata": {
        "id": "Wkikj1AqIOjw"
      },
      "execution_count": null,
      "outputs": []
    },
    {
      "cell_type": "code",
      "source": [
        "#verificar duplicações nos vl_codigo , ao todo 432 duplicados, ou seja a recorrência em 432 vias\n",
        "duplicados=base.duplicated(['vl_codigo']).sum()\n",
        "duplicados"
      ],
      "metadata": {
        "id": "ax-1iLcI6oTj",
        "colab": {
          "base_uri": "https://localhost:8080/"
        },
        "outputId": "5d786924-b1f9-421d-ccd2-4ed4d056e43e"
      },
      "execution_count": null,
      "outputs": [
        {
          "output_type": "execute_result",
          "data": {
            "text/plain": [
              "432"
            ]
          },
          "metadata": {},
          "execution_count": 6
        }
      ]
    },
    {
      "cell_type": "code",
      "source": [
        "#histograma do tipo do trecho em cada estado, vias de eixo principal são a maioria esmagadora dos tipos analisados,\n",
        "#uma vez que estamos tratando de trafego rodoviário\n",
        "histogramaTipo=plt.hist(base['nm_tipo_tr'])\n",
        "histogramaTipo=plt.title(\"Tipo do trecho por estado\")\n",
        "histogramaTipo=plt.figure( figsize=(50, 48))\n",
        "histogramaTipo=plt.gcf().set_size_inches(50, 48)\n",
        "histogramaTipo"
      ],
      "metadata": {
        "colab": {
          "base_uri": "https://localhost:8080/",
          "height": 298
        },
        "id": "aU10BLIDhzOg",
        "outputId": "57d639d2-1c35-43e8-c8a4-8be27a2c3afc"
      },
      "execution_count": null,
      "outputs": [
        {
          "output_type": "display_data",
          "data": {
            "text/plain": [
              "<Figure size 432x288 with 1 Axes>"
            ],
            "image/png": "[encoded data removed]"
          },
          "metadata": {
            "needs_background": "light"
          }
        },
        {
          "output_type": "display_data",
          "data": {
            "text/plain": [
              "<Figure size 3600x3456 with 0 Axes>"
            ]
          },
          "metadata": {}
        }
      ]
    },
    {
      "cell_type": "code",
      "source": [
        "#na sequencia um boxplot relacionado aos em cada local\n",
        "bpLocais=sns.boxplot(base['id_trecho_']).set_title(\"Boxplot dos locais com maior incidência de trafego \")"
      ],
      "metadata": {
        "colab": {
          "base_uri": "https://localhost:8080/",
          "height": 350
        },
        "id": "plEc39wtjZve",
        "outputId": "2733a69b-04f5-49ba-c73e-1d8d6c6e3f12"
      },
      "execution_count": null,
      "outputs": [
        {
          "output_type": "stream",
          "name": "stderr",
          "text": [
            "/usr/local/lib/python3.8/dist-packages/seaborn/_decorators.py:36: FutureWarning: Pass the following variable as a keyword arg: x. From version 0.12, the only valid positional argument will be `data`, and passing other arguments without an explicit keyword will result in an error or misinterpretation.\n",
            "  warnings.warn(\n"
          ]
        },
        {
          "output_type": "display_data",
          "data": {
            "text/plain": [
              "<Figure size 432x288 with 1 Axes>"
            ],
            "image/png": "[encoded data removed]"
          },
          "metadata": {
            "needs_background": "light"
          }
        }
      ]
    },
    {
      "cell_type": "code",
      "source": [
        "#histograma com linha de distribuição de frequencia por estados:\n",
        "sns.histplot(base.iloc[:,3],kde=False,bins=15,color='green').set_title('Estados')"
      ],
      "metadata": {
        "colab": {
          "base_uri": "https://localhost:8080/",
          "height": 313
        },
        "id": "KRXkqrmKkHzY",
        "outputId": "5e3330a4-a611-451d-93b6-3c2746cec289"
      },
      "execution_count": null,
      "outputs": [
        {
          "output_type": "execute_result",
          "data": {
            "text/plain": [
              "Text(0.5, 1.0, 'Estados')"
            ]
          },
          "metadata": {},
          "execution_count": 27
        },
        {
          "output_type": "display_data",
          "data": {
            "text/plain": [
              "<Figure size 432x288 with 1 Axes>"
            ],
            "image/png": "[encoded data removed]"
          },
          "metadata": {
            "needs_background": "light"
          }
        }
      ]
    },
    {
      "cell_type": "code",
      "source": [
        "\n",
        "sns.histplot(base.iloc[:,4],kde=False,bins=10,color='green').set_title('Vias de trafego')"
      ],
      "metadata": {
        "colab": {
          "base_uri": "https://localhost:8080/",
          "height": 313
        },
        "id": "7s_zt5-3qfmm",
        "outputId": "b57c5acb-a829-4ff5-a2bb-dc82feabc71a"
      },
      "execution_count": null,
      "outputs": [
        {
          "output_type": "execute_result",
          "data": {
            "text/plain": [
              "Text(0.5, 1.0, 'Vias de trafego')"
            ]
          },
          "metadata": {},
          "execution_count": 24
        },
        {
          "output_type": "display_data",
          "data": {
            "text/plain": [
              "<Figure size 432x288 with 1 Axes>"
            ],
            "image/png": "[encoded data removed]"
          },
          "metadata": {
            "needs_background": "light"
          }
        }
      ]
    },
    {
      "cell_type": "code",
      "source": [
        "#regressao linear simples: trecho por via\n",
        "#dia Feb/19, troca das variaveis , id passa a ser indep e trecho indep\n",
        "variavelI=base.iloc[:,0].values\n",
        "variavelT=base.iloc[:,1].values"
      ],
      "metadata": {
        "id": "FVyZ5FSFrpg0"
      },
      "execution_count": null,
      "outputs": []
    },
    {
      "cell_type": "code",
      "source": [
        "#construção da correlacao: 0.68 o que representa uma correlacao minimamente alta\n",
        "correlacao=np.corrcoef(variavelI,variavelT)\n",
        "correlacao"
      ],
      "metadata": {
        "colab": {
          "base_uri": "https://localhost:8080/"
        },
        "id": "Y7TArSDYlH7g",
        "outputId": "a27b5659-ccd3-49a4-96c6-5505c39e0d1a"
      },
      "execution_count": null,
      "outputs": [
        {
          "output_type": "execute_result",
          "data": {
            "text/plain": [
              "array([[1.        , 0.59566664],\n",
              "       [0.59566664, 1.        ]])"
            ]
          },
          "metadata": {},
          "execution_count": 7
        }
      ]
    },
    {
      "cell_type": "code",
      "source": [
        "variavelI= variavelI.reshape(-1,1)#transformando variavel independente(trecho) em matriz de linha única para o modelo de regressao\n",
        "modeloIT=LinearRegression()"
      ],
      "metadata": {
        "id": "AwU5bkGolg3k"
      },
      "execution_count": null,
      "outputs": []
    },
    {
      "cell_type": "code",
      "source": [
        "#ajuste do modelo\n",
        "modeloIT.fit(variavelI,variavelT)"
      ],
      "metadata": {
        "colab": {
          "base_uri": "https://localhost:8080/"
        },
        "id": "bjRZezKEmmTZ",
        "outputId": "241b3367-4ec6-47df-c6dd-d3988ab0f1b3"
      },
      "execution_count": null,
      "outputs": [
        {
          "output_type": "execute_result",
          "data": {
            "text/plain": [
              "LinearRegression()"
            ]
          },
          "metadata": {},
          "execution_count": 10
        }
      ]
    },
    {
      "cell_type": "code",
      "source": [],
      "metadata": {
        "id": "5lZ49_03m8Nc"
      },
      "execution_count": null,
      "outputs": []
    },
    {
      "cell_type": "code",
      "source": [
        "#vizualizar interceptacoes das var's\n",
        "modeloIT.intercept_"
      ],
      "metadata": {
        "colab": {
          "base_uri": "https://localhost:8080/"
        },
        "id": "Ln_TVLIem0kM",
        "outputId": "e30e0f2a-63ae-4442-d28e-b83fa731f9fd"
      },
      "execution_count": null,
      "outputs": [
        {
          "output_type": "execute_result",
          "data": {
            "text/plain": [
              "152455.23156947325"
            ]
          },
          "metadata": {},
          "execution_count": 11
        }
      ]
    },
    {
      "cell_type": "code",
      "source": [
        "#coefcientes, mostrando uma interpretação BAIXA do cenário real , uma vez q obtido foi 38.96%\n",
        "modeloIT.coef_"
      ],
      "metadata": {
        "colab": {
          "base_uri": "https://localhost:8080/"
        },
        "id": "PWxcoCB8nE7u",
        "outputId": "40ada86f-63a5-4167-db81-20a6a511d169"
      },
      "execution_count": null,
      "outputs": [
        {
          "output_type": "execute_result",
          "data": {
            "text/plain": [
              "array([0.63290986])"
            ]
          },
          "metadata": {},
          "execution_count": 12
        }
      ]
    },
    {
      "cell_type": "code",
      "source": [
        "#gráfico, necessita ajustes, tratar outliers , estão inpedindo desenvolvimento do modelo\n",
        "plt.scatter(variavelI,variavelT)\n",
        "plt.plot(variavelI,modeloIT.predict(variavelI),color='yellow')"
      ],
      "metadata": {
        "colab": {
          "base_uri": "https://localhost:8080/",
          "height": 364
        },
        "id": "PzD8vNienW1L",
        "outputId": "b76f9f5e-582b-46aa-a9d6-c7fcbe9b0070"
      },
      "execution_count": null,
      "outputs": [
        {
          "output_type": "execute_result",
          "data": {
            "text/plain": [
              "[<matplotlib.lines.Line2D at 0x7f77f63d5070>]"
            ]
          },
          "metadata": {},
          "execution_count": 13
        },
        {
          "output_type": "display_data",
          "data": {
            "text/plain": [
              "<Figure size 576x396 with 1 Axes>"
            ],
            "image/png": "[encoded data removed]"
          },
          "metadata": {}
        }
      ]
    },
    {
      "cell_type": "code",
      "source": [
        "modeloIT.intercept_ + modeloIT.coef_ *100"
      ],
      "metadata": {
        "colab": {
          "base_uri": "https://localhost:8080/"
        },
        "id": "tuppikmqwrLh",
        "outputId": "48103476-fc27-481a-b179-c67957ab4622"
      },
      "execution_count": null,
      "outputs": [
        {
          "output_type": "execute_result",
          "data": {
            "text/plain": [
              "array([152518.52255557])"
            ]
          },
          "metadata": {},
          "execution_count": 14
        }
      ]
    },
    {
      "cell_type": "code",
      "source": [
        "# Gráfico para visualizar os residuais, residuais apresentam tendencia , o que torna o modelo ruim\n",
        "#além do fato que histograma NÃO apresenta distribuição normal\n",
        "visualizador = ResidualsPlot(modeloIT)\n",
        "visualizador.fit(variavelI,variavelT)\n",
        "visualizador.poof()"
      ],
      "metadata": {
        "colab": {
          "base_uri": "https://localhost:8080/",
          "height": 393
        },
        "id": "rSMLMKd6wLzg",
        "outputId": "8e21845e-fe84-4907-eadd-2c380a3ea964"
      },
      "execution_count": null,
      "outputs": [
        {
          "output_type": "display_data",
          "data": {
            "text/plain": [
              "<Figure size 576x396 with 2 Axes>"
            ],
            "image/png": "[encoded data removed]"
          },
          "metadata": {}
        },
        {
          "output_type": "execute_result",
          "data": {
            "text/plain": [
              "<matplotlib.axes._subplots.AxesSubplot at 0x7f77f63ac7c0>"
            ]
          },
          "metadata": {},
          "execution_count": 15
        }
      ]
    },
    {
      "cell_type": "code",
      "source": [
        "#relacionando estado com a via\n",
        "est=base.iloc[:,0].values\n",
        "via=base.iloc[:,2].values"
      ],
      "metadata": {
        "id": "FI9rLHbi7m1Q"
      },
      "execution_count": 7,
      "outputs": []
    },
    {
      "cell_type": "code",
      "source": [
        "correlacao=np.corrcoef(est,via)"
      ],
      "metadata": {
        "id": "9m_92Pei8ZLC"
      },
      "execution_count": 8,
      "outputs": []
    },
    {
      "cell_type": "code",
      "source": [
        "est=est.reshape(-1,1)"
      ],
      "metadata": {
        "id": "ubLW2-1z81NF"
      },
      "execution_count": 9,
      "outputs": []
    },
    {
      "cell_type": "code",
      "source": [
        "modelo2=LinearRegression()"
      ],
      "metadata": {
        "id": "1ljXURf-9Ij_"
      },
      "execution_count": 10,
      "outputs": []
    },
    {
      "cell_type": "code",
      "source": [
        "modeloAjuste=modelo2.fit(est,via)"
      ],
      "metadata": {
        "id": "GUEwkQS99MiM"
      },
      "execution_count": 12,
      "outputs": []
    },
    {
      "cell_type": "code",
      "source": [
        "modelo2.intercept_"
      ],
      "metadata": {
        "colab": {
          "base_uri": "https://localhost:8080/"
        },
        "id": "ojtcJL639VFx",
        "outputId": "55c08cf7-8e80-453a-a658-2e35d05e148c"
      },
      "execution_count": 13,
      "outputs": [
        {
          "output_type": "execute_result",
          "data": {
            "text/plain": [
              "52.7754482942255"
            ]
          },
          "metadata": {},
          "execution_count": 13
        }
      ]
    },
    {
      "cell_type": "code",
      "source": [
        "modelo2.score(est,via)"
      ],
      "metadata": {
        "colab": {
          "base_uri": "https://localhost:8080/"
        },
        "id": "Odqx1tbk9d7e",
        "outputId": "e9b2170d-42ba-4ae5-80f7-42acaa20882d"
      },
      "execution_count": 14,
      "outputs": [
        {
          "output_type": "execute_result",
          "data": {
            "text/plain": [
              "0.7657398753245945"
            ]
          },
          "metadata": {},
          "execution_count": 14
        }
      ]
    },
    {
      "cell_type": "code",
      "source": [
        "#previsao do novo modelo feito po regressao logistíca\n",
        "previsao=modelo2.predict(est)"
      ],
      "metadata": {
        "id": "Q-otEjuY9knQ"
      },
      "execution_count": 15,
      "outputs": []
    },
    {
      "cell_type": "code",
      "source": [
        "modeloAjuste=sm.ols(formula='est ~ via', data=base)"
      ],
      "metadata": {
        "id": "BP_M1qCu9wrr"
      },
      "execution_count": 18,
      "outputs": []
    },
    {
      "cell_type": "code",
      "source": [
        "#modelo de treino para previsao\n",
        "treino=modeloAjuste.fit()"
      ],
      "metadata": {
        "id": "wv7loVHW-Crt"
      },
      "execution_count": 19,
      "outputs": []
    },
    {
      "cell_type": "code",
      "source": [
        "treino.summary()\n",
        "#sumario dos resultados"
      ],
      "metadata": {
        "colab": {
          "base_uri": "https://localhost:8080/",
          "height": 438
        },
        "id": "ocZdnT0S-e6T",
        "outputId": "403fc694-3a01-4a6b-c565-fa8553140d32"
      },
      "execution_count": 20,
      "outputs": [
        {
          "output_type": "execute_result",
          "data": {
            "text/plain": [
              "<class 'statsmodels.iolib.summary.Summary'>\n",
              "\"\"\"\n",
              "                            OLS Regression Results                            \n",
              "==============================================================================\n",
              "Dep. Variable:                    est   R-squared:                       0.766\n",
              "Model:                            OLS   Adj. R-squared:                  0.766\n",
              "Method:                 Least Squares   F-statistic:                 2.212e+04\n",
              "Date:                Tue, 21 Feb 2023   Prob (F-statistic):               0.00\n",
              "Time:                        21:56:21   Log-Likelihood:                -56864.\n",
              "No. Observations:                6769   AIC:                         1.137e+05\n",
              "Df Residuals:                    6767   BIC:                         1.137e+05\n",
              "Df Model:                           1                                         \n",
              "Covariance Type:            nonrobust                                         \n",
              "==============================================================================\n",
              "                 coef    std err          t      P>|t|      [0.025      0.975]\n",
              "------------------------------------------------------------------------------\n",
              "Intercept    102.8519     27.472      3.744      0.000      48.999     156.705\n",
              "via           14.4526      0.097    148.727      0.000      14.262      14.643\n",
              "==============================================================================\n",
              "Omnibus:                     5982.210   Durbin-Watson:                   1.749\n",
              "Prob(Omnibus):                  0.000   Jarque-Bera (JB):           136316.610\n",
              "Skew:                           4.423   Prob(JB):                         0.00\n",
              "Kurtosis:                      23.127   Cond. No.                         593.\n",
              "==============================================================================\n",
              "\n",
              "Notes:\n",
              "[1] Standard Errors assume that the covariance matrix of the errors is correctly specified.\n",
              "\"\"\""
            ],
            "text/html": [
              "<table class=\"simpletable\">\n",
              "<caption>OLS Regression Results</caption>\n",
              "<tr>\n",
              "  <th>Dep. Variable:</th>           <td>est</td>       <th>  R-squared:         </th> <td>   0.766</td> \n",
              "</tr>\n",
              "<tr>\n",
              "  <th>Model:</th>                   <td>OLS</td>       <th>  Adj. R-squared:    </th> <td>   0.766</td> \n",
              "</tr>\n",
              "<tr>\n",
              "  <th>Method:</th>             <td>Least Squares</td>  <th>  F-statistic:       </th> <td>2.212e+04</td>\n",
              "</tr>\n",
              "<tr>\n",
              "  <th>Date:</th>             <td>Tue, 21 Feb 2023</td> <th>  Prob (F-statistic):</th>  <td>  0.00</td>  \n",
              "</tr>\n",
              "<tr>\n",
              "  <th>Time:</th>                 <td>21:56:21</td>     <th>  Log-Likelihood:    </th> <td> -56864.</td> \n",
              "</tr>\n",
              "<tr>\n",
              "  <th>No. Observations:</th>      <td>  6769</td>      <th>  AIC:               </th> <td>1.137e+05</td>\n",
              "</tr>\n",
              "<tr>\n",
              "  <th>Df Residuals:</th>          <td>  6767</td>      <th>  BIC:               </th> <td>1.137e+05</td>\n",
              "</tr>\n",
              "<tr>\n",
              "  <th>Df Model:</th>              <td>     1</td>      <th>                     </th>     <td> </td>    \n",
              "</tr>\n",
              "<tr>\n",
              "  <th>Covariance Type:</th>      <td>nonrobust</td>    <th>                     </th>     <td> </td>    \n",
              "</tr>\n",
              "</table>\n",
              "<table class=\"simpletable\">\n",
              "<tr>\n",
              "      <td></td>         <th>coef</th>     <th>std err</th>      <th>t</th>      <th>P>|t|</th>  <th>[0.025</th>    <th>0.975]</th>  \n",
              "</tr>\n",
              "<tr>\n",
              "  <th>Intercept</th> <td>  102.8519</td> <td>   27.472</td> <td>    3.744</td> <td> 0.000</td> <td>   48.999</td> <td>  156.705</td>\n",
              "</tr>\n",
              "<tr>\n",
              "  <th>via</th>       <td>   14.4526</td> <td>    0.097</td> <td>  148.727</td> <td> 0.000</td> <td>   14.262</td> <td>   14.643</td>\n",
              "</tr>\n",
              "</table>\n",
              "<table class=\"simpletable\">\n",
              "<tr>\n",
              "  <th>Omnibus:</th>       <td>5982.210</td> <th>  Durbin-Watson:     </th>  <td>   1.749</td> \n",
              "</tr>\n",
              "<tr>\n",
              "  <th>Prob(Omnibus):</th>  <td> 0.000</td>  <th>  Jarque-Bera (JB):  </th> <td>136316.610</td>\n",
              "</tr>\n",
              "<tr>\n",
              "  <th>Skew:</th>           <td> 4.423</td>  <th>  Prob(JB):          </th>  <td>    0.00</td> \n",
              "</tr>\n",
              "<tr>\n",
              "  <th>Kurtosis:</th>       <td>23.127</td>  <th>  Cond. No.          </th>  <td>    593.</td> \n",
              "</tr>\n",
              "</table><br/><br/>Notes:<br/>[1] Standard Errors assume that the covariance matrix of the errors is correctly specified."
            ]
          },
          "metadata": {},
          "execution_count": 20
        }
      ]
    },
    {
      "cell_type": "code",
      "source": [
        "#plotagem do gráfico com resultados\n",
        "plt.scatter(est,via)"
      ],
      "metadata": {
        "colab": {
          "base_uri": "https://localhost:8080/",
          "height": 364
        },
        "id": "iQVehiNj-kIk",
        "outputId": "ffbfc36d-d2f2-4280-ef9e-cc7279226f20"
      },
      "execution_count": 21,
      "outputs": [
        {
          "output_type": "execute_result",
          "data": {
            "text/plain": [
              "<matplotlib.collections.PathCollection at 0x7f5bd06457c0>"
            ]
          },
          "metadata": {},
          "execution_count": 21
        },
        {
          "output_type": "display_data",
          "data": {
            "text/plain": [
              "<Figure size 576x396 with 1 Axes>"
            ],
            "image/png": "[encoded data removed]"
          },
          "metadata": {}
        }
      ]
    },
    {
      "cell_type": "code",
      "source": [
        "#gráfico de previsão, erro no gráfico , corrigir\n",
        "#plt.plot(est,previsao,color='red')"
      ],
      "metadata": {
        "colab": {
          "base_uri": "https://localhost:8080/",
          "height": 364
        },
        "id": "XN0OS14X-yIt",
        "outputId": "d800f344-eec0-452c-e162-65d459afe675"
      },
      "execution_count": 22,
      "outputs": [
        {
          "output_type": "execute_result",
          "data": {
            "text/plain": [
              "[<matplotlib.lines.Line2D at 0x7f5bc7c83730>]"
            ]
          },
          "metadata": {},
          "execution_count": 22
        },
        {
          "output_type": "display_data",
          "data": {
            "text/plain": [
              "<Figure size 576x396 with 1 Axes>"
            ],
            "image/png": "[encoded data removed]"
          },
          "metadata": {}
        }
      ]
    },
    {
      "cell_type": "code",
      "source": [],
      "metadata": {
        "id": "VIw3cc4__H54"
      },
      "execution_count": null,
      "outputs": []
    }
  ]
}