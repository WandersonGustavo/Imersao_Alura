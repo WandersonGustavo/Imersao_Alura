{
  "nbformat": 4,
  "nbformat_minor": 0,
  "metadata": {
    "colab": {
      "provenance": [],
      "authorship_tag": "ABX9TyO5jPfFHC/+lgh674+Vd3sa",
      "include_colab_link": true
    },
    "kernelspec": {
      "name": "python3",
      "display_name": "Python 3"
    },
    "language_info": {
      "name": "python"
    }
  },
  "cells": [
    {
      "cell_type": "markdown",
      "metadata": {
        "id": "view-in-github",
        "colab_type": "text"
      },
      "source": [
        "<a href=\"https://colab.research.google.com/github/WandersonGustavo/Imersao_Alura/blob/main/dataScience.ipynb\" target=\"_parent\"><img src=\"https://colab.research.google.com/assets/colab-badge.svg\" alt=\"Open In Colab\"/></a>"
      ]
    },
    {
      "cell_type": "code",
      "execution_count": null,
      "metadata": {
        "colab": {
          "base_uri": "https://localhost:8080/"
        },
        "id": "5hVx4a6ziB5Z",
        "outputId": "3c871cb8-a5e7-4dba-b1f5-e90a0a7b92cb"
      },
      "outputs": [
        {
          "output_type": "stream",
          "name": "stdout",
          "text": [
            "hello world\n"
          ]
        }
      ],
      "source": [
        "#criando var\n",
        "y = \"hello world\"\n",
        "print(y)"
      ]
    },
    {
      "cell_type": "code",
      "source": [
        "y=20\n",
        "x=2\n",
        "z=(y*x)\n",
        "print(z)\n",
        "xx=\"ola mundo\"\n",
        "#yy=2023\n",
        "zz=\"vai ser iradoooo\"\n",
        "print(xx+zz)"
      ],
      "metadata": {
        "colab": {
          "base_uri": "https://localhost:8080/"
        },
        "id": "jU3vxGWW20TM",
        "outputId": "fdd85626-cce3-437a-955d-bae4c10aead8"
      },
      "execution_count": null,
      "outputs": [
        {
          "output_type": "stream",
          "name": "stdout",
          "text": [
            "40\n",
            "ola mundovai ser iradoooo\n"
          ]
        }
      ]
    },
    {
      "cell_type": "code",
      "source": [
        "print(\"digite\")\n",
        "i=input()\n",
        "print(i)\n",
        "var=input(\"digite valor\")\n",
        "print(var)\n",
        "var1=float(var)\n",
        "print(var1)"
      ],
      "metadata": {
        "colab": {
          "base_uri": "https://localhost:8080/"
        },
        "id": "3qemroiI5CES",
        "outputId": "8f940363-d925-4817-b6ee-d5cd39c28120"
      },
      "execution_count": null,
      "outputs": [
        {
          "output_type": "stream",
          "name": "stdout",
          "text": [
            "digite\n",
            "oi\n",
            "oi\n",
            "digite valor255\n",
            "255\n",
            "255.0\n"
          ]
        }
      ]
    },
    {
      "cell_type": "code",
      "source": [
        "#DECISÃO\n",
        "nota=input()\n",
        "if nota>=7.0:\n",
        "  print(\"Sua nota foi:\",nota,\"APR\")\n",
        "elif nota<7.0 and nota>=5.0:\n",
        "  print(\"Sua nota foi:\",nota,\": DEP\")\n",
        "else:\n",
        "  print(\"Sua nota foi:\",nota,\"REP\")"
      ],
      "metadata": {
        "id": "aH0KwDfh5xo6"
      },
      "execution_count": null,
      "outputs": []
    },
    {
      "cell_type": "code",
      "source": [
        "count =1\n",
        "while count <=5:\n",
        "  print(count)\n",
        "  count+=1\n",
        "print(\"***********************************\")\n",
        "for n in range(2,23):\n",
        "  if(n==16):\n",
        "    continue #pulará o 16, break terminaria no 16\n",
        "  print(n)\n",
        "print(\"##########\")\n",
        "lst2=list(range(1,11))\n",
        "lst=[1,\"ola\",False,[1,2,\"cinco\",True],lst2] #lista guarda varios tipos diferentes\n",
        "print(lst[4])\n",
        "print(\"##########\")\n",
        "#DICIONARIOS & SET\"S\n",
        "notas={\"val1\":5.5,\"var2\":7.5,\"var3\":8.5}\n",
        "print(notas[\"val1\"])#imprimindo valor da chave val1\n",
        "print(\"val1\"in notas)#verificar se existe no dic, será boolean\n",
        "notas[\"val4\"]=9.5 #incluir no dic \n",
        "print(notas.get(\"val4\"))#pegar valor \n",
        "print(\"##############\")\n",
        "#SET \n",
        "bd={\"v\",\"t\",\"u\"}\n",
        "print(len(bd))\n",
        "bd.add(\"r\")\n",
        "print(bd)\n",
        "print(len(bd))\n",
        "#tupla ,USAM () e ñ pode alterar\n",
        "tp=(1,2,35,4)\n",
        "print(type(tp))\n"
      ],
      "metadata": {
        "id": "Akf0UVpc7odV"
      },
      "execution_count": null,
      "outputs": []
    },
    {
      "cell_type": "code",
      "source": [
        "import numpy as np\n",
        "#matriz multiD\n",
        "md=np.array([1,2,3,4])\n",
        "print(md)\n",
        "mdd=np.array([1.5,25.5,3.0,40.8,5.5,6.6,7.85],dtype = np.float64)\n",
        "#convertendo type\n",
        "mdn=mdd.astype(int)#mudando tipo\n",
        "print(mdd)\n",
        "print(mdn)#resultado\n",
        "print(\"############33\")\n",
        "#criando matriz\n",
        "zeros=np.zeros([4,3])\n",
        "print(zeros)\n",
        "diag=np.eye(4)\n",
        "print(diag)#diag principalcom 1\n",
        "print(\"########################\")\n",
        "rand=np.random.random((4,4))#valores aleat\n",
        "print(rand)\n",
        "print(\"########################\")\n",
        "gr=np.random.default_rng(1)#nums aleats padrao, o 1 é a semente\n",
        "print(gr)\n",
        "print(zeros[1][1])#printar valor especifíco\n",
        "print(diag+rand)#soma de matrizs\n",
        "s=rand.transpose\n",
        "s1=rand.transpose\n",
        "print(rand+rand)\n",
        "print(\"###################\")\n",
        "print(rand)"
      ],
      "metadata": {
        "id": "HgGQ4RotDxfX"
      },
      "execution_count": null,
      "outputs": []
    },
    {
      "cell_type": "code",
      "source": [
        "import pandas as pd\n",
        "dados= pd.read_csv(\"Credit.csv\")\n",
        "dados.shape\n",
        "print(\"############3\")\n",
        "print(dados.describe(),\"dados\") #descricao dos dados\n",
        "print(\"##########\")\n",
        "dados.loc[1:4]#filtrar dados,\n",
        "# 2 colchetes e virgula ,vira uma lista de vals\n",
        "dados.loc[[1,3]]"
      ],
      "metadata": {
        "id": "sjTnyeeVUCe6"
      },
      "execution_count": null,
      "outputs": []
    },
    {
      "cell_type": "code",
      "source": [
        "print(\"############3\")\n",
        "#print(dados.tail(10),\"dados finais\")#exibe ultimos 10 registros\n",
        "#[dados[\"purpose\"]==\"radio/tv\"] #selecuiona apenas as colunas iguais por comparacao\n",
        "#dados.loc[dados[\"credit_amount\"]>1800]#filtracao de dados com loc msm principio\n",
        "dadosFiltrados=dados[[\"checking_status\",\"duracao\"]].loc[dados[\"credit_amount\"]>18000]#aq filtra só por 2 param : duration e checking\n",
        "print(dadosFiltrados)\n",
        "s1=pd.Series([2,25,26,23,1,40,50])\n",
        "print(s1)\n",
        "a1=np.array([2,25,41,10,60,39,78,56,45,99,100])\n",
        "s2=pd.Series(a1)\n",
        "print(s2)\n",
        "d4=dados[[\"purpose\"]]#agr é um data frame\n",
        "dados.rename(columns={\"duration\":\"duracao\"},inplace=True)\n",
        "dados.drop(\"duracao\",axis=1)#para excluir só na saída, pra ser definitinivo ,tem q ter o inplace=True\n",
        "print(dados)\n",
        "dados.iloc[0:3,0:5]\n",
        "print(dados)\n",
        "print(\"######################\")\n",
        "dados['duracao'].fillna(0)\n"
      ],
      "metadata": {
        "id": "YGvBKNOdWk3g"
      },
      "execution_count": null,
      "outputs": []
    },
    {
      "cell_type": "code",
      "source": [
        "import statistics as est\n",
        "d=[1,25,36,0,78,45]\n",
        "x=est.mean(d)#cacular media\n",
        "print(x)\n",
        "#primeiros registros\n",
        "print(dados.head(),\"iniciais\")"
      ],
      "metadata": {
        "id": "19w3hWeEWhHd"
      },
      "execution_count": null,
      "outputs": []
    },
    {
      "cell_type": "code",
      "source": [],
      "metadata": {
        "id": "4L4CusB7oDKQ"
      },
      "execution_count": null,
      "outputs": []
    },
    {
      "cell_type": "code",
      "source": [
        "import statistics as est \n",
        "a=1\n",
        "b=11\n",
        "def imprime():\n",
        "  print(\"imprimindo!!!\")\n",
        "imprime()\n",
        "print(\"#################\")\n",
        "def interv(i=1,f=10):\n",
        "  for i in range(i,f+1):\n",
        "    print(i);\n",
        "x=interv(1,10)\n",
        "y=interv(a,b)\n",
        "print(\"################\")\n",
        "def pt(n):\n",
        "  return n*n\n",
        "pt(5)\n",
        "x1=[a,b,pt(5)]\n",
        "x2=est.mean(x1)\n",
        "print(x2)\n",
        "#exercicios: amplitude de uma lista / imprimir uma string na vertical com code de teste da func/ler peso int se for ate 10kg==50r$11 &20==80, >20==ñ aceita"
      ],
      "metadata": {
        "id": "ZGFrit4NoDPK"
      },
      "execution_count": null,
      "outputs": []
    },
    {
      "cell_type": "code",
      "source": [
        "lista=[2,20,25,6,39,14,7,78,98,40,56]\n",
        "x=min(lista)\n",
        "y=max(lista)\n",
        "amp=y-x\n",
        "print(amp)\n",
        "print(\"##############################\")\n",
        "palavra=\"vertical\"\n",
        "l=[]\n",
        "\n",
        "def transposta():\n",
        "  nome=\"vertical\"\n",
        "  cont = '0'\n",
        "  for c in nome:\n",
        "   # c = int(cont)\n",
        "    print(c)\n",
        "    cont += '1'\n",
        "transposta()\n",
        "n=int(input(\"informe o peso\"))\n",
        "def peso():\n",
        "  if(n<=10):\n",
        "    print(\"Preço:\",50,\" R$\")\n",
        "  elif(n>=11 and n<=20):\n",
        "    print(\"Preço:\",80,\" R$\")\n",
        "  else:\n",
        "    print(\"Não permitido\")\n",
        "peso()\n",
        "print(\"##############################\")\n",
        "\n"
      ],
      "metadata": {
        "id": "WUIrsyy9sOCj"
      },
      "execution_count": null,
      "outputs": []
    },
    {
      "cell_type": "code",
      "source": [
        "import pandas as pd\n",
        "import statistics as sts\n",
        "import seaborn as srn\n",
        "\n"
      ],
      "metadata": {
        "id": "K5gt1Kq-8ETi"
      },
      "execution_count": null,
      "outputs": []
    },
    {
      "cell_type": "code",
      "source": [
        "dataset=pd.read_csv(\"Churn.csv\", sep=\";\")\n",
        "dataset.head()\n"
      ],
      "metadata": {
        "colab": {
          "base_uri": "https://localhost:8080/",
          "height": 206
        },
        "id": "kQnGjMreDwEZ",
        "outputId": "0481f4ea-f775-418e-f4b7-55aa62e0bb5c"
      },
      "execution_count": 96,
      "outputs": [
        {
          "output_type": "execute_result",
          "data": {
            "text/plain": [
              "   X0   X1  X2        X3  X4  X4.1        X6  X7  X8  X9         X10  X11\n",
              "0   1  619  RS  Feminino  42     2         0   1   1   1  10134888.0    1\n",
              "1   2  608  SC  Feminino  41     1   8380786   1   0   1  11254258.0    0\n",
              "2   3  502  RS  Feminino  42     8   1596608   3   1   0  11393157.0    1\n",
              "3   4  699  RS  Feminino  39     1         0   2   0   0   9382663.0    0\n",
              "4   5  850  SC  Feminino  43     2  12551082   1   1   1    790841.0    0"
            ],
            "text/html": [
              "\n",
              "  <div id=\"df-097485be-7386-4243-9496-541bcb88f1a5\">\n",
              "    <div class=\"colab-df-container\">\n",
              "      <div>\n",
              "<style scoped>\n",
              "    .dataframe tbody tr th:only-of-type {\n",
              "        vertical-align: middle;\n",
              "    }\n",
              "\n",
              "    .dataframe tbody tr th {\n",
              "        vertical-align: top;\n",
              "    }\n",
              "\n",
              "    .dataframe thead th {\n",
              "        text-align: right;\n",
              "    }\n",
              "</style>\n",
              "<table border=\"1\" class=\"dataframe\">\n",
              "  <thead>\n",
              "    <tr style=\"text-align: right;\">\n",
              "      <th></th>\n",
              "      <th>X0</th>\n",
              "      <th>X1</th>\n",
              "      <th>X2</th>\n",
              "      <th>X3</th>\n",
              "      <th>X4</th>\n",
              "      <th>X4.1</th>\n",
              "      <th>X6</th>\n",
              "      <th>X7</th>\n",
              "      <th>X8</th>\n",
              "      <th>X9</th>\n",
              "      <th>X10</th>\n",
              "      <th>X11</th>\n",
              "    </tr>\n",
              "  </thead>\n",
              "  <tbody>\n",
              "    <tr>\n",
              "      <th>0</th>\n",
              "      <td>1</td>\n",
              "      <td>619</td>\n",
              "      <td>RS</td>\n",
              "      <td>Feminino</td>\n",
              "      <td>42</td>\n",
              "      <td>2</td>\n",
              "      <td>0</td>\n",
              "      <td>1</td>\n",
              "      <td>1</td>\n",
              "      <td>1</td>\n",
              "      <td>10134888.0</td>\n",
              "      <td>1</td>\n",
              "    </tr>\n",
              "    <tr>\n",
              "      <th>1</th>\n",
              "      <td>2</td>\n",
              "      <td>608</td>\n",
              "      <td>SC</td>\n",
              "      <td>Feminino</td>\n",
              "      <td>41</td>\n",
              "      <td>1</td>\n",
              "      <td>8380786</td>\n",
              "      <td>1</td>\n",
              "      <td>0</td>\n",
              "      <td>1</td>\n",
              "      <td>11254258.0</td>\n",
              "      <td>0</td>\n",
              "    </tr>\n",
              "    <tr>\n",
              "      <th>2</th>\n",
              "      <td>3</td>\n",
              "      <td>502</td>\n",
              "      <td>RS</td>\n",
              "      <td>Feminino</td>\n",
              "      <td>42</td>\n",
              "      <td>8</td>\n",
              "      <td>1596608</td>\n",
              "      <td>3</td>\n",
              "      <td>1</td>\n",
              "      <td>0</td>\n",
              "      <td>11393157.0</td>\n",
              "      <td>1</td>\n",
              "    </tr>\n",
              "    <tr>\n",
              "      <th>3</th>\n",
              "      <td>4</td>\n",
              "      <td>699</td>\n",
              "      <td>RS</td>\n",
              "      <td>Feminino</td>\n",
              "      <td>39</td>\n",
              "      <td>1</td>\n",
              "      <td>0</td>\n",
              "      <td>2</td>\n",
              "      <td>0</td>\n",
              "      <td>0</td>\n",
              "      <td>9382663.0</td>\n",
              "      <td>0</td>\n",
              "    </tr>\n",
              "    <tr>\n",
              "      <th>4</th>\n",
              "      <td>5</td>\n",
              "      <td>850</td>\n",
              "      <td>SC</td>\n",
              "      <td>Feminino</td>\n",
              "      <td>43</td>\n",
              "      <td>2</td>\n",
              "      <td>12551082</td>\n",
              "      <td>1</td>\n",
              "      <td>1</td>\n",
              "      <td>1</td>\n",
              "      <td>790841.0</td>\n",
              "      <td>0</td>\n",
              "    </tr>\n",
              "  </tbody>\n",
              "</table>\n",
              "</div>\n",
              "      <button class=\"colab-df-convert\" onclick=\"convertToInteractive('df-097485be-7386-4243-9496-541bcb88f1a5')\"\n",
              "              title=\"Convert this dataframe to an interactive table.\"\n",
              "              style=\"display:none;\">\n",
              "        \n",
              "  <svg xmlns=\"http://www.w3.org/2000/svg\" height=\"24px\"viewBox=\"0 0 24 24\"\n",
              "       width=\"24px\">\n",
              "    <path d=\"M0 0h24v24H0V0z\" fill=\"none\"/>\n",
              "    <path d=\"M18.56 5.44l.94 2.06.94-2.06 2.06-.94-2.06-.94-.94-2.06-.94 2.06-2.06.94zm-11 1L8.5 8.5l.94-2.06 2.06-.94-2.06-.94L8.5 2.5l-.94 2.06-2.06.94zm10 10l.94 2.06.94-2.06 2.06-.94-2.06-.94-.94-2.06-.94 2.06-2.06.94z\"/><path d=\"M17.41 7.96l-1.37-1.37c-.4-.4-.92-.59-1.43-.59-.52 0-1.04.2-1.43.59L10.3 9.45l-7.72 7.72c-.78.78-.78 2.05 0 2.83L4 21.41c.39.39.9.59 1.41.59.51 0 1.02-.2 1.41-.59l7.78-7.78 2.81-2.81c.8-.78.8-2.07 0-2.86zM5.41 20L4 18.59l7.72-7.72 1.47 1.35L5.41 20z\"/>\n",
              "  </svg>\n",
              "      </button>\n",
              "      \n",
              "  <style>\n",
              "    .colab-df-container {\n",
              "      display:flex;\n",
              "      flex-wrap:wrap;\n",
              "      gap: 12px;\n",
              "    }\n",
              "\n",
              "    .colab-df-convert {\n",
              "      background-color: #E8F0FE;\n",
              "      border: none;\n",
              "      border-radius: 50%;\n",
              "      cursor: pointer;\n",
              "      display: none;\n",
              "      fill: #1967D2;\n",
              "      height: 32px;\n",
              "      padding: 0 0 0 0;\n",
              "      width: 32px;\n",
              "    }\n",
              "\n",
              "    .colab-df-convert:hover {\n",
              "      background-color: #E2EBFA;\n",
              "      box-shadow: 0px 1px 2px rgba(60, 64, 67, 0.3), 0px 1px 3px 1px rgba(60, 64, 67, 0.15);\n",
              "      fill: #174EA6;\n",
              "    }\n",
              "\n",
              "    [theme=dark] .colab-df-convert {\n",
              "      background-color: #3B4455;\n",
              "      fill: #D2E3FC;\n",
              "    }\n",
              "\n",
              "    [theme=dark] .colab-df-convert:hover {\n",
              "      background-color: #434B5C;\n",
              "      box-shadow: 0px 1px 3px 1px rgba(0, 0, 0, 0.15);\n",
              "      filter: drop-shadow(0px 1px 2px rgba(0, 0, 0, 0.3));\n",
              "      fill: #FFFFFF;\n",
              "    }\n",
              "  </style>\n",
              "\n",
              "      <script>\n",
              "        const buttonEl =\n",
              "          document.querySelector('#df-097485be-7386-4243-9496-541bcb88f1a5 button.colab-df-convert');\n",
              "        buttonEl.style.display =\n",
              "          google.colab.kernel.accessAllowed ? 'block' : 'none';\n",
              "\n",
              "        async function convertToInteractive(key) {\n",
              "          const element = document.querySelector('#df-097485be-7386-4243-9496-541bcb88f1a5');\n",
              "          const dataTable =\n",
              "            await google.colab.kernel.invokeFunction('convertToInteractive',\n",
              "                                                     [key], {});\n",
              "          if (!dataTable) return;\n",
              "\n",
              "          const docLinkHtml = 'Like what you see? Visit the ' +\n",
              "            '<a target=\"_blank\" href=https://colab.research.google.com/notebooks/data_table.ipynb>data table notebook</a>'\n",
              "            + ' to learn more about interactive tables.';\n",
              "          element.innerHTML = '';\n",
              "          dataTable['output_type'] = 'display_data';\n",
              "          await google.colab.output.renderOutput(dataTable, element);\n",
              "          const docLink = document.createElement('div');\n",
              "          docLink.innerHTML = docLinkHtml;\n",
              "          element.appendChild(docLink);\n",
              "        }\n",
              "      </script>\n",
              "    </div>\n",
              "  </div>\n",
              "  "
            ]
          },
          "metadata": {},
          "execution_count": 96
        }
      ]
    },
    {
      "cell_type": "code",
      "source": [
        "dataset.shape"
      ],
      "metadata": {
        "colab": {
          "base_uri": "https://localhost:8080/"
        },
        "id": "CXUF17kKEpxe",
        "outputId": "2991fd85-5f3a-4181-8856-2ff5faf424ad"
      },
      "execution_count": 97,
      "outputs": [
        {
          "output_type": "execute_result",
          "data": {
            "text/plain": [
              "(999, 12)"
            ]
          },
          "metadata": {},
          "execution_count": 97
        }
      ]
    },
    {
      "cell_type": "code",
      "source": [
        "dataset.columns=[\"Id\",\"Score\",\"Estado\",\"Genero\",\"Idade\",\"Saldo\",\"Patrimonio\",\"Produto\",\"TemCartaoCredito\",\"Ativo\",\"Salario\",\"Saiu\"]\n",
        "dataset.head()"
      ],
      "metadata": {
        "colab": {
          "base_uri": "https://localhost:8080/",
          "height": 206
        },
        "id": "en4wsI6KEuOJ",
        "outputId": "cf35a1ec-69a3-4c42-b4e0-06fbe846c3c2"
      },
      "execution_count": 99,
      "outputs": [
        {
          "output_type": "execute_result",
          "data": {
            "text/plain": [
              "   Id  Score Estado    Genero  Idade  Saldo  Patrimonio  Produto  \\\n",
              "0   1    619     RS  Feminino     42      2           0        1   \n",
              "1   2    608     SC  Feminino     41      1     8380786        1   \n",
              "2   3    502     RS  Feminino     42      8     1596608        3   \n",
              "3   4    699     RS  Feminino     39      1           0        2   \n",
              "4   5    850     SC  Feminino     43      2    12551082        1   \n",
              "\n",
              "   TemCartaoCredito  Ativo     Salario  Saiu  \n",
              "0                 1      1  10134888.0     1  \n",
              "1                 0      1  11254258.0     0  \n",
              "2                 1      0  11393157.0     1  \n",
              "3                 0      0   9382663.0     0  \n",
              "4                 1      1    790841.0     0  "
            ],
            "text/html": [
              "\n",
              "  <div id=\"df-f89e383b-f0a8-4ff4-acf3-3fa7e3c50b6a\">\n",
              "    <div class=\"colab-df-container\">\n",
              "      <div>\n",
              "<style scoped>\n",
              "    .dataframe tbody tr th:only-of-type {\n",
              "        vertical-align: middle;\n",
              "    }\n",
              "\n",
              "    .dataframe tbody tr th {\n",
              "        vertical-align: top;\n",
              "    }\n",
              "\n",
              "    .dataframe thead th {\n",
              "        text-align: right;\n",
              "    }\n",
              "</style>\n",
              "<table border=\"1\" class=\"dataframe\">\n",
              "  <thead>\n",
              "    <tr style=\"text-align: right;\">\n",
              "      <th></th>\n",
              "      <th>Id</th>\n",
              "      <th>Score</th>\n",
              "      <th>Estado</th>\n",
              "      <th>Genero</th>\n",
              "      <th>Idade</th>\n",
              "      <th>Saldo</th>\n",
              "      <th>Patrimonio</th>\n",
              "      <th>Produto</th>\n",
              "      <th>TemCartaoCredito</th>\n",
              "      <th>Ativo</th>\n",
              "      <th>Salario</th>\n",
              "      <th>Saiu</th>\n",
              "    </tr>\n",
              "  </thead>\n",
              "  <tbody>\n",
              "    <tr>\n",
              "      <th>0</th>\n",
              "      <td>1</td>\n",
              "      <td>619</td>\n",
              "      <td>RS</td>\n",
              "      <td>Feminino</td>\n",
              "      <td>42</td>\n",
              "      <td>2</td>\n",
              "      <td>0</td>\n",
              "      <td>1</td>\n",
              "      <td>1</td>\n",
              "      <td>1</td>\n",
              "      <td>10134888.0</td>\n",
              "      <td>1</td>\n",
              "    </tr>\n",
              "    <tr>\n",
              "      <th>1</th>\n",
              "      <td>2</td>\n",
              "      <td>608</td>\n",
              "      <td>SC</td>\n",
              "      <td>Feminino</td>\n",
              "      <td>41</td>\n",
              "      <td>1</td>\n",
              "      <td>8380786</td>\n",
              "      <td>1</td>\n",
              "      <td>0</td>\n",
              "      <td>1</td>\n",
              "      <td>11254258.0</td>\n",
              "      <td>0</td>\n",
              "    </tr>\n",
              "    <tr>\n",
              "      <th>2</th>\n",
              "      <td>3</td>\n",
              "      <td>502</td>\n",
              "      <td>RS</td>\n",
              "      <td>Feminino</td>\n",
              "      <td>42</td>\n",
              "      <td>8</td>\n",
              "      <td>1596608</td>\n",
              "      <td>3</td>\n",
              "      <td>1</td>\n",
              "      <td>0</td>\n",
              "      <td>11393157.0</td>\n",
              "      <td>1</td>\n",
              "    </tr>\n",
              "    <tr>\n",
              "      <th>3</th>\n",
              "      <td>4</td>\n",
              "      <td>699</td>\n",
              "      <td>RS</td>\n",
              "      <td>Feminino</td>\n",
              "      <td>39</td>\n",
              "      <td>1</td>\n",
              "      <td>0</td>\n",
              "      <td>2</td>\n",
              "      <td>0</td>\n",
              "      <td>0</td>\n",
              "      <td>9382663.0</td>\n",
              "      <td>0</td>\n",
              "    </tr>\n",
              "    <tr>\n",
              "      <th>4</th>\n",
              "      <td>5</td>\n",
              "      <td>850</td>\n",
              "      <td>SC</td>\n",
              "      <td>Feminino</td>\n",
              "      <td>43</td>\n",
              "      <td>2</td>\n",
              "      <td>12551082</td>\n",
              "      <td>1</td>\n",
              "      <td>1</td>\n",
              "      <td>1</td>\n",
              "      <td>790841.0</td>\n",
              "      <td>0</td>\n",
              "    </tr>\n",
              "  </tbody>\n",
              "</table>\n",
              "</div>\n",
              "      <button class=\"colab-df-convert\" onclick=\"convertToInteractive('df-f89e383b-f0a8-4ff4-acf3-3fa7e3c50b6a')\"\n",
              "              title=\"Convert this dataframe to an interactive table.\"\n",
              "              style=\"display:none;\">\n",
              "        \n",
              "  <svg xmlns=\"http://www.w3.org/2000/svg\" height=\"24px\"viewBox=\"0 0 24 24\"\n",
              "       width=\"24px\">\n",
              "    <path d=\"M0 0h24v24H0V0z\" fill=\"none\"/>\n",
              "    <path d=\"M18.56 5.44l.94 2.06.94-2.06 2.06-.94-2.06-.94-.94-2.06-.94 2.06-2.06.94zm-11 1L8.5 8.5l.94-2.06 2.06-.94-2.06-.94L8.5 2.5l-.94 2.06-2.06.94zm10 10l.94 2.06.94-2.06 2.06-.94-2.06-.94-.94-2.06-.94 2.06-2.06.94z\"/><path d=\"M17.41 7.96l-1.37-1.37c-.4-.4-.92-.59-1.43-.59-.52 0-1.04.2-1.43.59L10.3 9.45l-7.72 7.72c-.78.78-.78 2.05 0 2.83L4 21.41c.39.39.9.59 1.41.59.51 0 1.02-.2 1.41-.59l7.78-7.78 2.81-2.81c.8-.78.8-2.07 0-2.86zM5.41 20L4 18.59l7.72-7.72 1.47 1.35L5.41 20z\"/>\n",
              "  </svg>\n",
              "      </button>\n",
              "      \n",
              "  <style>\n",
              "    .colab-df-container {\n",
              "      display:flex;\n",
              "      flex-wrap:wrap;\n",
              "      gap: 12px;\n",
              "    }\n",
              "\n",
              "    .colab-df-convert {\n",
              "      background-color: #E8F0FE;\n",
              "      border: none;\n",
              "      border-radius: 50%;\n",
              "      cursor: pointer;\n",
              "      display: none;\n",
              "      fill: #1967D2;\n",
              "      height: 32px;\n",
              "      padding: 0 0 0 0;\n",
              "      width: 32px;\n",
              "    }\n",
              "\n",
              "    .colab-df-convert:hover {\n",
              "      background-color: #E2EBFA;\n",
              "      box-shadow: 0px 1px 2px rgba(60, 64, 67, 0.3), 0px 1px 3px 1px rgba(60, 64, 67, 0.15);\n",
              "      fill: #174EA6;\n",
              "    }\n",
              "\n",
              "    [theme=dark] .colab-df-convert {\n",
              "      background-color: #3B4455;\n",
              "      fill: #D2E3FC;\n",
              "    }\n",
              "\n",
              "    [theme=dark] .colab-df-convert:hover {\n",
              "      background-color: #434B5C;\n",
              "      box-shadow: 0px 1px 3px 1px rgba(0, 0, 0, 0.15);\n",
              "      filter: drop-shadow(0px 1px 2px rgba(0, 0, 0, 0.3));\n",
              "      fill: #FFFFFF;\n",
              "    }\n",
              "  </style>\n",
              "\n",
              "      <script>\n",
              "        const buttonEl =\n",
              "          document.querySelector('#df-f89e383b-f0a8-4ff4-acf3-3fa7e3c50b6a button.colab-df-convert');\n",
              "        buttonEl.style.display =\n",
              "          google.colab.kernel.accessAllowed ? 'block' : 'none';\n",
              "\n",
              "        async function convertToInteractive(key) {\n",
              "          const element = document.querySelector('#df-f89e383b-f0a8-4ff4-acf3-3fa7e3c50b6a');\n",
              "          const dataTable =\n",
              "            await google.colab.kernel.invokeFunction('convertToInteractive',\n",
              "                                                     [key], {});\n",
              "          if (!dataTable) return;\n",
              "\n",
              "          const docLinkHtml = 'Like what you see? Visit the ' +\n",
              "            '<a target=\"_blank\" href=https://colab.research.google.com/notebooks/data_table.ipynb>data table notebook</a>'\n",
              "            + ' to learn more about interactive tables.';\n",
              "          element.innerHTML = '';\n",
              "          dataTable['output_type'] = 'display_data';\n",
              "          await google.colab.output.renderOutput(dataTable, element);\n",
              "          const docLink = document.createElement('div');\n",
              "          docLink.innerHTML = docLinkHtml;\n",
              "          element.appendChild(docLink);\n",
              "        }\n",
              "      </script>\n",
              "    </div>\n",
              "  </div>\n",
              "  "
            ]
          },
          "metadata": {},
          "execution_count": 99
        }
      ]
    }
  ]
}