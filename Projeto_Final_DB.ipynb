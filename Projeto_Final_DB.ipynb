{
  "nbformat": 4,
  "nbformat_minor": 0,
  "metadata": {
    "colab": {
      "provenance": [],
      "authorship_tag": "ABX9TyP2aZuXXw8FNxIi/2PuKh1F",
      "include_colab_link": true
    },
    "kernelspec": {
      "name": "python3",
      "display_name": "Python 3"
    },
    "language_info": {
      "name": "python"
    }
  },
  "cells": [
    {
      "cell_type": "markdown",
      "metadata": {
        "id": "view-in-github",
        "colab_type": "text"
      },
      "source": [
        "<a href=\"https://colab.research.google.com/github/WandersonGustavo/Imersao_Alura/blob/main/Projeto_Final_DB.ipynb\" target=\"_parent\"><img src=\"https://colab.research.google.com/assets/colab-badge.svg\" alt=\"Open In Colab\"/></a>"
      ]
    },
    {
      "cell_type": "code",
      "execution_count": null,
      "metadata": {
        "id": "ca-ROs43KbdK"
      },
      "outputs": [],
      "source": [
        "#Projeto final :objetivo tratar e modelar  base de dados de um db postgres de uma empresa a fim de prever inadimplência dos clientes e reduzir de 35 para 20%"
      ]
    },
    {
      "cell_type": "code",
      "source": [
        "import pandas as pd \n",
        "import numpy as np\n",
        "import matplotlib.pyplot as plt\n",
        "from scipy import stats\n",
        "from sklearn.linear_model import LinearRegression\n",
        "from datetime import datetime\n",
        "import seaborn as srn\n",
        "import statistics as sts\n",
        "#registro de converters para uso do matplotlib\n",
        "from pandas.plotting import register_matplotlib_converters\n",
        "register_matplotlib_converters()\n",
        "from sklearn.cluster import KMeans\n",
        "from sklearn.metrics import confusion_matrix"
      ],
      "metadata": {
        "id": "s0vorIQdLGWM"
      },
      "execution_count": null,
      "outputs": []
    },
    {
      "cell_type": "code",
      "source": [
        "#import psycopg2"
      ],
      "metadata": {
        "id": "CUSA9DffM2kO"
      },
      "execution_count": null,
      "outputs": []
    },
    {
      "cell_type": "code",
      "source": [
        "base=pd.read_csv('Credit.csv')\n",
        "base"
      ],
      "metadata": {
        "colab": {
          "base_uri": "https://localhost:8080/",
          "height": 609
        },
        "id": "wARTiEQiV0wM",
        "outputId": "70c6ba7d-405f-470b-e43b-c594e8627413"
      },
      "execution_count": null,
      "outputs": [
        {
          "output_type": "execute_result",
          "data": {
            "text/plain": [
              "    checking_status  duration                    credit_history  \\\n",
              "0                <0         6  'critical/other existing credit'   \n",
              "1          0<=X<200        48                   'existing paid'   \n",
              "2     'no checking'        12  'critical/other existing credit'   \n",
              "3                <0        42                   'existing paid'   \n",
              "4                <0        24              'delayed previously'   \n",
              "..              ...       ...                               ...   \n",
              "995   'no checking'        12                   'existing paid'   \n",
              "996              <0        30                   'existing paid'   \n",
              "997   'no checking'        12                   'existing paid'   \n",
              "998              <0        45                   'existing paid'   \n",
              "999        0<=X<200        45  'critical/other existing credit'   \n",
              "\n",
              "                 purpose  credit_amount      savings_status  employment  \\\n",
              "0               radio/tv           1169  'no known savings'         >=7   \n",
              "1               radio/tv           5951                <100      1<=X<4   \n",
              "2              education           2096                <100      4<=X<7   \n",
              "3    furniture/equipment           7882                <100      4<=X<7   \n",
              "4              'new car'           4870                <100      1<=X<4   \n",
              "..                   ...            ...                 ...         ...   \n",
              "995  furniture/equipment           1736                <100      4<=X<7   \n",
              "996           'used car'           3857                <100      1<=X<4   \n",
              "997             radio/tv            804                <100         >=7   \n",
              "998             radio/tv           1845                <100      1<=X<4   \n",
              "999           'used car'           4576          100<=X<500  unemployed   \n",
              "\n",
              "     installment_commitment       personal_status other_parties  ...  \\\n",
              "0                         4         'male single'          none  ...   \n",
              "1                         2  'female div/dep/mar'          none  ...   \n",
              "2                         2         'male single'          none  ...   \n",
              "3                         2         'male single'     guarantor  ...   \n",
              "4                         3         'male single'          none  ...   \n",
              "..                      ...                   ...           ...  ...   \n",
              "995                       3  'female div/dep/mar'          none  ...   \n",
              "996                       4        'male div/sep'          none  ...   \n",
              "997                       4         'male single'          none  ...   \n",
              "998                       4         'male single'          none  ...   \n",
              "999                       3         'male single'          none  ...   \n",
              "\n",
              "      property_magnitude age  other_payment_plans     housing  \\\n",
              "0          'real estate'  67                 none         own   \n",
              "1          'real estate'  22                 none         own   \n",
              "2          'real estate'  49                 none         own   \n",
              "3       'life insurance'  45                 none  'for free'   \n",
              "4    'no known property'  53                 none  'for free'   \n",
              "..                   ...  ..                  ...         ...   \n",
              "995        'real estate'  31                 none         own   \n",
              "996     'life insurance'  40                 none         own   \n",
              "997                  car  38                 none         own   \n",
              "998  'no known property'  23                 none  'for free'   \n",
              "999                  car  27                 none         own   \n",
              "\n",
              "    existing_credits                          job num_dependents  \\\n",
              "0                  2                      skilled              1   \n",
              "1                  1                      skilled              1   \n",
              "2                  1         'unskilled resident'              2   \n",
              "3                  1                      skilled              2   \n",
              "4                  2                      skilled              2   \n",
              "..               ...                          ...            ...   \n",
              "995                1         'unskilled resident'              1   \n",
              "996                1  'high qualif/self emp/mgmt'              1   \n",
              "997                1                      skilled              1   \n",
              "998                1                      skilled              1   \n",
              "999                1                      skilled              1   \n",
              "\n",
              "     own_telephone foreign_worker class  \n",
              "0              yes            yes  good  \n",
              "1             none            yes   bad  \n",
              "2             none            yes  good  \n",
              "3             none            yes  good  \n",
              "4             none            yes   bad  \n",
              "..             ...            ...   ...  \n",
              "995           none            yes  good  \n",
              "996            yes            yes  good  \n",
              "997           none            yes  good  \n",
              "998            yes            yes   bad  \n",
              "999           none            yes  good  \n",
              "\n",
              "[1000 rows x 21 columns]"
            ],
            "text/html": [
              "\n",
              "  <div id=\"df-0a73bc32-4cb2-4e82-86d0-5b7350fb47dd\">\n",
              "    <div class=\"colab-df-container\">\n",
              "      <div>\n",
              "<style scoped>\n",
              "    .dataframe tbody tr th:only-of-type {\n",
              "        vertical-align: middle;\n",
              "    }\n",
              "\n",
              "    .dataframe tbody tr th {\n",
              "        vertical-align: top;\n",
              "    }\n",
              "\n",
              "    .dataframe thead th {\n",
              "        text-align: right;\n",
              "    }\n",
              "</style>\n",
              "<table border=\"1\" class=\"dataframe\">\n",
              "  <thead>\n",
              "    <tr style=\"text-align: right;\">\n",
              "      <th></th>\n",
              "      <th>checking_status</th>\n",
              "      <th>duration</th>\n",
              "      <th>credit_history</th>\n",
              "      <th>purpose</th>\n",
              "      <th>credit_amount</th>\n",
              "      <th>savings_status</th>\n",
              "      <th>employment</th>\n",
              "      <th>installment_commitment</th>\n",
              "      <th>personal_status</th>\n",
              "      <th>other_parties</th>\n",
              "      <th>...</th>\n",
              "      <th>property_magnitude</th>\n",
              "      <th>age</th>\n",
              "      <th>other_payment_plans</th>\n",
              "      <th>housing</th>\n",
              "      <th>existing_credits</th>\n",
              "      <th>job</th>\n",
              "      <th>num_dependents</th>\n",
              "      <th>own_telephone</th>\n",
              "      <th>foreign_worker</th>\n",
              "      <th>class</th>\n",
              "    </tr>\n",
              "  </thead>\n",
              "  <tbody>\n",
              "    <tr>\n",
              "      <th>0</th>\n",
              "      <td>&lt;0</td>\n",
              "      <td>6</td>\n",
              "      <td>'critical/other existing credit'</td>\n",
              "      <td>radio/tv</td>\n",
              "      <td>1169</td>\n",
              "      <td>'no known savings'</td>\n",
              "      <td>&gt;=7</td>\n",
              "      <td>4</td>\n",
              "      <td>'male single'</td>\n",
              "      <td>none</td>\n",
              "      <td>...</td>\n",
              "      <td>'real estate'</td>\n",
              "      <td>67</td>\n",
              "      <td>none</td>\n",
              "      <td>own</td>\n",
              "      <td>2</td>\n",
              "      <td>skilled</td>\n",
              "      <td>1</td>\n",
              "      <td>yes</td>\n",
              "      <td>yes</td>\n",
              "      <td>good</td>\n",
              "    </tr>\n",
              "    <tr>\n",
              "      <th>1</th>\n",
              "      <td>0&lt;=X&lt;200</td>\n",
              "      <td>48</td>\n",
              "      <td>'existing paid'</td>\n",
              "      <td>radio/tv</td>\n",
              "      <td>5951</td>\n",
              "      <td>&lt;100</td>\n",
              "      <td>1&lt;=X&lt;4</td>\n",
              "      <td>2</td>\n",
              "      <td>'female div/dep/mar'</td>\n",
              "      <td>none</td>\n",
              "      <td>...</td>\n",
              "      <td>'real estate'</td>\n",
              "      <td>22</td>\n",
              "      <td>none</td>\n",
              "      <td>own</td>\n",
              "      <td>1</td>\n",
              "      <td>skilled</td>\n",
              "      <td>1</td>\n",
              "      <td>none</td>\n",
              "      <td>yes</td>\n",
              "      <td>bad</td>\n",
              "    </tr>\n",
              "    <tr>\n",
              "      <th>2</th>\n",
              "      <td>'no checking'</td>\n",
              "      <td>12</td>\n",
              "      <td>'critical/other existing credit'</td>\n",
              "      <td>education</td>\n",
              "      <td>2096</td>\n",
              "      <td>&lt;100</td>\n",
              "      <td>4&lt;=X&lt;7</td>\n",
              "      <td>2</td>\n",
              "      <td>'male single'</td>\n",
              "      <td>none</td>\n",
              "      <td>...</td>\n",
              "      <td>'real estate'</td>\n",
              "      <td>49</td>\n",
              "      <td>none</td>\n",
              "      <td>own</td>\n",
              "      <td>1</td>\n",
              "      <td>'unskilled resident'</td>\n",
              "      <td>2</td>\n",
              "      <td>none</td>\n",
              "      <td>yes</td>\n",
              "      <td>good</td>\n",
              "    </tr>\n",
              "    <tr>\n",
              "      <th>3</th>\n",
              "      <td>&lt;0</td>\n",
              "      <td>42</td>\n",
              "      <td>'existing paid'</td>\n",
              "      <td>furniture/equipment</td>\n",
              "      <td>7882</td>\n",
              "      <td>&lt;100</td>\n",
              "      <td>4&lt;=X&lt;7</td>\n",
              "      <td>2</td>\n",
              "      <td>'male single'</td>\n",
              "      <td>guarantor</td>\n",
              "      <td>...</td>\n",
              "      <td>'life insurance'</td>\n",
              "      <td>45</td>\n",
              "      <td>none</td>\n",
              "      <td>'for free'</td>\n",
              "      <td>1</td>\n",
              "      <td>skilled</td>\n",
              "      <td>2</td>\n",
              "      <td>none</td>\n",
              "      <td>yes</td>\n",
              "      <td>good</td>\n",
              "    </tr>\n",
              "    <tr>\n",
              "      <th>4</th>\n",
              "      <td>&lt;0</td>\n",
              "      <td>24</td>\n",
              "      <td>'delayed previously'</td>\n",
              "      <td>'new car'</td>\n",
              "      <td>4870</td>\n",
              "      <td>&lt;100</td>\n",
              "      <td>1&lt;=X&lt;4</td>\n",
              "      <td>3</td>\n",
              "      <td>'male single'</td>\n",
              "      <td>none</td>\n",
              "      <td>...</td>\n",
              "      <td>'no known property'</td>\n",
              "      <td>53</td>\n",
              "      <td>none</td>\n",
              "      <td>'for free'</td>\n",
              "      <td>2</td>\n",
              "      <td>skilled</td>\n",
              "      <td>2</td>\n",
              "      <td>none</td>\n",
              "      <td>yes</td>\n",
              "      <td>bad</td>\n",
              "    </tr>\n",
              "    <tr>\n",
              "      <th>...</th>\n",
              "      <td>...</td>\n",
              "      <td>...</td>\n",
              "      <td>...</td>\n",
              "      <td>...</td>\n",
              "      <td>...</td>\n",
              "      <td>...</td>\n",
              "      <td>...</td>\n",
              "      <td>...</td>\n",
              "      <td>...</td>\n",
              "      <td>...</td>\n",
              "      <td>...</td>\n",
              "      <td>...</td>\n",
              "      <td>...</td>\n",
              "      <td>...</td>\n",
              "      <td>...</td>\n",
              "      <td>...</td>\n",
              "      <td>...</td>\n",
              "      <td>...</td>\n",
              "      <td>...</td>\n",
              "      <td>...</td>\n",
              "      <td>...</td>\n",
              "    </tr>\n",
              "    <tr>\n",
              "      <th>995</th>\n",
              "      <td>'no checking'</td>\n",
              "      <td>12</td>\n",
              "      <td>'existing paid'</td>\n",
              "      <td>furniture/equipment</td>\n",
              "      <td>1736</td>\n",
              "      <td>&lt;100</td>\n",
              "      <td>4&lt;=X&lt;7</td>\n",
              "      <td>3</td>\n",
              "      <td>'female div/dep/mar'</td>\n",
              "      <td>none</td>\n",
              "      <td>...</td>\n",
              "      <td>'real estate'</td>\n",
              "      <td>31</td>\n",
              "      <td>none</td>\n",
              "      <td>own</td>\n",
              "      <td>1</td>\n",
              "      <td>'unskilled resident'</td>\n",
              "      <td>1</td>\n",
              "      <td>none</td>\n",
              "      <td>yes</td>\n",
              "      <td>good</td>\n",
              "    </tr>\n",
              "    <tr>\n",
              "      <th>996</th>\n",
              "      <td>&lt;0</td>\n",
              "      <td>30</td>\n",
              "      <td>'existing paid'</td>\n",
              "      <td>'used car'</td>\n",
              "      <td>3857</td>\n",
              "      <td>&lt;100</td>\n",
              "      <td>1&lt;=X&lt;4</td>\n",
              "      <td>4</td>\n",
              "      <td>'male div/sep'</td>\n",
              "      <td>none</td>\n",
              "      <td>...</td>\n",
              "      <td>'life insurance'</td>\n",
              "      <td>40</td>\n",
              "      <td>none</td>\n",
              "      <td>own</td>\n",
              "      <td>1</td>\n",
              "      <td>'high qualif/self emp/mgmt'</td>\n",
              "      <td>1</td>\n",
              "      <td>yes</td>\n",
              "      <td>yes</td>\n",
              "      <td>good</td>\n",
              "    </tr>\n",
              "    <tr>\n",
              "      <th>997</th>\n",
              "      <td>'no checking'</td>\n",
              "      <td>12</td>\n",
              "      <td>'existing paid'</td>\n",
              "      <td>radio/tv</td>\n",
              "      <td>804</td>\n",
              "      <td>&lt;100</td>\n",
              "      <td>&gt;=7</td>\n",
              "      <td>4</td>\n",
              "      <td>'male single'</td>\n",
              "      <td>none</td>\n",
              "      <td>...</td>\n",
              "      <td>car</td>\n",
              "      <td>38</td>\n",
              "      <td>none</td>\n",
              "      <td>own</td>\n",
              "      <td>1</td>\n",
              "      <td>skilled</td>\n",
              "      <td>1</td>\n",
              "      <td>none</td>\n",
              "      <td>yes</td>\n",
              "      <td>good</td>\n",
              "    </tr>\n",
              "    <tr>\n",
              "      <th>998</th>\n",
              "      <td>&lt;0</td>\n",
              "      <td>45</td>\n",
              "      <td>'existing paid'</td>\n",
              "      <td>radio/tv</td>\n",
              "      <td>1845</td>\n",
              "      <td>&lt;100</td>\n",
              "      <td>1&lt;=X&lt;4</td>\n",
              "      <td>4</td>\n",
              "      <td>'male single'</td>\n",
              "      <td>none</td>\n",
              "      <td>...</td>\n",
              "      <td>'no known property'</td>\n",
              "      <td>23</td>\n",
              "      <td>none</td>\n",
              "      <td>'for free'</td>\n",
              "      <td>1</td>\n",
              "      <td>skilled</td>\n",
              "      <td>1</td>\n",
              "      <td>yes</td>\n",
              "      <td>yes</td>\n",
              "      <td>bad</td>\n",
              "    </tr>\n",
              "    <tr>\n",
              "      <th>999</th>\n",
              "      <td>0&lt;=X&lt;200</td>\n",
              "      <td>45</td>\n",
              "      <td>'critical/other existing credit'</td>\n",
              "      <td>'used car'</td>\n",
              "      <td>4576</td>\n",
              "      <td>100&lt;=X&lt;500</td>\n",
              "      <td>unemployed</td>\n",
              "      <td>3</td>\n",
              "      <td>'male single'</td>\n",
              "      <td>none</td>\n",
              "      <td>...</td>\n",
              "      <td>car</td>\n",
              "      <td>27</td>\n",
              "      <td>none</td>\n",
              "      <td>own</td>\n",
              "      <td>1</td>\n",
              "      <td>skilled</td>\n",
              "      <td>1</td>\n",
              "      <td>none</td>\n",
              "      <td>yes</td>\n",
              "      <td>good</td>\n",
              "    </tr>\n",
              "  </tbody>\n",
              "</table>\n",
              "<p>1000 rows × 21 columns</p>\n",
              "</div>\n",
              "      <button class=\"colab-df-convert\" onclick=\"convertToInteractive('df-0a73bc32-4cb2-4e82-86d0-5b7350fb47dd')\"\n",
              "              title=\"Convert this dataframe to an interactive table.\"\n",
              "              style=\"display:none;\">\n",
              "        \n",
              "  <svg xmlns=\"http://www.w3.org/2000/svg\" height=\"24px\"viewBox=\"0 0 24 24\"\n",
              "       width=\"24px\">\n",
              "    <path d=\"M0 0h24v24H0V0z\" fill=\"none\"/>\n",
              "    <path d=\"M18.56 5.44l.94 2.06.94-2.06 2.06-.94-2.06-.94-.94-2.06-.94 2.06-2.06.94zm-11 1L8.5 8.5l.94-2.06 2.06-.94-2.06-.94L8.5 2.5l-.94 2.06-2.06.94zm10 10l.94 2.06.94-2.06 2.06-.94-2.06-.94-.94-2.06-.94 2.06-2.06.94z\"/><path d=\"M17.41 7.96l-1.37-1.37c-.4-.4-.92-.59-1.43-.59-.52 0-1.04.2-1.43.59L10.3 9.45l-7.72 7.72c-.78.78-.78 2.05 0 2.83L4 21.41c.39.39.9.59 1.41.59.51 0 1.02-.2 1.41-.59l7.78-7.78 2.81-2.81c.8-.78.8-2.07 0-2.86zM5.41 20L4 18.59l7.72-7.72 1.47 1.35L5.41 20z\"/>\n",
              "  </svg>\n",
              "      </button>\n",
              "      \n",
              "  <style>\n",
              "    .colab-df-container {\n",
              "      display:flex;\n",
              "      flex-wrap:wrap;\n",
              "      gap: 12px;\n",
              "    }\n",
              "\n",
              "    .colab-df-convert {\n",
              "      background-color: #E8F0FE;\n",
              "      border: none;\n",
              "      border-radius: 50%;\n",
              "      cursor: pointer;\n",
              "      display: none;\n",
              "      fill: #1967D2;\n",
              "      height: 32px;\n",
              "      padding: 0 0 0 0;\n",
              "      width: 32px;\n",
              "    }\n",
              "\n",
              "    .colab-df-convert:hover {\n",
              "      background-color: #E2EBFA;\n",
              "      box-shadow: 0px 1px 2px rgba(60, 64, 67, 0.3), 0px 1px 3px 1px rgba(60, 64, 67, 0.15);\n",
              "      fill: #174EA6;\n",
              "    }\n",
              "\n",
              "    [theme=dark] .colab-df-convert {\n",
              "      background-color: #3B4455;\n",
              "      fill: #D2E3FC;\n",
              "    }\n",
              "\n",
              "    [theme=dark] .colab-df-convert:hover {\n",
              "      background-color: #434B5C;\n",
              "      box-shadow: 0px 1px 3px 1px rgba(0, 0, 0, 0.15);\n",
              "      filter: drop-shadow(0px 1px 2px rgba(0, 0, 0, 0.3));\n",
              "      fill: #FFFFFF;\n",
              "    }\n",
              "  </style>\n",
              "\n",
              "      <script>\n",
              "        const buttonEl =\n",
              "          document.querySelector('#df-0a73bc32-4cb2-4e82-86d0-5b7350fb47dd button.colab-df-convert');\n",
              "        buttonEl.style.display =\n",
              "          google.colab.kernel.accessAllowed ? 'block' : 'none';\n",
              "\n",
              "        async function convertToInteractive(key) {\n",
              "          const element = document.querySelector('#df-0a73bc32-4cb2-4e82-86d0-5b7350fb47dd');\n",
              "          const dataTable =\n",
              "            await google.colab.kernel.invokeFunction('convertToInteractive',\n",
              "                                                     [key], {});\n",
              "          if (!dataTable) return;\n",
              "\n",
              "          const docLinkHtml = 'Like what you see? Visit the ' +\n",
              "            '<a target=\"_blank\" href=https://colab.research.google.com/notebooks/data_table.ipynb>data table notebook</a>'\n",
              "            + ' to learn more about interactive tables.';\n",
              "          element.innerHTML = '';\n",
              "          dataTable['output_type'] = 'display_data';\n",
              "          await google.colab.output.renderOutput(dataTable, element);\n",
              "          const docLink = document.createElement('div');\n",
              "          docLink.innerHTML = docLinkHtml;\n",
              "          element.appendChild(docLink);\n",
              "        }\n",
              "      </script>\n",
              "    </div>\n",
              "  </div>\n",
              "  "
            ]
          },
          "metadata": {},
          "execution_count": 14
        }
      ]
    },
    {
      "cell_type": "code",
      "source": [
        "#agrupando os dados da class\n",
        "baseAgrupada=base.groupby(['class']).size()\n",
        "baseAgrupada"
      ],
      "metadata": {
        "id": "12VdT99PwbdO"
      },
      "execution_count": null,
      "outputs": []
    },
    {
      "cell_type": "code",
      "source": [
        "base.describe"
      ],
      "metadata": {
        "id": "50AuDfPK4XST"
      },
      "execution_count": null,
      "outputs": []
    },
    {
      "cell_type": "code",
      "source": [
        "base.isnull().sum()\n",
        "#nenhum valor null"
      ],
      "metadata": {
        "id": "sAvmGNX24kFb"
      },
      "execution_count": null,
      "outputs": []
    },
    {
      "cell_type": "code",
      "source": [
        "#base checando numeros fora da realidade na idade\n",
        "base.loc[(base['age']< 0)|(base['age']>120)]"
      ],
      "metadata": {
        "id": "IOnDPz3o460M"
      },
      "execution_count": null,
      "outputs": []
    },
    {
      "cell_type": "code",
      "source": [
        "base.duplicated(['credit_amount'], keep=False)\n",
        "base.drop_duplicates(subset='credit_amount',keep='first',inplace=True)\n"
      ],
      "metadata": {
        "id": "cW9GMy0u6IgP"
      },
      "execution_count": null,
      "outputs": []
    },
    {
      "cell_type": "code",
      "source": [
        "grupo=base.groupby(['credit_amount']).describe()\n",
        "grupo\n",
        "#tratar std"
      ],
      "metadata": {
        "id": "DNhCn9VK6A35"
      },
      "execution_count": null,
      "outputs": []
    },
    {
      "cell_type": "code",
      "source": [
        "#baseAgrupada.plot.bar(color= 'pink')\n",
        "srn.distplot(base['credit_amount']).set_title('Credit Amount')"
      ],
      "metadata": {
        "id": "tcC1Zz7XWqsh",
        "colab": {
          "base_uri": "https://localhost:8080/",
          "height": 368
        },
        "outputId": "5ca89923-37ef-41d9-d733-47fb67d7eaf9"
      },
      "execution_count": null,
      "outputs": [
        {
          "output_type": "stream",
          "name": "stderr",
          "text": [
            "/usr/local/lib/python3.8/dist-packages/seaborn/distributions.py:2619: FutureWarning: `distplot` is a deprecated function and will be removed in a future version. Please adapt your code to use either `displot` (a figure-level function with similar flexibility) or `histplot` (an axes-level function for histograms).\n",
            "  warnings.warn(msg, FutureWarning)\n"
          ]
        },
        {
          "output_type": "execute_result",
          "data": {
            "text/plain": [
              "Text(0.5, 1.0, 'Credit Amount')"
            ]
          },
          "metadata": {},
          "execution_count": 4
        },
        {
          "output_type": "display_data",
          "data": {
            "text/plain": [
              "<Figure size 432x288 with 1 Axes>"
            ],
            "image/png": "[encoded data removed]"
          },
          "metadata": {
            "needs_background": "light"
          }
        }
      ]
    },
    {
      "cell_type": "code",
      "source": [],
      "metadata": {
        "id": "vdRqk5-6tTZa"
      },
      "execution_count": null,
      "outputs": []
    },
    {
      "cell_type": "code",
      "source": [
        "#base.groupby('duration')\n",
        "srn.boxplot(base['credit_amount']).set_title('Credit Amount')"
      ],
      "metadata": {
        "id": "1BZvkJxjoVvu",
        "colab": {
          "base_uri": "https://localhost:8080/",
          "height": 368
        },
        "outputId": "0393e842-ccb5-4e91-eb48-26bb2472c8e2"
      },
      "execution_count": null,
      "outputs": [
        {
          "output_type": "stream",
          "name": "stderr",
          "text": [
            "/usr/local/lib/python3.8/dist-packages/seaborn/_decorators.py:36: FutureWarning: Pass the following variable as a keyword arg: x. From version 0.12, the only valid positional argument will be `data`, and passing other arguments without an explicit keyword will result in an error or misinterpretation.\n",
            "  warnings.warn(\n"
          ]
        },
        {
          "output_type": "execute_result",
          "data": {
            "text/plain": [
              "Text(0.5, 1.0, 'Credit Amount')"
            ]
          },
          "metadata": {},
          "execution_count": 5
        },
        {
          "output_type": "display_data",
          "data": {
            "text/plain": [
              "<Figure size 432x288 with 1 Axes>"
            ],
            "image/png": "[encoded data removed]"
          },
          "metadata": {
            "needs_background": "light"
          }
        }
      ]
    },
    {
      "cell_type": "code",
      "source": [
        "base.describe"
      ],
      "metadata": {
        "id": "iHQEujspeCdA"
      },
      "execution_count": null,
      "outputs": []
    },
    {
      "cell_type": "code",
      "source": [
        "base['class'].isnull().sum()"
      ],
      "metadata": {
        "colab": {
          "base_uri": "https://localhost:8080/"
        },
        "id": "K8EsM9iK1fRe",
        "outputId": "886a62f3-4112-4e0a-8128-854c8578a371"
      },
      "execution_count": null,
      "outputs": [
        {
          "output_type": "execute_result",
          "data": {
            "text/plain": [
              "0"
            ]
          },
          "metadata": {},
          "execution_count": 7
        }
      ]
    },
    {
      "cell_type": "code",
      "source": [
        "base.describe"
      ],
      "metadata": {
        "id": "qLA7EHFJyyyG"
      },
      "execution_count": null,
      "outputs": []
    },
    {
      "cell_type": "code",
      "source": [
        "colNumber=base.columns.get_loc('credit_amount')\n",
        "colNumber"
      ],
      "metadata": {
        "colab": {
          "base_uri": "https://localhost:8080/"
        },
        "id": "T3o4LNXw3kjN",
        "outputId": "7b8b5b6e-f561-4a72-cc68-49070bebe521"
      },
      "execution_count": null,
      "outputs": [
        {
          "output_type": "execute_result",
          "data": {
            "text/plain": [
              "4"
            ]
          },
          "metadata": {},
          "execution_count": 9
        }
      ]
    },
    {
      "cell_type": "code",
      "source": [
        "#relacao duracao e idade , idade==x e duracao==y\n",
        "X = base.iloc[:,4].values\n",
        "y = base.iloc[:,11].values\n",
        "X"
      ],
      "metadata": {
        "id": "D58uwrfr1-pX"
      },
      "execution_count": null,
      "outputs": []
    },
    {
      "cell_type": "code",
      "source": [
        "#correlacao = np.corrcoef(X, y)\n",
        "#correlacao"
      ],
      "metadata": {
        "id": "G3sEiVHO4dIi"
      },
      "execution_count": null,
      "outputs": []
    },
    {
      "cell_type": "code",
      "source": [
        "X = X.reshape(-1, 1)\n",
        "modelo = LinearRegression()\n",
        "modelo.fit(X, y)"
      ],
      "metadata": {
        "colab": {
          "base_uri": "https://localhost:8080/"
        },
        "id": "CFVx-M9M4lo_",
        "outputId": "c5e81de4-0b43-466a-b673-f6fab9d71b76"
      },
      "execution_count": null,
      "outputs": [
        {
          "output_type": "execute_result",
          "data": {
            "text/plain": [
              "LinearRegression()"
            ]
          },
          "metadata": {},
          "execution_count": 11
        }
      ]
    },
    {
      "cell_type": "code",
      "source": [
        "modelo.intercept_"
      ],
      "metadata": {
        "colab": {
          "base_uri": "https://localhost:8080/"
        },
        "id": "V12OmkJs6x4Y",
        "outputId": "a756f17c-d812-40c6-8039-50b76ba2cdd7"
      },
      "execution_count": null,
      "outputs": [
        {
          "output_type": "execute_result",
          "data": {
            "text/plain": [
              "12.168902198241387"
            ]
          },
          "metadata": {},
          "execution_count": 12
        }
      ]
    },
    {
      "cell_type": "code",
      "source": [
        "modelo.coef_"
      ],
      "metadata": {
        "colab": {
          "base_uri": "https://localhost:8080/"
        },
        "id": "M46JKwHs7AJy",
        "outputId": "3a58ca4a-d3d3-4f00-ffc4-121bc0dec45b"
      },
      "execution_count": null,
      "outputs": [
        {
          "output_type": "execute_result",
          "data": {
            "text/plain": [
              "array([0.00266995])"
            ]
          },
          "metadata": {},
          "execution_count": 13
        }
      ]
    },
    {
      "cell_type": "code",
      "source": [
        "plt.scatter(X, y)\n",
        "plt.plot(X, modelo.predict(X), color = 'red')"
      ],
      "metadata": {
        "colab": {
          "base_uri": "https://localhost:8080/",
          "height": 282
        },
        "id": "jZqGEeLl7HRJ",
        "outputId": "64b1011e-4d73-487a-9e00-7ab271d366b3"
      },
      "execution_count": null,
      "outputs": [
        {
          "output_type": "execute_result",
          "data": {
            "text/plain": [
              "[<matplotlib.lines.Line2D at 0x7f13d788dc10>]"
            ]
          },
          "metadata": {},
          "execution_count": 14
        },
        {
          "output_type": "display_data",
          "data": {
            "text/plain": [
              "<Figure size 432x288 with 1 Axes>"
            ],
            "image/png": "[encoded data removed]"
          },
          "metadata": {
            "needs_background": "light"
          }
        }
      ]
    },
    {
      "cell_type": "code",
      "source": [],
      "metadata": {
        "id": "GyE7NDWG7OLa"
      },
      "execution_count": null,
      "outputs": []
    }
  ]
}