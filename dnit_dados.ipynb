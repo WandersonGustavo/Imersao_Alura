{
  "nbformat": 4,
  "nbformat_minor": 0,
  "metadata": {
    "colab": {
      "provenance": [],
      "authorship_tag": "ABX9TyO7zTqG8qumL9MO+yVRgzvh",
      "include_colab_link": true
    },
    "kernelspec": {
      "name": "python3",
      "display_name": "Python 3"
    },
    "language_info": {
      "name": "python"
    }
  },
  "cells": [
    {
      "cell_type": "markdown",
      "metadata": {
        "id": "view-in-github",
        "colab_type": "text"
      },
      "source": [
        "<a href=\"https://colab.research.google.com/github/WandersonGustavo/Imersao_Alura/blob/main/dnit_dados.ipynb\" target=\"_parent\"><img src=\"https://colab.research.google.com/assets/colab-badge.svg\" alt=\"Open In Colab\"/></a>"
      ]
    },
    {
      "cell_type": "code",
      "execution_count": 11,
      "metadata": {
        "id": "24EIvXN_du_L"
      },
      "outputs": [],
      "source": [
        "import pandas as pd\n",
        "import matplotlib.pyplot as plt\n"
      ]
    },
    {
      "cell_type": "code",
      "source": [
        "base=pd.read_csv('contagem_de_trafego_cgplan.csv',error_bad_lines=False, sep=\";\")"
      ],
      "metadata": {
        "colab": {
          "base_uri": "https://localhost:8080/"
        },
        "id": "Eb_hMizEd5HF",
        "outputId": "e5ccfca0-c594-48d5-e90c-bddbbf083c02"
      },
      "execution_count": 3,
      "outputs": [
        {
          "output_type": "stream",
          "name": "stderr",
          "text": [
            "/usr/local/lib/python3.8/dist-packages/IPython/core/interactiveshell.py:3326: FutureWarning: The error_bad_lines argument has been deprecated and will be removed in a future version.\n",
            "\n",
            "\n",
            "  exec(code_obj, self.user_global_ns, self.user_ns)\n"
          ]
        }
      ]
    },
    {
      "cell_type": "code",
      "source": [
        "base.head\n",
        "#arrumar as colunas "
      ],
      "metadata": {
        "colab": {
          "base_uri": "https://localhost:8080/"
        },
        "id": "M0ud6dp4eXCk",
        "outputId": "4a39972e-e785-44fd-d4ab-646da203cadd"
      },
      "execution_count": 4,
      "outputs": [
        {
          "output_type": "execute_result",
          "data": {
            "text/plain": [
              "<bound method NDFrame.head of         ID  id_trecho_  vl_br sg_uf      nm_tipo_tr sg_tipo_tr desc_coinc  \\\n",
              "0     4317      155030    307    AC  Eixo Principal          B          -   \n",
              "1     4318      155031    307    AC  Eixo Principal          B          -   \n",
              "2     4319      158261    307    AC  Eixo Principal          B          -   \n",
              "3     4320      158260    307    AC  Eixo Principal          B          -   \n",
              "4     4321      158259    307    AC  Eixo Principal          B          -   \n",
              "...    ...         ...    ...   ...             ...        ...        ...   \n",
              "6764  3434      160957    242    TO  Eixo Principal          B          -   \n",
              "6765  3435      154198    242    TO  Eixo Principal          B          -   \n",
              "6766  3436      154199    242    TO  Eixo Principal          B          -   \n",
              "6767  3437      154200    242    TO  Eixo Principal          B          -   \n",
              "6768  3438      154201    242    TO  Eixo Principal          B          -   \n",
              "\n",
              "       vl_codigo                                         ds_local_i  \\\n",
              "0     307BAC0005              ENTR AC-190/378 (MARECHAL TAUMATURGO)   \n",
              "1     307BAC0010                         ENTR AC-090 (PORTO VALTER)   \n",
              "2     307BAC0015                           INÍCIO TRECHO IMPLANTADO   \n",
              "3     307BAC0018                                      ENTR RAMAL 03   \n",
              "4     307BAC0020                          INÍCIO TRECHO PAVIMENTADO   \n",
              "...          ...                                                ...   \n",
              "6764  242BTO0500  ENTR AV. JOAQUIM BATISTA DE OLIVEIRA (FORMOSO ...   \n",
              "6765  242BTO0510                  ENTR TO-070 (FORMOSO DO ARAGUAIA)   \n",
              "6766  242BTO0512                                     ENTR TO-181(A)   \n",
              "6767  242BTO0520                                     ENTR TO-181(B)   \n",
              "6768  242BTO0530                           PORTO PIAUÍ (RIO JAVAÉS)   \n",
              "\n",
              "                             ds_local_f  ... E_D F_D G_D H_D  I_D J_D VMDa_C  \\\n",
              "0            ENTR AC-090 (PORTO VALTER)  ...   -   -   -   -    -   -      -   \n",
              "1              INÍCIO TRECHO IMPLANTADO  ...   -   -   -   -    -   -      -   \n",
              "2                         ENTR RAMAL 03  ...   -   -   -   -    -   -      -   \n",
              "3             INÍCIO TRECHO PAVIMENTADO  ...   -   -   -   -    -   -      -   \n",
              "4                        ENTR BR-364(A)  ...   -   -   -   -    -   -      -   \n",
              "...                                 ...  ...  ..  ..  ..  ..  ...  ..    ...   \n",
              "6764  ENTR TO-070 (FORMOSO DO ARAGUAIA)  ...   6   4   0   0  344  43    569   \n",
              "6765                     ENTR TO-181(A)  ...   -   -   -   -    -   -      -   \n",
              "6766                     ENTR TO-181(B)  ...   -   -   -   -    -   -      -   \n",
              "6767           PORTO PIAUÍ (RIO JAVAÉS)  ...   -   -   -   -    -   -      -   \n",
              "6768  DIV TO/MT (SÃO FÉLIX DO ARAGUAIA)  ...   -   -   -   -    -   -      -   \n",
              "\n",
              "     VMDa_D NS_C NS_D  \n",
              "0         -    -    -  \n",
              "1         -    -    -  \n",
              "2         -    -    -  \n",
              "3         -    -    -  \n",
              "4         -    -    -  \n",
              "...     ...  ...  ...  \n",
              "6764    547    A    A  \n",
              "6765      -    -    -  \n",
              "6766      -    -    -  \n",
              "6767      -    -    -  \n",
              "6768      -    -    -  \n",
              "\n",
              "[6769 rows x 56 columns]>"
            ]
          },
          "metadata": {},
          "execution_count": 4
        }
      ]
    },
    {
      "cell_type": "code",
      "source": [
        "dadosAgrupados=base.groupby(['id_trecho_']).describe()\n",
        "dadosAgrupados"
      ],
      "metadata": {
        "id": "vaYvsNnMeuQk"
      },
      "execution_count": 20,
      "outputs": []
    },
    {
      "cell_type": "code",
      "source": [],
      "metadata": {
        "id": "GkL5pSJvKPrg"
      },
      "execution_count": null,
      "outputs": []
    },
    {
      "cell_type": "code",
      "source": [
        "#base.plot.hist(dadosAgrupados)"
      ],
      "metadata": {
        "colab": {
          "base_uri": "https://localhost:8080/",
          "height": 284
        },
        "id": "Zl4nyiaRGmFR",
        "outputId": "0491c4ff-1983-42a6-cbf9-d2f0a31eb070"
      },
      "execution_count": 19,
      "outputs": [
        {
          "output_type": "execute_result",
          "data": {
            "text/plain": [
              "<matplotlib.axes._subplots.AxesSubplot at 0x7f015e9cf910>"
            ]
          },
          "metadata": {},
          "execution_count": 19
        },
        {
          "output_type": "display_data",
          "data": {
            "text/plain": [
              "<Figure size 432x288 with 1 Axes>"
            ],
            "image/png": "[encoded data removed]"
          },
          "metadata": {
            "needs_background": "light"
          }
        }
      ]
    },
    {
      "cell_type": "code",
      "source": [],
      "metadata": {
        "id": "Wkikj1AqIOjw"
      },
      "execution_count": null,
      "outputs": []
    }
  ]
}