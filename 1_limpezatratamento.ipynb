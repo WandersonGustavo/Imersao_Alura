{
  "cells": [
    {
      "cell_type": "markdown",
      "metadata": {
        "id": "view-in-github",
        "colab_type": "text"
      },
      "source": [
        "<a href=\"https://colab.research.google.com/github/WandersonGustavo/Imersao_Alura/blob/main/1_limpezatratamento.ipynb\" target=\"_parent\"><img src=\"https://colab.research.google.com/assets/colab-badge.svg\" alt=\"Open In Colab\"/></a>"
      ]
    },
    {
      "cell_type": "markdown",
      "metadata": {
        "id": "zcvo5HaKPu7d"
      },
      "source": [
        "Formação Cientista de Dados - Fernando Amaral e Jones Granatyr\n",
        "Limpeza e tratamento de Dados"
      ]
    },
    {
      "cell_type": "code",
      "execution_count": null,
      "metadata": {
        "id": "Dcub-oNWPu7k"
      },
      "outputs": [],
      "source": [
        "import pandas as pd\n",
        "import seaborn as srn\n",
        "import statistics  as sts"
      ]
    },
    {
      "cell_type": "code",
      "execution_count": null,
      "metadata": {
        "id": "R4_RntaJPu7p"
      },
      "outputs": [],
      "source": [
        "#importar dados\n",
        "dataset = pd.read_csv(\"Churn.csv\", sep=\";\")\n",
        "#visulizar\n",
        "dataset.head()"
      ]
    },
    {
      "cell_type": "code",
      "execution_count": null,
      "metadata": {
        "id": "SgXi4e7cPu7r"
      },
      "outputs": [],
      "source": [
        "#tamanho\n",
        "dataset.shape"
      ]
    },
    {
      "cell_type": "code",
      "execution_count": null,
      "metadata": {
        "id": "DX6_yEFdPu7s"
      },
      "outputs": [],
      "source": [
        "#primeiro problema é dar nomes as colunas\n",
        "dataset.columns = [\"Id\",\"Score\",\"Estado\",\"Genero\",\"Idade\",\"Patrimonio\",\"Saldo\",\"Produtos\",\"TemCartCredito\",\n",
        "                    \"Ativo\",\"Salario\",\"Saiu\"]"
      ]
    },
    {
      "cell_type": "code",
      "execution_count": null,
      "metadata": {
        "id": "iwGEwWQcPu7u"
      },
      "outputs": [],
      "source": [
        "#visulizar\n",
        "dataset.head()"
      ]
    },
    {
      "cell_type": "code",
      "execution_count": null,
      "metadata": {
        "id": "KiF3KMX1Pu7w"
      },
      "outputs": [],
      "source": [
        "#explorar dados categoricos\n",
        "#estado\n",
        "agrupado = dataset.groupby(['Estado']).size()\n",
        "agrupado"
      ]
    },
    {
      "cell_type": "code",
      "execution_count": null,
      "metadata": {
        "id": "i_0oAy6tPu7z"
      },
      "outputs": [],
      "source": [
        "agrupado.plot.bar(color = 'gray')"
      ]
    },
    {
      "cell_type": "code",
      "execution_count": null,
      "metadata": {
        "id": "SVy6ExVkPu71"
      },
      "outputs": [],
      "source": [
        "#genero\n",
        "agrupado = dataset.groupby(['Genero']).size()\n",
        "agrupado"
      ]
    },
    {
      "cell_type": "code",
      "execution_count": null,
      "metadata": {
        "id": "MoRu6vWBPu73"
      },
      "outputs": [],
      "source": [
        "agrupado.plot.bar(color = 'gray')"
      ]
    },
    {
      "cell_type": "code",
      "execution_count": null,
      "metadata": {
        "id": "oBqBPlKsPu75"
      },
      "outputs": [],
      "source": [
        "#explorar colunas numéricas\n",
        "#score\n",
        "dataset['Score'].describe()"
      ]
    },
    {
      "cell_type": "code",
      "execution_count": null,
      "metadata": {
        "id": "3aP9ZfxZPu76"
      },
      "outputs": [],
      "source": [
        "srn.boxplot(dataset['Score']).set_title('Score')"
      ]
    },
    {
      "cell_type": "code",
      "execution_count": null,
      "metadata": {
        "id": "LtqQ-No6Pu78"
      },
      "outputs": [],
      "source": [
        "srn.distplot(dataset['Score']).set_title('Score')"
      ]
    },
    {
      "cell_type": "code",
      "execution_count": null,
      "metadata": {
        "id": "W0kB_WoQPu79"
      },
      "outputs": [],
      "source": [
        "#idade\n",
        "dataset['Idade'].describe()"
      ]
    },
    {
      "cell_type": "code",
      "execution_count": null,
      "metadata": {
        "id": "SijD-nKDPu7-"
      },
      "outputs": [],
      "source": [
        "srn.boxplot(dataset['Idade']).set_title('Idade')"
      ]
    },
    {
      "cell_type": "code",
      "execution_count": null,
      "metadata": {
        "id": "WZCaFyPrPu7_"
      },
      "outputs": [],
      "source": [
        "srn.distplot(dataset['Idade']).set_title('Idade')"
      ]
    },
    {
      "cell_type": "code",
      "execution_count": null,
      "metadata": {
        "id": "SQO7n6vePu8A"
      },
      "outputs": [],
      "source": [
        "#saldo\n",
        "dataset['Saldo'].describe()"
      ]
    },
    {
      "cell_type": "code",
      "execution_count": null,
      "metadata": {
        "id": "LFtU4xhtPu8B"
      },
      "outputs": [],
      "source": [
        "srn.boxplot(dataset['Saldo']).set_title('Saldo')"
      ]
    },
    {
      "cell_type": "code",
      "execution_count": null,
      "metadata": {
        "id": "Pjwhlr6yPu8C"
      },
      "outputs": [],
      "source": [
        "srn.distplot(dataset['Saldo']).set_title('Saldo')"
      ]
    },
    {
      "cell_type": "code",
      "execution_count": null,
      "metadata": {
        "id": "6WHPAdqJPu8D"
      },
      "outputs": [],
      "source": [
        "#salário\n",
        "dataset['Salario'].describe()"
      ]
    },
    {
      "cell_type": "code",
      "execution_count": null,
      "metadata": {
        "id": "_bWxzDffPu8E"
      },
      "outputs": [],
      "source": [
        "srn.boxplot(dataset['Salario']).set_title('Salario')"
      ]
    },
    {
      "cell_type": "code",
      "execution_count": null,
      "metadata": {
        "id": "xhA7i9KjPu8F"
      },
      "outputs": [],
      "source": [
        "srn.distplot(dataset['Salario']).set_title('Salario')"
      ]
    },
    {
      "cell_type": "code",
      "execution_count": null,
      "metadata": {
        "id": "glBl3_q3Pu8G"
      },
      "outputs": [],
      "source": [
        "#contamos valores NAN\n",
        "#genero e salário\n",
        "dataset.isnull().sum()"
      ]
    },
    {
      "cell_type": "code",
      "execution_count": null,
      "metadata": {
        "id": "7tvVCUQFPu8H"
      },
      "outputs": [],
      "source": [
        "#salarios\n",
        "#remover nas e substiutir pela mediana\n",
        "dataset['Salario'].describe()"
      ]
    },
    {
      "cell_type": "code",
      "execution_count": null,
      "metadata": {
        "id": "eOiIHRizPu8I"
      },
      "outputs": [],
      "source": [
        "mediana = sts.median(dataset['Salario'])\n",
        "mediana"
      ]
    },
    {
      "cell_type": "code",
      "execution_count": null,
      "metadata": {
        "id": "IV-6F_ZEPu8J"
      },
      "outputs": [],
      "source": [
        "#substituir NAN por mediana\n",
        "dataset['Salario'].fillna(mediana, inplace=True)"
      ]
    },
    {
      "cell_type": "code",
      "execution_count": null,
      "metadata": {
        "id": "iKHaFvOTPu8J"
      },
      "outputs": [],
      "source": [
        "#Verificamos se NAN não existem mais\n",
        "dataset['Salario'].isnull().sum()"
      ]
    },
    {
      "cell_type": "code",
      "execution_count": null,
      "metadata": {
        "id": "9qlM9AUpPu8K"
      },
      "outputs": [],
      "source": [
        "#genero, falta de padronização e NAs\n",
        "agrupado = dataset.groupby(['Genero']).size()\n",
        "agrupado"
      ]
    },
    {
      "cell_type": "code",
      "execution_count": null,
      "metadata": {
        "id": "B5TOPuyvPu8L"
      },
      "outputs": [],
      "source": [
        "#total de Nas\n",
        "dataset['Genero'].isnull().sum()"
      ]
    },
    {
      "cell_type": "code",
      "execution_count": null,
      "metadata": {
        "id": "jHbAJsQSPu8M"
      },
      "outputs": [],
      "source": [
        "#preenche NAs com Masculino (moda)\n",
        "dataset['Genero'].fillna('Masculino', inplace=True)"
      ]
    },
    {
      "cell_type": "code",
      "execution_count": null,
      "metadata": {
        "id": "wD2Ag9gaPu8M"
      },
      "outputs": [],
      "source": [
        "#verificamos novamente NANs\n",
        "dataset['Genero'].isnull().sum()"
      ]
    },
    {
      "cell_type": "code",
      "execution_count": null,
      "metadata": {
        "id": "F1SdFuQlPu8N"
      },
      "outputs": [],
      "source": [
        "#padroniza de acordo com o dominio\n",
        "dataset.loc[dataset['Genero'] ==  'M', 'Genero'] = \"Masculino\"\n",
        "dataset.loc[dataset['Genero'].isin( ['Fem','F']), 'Genero'] = \"Feminino\"\n",
        "#visualiza o resultado\n",
        "agrupado = dataset.groupby(['Genero']).size()\n",
        "agrupado"
      ]
    },
    {
      "cell_type": "code",
      "execution_count": null,
      "metadata": {
        "id": "4hkrk_kPPu8O"
      },
      "outputs": [],
      "source": [
        "#idades fora do dominio\n",
        "dataset['Idade'].describe()"
      ]
    },
    {
      "cell_type": "code",
      "execution_count": null,
      "metadata": {
        "id": "jFlcQGAnPu8O"
      },
      "outputs": [],
      "source": [
        "#visualizar \n",
        "dataset.loc[(dataset['Idade'] <  0 )  | ( dataset['Idade'] >  120) ]"
      ]
    },
    {
      "cell_type": "code",
      "execution_count": null,
      "metadata": {
        "id": "t6gqu6ROPu8P"
      },
      "outputs": [],
      "source": [
        "#calular a mediana\n",
        "mediana = sts.median(dataset['Idade'])\n",
        "mediana"
      ]
    },
    {
      "cell_type": "code",
      "execution_count": null,
      "metadata": {
        "id": "Tp9MxgqlPu8Q"
      },
      "outputs": [],
      "source": [
        "#substituir\n",
        "dataset.loc[(dataset['Idade'] <  0 )  | ( dataset['Idade'] >  120), 'Idade'] = mediana"
      ]
    },
    {
      "cell_type": "code",
      "execution_count": null,
      "metadata": {
        "id": "quTXGLRQPu8Q"
      },
      "outputs": [],
      "source": [
        "#verificamos se ainda existem idades fora do domínio\n",
        "dataset.loc[(dataset['Idade'] <  0 )  | ( dataset['Idade'] >  120) ]"
      ]
    },
    {
      "cell_type": "code",
      "execution_count": null,
      "metadata": {
        "id": "8wfUjke2Pu8R"
      },
      "outputs": [],
      "source": [
        "#dados duplicados, buscamos pelo ID\n",
        "dataset[dataset.duplicated(['Id'],keep=False)]"
      ]
    },
    {
      "cell_type": "code",
      "execution_count": null,
      "metadata": {
        "id": "PBr-UlNKPu8S"
      },
      "outputs": [],
      "source": [
        "#excluimso pelo ID\n",
        "dataset.drop_duplicates(subset=\"Id\", keep='first',inplace=True)\n",
        "#buscamos duplicados \n",
        "dataset[dataset.duplicated(['Id'],keep=False)]"
      ]
    },
    {
      "cell_type": "code",
      "execution_count": null,
      "metadata": {
        "id": "sjWCpE0pPu8T"
      },
      "outputs": [],
      "source": [
        "#estado foram do domínio\n",
        "agrupado = dataset.groupby(['Estado']).size()\n",
        "agrupado"
      ]
    },
    {
      "cell_type": "code",
      "execution_count": null,
      "metadata": {
        "id": "KFgochwYPu8T"
      },
      "outputs": [],
      "source": [
        "#atribuomos RS (moda)\n",
        "dataset.loc[dataset['Estado'].isin( ['RP','SP','TD']), 'Estado'] = \"RS\"\n",
        "agrupado = dataset.groupby(['Estado']).size()"
      ]
    },
    {
      "cell_type": "code",
      "execution_count": null,
      "metadata": {
        "id": "jVC7vNmzPu8U"
      },
      "outputs": [],
      "source": [
        "#verificamos o resultado\n",
        "agrupado"
      ]
    },
    {
      "cell_type": "code",
      "execution_count": null,
      "metadata": {
        "id": "AGof4HCePu8V"
      },
      "outputs": [],
      "source": [
        "#outliers em salário, vamos considerar 2 desvios padrão\n",
        "desv = sts.stdev(dataset['Salario'])\n",
        "desv"
      ]
    },
    {
      "cell_type": "code",
      "execution_count": null,
      "metadata": {
        "id": "pSj8QEw9Pu8W"
      },
      "outputs": [],
      "source": [
        "#definir padrão como maior que 2 desvios padrão\n",
        "#checamos se algum atende critério\n",
        "dataset.loc[dataset['Salario'] >=  2 * desv ] "
      ]
    },
    {
      "cell_type": "code",
      "execution_count": null,
      "metadata": {
        "id": "kYU9PrOHPu8W"
      },
      "outputs": [],
      "source": [
        "#vamos atualiar salarios para mediana, calculamos\n",
        "mediana = sts.median(dataset['Salario'])\n",
        "mediana"
      ]
    },
    {
      "cell_type": "code",
      "execution_count": null,
      "metadata": {
        "id": "O3p7lYOOPu8X"
      },
      "outputs": [],
      "source": [
        "#atribumos\n",
        "dataset.loc[dataset['Salario'] >=  2 * desv, 'Salario'] = mediana\n",
        "#checamos se algum atende critério\n",
        "dataset.loc[dataset['Salario'] >=  2 * desv ] "
      ]
    },
    {
      "cell_type": "code",
      "execution_count": null,
      "metadata": {
        "id": "qwY0r6YmPu8Y"
      },
      "outputs": [],
      "source": [
        "dataset.head()"
      ]
    },
    {
      "cell_type": "code",
      "execution_count": null,
      "metadata": {
        "id": "ZuFFTUaWPu8Y"
      },
      "outputs": [],
      "source": [
        "dataset.shape"
      ]
    },
    {
      "cell_type": "code",
      "execution_count": null,
      "metadata": {
        "id": "3a-e_ZuZPu8Z"
      },
      "outputs": [],
      "source": []
    }
  ],
  "metadata": {
    "kernelspec": {
      "display_name": "Python 3",
      "language": "python",
      "name": "python3"
    },
    "language_info": {
      "codemirror_mode": {
        "name": "ipython",
        "version": 3
      },
      "file_extension": ".py",
      "mimetype": "text/x-python",
      "name": "python",
      "nbconvert_exporter": "python",
      "pygments_lexer": "ipython3",
      "version": "3.7.6"
    },
    "colab": {
      "provenance": [],
      "toc_visible": true,
      "include_colab_link": true
    }
  },
  "nbformat": 4,
  "nbformat_minor": 0
}