{
  "nbformat": 4,
  "nbformat_minor": 0,
  "metadata": {
    "colab": {
      "provenance": [],
      "authorship_tag": "ABX9TyO/VYjEDgi4dt3cNUEPFUEd",
      "include_colab_link": true
    },
    "kernelspec": {
      "name": "python3",
      "display_name": "Python 3"
    },
    "language_info": {
      "name": "python"
    }
  },
  "cells": [
    {
      "cell_type": "markdown",
      "metadata": {
        "id": "view-in-github",
        "colab_type": "text"
      },
      "source": [
        "<a href=\"https://colab.research.google.com/github/WandersonGustavo/Imersao_Alura/blob/main/DataScience3.ipynb\" target=\"_parent\"><img src=\"https://colab.research.google.com/assets/colab-badge.svg\" alt=\"Open In Colab\"/></a>"
      ]
    },
    {
      "cell_type": "code",
      "execution_count": null,
      "metadata": {
        "id": "b2Z6Zjquhp3W"
      },
      "outputs": [],
      "source": [
        "#MACHINE LEARNING 11/01"
      ]
    },
    {
      "cell_type": "code",
      "source": [
        "import pandas as pd\n",
        "from sklearn.model_selection import train_test_split \n",
        "from sklearn.naive_bayes import GaussianNB #ultilizar naive bayse\n",
        "from sklearn.preprocessing import LabelEncoder \n",
        "from sklearn.metrics import confusion_matrix , accuracy_score\n",
        "from yellowbrick.classifier import ConfusionMatrix #forma da matrix em grafico"
      ],
      "metadata": {
        "id": "YL78Xl1Kh9Cz"
      },
      "execution_count": null,
      "outputs": []
    },
    {
      "cell_type": "code",
      "source": [
        "credito=pd.read_csv('Credit.csv')\n",
        "credito.shape"
      ],
      "metadata": {
        "colab": {
          "base_uri": "https://localhost:8080/"
        },
        "id": "PMr2N5x_FGVK",
        "outputId": "41e751c7-38ed-4746-e916-cef834442eaa"
      },
      "execution_count": null,
      "outputs": [
        {
          "output_type": "execute_result",
          "data": {
            "text/plain": [
              "(1000, 21)"
            ]
          },
          "metadata": {},
          "execution_count": 40
        }
      ]
    },
    {
      "cell_type": "code",
      "source": [
        "credito.head()"
      ],
      "metadata": {
        "colab": {
          "base_uri": "https://localhost:8080/",
          "height": 352
        },
        "id": "MVspUE8zFfpp",
        "outputId": "6d65c5c1-86b1-4458-f27c-550f98bd8173"
      },
      "execution_count": null,
      "outputs": [
        {
          "output_type": "execute_result",
          "data": {
            "text/plain": [
              "  checking_status  duration                    credit_history  \\\n",
              "0              <0         6  'critical/other existing credit'   \n",
              "1        0<=X<200        48                   'existing paid'   \n",
              "2   'no checking'        12  'critical/other existing credit'   \n",
              "3              <0        42                   'existing paid'   \n",
              "4              <0        24              'delayed previously'   \n",
              "\n",
              "               purpose  credit_amount      savings_status employment  \\\n",
              "0             radio/tv           1169  'no known savings'        >=7   \n",
              "1             radio/tv           5951                <100     1<=X<4   \n",
              "2            education           2096                <100     4<=X<7   \n",
              "3  furniture/equipment           7882                <100     4<=X<7   \n",
              "4            'new car'           4870                <100     1<=X<4   \n",
              "\n",
              "   installment_commitment       personal_status other_parties  ...  \\\n",
              "0                       4         'male single'          none  ...   \n",
              "1                       2  'female div/dep/mar'          none  ...   \n",
              "2                       2         'male single'          none  ...   \n",
              "3                       2         'male single'     guarantor  ...   \n",
              "4                       3         'male single'          none  ...   \n",
              "\n",
              "    property_magnitude age  other_payment_plans     housing existing_credits  \\\n",
              "0        'real estate'  67                 none         own                2   \n",
              "1        'real estate'  22                 none         own                1   \n",
              "2        'real estate'  49                 none         own                1   \n",
              "3     'life insurance'  45                 none  'for free'                1   \n",
              "4  'no known property'  53                 none  'for free'                2   \n",
              "\n",
              "                    job num_dependents  own_telephone foreign_worker class  \n",
              "0               skilled              1            yes            yes  good  \n",
              "1               skilled              1           none            yes   bad  \n",
              "2  'unskilled resident'              2           none            yes  good  \n",
              "3               skilled              2           none            yes  good  \n",
              "4               skilled              2           none            yes   bad  \n",
              "\n",
              "[5 rows x 21 columns]"
            ],
            "text/html": [
              "\n",
              "  <div id=\"df-8cfe3601-452c-4d32-8423-c63d5faa3010\">\n",
              "    <div class=\"colab-df-container\">\n",
              "      <div>\n",
              "<style scoped>\n",
              "    .dataframe tbody tr th:only-of-type {\n",
              "        vertical-align: middle;\n",
              "    }\n",
              "\n",
              "    .dataframe tbody tr th {\n",
              "        vertical-align: top;\n",
              "    }\n",
              "\n",
              "    .dataframe thead th {\n",
              "        text-align: right;\n",
              "    }\n",
              "</style>\n",
              "<table border=\"1\" class=\"dataframe\">\n",
              "  <thead>\n",
              "    <tr style=\"text-align: right;\">\n",
              "      <th></th>\n",
              "      <th>checking_status</th>\n",
              "      <th>duration</th>\n",
              "      <th>credit_history</th>\n",
              "      <th>purpose</th>\n",
              "      <th>credit_amount</th>\n",
              "      <th>savings_status</th>\n",
              "      <th>employment</th>\n",
              "      <th>installment_commitment</th>\n",
              "      <th>personal_status</th>\n",
              "      <th>other_parties</th>\n",
              "      <th>...</th>\n",
              "      <th>property_magnitude</th>\n",
              "      <th>age</th>\n",
              "      <th>other_payment_plans</th>\n",
              "      <th>housing</th>\n",
              "      <th>existing_credits</th>\n",
              "      <th>job</th>\n",
              "      <th>num_dependents</th>\n",
              "      <th>own_telephone</th>\n",
              "      <th>foreign_worker</th>\n",
              "      <th>class</th>\n",
              "    </tr>\n",
              "  </thead>\n",
              "  <tbody>\n",
              "    <tr>\n",
              "      <th>0</th>\n",
              "      <td>&lt;0</td>\n",
              "      <td>6</td>\n",
              "      <td>'critical/other existing credit'</td>\n",
              "      <td>radio/tv</td>\n",
              "      <td>1169</td>\n",
              "      <td>'no known savings'</td>\n",
              "      <td>&gt;=7</td>\n",
              "      <td>4</td>\n",
              "      <td>'male single'</td>\n",
              "      <td>none</td>\n",
              "      <td>...</td>\n",
              "      <td>'real estate'</td>\n",
              "      <td>67</td>\n",
              "      <td>none</td>\n",
              "      <td>own</td>\n",
              "      <td>2</td>\n",
              "      <td>skilled</td>\n",
              "      <td>1</td>\n",
              "      <td>yes</td>\n",
              "      <td>yes</td>\n",
              "      <td>good</td>\n",
              "    </tr>\n",
              "    <tr>\n",
              "      <th>1</th>\n",
              "      <td>0&lt;=X&lt;200</td>\n",
              "      <td>48</td>\n",
              "      <td>'existing paid'</td>\n",
              "      <td>radio/tv</td>\n",
              "      <td>5951</td>\n",
              "      <td>&lt;100</td>\n",
              "      <td>1&lt;=X&lt;4</td>\n",
              "      <td>2</td>\n",
              "      <td>'female div/dep/mar'</td>\n",
              "      <td>none</td>\n",
              "      <td>...</td>\n",
              "      <td>'real estate'</td>\n",
              "      <td>22</td>\n",
              "      <td>none</td>\n",
              "      <td>own</td>\n",
              "      <td>1</td>\n",
              "      <td>skilled</td>\n",
              "      <td>1</td>\n",
              "      <td>none</td>\n",
              "      <td>yes</td>\n",
              "      <td>bad</td>\n",
              "    </tr>\n",
              "    <tr>\n",
              "      <th>2</th>\n",
              "      <td>'no checking'</td>\n",
              "      <td>12</td>\n",
              "      <td>'critical/other existing credit'</td>\n",
              "      <td>education</td>\n",
              "      <td>2096</td>\n",
              "      <td>&lt;100</td>\n",
              "      <td>4&lt;=X&lt;7</td>\n",
              "      <td>2</td>\n",
              "      <td>'male single'</td>\n",
              "      <td>none</td>\n",
              "      <td>...</td>\n",
              "      <td>'real estate'</td>\n",
              "      <td>49</td>\n",
              "      <td>none</td>\n",
              "      <td>own</td>\n",
              "      <td>1</td>\n",
              "      <td>'unskilled resident'</td>\n",
              "      <td>2</td>\n",
              "      <td>none</td>\n",
              "      <td>yes</td>\n",
              "      <td>good</td>\n",
              "    </tr>\n",
              "    <tr>\n",
              "      <th>3</th>\n",
              "      <td>&lt;0</td>\n",
              "      <td>42</td>\n",
              "      <td>'existing paid'</td>\n",
              "      <td>furniture/equipment</td>\n",
              "      <td>7882</td>\n",
              "      <td>&lt;100</td>\n",
              "      <td>4&lt;=X&lt;7</td>\n",
              "      <td>2</td>\n",
              "      <td>'male single'</td>\n",
              "      <td>guarantor</td>\n",
              "      <td>...</td>\n",
              "      <td>'life insurance'</td>\n",
              "      <td>45</td>\n",
              "      <td>none</td>\n",
              "      <td>'for free'</td>\n",
              "      <td>1</td>\n",
              "      <td>skilled</td>\n",
              "      <td>2</td>\n",
              "      <td>none</td>\n",
              "      <td>yes</td>\n",
              "      <td>good</td>\n",
              "    </tr>\n",
              "    <tr>\n",
              "      <th>4</th>\n",
              "      <td>&lt;0</td>\n",
              "      <td>24</td>\n",
              "      <td>'delayed previously'</td>\n",
              "      <td>'new car'</td>\n",
              "      <td>4870</td>\n",
              "      <td>&lt;100</td>\n",
              "      <td>1&lt;=X&lt;4</td>\n",
              "      <td>3</td>\n",
              "      <td>'male single'</td>\n",
              "      <td>none</td>\n",
              "      <td>...</td>\n",
              "      <td>'no known property'</td>\n",
              "      <td>53</td>\n",
              "      <td>none</td>\n",
              "      <td>'for free'</td>\n",
              "      <td>2</td>\n",
              "      <td>skilled</td>\n",
              "      <td>2</td>\n",
              "      <td>none</td>\n",
              "      <td>yes</td>\n",
              "      <td>bad</td>\n",
              "    </tr>\n",
              "  </tbody>\n",
              "</table>\n",
              "<p>5 rows × 21 columns</p>\n",
              "</div>\n",
              "      <button class=\"colab-df-convert\" onclick=\"convertToInteractive('df-8cfe3601-452c-4d32-8423-c63d5faa3010')\"\n",
              "              title=\"Convert this dataframe to an interactive table.\"\n",
              "              style=\"display:none;\">\n",
              "        \n",
              "  <svg xmlns=\"http://www.w3.org/2000/svg\" height=\"24px\"viewBox=\"0 0 24 24\"\n",
              "       width=\"24px\">\n",
              "    <path d=\"M0 0h24v24H0V0z\" fill=\"none\"/>\n",
              "    <path d=\"M18.56 5.44l.94 2.06.94-2.06 2.06-.94-2.06-.94-.94-2.06-.94 2.06-2.06.94zm-11 1L8.5 8.5l.94-2.06 2.06-.94-2.06-.94L8.5 2.5l-.94 2.06-2.06.94zm10 10l.94 2.06.94-2.06 2.06-.94-2.06-.94-.94-2.06-.94 2.06-2.06.94z\"/><path d=\"M17.41 7.96l-1.37-1.37c-.4-.4-.92-.59-1.43-.59-.52 0-1.04.2-1.43.59L10.3 9.45l-7.72 7.72c-.78.78-.78 2.05 0 2.83L4 21.41c.39.39.9.59 1.41.59.51 0 1.02-.2 1.41-.59l7.78-7.78 2.81-2.81c.8-.78.8-2.07 0-2.86zM5.41 20L4 18.59l7.72-7.72 1.47 1.35L5.41 20z\"/>\n",
              "  </svg>\n",
              "      </button>\n",
              "      \n",
              "  <style>\n",
              "    .colab-df-container {\n",
              "      display:flex;\n",
              "      flex-wrap:wrap;\n",
              "      gap: 12px;\n",
              "    }\n",
              "\n",
              "    .colab-df-convert {\n",
              "      background-color: #E8F0FE;\n",
              "      border: none;\n",
              "      border-radius: 50%;\n",
              "      cursor: pointer;\n",
              "      display: none;\n",
              "      fill: #1967D2;\n",
              "      height: 32px;\n",
              "      padding: 0 0 0 0;\n",
              "      width: 32px;\n",
              "    }\n",
              "\n",
              "    .colab-df-convert:hover {\n",
              "      background-color: #E2EBFA;\n",
              "      box-shadow: 0px 1px 2px rgba(60, 64, 67, 0.3), 0px 1px 3px 1px rgba(60, 64, 67, 0.15);\n",
              "      fill: #174EA6;\n",
              "    }\n",
              "\n",
              "    [theme=dark] .colab-df-convert {\n",
              "      background-color: #3B4455;\n",
              "      fill: #D2E3FC;\n",
              "    }\n",
              "\n",
              "    [theme=dark] .colab-df-convert:hover {\n",
              "      background-color: #434B5C;\n",
              "      box-shadow: 0px 1px 3px 1px rgba(0, 0, 0, 0.15);\n",
              "      filter: drop-shadow(0px 1px 2px rgba(0, 0, 0, 0.3));\n",
              "      fill: #FFFFFF;\n",
              "    }\n",
              "  </style>\n",
              "\n",
              "      <script>\n",
              "        const buttonEl =\n",
              "          document.querySelector('#df-8cfe3601-452c-4d32-8423-c63d5faa3010 button.colab-df-convert');\n",
              "        buttonEl.style.display =\n",
              "          google.colab.kernel.accessAllowed ? 'block' : 'none';\n",
              "\n",
              "        async function convertToInteractive(key) {\n",
              "          const element = document.querySelector('#df-8cfe3601-452c-4d32-8423-c63d5faa3010');\n",
              "          const dataTable =\n",
              "            await google.colab.kernel.invokeFunction('convertToInteractive',\n",
              "                                                     [key], {});\n",
              "          if (!dataTable) return;\n",
              "\n",
              "          const docLinkHtml = 'Like what you see? Visit the ' +\n",
              "            '<a target=\"_blank\" href=https://colab.research.google.com/notebooks/data_table.ipynb>data table notebook</a>'\n",
              "            + ' to learn more about interactive tables.';\n",
              "          element.innerHTML = '';\n",
              "          dataTable['output_type'] = 'display_data';\n",
              "          await google.colab.output.renderOutput(dataTable, element);\n",
              "          const docLink = document.createElement('div');\n",
              "          docLink.innerHTML = docLinkHtml;\n",
              "          element.appendChild(docLink);\n",
              "        }\n",
              "      </script>\n",
              "    </div>\n",
              "  </div>\n",
              "  "
            ]
          },
          "metadata": {},
          "execution_count": 41
        }
      ]
    },
    {
      "cell_type": "code",
      "source": [
        "previsores=credito.iloc[:,0:20].values\n",
        "classe=credito.iloc[:,20].values"
      ],
      "metadata": {
        "id": "6RNr2GIbFZ0c"
      },
      "execution_count": null,
      "outputs": []
    },
    {
      "cell_type": "code",
      "source": [
        "# Transformação dos atributos categóricos em atributos numéricos, passando o índice de cada coluna categórica\n",
        "# Precisamos criar um objeto para cada atributo categórico, pois na sequência vamos executar o processo de encoding novamente para o registro de teste\n",
        "# Se forem utilizados objetos diferentes, o número atribuído a cada valor poderá ser diferente, o que deixará o teste inconsistente\n",
        "labelencoder1 = LabelEncoder()\n",
        "previsores[:,0] = labelencoder1.fit_transform(previsores[:,0])\n",
        "\n",
        "labelencoder2 = LabelEncoder()\n",
        "previsores[:,2] = labelencoder2.fit_transform(previsores[:,2])\n",
        "\n",
        "labelencoder3 = LabelEncoder()\n",
        "previsores[:, 3] = labelencoder3.fit_transform(previsores[:, 3])\n",
        "\n",
        "labelencoder4 = LabelEncoder()\n",
        "previsores[:, 5] = labelencoder4.fit_transform(previsores[:, 5])\n",
        "\n",
        "labelencoder5 = LabelEncoder()\n",
        "previsores[:, 6] = labelencoder5.fit_transform(previsores[:, 6])\n",
        "\n",
        "labelencoder6 = LabelEncoder()\n",
        "previsores[:, 8] = labelencoder6.fit_transform(previsores[:, 8])\n",
        "\n",
        "labelencoder7 = LabelEncoder()\n",
        "previsores[:, 9] = labelencoder7.fit_transform(previsores[:, 9])\n",
        "\n",
        "labelencoder8 = LabelEncoder()\n",
        "previsores[:, 11] = labelencoder8.fit_transform(previsores[:, 11])\n",
        "\n",
        "labelencoder9 = LabelEncoder()\n",
        "previsores[:, 13] = labelencoder9.fit_transform(previsores[:, 13])\n",
        "\n",
        "labelencoder10 = LabelEncoder()\n",
        "previsores[:, 14] = labelencoder10.fit_transform(previsores[:, 14])\n",
        "\n",
        "labelencoder11 = LabelEncoder()\n",
        "previsores[:, 16] = labelencoder11.fit_transform(previsores[:, 16])\n",
        "\n",
        "labelencoder12 = LabelEncoder()\n",
        "previsores[:, 18] = labelencoder12.fit_transform(previsores[:, 18])\n",
        "\n",
        "labelencoder13 = LabelEncoder()\n",
        "previsores[:, 19] = labelencoder13.fit_transform(previsores[:, 19])\n"
      ],
      "metadata": {
        "id": "xEg_CqWtXTI4"
      },
      "execution_count": null,
      "outputs": []
    },
    {
      "cell_type": "code",
      "source": [
        "# Divisão da base de dados entre treinamento e teste (30% para testar e 70% para treinar)\n",
        "X_treinamento, X_teste, y_treinamento, y_teste = train_test_split(previsores,\n",
        "                                                                  classe,\n",
        "                                                                  test_size = 0.3,\n",
        "                                                                  random_state = 0)\n",
        "X_teste"
      ],
      "metadata": {
        "colab": {
          "base_uri": "https://localhost:8080/"
        },
        "id": "6X4TgN8zXVmR",
        "outputId": "5f822546-79da-4d67-f8d6-1bf0b66b67f2"
      },
      "execution_count": null,
      "outputs": [
        {
          "output_type": "execute_result",
          "data": {
            "text/plain": [
              "array([[2, 36, 3, ..., 1, 1, 1],\n",
              "       [0, 9, 3, ..., 2, 0, 0],\n",
              "       [0, 18, 3, ..., 1, 1, 1],\n",
              "       ...,\n",
              "       [0, 24, 1, ..., 1, 0, 1],\n",
              "       [1, 27, 4, ..., 1, 1, 1],\n",
              "       [1, 12, 3, ..., 1, 0, 1]], dtype=object)"
            ]
          },
          "metadata": {},
          "execution_count": 13
        }
      ]
    },
    {
      "cell_type": "code",
      "source": [
        " #Criação e treinamento do modelo (geração da tabela de probabilidades)\n",
        "naive_bayes = GaussianNB()\n",
        "naive_bayes.fit(X_treinamento, y_treinamento)"
      ],
      "metadata": {
        "colab": {
          "base_uri": "https://localhost:8080/"
        },
        "id": "QGE1EwSQY_0g",
        "outputId": "6d3a47ce-b3ce-4083-d1bc-09ef3052dea2"
      },
      "execution_count": null,
      "outputs": [
        {
          "output_type": "execute_result",
          "data": {
            "text/plain": [
              "GaussianNB()"
            ]
          },
          "metadata": {},
          "execution_count": 14
        }
      ]
    },
    {
      "cell_type": "code",
      "source": [
        "# Previsões utilizando os registros de teste\n",
        "previsoes = naive_bayes.predict(X_teste)\n",
        "previsoes"
      ],
      "metadata": {
        "colab": {
          "base_uri": "https://localhost:8080/"
        },
        "id": "72tFLnLFZJei",
        "outputId": "c19d89ab-3a0a-4056-c3b0-b6b989e6aa8e"
      },
      "execution_count": null,
      "outputs": [
        {
          "output_type": "execute_result",
          "data": {
            "text/plain": [
              "array(['bad', 'good', 'good', 'good', 'bad', 'good', 'good', 'good',\n",
              "       'good', 'bad', 'bad', 'bad', 'good', 'bad', 'good', 'good', 'good',\n",
              "       'good', 'bad', 'good', 'bad', 'good', 'bad', 'good', 'good', 'bad',\n",
              "       'good', 'good', 'good', 'bad', 'good', 'good', 'good', 'good',\n",
              "       'good', 'bad', 'good', 'good', 'good', 'good', 'good', 'bad',\n",
              "       'good', 'good', 'good', 'bad', 'bad', 'bad', 'bad', 'bad', 'good',\n",
              "       'bad', 'good', 'good', 'good', 'good', 'bad', 'good', 'good',\n",
              "       'good', 'bad', 'good', 'good', 'good', 'good', 'good', 'good',\n",
              "       'good', 'bad', 'good', 'good', 'good', 'good', 'good', 'bad',\n",
              "       'good', 'good', 'good', 'good', 'good', 'good', 'good', 'good',\n",
              "       'bad', 'good', 'good', 'bad', 'bad', 'good', 'bad', 'good', 'good',\n",
              "       'good', 'good', 'good', 'good', 'good', 'good', 'good', 'good',\n",
              "       'good', 'good', 'good', 'bad', 'good', 'good', 'bad', 'bad',\n",
              "       'good', 'good', 'good', 'bad', 'good', 'good', 'bad', 'good',\n",
              "       'good', 'good', 'good', 'bad', 'bad', 'good', 'good', 'bad',\n",
              "       'good', 'good', 'good', 'good', 'good', 'good', 'good', 'good',\n",
              "       'bad', 'good', 'good', 'good', 'good', 'good', 'good', 'bad',\n",
              "       'bad', 'bad', 'good', 'bad', 'good', 'good', 'good', 'bad', 'bad',\n",
              "       'bad', 'good', 'good', 'good', 'good', 'good', 'good', 'good',\n",
              "       'good', 'good', 'good', 'bad', 'bad', 'bad', 'good', 'bad', 'bad',\n",
              "       'good', 'good', 'good', 'good', 'bad', 'good', 'bad', 'bad',\n",
              "       'good', 'good', 'good', 'bad', 'good', 'good', 'good', 'good',\n",
              "       'bad', 'bad', 'good', 'bad', 'good', 'good', 'good', 'good',\n",
              "       'good', 'bad', 'good', 'good', 'good', 'good', 'good', 'good',\n",
              "       'good', 'good', 'good', 'bad', 'bad', 'good', 'good', 'good',\n",
              "       'bad', 'good', 'good', 'good', 'bad', 'bad', 'bad', 'good', 'bad',\n",
              "       'good', 'good', 'bad', 'good', 'bad', 'bad', 'good', 'good',\n",
              "       'good', 'good', 'bad', 'good', 'bad', 'bad', 'good', 'good',\n",
              "       'good', 'good', 'good', 'bad', 'good', 'good', 'good', 'bad',\n",
              "       'bad', 'good', 'good', 'good', 'good', 'good', 'bad', 'good',\n",
              "       'good', 'good', 'good', 'good', 'bad', 'good', 'good', 'good',\n",
              "       'good', 'good', 'bad', 'good', 'good', 'bad', 'good', 'good',\n",
              "       'good', 'bad', 'bad', 'bad', 'good', 'good', 'good', 'good',\n",
              "       'good', 'good', 'good', 'bad', 'good', 'good', 'bad', 'good',\n",
              "       'good', 'good', 'good', 'good', 'good', 'good', 'good', 'good',\n",
              "       'good', 'good', 'good', 'good', 'good', 'good', 'good', 'good',\n",
              "       'good', 'bad', 'good', 'bad', 'good'], dtype='<U4')"
            ]
          },
          "metadata": {},
          "execution_count": 15
        }
      ]
    },
    {
      "cell_type": "code",
      "source": [
        "#geração da matriz de confusão e cálculo da taxa de acerto e erro\n",
        "confusao = confusion_matrix(y_teste, previsoes)\n",
        "confusao"
      ],
      "metadata": {
        "colab": {
          "base_uri": "https://localhost:8080/"
        },
        "id": "x8AEvJdfZJ0K",
        "outputId": "744b75b7-70b6-43f9-90c0-10414a5721fe"
      },
      "execution_count": null,
      "outputs": [
        {
          "output_type": "execute_result",
          "data": {
            "text/plain": [
              "array([[ 41,  45],\n",
              "       [ 42, 172]])"
            ]
          },
          "metadata": {},
          "execution_count": 16
        }
      ]
    },
    {
      "cell_type": "code",
      "source": [
        "taxa_acerto = accuracy_score(y_teste, previsoes)\n",
        "taxa_erro = 1 - taxa_acerto\n",
        "taxa_acerto"
      ],
      "metadata": {
        "colab": {
          "base_uri": "https://localhost:8080/"
        },
        "id": "srsfxcgCZKRe",
        "outputId": "aa85f3ac-c63b-4a00-b2f0-d0d068b0e016"
      },
      "execution_count": null,
      "outputs": [
        {
          "output_type": "execute_result",
          "data": {
            "text/plain": [
              "0.71"
            ]
          },
          "metadata": {},
          "execution_count": 17
        }
      ]
    },
    {
      "cell_type": "code",
      "source": [
        "# Visualização da matriz de confusão\n",
        "# Warning interno da biblioteca yellowbrick, já esta na última versão (sem solução para o warning no momento)\n",
        "v = ConfusionMatrix(GaussianNB())\n",
        "v.fit(X_treinamento, y_treinamento)\n",
        "v.score(X_teste, y_teste)\n",
        "v.poof()"
      ],
      "metadata": {
        "colab": {
          "base_uri": "https://localhost:8080/",
          "height": 418
        },
        "id": "qtEB09q4ZKux",
        "outputId": "176c1a53-9503-4c30-a02e-70b4b0fc7658"
      },
      "execution_count": null,
      "outputs": [
        {
          "output_type": "display_data",
          "data": {
            "text/plain": [
              "<Figure size 576x396 with 1 Axes>"
            ],
            "image/png": "[encoded data removed]"
          },
          "metadata": {}
        },
        {
          "output_type": "execute_result",
          "data": {
            "text/plain": [
              "<matplotlib.axes._subplots.AxesSubplot at 0x7fd5848f6880>"
            ]
          },
          "metadata": {},
          "execution_count": 18
        }
      ]
    },
    {
      "cell_type": "code",
      "source": [
        "# Previsão com novo registro, transformando os atributos categóricos em numéricos\n",
        "novo_credito = pd.read_csv('NovoCredit.csv')\n",
        "novo_credito.shape\n",
        "#novo_credito"
      ],
      "metadata": {
        "colab": {
          "base_uri": "https://localhost:8080/"
        },
        "id": "X0C3WjWqaQfm",
        "outputId": "1ed8aa46-6a39-46ee-b3ac-1545faebcd74"
      },
      "execution_count": null,
      "outputs": [
        {
          "output_type": "execute_result",
          "data": {
            "text/plain": [
              "(1, 20)"
            ]
          },
          "metadata": {},
          "execution_count": 33
        }
      ]
    },
    {
      "cell_type": "code",
      "source": [
        "'''previsores=novo_credito.iloc[:,0:20].values #pegandos os previsores da classe\n",
        "classe=novo_credito.iloc[:,20].values #classe em registro diferente'''"
      ],
      "metadata": {
        "id": "3XBgiEUxf9Aw"
      },
      "execution_count": null,
      "outputs": []
    },
    {
      "cell_type": "code",
      "source": [
        "# Usamos o mesmo objeto que foi criado antes, para manter o padrão dos dados\n",
        "# Chamamos somente o método \"transform\", pois a adaptação aos dados (fit) já foi feita anteriormente\n",
        "#novo_credito = novo_credito.iloc[:,0:20].values\n",
        "novo_credito[:,0] = labelEncoder1.transform(novo_credito[:,0])\n",
        "novo_credito[:, 2] = labelEncoder2.transform(novo_credito[:, 2])\n",
        "novo_credito[:, 3] = labelEncoder3.transform(novo_credito[:, 3])\n",
        "novo_credito[:, 5] = labelEncoder4.transform(novo_credito[:, 5])\n",
        "novo_credito[:, 6] = labelEncoder5.transform(novo_credito[:, 6])\n",
        "novo_credito[:, 8] = labelEncoder6.transform(novo_credito[:, 8])\n",
        "novo_credito[:, 9] = labelEncoder7.transform(novo_credito[:, 9])\n",
        "novo_credito[:, 11] = labelEncoder8.transform(novo_credito[:, 11])\n",
        "novo_credito[:, 13] = labelEncoder9.transform(novo_credito[:, 13])\n",
        "novo_credito[:, 14] = labelEncoder10.transform(novo_credito[:, 14])\n",
        "novo_credito[:, 16] = labelEncoder11.transform(novo_credito[:, 16])\n",
        "novo_credito[:, 18] = labelEncoder12.transform(novo_credito[:, 18])\n",
        "novo_credito[:, 19] = labelEncoder13.transform(novo_credito[:, 19])"
      ],
      "metadata": {
        "id": "SQOnlrbEZLAs"
      },
      "execution_count": null,
      "outputs": []
    },
    {
      "cell_type": "code",
      "source": [
        "naive_bayes.predict(novo_credito)"
      ],
      "metadata": {
        "colab": {
          "base_uri": "https://localhost:8080/"
        },
        "id": "3qiQ3Zi4eetB",
        "outputId": "03945cd4-d1e0-4776-f5a9-d46a2f1fc7cd"
      },
      "execution_count": null,
      "outputs": [
        {
          "output_type": "execute_result",
          "data": {
            "text/plain": [
              "array(['good'], dtype='<U4')"
            ]
          },
          "metadata": {},
          "execution_count": 37
        }
      ]
    },
    {
      "cell_type": "code",
      "source": [
        "#arvore de decisao 12/01"
      ],
      "metadata": {
        "id": "D3LdRU5vmuQp"
      },
      "execution_count": null,
      "outputs": []
    },
    {
      "cell_type": "code",
      "source": [
        "import pandas as pd\n",
        "from sklearn.model_selection import train_test_split \n",
        "from sklearn.naive_bayes import GaussianNB #ultilizar naive bayse\n",
        "from sklearn.preprocessing import LabelEncoder \n",
        "from sklearn.metrics import confusion_matrix , accuracy_score\n",
        "from yellowbrick.classifier import ConfusionMatrix #forma da matrix em grafico\n",
        "import graphviz\n",
        "from sklearn.tree import export_graphviz\n",
        "from sklearn.tree import DecisionTreeClassifier"
      ],
      "metadata": {
        "id": "jDrnwaITm7Sm"
      },
      "execution_count": null,
      "outputs": []
    },
    {
      "cell_type": "code",
      "source": [
        "credito=pd.read_csv('Credit.csv')\n",
        "credito.shape"
      ],
      "metadata": {
        "colab": {
          "base_uri": "https://localhost:8080/"
        },
        "id": "3YxlDSzIncb-",
        "outputId": "3b490a4b-9a52-41ae-a423-87701888a168"
      },
      "execution_count": null,
      "outputs": [
        {
          "output_type": "execute_result",
          "data": {
            "text/plain": [
              "(1000, 21)"
            ]
          },
          "metadata": {},
          "execution_count": 43
        }
      ]
    },
    {
      "cell_type": "code",
      "source": [
        "credito.head()"
      ],
      "metadata": {
        "colab": {
          "base_uri": "https://localhost:8080/",
          "height": 352
        },
        "id": "KbfNBH-bnn3N",
        "outputId": "a87db4cb-bee0-4233-ce0b-110b936e7c6d"
      },
      "execution_count": null,
      "outputs": [
        {
          "output_type": "execute_result",
          "data": {
            "text/plain": [
              "  checking_status  duration                    credit_history  \\\n",
              "0              <0         6  'critical/other existing credit'   \n",
              "1        0<=X<200        48                   'existing paid'   \n",
              "2   'no checking'        12  'critical/other existing credit'   \n",
              "3              <0        42                   'existing paid'   \n",
              "4              <0        24              'delayed previously'   \n",
              "\n",
              "               purpose  credit_amount      savings_status employment  \\\n",
              "0             radio/tv           1169  'no known savings'        >=7   \n",
              "1             radio/tv           5951                <100     1<=X<4   \n",
              "2            education           2096                <100     4<=X<7   \n",
              "3  furniture/equipment           7882                <100     4<=X<7   \n",
              "4            'new car'           4870                <100     1<=X<4   \n",
              "\n",
              "   installment_commitment       personal_status other_parties  ...  \\\n",
              "0                       4         'male single'          none  ...   \n",
              "1                       2  'female div/dep/mar'          none  ...   \n",
              "2                       2         'male single'          none  ...   \n",
              "3                       2         'male single'     guarantor  ...   \n",
              "4                       3         'male single'          none  ...   \n",
              "\n",
              "    property_magnitude age  other_payment_plans     housing existing_credits  \\\n",
              "0        'real estate'  67                 none         own                2   \n",
              "1        'real estate'  22                 none         own                1   \n",
              "2        'real estate'  49                 none         own                1   \n",
              "3     'life insurance'  45                 none  'for free'                1   \n",
              "4  'no known property'  53                 none  'for free'                2   \n",
              "\n",
              "                    job num_dependents  own_telephone foreign_worker class  \n",
              "0               skilled              1            yes            yes  good  \n",
              "1               skilled              1           none            yes   bad  \n",
              "2  'unskilled resident'              2           none            yes  good  \n",
              "3               skilled              2           none            yes  good  \n",
              "4               skilled              2           none            yes   bad  \n",
              "\n",
              "[5 rows x 21 columns]"
            ],
            "text/html": [
              "\n",
              "  <div id=\"df-ab328875-b3a0-4acd-a9d2-aad840d67adb\">\n",
              "    <div class=\"colab-df-container\">\n",
              "      <div>\n",
              "<style scoped>\n",
              "    .dataframe tbody tr th:only-of-type {\n",
              "        vertical-align: middle;\n",
              "    }\n",
              "\n",
              "    .dataframe tbody tr th {\n",
              "        vertical-align: top;\n",
              "    }\n",
              "\n",
              "    .dataframe thead th {\n",
              "        text-align: right;\n",
              "    }\n",
              "</style>\n",
              "<table border=\"1\" class=\"dataframe\">\n",
              "  <thead>\n",
              "    <tr style=\"text-align: right;\">\n",
              "      <th></th>\n",
              "      <th>checking_status</th>\n",
              "      <th>duration</th>\n",
              "      <th>credit_history</th>\n",
              "      <th>purpose</th>\n",
              "      <th>credit_amount</th>\n",
              "      <th>savings_status</th>\n",
              "      <th>employment</th>\n",
              "      <th>installment_commitment</th>\n",
              "      <th>personal_status</th>\n",
              "      <th>other_parties</th>\n",
              "      <th>...</th>\n",
              "      <th>property_magnitude</th>\n",
              "      <th>age</th>\n",
              "      <th>other_payment_plans</th>\n",
              "      <th>housing</th>\n",
              "      <th>existing_credits</th>\n",
              "      <th>job</th>\n",
              "      <th>num_dependents</th>\n",
              "      <th>own_telephone</th>\n",
              "      <th>foreign_worker</th>\n",
              "      <th>class</th>\n",
              "    </tr>\n",
              "  </thead>\n",
              "  <tbody>\n",
              "    <tr>\n",
              "      <th>0</th>\n",
              "      <td>&lt;0</td>\n",
              "      <td>6</td>\n",
              "      <td>'critical/other existing credit'</td>\n",
              "      <td>radio/tv</td>\n",
              "      <td>1169</td>\n",
              "      <td>'no known savings'</td>\n",
              "      <td>&gt;=7</td>\n",
              "      <td>4</td>\n",
              "      <td>'male single'</td>\n",
              "      <td>none</td>\n",
              "      <td>...</td>\n",
              "      <td>'real estate'</td>\n",
              "      <td>67</td>\n",
              "      <td>none</td>\n",
              "      <td>own</td>\n",
              "      <td>2</td>\n",
              "      <td>skilled</td>\n",
              "      <td>1</td>\n",
              "      <td>yes</td>\n",
              "      <td>yes</td>\n",
              "      <td>good</td>\n",
              "    </tr>\n",
              "    <tr>\n",
              "      <th>1</th>\n",
              "      <td>0&lt;=X&lt;200</td>\n",
              "      <td>48</td>\n",
              "      <td>'existing paid'</td>\n",
              "      <td>radio/tv</td>\n",
              "      <td>5951</td>\n",
              "      <td>&lt;100</td>\n",
              "      <td>1&lt;=X&lt;4</td>\n",
              "      <td>2</td>\n",
              "      <td>'female div/dep/mar'</td>\n",
              "      <td>none</td>\n",
              "      <td>...</td>\n",
              "      <td>'real estate'</td>\n",
              "      <td>22</td>\n",
              "      <td>none</td>\n",
              "      <td>own</td>\n",
              "      <td>1</td>\n",
              "      <td>skilled</td>\n",
              "      <td>1</td>\n",
              "      <td>none</td>\n",
              "      <td>yes</td>\n",
              "      <td>bad</td>\n",
              "    </tr>\n",
              "    <tr>\n",
              "      <th>2</th>\n",
              "      <td>'no checking'</td>\n",
              "      <td>12</td>\n",
              "      <td>'critical/other existing credit'</td>\n",
              "      <td>education</td>\n",
              "      <td>2096</td>\n",
              "      <td>&lt;100</td>\n",
              "      <td>4&lt;=X&lt;7</td>\n",
              "      <td>2</td>\n",
              "      <td>'male single'</td>\n",
              "      <td>none</td>\n",
              "      <td>...</td>\n",
              "      <td>'real estate'</td>\n",
              "      <td>49</td>\n",
              "      <td>none</td>\n",
              "      <td>own</td>\n",
              "      <td>1</td>\n",
              "      <td>'unskilled resident'</td>\n",
              "      <td>2</td>\n",
              "      <td>none</td>\n",
              "      <td>yes</td>\n",
              "      <td>good</td>\n",
              "    </tr>\n",
              "    <tr>\n",
              "      <th>3</th>\n",
              "      <td>&lt;0</td>\n",
              "      <td>42</td>\n",
              "      <td>'existing paid'</td>\n",
              "      <td>furniture/equipment</td>\n",
              "      <td>7882</td>\n",
              "      <td>&lt;100</td>\n",
              "      <td>4&lt;=X&lt;7</td>\n",
              "      <td>2</td>\n",
              "      <td>'male single'</td>\n",
              "      <td>guarantor</td>\n",
              "      <td>...</td>\n",
              "      <td>'life insurance'</td>\n",
              "      <td>45</td>\n",
              "      <td>none</td>\n",
              "      <td>'for free'</td>\n",
              "      <td>1</td>\n",
              "      <td>skilled</td>\n",
              "      <td>2</td>\n",
              "      <td>none</td>\n",
              "      <td>yes</td>\n",
              "      <td>good</td>\n",
              "    </tr>\n",
              "    <tr>\n",
              "      <th>4</th>\n",
              "      <td>&lt;0</td>\n",
              "      <td>24</td>\n",
              "      <td>'delayed previously'</td>\n",
              "      <td>'new car'</td>\n",
              "      <td>4870</td>\n",
              "      <td>&lt;100</td>\n",
              "      <td>1&lt;=X&lt;4</td>\n",
              "      <td>3</td>\n",
              "      <td>'male single'</td>\n",
              "      <td>none</td>\n",
              "      <td>...</td>\n",
              "      <td>'no known property'</td>\n",
              "      <td>53</td>\n",
              "      <td>none</td>\n",
              "      <td>'for free'</td>\n",
              "      <td>2</td>\n",
              "      <td>skilled</td>\n",
              "      <td>2</td>\n",
              "      <td>none</td>\n",
              "      <td>yes</td>\n",
              "      <td>bad</td>\n",
              "    </tr>\n",
              "  </tbody>\n",
              "</table>\n",
              "<p>5 rows × 21 columns</p>\n",
              "</div>\n",
              "      <button class=\"colab-df-convert\" onclick=\"convertToInteractive('df-ab328875-b3a0-4acd-a9d2-aad840d67adb')\"\n",
              "              title=\"Convert this dataframe to an interactive table.\"\n",
              "              style=\"display:none;\">\n",
              "        \n",
              "  <svg xmlns=\"http://www.w3.org/2000/svg\" height=\"24px\"viewBox=\"0 0 24 24\"\n",
              "       width=\"24px\">\n",
              "    <path d=\"M0 0h24v24H0V0z\" fill=\"none\"/>\n",
              "    <path d=\"M18.56 5.44l.94 2.06.94-2.06 2.06-.94-2.06-.94-.94-2.06-.94 2.06-2.06.94zm-11 1L8.5 8.5l.94-2.06 2.06-.94-2.06-.94L8.5 2.5l-.94 2.06-2.06.94zm10 10l.94 2.06.94-2.06 2.06-.94-2.06-.94-.94-2.06-.94 2.06-2.06.94z\"/><path d=\"M17.41 7.96l-1.37-1.37c-.4-.4-.92-.59-1.43-.59-.52 0-1.04.2-1.43.59L10.3 9.45l-7.72 7.72c-.78.78-.78 2.05 0 2.83L4 21.41c.39.39.9.59 1.41.59.51 0 1.02-.2 1.41-.59l7.78-7.78 2.81-2.81c.8-.78.8-2.07 0-2.86zM5.41 20L4 18.59l7.72-7.72 1.47 1.35L5.41 20z\"/>\n",
              "  </svg>\n",
              "      </button>\n",
              "      \n",
              "  <style>\n",
              "    .colab-df-container {\n",
              "      display:flex;\n",
              "      flex-wrap:wrap;\n",
              "      gap: 12px;\n",
              "    }\n",
              "\n",
              "    .colab-df-convert {\n",
              "      background-color: #E8F0FE;\n",
              "      border: none;\n",
              "      border-radius: 50%;\n",
              "      cursor: pointer;\n",
              "      display: none;\n",
              "      fill: #1967D2;\n",
              "      height: 32px;\n",
              "      padding: 0 0 0 0;\n",
              "      width: 32px;\n",
              "    }\n",
              "\n",
              "    .colab-df-convert:hover {\n",
              "      background-color: #E2EBFA;\n",
              "      box-shadow: 0px 1px 2px rgba(60, 64, 67, 0.3), 0px 1px 3px 1px rgba(60, 64, 67, 0.15);\n",
              "      fill: #174EA6;\n",
              "    }\n",
              "\n",
              "    [theme=dark] .colab-df-convert {\n",
              "      background-color: #3B4455;\n",
              "      fill: #D2E3FC;\n",
              "    }\n",
              "\n",
              "    [theme=dark] .colab-df-convert:hover {\n",
              "      background-color: #434B5C;\n",
              "      box-shadow: 0px 1px 3px 1px rgba(0, 0, 0, 0.15);\n",
              "      filter: drop-shadow(0px 1px 2px rgba(0, 0, 0, 0.3));\n",
              "      fill: #FFFFFF;\n",
              "    }\n",
              "  </style>\n",
              "\n",
              "      <script>\n",
              "        const buttonEl =\n",
              "          document.querySelector('#df-ab328875-b3a0-4acd-a9d2-aad840d67adb button.colab-df-convert');\n",
              "        buttonEl.style.display =\n",
              "          google.colab.kernel.accessAllowed ? 'block' : 'none';\n",
              "\n",
              "        async function convertToInteractive(key) {\n",
              "          const element = document.querySelector('#df-ab328875-b3a0-4acd-a9d2-aad840d67adb');\n",
              "          const dataTable =\n",
              "            await google.colab.kernel.invokeFunction('convertToInteractive',\n",
              "                                                     [key], {});\n",
              "          if (!dataTable) return;\n",
              "\n",
              "          const docLinkHtml = 'Like what you see? Visit the ' +\n",
              "            '<a target=\"_blank\" href=https://colab.research.google.com/notebooks/data_table.ipynb>data table notebook</a>'\n",
              "            + ' to learn more about interactive tables.';\n",
              "          element.innerHTML = '';\n",
              "          dataTable['output_type'] = 'display_data';\n",
              "          await google.colab.output.renderOutput(dataTable, element);\n",
              "          const docLink = document.createElement('div');\n",
              "          docLink.innerHTML = docLinkHtml;\n",
              "          element.appendChild(docLink);\n",
              "        }\n",
              "      </script>\n",
              "    </div>\n",
              "  </div>\n",
              "  "
            ]
          },
          "metadata": {},
          "execution_count": 44
        }
      ]
    },
    {
      "cell_type": "code",
      "source": [
        "previsores=credito.iloc[:,0:20].values\n",
        "classe=credito.iloc[:,20].values"
      ],
      "metadata": {
        "id": "CWryh5PunrUw"
      },
      "execution_count": null,
      "outputs": []
    },
    {
      "cell_type": "code",
      "source": [
        "labelencoder1 = LabelEncoder()\n",
        "previsores[:,0] = labelencoder1.fit_transform(previsores[:,0])\n",
        "\n",
        "labelencoder2 = LabelEncoder()\n",
        "previsores[:,2] = labelencoder2.fit_transform(previsores[:,2])\n",
        "\n",
        "labelencoder3 = LabelEncoder()\n",
        "previsores[:, 3] = labelencoder3.fit_transform(previsores[:, 3])\n",
        "\n",
        "labelencoder4 = LabelEncoder()\n",
        "previsores[:, 5] = labelencoder4.fit_transform(previsores[:, 5])\n",
        "\n",
        "labelencoder5 = LabelEncoder()\n",
        "previsores[:, 6] = labelencoder5.fit_transform(previsores[:, 6])\n",
        "\n",
        "labelencoder6 = LabelEncoder()\n",
        "previsores[:, 8] = labelencoder6.fit_transform(previsores[:, 8])\n",
        "\n",
        "labelencoder7 = LabelEncoder()\n",
        "previsores[:, 9] = labelencoder7.fit_transform(previsores[:, 9])\n",
        "\n",
        "labelencoder8 = LabelEncoder()\n",
        "previsores[:, 11] = labelencoder8.fit_transform(previsores[:, 11])\n",
        "\n",
        "labelencoder9 = LabelEncoder()\n",
        "previsores[:, 13] = labelencoder9.fit_transform(previsores[:, 13])\n",
        "\n",
        "labelencoder10 = LabelEncoder()\n",
        "previsores[:, 14] = labelencoder10.fit_transform(previsores[:, 14])\n",
        "\n",
        "labelencoder11 = LabelEncoder()\n",
        "previsores[:, 16] = labelencoder11.fit_transform(previsores[:, 16])\n",
        "\n",
        "labelencoder12 = LabelEncoder()\n",
        "previsores[:, 18] = labelencoder12.fit_transform(previsores[:, 18])\n",
        "\n",
        "labelencoder13 = LabelEncoder()\n",
        "previsores[:, 19] = labelencoder13.fit_transform(previsores[:, 19])"
      ],
      "metadata": {
        "id": "w_hX30D9oW4D"
      },
      "execution_count": null,
      "outputs": []
    },
    {
      "cell_type": "code",
      "source": [
        "# Divisão da base de dados entre treinamento e teste (30% para testar e 70% para treinar)\n",
        "X_treinamentoA, X_teste, y_treinamentoA, y_teste = train_test_split(previsores,\n",
        "                                                                  classe,\n",
        "                                                                  test_size = 0.3,\n",
        "                                                                  random_state = 0)\n",
        "X_teste"
      ],
      "metadata": {
        "colab": {
          "base_uri": "https://localhost:8080/"
        },
        "id": "ivvFHxnnolks",
        "outputId": "99c45269-20c9-4f70-999b-bbe4c54edd51"
      },
      "execution_count": null,
      "outputs": [
        {
          "output_type": "execute_result",
          "data": {
            "text/plain": [
              "array([[1, 15, 0, ..., 2, 1, 1],\n",
              "       [2, 36, 3, ..., 1, 0, 1],\n",
              "       [0, 12, 4, ..., 1, 0, 1],\n",
              "       ...,\n",
              "       [1, 15, 1, ..., 1, 1, 1],\n",
              "       [1, 24, 3, ..., 1, 0, 1],\n",
              "       [1, 9, 1, ..., 2, 0, 1]], dtype=object)"
            ]
          },
          "metadata": {},
          "execution_count": 72
        }
      ]
    },
    {
      "cell_type": "code",
      "source": [
        "\n",
        "#modelo de treino com tree\n",
        "arv=DecisionTreeClassifier()\n",
        "arv.fit(X_treinamentoA,y_treinamentoA)"
      ],
      "metadata": {
        "colab": {
          "base_uri": "https://localhost:8080/"
        },
        "id": "8jTIQqzgp9u-",
        "outputId": "3af78a62-7a89-4461-d92c-f7e43dca8393"
      },
      "execution_count": null,
      "outputs": [
        {
          "output_type": "execute_result",
          "data": {
            "text/plain": [
              "DecisionTreeClassifier()"
            ]
          },
          "metadata": {},
          "execution_count": 73
        }
      ]
    },
    {
      "cell_type": "code",
      "source": [
        "#exportacao da arv em .dot pra vizualizar\n",
        "export_graphviz(arv, out_file='tree.dot')"
      ],
      "metadata": {
        "id": "wniIsufQqUIv"
      },
      "execution_count": null,
      "outputs": []
    },
    {
      "cell_type": "code",
      "source": [
        "#previsoes\n",
        "previsoe=arv.predict(X_teste)\n",
        "previsoes"
      ],
      "metadata": {
        "colab": {
          "base_uri": "https://localhost:8080/"
        },
        "id": "Z9va5oQzqlyr",
        "outputId": "5950d830-ee8d-42e0-b59f-0d9b1bc23271"
      },
      "execution_count": null,
      "outputs": [
        {
          "output_type": "execute_result",
          "data": {
            "text/plain": [
              "array(['bad', 'good', 'good', 'good', 'bad', 'good', 'good', 'good',\n",
              "       'good', 'bad', 'bad', 'bad', 'good', 'bad', 'good', 'good', 'good',\n",
              "       'good', 'bad', 'good', 'bad', 'good', 'bad', 'good', 'good', 'bad',\n",
              "       'good', 'good', 'good', 'bad', 'good', 'good', 'good', 'good',\n",
              "       'good', 'bad', 'good', 'good', 'good', 'good', 'good', 'bad',\n",
              "       'good', 'good', 'good', 'bad', 'bad', 'bad', 'bad', 'bad', 'good',\n",
              "       'bad', 'good', 'good', 'good', 'good', 'bad', 'good', 'good',\n",
              "       'good', 'bad', 'good', 'good', 'good', 'good', 'good', 'good',\n",
              "       'good', 'bad', 'good', 'good', 'good', 'good', 'good', 'bad',\n",
              "       'good', 'good', 'good', 'good', 'good', 'good', 'good', 'good',\n",
              "       'bad', 'good', 'good', 'bad', 'bad', 'good', 'bad', 'good', 'good',\n",
              "       'good', 'good', 'good', 'good', 'good', 'good', 'good', 'good',\n",
              "       'good', 'good', 'good', 'bad', 'good', 'good', 'bad', 'bad',\n",
              "       'good', 'good', 'good', 'bad', 'good', 'good', 'bad', 'good',\n",
              "       'good', 'good', 'good', 'bad', 'bad', 'good', 'good', 'bad',\n",
              "       'good', 'good', 'good', 'good', 'good', 'good', 'good', 'good',\n",
              "       'bad', 'good', 'good', 'good', 'good', 'good', 'good', 'bad',\n",
              "       'bad', 'bad', 'good', 'bad', 'good', 'good', 'good', 'bad', 'bad',\n",
              "       'bad', 'good', 'good', 'good', 'good', 'good', 'good', 'good',\n",
              "       'good', 'good', 'good', 'bad', 'bad', 'bad', 'good', 'bad', 'bad',\n",
              "       'good', 'good', 'good', 'good', 'bad', 'good', 'bad', 'bad',\n",
              "       'good', 'good', 'good', 'bad', 'good', 'good', 'good', 'good',\n",
              "       'bad', 'bad', 'good', 'bad', 'good', 'good', 'good', 'good',\n",
              "       'good', 'bad', 'good', 'good', 'good', 'good', 'good', 'good',\n",
              "       'good', 'good', 'good', 'bad', 'bad', 'good', 'good', 'good',\n",
              "       'bad', 'good', 'good', 'good', 'bad', 'bad', 'bad', 'good', 'bad',\n",
              "       'good', 'good', 'bad', 'good', 'bad', 'bad', 'good', 'good',\n",
              "       'good', 'good', 'bad', 'good', 'bad', 'bad', 'good', 'good',\n",
              "       'good', 'good', 'good', 'bad', 'good', 'good', 'good', 'bad',\n",
              "       'bad', 'good', 'good', 'good', 'good', 'good', 'bad', 'good',\n",
              "       'good', 'good', 'good', 'good', 'bad', 'good', 'good', 'good',\n",
              "       'good', 'good', 'bad', 'good', 'good', 'bad', 'good', 'good',\n",
              "       'good', 'bad', 'bad', 'bad', 'good', 'good', 'good', 'good',\n",
              "       'good', 'good', 'good', 'bad', 'good', 'good', 'bad', 'good',\n",
              "       'good', 'good', 'good', 'good', 'good', 'good', 'good', 'good',\n",
              "       'good', 'good', 'good', 'good', 'good', 'good', 'good', 'good',\n",
              "       'good', 'bad', 'good', 'bad', 'good'], dtype='<U4')"
            ]
          },
          "metadata": {},
          "execution_count": 58
        }
      ]
    },
    {
      "cell_type": "code",
      "source": [
        "#taxa de acerto\n",
        "taxa_acerto2=accuracy_score(y_teste,previsoes)\n",
        "taxa_acerto2"
      ],
      "metadata": {
        "colab": {
          "base_uri": "https://localhost:8080/"
        },
        "id": "jwvlqM4EqymW",
        "outputId": "439efcb5-9d5a-4581-c8d7-6d12d03b9360"
      },
      "execution_count": null,
      "outputs": [
        {
          "output_type": "execute_result",
          "data": {
            "text/plain": [
              "0.71"
            ]
          },
          "metadata": {},
          "execution_count": 59
        }
      ]
    },
    {
      "cell_type": "code",
      "source": [
        "#erro\n",
        "taxa_erro=1- taxa_acerto2\n",
        "taxa_erro"
      ],
      "metadata": {
        "colab": {
          "base_uri": "https://localhost:8080/"
        },
        "id": "WeOf5LABrCrK",
        "outputId": "b73bc827-9de0-4d77-dc06-7370b6914cc2"
      },
      "execution_count": null,
      "outputs": [
        {
          "output_type": "execute_result",
          "data": {
            "text/plain": [
              "0.29000000000000004"
            ]
          },
          "metadata": {},
          "execution_count": 60
        }
      ]
    },
    {
      "cell_type": "code",
      "source": [
        "import pandas as pd\n",
        "from sklearn.model_selection import train_test_split \n",
        "from sklearn.naive_bayes import GaussianNB #ultilizar naive bayse\n",
        "from sklearn.preprocessing import LabelEncoder \n",
        "from sklearn.metrics import confusion_matrix , accuracy_score\n",
        "from yellowbrick.classifier import ConfusionMatrix #forma da matrix em grafico\n",
        "import graphviz\n",
        "from sklearn.tree import export_graphviz\n",
        "from sklearn.tree import DecisionTreeClassifier\n",
        "from sklearn.ensemble import ExtraTreesClassifier\n",
        "from sklearn.svm import SVC\n"
      ],
      "metadata": {
        "id": "QFiZnTCfxeP7"
      },
      "execution_count": null,
      "outputs": []
    },
    {
      "cell_type": "code",
      "source": [
        "credito=pd.read_csv('Credit.csv')\n",
        "credito.shape"
      ],
      "metadata": {
        "colab": {
          "base_uri": "https://localhost:8080/"
        },
        "id": "RgiF5W5Vx8FO",
        "outputId": "9bd3ac3f-325d-47eb-ad69-55a39ccc7661"
      },
      "execution_count": null,
      "outputs": [
        {
          "output_type": "execute_result",
          "data": {
            "text/plain": [
              "(1000, 21)"
            ]
          },
          "metadata": {},
          "execution_count": 28
        }
      ]
    },
    {
      "cell_type": "code",
      "source": [
        "pvs=credito.iloc[:,0:20].values\n",
        "classe=credito.iloc[:,20].values"
      ],
      "metadata": {
        "id": "HwYJo9tpyEGr"
      },
      "execution_count": null,
      "outputs": []
    },
    {
      "cell_type": "code",
      "source": [
        "labelencoder1 = LabelEncoder()\n",
        "previsores[:,0] = labelencoder1.fit_transform(previsores[:,0])\n",
        "\n",
        "labelencoder2 = LabelEncoder()\n",
        "previsores[:,2] = labelencoder2.fit_transform(previsores[:,2])\n",
        "\n",
        "labelencoder3 = LabelEncoder()\n",
        "previsores[:, 3] = labelencoder3.fit_transform(previsores[:, 3])\n",
        "\n",
        "labelencoder4 = LabelEncoder()\n",
        "previsores[:, 5] = labelencoder4.fit_transform(previsores[:, 5])\n",
        "\n",
        "labelencoder5 = LabelEncoder()\n",
        "previsores[:, 6] = labelencoder5.fit_transform(previsores[:, 6])\n",
        "\n",
        "labelencoder6 = LabelEncoder()\n",
        "previsores[:, 8] = labelencoder6.fit_transform(previsores[:, 8])\n",
        "\n",
        "labelencoder7 = LabelEncoder()\n",
        "previsores[:, 9] = labelencoder7.fit_transform(previsores[:, 9])\n",
        "\n",
        "labelencoder8 = LabelEncoder()\n",
        "previsores[:, 11] = labelencoder8.fit_transform(previsores[:, 11])\n",
        "\n",
        "labelencoder9 = LabelEncoder()\n",
        "previsores[:, 13] = labelencoder9.fit_transform(previsores[:, 13])\n",
        "\n",
        "labelencoder10 = LabelEncoder()\n",
        "previsores[:, 14] = labelencoder10.fit_transform(previsores[:, 14])\n",
        "\n",
        "labelencoder11 = LabelEncoder()\n",
        "previsores[:, 16] = labelencoder11.fit_transform(previsores[:, 16])\n",
        "\n",
        "labelencoder12 = LabelEncoder()\n",
        "previsores[:, 18] = labelencoder12.fit_transform(previsores[:, 18])\n",
        "\n",
        "labelencoder13 = LabelEncoder()\n",
        "previsores[:, 19] = labelencoder13.fit_transform(previsores[:, 19])"
      ],
      "metadata": {
        "id": "jxy1QDLJ3NN2"
      },
      "execution_count": null,
      "outputs": []
    },
    {
      "cell_type": "code",
      "source": [
        "# Divisão da base de dados entre treinamento e teste (30% para testar e 70% para treinar)\n",
        "X_treino, X_teste, y_treinamento, y_teste = train_test_split(previsores,\n",
        "                                                                  classe,\n",
        "                                                                  test_size = 0.3,\n",
        "                                                                  random_state = 1)\n",
        "X_teste"
      ],
      "metadata": {
        "colab": {
          "base_uri": "https://localhost:8080/"
        },
        "id": "q_iEuFuxyZV7",
        "outputId": "da0a2c09-72a0-41b4-a202-4f959f36faa9"
      },
      "execution_count": null,
      "outputs": [
        {
          "output_type": "execute_result",
          "data": {
            "text/plain": [
              "array([[1, 15, 0, ..., 2, 1, 1],\n",
              "       [2, 36, 3, ..., 1, 0, 1],\n",
              "       [0, 12, 4, ..., 1, 0, 1],\n",
              "       ...,\n",
              "       [1, 15, 1, ..., 1, 1, 1],\n",
              "       [1, 24, 3, ..., 1, 0, 1],\n",
              "       [1, 9, 1, ..., 2, 0, 1]], dtype=object)"
            ]
          },
          "metadata": {},
          "execution_count": 38
        }
      ]
    },
    {
      "cell_type": "code",
      "source": [
        "#criacao do modelo de treinamento com vetor de suporte\n",
        "svm=SVC()\n",
        "svm.fit(X_treino,y_treinamento)"
      ],
      "metadata": {
        "colab": {
          "base_uri": "https://localhost:8080/"
        },
        "id": "8cT53shUygaB",
        "outputId": "6fd2f335-03a5-4578-cc60-0f3464883f34"
      },
      "execution_count": null,
      "outputs": [
        {
          "output_type": "execute_result",
          "data": {
            "text/plain": [
              "SVC()"
            ]
          },
          "metadata": {},
          "execution_count": 39
        }
      ]
    },
    {
      "cell_type": "code",
      "source": [
        "#previsoes de treino\n",
        "previsores=svm.predict(X_treino)\n",
        "previsores"
      ],
      "metadata": {
        "colab": {
          "base_uri": "https://localhost:8080/"
        },
        "id": "poMLhlrw0bfc",
        "outputId": "dbe94dda-7114-42a8-b3e9-50a6827932db"
      },
      "execution_count": null,
      "outputs": [
        {
          "output_type": "execute_result",
          "data": {
            "text/plain": [
              "array(['good', 'good', 'good', 'good', 'good', 'good', 'good', 'good',\n",
              "       'good', 'good', 'good', 'good', 'good', 'good', 'good', 'good',\n",
              "       'good', 'good', 'good', 'good', 'good', 'good', 'good', 'good',\n",
              "       'good', 'good', 'good', 'good', 'good', 'bad', 'good', 'good',\n",
              "       'good', 'good', 'good', 'good', 'good', 'good', 'good', 'good',\n",
              "       'good', 'bad', 'good', 'good', 'good', 'good', 'good', 'good',\n",
              "       'good', 'good', 'good', 'good', 'good', 'good', 'good', 'good',\n",
              "       'good', 'good', 'good', 'good', 'good', 'good', 'good', 'good',\n",
              "       'good', 'good', 'good', 'good', 'good', 'good', 'good', 'good',\n",
              "       'good', 'good', 'bad', 'good', 'good', 'good', 'good', 'good',\n",
              "       'good', 'good', 'good', 'good', 'good', 'good', 'good', 'good',\n",
              "       'good', 'good', 'good', 'good', 'good', 'good', 'good', 'good',\n",
              "       'good', 'good', 'good', 'good', 'good', 'good', 'good', 'good',\n",
              "       'good', 'good', 'good', 'good', 'good', 'good', 'good', 'good',\n",
              "       'good', 'good', 'good', 'good', 'good', 'good', 'good', 'good',\n",
              "       'good', 'good', 'good', 'good', 'good', 'bad', 'good', 'good',\n",
              "       'good', 'good', 'good', 'good', 'good', 'good', 'good', 'good',\n",
              "       'good', 'good', 'good', 'good', 'bad', 'good', 'good', 'good',\n",
              "       'good', 'good', 'good', 'good', 'good', 'good', 'good', 'good',\n",
              "       'good', 'good', 'good', 'good', 'good', 'bad', 'good', 'good',\n",
              "       'good', 'good', 'good', 'good', 'good', 'good', 'good', 'good',\n",
              "       'good', 'good', 'good', 'good', 'good', 'good', 'good', 'good',\n",
              "       'good', 'good', 'good', 'good', 'good', 'good', 'good', 'good',\n",
              "       'good', 'good', 'good', 'good', 'good', 'good', 'good', 'good',\n",
              "       'good', 'good', 'good', 'good', 'good', 'good', 'good', 'good',\n",
              "       'good', 'good', 'good', 'good', 'good', 'good', 'good', 'good',\n",
              "       'good', 'good', 'good', 'good', 'good', 'good', 'good', 'good',\n",
              "       'good', 'good', 'good', 'bad', 'good', 'good', 'good', 'good',\n",
              "       'good', 'good', 'good', 'good', 'good', 'good', 'good', 'good',\n",
              "       'good', 'good', 'good', 'good', 'good', 'good', 'good', 'good',\n",
              "       'bad', 'good', 'good', 'good', 'bad', 'good', 'good', 'good',\n",
              "       'good', 'good', 'good', 'good', 'good', 'good', 'good', 'good',\n",
              "       'good', 'good', 'good', 'bad', 'good', 'good', 'good', 'good',\n",
              "       'good', 'good', 'good', 'good', 'good', 'good', 'good', 'good',\n",
              "       'good', 'good', 'good', 'good', 'good', 'good', 'good', 'good',\n",
              "       'good', 'good', 'good', 'good', 'good', 'good', 'good', 'good',\n",
              "       'good', 'good', 'good', 'good', 'good', 'good', 'good', 'bad',\n",
              "       'good', 'good', 'good', 'good', 'good', 'good', 'good', 'good',\n",
              "       'good', 'good', 'good', 'good', 'good', 'good', 'good', 'good',\n",
              "       'good', 'good', 'bad', 'good', 'good', 'good', 'good', 'good',\n",
              "       'good', 'good', 'good', 'good', 'good', 'good', 'good', 'good',\n",
              "       'good', 'good', 'good', 'good', 'good', 'good', 'good', 'good',\n",
              "       'good', 'good', 'good', 'good', 'good', 'good', 'good', 'good',\n",
              "       'good', 'good', 'good', 'good', 'good', 'good', 'good', 'bad',\n",
              "       'good', 'good', 'good', 'good', 'bad', 'good', 'good', 'good',\n",
              "       'good', 'good', 'good', 'good', 'good', 'good', 'good', 'good',\n",
              "       'good', 'good', 'good', 'good', 'good', 'good', 'good', 'good',\n",
              "       'good', 'good', 'good', 'good', 'good', 'good', 'good', 'good',\n",
              "       'good', 'good', 'good', 'good', 'good', 'good', 'good', 'good',\n",
              "       'good', 'good', 'good', 'good', 'good', 'good', 'good', 'bad',\n",
              "       'good', 'good', 'good', 'good', 'good', 'good', 'good', 'good',\n",
              "       'good', 'good', 'good', 'good', 'good', 'good', 'good', 'good',\n",
              "       'good', 'good', 'good', 'good', 'good', 'good', 'good', 'good',\n",
              "       'good', 'good', 'good', 'good', 'good', 'good', 'good', 'good',\n",
              "       'good', 'good', 'good', 'good', 'good', 'good', 'good', 'good',\n",
              "       'good', 'good', 'good', 'good', 'good', 'good', 'good', 'good',\n",
              "       'good', 'good', 'good', 'good', 'good', 'good', 'good', 'good',\n",
              "       'good', 'good', 'good', 'good', 'good', 'good', 'good', 'good',\n",
              "       'good', 'good', 'good', 'good', 'good', 'good', 'good', 'good',\n",
              "       'bad', 'good', 'good', 'good', 'good', 'good', 'good', 'good',\n",
              "       'good', 'good', 'good', 'good', 'good', 'good', 'good', 'good',\n",
              "       'good', 'good', 'good', 'good', 'good', 'good', 'good', 'good',\n",
              "       'bad', 'good', 'good', 'good', 'good', 'good', 'good', 'good',\n",
              "       'good', 'good', 'bad', 'good', 'good', 'good', 'good', 'good',\n",
              "       'good', 'good', 'good', 'good', 'good', 'good', 'good', 'good',\n",
              "       'good', 'good', 'good', 'good', 'good', 'good', 'good', 'good',\n",
              "       'good', 'good', 'good', 'good', 'good', 'good', 'good', 'good',\n",
              "       'bad', 'good', 'good', 'good', 'good', 'good', 'good', 'good',\n",
              "       'good', 'good', 'good', 'good', 'good', 'good', 'bad', 'good',\n",
              "       'good', 'good', 'good', 'good', 'good', 'good', 'good', 'good',\n",
              "       'good', 'good', 'good', 'good', 'good', 'good', 'good', 'good',\n",
              "       'good', 'good', 'good', 'good', 'good', 'good', 'good', 'good',\n",
              "       'good', 'good', 'good', 'good', 'good', 'good', 'good', 'good',\n",
              "       'good', 'good', 'good', 'good', 'good', 'good', 'good', 'good',\n",
              "       'good', 'good', 'good', 'bad', 'good', 'good', 'good', 'good',\n",
              "       'good', 'good', 'good', 'good', 'good', 'good', 'good', 'good',\n",
              "       'bad', 'good', 'good', 'good', 'good', 'good', 'good', 'good',\n",
              "       'good', 'good', 'good', 'good', 'good', 'good', 'good', 'good',\n",
              "       'good', 'good', 'good', 'good', 'good', 'good', 'good', 'good',\n",
              "       'good', 'good', 'good', 'good', 'good', 'good', 'good', 'bad',\n",
              "       'good', 'good', 'good', 'good', 'good', 'good', 'bad', 'good',\n",
              "       'good', 'good', 'good', 'good', 'good', 'good', 'good', 'good',\n",
              "       'good', 'good', 'good', 'good', 'good', 'good', 'good', 'good',\n",
              "       'good', 'good', 'good', 'good', 'good', 'good', 'good', 'good',\n",
              "       'good', 'good', 'good', 'good', 'good', 'good', 'good', 'good',\n",
              "       'good', 'good', 'good', 'good', 'good', 'good', 'good', 'good',\n",
              "       'good', 'good', 'good', 'good', 'good', 'good', 'good', 'good',\n",
              "       'good', 'good', 'good', 'good'], dtype=object)"
            ]
          },
          "metadata": {},
          "execution_count": 42
        }
      ]
    },
    {
      "cell_type": "code",
      "source": [
        "'''taxa_acerto = accuracy_score(y_teste, previsoes)\n",
        "taxa_acerto'''"
      ],
      "metadata": {
        "id": "tLE-fslL0nGH"
      },
      "execution_count": null,
      "outputs": []
    },
    {
      "cell_type": "code",
      "source": [
        "forest= ExtraTreesClassifier()\n",
        "forest.fit(X_treino, y_treinamento)\n",
        "importancias= forest.feature_importances_\n",
        "importancias"
      ],
      "metadata": {
        "id": "iZXNu5yP1cBd",
        "colab": {
          "base_uri": "https://localhost:8080/"
        },
        "outputId": "e501c6cb-1a8f-4904-c654-257effe1821b"
      },
      "execution_count": null,
      "outputs": [
        {
          "output_type": "execute_result",
          "data": {
            "text/plain": [
              "array([0.10279421, 0.0803875 , 0.0670761 , 0.0611044 , 0.0816487 ,\n",
              "       0.05487028, 0.04996379, 0.05453965, 0.04344835, 0.02842405,\n",
              "       0.04816835, 0.0462817 , 0.07072119, 0.0423491 , 0.03476832,\n",
              "       0.03418078, 0.04014703, 0.02168586, 0.03124591, 0.00619471])"
            ]
          },
          "metadata": {},
          "execution_count": 45
        }
      ]
    },
    {
      "cell_type": "code",
      "source": [
        "X_treino=X_treino[:[0,1,2,3]]\n",
        "X_teste"
      ],
      "metadata": {
        "id": "A2hdUQ1Pi-5M"
      },
      "execution_count": null,
      "outputs": []
    },
    {
      "cell_type": "code",
      "source": [
        "import pandas as pd\n",
        "from sklearn.model_selection import train_test_split \n",
        "from sklearn.metrics import confusion_matrix , accuracy_score\n",
        "from scipy import stats\n",
        "from sklearn import datasets\n",
        "from sklearn.neighbors import KNeighborsClassifier"
      ],
      "metadata": {
        "id": "lxLUOBSPk7ur"
      },
      "execution_count": null,
      "outputs": []
    },
    {
      "cell_type": "code",
      "source": [
        "iristemp=pd.read_csv('iris.csv')\n",
        "iristemp.head()"
      ],
      "metadata": {
        "colab": {
          "base_uri": "https://localhost:8080/",
          "height": 206
        },
        "id": "nmUjuQZxlf65",
        "outputId": "10d9e6cb-6c2e-4ab2-bfe1-73a85135a49b"
      },
      "execution_count": null,
      "outputs": [
        {
          "output_type": "execute_result",
          "data": {
            "text/plain": [
              "   sepal length  sepal width  petal length  petal width        class\n",
              "0           5.1          3.5           1.4          0.2  Iris-setosa\n",
              "1           4.9          3.0           1.4          0.2  Iris-setosa\n",
              "2           4.7          3.2           1.3          0.2  Iris-setosa\n",
              "3           4.6          3.1           1.5          0.2  Iris-setosa\n",
              "4           5.0          3.6           1.4          0.2  Iris-setosa"
            ],
            "text/html": [
              "\n",
              "  <div id=\"df-9282635a-cbc3-443b-abc3-c9512ae5db05\">\n",
              "    <div class=\"colab-df-container\">\n",
              "      <div>\n",
              "<style scoped>\n",
              "    .dataframe tbody tr th:only-of-type {\n",
              "        vertical-align: middle;\n",
              "    }\n",
              "\n",
              "    .dataframe tbody tr th {\n",
              "        vertical-align: top;\n",
              "    }\n",
              "\n",
              "    .dataframe thead th {\n",
              "        text-align: right;\n",
              "    }\n",
              "</style>\n",
              "<table border=\"1\" class=\"dataframe\">\n",
              "  <thead>\n",
              "    <tr style=\"text-align: right;\">\n",
              "      <th></th>\n",
              "      <th>sepal length</th>\n",
              "      <th>sepal width</th>\n",
              "      <th>petal length</th>\n",
              "      <th>petal width</th>\n",
              "      <th>class</th>\n",
              "    </tr>\n",
              "  </thead>\n",
              "  <tbody>\n",
              "    <tr>\n",
              "      <th>0</th>\n",
              "      <td>5.1</td>\n",
              "      <td>3.5</td>\n",
              "      <td>1.4</td>\n",
              "      <td>0.2</td>\n",
              "      <td>Iris-setosa</td>\n",
              "    </tr>\n",
              "    <tr>\n",
              "      <th>1</th>\n",
              "      <td>4.9</td>\n",
              "      <td>3.0</td>\n",
              "      <td>1.4</td>\n",
              "      <td>0.2</td>\n",
              "      <td>Iris-setosa</td>\n",
              "    </tr>\n",
              "    <tr>\n",
              "      <th>2</th>\n",
              "      <td>4.7</td>\n",
              "      <td>3.2</td>\n",
              "      <td>1.3</td>\n",
              "      <td>0.2</td>\n",
              "      <td>Iris-setosa</td>\n",
              "    </tr>\n",
              "    <tr>\n",
              "      <th>3</th>\n",
              "      <td>4.6</td>\n",
              "      <td>3.1</td>\n",
              "      <td>1.5</td>\n",
              "      <td>0.2</td>\n",
              "      <td>Iris-setosa</td>\n",
              "    </tr>\n",
              "    <tr>\n",
              "      <th>4</th>\n",
              "      <td>5.0</td>\n",
              "      <td>3.6</td>\n",
              "      <td>1.4</td>\n",
              "      <td>0.2</td>\n",
              "      <td>Iris-setosa</td>\n",
              "    </tr>\n",
              "  </tbody>\n",
              "</table>\n",
              "</div>\n",
              "      <button class=\"colab-df-convert\" onclick=\"convertToInteractive('df-9282635a-cbc3-443b-abc3-c9512ae5db05')\"\n",
              "              title=\"Convert this dataframe to an interactive table.\"\n",
              "              style=\"display:none;\">\n",
              "        \n",
              "  <svg xmlns=\"http://www.w3.org/2000/svg\" height=\"24px\"viewBox=\"0 0 24 24\"\n",
              "       width=\"24px\">\n",
              "    <path d=\"M0 0h24v24H0V0z\" fill=\"none\"/>\n",
              "    <path d=\"M18.56 5.44l.94 2.06.94-2.06 2.06-.94-2.06-.94-.94-2.06-.94 2.06-2.06.94zm-11 1L8.5 8.5l.94-2.06 2.06-.94-2.06-.94L8.5 2.5l-.94 2.06-2.06.94zm10 10l.94 2.06.94-2.06 2.06-.94-2.06-.94-.94-2.06-.94 2.06-2.06.94z\"/><path d=\"M17.41 7.96l-1.37-1.37c-.4-.4-.92-.59-1.43-.59-.52 0-1.04.2-1.43.59L10.3 9.45l-7.72 7.72c-.78.78-.78 2.05 0 2.83L4 21.41c.39.39.9.59 1.41.59.51 0 1.02-.2 1.41-.59l7.78-7.78 2.81-2.81c.8-.78.8-2.07 0-2.86zM5.41 20L4 18.59l7.72-7.72 1.47 1.35L5.41 20z\"/>\n",
              "  </svg>\n",
              "      </button>\n",
              "      \n",
              "  <style>\n",
              "    .colab-df-container {\n",
              "      display:flex;\n",
              "      flex-wrap:wrap;\n",
              "      gap: 12px;\n",
              "    }\n",
              "\n",
              "    .colab-df-convert {\n",
              "      background-color: #E8F0FE;\n",
              "      border: none;\n",
              "      border-radius: 50%;\n",
              "      cursor: pointer;\n",
              "      display: none;\n",
              "      fill: #1967D2;\n",
              "      height: 32px;\n",
              "      padding: 0 0 0 0;\n",
              "      width: 32px;\n",
              "    }\n",
              "\n",
              "    .colab-df-convert:hover {\n",
              "      background-color: #E2EBFA;\n",
              "      box-shadow: 0px 1px 2px rgba(60, 64, 67, 0.3), 0px 1px 3px 1px rgba(60, 64, 67, 0.15);\n",
              "      fill: #174EA6;\n",
              "    }\n",
              "\n",
              "    [theme=dark] .colab-df-convert {\n",
              "      background-color: #3B4455;\n",
              "      fill: #D2E3FC;\n",
              "    }\n",
              "\n",
              "    [theme=dark] .colab-df-convert:hover {\n",
              "      background-color: #434B5C;\n",
              "      box-shadow: 0px 1px 3px 1px rgba(0, 0, 0, 0.15);\n",
              "      filter: drop-shadow(0px 1px 2px rgba(0, 0, 0, 0.3));\n",
              "      fill: #FFFFFF;\n",
              "    }\n",
              "  </style>\n",
              "\n",
              "      <script>\n",
              "        const buttonEl =\n",
              "          document.querySelector('#df-9282635a-cbc3-443b-abc3-c9512ae5db05 button.colab-df-convert');\n",
              "        buttonEl.style.display =\n",
              "          google.colab.kernel.accessAllowed ? 'block' : 'none';\n",
              "\n",
              "        async function convertToInteractive(key) {\n",
              "          const element = document.querySelector('#df-9282635a-cbc3-443b-abc3-c9512ae5db05');\n",
              "          const dataTable =\n",
              "            await google.colab.kernel.invokeFunction('convertToInteractive',\n",
              "                                                     [key], {});\n",
              "          if (!dataTable) return;\n",
              "\n",
              "          const docLinkHtml = 'Like what you see? Visit the ' +\n",
              "            '<a target=\"_blank\" href=https://colab.research.google.com/notebooks/data_table.ipynb>data table notebook</a>'\n",
              "            + ' to learn more about interactive tables.';\n",
              "          element.innerHTML = '';\n",
              "          dataTable['output_type'] = 'display_data';\n",
              "          await google.colab.output.renderOutput(dataTable, element);\n",
              "          const docLink = document.createElement('div');\n",
              "          docLink.innerHTML = docLinkHtml;\n",
              "          element.appendChild(docLink);\n",
              "        }\n",
              "      </script>\n",
              "    </div>\n",
              "  </div>\n",
              "  "
            ]
          },
          "metadata": {},
          "execution_count": 48
        }
      ]
    },
    {
      "cell_type": "code",
      "source": [
        "iris=datasets.load_iris()\n",
        "stats.describe(iris.data)"
      ],
      "metadata": {
        "colab": {
          "base_uri": "https://localhost:8080/"
        },
        "id": "Z7CpcI1rluss",
        "outputId": "fa2d5a11-460a-4ede-843b-6e39cd39a46b"
      },
      "execution_count": null,
      "outputs": [
        {
          "output_type": "execute_result",
          "data": {
            "text/plain": [
              "DescribeResult(nobs=150, minmax=(array([4.3, 2. , 1. , 0.1]), array([7.9, 4.4, 6.9, 2.5])), mean=array([5.84333333, 3.05733333, 3.758     , 1.19933333]), variance=array([0.68569351, 0.18997942, 3.11627785, 0.58100626]), skewness=array([ 0.31175306,  0.31576711, -0.27212767, -0.10193421]), kurtosis=array([-0.57356795,  0.18097632, -1.39553589, -1.33606741]))"
            ]
          },
          "metadata": {},
          "execution_count": 49
        }
      ]
    },
    {
      "cell_type": "code",
      "source": [
        "#organizou em nums as classe\n",
        "#iris.data\n",
        "iris.target"
      ],
      "metadata": {
        "colab": {
          "base_uri": "https://localhost:8080/"
        },
        "id": "NWiQo8ImmQWx",
        "outputId": "f261aa59-5e02-48c5-9a12-8b92046e7661"
      },
      "execution_count": null,
      "outputs": [
        {
          "output_type": "execute_result",
          "data": {
            "text/plain": [
              "array([0, 0, 0, 0, 0, 0, 0, 0, 0, 0, 0, 0, 0, 0, 0, 0, 0, 0, 0, 0, 0, 0,\n",
              "       0, 0, 0, 0, 0, 0, 0, 0, 0, 0, 0, 0, 0, 0, 0, 0, 0, 0, 0, 0, 0, 0,\n",
              "       0, 0, 0, 0, 0, 0, 1, 1, 1, 1, 1, 1, 1, 1, 1, 1, 1, 1, 1, 1, 1, 1,\n",
              "       1, 1, 1, 1, 1, 1, 1, 1, 1, 1, 1, 1, 1, 1, 1, 1, 1, 1, 1, 1, 1, 1,\n",
              "       1, 1, 1, 1, 1, 1, 1, 1, 1, 1, 1, 1, 2, 2, 2, 2, 2, 2, 2, 2, 2, 2,\n",
              "       2, 2, 2, 2, 2, 2, 2, 2, 2, 2, 2, 2, 2, 2, 2, 2, 2, 2, 2, 2, 2, 2,\n",
              "       2, 2, 2, 2, 2, 2, 2, 2, 2, 2, 2, 2, 2, 2, 2, 2, 2, 2])"
            ]
          },
          "metadata": {},
          "execution_count": 53
        }
      ]
    },
    {
      "cell_type": "code",
      "source": [
        "#indep é previsoreN , dep é a classe\n",
        "previsoesN=iris.data \n",
        "classe=iris.target"
      ],
      "metadata": {
        "id": "T9Fqvem5l8-O"
      },
      "execution_count": null,
      "outputs": []
    },
    {
      "cell_type": "code",
      "source": [
        "# Divisão da base de dados entre treinamento e teste (30% para testar e 70% para treinar)\n",
        "X_treino2, X_teste2, y_treino2, y_teste2 = train_test_split(previsoesN,\n",
        "                                                                  classe,\n",
        "                                                                  test_size = 0.3,\n",
        "                                                                  random_state = 1)\n",
        "len(X_teste2)"
      ],
      "metadata": {
        "colab": {
          "base_uri": "https://localhost:8080/"
        },
        "id": "tCXrMM0QmVFo",
        "outputId": "f87aa7ac-1688-4c30-d116-5b4534975438"
      },
      "execution_count": null,
      "outputs": [
        {
          "output_type": "execute_result",
          "data": {
            "text/plain": [
              "45"
            ]
          },
          "metadata": {},
          "execution_count": 56
        }
      ]
    },
    {
      "cell_type": "code",
      "source": [
        "#mtd pra metodo olhar qntos vizinhos + proximos vai relacionar no modelo\n",
        "knn=KNeighborsClassifier(n_neighbors=3)\n",
        "knn.fit(X_treino2,y_treino2)"
      ],
      "metadata": {
        "colab": {
          "base_uri": "https://localhost:8080/"
        },
        "id": "81DmK4jWmi7W",
        "outputId": "5a66cb28-e2a9-4fb3-963c-a77e308c4eef"
      },
      "execution_count": null,
      "outputs": [
        {
          "output_type": "execute_result",
          "data": {
            "text/plain": [
              "KNeighborsClassifier(n_neighbors=3)"
            ]
          },
          "metadata": {},
          "execution_count": 57
        }
      ]
    },
    {
      "cell_type": "code",
      "source": [
        "#45 previsoes dos registros\n",
        "previsoesN=knn.predict(X_teste2)\n",
        "previsoesN"
      ],
      "metadata": {
        "colab": {
          "base_uri": "https://localhost:8080/"
        },
        "id": "lZKTS6tkm29o",
        "outputId": "f90e0f91-8bfd-4699-8a93-ed7493501255"
      },
      "execution_count": null,
      "outputs": [
        {
          "output_type": "execute_result",
          "data": {
            "text/plain": [
              "array([0, 1, 1, 0, 2, 1, 2, 0, 0, 2, 1, 0, 2, 1, 1, 0, 1, 1, 0, 0, 1, 1,\n",
              "       1, 0, 2, 1, 0, 0, 1, 2, 1, 2, 1, 2, 2, 0, 1, 0, 1, 2, 2, 0, 1, 2,\n",
              "       1])"
            ]
          },
          "metadata": {},
          "execution_count": 58
        }
      ]
    },
    {
      "cell_type": "code",
      "source": [
        "#matrix com o y_teste e previsoes #diag principal sao os acertos , houve 1 erro\n",
        "confusaoN=confusion_matrix(y_teste2,previsoesN)\n",
        "confusaoN"
      ],
      "metadata": {
        "colab": {
          "base_uri": "https://localhost:8080/"
        },
        "id": "Hlb6cJ7lm_8S",
        "outputId": "158becca-a127-482b-b3e8-cc8d5a44c0d5"
      },
      "execution_count": null,
      "outputs": [
        {
          "output_type": "execute_result",
          "data": {
            "text/plain": [
              "array([[14,  0,  0],\n",
              "       [ 0, 18,  0],\n",
              "       [ 0,  1, 12]])"
            ]
          },
          "metadata": {},
          "execution_count": 59
        }
      ]
    },
    {
      "cell_type": "code",
      "source": [
        "#taxas de acerto e erro\n",
        "taxa_acertoN = accuracy_score(y_teste2, previsoesN)\n",
        "taxa_erroN = 1 - taxa_acertoN\n",
        "taxa_acertoN"
      ],
      "metadata": {
        "colab": {
          "base_uri": "https://localhost:8080/"
        },
        "id": "e7ocvFX7rWtE",
        "outputId": "0d45b2a6-6e38-421d-8063-2ab1f6995295"
      },
      "execution_count": null,
      "outputs": [
        {
          "output_type": "execute_result",
          "data": {
            "text/plain": [
              "0.9777777777777777"
            ]
          },
          "metadata": {},
          "execution_count": 61
        }
      ]
    },
    {
      "cell_type": "code",
      "source": [
        "#ensamble learning com random forest\n",
        "#gera varios modelos(trees conforme parametro definido) variando em termo de config , pra ver qual melhor votando pela performance"
      ],
      "metadata": {
        "id": "GKlGpP7tr-hQ"
      },
      "execution_count": null,
      "outputs": []
    },
    {
      "cell_type": "code",
      "source": [
        "# Importação das bibliotecas\n",
        "import pandas as pd\n",
        "from sklearn.model_selection import train_test_split\n",
        "from sklearn.preprocessing import LabelEncoder\n",
        "from sklearn.metrics import confusion_matrix, accuracy_score\n",
        "from sklearn.ensemble import RandomForestClassifier"
      ],
      "metadata": {
        "id": "-3IeycAUsDmy"
      },
      "execution_count": null,
      "outputs": []
    },
    {
      "cell_type": "code",
      "source": [
        "creditorf = pd.read_csv('Credit.csv')\n",
        "creditorf.head()"
      ],
      "metadata": {
        "colab": {
          "base_uri": "https://localhost:8080/",
          "height": 352
        },
        "id": "8HmgcxVisbQW",
        "outputId": "e63a7551-9b94-49ee-a769-2ae21e8f0a56"
      },
      "execution_count": null,
      "outputs": [
        {
          "output_type": "execute_result",
          "data": {
            "text/plain": [
              "  checking_status  duration                    credit_history  \\\n",
              "0              <0         6  'critical/other existing credit'   \n",
              "1        0<=X<200        48                   'existing paid'   \n",
              "2   'no checking'        12  'critical/other existing credit'   \n",
              "3              <0        42                   'existing paid'   \n",
              "4              <0        24              'delayed previously'   \n",
              "\n",
              "               purpose  credit_amount      savings_status employment  \\\n",
              "0             radio/tv           1169  'no known savings'        >=7   \n",
              "1             radio/tv           5951                <100     1<=X<4   \n",
              "2            education           2096                <100     4<=X<7   \n",
              "3  furniture/equipment           7882                <100     4<=X<7   \n",
              "4            'new car'           4870                <100     1<=X<4   \n",
              "\n",
              "   installment_commitment       personal_status other_parties  ...  \\\n",
              "0                       4         'male single'          none  ...   \n",
              "1                       2  'female div/dep/mar'          none  ...   \n",
              "2                       2         'male single'          none  ...   \n",
              "3                       2         'male single'     guarantor  ...   \n",
              "4                       3         'male single'          none  ...   \n",
              "\n",
              "    property_magnitude age  other_payment_plans     housing existing_credits  \\\n",
              "0        'real estate'  67                 none         own                2   \n",
              "1        'real estate'  22                 none         own                1   \n",
              "2        'real estate'  49                 none         own                1   \n",
              "3     'life insurance'  45                 none  'for free'                1   \n",
              "4  'no known property'  53                 none  'for free'                2   \n",
              "\n",
              "                    job num_dependents  own_telephone foreign_worker class  \n",
              "0               skilled              1            yes            yes  good  \n",
              "1               skilled              1           none            yes   bad  \n",
              "2  'unskilled resident'              2           none            yes  good  \n",
              "3               skilled              2           none            yes  good  \n",
              "4               skilled              2           none            yes   bad  \n",
              "\n",
              "[5 rows x 21 columns]"
            ],
            "text/html": [
              "\n",
              "  <div id=\"df-defb72a7-00aa-4c23-9024-d60a59aea96e\">\n",
              "    <div class=\"colab-df-container\">\n",
              "      <div>\n",
              "<style scoped>\n",
              "    .dataframe tbody tr th:only-of-type {\n",
              "        vertical-align: middle;\n",
              "    }\n",
              "\n",
              "    .dataframe tbody tr th {\n",
              "        vertical-align: top;\n",
              "    }\n",
              "\n",
              "    .dataframe thead th {\n",
              "        text-align: right;\n",
              "    }\n",
              "</style>\n",
              "<table border=\"1\" class=\"dataframe\">\n",
              "  <thead>\n",
              "    <tr style=\"text-align: right;\">\n",
              "      <th></th>\n",
              "      <th>checking_status</th>\n",
              "      <th>duration</th>\n",
              "      <th>credit_history</th>\n",
              "      <th>purpose</th>\n",
              "      <th>credit_amount</th>\n",
              "      <th>savings_status</th>\n",
              "      <th>employment</th>\n",
              "      <th>installment_commitment</th>\n",
              "      <th>personal_status</th>\n",
              "      <th>other_parties</th>\n",
              "      <th>...</th>\n",
              "      <th>property_magnitude</th>\n",
              "      <th>age</th>\n",
              "      <th>other_payment_plans</th>\n",
              "      <th>housing</th>\n",
              "      <th>existing_credits</th>\n",
              "      <th>job</th>\n",
              "      <th>num_dependents</th>\n",
              "      <th>own_telephone</th>\n",
              "      <th>foreign_worker</th>\n",
              "      <th>class</th>\n",
              "    </tr>\n",
              "  </thead>\n",
              "  <tbody>\n",
              "    <tr>\n",
              "      <th>0</th>\n",
              "      <td>&lt;0</td>\n",
              "      <td>6</td>\n",
              "      <td>'critical/other existing credit'</td>\n",
              "      <td>radio/tv</td>\n",
              "      <td>1169</td>\n",
              "      <td>'no known savings'</td>\n",
              "      <td>&gt;=7</td>\n",
              "      <td>4</td>\n",
              "      <td>'male single'</td>\n",
              "      <td>none</td>\n",
              "      <td>...</td>\n",
              "      <td>'real estate'</td>\n",
              "      <td>67</td>\n",
              "      <td>none</td>\n",
              "      <td>own</td>\n",
              "      <td>2</td>\n",
              "      <td>skilled</td>\n",
              "      <td>1</td>\n",
              "      <td>yes</td>\n",
              "      <td>yes</td>\n",
              "      <td>good</td>\n",
              "    </tr>\n",
              "    <tr>\n",
              "      <th>1</th>\n",
              "      <td>0&lt;=X&lt;200</td>\n",
              "      <td>48</td>\n",
              "      <td>'existing paid'</td>\n",
              "      <td>radio/tv</td>\n",
              "      <td>5951</td>\n",
              "      <td>&lt;100</td>\n",
              "      <td>1&lt;=X&lt;4</td>\n",
              "      <td>2</td>\n",
              "      <td>'female div/dep/mar'</td>\n",
              "      <td>none</td>\n",
              "      <td>...</td>\n",
              "      <td>'real estate'</td>\n",
              "      <td>22</td>\n",
              "      <td>none</td>\n",
              "      <td>own</td>\n",
              "      <td>1</td>\n",
              "      <td>skilled</td>\n",
              "      <td>1</td>\n",
              "      <td>none</td>\n",
              "      <td>yes</td>\n",
              "      <td>bad</td>\n",
              "    </tr>\n",
              "    <tr>\n",
              "      <th>2</th>\n",
              "      <td>'no checking'</td>\n",
              "      <td>12</td>\n",
              "      <td>'critical/other existing credit'</td>\n",
              "      <td>education</td>\n",
              "      <td>2096</td>\n",
              "      <td>&lt;100</td>\n",
              "      <td>4&lt;=X&lt;7</td>\n",
              "      <td>2</td>\n",
              "      <td>'male single'</td>\n",
              "      <td>none</td>\n",
              "      <td>...</td>\n",
              "      <td>'real estate'</td>\n",
              "      <td>49</td>\n",
              "      <td>none</td>\n",
              "      <td>own</td>\n",
              "      <td>1</td>\n",
              "      <td>'unskilled resident'</td>\n",
              "      <td>2</td>\n",
              "      <td>none</td>\n",
              "      <td>yes</td>\n",
              "      <td>good</td>\n",
              "    </tr>\n",
              "    <tr>\n",
              "      <th>3</th>\n",
              "      <td>&lt;0</td>\n",
              "      <td>42</td>\n",
              "      <td>'existing paid'</td>\n",
              "      <td>furniture/equipment</td>\n",
              "      <td>7882</td>\n",
              "      <td>&lt;100</td>\n",
              "      <td>4&lt;=X&lt;7</td>\n",
              "      <td>2</td>\n",
              "      <td>'male single'</td>\n",
              "      <td>guarantor</td>\n",
              "      <td>...</td>\n",
              "      <td>'life insurance'</td>\n",
              "      <td>45</td>\n",
              "      <td>none</td>\n",
              "      <td>'for free'</td>\n",
              "      <td>1</td>\n",
              "      <td>skilled</td>\n",
              "      <td>2</td>\n",
              "      <td>none</td>\n",
              "      <td>yes</td>\n",
              "      <td>good</td>\n",
              "    </tr>\n",
              "    <tr>\n",
              "      <th>4</th>\n",
              "      <td>&lt;0</td>\n",
              "      <td>24</td>\n",
              "      <td>'delayed previously'</td>\n",
              "      <td>'new car'</td>\n",
              "      <td>4870</td>\n",
              "      <td>&lt;100</td>\n",
              "      <td>1&lt;=X&lt;4</td>\n",
              "      <td>3</td>\n",
              "      <td>'male single'</td>\n",
              "      <td>none</td>\n",
              "      <td>...</td>\n",
              "      <td>'no known property'</td>\n",
              "      <td>53</td>\n",
              "      <td>none</td>\n",
              "      <td>'for free'</td>\n",
              "      <td>2</td>\n",
              "      <td>skilled</td>\n",
              "      <td>2</td>\n",
              "      <td>none</td>\n",
              "      <td>yes</td>\n",
              "      <td>bad</td>\n",
              "    </tr>\n",
              "  </tbody>\n",
              "</table>\n",
              "<p>5 rows × 21 columns</p>\n",
              "</div>\n",
              "      <button class=\"colab-df-convert\" onclick=\"convertToInteractive('df-defb72a7-00aa-4c23-9024-d60a59aea96e')\"\n",
              "              title=\"Convert this dataframe to an interactive table.\"\n",
              "              style=\"display:none;\">\n",
              "        \n",
              "  <svg xmlns=\"http://www.w3.org/2000/svg\" height=\"24px\"viewBox=\"0 0 24 24\"\n",
              "       width=\"24px\">\n",
              "    <path d=\"M0 0h24v24H0V0z\" fill=\"none\"/>\n",
              "    <path d=\"M18.56 5.44l.94 2.06.94-2.06 2.06-.94-2.06-.94-.94-2.06-.94 2.06-2.06.94zm-11 1L8.5 8.5l.94-2.06 2.06-.94-2.06-.94L8.5 2.5l-.94 2.06-2.06.94zm10 10l.94 2.06.94-2.06 2.06-.94-2.06-.94-.94-2.06-.94 2.06-2.06.94z\"/><path d=\"M17.41 7.96l-1.37-1.37c-.4-.4-.92-.59-1.43-.59-.52 0-1.04.2-1.43.59L10.3 9.45l-7.72 7.72c-.78.78-.78 2.05 0 2.83L4 21.41c.39.39.9.59 1.41.59.51 0 1.02-.2 1.41-.59l7.78-7.78 2.81-2.81c.8-.78.8-2.07 0-2.86zM5.41 20L4 18.59l7.72-7.72 1.47 1.35L5.41 20z\"/>\n",
              "  </svg>\n",
              "      </button>\n",
              "      \n",
              "  <style>\n",
              "    .colab-df-container {\n",
              "      display:flex;\n",
              "      flex-wrap:wrap;\n",
              "      gap: 12px;\n",
              "    }\n",
              "\n",
              "    .colab-df-convert {\n",
              "      background-color: #E8F0FE;\n",
              "      border: none;\n",
              "      border-radius: 50%;\n",
              "      cursor: pointer;\n",
              "      display: none;\n",
              "      fill: #1967D2;\n",
              "      height: 32px;\n",
              "      padding: 0 0 0 0;\n",
              "      width: 32px;\n",
              "    }\n",
              "\n",
              "    .colab-df-convert:hover {\n",
              "      background-color: #E2EBFA;\n",
              "      box-shadow: 0px 1px 2px rgba(60, 64, 67, 0.3), 0px 1px 3px 1px rgba(60, 64, 67, 0.15);\n",
              "      fill: #174EA6;\n",
              "    }\n",
              "\n",
              "    [theme=dark] .colab-df-convert {\n",
              "      background-color: #3B4455;\n",
              "      fill: #D2E3FC;\n",
              "    }\n",
              "\n",
              "    [theme=dark] .colab-df-convert:hover {\n",
              "      background-color: #434B5C;\n",
              "      box-shadow: 0px 1px 3px 1px rgba(0, 0, 0, 0.15);\n",
              "      filter: drop-shadow(0px 1px 2px rgba(0, 0, 0, 0.3));\n",
              "      fill: #FFFFFF;\n",
              "    }\n",
              "  </style>\n",
              "\n",
              "      <script>\n",
              "        const buttonEl =\n",
              "          document.querySelector('#df-defb72a7-00aa-4c23-9024-d60a59aea96e button.colab-df-convert');\n",
              "        buttonEl.style.display =\n",
              "          google.colab.kernel.accessAllowed ? 'block' : 'none';\n",
              "\n",
              "        async function convertToInteractive(key) {\n",
              "          const element = document.querySelector('#df-defb72a7-00aa-4c23-9024-d60a59aea96e');\n",
              "          const dataTable =\n",
              "            await google.colab.kernel.invokeFunction('convertToInteractive',\n",
              "                                                     [key], {});\n",
              "          if (!dataTable) return;\n",
              "\n",
              "          const docLinkHtml = 'Like what you see? Visit the ' +\n",
              "            '<a target=\"_blank\" href=https://colab.research.google.com/notebooks/data_table.ipynb>data table notebook</a>'\n",
              "            + ' to learn more about interactive tables.';\n",
              "          element.innerHTML = '';\n",
              "          dataTable['output_type'] = 'display_data';\n",
              "          await google.colab.output.renderOutput(dataTable, element);\n",
              "          const docLink = document.createElement('div');\n",
              "          docLink.innerHTML = docLinkHtml;\n",
              "          element.appendChild(docLink);\n",
              "        }\n",
              "      </script>\n",
              "    </div>\n",
              "  </div>\n",
              "  "
            ]
          },
          "metadata": {},
          "execution_count": 63
        }
      ]
    },
    {
      "cell_type": "code",
      "source": [
        "previsoresrf = creditorf.iloc[:,0:20].values\n",
        "classerf = creditorf.iloc[:,20].values"
      ],
      "metadata": {
        "id": "2W5hUvAXsgQT"
      },
      "execution_count": null,
      "outputs": []
    },
    {
      "cell_type": "code",
      "source": [
        "# Transformação dos atributos categóricos em atributos numéricos, passando o índice de cada atributo categórico\n",
        "labelencoder = LabelEncoder()\n",
        "previsoresrf[:,0] = labelencoder.fit_transform(previsoresrf[:,0])\n",
        "previsoresrf[:,2] = labelencoder.fit_transform(previsoresrf[:,2])\n",
        "previsoresrf[:, 3] = labelencoder.fit_transform(previsoresrf[:, 3])\n",
        "previsoresrf[:, 5] = labelencoder.fit_transform(previsoresrf[:, 5])\n",
        "previsoresrf[:, 6] = labelencoder.fit_transform(previsoresrf[:, 6])\n",
        "previsoresrf[:, 8] = labelencoder.fit_transform(previsoresrf[:, 8])\n",
        "previsoresrf[:, 9] = labelencoder.fit_transform(previsoresrf[:, 9])\n",
        "previsoresrf[:, 11] = labelencoder.fit_transform(previsoresrf[:, 11])\n",
        "previsoresrf[:, 13] = labelencoder.fit_transform(previsoresrf[:, 13])\n",
        "previsoresrf[:, 14] = labelencoder.fit_transform(previsoresrf[:, 14])\n",
        "previsoresrf[:, 16] = labelencoder.fit_transform(previsoresrf[:, 16])\n",
        "previsoresrf[:, 18] = labelencoder.fit_transform(previsoresrf[:, 18])\n",
        "previsoresrf[:, 19] = labelencoder.fit_transform(previsoresrf[:, 19])"
      ],
      "metadata": {
        "id": "AB9ID0ydsss5"
      },
      "execution_count": null,
      "outputs": []
    },
    {
      "cell_type": "code",
      "source": [
        "# Divisão da base de dados entre treinamento e teste (30% para testar e 70% para treinar)\n",
        "X_treinorf, X_testerf, y_treinorf, y_testerf = train_test_split(previsoresrf,\n",
        "                                                                  classerf,\n",
        "                                                                  test_size = 0.3,\n",
        "                                                                  random_state = 0)"
      ],
      "metadata": {
        "id": "VGr7J_oZtMUb"
      },
      "execution_count": null,
      "outputs": []
    },
    {
      "cell_type": "code",
      "source": [
        "# Criação do modelo, treinamento, obtenção das previsões e da taxa de acerto,n_estimators num de arv aleatorias criadas\n",
        "floresta = RandomForestClassifier(n_estimators = 20)\n",
        "floresta.fit(X_treinorf, y_treinorf)"
      ],
      "metadata": {
        "colab": {
          "base_uri": "https://localhost:8080/"
        },
        "id": "3y3zCiLOteHc",
        "outputId": "41bd5862-f1b4-4f5d-c5a8-084ba5e5129b"
      },
      "execution_count": null,
      "outputs": [
        {
          "output_type": "execute_result",
          "data": {
            "text/plain": [
              "RandomForestClassifier(n_estimators=50)"
            ]
          },
          "metadata": {},
          "execution_count": 69
        }
      ]
    },
    {
      "cell_type": "code",
      "source": [
        "# Visualização dos atributos principais,ver tds as variacoes geradas\n",
        "floresta.estimators_\n",
        "#floresta.estimators_[1]"
      ],
      "metadata": {
        "colab": {
          "base_uri": "https://localhost:8080/"
        },
        "id": "lKLpbiQlted_",
        "outputId": "77a5cb1b-3a8d-4b53-e09a-d16a4a612cbe"
      },
      "execution_count": null,
      "outputs": [
        {
          "output_type": "execute_result",
          "data": {
            "text/plain": [
              "[DecisionTreeClassifier(max_features='auto', random_state=1661209425),\n",
              " DecisionTreeClassifier(max_features='auto', random_state=51720974),\n",
              " DecisionTreeClassifier(max_features='auto', random_state=698629682),\n",
              " DecisionTreeClassifier(max_features='auto', random_state=1254391408),\n",
              " DecisionTreeClassifier(max_features='auto', random_state=585904218),\n",
              " DecisionTreeClassifier(max_features='auto', random_state=1396742071),\n",
              " DecisionTreeClassifier(max_features='auto', random_state=296186212),\n",
              " DecisionTreeClassifier(max_features='auto', random_state=1650825386),\n",
              " DecisionTreeClassifier(max_features='auto', random_state=1591366532),\n",
              " DecisionTreeClassifier(max_features='auto', random_state=58187894),\n",
              " DecisionTreeClassifier(max_features='auto', random_state=616070370),\n",
              " DecisionTreeClassifier(max_features='auto', random_state=3419731),\n",
              " DecisionTreeClassifier(max_features='auto', random_state=2036027058),\n",
              " DecisionTreeClassifier(max_features='auto', random_state=1877483932),\n",
              " DecisionTreeClassifier(max_features='auto', random_state=236452242),\n",
              " DecisionTreeClassifier(max_features='auto', random_state=1705946556),\n",
              " DecisionTreeClassifier(max_features='auto', random_state=1947568857),\n",
              " DecisionTreeClassifier(max_features='auto', random_state=1760806990),\n",
              " DecisionTreeClassifier(max_features='auto', random_state=1959660323),\n",
              " DecisionTreeClassifier(max_features='auto', random_state=165659367),\n",
              " DecisionTreeClassifier(max_features='auto', random_state=2089014257),\n",
              " DecisionTreeClassifier(max_features='auto', random_state=1567280408),\n",
              " DecisionTreeClassifier(max_features='auto', random_state=1149077177),\n",
              " DecisionTreeClassifier(max_features='auto', random_state=1620802664),\n",
              " DecisionTreeClassifier(max_features='auto', random_state=300338402),\n",
              " DecisionTreeClassifier(max_features='auto', random_state=1675932469),\n",
              " DecisionTreeClassifier(max_features='auto', random_state=849175816),\n",
              " DecisionTreeClassifier(max_features='auto', random_state=176640358),\n",
              " DecisionTreeClassifier(max_features='auto', random_state=1859883910),\n",
              " DecisionTreeClassifier(max_features='auto', random_state=744542359),\n",
              " DecisionTreeClassifier(max_features='auto', random_state=1510996836),\n",
              " DecisionTreeClassifier(max_features='auto', random_state=1092435193),\n",
              " DecisionTreeClassifier(max_features='auto', random_state=1762052262),\n",
              " DecisionTreeClassifier(max_features='auto', random_state=1328252639),\n",
              " DecisionTreeClassifier(max_features='auto', random_state=369269421),\n",
              " DecisionTreeClassifier(max_features='auto', random_state=1898588513),\n",
              " DecisionTreeClassifier(max_features='auto', random_state=1121440578),\n",
              " DecisionTreeClassifier(max_features='auto', random_state=185392236),\n",
              " DecisionTreeClassifier(max_features='auto', random_state=2021505328),\n",
              " DecisionTreeClassifier(max_features='auto', random_state=366486139),\n",
              " DecisionTreeClassifier(max_features='auto', random_state=2057623050),\n",
              " DecisionTreeClassifier(max_features='auto', random_state=1866277079),\n",
              " DecisionTreeClassifier(max_features='auto', random_state=987957292),\n",
              " DecisionTreeClassifier(max_features='auto', random_state=1663669399),\n",
              " DecisionTreeClassifier(max_features='auto', random_state=486048407),\n",
              " DecisionTreeClassifier(max_features='auto', random_state=898542952),\n",
              " DecisionTreeClassifier(max_features='auto', random_state=1184535721),\n",
              " DecisionTreeClassifier(max_features='auto', random_state=651202330),\n",
              " DecisionTreeClassifier(max_features='auto', random_state=2075777357),\n",
              " DecisionTreeClassifier(max_features='auto', random_state=1127390152)]"
            ]
          },
          "metadata": {},
          "execution_count": 71
        }
      ]
    },
    {
      "cell_type": "code",
      "source": [
        "previsoesrf = floresta.predict(X_testerf)\n",
        "confusao = confusion_matrix(y_testerf, previsoesrf)\n",
        "taxa_acertorf = accuracy_score(y_testerf, previsoesrf)\n",
        "taxa_acertorf"
      ],
      "metadata": {
        "colab": {
          "base_uri": "https://localhost:8080/"
        },
        "id": "r4op_i0vtrwY",
        "outputId": "e0532254-4c20-4692-8528-77eb463c95e5"
      },
      "execution_count": null,
      "outputs": [
        {
          "output_type": "execute_result",
          "data": {
            "text/plain": [
              "0.7666666666666667"
            ]
          },
          "metadata": {},
          "execution_count": 72
        }
      ]
    },
    {
      "cell_type": "code",
      "source": [
        "#kmeans usa distancia euclidiana para agrupar usuarios , atraves de num de clusters previamente definido"
      ],
      "metadata": {
        "id": "mTBlz2Enwgno"
      },
      "execution_count": null,
      "outputs": []
    },
    {
      "cell_type": "code",
      "source": [
        "# Importação das bibliotecas\n",
        "from sklearn import datasets\n",
        "import numpy as np\n",
        "from sklearn.metrics import confusion_matrix\n",
        "import matplotlib.pyplot as plt\n",
        "from sklearn.cluster import KMeans"
      ],
      "metadata": {
        "id": "51DMpySOvZTj"
      },
      "execution_count": null,
      "outputs": []
    },
    {
      "cell_type": "code",
      "source": [
        "# Carregamento da base de dados \n",
        "iris = datasets.load_iris()\n",
        "# visualização de quantos registros existem por classe,tarefa ñ supervisionada\n",
        "unicosk, quantidadek = np.unique(iris.target, return_counts = True) #conta qtd de registros na classe\n",
        "unicosk"
      ],
      "metadata": {
        "colab": {
          "base_uri": "https://localhost:8080/"
        },
        "id": "8OSTqf1xvab9",
        "outputId": "e999e9e8-ef6d-4ea8-b4b8-f4608eb987ab"
      },
      "execution_count": null,
      "outputs": [
        {
          "output_type": "execute_result",
          "data": {
            "text/plain": [
              "array([0, 1, 2])"
            ]
          },
          "metadata": {},
          "execution_count": 74
        }
      ]
    },
    {
      "cell_type": "code",
      "source": [
        "quantidadek"
      ],
      "metadata": {
        "colab": {
          "base_uri": "https://localhost:8080/"
        },
        "id": "TmqkGN-9vdrS",
        "outputId": "b0624caf-8e65-4e77-e1f2-088016a87107"
      },
      "execution_count": null,
      "outputs": [
        {
          "output_type": "execute_result",
          "data": {
            "text/plain": [
              "array([50, 50, 50])"
            ]
          },
          "metadata": {},
          "execution_count": 75
        }
      ]
    },
    {
      "cell_type": "code",
      "source": [
        "# Agrupamento com k-means, utilizando 3 clusters (de acordo com a base de dados),define aq o num de clusters\n",
        "cluster = KMeans(n_clusters = 3)\n",
        "cluster.fit(iris.data) #ñ usa target"
      ],
      "metadata": {
        "colab": {
          "base_uri": "https://localhost:8080/"
        },
        "id": "sC0DGK_1viYz",
        "outputId": "b382203b-98f3-4a67-f0d3-c9a9f19e4143"
      },
      "execution_count": null,
      "outputs": [
        {
          "output_type": "execute_result",
          "data": {
            "text/plain": [
              "KMeans(n_clusters=3)"
            ]
          },
          "metadata": {},
          "execution_count": 76
        }
      ]
    },
    {
      "cell_type": "code",
      "source": [
        "# Visualização dos três centroides\n",
        "centroides = cluster.cluster_centers_\n",
        "centroides"
      ],
      "metadata": {
        "colab": {
          "base_uri": "https://localhost:8080/"
        },
        "id": "B8Q70gOivluQ",
        "outputId": "746c6300-a1f1-4fd2-ca1e-c73bece26d82"
      },
      "execution_count": null,
      "outputs": [
        {
          "output_type": "execute_result",
          "data": {
            "text/plain": [
              "array([[5.9016129 , 2.7483871 , 4.39354839, 1.43387097],\n",
              "       [5.006     , 3.428     , 1.462     , 0.246     ],\n",
              "       [6.85      , 3.07368421, 5.74210526, 2.07105263]])"
            ]
          },
          "metadata": {},
          "execution_count": 77
        }
      ]
    },
    {
      "cell_type": "code",
      "source": [
        "# Visualização dos grupos que cada registro foi associado,ñ é previsao é agrupamento\n",
        "previsoesk = cluster.labels_\n",
        "previsoesk"
      ],
      "metadata": {
        "colab": {
          "base_uri": "https://localhost:8080/"
        },
        "id": "2f53MIkJvp44",
        "outputId": "b3024b22-6cec-4a6b-9db5-a0489dc5b0a0"
      },
      "execution_count": null,
      "outputs": [
        {
          "output_type": "execute_result",
          "data": {
            "text/plain": [
              "array([1, 1, 1, 1, 1, 1, 1, 1, 1, 1, 1, 1, 1, 1, 1, 1, 1, 1, 1, 1, 1, 1,\n",
              "       1, 1, 1, 1, 1, 1, 1, 1, 1, 1, 1, 1, 1, 1, 1, 1, 1, 1, 1, 1, 1, 1,\n",
              "       1, 1, 1, 1, 1, 1, 0, 0, 2, 0, 0, 0, 0, 0, 0, 0, 0, 0, 0, 0, 0, 0,\n",
              "       0, 0, 0, 0, 0, 0, 0, 0, 0, 0, 0, 2, 0, 0, 0, 0, 0, 0, 0, 0, 0, 0,\n",
              "       0, 0, 0, 0, 0, 0, 0, 0, 0, 0, 0, 0, 2, 0, 2, 2, 2, 2, 0, 2, 2, 2,\n",
              "       2, 2, 2, 0, 0, 2, 2, 2, 2, 0, 2, 0, 2, 0, 2, 2, 0, 0, 2, 2, 2, 2,\n",
              "       2, 0, 2, 2, 2, 2, 0, 2, 2, 2, 0, 2, 2, 2, 0, 2, 2, 0], dtype=int32)"
            ]
          },
          "metadata": {},
          "execution_count": 78
        }
      ]
    },
    {
      "cell_type": "code",
      "source": [
        "# Contagem dos registros por classe\n",
        "unicosk2, quantidadek2 = np.unique(previsoesk, return_counts = True)\n",
        "unicosk2"
      ],
      "metadata": {
        "colab": {
          "base_uri": "https://localhost:8080/"
        },
        "id": "Ajh20cPevuWh",
        "outputId": "885f1104-2ddb-45d6-a9d5-2d0f69eb4a9d"
      },
      "execution_count": null,
      "outputs": [
        {
          "output_type": "execute_result",
          "data": {
            "text/plain": [
              "array([0, 1, 2], dtype=int32)"
            ]
          },
          "metadata": {},
          "execution_count": 79
        }
      ]
    },
    {
      "cell_type": "code",
      "source": [
        "quantidadek2 #mudou agrupamento , ñ coincndo com classes reais"
      ],
      "metadata": {
        "colab": {
          "base_uri": "https://localhost:8080/"
        },
        "id": "W-S_xYe-vzHB",
        "outputId": "f762d3af-e8a4-42ad-a6d7-bb8100803de2"
      },
      "execution_count": null,
      "outputs": [
        {
          "output_type": "execute_result",
          "data": {
            "text/plain": [
              "array([62, 50, 38])"
            ]
          },
          "metadata": {},
          "execution_count": 81
        }
      ]
    },
    {
      "cell_type": "code",
      "source": [
        "# Geração da matriz de contingência para comparar os grupos com a base de dados\n",
        "resultadosk = confusion_matrix(iris.target, previsoesk)\n",
        "resultadosk"
      ],
      "metadata": {
        "colab": {
          "base_uri": "https://localhost:8080/"
        },
        "id": "SpSY5Nfkv7Lh",
        "outputId": "fa888057-181c-40d4-a550-106a4b6ae712"
      },
      "execution_count": null,
      "outputs": [
        {
          "output_type": "execute_result",
          "data": {
            "text/plain": [
              "array([[ 0, 50,  0],\n",
              "       [48,  0,  2],\n",
              "       [14,  0, 36]])"
            ]
          },
          "metadata": {},
          "execution_count": 82
        }
      ]
    },
    {
      "cell_type": "code",
      "source": [
        "# Geração do gráfico com os clusters gerados, considerando para um (previsoes 0, 1 ou 2)\n",
        "# Usamos somente as colunas 0 e 1 da base de dados original para termos 2 dimensões\n",
        "plt.scatter(iris.data[previsoesk == 0, 0], iris.data[previsoesk == 0, 1], \n",
        "            c = 'green', label = 'Setosa')\n",
        "plt.scatter(iris.data[previsoesk == 1, 0], iris.data[previsoesk == 1, 1], \n",
        "            c = 'red', label = 'Versicolor')\n",
        "plt.scatter(iris.data[previsoesk == 2, 0], iris.data[previsoesk == 2, 1], \n",
        "            c = 'blue', label = 'Virgica')\n",
        "plt.legend()"
      ],
      "metadata": {
        "colab": {
          "base_uri": "https://localhost:8080/",
          "height": 366
        },
        "id": "izQXxgO1v8eA",
        "outputId": "b28a2eed-4018-4375-c3ac-12d7134bcac7"
      },
      "execution_count": null,
      "outputs": [
        {
          "output_type": "execute_result",
          "data": {
            "text/plain": [
              "<matplotlib.legend.Legend at 0x7fdd6f617430>"
            ]
          },
          "metadata": {},
          "execution_count": 83
        },
        {
          "output_type": "display_data",
          "data": {
            "text/plain": [
              "<Figure size 576x396 with 1 Axes>"
            ],
            "image/png": "[encoded data removed]"
          },
          "metadata": {}
        }
      ]
    },
    {
      "cell_type": "code",
      "source": [
        "#C-MEANS=define num de clusters e com dist de euclides ele associa elementos aos centros ajustando-os até forma definitiva \n",
        "#ñ atribui instancia absoluta ao cluster , atribuicao é proporcional(ex:70% ao cluster 1 etc)"
      ],
      "metadata": {
        "id": "iTqv4uJ-4l-T"
      },
      "execution_count": null,
      "outputs": []
    },
    {
      "cell_type": "code",
      "source": [
        "!pip install -U scikit-fuzzy "
      ],
      "metadata": {
        "colab": {
          "base_uri": "https://localhost:8080/"
        },
        "id": "xVfPFpgD5yVw",
        "outputId": "4d03c5fd-2442-4d59-d97e-e36a77bad4bd"
      },
      "execution_count": null,
      "outputs": [
        {
          "output_type": "stream",
          "name": "stdout",
          "text": [
            "Looking in indexes: https://pypi.org/simple, https://us-python.pkg.dev/colab-wheels/public/simple/\n",
            "Collecting scikit-fuzzy\n",
            "  Downloading scikit-fuzzy-0.4.2.tar.gz (993 kB)\n",
            "\u001b[2K     \u001b[90m━━━━━━━━━━━━━━━━━━━━━━━━━━━━━━━━━━━━━━\u001b[0m \u001b[32m994.0/994.0 KB\u001b[0m \u001b[31m14.6 MB/s\u001b[0m eta \u001b[36m0:00:00\u001b[0m\n",
            "\u001b[?25h  Preparing metadata (setup.py) ... \u001b[?25l\u001b[?25hdone\n",
            "Requirement already satisfied: numpy>=1.6.0 in /usr/local/lib/python3.8/dist-packages (from scikit-fuzzy) (1.21.6)\n",
            "Requirement already satisfied: scipy>=0.9.0 in /usr/local/lib/python3.8/dist-packages (from scikit-fuzzy) (1.7.3)\n",
            "Requirement already satisfied: networkx>=1.9.0 in /usr/local/lib/python3.8/dist-packages (from scikit-fuzzy) (2.8.8)\n",
            "Building wheels for collected packages: scikit-fuzzy\n",
            "  Building wheel for scikit-fuzzy (setup.py) ... \u001b[?25l\u001b[?25hdone\n",
            "  Created wheel for scikit-fuzzy: filename=scikit_fuzzy-0.4.2-py3-none-any.whl size=894088 sha256=13fbed98c71f31620f3c897863c08893d06fe4767bf1d9f5033a818f9196169f\n",
            "  Stored in directory: /root/.cache/pip/wheels/2c/04/80/7eefb1a2de7d36aefd06432fab2a1486caf0a0596a7067391a\n",
            "Successfully built scikit-fuzzy\n",
            "Installing collected packages: scikit-fuzzy\n",
            "Successfully installed scikit-fuzzy-0.4.2\n"
          ]
        }
      ]
    },
    {
      "cell_type": "code",
      "source": [
        " #Importação das bibliotecas\n",
        "from sklearn import datasets\n",
        "import numpy as np\n",
        "from sklearn.metrics import confusion_matrix\n",
        "import skfuzzy\n",
        "#"
      ],
      "metadata": {
        "id": "IGE_V3ie4oAO"
      },
      "execution_count": null,
      "outputs": []
    },
    {
      "cell_type": "code",
      "source": [
        "# Carregamento da base de dados iris, que já está disponível no sklearn e coloca obj iris\n",
        "iris = datasets.load_iris()"
      ],
      "metadata": {
        "id": "MG9FqtLR4yz9"
      },
      "execution_count": null,
      "outputs": []
    },
    {
      "cell_type": "code",
      "source": [
        "# Aplicação do algoritmo definindo três cluster (c = 3) e passando a matriz transposta (iris.data.T). Os outros parâmetros são obrigatórios e são os dc efault indicados na documentação\n",
        "#tem q passar matrix transp pro cluster e c é o num de clusters\n",
        "r = skfuzzy.cmeans(data = iris.data.T, c = 3, m = 2, error = 0.005,\n",
        "                   maxiter = 1000, init = None) "
      ],
      "metadata": {
        "id": "WwqOPhuj42DS"
      },
      "execution_count": null,
      "outputs": []
    },
    {
      "cell_type": "code",
      "source": [
        "# Obtendo as porcentagens de um registros pertencer a um cluster, que está na posição 1 da matriz retornada\n",
        "previsoes_porcentagem = r[1] #posicao 1 da pctg dos clusters"
      ],
      "metadata": {
        "id": "FS3ZR3Gd48CU"
      },
      "execution_count": null,
      "outputs": []
    },
    {
      "cell_type": "code",
      "source": [
        "# Visualização da probabilidade de um registro pertencer a cada um dos cluster (o somatório é 1.0 que indica 100%)\n",
        "for x in range(150):\n",
        "  print( previsoes_porcentagem[0][x] ,previsoes_porcentagem[1][x] ,previsoes_porcentagem[2][x] )"
      ],
      "metadata": {
        "colab": {
          "base_uri": "https://localhost:8080/"
        },
        "id": "oUT97ly05FaP",
        "outputId": "4f49b93a-8b84-41f9-90a6-c9bc43680758"
      },
      "execution_count": null,
      "outputs": [
        {
          "output_type": "stream",
          "name": "stdout",
          "text": [
            "0.996623648101864 0.0010718900492563868 0.0023044618488795563\n",
            "0.9758344356432936 0.007502469072697833 0.016663095284008313\n",
            "0.9798141251601632 0.006417500964095765 0.013768373875740958\n",
            "0.9674034608869867 0.010113466099689057 0.022483073013324213\n",
            "0.9944699230117076 0.0017678773798651556 0.003762199608427262\n",
            "0.9345353843415768 0.02063001299044063 0.04483460266798255\n",
            "0.9794794116376553 0.006507590200508871 0.014012998161835717\n",
            "0.9995469331641795 0.00014128898194394932 0.0003117778538764827\n",
            "0.9303341119314014 0.021913636722716248 0.04775225134588247\n",
            "0.9827092969520647 0.005344991631333609 0.01194571141660178\n",
            "0.9680254208587454 0.010205329165302354 0.02176924997595208\n",
            "0.9921303838922019 0.0024328111235229154 0.005436804984275196\n",
            "0.9706196151168373 0.009182261960349242 0.02019812292281361\n",
            "0.9229284162421761 0.025246608093456243 0.051824975664367584\n",
            "0.8897142945191054 0.03764507234263659 0.07264063313825804\n",
            "0.841281951111997 0.054326045256094045 0.10439200363190888\n",
            "0.9469013667746619 0.01750219869522746 0.035596434530110736\n",
            "0.9966521843967118 0.0010588367963266794 0.002288978806961407\n",
            "0.9040809459419888 0.030322619903541154 0.06559643415446996\n",
            "0.9791790619190671 0.006656172023661575 0.01416476605727116\n",
            "0.9685797598495411 0.009546459657329968 0.021873780493128964\n",
            "0.9848246475057282 0.004795962615294624 0.010379389878977258\n",
            "0.958641641646663 0.013837033044238969 0.027521325309097965\n",
            "0.9794056731631559 0.006116941675921378 0.014477385160922852\n",
            "0.9668891441723602 0.009845462842064579 0.02326539298557537\n",
            "0.9735441542384434 0.007979316795893966 0.0184765289656626\n",
            "0.9948388284140439 0.0015750597592129574 0.003586111826743016\n",
            "0.9933447124652766 0.0020875880224076673 0.004567699512315574\n",
            "0.9936732103306928 0.0019966030542602604 0.004330186615047072\n",
            "0.9794991045850453 0.006286840794707379 0.014214054620247437\n",
            "0.9787088664048738 0.006478144961281994 0.014812988633844318\n",
            "0.9743462050415718 0.007944109879764705 0.017709685078663714\n",
            "0.9384934005238791 0.020341643309515624 0.0411649561666053\n",
            "0.904130152010835 0.03236009155548383 0.06350975643368113\n",
            "0.9850524662307096 0.004597238928762006 0.010350294840528443\n",
            "0.984986456896406 0.00480690275694158 0.010206640346652439\n",
            "0.9641667398785878 0.011568682673627196 0.024264577447785107\n",
            "0.9908888361289192 0.0029269142431107274 0.00618424962797012\n",
            "0.9396470584486222 0.019241766707713878 0.041111174843663986\n",
            "0.9982878308936649 0.0005335483051538615 0.0011786208011812635\n",
            "0.9947273513101872 0.0016882725331710253 0.003584376156641828\n",
            "0.8506453774665411 0.04701576256523086 0.10233885996822814\n",
            "0.9525876159916756 0.015215377270700511 0.032197006737623816\n",
            "0.9792705353545813 0.006333915775465637 0.01439554886995297\n",
            "0.9452314393805268 0.016610591378284474 0.03815796924118887\n",
            "0.9721252895764393 0.008636711743825312 0.019237998679735448\n",
            "0.9767807238706997 0.007368063917397477 0.015851212211902655\n",
            "0.9742041260148692 0.008130924857774233 0.017664949127356548\n",
            "0.9772088923440465 0.0072624528828419315 0.015528654773111394\n",
            "0.9970710934554846 0.0009196278124686943 0.002009278732046722\n",
            "0.044573209619137494 0.5018899171973891 0.45353687318347347\n",
            "0.02920951051143538 0.2075539093967115 0.763236580091853\n",
            "0.031250535165892296 0.6008808567484342 0.36786860808567345\n",
            "0.04920845000230752 0.08030942705136031 0.8704821229463322\n",
            "0.024155086806449184 0.21804685913849867 0.7577980540550522\n",
            "0.005733697593097065 0.02047442855035685 0.9737918738565461\n",
            "0.02983113745981895 0.29822164351315933 0.6719472190270217\n",
            "0.2848541234129946 0.13227742029108117 0.5828684562959242\n",
            "0.03127061672741217 0.24851592259835373 0.7202134606742341\n",
            "0.07457933529107519 0.09458082336675915 0.8308398413421658\n",
            "0.21815644222517616 0.14501924856050083 0.636824309214323\n",
            "0.009177277575372214 0.02875713723364502 0.9620655851909827\n",
            "0.05552487060518583 0.10104978333099525 0.8434253460638189\n",
            "0.012174414654984034 0.08887446997850665 0.8989511153665093\n",
            "0.09142312293354327 0.09206579621665947 0.8165110808497972\n",
            "0.04174974651209962 0.2690433615831766 0.6892068919047237\n",
            "0.014159564051823835 0.0527857726017546 0.9330546633464216\n",
            "0.02578177523602255 0.0482241721733518 0.9259940525906256\n",
            "0.027163950541146963 0.1377436103905973 0.8350924390682558\n",
            "0.051377259346614954 0.07060651212458884 0.8780162285287962\n",
            "0.02765550231715183 0.2516491650390778 0.7206953326437705\n",
            "0.019442011985670943 0.04617371563199989 0.9343842723823291\n",
            "0.024006073162840973 0.27159849450504336 0.7043954323321155\n",
            "0.013979650834012047 0.08376428479375696 0.902256064372231\n",
            "0.022937765044625535 0.10149460026764748 0.875567634687727\n",
            "0.03397963209141478 0.21189017861915754 0.7541301892894277\n",
            "0.03361255321411439 0.443701049540188 0.5226863972456977\n",
            "0.021155594664279142 0.6736673090792277 0.30517709625649325\n",
            "0.004982938814806435 0.026488490911642983 0.9685285702735505\n",
            "0.12805037850883155 0.10454890311810412 0.7674007183730643\n",
            "0.07759399903086105 0.08974437853491767 0.8326616224342214\n",
            "0.10353648808699172 0.10061438355831168 0.7958491283546966\n",
            "0.030841807825737977 0.050141401997068874 0.9190167901771931\n",
            "0.023998142584497246 0.3208694614719772 0.6551323959435256\n",
            "0.026364320648000684 0.08252147374375163 0.8911142056082476\n",
            "0.03218202070116727 0.17121659712951107 0.7966013821693216\n",
            "0.033466515680659864 0.41215742727754273 0.5543760570417975\n",
            "0.02687600831756594 0.11570367213435513 0.857420319548079\n",
            "0.023996795223743456 0.046864437530523884 0.9291387672457327\n",
            "0.038032788353717026 0.062217174033271344 0.8997500376130116\n",
            "0.01956502094192515 0.04913026448429526 0.9313047145737797\n",
            "0.01167451611246884 0.07323456660966196 0.9150909172778692\n",
            "0.022399582970024565 0.04162312132495608 0.9359772957050193\n",
            "0.26861391324658473 0.13270302115754096 0.5986830655958743\n",
            "0.012595357261017001 0.0282896138170495 0.9591150289219335\n",
            "0.016714698128179894 0.03757567670886264 0.9457096251629575\n",
            "0.009513838353376448 0.022894516806330974 0.9675916448402925\n",
            "0.011427479513579598 0.04488329938677632 0.943689221099644\n",
            "0.3550070294669694 0.12450130853715173 0.5204916619958789\n",
            "0.012599075683140575 0.026582712881924472 0.960818211434935\n",
            "0.019371003986340875 0.8599515734351283 0.12067742257853079\n",
            "0.029313520258518494 0.3561171165121623 0.6145693632293192\n",
            "0.0061089619421927505 0.9555773778532838 0.03831366020452348\n",
            "0.012489076347380165 0.8462313126737878 0.14127961097883204\n",
            "0.004752487745702648 0.9576764972114082 0.03757101504288913\n",
            "0.03551870901012023 0.8116848519400296 0.15279643904985013\n",
            "0.07291429592975869 0.1670967279385723 0.759988976131669\n",
            "0.02194223973890976 0.8628024792102494 0.11525528105084076\n",
            "0.01398535892439789 0.8689018416960239 0.11711279937957828\n",
            "0.024468417704102 0.8608100379911533 0.11472154430474461\n",
            "0.016720538425389134 0.774377721827686 0.2089017397469248\n",
            "0.01571447463686874 0.7622038674691743 0.2220816578939568\n",
            "0.0011560332862278096 0.9889313466924704 0.009912620021301834\n",
            "0.03438179503093827 0.3064067827341786 0.6592114222348832\n",
            "0.038360349723606794 0.5014443822847582 0.46019526799163496\n",
            "0.014028764453585064 0.8504632077654721 0.13550802778094292\n",
            "0.007123055581128068 0.9138312402653996 0.07904570415347249\n",
            "0.05065215074429362 0.7634375004480657 0.1859103488076407\n",
            "0.04923958034654191 0.7574249330344912 0.19333548661896688\n",
            "0.03220905280990958 0.25772358702739034 0.7100673601627001\n",
            "0.003847999868493552 0.9703503989906759 0.025801601140830632\n",
            "0.03366411079238264 0.2600656138388891 0.7062702753687282\n",
            "0.04202766943798257 0.783048208835154 0.17492412172686356\n",
            "0.02281882816089493 0.3828500647346938 0.5943311071044112\n",
            "0.002918852775295018 0.9753296295442783 0.02175151768042673\n",
            "0.01294424081070401 0.9117612191606045 0.07529454002869145\n",
            "0.02101839051922176 0.27250835666847334 0.7064732528123049\n",
            "0.023119589683571105 0.3313467946630493 0.6455336156533795\n",
            "0.008329531276217664 0.9090852354420776 0.08258523328170468\n",
            "0.01446422973846199 0.8907828236965718 0.09475294656496613\n",
            "0.019827696877072743 0.8726126868465771 0.10755961627635005\n",
            "0.05096449939066339 0.7599619596044132 0.18907354100492346\n",
            "0.008931473881149685 0.906595788802186 0.08447273731666434\n",
            "0.023397369854123475 0.43780187706272605 0.5388007530831505\n",
            "0.03117063634135424 0.5769098370485993 0.39191952661004636\n",
            "0.028715971840690434 0.8393819298691259 0.13190209829018376\n",
            "0.017214729167581655 0.8543499273935857 0.12843534343883267\n",
            "0.009743716190868725 0.8808368850856241 0.10941939872350721\n",
            "0.021769865824660572 0.22943708670435392 0.7487930474709855\n",
            "0.0034791360070442648 0.9676878126854523 0.028833051307503445\n",
            "0.005079886565828916 0.957275274015495 0.03764483941867612\n",
            "0.015379265847888327 0.8555254857470432 0.12909524840506836\n",
            "0.029313520258518494 0.3561171165121623 0.6145693632293192\n",
            "0.005276466363538087 0.9608590526301902 0.03386448100627159\n",
            "0.009715884939637594 0.9270878210696774 0.06319629399068509\n",
            "0.01123153334917865 0.8828518449547356 0.10591662169608593\n",
            "0.02579656940768258 0.4679176375902706 0.5062857930020468\n",
            "0.012065368452471095 0.8324550031074268 0.1554796284401021\n",
            "0.02155438307094708 0.7899365059522311 0.1885091109768217\n",
            "0.02693353132645057 0.3925022222511206 0.5805642464224289\n"
          ]
        }
      ]
    },
    {
      "cell_type": "code",
      "source": [
        "# Geração de matriz de contingência para comparação com as classes originais da base de dados\n",
        "previsoes = previsoes_porcentagem.argmax(axis = 0)\n",
        "resultados = confusion_matrix(iris.target, previsoes)\n",
        "resultados"
      ],
      "metadata": {
        "colab": {
          "base_uri": "https://localhost:8080/"
        },
        "id": "kjADwyyb5HEo",
        "outputId": "3751660b-253f-42f2-fe8e-18e96c16324b"
      },
      "execution_count": null,
      "outputs": [
        {
          "output_type": "execute_result",
          "data": {
            "text/plain": [
              "array([[50,  0,  0],\n",
              "       [ 0,  3, 47],\n",
              "       [ 0, 37, 13]])"
            ]
          },
          "metadata": {},
          "execution_count": 93
        }
      ]
    },
    {
      "cell_type": "code",
      "source": [
        "!pip install pyclustering"
      ],
      "metadata": {
        "colab": {
          "base_uri": "https://localhost:8080/"
        },
        "id": "fOzj3Muc7im_",
        "outputId": "6a9880fe-5b42-4012-b2a3-5abd009ccb6b"
      },
      "execution_count": null,
      "outputs": [
        {
          "output_type": "stream",
          "name": "stdout",
          "text": [
            "Looking in indexes: https://pypi.org/simple, https://us-python.pkg.dev/colab-wheels/public/simple/\n",
            "Collecting pyclustering\n",
            "  Downloading pyclustering-0.10.1.2.tar.gz (2.6 MB)\n",
            "\u001b[2K     \u001b[90m━━━━━━━━━━━━━━━━━━━━━━━━━━━━━━━━━━━━━━━━\u001b[0m \u001b[32m2.6/2.6 MB\u001b[0m \u001b[31m24.8 MB/s\u001b[0m eta \u001b[36m0:00:00\u001b[0m\n",
            "\u001b[?25h  Preparing metadata (setup.py) ... \u001b[?25l\u001b[?25hdone\n",
            "Requirement already satisfied: scipy>=1.1.0 in /usr/local/lib/python3.8/dist-packages (from pyclustering) (1.7.3)\n",
            "Requirement already satisfied: matplotlib>=3.0.0 in /usr/local/lib/python3.8/dist-packages (from pyclustering) (3.2.2)\n",
            "Requirement already satisfied: numpy>=1.15.2 in /usr/local/lib/python3.8/dist-packages (from pyclustering) (1.21.6)\n",
            "Requirement already satisfied: Pillow>=5.2.0 in /usr/local/lib/python3.8/dist-packages (from pyclustering) (7.1.2)\n",
            "Requirement already satisfied: kiwisolver>=1.0.1 in /usr/local/lib/python3.8/dist-packages (from matplotlib>=3.0.0->pyclustering) (1.4.4)\n",
            "Requirement already satisfied: pyparsing!=2.0.4,!=2.1.2,!=2.1.6,>=2.0.1 in /usr/local/lib/python3.8/dist-packages (from matplotlib>=3.0.0->pyclustering) (3.0.9)\n",
            "Requirement already satisfied: python-dateutil>=2.1 in /usr/local/lib/python3.8/dist-packages (from matplotlib>=3.0.0->pyclustering) (2.8.2)\n",
            "Requirement already satisfied: cycler>=0.10 in /usr/local/lib/python3.8/dist-packages (from matplotlib>=3.0.0->pyclustering) (0.11.0)\n",
            "Requirement already satisfied: six>=1.5 in /usr/local/lib/python3.8/dist-packages (from python-dateutil>=2.1->matplotlib>=3.0.0->pyclustering) (1.15.0)\n",
            "Building wheels for collected packages: pyclustering\n",
            "  Building wheel for pyclustering (setup.py) ... \u001b[?25l\u001b[?25hdone\n",
            "  Created wheel for pyclustering: filename=pyclustering-0.10.1.2-py3-none-any.whl size=2395121 sha256=9003e0b8787d0621e2a572ab2240acbe8333958ae7e3978e2c76213fdf9aab31\n",
            "  Stored in directory: /root/.cache/pip/wheels/dc/25/8b/072b221a5cff4f04e7999d39ca1b6cb5dad702cc3e1da951d4\n",
            "Successfully built pyclustering\n",
            "Installing collected packages: pyclustering\n",
            "Successfully installed pyclustering-0.10.1.2\n"
          ]
        }
      ]
    },
    {
      "cell_type": "code",
      "source": [
        "#centros sao por pontos reais de dados"
      ],
      "metadata": {
        "id": "z4_z833l8MM8"
      },
      "execution_count": null,
      "outputs": []
    },
    {
      "cell_type": "code",
      "source": [
        "# Importação das bibliotecas\n",
        "from sklearn import datasets\n",
        "from sklearn.metrics import confusion_matrix\n",
        "import numpy as np\n",
        "from pyclustering.cluster.kmedoids import kmedoids\n",
        "from pyclustering.cluster import cluster_visualizer\n",
        "#pip install pyclustering (executar no Anaconda Prompt)"
      ],
      "metadata": {
        "id": "Wk1hz8327DgV"
      },
      "execution_count": null,
      "outputs": []
    },
    {
      "cell_type": "code",
      "source": [
        "# Carregamento da base de dados\n",
        "iris = datasets.load_iris()"
      ],
      "metadata": {
        "id": "f9s1FpXh7gZn"
      },
      "execution_count": null,
      "outputs": []
    },
    {
      "cell_type": "code",
      "source": [
        "# Configuração dos parâmetros do k-medoids, utilizando somente as duas primeiras colunas da base de dados por causa da visualização apenas\n",
        "# 3, 12 e 20 são índices aleatórios de registros da base de dados (inicialização)\n",
        "cluster = kmedoids(iris.data[:, 0:2], [3, 12, 20])#mdoids definidos , sao os indices dos registros\n",
        "# Visualização dos pontos escolhidos (3, 12 e 20)\n",
        "cluster.get_medoids()"
      ],
      "metadata": {
        "colab": {
          "base_uri": "https://localhost:8080/"
        },
        "id": "AU0W8F9E7uNz",
        "outputId": "2796b933-47fe-4056-df84-e1ebc4db3ca7"
      },
      "execution_count": null,
      "outputs": [
        {
          "output_type": "execute_result",
          "data": {
            "text/plain": [
              "[3, 12, 20]"
            ]
          },
          "metadata": {},
          "execution_count": 98
        }
      ]
    },
    {
      "cell_type": "code",
      "source": [
        "# Aplicação do algoritmo para o agrupamento, obtenção dos grupo de cada registro e visualização dos medoides\n",
        "cluster.process()\n",
        "previsoes = cluster.get_clusters()\n",
        "medoides = cluster.get_medoids()\n",
        "#lista de 3 elementos, com os indices dos registros do cluster cada lista é um cluster ,cada indice é um dado\n",
        "previsoes"
      ],
      "metadata": {
        "colab": {
          "base_uri": "https://localhost:8080/"
        },
        "id": "AwpTgnh27yRy",
        "outputId": "c8bad451-27c1-4f6b-b174-da47e7391b24"
      },
      "execution_count": null,
      "outputs": [
        {
          "output_type": "execute_result",
          "data": {
            "text/plain": [
              "[[50,\n",
              "  51,\n",
              "  52,\n",
              "  54,\n",
              "  56,\n",
              "  58,\n",
              "  65,\n",
              "  74,\n",
              "  75,\n",
              "  76,\n",
              "  77,\n",
              "  86,\n",
              "  100,\n",
              "  102,\n",
              "  103,\n",
              "  104,\n",
              "  105,\n",
              "  107,\n",
              "  108,\n",
              "  109,\n",
              "  110,\n",
              "  111,\n",
              "  112,\n",
              "  115,\n",
              "  116,\n",
              "  117,\n",
              "  118,\n",
              "  120,\n",
              "  122,\n",
              "  124,\n",
              "  125,\n",
              "  128,\n",
              "  129,\n",
              "  130,\n",
              "  131,\n",
              "  132,\n",
              "  135,\n",
              "  136,\n",
              "  137,\n",
              "  139,\n",
              "  140,\n",
              "  141,\n",
              "  143,\n",
              "  144,\n",
              "  145,\n",
              "  147,\n",
              "  148],\n",
              " [53,\n",
              "  55,\n",
              "  57,\n",
              "  59,\n",
              "  60,\n",
              "  61,\n",
              "  62,\n",
              "  63,\n",
              "  64,\n",
              "  66,\n",
              "  67,\n",
              "  68,\n",
              "  69,\n",
              "  70,\n",
              "  71,\n",
              "  72,\n",
              "  73,\n",
              "  78,\n",
              "  79,\n",
              "  80,\n",
              "  81,\n",
              "  82,\n",
              "  83,\n",
              "  84,\n",
              "  85,\n",
              "  87,\n",
              "  88,\n",
              "  89,\n",
              "  90,\n",
              "  91,\n",
              "  92,\n",
              "  93,\n",
              "  94,\n",
              "  95,\n",
              "  96,\n",
              "  97,\n",
              "  98,\n",
              "  99,\n",
              "  101,\n",
              "  113,\n",
              "  114,\n",
              "  119,\n",
              "  121,\n",
              "  123,\n",
              "  126,\n",
              "  127,\n",
              "  133,\n",
              "  134,\n",
              "  138,\n",
              "  142,\n",
              "  146,\n",
              "  149],\n",
              " [0,\n",
              "  1,\n",
              "  2,\n",
              "  3,\n",
              "  4,\n",
              "  5,\n",
              "  6,\n",
              "  7,\n",
              "  8,\n",
              "  9,\n",
              "  10,\n",
              "  11,\n",
              "  12,\n",
              "  13,\n",
              "  14,\n",
              "  15,\n",
              "  16,\n",
              "  17,\n",
              "  18,\n",
              "  19,\n",
              "  20,\n",
              "  21,\n",
              "  22,\n",
              "  23,\n",
              "  24,\n",
              "  25,\n",
              "  26,\n",
              "  27,\n",
              "  28,\n",
              "  29,\n",
              "  30,\n",
              "  31,\n",
              "  32,\n",
              "  33,\n",
              "  34,\n",
              "  35,\n",
              "  36,\n",
              "  37,\n",
              "  38,\n",
              "  39,\n",
              "  40,\n",
              "  41,\n",
              "  42,\n",
              "  43,\n",
              "  44,\n",
              "  45,\n",
              "  46,\n",
              "  47,\n",
              "  48,\n",
              "  49,\n",
              "  106]]"
            ]
          },
          "metadata": {},
          "execution_count": 99
        }
      ]
    },
    {
      "cell_type": "code",
      "source": [
        "# Visualização do agrupamento, grafico do cluster com os centoids com tds os dados das 2 primeiras cols\n",
        "v = cluster_visualizer()\n",
        "v.append_clusters(previsoes, iris.data[:,0:2])\n",
        "v.append_cluster(medoides, data = iris.data[:,0:2], marker = '*', markersize = 20)\n",
        "v.show()"
      ],
      "metadata": {
        "colab": {
          "base_uri": "https://localhost:8080/",
          "height": 642
        },
        "id": "EnMtpHMK720d",
        "outputId": "c00f7b05-e435-45bb-a5f0-2a34273abf29"
      },
      "execution_count": null,
      "outputs": [
        {
          "output_type": "display_data",
          "data": {
            "text/plain": [
              "<Figure size 576x396 with 1 Axes>"
            ],
            "image/png": "[encoded data removed]"
          },
          "metadata": {}
        },
        {
          "output_type": "execute_result",
          "data": {
            "text/plain": [
              "<Figure size 576x396 with 1 Axes>"
            ],
            "image/png": "[encoded data removed]"
          },
          "metadata": {},
          "execution_count": 100
        }
      ]
    },
    {
      "cell_type": "code",
      "source": [
        "# Código para criar duas listas, uma com os grupos reais da base de dados e outra com os valores dos grupos\n",
        "# Utilizado posteriormente para visualização da matriz de contingência==matrix de confusao\n",
        "lista_previsoes = []\n",
        "lista_real = []\n",
        "for i in range(len(previsoes)):\n",
        "     for j in range(len(previsoes[i])):\n",
        "        lista_previsoes.append(i)\n",
        "        lista_real.append(iris.target[previsoes[i][j]])"
      ],
      "metadata": {
        "id": "BP_07U4O77j-"
      },
      "execution_count": null,
      "outputs": []
    },
    {
      "cell_type": "code",
      "source": [
        "# Geração da matriz de contingência, comparando os grupos reais com os grupos previstos\n",
        "lista_previsoes = np.asarray(lista_previsoes)\n",
        "lista_real = np.asarray(lista_real)\n",
        "resultados = confusion_matrix(lista_real, lista_previsoes)\n",
        "resultados"
      ],
      "metadata": {
        "colab": {
          "base_uri": "https://localhost:8080/"
        },
        "id": "ciYoikMg8ALr",
        "outputId": "66d4d24a-caf3-4770-85e6-47fcfef930b0"
      },
      "execution_count": null,
      "outputs": [
        {
          "output_type": "execute_result",
          "data": {
            "text/plain": [
              "array([[ 0,  0, 50],\n",
              "       [12, 38,  0],\n",
              "       [35, 14,  1]])"
            ]
          },
          "metadata": {},
          "execution_count": 103
        }
      ]
    },
    {
      "cell_type": "code",
      "source": [
        "#REGRAS DE ASSOSIACAO"
      ],
      "metadata": {
        "id": "UGV8IWuq9z4l"
      },
      "execution_count": null,
      "outputs": []
    },
    {
      "cell_type": "code",
      "source": [
        "!pip install apyori"
      ],
      "metadata": {
        "colab": {
          "base_uri": "https://localhost:8080/"
        },
        "id": "5howhpwfALBr",
        "outputId": "bcc39c0c-24c8-452d-a634-151a378364c8"
      },
      "execution_count": null,
      "outputs": [
        {
          "output_type": "stream",
          "name": "stdout",
          "text": [
            "Looking in indexes: https://pypi.org/simple, https://us-python.pkg.dev/colab-wheels/public/simple/\n",
            "Collecting apyori\n",
            "  Downloading apyori-1.1.2.tar.gz (8.6 kB)\n",
            "  Preparing metadata (setup.py) ... \u001b[?25l\u001b[?25hdone\n",
            "Building wheels for collected packages: apyori\n",
            "  Building wheel for apyori (setup.py) ... \u001b[?25l\u001b[?25hdone\n",
            "  Created wheel for apyori: filename=apyori-1.1.2-py3-none-any.whl size=5973 sha256=cd85a8be8cb1a2f6b50cb27552a0198616dc200931081f5cca186e5ed788ed58\n",
            "  Stored in directory: /root/.cache/pip/wheels/1b/02/6c/a45230be8603bd95c0a51cd2b289aefdd860c1a100eab73661\n",
            "Successfully built apyori\n",
            "Installing collected packages: apyori\n",
            "Successfully installed apyori-1.1.2\n"
          ]
        }
      ]
    },
    {
      "cell_type": "code",
      "source": [
        "# Importação das bibliotecas\n",
        "import pandas as pd\n",
        "from apyori import apriori\n",
        "#pip install apyori (executar no Anaconda Prompt)"
      ],
      "metadata": {
        "id": "aly1dj4f-Cl7"
      },
      "execution_count": null,
      "outputs": []
    },
    {
      "cell_type": "code",
      "source": [
        "# Leitura das trasações \n",
        "dados = pd.read_csv('transacoes.txt', header = None)\n",
        "dados"
      ],
      "metadata": {
        "colab": {
          "base_uri": "https://localhost:8080/",
          "height": 237
        },
        "id": "vNjTrXQi-T7_",
        "outputId": "c2f68b65-c043-4958-ee73-4eef7fe60708"
      },
      "execution_count": null,
      "outputs": [
        {
          "output_type": "execute_result",
          "data": {
            "text/plain": [
              "         0        1        2\n",
              "0  Cerveja    Pizza  Sorvete\n",
              "1    Pizza  Sorvete      NaN\n",
              "2  Cerveja    Pizza      NaN\n",
              "3  Cerveja    Pizza  Sorvete\n",
              "4  Cerveja    Pizza      NaN\n",
              "5    Pizza      NaN      NaN"
            ],
            "text/html": [
              "\n",
              "  <div id=\"df-78192773-c90b-4dc3-9c87-7534793eb954\">\n",
              "    <div class=\"colab-df-container\">\n",
              "      <div>\n",
              "<style scoped>\n",
              "    .dataframe tbody tr th:only-of-type {\n",
              "        vertical-align: middle;\n",
              "    }\n",
              "\n",
              "    .dataframe tbody tr th {\n",
              "        vertical-align: top;\n",
              "    }\n",
              "\n",
              "    .dataframe thead th {\n",
              "        text-align: right;\n",
              "    }\n",
              "</style>\n",
              "<table border=\"1\" class=\"dataframe\">\n",
              "  <thead>\n",
              "    <tr style=\"text-align: right;\">\n",
              "      <th></th>\n",
              "      <th>0</th>\n",
              "      <th>1</th>\n",
              "      <th>2</th>\n",
              "    </tr>\n",
              "  </thead>\n",
              "  <tbody>\n",
              "    <tr>\n",
              "      <th>0</th>\n",
              "      <td>Cerveja</td>\n",
              "      <td>Pizza</td>\n",
              "      <td>Sorvete</td>\n",
              "    </tr>\n",
              "    <tr>\n",
              "      <th>1</th>\n",
              "      <td>Pizza</td>\n",
              "      <td>Sorvete</td>\n",
              "      <td>NaN</td>\n",
              "    </tr>\n",
              "    <tr>\n",
              "      <th>2</th>\n",
              "      <td>Cerveja</td>\n",
              "      <td>Pizza</td>\n",
              "      <td>NaN</td>\n",
              "    </tr>\n",
              "    <tr>\n",
              "      <th>3</th>\n",
              "      <td>Cerveja</td>\n",
              "      <td>Pizza</td>\n",
              "      <td>Sorvete</td>\n",
              "    </tr>\n",
              "    <tr>\n",
              "      <th>4</th>\n",
              "      <td>Cerveja</td>\n",
              "      <td>Pizza</td>\n",
              "      <td>NaN</td>\n",
              "    </tr>\n",
              "    <tr>\n",
              "      <th>5</th>\n",
              "      <td>Pizza</td>\n",
              "      <td>NaN</td>\n",
              "      <td>NaN</td>\n",
              "    </tr>\n",
              "  </tbody>\n",
              "</table>\n",
              "</div>\n",
              "      <button class=\"colab-df-convert\" onclick=\"convertToInteractive('df-78192773-c90b-4dc3-9c87-7534793eb954')\"\n",
              "              title=\"Convert this dataframe to an interactive table.\"\n",
              "              style=\"display:none;\">\n",
              "        \n",
              "  <svg xmlns=\"http://www.w3.org/2000/svg\" height=\"24px\"viewBox=\"0 0 24 24\"\n",
              "       width=\"24px\">\n",
              "    <path d=\"M0 0h24v24H0V0z\" fill=\"none\"/>\n",
              "    <path d=\"M18.56 5.44l.94 2.06.94-2.06 2.06-.94-2.06-.94-.94-2.06-.94 2.06-2.06.94zm-11 1L8.5 8.5l.94-2.06 2.06-.94-2.06-.94L8.5 2.5l-.94 2.06-2.06.94zm10 10l.94 2.06.94-2.06 2.06-.94-2.06-.94-.94-2.06-.94 2.06-2.06.94z\"/><path d=\"M17.41 7.96l-1.37-1.37c-.4-.4-.92-.59-1.43-.59-.52 0-1.04.2-1.43.59L10.3 9.45l-7.72 7.72c-.78.78-.78 2.05 0 2.83L4 21.41c.39.39.9.59 1.41.59.51 0 1.02-.2 1.41-.59l7.78-7.78 2.81-2.81c.8-.78.8-2.07 0-2.86zM5.41 20L4 18.59l7.72-7.72 1.47 1.35L5.41 20z\"/>\n",
              "  </svg>\n",
              "      </button>\n",
              "      \n",
              "  <style>\n",
              "    .colab-df-container {\n",
              "      display:flex;\n",
              "      flex-wrap:wrap;\n",
              "      gap: 12px;\n",
              "    }\n",
              "\n",
              "    .colab-df-convert {\n",
              "      background-color: #E8F0FE;\n",
              "      border: none;\n",
              "      border-radius: 50%;\n",
              "      cursor: pointer;\n",
              "      display: none;\n",
              "      fill: #1967D2;\n",
              "      height: 32px;\n",
              "      padding: 0 0 0 0;\n",
              "      width: 32px;\n",
              "    }\n",
              "\n",
              "    .colab-df-convert:hover {\n",
              "      background-color: #E2EBFA;\n",
              "      box-shadow: 0px 1px 2px rgba(60, 64, 67, 0.3), 0px 1px 3px 1px rgba(60, 64, 67, 0.15);\n",
              "      fill: #174EA6;\n",
              "    }\n",
              "\n",
              "    [theme=dark] .colab-df-convert {\n",
              "      background-color: #3B4455;\n",
              "      fill: #D2E3FC;\n",
              "    }\n",
              "\n",
              "    [theme=dark] .colab-df-convert:hover {\n",
              "      background-color: #434B5C;\n",
              "      box-shadow: 0px 1px 3px 1px rgba(0, 0, 0, 0.15);\n",
              "      filter: drop-shadow(0px 1px 2px rgba(0, 0, 0, 0.3));\n",
              "      fill: #FFFFFF;\n",
              "    }\n",
              "  </style>\n",
              "\n",
              "      <script>\n",
              "        const buttonEl =\n",
              "          document.querySelector('#df-78192773-c90b-4dc3-9c87-7534793eb954 button.colab-df-convert');\n",
              "        buttonEl.style.display =\n",
              "          google.colab.kernel.accessAllowed ? 'block' : 'none';\n",
              "\n",
              "        async function convertToInteractive(key) {\n",
              "          const element = document.querySelector('#df-78192773-c90b-4dc3-9c87-7534793eb954');\n",
              "          const dataTable =\n",
              "            await google.colab.kernel.invokeFunction('convertToInteractive',\n",
              "                                                     [key], {});\n",
              "          if (!dataTable) return;\n",
              "\n",
              "          const docLinkHtml = 'Like what you see? Visit the ' +\n",
              "            '<a target=\"_blank\" href=https://colab.research.google.com/notebooks/data_table.ipynb>data table notebook</a>'\n",
              "            + ' to learn more about interactive tables.';\n",
              "          element.innerHTML = '';\n",
              "          dataTable['output_type'] = 'display_data';\n",
              "          await google.colab.output.renderOutput(dataTable, element);\n",
              "          const docLink = document.createElement('div');\n",
              "          docLink.innerHTML = docLinkHtml;\n",
              "          element.appendChild(docLink);\n",
              "        }\n",
              "      </script>\n",
              "    </div>\n",
              "  </div>\n",
              "  "
            ]
          },
          "metadata": {},
          "execution_count": 106
        }
      ]
    },
    {
      "cell_type": "code",
      "source": [
        "#transformação para o formato de lista, que é exigido pela biblioteca apyori - 6 é a quantidade de itens na base de dados\n",
        "#for pra add transacoes na lista\n",
        "transacoes = []\n",
        "for i in range(0,6):\n",
        "    transacoes.append([str(dados.values[i,j]) for j in range(0,3)])\n",
        "transacoes"
      ],
      "metadata": {
        "colab": {
          "base_uri": "https://localhost:8080/"
        },
        "id": "I-r0kO17-aRC",
        "outputId": "6731fc46-1673-48c9-8182-0091d6c1a9d5"
      },
      "execution_count": null,
      "outputs": [
        {
          "output_type": "execute_result",
          "data": {
            "text/plain": [
              "[['Cerveja', 'Pizza', 'Sorvete'],\n",
              " ['Pizza', 'Sorvete', 'nan'],\n",
              " ['Cerveja', 'Pizza', 'nan'],\n",
              " ['Cerveja', 'Pizza', 'Sorvete'],\n",
              " ['Cerveja', 'Pizza', 'nan'],\n",
              " ['Pizza', 'nan', 'nan']]"
            ]
          },
          "metadata": {},
          "execution_count": 107
        }
      ]
    },
    {
      "cell_type": "code",
      "source": [
        "# Execução do algoritmo apriori para geração das regras de associação, definindo os parâmetros de suporte e confiança\n",
        "regras = apriori(transacoes, min_support = 0.5, min_confidence = 0.5,min_length=2) #valores dependem dos dados"
      ],
      "metadata": {
        "id": "ZfS4gind-gE3"
      },
      "execution_count": null,
      "outputs": []
    },
    {
      "cell_type": "code",
      "source": [
        "# Criação de nova variável para armazenar somente as regras de associação\n",
        "resultados = list(regras)\n",
        "print(resultados[0])\n",
        "resultados"
      ],
      "metadata": {
        "colab": {
          "base_uri": "https://localhost:8080/"
        },
        "id": "4QF6vZY2-noG",
        "outputId": "be8fadc7-b454-43ba-ecb0-caf8a5184950"
      },
      "execution_count": null,
      "outputs": [
        {
          "output_type": "stream",
          "name": "stdout",
          "text": [
            "RelationRecord(items=frozenset({'Cerveja'}), support=0.6666666666666666, ordered_statistics=[OrderedStatistic(items_base=frozenset(), items_add=frozenset({'Cerveja'}), confidence=0.6666666666666666, lift=1.0)])\n"
          ]
        },
        {
          "output_type": "execute_result",
          "data": {
            "text/plain": [
              "[RelationRecord(items=frozenset({'Cerveja'}), support=0.6666666666666666, ordered_statistics=[OrderedStatistic(items_base=frozenset(), items_add=frozenset({'Cerveja'}), confidence=0.6666666666666666, lift=1.0)]),\n",
              " RelationRecord(items=frozenset({'Pizza'}), support=1.0, ordered_statistics=[OrderedStatistic(items_base=frozenset(), items_add=frozenset({'Pizza'}), confidence=1.0, lift=1.0)]),\n",
              " RelationRecord(items=frozenset({'Sorvete'}), support=0.5, ordered_statistics=[OrderedStatistic(items_base=frozenset(), items_add=frozenset({'Sorvete'}), confidence=0.5, lift=1.0)]),\n",
              " RelationRecord(items=frozenset({'nan'}), support=0.6666666666666666, ordered_statistics=[OrderedStatistic(items_base=frozenset(), items_add=frozenset({'nan'}), confidence=0.6666666666666666, lift=1.0)]),\n",
              " RelationRecord(items=frozenset({'Pizza', 'Cerveja'}), support=0.6666666666666666, ordered_statistics=[OrderedStatistic(items_base=frozenset(), items_add=frozenset({'Pizza', 'Cerveja'}), confidence=0.6666666666666666, lift=1.0), OrderedStatistic(items_base=frozenset({'Cerveja'}), items_add=frozenset({'Pizza'}), confidence=1.0, lift=1.0), OrderedStatistic(items_base=frozenset({'Pizza'}), items_add=frozenset({'Cerveja'}), confidence=0.6666666666666666, lift=1.0)]),\n",
              " RelationRecord(items=frozenset({'Pizza', 'Sorvete'}), support=0.5, ordered_statistics=[OrderedStatistic(items_base=frozenset(), items_add=frozenset({'Pizza', 'Sorvete'}), confidence=0.5, lift=1.0), OrderedStatistic(items_base=frozenset({'Pizza'}), items_add=frozenset({'Sorvete'}), confidence=0.5, lift=1.0), OrderedStatistic(items_base=frozenset({'Sorvete'}), items_add=frozenset({'Pizza'}), confidence=1.0, lift=1.0)]),\n",
              " RelationRecord(items=frozenset({'Pizza', 'nan'}), support=0.6666666666666666, ordered_statistics=[OrderedStatistic(items_base=frozenset(), items_add=frozenset({'Pizza', 'nan'}), confidence=0.6666666666666666, lift=1.0), OrderedStatistic(items_base=frozenset({'Pizza'}), items_add=frozenset({'nan'}), confidence=0.6666666666666666, lift=1.0), OrderedStatistic(items_base=frozenset({'nan'}), items_add=frozenset({'Pizza'}), confidence=1.0, lift=1.0)])]"
            ]
          },
          "metadata": {},
          "execution_count": 110
        }
      ]
    },
    {
      "cell_type": "code",
      "source": [
        "# Criação de nova variável, percorrendo a variável anterior para uma melhor visualização dos resultados\n",
        "resultados2 = [list(x) for x in resultados]\n",
        "resultados2"
      ],
      "metadata": {
        "colab": {
          "base_uri": "https://localhost:8080/"
        },
        "id": "RaCDlcrE-vn_",
        "outputId": "14abdbbe-daea-433a-d368-8def0c87134b"
      },
      "execution_count": null,
      "outputs": [
        {
          "output_type": "execute_result",
          "data": {
            "text/plain": [
              "[[frozenset({'Cerveja'}),\n",
              "  0.6666666666666666,\n",
              "  [OrderedStatistic(items_base=frozenset(), items_add=frozenset({'Cerveja'}), confidence=0.6666666666666666, lift=1.0)]],\n",
              " [frozenset({'Pizza'}),\n",
              "  1.0,\n",
              "  [OrderedStatistic(items_base=frozenset(), items_add=frozenset({'Pizza'}), confidence=1.0, lift=1.0)]],\n",
              " [frozenset({'Sorvete'}),\n",
              "  0.5,\n",
              "  [OrderedStatistic(items_base=frozenset(), items_add=frozenset({'Sorvete'}), confidence=0.5, lift=1.0)]],\n",
              " [frozenset({'nan'}),\n",
              "  0.6666666666666666,\n",
              "  [OrderedStatistic(items_base=frozenset(), items_add=frozenset({'nan'}), confidence=0.6666666666666666, lift=1.0)]],\n",
              " [frozenset({'Cerveja', 'Pizza'}),\n",
              "  0.6666666666666666,\n",
              "  [OrderedStatistic(items_base=frozenset(), items_add=frozenset({'Pizza', 'Cerveja'}), confidence=0.6666666666666666, lift=1.0),\n",
              "   OrderedStatistic(items_base=frozenset({'Cerveja'}), items_add=frozenset({'Pizza'}), confidence=1.0, lift=1.0),\n",
              "   OrderedStatistic(items_base=frozenset({'Pizza'}), items_add=frozenset({'Cerveja'}), confidence=0.6666666666666666, lift=1.0)]],\n",
              " [frozenset({'Pizza', 'Sorvete'}),\n",
              "  0.5,\n",
              "  [OrderedStatistic(items_base=frozenset(), items_add=frozenset({'Pizza', 'Sorvete'}), confidence=0.5, lift=1.0),\n",
              "   OrderedStatistic(items_base=frozenset({'Pizza'}), items_add=frozenset({'Sorvete'}), confidence=0.5, lift=1.0),\n",
              "   OrderedStatistic(items_base=frozenset({'Sorvete'}), items_add=frozenset({'Pizza'}), confidence=1.0, lift=1.0)]],\n",
              " [frozenset({'Pizza', 'nan'}),\n",
              "  0.6666666666666666,\n",
              "  [OrderedStatistic(items_base=frozenset(), items_add=frozenset({'Pizza', 'nan'}), confidence=0.6666666666666666, lift=1.0),\n",
              "   OrderedStatistic(items_base=frozenset({'Pizza'}), items_add=frozenset({'nan'}), confidence=0.6666666666666666, lift=1.0),\n",
              "   OrderedStatistic(items_base=frozenset({'nan'}), items_add=frozenset({'Pizza'}), confidence=1.0, lift=1.0)]]]"
            ]
          },
          "metadata": {},
          "execution_count": 111
        }
      ]
    },
    {
      "cell_type": "code",
      "source": [
        "# Criação de outra variável para a visualização das regras ficar mais fácil para o usuário, adicionando as regras encontradas na variável resultados2\n",
        "resultados3 = []\n",
        "for j in range(0,7):\n",
        "    resultados3.append([list(x) for x in resultados2[j][2]])\n",
        "resultados3 #aq vemos confianca e lift "
      ],
      "metadata": {
        "colab": {
          "base_uri": "https://localhost:8080/"
        },
        "id": "NN9lx-x-AAoG",
        "outputId": "e140e9f0-cf2c-4649-be88-3ab2b3026516"
      },
      "execution_count": null,
      "outputs": [
        {
          "output_type": "execute_result",
          "data": {
            "text/plain": [
              "[[[frozenset(), frozenset({'Cerveja'}), 0.6666666666666666, 1.0]],\n",
              " [[frozenset(), frozenset({'Pizza'}), 1.0, 1.0]],\n",
              " [[frozenset(), frozenset({'Sorvete'}), 0.5, 1.0]],\n",
              " [[frozenset(), frozenset({'nan'}), 0.6666666666666666, 1.0]],\n",
              " [[frozenset(), frozenset({'Cerveja', 'Pizza'}), 0.6666666666666666, 1.0],\n",
              "  [frozenset({'Cerveja'}), frozenset({'Pizza'}), 1.0, 1.0],\n",
              "  [frozenset({'Pizza'}), frozenset({'Cerveja'}), 0.6666666666666666, 1.0]],\n",
              " [[frozenset(), frozenset({'Pizza', 'Sorvete'}), 0.5, 1.0],\n",
              "  [frozenset({'Pizza'}), frozenset({'Sorvete'}), 0.5, 1.0],\n",
              "  [frozenset({'Sorvete'}), frozenset({'Pizza'}), 1.0, 1.0]],\n",
              " [[frozenset(), frozenset({'Pizza', 'nan'}), 0.6666666666666666, 1.0],\n",
              "  [frozenset({'Pizza'}), frozenset({'nan'}), 0.6666666666666666, 1.0],\n",
              "  [frozenset({'nan'}), frozenset({'Pizza'}), 1.0, 1.0]]]"
            ]
          },
          "metadata": {},
          "execution_count": 112
        }
      ]
    },
    {
      "cell_type": "code",
      "source": [
        "#ECAT associador q mostra a frequencia dos itens"
      ],
      "metadata": {
        "id": "uZ3-l2GLByrm"
      },
      "execution_count": null,
      "outputs": []
    },
    {
      "cell_type": "code",
      "source": [
        "# Função pronta para o algoritmo ECLAT (atualmente o algoritmo não está disponível em uma biblioteca)\n",
        "import os;\n",
        "import sys;\n",
        "import numpy as np;\n",
        "import datetime as dt;\n",
        "from numpy import linalg as LA;\n",
        "import optparse;\n",
        "import argparse;"
      ],
      "metadata": {
        "id": "hxkfb0yaB0_w"
      },
      "execution_count": null,
      "outputs": []
    },
    {
      "cell_type": "code",
      "source": [
        "# Global variable \n",
        "#containing all frequent patterns with its tid's\n",
        "F =[];\n",
        "# Time calculation\n",
        "#start_time =0;\n",
        "#end_time=0;\n",
        "\n",
        "# Pattern class:\n",
        "class Pattern:\n",
        "\tdef __init__(self, item, tids):\n",
        "\t\t# list of item Id's in the pattern\n",
        "\t\tself.item_id = item;\n",
        "\t\t# tid of the pattern\n",
        "\t\tself.tid_list = tids;\n",
        "\n",
        "\t# union operation of item Id's for two patterns to get ID of candidate pattern\n",
        "\tdef \tunion_id(self,next_node):\n",
        "\t\tt = set(self.item_id);\n",
        "\t\ttt = set(next_node.item_id);\n",
        "\t\tnew = t | tt;\n",
        "\t\tnew_id = list(new);\n",
        "\t\tnew_id.sort();\n",
        "\t\treturn new_id;\n",
        "\n",
        "    # intersection of tid's of two patterns to find tid of candidate pattern\n",
        "\tdef \tintersec_tid_list(self,next_node):\n",
        "\t\tt = set(self.tid_list);\n",
        "\t\ttt = set(next_node.tid_list);\n",
        "\t\tnew = t & tt;\n",
        "\t\tnew_list = list(new);\n",
        "\t\tnew_list.sort();\n",
        "\t\treturn new_list;\n",
        "\t\n",
        "\t# returns support value for the pattern\n",
        "\tdef\tgetSup(self):\n",
        "\t\treturn len(self.tid_list);\n",
        "\t\n",
        "\t\n",
        "#\tdef\tcompare(self,n):\n",
        "#\t\tif self.item_id == n.item_id:\n",
        "#\t\t\treturn 1;\n",
        "#\t\treturn 0;\n",
        "\n",
        "\t#Candidate generation & check for support\t\n",
        "\tdef\tgenerate_check(self, n , minsup):\n",
        "\t\t\n",
        "\t\t# generating tid_list first\n",
        "\t\ttemp_tid_list = self.intersec_tid_list(n);\n",
        "\t\t\n",
        "\t\t# if support for new candidate is >= minsup then only generate ID for that candidate\t\t\n",
        "\t\tif len(temp_tid_list) >= minsup:\n",
        "\t\t\ttemp_id = self.union_id(n);\n",
        "\t\t\treturn (temp_id,temp_tid_list);\n",
        "\t\telse:\n",
        "\t\t\treturn ([],[]);\n",
        "\tdef\tpattern_print(self):\n",
        "\t\tpattern_ID = str(\"\");\n",
        "\t\tfor i in self.item_id:\n",
        "\t\t\tpattern_ID = pattern_ID + str(i) + ' ';\n",
        "\t\tprint(pattern_ID + '\\t\\t : ' + str(self.tid_list)); \n",
        "\t\t\t\n",
        "#End of Pattern class"
      ],
      "metadata": {
        "id": "9PFg7447B3Yd"
      },
      "execution_count": null,
      "outputs": []
    },
    {
      "cell_type": "code",
      "source": [
        "# Pattern Store class:\n",
        "class PatternStore:\n",
        "\tdef \t__init__(self):\n",
        "\t\tself.Pattern_list = [];\n",
        "\t\n",
        "\t# Add a whole group of pattern to the list\n",
        "\tdef\taddGroup(self,list_nodes):\n",
        "\t\tfor n in list_nodes:\n",
        "\t\t\tself.Pattern_list.append(n);\n",
        "\n",
        "\t# Retursn i_th pattern from the list if available\n",
        "\tdef\tgetNode(self,index):\n",
        "\t\tif index < len(self.Pattern_list):\n",
        "\t\t\treturn self.Pattern_list[index];\n",
        "\t\telse:\n",
        "\t\t\treturn [];\n",
        "\t\n",
        "\t# To Fallow DFS method: Recursive function is used - to calculate all frequent patterns from the 1st level frequent list\n",
        "\tdef \tEclat(self,minsup):\n",
        "\t\tfor node in self.Pattern_list:\n",
        "\t\t\tF.append(node);\n",
        "\t\t\tnew_P = PatternStore();\n",
        "\t\t\t# As all patterns are sorted initially get only next pattern from the current\n",
        "\t\t\tindex = self.Pattern_list.index(node);\n",
        "\t\t\ti = index +1;\n",
        "\t\t\tn = self.getNode(i);\n",
        "\t\t\t\n",
        "\t\t\twhile n:\n",
        "\t\t\t\t# Here I am doing 2 steps togather: 1- candidate generation & 2- checking for minsup\n",
        "\t\t\t\t(temp_id,temp_tid_list) = node.generate_check(n,minsup);\n",
        "\t\t\t\t# if temp_id is not empty\t\t\t\t\n",
        "\t\t\t\tif temp_id:\t\t\t\t\n",
        "\t\t\t\t\tnew_P.Pattern_list.append(Pattern(temp_id,temp_tid_list));\n",
        "\t\t\t\ti = i +1;\n",
        "\t\t\t\t# get next node from the list\n",
        "\t\t\t\tn = self.getNode(i);\n",
        "\t\t\t# if any possible pattern child go to child first, DFS\n",
        "\t\t\tif new_P.Pattern_list:\n",
        "\t\t\t\tnew_P.Eclat(minsup);\n",
        "\n",
        "#End of PatternStore class"
      ],
      "metadata": {
        "id": "fffuVOkHB8b6"
      },
      "execution_count": null,
      "outputs": []
    },
    {
      "cell_type": "code",
      "source": [
        "class DBReader:\n",
        "\n",
        "\tdef\t__init__(self,filetoread):\n",
        "\t\tself.file_id = filetoread;\n",
        "\tdef\treadFile(self):\n",
        "\t\t# stores each transaction\n",
        "\t\tself.trans=[];\n",
        "\t\t# stores no of items in each tansaction\n",
        "\t\tself.no_items = [];\n",
        "\t\tfor\tline\tin\tself.file_id:\n",
        "\t\t\ttuplex=line.split(\" \");\n",
        "\t\t\tmylist=[];\n",
        "\t\t\tself.no_items.append(tuplex[0]);\n",
        "\t\t\tfor\tposition\tin\trange(1,len(tuplex)):\n",
        "\t\t\t\tmylist.append(tuplex[position]);\t\n",
        "\t\n",
        "\t\t\tself.trans.append(mylist);\n",
        "\n",
        "\t# From transactions: generate patterns and prepare a list\n",
        "\tdef\tgenPatternList(self):\n",
        "\t\t#all items\n",
        "\t\ttemp = [item for sublist in self.trans for item in sublist];\n",
        "\n",
        "\t\t#removing duplicates\n",
        "\t\tmy_set = set(temp)\n",
        "\t\tself.items = list(my_set)\n",
        "\n",
        "\t\t#put in sorted oirder\n",
        "\t\tself.items.sort();\n",
        "\t\t\n",
        "\t\t# generate level_1 pattern list\n",
        "\t\tself.level_1 = [];\n",
        "\n",
        "\t\t# Start the timmer as candidate generation for level 1 is a part of Eclat algorithm.\n",
        "\t\tstart_time = dt.datetime.now();\t\t\n",
        "\t\t\n",
        "\t\t#generate all candidates for level 1\n",
        "\t\tfor it in self.items:\n",
        "\t\t\titem = [];\n",
        "\t\t\titem.append(it)\n",
        "\t\t\tself.level_1.append(Pattern(item,[]));\t\n",
        "\t\t\n",
        "\t\t# generate tid_list for every items in level 1 \n",
        "\t\ti=0;\n",
        "\t\tfor t in self.trans:\n",
        "\t\t\ti = i + 1;\n",
        "\t\t\tt.sort();\n",
        "\t\t\tfor it_id in t:\n",
        "\t\t\t\tindex = self.items.index(it_id);\n",
        "\t\t\t\tself.level_1[index].tid_list.append(i);\n",
        "\t\n",
        "\t\treturn start_time;\n",
        "\n",
        "\t# returns frequent patterns\n",
        "\tdef\tgetFrequent(self,minsup):\n",
        "\t\tself.P = [];\n",
        "\t\tfor n in self.level_1:\n",
        "\t\t\tc = int(n.getSup());\n",
        "\t\t\tif  c >= minsup:\n",
        "\t\t\t\t#print c;\n",
        "\t\t\t\tself.P.append(n);\n",
        "\t\treturn self.P;\n",
        "\n",
        "#End of DBReader class"
      ],
      "metadata": {
        "id": "c_a6M-9MCXOU"
      },
      "execution_count": null,
      "outputs": []
    },
    {
      "cell_type": "code",
      "source": [
        "def main(file, support):\n",
        "\t#printing flag\n",
        "\tp_flag = 1;\n",
        "\n",
        "\t#parser = optparse.OptionParser(\"usage: %prog [options] arg1 arg2\")\n",
        "\t#parser.add_option(\"-f\",  dest=\"filename\", default=\"data.txt\", type=\"string\", help=\"specify filename to run on\");\n",
        "\t#parser.add_option(\"-s\",  dest=\"supnum\", default=0, type=\"int\", help=\"give minimun support to run on\");\n",
        "\t#parser.add_option(\"-p\",  dest=\"p\", default=1, type=\"int\");\n",
        "\t#(options, args) = parser.parse_args();\n",
        "\n",
        "\tparser = argparse.ArgumentParser();\n",
        "\tparser.add_argument(\"-f\",\"--filename\");\n",
        "\tparser.add_argument(\"-s\",\"--supnum\", type=int);\n",
        "\tparser.add_argument(\"-p\", \"--print_flag\", action=\"store_true\");\n",
        "\targs = parser.parse_args();\n",
        "\t\n",
        " \n",
        "\t#if\tlen(sys.argv) < 3:\n",
        "\t#\tprint('Please give me the filename &  minimum support value'+os.linesep);\n",
        "\t#\tsys.exit(1);\n",
        "\ttry:\t\n",
        "\t\t#file name\n",
        "\t\tf_name = file;\n",
        "\t\tfileToRead=open(f_name);\n",
        "\t\t#fileToRead = open(\"data.txt\");\n",
        "\t\t#Minimum Spport vlaue\t\n",
        "\t\tminsup = support;\n",
        "\t\t# printing flag \n",
        "\t\tif args.print_flag:\n",
        "\t\t\tp_flag = 1;\t\n",
        "\texcept(IOError,IndexError):\n",
        "\t\tprint('Bad file name'+os.linesep);\n",
        "\t\tsys.exit(1);\n",
        "\n",
        "\t\n",
        "\tprint('minsup = '+str(minsup));\n",
        "\n",
        "\t#minsup = 2;\n",
        "\n",
        "\t# DBReader object\n",
        "\treader = DBReader(fileToRead);\n",
        "\t#reading the file\n",
        "\treader.readFile();\n",
        "\t# Pattern generation for level 1 - It will return the starting time from when candidate generation is started.\t\n",
        "\tstart_time = reader.genPatternList();\n",
        "\t#print\n",
        "\t\n",
        "\t# Get frequent patterns from all candidates of level 1:\n",
        "\tlevel1_P = reader.getFrequent(minsup)\n",
        "\n",
        "\t#for n in level1_P:\n",
        "\t#\tprint n.item_id;\n",
        "\t#\tprint n.tid_list;\n",
        "\n",
        "\t#correct\n",
        "\n",
        "\t# Create Pattern Store object\n",
        "\tPttStr = PatternStore();\n",
        "\t\n",
        "\t# Add frequent patterns from level 1\n",
        "\tPttStr.addGroup(level1_P);\n",
        "\n",
        "\t# Eclat Algorithm\n",
        "\tPttStr.Eclat(minsup);\n",
        "\t\n",
        "\tend_time = dt.datetime.now();\n",
        "\t\n",
        "\t#print start_time;\n",
        "\t#print end_time;\n",
        "\t\t\n",
        "\ttime = end_time - start_time;\n",
        "\t\n",
        "\tprint('Computation time = '+ str(time.total_seconds()) + ' Seconds');\n",
        "\t\n",
        "\tif p_flag == 1:\n",
        "\t\tprint('Pattern\\t\\t : Tid_List');\t\n",
        "\t\tfor n in F:\n",
        "\t\t\tn.pattern_print();\n",
        "\n",
        "#End of main function"
      ],
      "metadata": {
        "id": "SB1zbi4wCZN8"
      },
      "execution_count": null,
      "outputs": []
    },
    {
      "cell_type": "code",
      "source": [
        "# Geração dos itens frequentes, APRESENTANDO ERRO\n",
        "#if\t__name__== \"__main__\":\n",
        "\t#main('transacoes2.txt', 3);"
      ],
      "metadata": {
        "id": "8qFndFyeCgeq"
      },
      "execution_count": null,
      "outputs": []
    },
    {
      "cell_type": "code",
      "source": [
        "#13/01 deep learning"
      ],
      "metadata": {
        "id": "mofc2wdcxws3"
      },
      "execution_count": null,
      "outputs": []
    },
    {
      "cell_type": "code",
      "source": [
        "from sklearn import datasets \n",
        "from sklearn.model_selection import train_test_split\n",
        "from sklearn.metrics import confusion_matrix \n",
        "from keras.models import Sequential\n",
        "from keras.layers import Dense\n",
        "from keras.utils import np_utils\n",
        "import numpy as np\n",
        "#keras faz absorcaco de frameworks de deep learning"
      ],
      "metadata": {
        "id": "9EOXTFVYx0qM"
      },
      "execution_count": null,
      "outputs": []
    },
    {
      "cell_type": "code",
      "source": [
        "base=datasets.load_iris() #carregando dados\n",
        "previsoresrn=base.data\n",
        "classern=base.target #separando especies ==3, das caracteristicas(previsores)\n",
        "classern"
      ],
      "metadata": {
        "colab": {
          "base_uri": "https://localhost:8080/"
        },
        "id": "_P8G1W2Q0EwO",
        "outputId": "d210ccc1-6aff-459e-d39c-857beeda9640"
      },
      "execution_count": null,
      "outputs": [
        {
          "output_type": "execute_result",
          "data": {
            "text/plain": [
              "array([0, 0, 0, 0, 0, 0, 0, 0, 0, 0, 0, 0, 0, 0, 0, 0, 0, 0, 0, 0, 0, 0,\n",
              "       0, 0, 0, 0, 0, 0, 0, 0, 0, 0, 0, 0, 0, 0, 0, 0, 0, 0, 0, 0, 0, 0,\n",
              "       0, 0, 0, 0, 0, 0, 1, 1, 1, 1, 1, 1, 1, 1, 1, 1, 1, 1, 1, 1, 1, 1,\n",
              "       1, 1, 1, 1, 1, 1, 1, 1, 1, 1, 1, 1, 1, 1, 1, 1, 1, 1, 1, 1, 1, 1,\n",
              "       1, 1, 1, 1, 1, 1, 1, 1, 1, 1, 1, 1, 2, 2, 2, 2, 2, 2, 2, 2, 2, 2,\n",
              "       2, 2, 2, 2, 2, 2, 2, 2, 2, 2, 2, 2, 2, 2, 2, 2, 2, 2, 2, 2, 2, 2,\n",
              "       2, 2, 2, 2, 2, 2, 2, 2, 2, 2, 2, 2, 2, 2, 2, 2, 2, 2])"
            ]
          },
          "metadata": {},
          "execution_count": 10
        }
      ]
    },
    {
      "cell_type": "code",
      "source": [
        "classe_dummy= np_utils.to_categorical(classern) #valores se tornam colunas, devido estrutura cada rn tera 3 neuronios na classe de saida\n",
        "classe_dummy"
      ],
      "metadata": {
        "colab": {
          "base_uri": "https://localhost:8080/"
        },
        "id": "AQz4WmEJ0aJT",
        "outputId": "0fdbb83e-148c-4699-e3af-83407a9dc25d"
      },
      "execution_count": null,
      "outputs": [
        {
          "output_type": "execute_result",
          "data": {
            "text/plain": [
              "array([[1., 0., 0.],\n",
              "       [1., 0., 0.],\n",
              "       [1., 0., 0.],\n",
              "       [1., 0., 0.],\n",
              "       [1., 0., 0.],\n",
              "       [1., 0., 0.],\n",
              "       [1., 0., 0.],\n",
              "       [1., 0., 0.],\n",
              "       [1., 0., 0.],\n",
              "       [1., 0., 0.],\n",
              "       [1., 0., 0.],\n",
              "       [1., 0., 0.],\n",
              "       [1., 0., 0.],\n",
              "       [1., 0., 0.],\n",
              "       [1., 0., 0.],\n",
              "       [1., 0., 0.],\n",
              "       [1., 0., 0.],\n",
              "       [1., 0., 0.],\n",
              "       [1., 0., 0.],\n",
              "       [1., 0., 0.],\n",
              "       [1., 0., 0.],\n",
              "       [1., 0., 0.],\n",
              "       [1., 0., 0.],\n",
              "       [1., 0., 0.],\n",
              "       [1., 0., 0.],\n",
              "       [1., 0., 0.],\n",
              "       [1., 0., 0.],\n",
              "       [1., 0., 0.],\n",
              "       [1., 0., 0.],\n",
              "       [1., 0., 0.],\n",
              "       [1., 0., 0.],\n",
              "       [1., 0., 0.],\n",
              "       [1., 0., 0.],\n",
              "       [1., 0., 0.],\n",
              "       [1., 0., 0.],\n",
              "       [1., 0., 0.],\n",
              "       [1., 0., 0.],\n",
              "       [1., 0., 0.],\n",
              "       [1., 0., 0.],\n",
              "       [1., 0., 0.],\n",
              "       [1., 0., 0.],\n",
              "       [1., 0., 0.],\n",
              "       [1., 0., 0.],\n",
              "       [1., 0., 0.],\n",
              "       [1., 0., 0.],\n",
              "       [1., 0., 0.],\n",
              "       [1., 0., 0.],\n",
              "       [1., 0., 0.],\n",
              "       [1., 0., 0.],\n",
              "       [1., 0., 0.],\n",
              "       [0., 1., 0.],\n",
              "       [0., 1., 0.],\n",
              "       [0., 1., 0.],\n",
              "       [0., 1., 0.],\n",
              "       [0., 1., 0.],\n",
              "       [0., 1., 0.],\n",
              "       [0., 1., 0.],\n",
              "       [0., 1., 0.],\n",
              "       [0., 1., 0.],\n",
              "       [0., 1., 0.],\n",
              "       [0., 1., 0.],\n",
              "       [0., 1., 0.],\n",
              "       [0., 1., 0.],\n",
              "       [0., 1., 0.],\n",
              "       [0., 1., 0.],\n",
              "       [0., 1., 0.],\n",
              "       [0., 1., 0.],\n",
              "       [0., 1., 0.],\n",
              "       [0., 1., 0.],\n",
              "       [0., 1., 0.],\n",
              "       [0., 1., 0.],\n",
              "       [0., 1., 0.],\n",
              "       [0., 1., 0.],\n",
              "       [0., 1., 0.],\n",
              "       [0., 1., 0.],\n",
              "       [0., 1., 0.],\n",
              "       [0., 1., 0.],\n",
              "       [0., 1., 0.],\n",
              "       [0., 1., 0.],\n",
              "       [0., 1., 0.],\n",
              "       [0., 1., 0.],\n",
              "       [0., 1., 0.],\n",
              "       [0., 1., 0.],\n",
              "       [0., 1., 0.],\n",
              "       [0., 1., 0.],\n",
              "       [0., 1., 0.],\n",
              "       [0., 1., 0.],\n",
              "       [0., 1., 0.],\n",
              "       [0., 1., 0.],\n",
              "       [0., 1., 0.],\n",
              "       [0., 1., 0.],\n",
              "       [0., 1., 0.],\n",
              "       [0., 1., 0.],\n",
              "       [0., 1., 0.],\n",
              "       [0., 1., 0.],\n",
              "       [0., 1., 0.],\n",
              "       [0., 1., 0.],\n",
              "       [0., 1., 0.],\n",
              "       [0., 1., 0.],\n",
              "       [0., 1., 0.],\n",
              "       [0., 0., 1.],\n",
              "       [0., 0., 1.],\n",
              "       [0., 0., 1.],\n",
              "       [0., 0., 1.],\n",
              "       [0., 0., 1.],\n",
              "       [0., 0., 1.],\n",
              "       [0., 0., 1.],\n",
              "       [0., 0., 1.],\n",
              "       [0., 0., 1.],\n",
              "       [0., 0., 1.],\n",
              "       [0., 0., 1.],\n",
              "       [0., 0., 1.],\n",
              "       [0., 0., 1.],\n",
              "       [0., 0., 1.],\n",
              "       [0., 0., 1.],\n",
              "       [0., 0., 1.],\n",
              "       [0., 0., 1.],\n",
              "       [0., 0., 1.],\n",
              "       [0., 0., 1.],\n",
              "       [0., 0., 1.],\n",
              "       [0., 0., 1.],\n",
              "       [0., 0., 1.],\n",
              "       [0., 0., 1.],\n",
              "       [0., 0., 1.],\n",
              "       [0., 0., 1.],\n",
              "       [0., 0., 1.],\n",
              "       [0., 0., 1.],\n",
              "       [0., 0., 1.],\n",
              "       [0., 0., 1.],\n",
              "       [0., 0., 1.],\n",
              "       [0., 0., 1.],\n",
              "       [0., 0., 1.],\n",
              "       [0., 0., 1.],\n",
              "       [0., 0., 1.],\n",
              "       [0., 0., 1.],\n",
              "       [0., 0., 1.],\n",
              "       [0., 0., 1.],\n",
              "       [0., 0., 1.],\n",
              "       [0., 0., 1.],\n",
              "       [0., 0., 1.],\n",
              "       [0., 0., 1.],\n",
              "       [0., 0., 1.],\n",
              "       [0., 0., 1.],\n",
              "       [0., 0., 1.],\n",
              "       [0., 0., 1.],\n",
              "       [0., 0., 1.],\n",
              "       [0., 0., 1.],\n",
              "       [0., 0., 1.],\n",
              "       [0., 0., 1.],\n",
              "       [0., 0., 1.]], dtype=float32)"
            ]
          },
          "metadata": {},
          "execution_count": 12
        }
      ]
    },
    {
      "cell_type": "code",
      "source": [
        "# divisao entre treino e teste, tem q passar a classe dummy aq\n",
        "X_treinorn, X_testern, y_treinorn, y_testern = train_test_split(previsoresrn,\n",
        "                                                                  classe_dummy,\n",
        "                                                                  test_size = 0.3,\n",
        "                                                                  random_state = 0)"
      ],
      "metadata": {
        "id": "QjGtkyMc0tzk"
      },
      "execution_count": null,
      "outputs": []
    },
    {
      "cell_type": "code",
      "source": [
        "# Criação da estrutura da rede neural com a classe Sequential (sequência de camadas),camadas incluidas uma apos a outra\n",
        "modelo = Sequential()\n",
        "#primeira camada oculta, 5 neuronios, 4 neuronios de entrada, do tipo dense elas tem que ser conectadas uma as outras\n",
        "modelo.add(Dense(units = 5, input_dim = 4))#4 pois tinham 4 var's indep no conjunto iris, units pode alterar\n",
        "#segunda camada oculta\n",
        "modelo.add(Dense(units = 4)) #ñ usa input_im pq ñ é 1 camada\n",
        "# Função softmax porque temos um problema de classificação com mais de duas classes \n",
        "#(é gerada uma probabilidade em cada neurônio)\n",
        "modelo.add(Dense(units = 3, activation = 'softmax')) #softmax pra saida ser em prob"
      ],
      "metadata": {
        "id": "dNXqNJ8s1JAf"
      },
      "execution_count": null,
      "outputs": []
    },
    {
      "cell_type": "code",
      "source": [
        "# Visualização da estrutura da rede neural\n",
        "modelo.summary()"
      ],
      "metadata": {
        "colab": {
          "base_uri": "https://localhost:8080/"
        },
        "id": "q6dbrfYs3cbo",
        "outputId": "6146d264-11ec-4cf8-8aa0-2c32af5da84c"
      },
      "execution_count": null,
      "outputs": [
        {
          "output_type": "stream",
          "name": "stdout",
          "text": [
            "Model: \"sequential_1\"\n",
            "_________________________________________________________________\n",
            " Layer (type)                Output Shape              Param #   \n",
            "=================================================================\n",
            " dense_3 (Dense)             (None, 5)                 25        \n",
            "                                                                 \n",
            " dense_4 (Dense)             (None, 4)                 24        \n",
            "                                                                 \n",
            " dense_5 (Dense)             (None, 3)                 15        \n",
            "                                                                 \n",
            "=================================================================\n",
            "Total params: 64\n",
            "Trainable params: 64\n",
            "Non-trainable params: 0\n",
            "_________________________________________________________________\n"
          ]
        }
      ]
    },
    {
      "cell_type": "code",
      "source": [
        "# Configuração dos parâmetros da rede neural (adam = algoritmo para atualizar os pesos e loss = cálculo do erro)\n",
        "modelo.compile(optimizer = 'adam', loss = 'categorical_crossentropy',\n",
        "               metrics = ['accuracy']) #metrica mede erro \n",
        "# Treinamento, dividindo a base de treinamento em uma porção para validação (validation_data)\n",
        "modelo.fit(X_treinorn, y_treinorn, epochs = 1000,\n",
        "           validation_data = (X_testern, y_testern))#passa dados de treino e o teste na rn (treino 70% das vars indep)\n",
        "           #epoch mostra a validacao com o treino e com o test( 4 col esq pra dir)"
      ],
      "metadata": {
        "colab": {
          "base_uri": "https://localhost:8080/"
        },
        "id": "o2FK-MCI3gCD",
        "outputId": "5d1d20ee-58d8-4c75-e1e3-9c20cd4e93e1"
      },
      "execution_count": null,
      "outputs": [
        {
          "output_type": "stream",
          "name": "stdout",
          "text": [
            "Epoch 1/1000\n",
            "4/4 [==============================] - 1s 72ms/step - loss: 6.5753 - accuracy: 0.3714 - val_loss: 7.7966 - val_accuracy: 0.2444\n",
            "Epoch 2/1000\n",
            "4/4 [==============================] - 0s 10ms/step - loss: 6.2769 - accuracy: 0.3714 - val_loss: 7.4413 - val_accuracy: 0.2444\n",
            "Epoch 3/1000\n",
            "4/4 [==============================] - 0s 12ms/step - loss: 5.9920 - accuracy: 0.3714 - val_loss: 7.0878 - val_accuracy: 0.2444\n",
            "Epoch 4/1000\n",
            "4/4 [==============================] - 0s 10ms/step - loss: 5.6985 - accuracy: 0.3714 - val_loss: 6.7429 - val_accuracy: 0.2444\n",
            "Epoch 5/1000\n",
            "4/4 [==============================] - 0s 9ms/step - loss: 5.4293 - accuracy: 0.3714 - val_loss: 6.3999 - val_accuracy: 0.2444\n",
            "Epoch 6/1000\n",
            "4/4 [==============================] - 0s 10ms/step - loss: 5.1472 - accuracy: 0.3714 - val_loss: 6.0684 - val_accuracy: 0.2444\n",
            "Epoch 7/1000\n",
            "4/4 [==============================] - 0s 10ms/step - loss: 4.8820 - accuracy: 0.3714 - val_loss: 5.7382 - val_accuracy: 0.2444\n",
            "Epoch 8/1000\n",
            "4/4 [==============================] - 0s 9ms/step - loss: 4.6186 - accuracy: 0.3714 - val_loss: 5.4128 - val_accuracy: 0.2444\n",
            "Epoch 9/1000\n",
            "4/4 [==============================] - 0s 9ms/step - loss: 4.3508 - accuracy: 0.3714 - val_loss: 5.0932 - val_accuracy: 0.2444\n",
            "Epoch 10/1000\n",
            "4/4 [==============================] - 0s 13ms/step - loss: 4.0935 - accuracy: 0.3714 - val_loss: 4.7797 - val_accuracy: 0.2444\n",
            "Epoch 11/1000\n",
            "4/4 [==============================] - 0s 10ms/step - loss: 3.8406 - accuracy: 0.3714 - val_loss: 4.4759 - val_accuracy: 0.2444\n",
            "Epoch 12/1000\n",
            "4/4 [==============================] - 0s 10ms/step - loss: 3.5892 - accuracy: 0.3714 - val_loss: 4.1797 - val_accuracy: 0.2444\n",
            "Epoch 13/1000\n",
            "4/4 [==============================] - 0s 10ms/step - loss: 3.3556 - accuracy: 0.3714 - val_loss: 3.8819 - val_accuracy: 0.2444\n",
            "Epoch 14/1000\n",
            "4/4 [==============================] - 0s 9ms/step - loss: 3.1118 - accuracy: 0.3714 - val_loss: 3.5970 - val_accuracy: 0.2444\n",
            "Epoch 15/1000\n",
            "4/4 [==============================] - 0s 17ms/step - loss: 2.8842 - accuracy: 0.3714 - val_loss: 3.3280 - val_accuracy: 0.2444\n",
            "Epoch 16/1000\n",
            "4/4 [==============================] - 0s 11ms/step - loss: 2.6698 - accuracy: 0.3714 - val_loss: 3.0828 - val_accuracy: 0.2444\n",
            "Epoch 17/1000\n",
            "4/4 [==============================] - 0s 11ms/step - loss: 2.4876 - accuracy: 0.3714 - val_loss: 2.8693 - val_accuracy: 0.2444\n",
            "Epoch 18/1000\n",
            "4/4 [==============================] - 0s 11ms/step - loss: 2.3321 - accuracy: 0.3714 - val_loss: 2.6931 - val_accuracy: 0.2444\n",
            "Epoch 19/1000\n",
            "4/4 [==============================] - 0s 10ms/step - loss: 2.2099 - accuracy: 0.3714 - val_loss: 2.5527 - val_accuracy: 0.2222\n",
            "Epoch 20/1000\n",
            "4/4 [==============================] - 0s 10ms/step - loss: 2.1256 - accuracy: 0.3524 - val_loss: 2.4425 - val_accuracy: 0.1556\n",
            "Epoch 21/1000\n",
            "4/4 [==============================] - 0s 11ms/step - loss: 2.0552 - accuracy: 0.2476 - val_loss: 2.3501 - val_accuracy: 0.1111\n",
            "Epoch 22/1000\n",
            "4/4 [==============================] - 0s 16ms/step - loss: 1.9980 - accuracy: 0.2095 - val_loss: 2.2657 - val_accuracy: 0.1111\n",
            "Epoch 23/1000\n",
            "4/4 [==============================] - 0s 10ms/step - loss: 1.9393 - accuracy: 0.2000 - val_loss: 2.1861 - val_accuracy: 0.1111\n",
            "Epoch 24/1000\n",
            "4/4 [==============================] - 0s 12ms/step - loss: 1.8793 - accuracy: 0.2000 - val_loss: 2.1119 - val_accuracy: 0.1111\n",
            "Epoch 25/1000\n",
            "4/4 [==============================] - 0s 10ms/step - loss: 1.8220 - accuracy: 0.2190 - val_loss: 2.0431 - val_accuracy: 0.1111\n",
            "Epoch 26/1000\n",
            "4/4 [==============================] - 0s 11ms/step - loss: 1.7656 - accuracy: 0.2286 - val_loss: 1.9791 - val_accuracy: 0.1333\n",
            "Epoch 27/1000\n",
            "4/4 [==============================] - 0s 10ms/step - loss: 1.7152 - accuracy: 0.2762 - val_loss: 1.9180 - val_accuracy: 0.1556\n",
            "Epoch 28/1000\n",
            "4/4 [==============================] - 0s 10ms/step - loss: 1.6674 - accuracy: 0.2952 - val_loss: 1.8590 - val_accuracy: 0.1556\n",
            "Epoch 29/1000\n",
            "4/4 [==============================] - 0s 10ms/step - loss: 1.6251 - accuracy: 0.3048 - val_loss: 1.8006 - val_accuracy: 0.1556\n",
            "Epoch 30/1000\n",
            "4/4 [==============================] - 0s 11ms/step - loss: 1.5794 - accuracy: 0.3143 - val_loss: 1.7507 - val_accuracy: 0.2000\n",
            "Epoch 31/1000\n",
            "4/4 [==============================] - 0s 15ms/step - loss: 1.5421 - accuracy: 0.3429 - val_loss: 1.7053 - val_accuracy: 0.2000\n",
            "Epoch 32/1000\n",
            "4/4 [==============================] - 0s 13ms/step - loss: 1.5090 - accuracy: 0.3429 - val_loss: 1.6624 - val_accuracy: 0.2222\n",
            "Epoch 33/1000\n",
            "4/4 [==============================] - 0s 10ms/step - loss: 1.4760 - accuracy: 0.3429 - val_loss: 1.6260 - val_accuracy: 0.2222\n",
            "Epoch 34/1000\n",
            "4/4 [==============================] - 0s 11ms/step - loss: 1.4497 - accuracy: 0.3619 - val_loss: 1.5934 - val_accuracy: 0.2222\n",
            "Epoch 35/1000\n",
            "4/4 [==============================] - 0s 9ms/step - loss: 1.4257 - accuracy: 0.3619 - val_loss: 1.5623 - val_accuracy: 0.2222\n",
            "Epoch 36/1000\n",
            "4/4 [==============================] - 0s 10ms/step - loss: 1.4014 - accuracy: 0.3619 - val_loss: 1.5321 - val_accuracy: 0.2222\n",
            "Epoch 37/1000\n",
            "4/4 [==============================] - 0s 10ms/step - loss: 1.3815 - accuracy: 0.3619 - val_loss: 1.4990 - val_accuracy: 0.2222\n",
            "Epoch 38/1000\n",
            "4/4 [==============================] - 0s 14ms/step - loss: 1.3599 - accuracy: 0.3619 - val_loss: 1.4709 - val_accuracy: 0.2222\n",
            "Epoch 39/1000\n",
            "4/4 [==============================] - 0s 9ms/step - loss: 1.3428 - accuracy: 0.3619 - val_loss: 1.4429 - val_accuracy: 0.2222\n",
            "Epoch 40/1000\n",
            "4/4 [==============================] - 0s 11ms/step - loss: 1.3244 - accuracy: 0.3619 - val_loss: 1.4175 - val_accuracy: 0.2222\n",
            "Epoch 41/1000\n",
            "4/4 [==============================] - 0s 12ms/step - loss: 1.3095 - accuracy: 0.3619 - val_loss: 1.3923 - val_accuracy: 0.2222\n",
            "Epoch 42/1000\n",
            "4/4 [==============================] - 0s 10ms/step - loss: 1.2964 - accuracy: 0.3429 - val_loss: 1.3722 - val_accuracy: 0.2222\n",
            "Epoch 43/1000\n",
            "4/4 [==============================] - 0s 10ms/step - loss: 1.2834 - accuracy: 0.3429 - val_loss: 1.3568 - val_accuracy: 0.2222\n",
            "Epoch 44/1000\n",
            "4/4 [==============================] - 0s 10ms/step - loss: 1.2718 - accuracy: 0.3524 - val_loss: 1.3427 - val_accuracy: 0.2222\n",
            "Epoch 45/1000\n",
            "4/4 [==============================] - 0s 10ms/step - loss: 1.2612 - accuracy: 0.3619 - val_loss: 1.3281 - val_accuracy: 0.2222\n",
            "Epoch 46/1000\n",
            "4/4 [==============================] - 0s 10ms/step - loss: 1.2504 - accuracy: 0.3619 - val_loss: 1.3167 - val_accuracy: 0.2222\n",
            "Epoch 47/1000\n",
            "4/4 [==============================] - 0s 10ms/step - loss: 1.2400 - accuracy: 0.3619 - val_loss: 1.3062 - val_accuracy: 0.2222\n",
            "Epoch 48/1000\n",
            "4/4 [==============================] - 0s 10ms/step - loss: 1.2305 - accuracy: 0.3619 - val_loss: 1.2934 - val_accuracy: 0.2222\n",
            "Epoch 49/1000\n",
            "4/4 [==============================] - 0s 17ms/step - loss: 1.2200 - accuracy: 0.3619 - val_loss: 1.2828 - val_accuracy: 0.2222\n",
            "Epoch 50/1000\n",
            "4/4 [==============================] - 0s 10ms/step - loss: 1.2122 - accuracy: 0.3619 - val_loss: 1.2696 - val_accuracy: 0.2222\n",
            "Epoch 51/1000\n",
            "4/4 [==============================] - 0s 10ms/step - loss: 1.2012 - accuracy: 0.3619 - val_loss: 1.2596 - val_accuracy: 0.2222\n",
            "Epoch 52/1000\n",
            "4/4 [==============================] - 0s 10ms/step - loss: 1.1919 - accuracy: 0.3619 - val_loss: 1.2536 - val_accuracy: 0.2444\n",
            "Epoch 53/1000\n",
            "4/4 [==============================] - 0s 10ms/step - loss: 1.1825 - accuracy: 0.3619 - val_loss: 1.2472 - val_accuracy: 0.2444\n",
            "Epoch 54/1000\n",
            "4/4 [==============================] - 0s 10ms/step - loss: 1.1745 - accuracy: 0.3619 - val_loss: 1.2418 - val_accuracy: 0.2444\n",
            "Epoch 55/1000\n",
            "4/4 [==============================] - 0s 10ms/step - loss: 1.1664 - accuracy: 0.3619 - val_loss: 1.2348 - val_accuracy: 0.2444\n",
            "Epoch 56/1000\n",
            "4/4 [==============================] - 0s 11ms/step - loss: 1.1581 - accuracy: 0.3714 - val_loss: 1.2275 - val_accuracy: 0.2444\n",
            "Epoch 57/1000\n",
            "4/4 [==============================] - 0s 10ms/step - loss: 1.1499 - accuracy: 0.3714 - val_loss: 1.2175 - val_accuracy: 0.2444\n",
            "Epoch 58/1000\n",
            "4/4 [==============================] - 0s 11ms/step - loss: 1.1406 - accuracy: 0.3714 - val_loss: 1.2062 - val_accuracy: 0.2444\n",
            "Epoch 59/1000\n",
            "4/4 [==============================] - 0s 11ms/step - loss: 1.1314 - accuracy: 0.3714 - val_loss: 1.1940 - val_accuracy: 0.2444\n",
            "Epoch 60/1000\n",
            "4/4 [==============================] - 0s 10ms/step - loss: 1.1230 - accuracy: 0.3619 - val_loss: 1.1819 - val_accuracy: 0.2444\n",
            "Epoch 61/1000\n",
            "4/4 [==============================] - 0s 10ms/step - loss: 1.1142 - accuracy: 0.3619 - val_loss: 1.1703 - val_accuracy: 0.2444\n",
            "Epoch 62/1000\n",
            "4/4 [==============================] - 0s 13ms/step - loss: 1.1068 - accuracy: 0.3619 - val_loss: 1.1573 - val_accuracy: 0.2444\n",
            "Epoch 63/1000\n",
            "4/4 [==============================] - 0s 10ms/step - loss: 1.0994 - accuracy: 0.3619 - val_loss: 1.1465 - val_accuracy: 0.2444\n",
            "Epoch 64/1000\n",
            "4/4 [==============================] - 0s 10ms/step - loss: 1.0920 - accuracy: 0.3619 - val_loss: 1.1366 - val_accuracy: 0.2444\n",
            "Epoch 65/1000\n",
            "4/4 [==============================] - 0s 11ms/step - loss: 1.0845 - accuracy: 0.3619 - val_loss: 1.1299 - val_accuracy: 0.2444\n",
            "Epoch 66/1000\n",
            "4/4 [==============================] - 0s 10ms/step - loss: 1.0770 - accuracy: 0.3619 - val_loss: 1.1241 - val_accuracy: 0.2667\n",
            "Epoch 67/1000\n",
            "4/4 [==============================] - 0s 10ms/step - loss: 1.0687 - accuracy: 0.3619 - val_loss: 1.1163 - val_accuracy: 0.2444\n",
            "Epoch 68/1000\n",
            "4/4 [==============================] - 0s 11ms/step - loss: 1.0606 - accuracy: 0.3619 - val_loss: 1.1097 - val_accuracy: 0.2444\n",
            "Epoch 69/1000\n",
            "4/4 [==============================] - 0s 11ms/step - loss: 1.0533 - accuracy: 0.3619 - val_loss: 1.1052 - val_accuracy: 0.2444\n",
            "Epoch 70/1000\n",
            "4/4 [==============================] - 0s 10ms/step - loss: 1.0462 - accuracy: 0.3714 - val_loss: 1.1005 - val_accuracy: 0.2444\n",
            "Epoch 71/1000\n",
            "4/4 [==============================] - 0s 10ms/step - loss: 1.0383 - accuracy: 0.3714 - val_loss: 1.0923 - val_accuracy: 0.2444\n",
            "Epoch 72/1000\n",
            "4/4 [==============================] - 0s 11ms/step - loss: 1.0314 - accuracy: 0.3714 - val_loss: 1.0853 - val_accuracy: 0.2444\n",
            "Epoch 73/1000\n",
            "4/4 [==============================] - 0s 11ms/step - loss: 1.0248 - accuracy: 0.3714 - val_loss: 1.0778 - val_accuracy: 0.2444\n",
            "Epoch 74/1000\n",
            "4/4 [==============================] - 0s 11ms/step - loss: 1.0184 - accuracy: 0.3714 - val_loss: 1.0679 - val_accuracy: 0.2667\n",
            "Epoch 75/1000\n",
            "4/4 [==============================] - 0s 10ms/step - loss: 1.0125 - accuracy: 0.3714 - val_loss: 1.0590 - val_accuracy: 0.2667\n",
            "Epoch 76/1000\n",
            "4/4 [==============================] - 0s 13ms/step - loss: 1.0052 - accuracy: 0.3714 - val_loss: 1.0542 - val_accuracy: 0.2667\n",
            "Epoch 77/1000\n",
            "4/4 [==============================] - 0s 10ms/step - loss: 0.9987 - accuracy: 0.3714 - val_loss: 1.0513 - val_accuracy: 0.2444\n",
            "Epoch 78/1000\n",
            "4/4 [==============================] - 0s 12ms/step - loss: 0.9920 - accuracy: 0.3714 - val_loss: 1.0508 - val_accuracy: 0.2444\n",
            "Epoch 79/1000\n",
            "4/4 [==============================] - 0s 10ms/step - loss: 0.9861 - accuracy: 0.3714 - val_loss: 1.0478 - val_accuracy: 0.2444\n",
            "Epoch 80/1000\n",
            "4/4 [==============================] - 0s 11ms/step - loss: 0.9805 - accuracy: 0.3810 - val_loss: 1.0434 - val_accuracy: 0.2667\n",
            "Epoch 81/1000\n",
            "4/4 [==============================] - 0s 10ms/step - loss: 0.9732 - accuracy: 0.3905 - val_loss: 1.0345 - val_accuracy: 0.3111\n",
            "Epoch 82/1000\n",
            "4/4 [==============================] - 0s 10ms/step - loss: 0.9651 - accuracy: 0.4095 - val_loss: 1.0252 - val_accuracy: 0.3333\n",
            "Epoch 83/1000\n",
            "4/4 [==============================] - 0s 10ms/step - loss: 0.9592 - accuracy: 0.4571 - val_loss: 1.0155 - val_accuracy: 0.3778\n",
            "Epoch 84/1000\n",
            "4/4 [==============================] - 0s 13ms/step - loss: 0.9517 - accuracy: 0.4952 - val_loss: 1.0044 - val_accuracy: 0.4000\n",
            "Epoch 85/1000\n",
            "4/4 [==============================] - 0s 11ms/step - loss: 0.9463 - accuracy: 0.5143 - val_loss: 0.9942 - val_accuracy: 0.4222\n",
            "Epoch 86/1000\n",
            "4/4 [==============================] - 0s 11ms/step - loss: 0.9409 - accuracy: 0.5429 - val_loss: 0.9855 - val_accuracy: 0.4667\n",
            "Epoch 87/1000\n",
            "4/4 [==============================] - 0s 11ms/step - loss: 0.9351 - accuracy: 0.5524 - val_loss: 0.9782 - val_accuracy: 0.4889\n",
            "Epoch 88/1000\n",
            "4/4 [==============================] - 0s 10ms/step - loss: 0.9289 - accuracy: 0.5429 - val_loss: 0.9723 - val_accuracy: 0.4667\n",
            "Epoch 89/1000\n",
            "4/4 [==============================] - 0s 11ms/step - loss: 0.9228 - accuracy: 0.5429 - val_loss: 0.9657 - val_accuracy: 0.4444\n",
            "Epoch 90/1000\n",
            "4/4 [==============================] - 0s 10ms/step - loss: 0.9170 - accuracy: 0.5429 - val_loss: 0.9605 - val_accuracy: 0.4444\n",
            "Epoch 91/1000\n",
            "4/4 [==============================] - 0s 10ms/step - loss: 0.9108 - accuracy: 0.5429 - val_loss: 0.9582 - val_accuracy: 0.4667\n",
            "Epoch 92/1000\n",
            "4/4 [==============================] - 0s 10ms/step - loss: 0.9033 - accuracy: 0.5619 - val_loss: 0.9543 - val_accuracy: 0.5556\n",
            "Epoch 93/1000\n",
            "4/4 [==============================] - 0s 11ms/step - loss: 0.8968 - accuracy: 0.5905 - val_loss: 0.9512 - val_accuracy: 0.5556\n",
            "Epoch 94/1000\n",
            "4/4 [==============================] - 0s 14ms/step - loss: 0.8905 - accuracy: 0.6095 - val_loss: 0.9500 - val_accuracy: 0.5778\n",
            "Epoch 95/1000\n",
            "4/4 [==============================] - 0s 11ms/step - loss: 0.8857 - accuracy: 0.6095 - val_loss: 0.9497 - val_accuracy: 0.5778\n",
            "Epoch 96/1000\n",
            "4/4 [==============================] - 0s 10ms/step - loss: 0.8796 - accuracy: 0.6286 - val_loss: 0.9460 - val_accuracy: 0.6000\n",
            "Epoch 97/1000\n",
            "4/4 [==============================] - 0s 10ms/step - loss: 0.8739 - accuracy: 0.6667 - val_loss: 0.9403 - val_accuracy: 0.6000\n",
            "Epoch 98/1000\n",
            "4/4 [==============================] - 0s 10ms/step - loss: 0.8681 - accuracy: 0.6667 - val_loss: 0.9336 - val_accuracy: 0.6000\n",
            "Epoch 99/1000\n",
            "4/4 [==============================] - 0s 11ms/step - loss: 0.8624 - accuracy: 0.6762 - val_loss: 0.9264 - val_accuracy: 0.6000\n",
            "Epoch 100/1000\n",
            "4/4 [==============================] - 0s 10ms/step - loss: 0.8565 - accuracy: 0.6762 - val_loss: 0.9169 - val_accuracy: 0.6000\n",
            "Epoch 101/1000\n",
            "4/4 [==============================] - 0s 10ms/step - loss: 0.8501 - accuracy: 0.6857 - val_loss: 0.9075 - val_accuracy: 0.6000\n",
            "Epoch 102/1000\n",
            "4/4 [==============================] - 0s 10ms/step - loss: 0.8457 - accuracy: 0.6857 - val_loss: 0.8973 - val_accuracy: 0.6000\n",
            "Epoch 103/1000\n",
            "4/4 [==============================] - 0s 10ms/step - loss: 0.8401 - accuracy: 0.6857 - val_loss: 0.8905 - val_accuracy: 0.6000\n",
            "Epoch 104/1000\n",
            "4/4 [==============================] - 0s 11ms/step - loss: 0.8350 - accuracy: 0.6857 - val_loss: 0.8846 - val_accuracy: 0.6000\n",
            "Epoch 105/1000\n",
            "4/4 [==============================] - 0s 10ms/step - loss: 0.8294 - accuracy: 0.6857 - val_loss: 0.8817 - val_accuracy: 0.6000\n",
            "Epoch 106/1000\n",
            "4/4 [==============================] - 0s 11ms/step - loss: 0.8234 - accuracy: 0.6857 - val_loss: 0.8782 - val_accuracy: 0.6000\n",
            "Epoch 107/1000\n",
            "4/4 [==============================] - 0s 10ms/step - loss: 0.8176 - accuracy: 0.6857 - val_loss: 0.8741 - val_accuracy: 0.6000\n",
            "Epoch 108/1000\n",
            "4/4 [==============================] - 0s 13ms/step - loss: 0.8124 - accuracy: 0.6857 - val_loss: 0.8722 - val_accuracy: 0.6000\n",
            "Epoch 109/1000\n",
            "4/4 [==============================] - 0s 10ms/step - loss: 0.8070 - accuracy: 0.6857 - val_loss: 0.8697 - val_accuracy: 0.6000\n",
            "Epoch 110/1000\n",
            "4/4 [==============================] - 0s 11ms/step - loss: 0.8024 - accuracy: 0.6857 - val_loss: 0.8665 - val_accuracy: 0.6000\n",
            "Epoch 111/1000\n",
            "4/4 [==============================] - 0s 11ms/step - loss: 0.7978 - accuracy: 0.6857 - val_loss: 0.8639 - val_accuracy: 0.6000\n",
            "Epoch 112/1000\n",
            "4/4 [==============================] - 0s 10ms/step - loss: 0.7927 - accuracy: 0.6857 - val_loss: 0.8600 - val_accuracy: 0.6000\n",
            "Epoch 113/1000\n",
            "4/4 [==============================] - 0s 10ms/step - loss: 0.7880 - accuracy: 0.6857 - val_loss: 0.8551 - val_accuracy: 0.6000\n",
            "Epoch 114/1000\n",
            "4/4 [==============================] - 0s 10ms/step - loss: 0.7829 - accuracy: 0.6952 - val_loss: 0.8492 - val_accuracy: 0.6000\n",
            "Epoch 115/1000\n",
            "4/4 [==============================] - 0s 12ms/step - loss: 0.7769 - accuracy: 0.6952 - val_loss: 0.8403 - val_accuracy: 0.6000\n",
            "Epoch 116/1000\n",
            "4/4 [==============================] - 0s 11ms/step - loss: 0.7714 - accuracy: 0.6952 - val_loss: 0.8326 - val_accuracy: 0.6000\n",
            "Epoch 117/1000\n",
            "4/4 [==============================] - 0s 12ms/step - loss: 0.7663 - accuracy: 0.6952 - val_loss: 0.8242 - val_accuracy: 0.6000\n",
            "Epoch 118/1000\n",
            "4/4 [==============================] - 0s 10ms/step - loss: 0.7620 - accuracy: 0.6952 - val_loss: 0.8150 - val_accuracy: 0.6000\n",
            "Epoch 119/1000\n",
            "4/4 [==============================] - 0s 10ms/step - loss: 0.7567 - accuracy: 0.6952 - val_loss: 0.8080 - val_accuracy: 0.6000\n",
            "Epoch 120/1000\n",
            "4/4 [==============================] - 0s 11ms/step - loss: 0.7521 - accuracy: 0.6952 - val_loss: 0.8016 - val_accuracy: 0.6000\n",
            "Epoch 121/1000\n",
            "4/4 [==============================] - 0s 10ms/step - loss: 0.7475 - accuracy: 0.6952 - val_loss: 0.7957 - val_accuracy: 0.6000\n",
            "Epoch 122/1000\n",
            "4/4 [==============================] - 0s 10ms/step - loss: 0.7430 - accuracy: 0.6952 - val_loss: 0.7915 - val_accuracy: 0.6000\n",
            "Epoch 123/1000\n",
            "4/4 [==============================] - 0s 10ms/step - loss: 0.7369 - accuracy: 0.6952 - val_loss: 0.7899 - val_accuracy: 0.6000\n",
            "Epoch 124/1000\n",
            "4/4 [==============================] - 0s 15ms/step - loss: 0.7326 - accuracy: 0.6952 - val_loss: 0.7903 - val_accuracy: 0.6000\n",
            "Epoch 125/1000\n",
            "4/4 [==============================] - 0s 11ms/step - loss: 0.7281 - accuracy: 0.6952 - val_loss: 0.7899 - val_accuracy: 0.6000\n",
            "Epoch 126/1000\n",
            "4/4 [==============================] - 0s 11ms/step - loss: 0.7230 - accuracy: 0.6952 - val_loss: 0.7860 - val_accuracy: 0.6000\n",
            "Epoch 127/1000\n",
            "4/4 [==============================] - 0s 10ms/step - loss: 0.7188 - accuracy: 0.6952 - val_loss: 0.7821 - val_accuracy: 0.6000\n",
            "Epoch 128/1000\n",
            "4/4 [==============================] - 0s 10ms/step - loss: 0.7147 - accuracy: 0.6952 - val_loss: 0.7741 - val_accuracy: 0.6000\n",
            "Epoch 129/1000\n",
            "4/4 [==============================] - 0s 11ms/step - loss: 0.7094 - accuracy: 0.6952 - val_loss: 0.7681 - val_accuracy: 0.6000\n",
            "Epoch 130/1000\n",
            "4/4 [==============================] - 0s 11ms/step - loss: 0.7046 - accuracy: 0.6952 - val_loss: 0.7642 - val_accuracy: 0.6000\n",
            "Epoch 131/1000\n",
            "4/4 [==============================] - 0s 12ms/step - loss: 0.7004 - accuracy: 0.6952 - val_loss: 0.7584 - val_accuracy: 0.6000\n",
            "Epoch 132/1000\n",
            "4/4 [==============================] - 0s 11ms/step - loss: 0.6958 - accuracy: 0.6952 - val_loss: 0.7554 - val_accuracy: 0.6000\n",
            "Epoch 133/1000\n",
            "4/4 [==============================] - 0s 10ms/step - loss: 0.6912 - accuracy: 0.6952 - val_loss: 0.7507 - val_accuracy: 0.6000\n",
            "Epoch 134/1000\n",
            "4/4 [==============================] - 0s 10ms/step - loss: 0.6872 - accuracy: 0.6952 - val_loss: 0.7473 - val_accuracy: 0.6000\n",
            "Epoch 135/1000\n",
            "4/4 [==============================] - 0s 10ms/step - loss: 0.6829 - accuracy: 0.6952 - val_loss: 0.7424 - val_accuracy: 0.6000\n",
            "Epoch 136/1000\n",
            "4/4 [==============================] - 0s 10ms/step - loss: 0.6785 - accuracy: 0.6952 - val_loss: 0.7380 - val_accuracy: 0.6000\n",
            "Epoch 137/1000\n",
            "4/4 [==============================] - 0s 10ms/step - loss: 0.6741 - accuracy: 0.6952 - val_loss: 0.7335 - val_accuracy: 0.6000\n",
            "Epoch 138/1000\n",
            "4/4 [==============================] - 0s 10ms/step - loss: 0.6698 - accuracy: 0.6952 - val_loss: 0.7285 - val_accuracy: 0.6000\n",
            "Epoch 139/1000\n",
            "4/4 [==============================] - 0s 10ms/step - loss: 0.6656 - accuracy: 0.6952 - val_loss: 0.7218 - val_accuracy: 0.6000\n",
            "Epoch 140/1000\n",
            "4/4 [==============================] - 0s 11ms/step - loss: 0.6617 - accuracy: 0.6952 - val_loss: 0.7147 - val_accuracy: 0.6000\n",
            "Epoch 141/1000\n",
            "4/4 [==============================] - 0s 10ms/step - loss: 0.6574 - accuracy: 0.7048 - val_loss: 0.7067 - val_accuracy: 0.6000\n",
            "Epoch 142/1000\n",
            "4/4 [==============================] - 0s 10ms/step - loss: 0.6536 - accuracy: 0.7143 - val_loss: 0.6994 - val_accuracy: 0.6000\n",
            "Epoch 143/1000\n",
            "4/4 [==============================] - 0s 12ms/step - loss: 0.6492 - accuracy: 0.7238 - val_loss: 0.6943 - val_accuracy: 0.6000\n",
            "Epoch 144/1000\n",
            "4/4 [==============================] - 0s 10ms/step - loss: 0.6453 - accuracy: 0.7238 - val_loss: 0.6890 - val_accuracy: 0.6222\n",
            "Epoch 145/1000\n",
            "4/4 [==============================] - 0s 10ms/step - loss: 0.6411 - accuracy: 0.7238 - val_loss: 0.6852 - val_accuracy: 0.6000\n",
            "Epoch 146/1000\n",
            "4/4 [==============================] - 0s 10ms/step - loss: 0.6369 - accuracy: 0.7238 - val_loss: 0.6820 - val_accuracy: 0.6000\n",
            "Epoch 147/1000\n",
            "4/4 [==============================] - 0s 10ms/step - loss: 0.6330 - accuracy: 0.7238 - val_loss: 0.6794 - val_accuracy: 0.6000\n",
            "Epoch 148/1000\n",
            "4/4 [==============================] - 0s 10ms/step - loss: 0.6291 - accuracy: 0.7238 - val_loss: 0.6774 - val_accuracy: 0.6000\n",
            "Epoch 149/1000\n",
            "4/4 [==============================] - 0s 11ms/step - loss: 0.6255 - accuracy: 0.7143 - val_loss: 0.6755 - val_accuracy: 0.6000\n",
            "Epoch 150/1000\n",
            "4/4 [==============================] - 0s 10ms/step - loss: 0.6219 - accuracy: 0.7143 - val_loss: 0.6736 - val_accuracy: 0.6000\n",
            "Epoch 151/1000\n",
            "4/4 [==============================] - 0s 10ms/step - loss: 0.6187 - accuracy: 0.7048 - val_loss: 0.6708 - val_accuracy: 0.6000\n",
            "Epoch 152/1000\n",
            "4/4 [==============================] - 0s 9ms/step - loss: 0.6146 - accuracy: 0.7048 - val_loss: 0.6653 - val_accuracy: 0.6000\n",
            "Epoch 153/1000\n",
            "4/4 [==============================] - 0s 12ms/step - loss: 0.6108 - accuracy: 0.7143 - val_loss: 0.6616 - val_accuracy: 0.6000\n",
            "Epoch 154/1000\n",
            "4/4 [==============================] - 0s 11ms/step - loss: 0.6073 - accuracy: 0.7143 - val_loss: 0.6577 - val_accuracy: 0.6000\n",
            "Epoch 155/1000\n",
            "4/4 [==============================] - 0s 13ms/step - loss: 0.6034 - accuracy: 0.7143 - val_loss: 0.6520 - val_accuracy: 0.6000\n",
            "Epoch 156/1000\n",
            "4/4 [==============================] - 0s 10ms/step - loss: 0.5997 - accuracy: 0.7238 - val_loss: 0.6458 - val_accuracy: 0.6222\n",
            "Epoch 157/1000\n",
            "4/4 [==============================] - 0s 11ms/step - loss: 0.5970 - accuracy: 0.7333 - val_loss: 0.6408 - val_accuracy: 0.6222\n",
            "Epoch 158/1000\n",
            "4/4 [==============================] - 0s 10ms/step - loss: 0.5932 - accuracy: 0.7429 - val_loss: 0.6368 - val_accuracy: 0.6222\n",
            "Epoch 159/1000\n",
            "4/4 [==============================] - 0s 10ms/step - loss: 0.5897 - accuracy: 0.7429 - val_loss: 0.6320 - val_accuracy: 0.6444\n",
            "Epoch 160/1000\n",
            "4/4 [==============================] - 0s 11ms/step - loss: 0.5865 - accuracy: 0.7524 - val_loss: 0.6261 - val_accuracy: 0.6444\n",
            "Epoch 161/1000\n",
            "4/4 [==============================] - 0s 10ms/step - loss: 0.5832 - accuracy: 0.7810 - val_loss: 0.6214 - val_accuracy: 0.6444\n",
            "Epoch 162/1000\n",
            "4/4 [==============================] - 0s 13ms/step - loss: 0.5801 - accuracy: 0.7810 - val_loss: 0.6177 - val_accuracy: 0.6444\n",
            "Epoch 163/1000\n",
            "4/4 [==============================] - 0s 11ms/step - loss: 0.5769 - accuracy: 0.7810 - val_loss: 0.6173 - val_accuracy: 0.6444\n",
            "Epoch 164/1000\n",
            "4/4 [==============================] - 0s 11ms/step - loss: 0.5736 - accuracy: 0.7619 - val_loss: 0.6158 - val_accuracy: 0.6444\n",
            "Epoch 165/1000\n",
            "4/4 [==============================] - 0s 10ms/step - loss: 0.5703 - accuracy: 0.7429 - val_loss: 0.6141 - val_accuracy: 0.6222\n",
            "Epoch 166/1000\n",
            "4/4 [==============================] - 0s 10ms/step - loss: 0.5673 - accuracy: 0.7429 - val_loss: 0.6119 - val_accuracy: 0.6222\n",
            "Epoch 167/1000\n",
            "4/4 [==============================] - 0s 10ms/step - loss: 0.5640 - accuracy: 0.7429 - val_loss: 0.6091 - val_accuracy: 0.6222\n",
            "Epoch 168/1000\n",
            "4/4 [==============================] - 0s 11ms/step - loss: 0.5610 - accuracy: 0.7524 - val_loss: 0.6033 - val_accuracy: 0.6444\n",
            "Epoch 169/1000\n",
            "4/4 [==============================] - 0s 11ms/step - loss: 0.5576 - accuracy: 0.7619 - val_loss: 0.6002 - val_accuracy: 0.6444\n",
            "Epoch 170/1000\n",
            "4/4 [==============================] - 0s 11ms/step - loss: 0.5549 - accuracy: 0.7619 - val_loss: 0.5984 - val_accuracy: 0.6222\n",
            "Epoch 171/1000\n",
            "4/4 [==============================] - 0s 13ms/step - loss: 0.5520 - accuracy: 0.7619 - val_loss: 0.5943 - val_accuracy: 0.6444\n",
            "Epoch 172/1000\n",
            "4/4 [==============================] - 0s 11ms/step - loss: 0.5485 - accuracy: 0.7619 - val_loss: 0.5926 - val_accuracy: 0.6222\n",
            "Epoch 173/1000\n",
            "4/4 [==============================] - 0s 12ms/step - loss: 0.5459 - accuracy: 0.7619 - val_loss: 0.5901 - val_accuracy: 0.6222\n",
            "Epoch 174/1000\n",
            "4/4 [==============================] - 0s 11ms/step - loss: 0.5429 - accuracy: 0.7619 - val_loss: 0.5890 - val_accuracy: 0.6222\n",
            "Epoch 175/1000\n",
            "4/4 [==============================] - 0s 10ms/step - loss: 0.5404 - accuracy: 0.7429 - val_loss: 0.5874 - val_accuracy: 0.6222\n",
            "Epoch 176/1000\n",
            "4/4 [==============================] - 0s 11ms/step - loss: 0.5375 - accuracy: 0.7429 - val_loss: 0.5837 - val_accuracy: 0.6222\n",
            "Epoch 177/1000\n",
            "4/4 [==============================] - 0s 12ms/step - loss: 0.5349 - accuracy: 0.7619 - val_loss: 0.5776 - val_accuracy: 0.6444\n",
            "Epoch 178/1000\n",
            "4/4 [==============================] - 0s 11ms/step - loss: 0.5318 - accuracy: 0.7619 - val_loss: 0.5745 - val_accuracy: 0.6444\n",
            "Epoch 179/1000\n",
            "4/4 [==============================] - 0s 11ms/step - loss: 0.5292 - accuracy: 0.7714 - val_loss: 0.5717 - val_accuracy: 0.6444\n",
            "Epoch 180/1000\n",
            "4/4 [==============================] - 0s 11ms/step - loss: 0.5268 - accuracy: 0.7714 - val_loss: 0.5702 - val_accuracy: 0.6222\n",
            "Epoch 181/1000\n",
            "4/4 [==============================] - 0s 11ms/step - loss: 0.5238 - accuracy: 0.7714 - val_loss: 0.5654 - val_accuracy: 0.6444\n",
            "Epoch 182/1000\n",
            "4/4 [==============================] - 0s 10ms/step - loss: 0.5210 - accuracy: 0.7810 - val_loss: 0.5604 - val_accuracy: 0.6444\n",
            "Epoch 183/1000\n",
            "4/4 [==============================] - 0s 11ms/step - loss: 0.5190 - accuracy: 0.8000 - val_loss: 0.5539 - val_accuracy: 0.7111\n",
            "Epoch 184/1000\n",
            "4/4 [==============================] - 0s 9ms/step - loss: 0.5160 - accuracy: 0.8190 - val_loss: 0.5501 - val_accuracy: 0.7111\n",
            "Epoch 185/1000\n",
            "4/4 [==============================] - 0s 10ms/step - loss: 0.5140 - accuracy: 0.8286 - val_loss: 0.5472 - val_accuracy: 0.7111\n",
            "Epoch 186/1000\n",
            "4/4 [==============================] - 0s 14ms/step - loss: 0.5114 - accuracy: 0.8286 - val_loss: 0.5463 - val_accuracy: 0.7111\n",
            "Epoch 187/1000\n",
            "4/4 [==============================] - 0s 11ms/step - loss: 0.5085 - accuracy: 0.8286 - val_loss: 0.5442 - val_accuracy: 0.7111\n",
            "Epoch 188/1000\n",
            "4/4 [==============================] - 0s 11ms/step - loss: 0.5063 - accuracy: 0.8286 - val_loss: 0.5415 - val_accuracy: 0.7111\n",
            "Epoch 189/1000\n",
            "4/4 [==============================] - 0s 10ms/step - loss: 0.5035 - accuracy: 0.8286 - val_loss: 0.5410 - val_accuracy: 0.6889\n",
            "Epoch 190/1000\n",
            "4/4 [==============================] - 0s 10ms/step - loss: 0.5017 - accuracy: 0.7905 - val_loss: 0.5424 - val_accuracy: 0.6444\n",
            "Epoch 191/1000\n",
            "4/4 [==============================] - 0s 10ms/step - loss: 0.4988 - accuracy: 0.7905 - val_loss: 0.5409 - val_accuracy: 0.6444\n",
            "Epoch 192/1000\n",
            "4/4 [==============================] - 0s 10ms/step - loss: 0.4965 - accuracy: 0.7905 - val_loss: 0.5400 - val_accuracy: 0.6444\n",
            "Epoch 193/1000\n",
            "4/4 [==============================] - 0s 11ms/step - loss: 0.4948 - accuracy: 0.7810 - val_loss: 0.5390 - val_accuracy: 0.6222\n",
            "Epoch 194/1000\n",
            "4/4 [==============================] - 0s 11ms/step - loss: 0.4924 - accuracy: 0.7810 - val_loss: 0.5357 - val_accuracy: 0.6444\n",
            "Epoch 195/1000\n",
            "4/4 [==============================] - 0s 11ms/step - loss: 0.4899 - accuracy: 0.7905 - val_loss: 0.5331 - val_accuracy: 0.6444\n",
            "Epoch 196/1000\n",
            "4/4 [==============================] - 0s 11ms/step - loss: 0.4882 - accuracy: 0.7905 - val_loss: 0.5288 - val_accuracy: 0.6444\n",
            "Epoch 197/1000\n",
            "4/4 [==============================] - 0s 12ms/step - loss: 0.4853 - accuracy: 0.7905 - val_loss: 0.5280 - val_accuracy: 0.6444\n",
            "Epoch 198/1000\n",
            "4/4 [==============================] - 0s 11ms/step - loss: 0.4836 - accuracy: 0.7905 - val_loss: 0.5256 - val_accuracy: 0.6444\n",
            "Epoch 199/1000\n",
            "4/4 [==============================] - 0s 12ms/step - loss: 0.4813 - accuracy: 0.7905 - val_loss: 0.5239 - val_accuracy: 0.6444\n",
            "Epoch 200/1000\n",
            "4/4 [==============================] - 0s 14ms/step - loss: 0.4790 - accuracy: 0.7905 - val_loss: 0.5203 - val_accuracy: 0.6667\n",
            "Epoch 201/1000\n",
            "4/4 [==============================] - 0s 11ms/step - loss: 0.4770 - accuracy: 0.7905 - val_loss: 0.5151 - val_accuracy: 0.6889\n",
            "Epoch 202/1000\n",
            "4/4 [==============================] - 0s 11ms/step - loss: 0.4745 - accuracy: 0.8286 - val_loss: 0.5109 - val_accuracy: 0.7111\n",
            "Epoch 203/1000\n",
            "4/4 [==============================] - 0s 11ms/step - loss: 0.4728 - accuracy: 0.8476 - val_loss: 0.5066 - val_accuracy: 0.7111\n",
            "Epoch 204/1000\n",
            "4/4 [==============================] - 0s 10ms/step - loss: 0.4705 - accuracy: 0.8571 - val_loss: 0.5051 - val_accuracy: 0.7111\n",
            "Epoch 205/1000\n",
            "4/4 [==============================] - 0s 17ms/step - loss: 0.4684 - accuracy: 0.8381 - val_loss: 0.5065 - val_accuracy: 0.7111\n",
            "Epoch 206/1000\n",
            "4/4 [==============================] - 0s 11ms/step - loss: 0.4666 - accuracy: 0.8190 - val_loss: 0.5052 - val_accuracy: 0.6889\n",
            "Epoch 207/1000\n",
            "4/4 [==============================] - 0s 11ms/step - loss: 0.4644 - accuracy: 0.8190 - val_loss: 0.5024 - val_accuracy: 0.7111\n",
            "Epoch 208/1000\n",
            "4/4 [==============================] - 0s 12ms/step - loss: 0.4623 - accuracy: 0.8381 - val_loss: 0.4988 - val_accuracy: 0.7111\n",
            "Epoch 209/1000\n",
            "4/4 [==============================] - 0s 10ms/step - loss: 0.4603 - accuracy: 0.8476 - val_loss: 0.4965 - val_accuracy: 0.7111\n",
            "Epoch 210/1000\n",
            "4/4 [==============================] - 0s 10ms/step - loss: 0.4585 - accuracy: 0.8571 - val_loss: 0.4940 - val_accuracy: 0.7111\n",
            "Epoch 211/1000\n",
            "4/4 [==============================] - 0s 11ms/step - loss: 0.4567 - accuracy: 0.8571 - val_loss: 0.4932 - val_accuracy: 0.7111\n",
            "Epoch 212/1000\n",
            "4/4 [==============================] - 0s 10ms/step - loss: 0.4547 - accuracy: 0.8571 - val_loss: 0.4912 - val_accuracy: 0.7111\n",
            "Epoch 213/1000\n",
            "4/4 [==============================] - 0s 10ms/step - loss: 0.4528 - accuracy: 0.8476 - val_loss: 0.4907 - val_accuracy: 0.7111\n",
            "Epoch 214/1000\n",
            "4/4 [==============================] - 0s 10ms/step - loss: 0.4510 - accuracy: 0.8381 - val_loss: 0.4883 - val_accuracy: 0.7111\n",
            "Epoch 215/1000\n",
            "4/4 [==============================] - 0s 10ms/step - loss: 0.4494 - accuracy: 0.8571 - val_loss: 0.4850 - val_accuracy: 0.7111\n",
            "Epoch 216/1000\n",
            "4/4 [==============================] - 0s 12ms/step - loss: 0.4476 - accuracy: 0.8571 - val_loss: 0.4857 - val_accuracy: 0.7111\n",
            "Epoch 217/1000\n",
            "4/4 [==============================] - 0s 10ms/step - loss: 0.4457 - accuracy: 0.8476 - val_loss: 0.4828 - val_accuracy: 0.7111\n",
            "Epoch 218/1000\n",
            "4/4 [==============================] - 0s 13ms/step - loss: 0.4439 - accuracy: 0.8571 - val_loss: 0.4791 - val_accuracy: 0.7556\n",
            "Epoch 219/1000\n",
            "4/4 [==============================] - 0s 12ms/step - loss: 0.4420 - accuracy: 0.8571 - val_loss: 0.4778 - val_accuracy: 0.7556\n",
            "Epoch 220/1000\n",
            "4/4 [==============================] - 0s 11ms/step - loss: 0.4405 - accuracy: 0.8571 - val_loss: 0.4750 - val_accuracy: 0.7778\n",
            "Epoch 221/1000\n",
            "4/4 [==============================] - 0s 12ms/step - loss: 0.4385 - accuracy: 0.8571 - val_loss: 0.4729 - val_accuracy: 0.7778\n",
            "Epoch 222/1000\n",
            "4/4 [==============================] - 0s 11ms/step - loss: 0.4373 - accuracy: 0.8571 - val_loss: 0.4693 - val_accuracy: 0.8222\n",
            "Epoch 223/1000\n",
            "4/4 [==============================] - 0s 14ms/step - loss: 0.4351 - accuracy: 0.8667 - val_loss: 0.4682 - val_accuracy: 0.8222\n",
            "Epoch 224/1000\n",
            "4/4 [==============================] - 0s 12ms/step - loss: 0.4333 - accuracy: 0.8667 - val_loss: 0.4653 - val_accuracy: 0.8444\n",
            "Epoch 225/1000\n",
            "4/4 [==============================] - 0s 10ms/step - loss: 0.4318 - accuracy: 0.8762 - val_loss: 0.4617 - val_accuracy: 0.8444\n",
            "Epoch 226/1000\n",
            "4/4 [==============================] - 0s 11ms/step - loss: 0.4307 - accuracy: 0.8857 - val_loss: 0.4580 - val_accuracy: 0.8444\n",
            "Epoch 227/1000\n",
            "4/4 [==============================] - 0s 11ms/step - loss: 0.4285 - accuracy: 0.8952 - val_loss: 0.4577 - val_accuracy: 0.8444\n",
            "Epoch 228/1000\n",
            "4/4 [==============================] - 0s 12ms/step - loss: 0.4269 - accuracy: 0.8857 - val_loss: 0.4567 - val_accuracy: 0.8444\n",
            "Epoch 229/1000\n",
            "4/4 [==============================] - 0s 11ms/step - loss: 0.4252 - accuracy: 0.8857 - val_loss: 0.4538 - val_accuracy: 0.8444\n",
            "Epoch 230/1000\n",
            "4/4 [==============================] - 0s 10ms/step - loss: 0.4238 - accuracy: 0.8952 - val_loss: 0.4497 - val_accuracy: 0.8667\n",
            "Epoch 231/1000\n",
            "4/4 [==============================] - 0s 10ms/step - loss: 0.4222 - accuracy: 0.9048 - val_loss: 0.4489 - val_accuracy: 0.8667\n",
            "Epoch 232/1000\n",
            "4/4 [==============================] - 0s 11ms/step - loss: 0.4205 - accuracy: 0.9048 - val_loss: 0.4503 - val_accuracy: 0.8444\n",
            "Epoch 233/1000\n",
            "4/4 [==============================] - 0s 10ms/step - loss: 0.4190 - accuracy: 0.8857 - val_loss: 0.4524 - val_accuracy: 0.8444\n",
            "Epoch 234/1000\n",
            "4/4 [==============================] - 0s 10ms/step - loss: 0.4174 - accuracy: 0.8762 - val_loss: 0.4532 - val_accuracy: 0.8222\n",
            "Epoch 235/1000\n",
            "4/4 [==============================] - 0s 11ms/step - loss: 0.4159 - accuracy: 0.8667 - val_loss: 0.4514 - val_accuracy: 0.8222\n",
            "Epoch 236/1000\n",
            "4/4 [==============================] - 0s 10ms/step - loss: 0.4144 - accuracy: 0.8667 - val_loss: 0.4497 - val_accuracy: 0.8444\n",
            "Epoch 237/1000\n",
            "4/4 [==============================] - 0s 11ms/step - loss: 0.4130 - accuracy: 0.8667 - val_loss: 0.4474 - val_accuracy: 0.8444\n",
            "Epoch 238/1000\n",
            "4/4 [==============================] - 0s 11ms/step - loss: 0.4116 - accuracy: 0.8667 - val_loss: 0.4467 - val_accuracy: 0.8444\n",
            "Epoch 239/1000\n",
            "4/4 [==============================] - 0s 13ms/step - loss: 0.4096 - accuracy: 0.8667 - val_loss: 0.4422 - val_accuracy: 0.8444\n",
            "Epoch 240/1000\n",
            "4/4 [==============================] - 0s 11ms/step - loss: 0.4086 - accuracy: 0.8952 - val_loss: 0.4365 - val_accuracy: 0.8667\n",
            "Epoch 241/1000\n",
            "4/4 [==============================] - 0s 10ms/step - loss: 0.4069 - accuracy: 0.9143 - val_loss: 0.4334 - val_accuracy: 0.8667\n",
            "Epoch 242/1000\n",
            "4/4 [==============================] - 0s 10ms/step - loss: 0.4055 - accuracy: 0.9333 - val_loss: 0.4306 - val_accuracy: 0.8667\n",
            "Epoch 243/1000\n",
            "4/4 [==============================] - 0s 13ms/step - loss: 0.4042 - accuracy: 0.9333 - val_loss: 0.4294 - val_accuracy: 0.8667\n",
            "Epoch 244/1000\n",
            "4/4 [==============================] - 0s 11ms/step - loss: 0.4027 - accuracy: 0.9333 - val_loss: 0.4281 - val_accuracy: 0.8667\n",
            "Epoch 245/1000\n",
            "4/4 [==============================] - 0s 10ms/step - loss: 0.4011 - accuracy: 0.9333 - val_loss: 0.4279 - val_accuracy: 0.8667\n",
            "Epoch 246/1000\n",
            "4/4 [==============================] - 0s 12ms/step - loss: 0.3999 - accuracy: 0.9333 - val_loss: 0.4279 - val_accuracy: 0.8667\n",
            "Epoch 247/1000\n",
            "4/4 [==============================] - 0s 11ms/step - loss: 0.3983 - accuracy: 0.9238 - val_loss: 0.4293 - val_accuracy: 0.8444\n",
            "Epoch 248/1000\n",
            "4/4 [==============================] - 0s 16ms/step - loss: 0.3967 - accuracy: 0.9048 - val_loss: 0.4300 - val_accuracy: 0.8444\n",
            "Epoch 249/1000\n",
            "4/4 [==============================] - 0s 11ms/step - loss: 0.3954 - accuracy: 0.8952 - val_loss: 0.4316 - val_accuracy: 0.8444\n",
            "Epoch 250/1000\n",
            "4/4 [==============================] - 0s 10ms/step - loss: 0.3943 - accuracy: 0.8857 - val_loss: 0.4319 - val_accuracy: 0.8444\n",
            "Epoch 251/1000\n",
            "4/4 [==============================] - 0s 11ms/step - loss: 0.3932 - accuracy: 0.8762 - val_loss: 0.4309 - val_accuracy: 0.8444\n",
            "Epoch 252/1000\n",
            "4/4 [==============================] - 0s 11ms/step - loss: 0.3916 - accuracy: 0.8762 - val_loss: 0.4264 - val_accuracy: 0.8444\n",
            "Epoch 253/1000\n",
            "4/4 [==============================] - 0s 15ms/step - loss: 0.3899 - accuracy: 0.9048 - val_loss: 0.4188 - val_accuracy: 0.8667\n",
            "Epoch 254/1000\n",
            "4/4 [==============================] - 0s 12ms/step - loss: 0.3887 - accuracy: 0.9333 - val_loss: 0.4142 - val_accuracy: 0.9111\n",
            "Epoch 255/1000\n",
            "4/4 [==============================] - 0s 16ms/step - loss: 0.3874 - accuracy: 0.9333 - val_loss: 0.4123 - val_accuracy: 0.9111\n",
            "Epoch 256/1000\n",
            "4/4 [==============================] - 0s 11ms/step - loss: 0.3862 - accuracy: 0.9333 - val_loss: 0.4112 - val_accuracy: 0.9111\n",
            "Epoch 257/1000\n",
            "4/4 [==============================] - 0s 10ms/step - loss: 0.3846 - accuracy: 0.9333 - val_loss: 0.4110 - val_accuracy: 0.9111\n",
            "Epoch 258/1000\n",
            "4/4 [==============================] - 0s 11ms/step - loss: 0.3832 - accuracy: 0.9333 - val_loss: 0.4114 - val_accuracy: 0.8889\n",
            "Epoch 259/1000\n",
            "4/4 [==============================] - 0s 10ms/step - loss: 0.3820 - accuracy: 0.9333 - val_loss: 0.4123 - val_accuracy: 0.8667\n",
            "Epoch 260/1000\n",
            "4/4 [==============================] - 0s 14ms/step - loss: 0.3805 - accuracy: 0.9333 - val_loss: 0.4086 - val_accuracy: 0.8889\n",
            "Epoch 261/1000\n",
            "4/4 [==============================] - 0s 11ms/step - loss: 0.3792 - accuracy: 0.9333 - val_loss: 0.4060 - val_accuracy: 0.9111\n",
            "Epoch 262/1000\n",
            "4/4 [==============================] - 0s 11ms/step - loss: 0.3777 - accuracy: 0.9333 - val_loss: 0.4057 - val_accuracy: 0.8889\n",
            "Epoch 263/1000\n",
            "4/4 [==============================] - 0s 11ms/step - loss: 0.3765 - accuracy: 0.9333 - val_loss: 0.4072 - val_accuracy: 0.8889\n",
            "Epoch 264/1000\n",
            "4/4 [==============================] - 0s 15ms/step - loss: 0.3750 - accuracy: 0.9333 - val_loss: 0.4077 - val_accuracy: 0.8667\n",
            "Epoch 265/1000\n",
            "4/4 [==============================] - 0s 16ms/step - loss: 0.3740 - accuracy: 0.9333 - val_loss: 0.4068 - val_accuracy: 0.8667\n",
            "Epoch 266/1000\n",
            "4/4 [==============================] - 0s 12ms/step - loss: 0.3728 - accuracy: 0.9333 - val_loss: 0.4037 - val_accuracy: 0.8889\n",
            "Epoch 267/1000\n",
            "4/4 [==============================] - 0s 13ms/step - loss: 0.3708 - accuracy: 0.9333 - val_loss: 0.3981 - val_accuracy: 0.9111\n",
            "Epoch 268/1000\n",
            "4/4 [==============================] - 0s 11ms/step - loss: 0.3698 - accuracy: 0.9333 - val_loss: 0.3948 - val_accuracy: 0.9333\n",
            "Epoch 269/1000\n",
            "4/4 [==============================] - 0s 11ms/step - loss: 0.3689 - accuracy: 0.9333 - val_loss: 0.3900 - val_accuracy: 0.9333\n",
            "Epoch 270/1000\n",
            "4/4 [==============================] - 0s 12ms/step - loss: 0.3682 - accuracy: 0.9333 - val_loss: 0.3883 - val_accuracy: 0.9333\n",
            "Epoch 271/1000\n",
            "4/4 [==============================] - 0s 10ms/step - loss: 0.3671 - accuracy: 0.9333 - val_loss: 0.3884 - val_accuracy: 0.9333\n",
            "Epoch 272/1000\n",
            "4/4 [==============================] - 0s 10ms/step - loss: 0.3654 - accuracy: 0.9333 - val_loss: 0.3861 - val_accuracy: 0.9333\n",
            "Epoch 273/1000\n",
            "4/4 [==============================] - 0s 11ms/step - loss: 0.3645 - accuracy: 0.9333 - val_loss: 0.3840 - val_accuracy: 0.9333\n",
            "Epoch 274/1000\n",
            "4/4 [==============================] - 0s 18ms/step - loss: 0.3631 - accuracy: 0.9619 - val_loss: 0.3841 - val_accuracy: 0.9333\n",
            "Epoch 275/1000\n",
            "4/4 [==============================] - 0s 14ms/step - loss: 0.3614 - accuracy: 0.9333 - val_loss: 0.3876 - val_accuracy: 0.9333\n",
            "Epoch 276/1000\n",
            "4/4 [==============================] - 0s 17ms/step - loss: 0.3606 - accuracy: 0.9333 - val_loss: 0.3908 - val_accuracy: 0.8889\n",
            "Epoch 277/1000\n",
            "4/4 [==============================] - 0s 11ms/step - loss: 0.3587 - accuracy: 0.9333 - val_loss: 0.3880 - val_accuracy: 0.9111\n",
            "Epoch 278/1000\n",
            "4/4 [==============================] - 0s 11ms/step - loss: 0.3573 - accuracy: 0.9333 - val_loss: 0.3833 - val_accuracy: 0.9333\n",
            "Epoch 279/1000\n",
            "4/4 [==============================] - 0s 12ms/step - loss: 0.3568 - accuracy: 0.9333 - val_loss: 0.3779 - val_accuracy: 0.9333\n",
            "Epoch 280/1000\n",
            "4/4 [==============================] - 0s 11ms/step - loss: 0.3558 - accuracy: 0.9524 - val_loss: 0.3762 - val_accuracy: 0.9333\n",
            "Epoch 281/1000\n",
            "4/4 [==============================] - 0s 16ms/step - loss: 0.3546 - accuracy: 0.9619 - val_loss: 0.3754 - val_accuracy: 0.9333\n",
            "Epoch 282/1000\n",
            "4/4 [==============================] - 0s 12ms/step - loss: 0.3528 - accuracy: 0.9429 - val_loss: 0.3775 - val_accuracy: 0.9333\n",
            "Epoch 283/1000\n",
            "4/4 [==============================] - 0s 16ms/step - loss: 0.3517 - accuracy: 0.9333 - val_loss: 0.3788 - val_accuracy: 0.9333\n",
            "Epoch 284/1000\n",
            "4/4 [==============================] - 0s 12ms/step - loss: 0.3503 - accuracy: 0.9333 - val_loss: 0.3778 - val_accuracy: 0.9333\n",
            "Epoch 285/1000\n",
            "4/4 [==============================] - 0s 12ms/step - loss: 0.3490 - accuracy: 0.9333 - val_loss: 0.3755 - val_accuracy: 0.9333\n",
            "Epoch 286/1000\n",
            "4/4 [==============================] - 0s 12ms/step - loss: 0.3479 - accuracy: 0.9333 - val_loss: 0.3741 - val_accuracy: 0.9333\n",
            "Epoch 287/1000\n",
            "4/4 [==============================] - 0s 11ms/step - loss: 0.3467 - accuracy: 0.9333 - val_loss: 0.3753 - val_accuracy: 0.9333\n",
            "Epoch 288/1000\n",
            "4/4 [==============================] - 0s 21ms/step - loss: 0.3456 - accuracy: 0.9333 - val_loss: 0.3752 - val_accuracy: 0.9333\n",
            "Epoch 289/1000\n",
            "4/4 [==============================] - 0s 11ms/step - loss: 0.3443 - accuracy: 0.9333 - val_loss: 0.3728 - val_accuracy: 0.9333\n",
            "Epoch 290/1000\n",
            "4/4 [==============================] - 0s 11ms/step - loss: 0.3431 - accuracy: 0.9333 - val_loss: 0.3683 - val_accuracy: 0.9333\n",
            "Epoch 291/1000\n",
            "4/4 [==============================] - 0s 12ms/step - loss: 0.3419 - accuracy: 0.9333 - val_loss: 0.3657 - val_accuracy: 0.9333\n",
            "Epoch 292/1000\n",
            "4/4 [==============================] - 0s 11ms/step - loss: 0.3410 - accuracy: 0.9524 - val_loss: 0.3633 - val_accuracy: 0.9333\n",
            "Epoch 293/1000\n",
            "4/4 [==============================] - 0s 11ms/step - loss: 0.3399 - accuracy: 0.9619 - val_loss: 0.3614 - val_accuracy: 0.9333\n",
            "Epoch 294/1000\n",
            "4/4 [==============================] - 0s 12ms/step - loss: 0.3388 - accuracy: 0.9619 - val_loss: 0.3607 - val_accuracy: 0.9333\n",
            "Epoch 295/1000\n",
            "4/4 [==============================] - 0s 16ms/step - loss: 0.3376 - accuracy: 0.9524 - val_loss: 0.3607 - val_accuracy: 0.9333\n",
            "Epoch 296/1000\n",
            "4/4 [==============================] - 0s 12ms/step - loss: 0.3365 - accuracy: 0.9524 - val_loss: 0.3607 - val_accuracy: 0.9333\n",
            "Epoch 297/1000\n",
            "4/4 [==============================] - 0s 19ms/step - loss: 0.3356 - accuracy: 0.9524 - val_loss: 0.3577 - val_accuracy: 0.9333\n",
            "Epoch 298/1000\n",
            "4/4 [==============================] - 0s 12ms/step - loss: 0.3344 - accuracy: 0.9619 - val_loss: 0.3553 - val_accuracy: 0.9333\n",
            "Epoch 299/1000\n",
            "4/4 [==============================] - 0s 12ms/step - loss: 0.3332 - accuracy: 0.9619 - val_loss: 0.3506 - val_accuracy: 0.9333\n",
            "Epoch 300/1000\n",
            "4/4 [==============================] - 0s 12ms/step - loss: 0.3327 - accuracy: 0.9619 - val_loss: 0.3495 - val_accuracy: 0.9333\n",
            "Epoch 301/1000\n",
            "4/4 [==============================] - 0s 10ms/step - loss: 0.3312 - accuracy: 0.9619 - val_loss: 0.3512 - val_accuracy: 0.9333\n",
            "Epoch 302/1000\n",
            "4/4 [==============================] - 0s 11ms/step - loss: 0.3293 - accuracy: 0.9619 - val_loss: 0.3536 - val_accuracy: 0.9333\n",
            "Epoch 303/1000\n",
            "4/4 [==============================] - 0s 10ms/step - loss: 0.3279 - accuracy: 0.9429 - val_loss: 0.3587 - val_accuracy: 0.9333\n",
            "Epoch 304/1000\n",
            "4/4 [==============================] - 0s 12ms/step - loss: 0.3274 - accuracy: 0.9333 - val_loss: 0.3616 - val_accuracy: 0.9333\n",
            "Epoch 305/1000\n",
            "4/4 [==============================] - 0s 13ms/step - loss: 0.3264 - accuracy: 0.9333 - val_loss: 0.3610 - val_accuracy: 0.9333\n",
            "Epoch 306/1000\n",
            "4/4 [==============================] - 0s 13ms/step - loss: 0.3253 - accuracy: 0.9333 - val_loss: 0.3581 - val_accuracy: 0.9333\n",
            "Epoch 307/1000\n",
            "4/4 [==============================] - 0s 11ms/step - loss: 0.3243 - accuracy: 0.9333 - val_loss: 0.3550 - val_accuracy: 0.9333\n",
            "Epoch 308/1000\n",
            "4/4 [==============================] - 0s 12ms/step - loss: 0.3228 - accuracy: 0.9333 - val_loss: 0.3541 - val_accuracy: 0.9333\n",
            "Epoch 309/1000\n",
            "4/4 [==============================] - 0s 14ms/step - loss: 0.3222 - accuracy: 0.9333 - val_loss: 0.3566 - val_accuracy: 0.9333\n",
            "Epoch 310/1000\n",
            "4/4 [==============================] - 0s 10ms/step - loss: 0.3210 - accuracy: 0.9333 - val_loss: 0.3555 - val_accuracy: 0.9333\n",
            "Epoch 311/1000\n",
            "4/4 [==============================] - 0s 13ms/step - loss: 0.3200 - accuracy: 0.9333 - val_loss: 0.3537 - val_accuracy: 0.9333\n",
            "Epoch 312/1000\n",
            "4/4 [==============================] - 0s 12ms/step - loss: 0.3187 - accuracy: 0.9333 - val_loss: 0.3528 - val_accuracy: 0.9333\n",
            "Epoch 313/1000\n",
            "4/4 [==============================] - 0s 17ms/step - loss: 0.3180 - accuracy: 0.9333 - val_loss: 0.3541 - val_accuracy: 0.9333\n",
            "Epoch 314/1000\n",
            "4/4 [==============================] - 0s 11ms/step - loss: 0.3166 - accuracy: 0.9333 - val_loss: 0.3498 - val_accuracy: 0.9333\n",
            "Epoch 315/1000\n",
            "4/4 [==============================] - 0s 12ms/step - loss: 0.3152 - accuracy: 0.9333 - val_loss: 0.3432 - val_accuracy: 0.9333\n",
            "Epoch 316/1000\n",
            "4/4 [==============================] - 0s 11ms/step - loss: 0.3146 - accuracy: 0.9429 - val_loss: 0.3368 - val_accuracy: 0.9333\n",
            "Epoch 317/1000\n",
            "4/4 [==============================] - 0s 10ms/step - loss: 0.3130 - accuracy: 0.9524 - val_loss: 0.3365 - val_accuracy: 0.9333\n",
            "Epoch 318/1000\n",
            "4/4 [==============================] - 0s 10ms/step - loss: 0.3121 - accuracy: 0.9619 - val_loss: 0.3331 - val_accuracy: 0.9333\n",
            "Epoch 319/1000\n",
            "4/4 [==============================] - 0s 11ms/step - loss: 0.3105 - accuracy: 0.9619 - val_loss: 0.3325 - val_accuracy: 0.9333\n",
            "Epoch 320/1000\n",
            "4/4 [==============================] - 0s 12ms/step - loss: 0.3093 - accuracy: 0.9619 - val_loss: 0.3315 - val_accuracy: 0.9333\n",
            "Epoch 321/1000\n",
            "4/4 [==============================] - 0s 12ms/step - loss: 0.3082 - accuracy: 0.9619 - val_loss: 0.3307 - val_accuracy: 0.9333\n",
            "Epoch 322/1000\n",
            "4/4 [==============================] - 0s 13ms/step - loss: 0.3071 - accuracy: 0.9619 - val_loss: 0.3305 - val_accuracy: 0.9333\n",
            "Epoch 323/1000\n",
            "4/4 [==============================] - 0s 10ms/step - loss: 0.3062 - accuracy: 0.9619 - val_loss: 0.3325 - val_accuracy: 0.9333\n",
            "Epoch 324/1000\n",
            "4/4 [==============================] - 0s 11ms/step - loss: 0.3051 - accuracy: 0.9524 - val_loss: 0.3325 - val_accuracy: 0.9333\n",
            "Epoch 325/1000\n",
            "4/4 [==============================] - 0s 13ms/step - loss: 0.3042 - accuracy: 0.9524 - val_loss: 0.3254 - val_accuracy: 0.9333\n",
            "Epoch 326/1000\n",
            "4/4 [==============================] - 0s 13ms/step - loss: 0.3032 - accuracy: 0.9619 - val_loss: 0.3201 - val_accuracy: 0.9778\n",
            "Epoch 327/1000\n",
            "4/4 [==============================] - 0s 14ms/step - loss: 0.3024 - accuracy: 0.9619 - val_loss: 0.3194 - val_accuracy: 0.9778\n",
            "Epoch 328/1000\n",
            "4/4 [==============================] - 0s 13ms/step - loss: 0.3015 - accuracy: 0.9619 - val_loss: 0.3223 - val_accuracy: 0.9333\n",
            "Epoch 329/1000\n",
            "4/4 [==============================] - 0s 11ms/step - loss: 0.2994 - accuracy: 0.9619 - val_loss: 0.3258 - val_accuracy: 0.9333\n",
            "Epoch 330/1000\n",
            "4/4 [==============================] - 0s 15ms/step - loss: 0.2997 - accuracy: 0.9524 - val_loss: 0.3305 - val_accuracy: 0.9333\n",
            "Epoch 331/1000\n",
            "4/4 [==============================] - 0s 11ms/step - loss: 0.2975 - accuracy: 0.9429 - val_loss: 0.3291 - val_accuracy: 0.9333\n",
            "Epoch 332/1000\n",
            "4/4 [==============================] - 0s 11ms/step - loss: 0.2964 - accuracy: 0.9524 - val_loss: 0.3272 - val_accuracy: 0.9333\n",
            "Epoch 333/1000\n",
            "4/4 [==============================] - 0s 10ms/step - loss: 0.2955 - accuracy: 0.9524 - val_loss: 0.3231 - val_accuracy: 0.9333\n",
            "Epoch 334/1000\n",
            "4/4 [==============================] - 0s 12ms/step - loss: 0.2941 - accuracy: 0.9524 - val_loss: 0.3194 - val_accuracy: 0.9333\n",
            "Epoch 335/1000\n",
            "4/4 [==============================] - 0s 13ms/step - loss: 0.2929 - accuracy: 0.9619 - val_loss: 0.3167 - val_accuracy: 0.9333\n",
            "Epoch 336/1000\n",
            "4/4 [==============================] - 0s 11ms/step - loss: 0.2919 - accuracy: 0.9619 - val_loss: 0.3142 - val_accuracy: 0.9556\n",
            "Epoch 337/1000\n",
            "4/4 [==============================] - 0s 12ms/step - loss: 0.2909 - accuracy: 0.9619 - val_loss: 0.3143 - val_accuracy: 0.9556\n",
            "Epoch 338/1000\n",
            "4/4 [==============================] - 0s 12ms/step - loss: 0.2899 - accuracy: 0.9619 - val_loss: 0.3133 - val_accuracy: 0.9556\n",
            "Epoch 339/1000\n",
            "4/4 [==============================] - 0s 12ms/step - loss: 0.2892 - accuracy: 0.9619 - val_loss: 0.3090 - val_accuracy: 0.9778\n",
            "Epoch 340/1000\n",
            "4/4 [==============================] - 0s 11ms/step - loss: 0.2878 - accuracy: 0.9619 - val_loss: 0.3091 - val_accuracy: 0.9556\n",
            "Epoch 341/1000\n",
            "4/4 [==============================] - 0s 11ms/step - loss: 0.2862 - accuracy: 0.9619 - val_loss: 0.3114 - val_accuracy: 0.9333\n",
            "Epoch 342/1000\n",
            "4/4 [==============================] - 0s 17ms/step - loss: 0.2852 - accuracy: 0.9619 - val_loss: 0.3148 - val_accuracy: 0.9333\n",
            "Epoch 343/1000\n",
            "4/4 [==============================] - 0s 12ms/step - loss: 0.2843 - accuracy: 0.9524 - val_loss: 0.3161 - val_accuracy: 0.9333\n",
            "Epoch 344/1000\n",
            "4/4 [==============================] - 0s 11ms/step - loss: 0.2835 - accuracy: 0.9524 - val_loss: 0.3150 - val_accuracy: 0.9333\n",
            "Epoch 345/1000\n",
            "4/4 [==============================] - 0s 11ms/step - loss: 0.2825 - accuracy: 0.9524 - val_loss: 0.3132 - val_accuracy: 0.9333\n",
            "Epoch 346/1000\n",
            "4/4 [==============================] - 0s 12ms/step - loss: 0.2813 - accuracy: 0.9524 - val_loss: 0.3117 - val_accuracy: 0.9333\n",
            "Epoch 347/1000\n",
            "4/4 [==============================] - 0s 11ms/step - loss: 0.2804 - accuracy: 0.9524 - val_loss: 0.3104 - val_accuracy: 0.9333\n",
            "Epoch 348/1000\n",
            "4/4 [==============================] - 0s 12ms/step - loss: 0.2791 - accuracy: 0.9524 - val_loss: 0.3113 - val_accuracy: 0.9333\n",
            "Epoch 349/1000\n",
            "4/4 [==============================] - 0s 11ms/step - loss: 0.2783 - accuracy: 0.9524 - val_loss: 0.3082 - val_accuracy: 0.9333\n",
            "Epoch 350/1000\n",
            "4/4 [==============================] - 0s 13ms/step - loss: 0.2770 - accuracy: 0.9524 - val_loss: 0.3060 - val_accuracy: 0.9333\n",
            "Epoch 351/1000\n",
            "4/4 [==============================] - 0s 13ms/step - loss: 0.2759 - accuracy: 0.9524 - val_loss: 0.3032 - val_accuracy: 0.9333\n",
            "Epoch 352/1000\n",
            "4/4 [==============================] - 0s 16ms/step - loss: 0.2748 - accuracy: 0.9524 - val_loss: 0.3015 - val_accuracy: 0.9556\n",
            "Epoch 353/1000\n",
            "4/4 [==============================] - 0s 13ms/step - loss: 0.2736 - accuracy: 0.9524 - val_loss: 0.3006 - val_accuracy: 0.9556\n",
            "Epoch 354/1000\n",
            "4/4 [==============================] - 0s 12ms/step - loss: 0.2727 - accuracy: 0.9524 - val_loss: 0.2992 - val_accuracy: 0.9556\n",
            "Epoch 355/1000\n",
            "4/4 [==============================] - 0s 11ms/step - loss: 0.2717 - accuracy: 0.9524 - val_loss: 0.2980 - val_accuracy: 0.9556\n",
            "Epoch 356/1000\n",
            "4/4 [==============================] - 0s 11ms/step - loss: 0.2707 - accuracy: 0.9524 - val_loss: 0.2976 - val_accuracy: 0.9556\n",
            "Epoch 357/1000\n",
            "4/4 [==============================] - 0s 12ms/step - loss: 0.2697 - accuracy: 0.9619 - val_loss: 0.2928 - val_accuracy: 0.9778\n",
            "Epoch 358/1000\n",
            "4/4 [==============================] - 0s 13ms/step - loss: 0.2683 - accuracy: 0.9619 - val_loss: 0.2905 - val_accuracy: 0.9778\n",
            "Epoch 359/1000\n",
            "4/4 [==============================] - 0s 11ms/step - loss: 0.2675 - accuracy: 0.9619 - val_loss: 0.2879 - val_accuracy: 0.9778\n",
            "Epoch 360/1000\n",
            "4/4 [==============================] - 0s 14ms/step - loss: 0.2668 - accuracy: 0.9619 - val_loss: 0.2865 - val_accuracy: 0.9778\n",
            "Epoch 361/1000\n",
            "4/4 [==============================] - 0s 13ms/step - loss: 0.2650 - accuracy: 0.9619 - val_loss: 0.2899 - val_accuracy: 0.9778\n",
            "Epoch 362/1000\n",
            "4/4 [==============================] - 0s 10ms/step - loss: 0.2639 - accuracy: 0.9619 - val_loss: 0.2938 - val_accuracy: 0.9556\n",
            "Epoch 363/1000\n",
            "4/4 [==============================] - 0s 10ms/step - loss: 0.2638 - accuracy: 0.9524 - val_loss: 0.2966 - val_accuracy: 0.9333\n",
            "Epoch 364/1000\n",
            "4/4 [==============================] - 0s 11ms/step - loss: 0.2629 - accuracy: 0.9524 - val_loss: 0.2948 - val_accuracy: 0.9333\n",
            "Epoch 365/1000\n",
            "4/4 [==============================] - 0s 11ms/step - loss: 0.2618 - accuracy: 0.9524 - val_loss: 0.2931 - val_accuracy: 0.9333\n",
            "Epoch 366/1000\n",
            "4/4 [==============================] - 0s 11ms/step - loss: 0.2605 - accuracy: 0.9524 - val_loss: 0.2904 - val_accuracy: 0.9556\n",
            "Epoch 367/1000\n",
            "4/4 [==============================] - 0s 12ms/step - loss: 0.2593 - accuracy: 0.9524 - val_loss: 0.2868 - val_accuracy: 0.9556\n",
            "Epoch 368/1000\n",
            "4/4 [==============================] - 0s 11ms/step - loss: 0.2589 - accuracy: 0.9524 - val_loss: 0.2826 - val_accuracy: 0.9778\n",
            "Epoch 369/1000\n",
            "4/4 [==============================] - 0s 13ms/step - loss: 0.2571 - accuracy: 0.9619 - val_loss: 0.2843 - val_accuracy: 0.9556\n",
            "Epoch 370/1000\n",
            "4/4 [==============================] - 0s 13ms/step - loss: 0.2562 - accuracy: 0.9524 - val_loss: 0.2834 - val_accuracy: 0.9556\n",
            "Epoch 371/1000\n",
            "4/4 [==============================] - 0s 12ms/step - loss: 0.2554 - accuracy: 0.9524 - val_loss: 0.2803 - val_accuracy: 0.9778\n",
            "Epoch 372/1000\n",
            "4/4 [==============================] - 0s 13ms/step - loss: 0.2541 - accuracy: 0.9619 - val_loss: 0.2776 - val_accuracy: 0.9778\n",
            "Epoch 373/1000\n",
            "4/4 [==============================] - 0s 11ms/step - loss: 0.2531 - accuracy: 0.9619 - val_loss: 0.2762 - val_accuracy: 0.9778\n",
            "Epoch 374/1000\n",
            "4/4 [==============================] - 0s 15ms/step - loss: 0.2526 - accuracy: 0.9619 - val_loss: 0.2745 - val_accuracy: 0.9778\n",
            "Epoch 375/1000\n",
            "4/4 [==============================] - 0s 11ms/step - loss: 0.2511 - accuracy: 0.9619 - val_loss: 0.2752 - val_accuracy: 0.9778\n",
            "Epoch 376/1000\n",
            "4/4 [==============================] - 0s 12ms/step - loss: 0.2500 - accuracy: 0.9619 - val_loss: 0.2768 - val_accuracy: 0.9778\n",
            "Epoch 377/1000\n",
            "4/4 [==============================] - 0s 13ms/step - loss: 0.2497 - accuracy: 0.9619 - val_loss: 0.2795 - val_accuracy: 0.9556\n",
            "Epoch 378/1000\n",
            "4/4 [==============================] - 0s 18ms/step - loss: 0.2488 - accuracy: 0.9524 - val_loss: 0.2781 - val_accuracy: 0.9556\n",
            "Epoch 379/1000\n",
            "4/4 [==============================] - 0s 14ms/step - loss: 0.2476 - accuracy: 0.9524 - val_loss: 0.2764 - val_accuracy: 0.9556\n",
            "Epoch 380/1000\n",
            "4/4 [==============================] - 0s 13ms/step - loss: 0.2466 - accuracy: 0.9619 - val_loss: 0.2720 - val_accuracy: 0.9778\n",
            "Epoch 381/1000\n",
            "4/4 [==============================] - 0s 12ms/step - loss: 0.2452 - accuracy: 0.9619 - val_loss: 0.2700 - val_accuracy: 0.9778\n",
            "Epoch 382/1000\n",
            "4/4 [==============================] - 0s 12ms/step - loss: 0.2445 - accuracy: 0.9619 - val_loss: 0.2700 - val_accuracy: 0.9778\n",
            "Epoch 383/1000\n",
            "4/4 [==============================] - 0s 12ms/step - loss: 0.2433 - accuracy: 0.9619 - val_loss: 0.2687 - val_accuracy: 0.9778\n",
            "Epoch 384/1000\n",
            "4/4 [==============================] - 0s 10ms/step - loss: 0.2422 - accuracy: 0.9619 - val_loss: 0.2666 - val_accuracy: 0.9778\n",
            "Epoch 385/1000\n",
            "4/4 [==============================] - 0s 12ms/step - loss: 0.2411 - accuracy: 0.9619 - val_loss: 0.2637 - val_accuracy: 0.9778\n",
            "Epoch 386/1000\n",
            "4/4 [==============================] - 0s 14ms/step - loss: 0.2405 - accuracy: 0.9619 - val_loss: 0.2620 - val_accuracy: 0.9778\n",
            "Epoch 387/1000\n",
            "4/4 [==============================] - 0s 12ms/step - loss: 0.2391 - accuracy: 0.9619 - val_loss: 0.2641 - val_accuracy: 0.9778\n",
            "Epoch 388/1000\n",
            "4/4 [==============================] - 0s 16ms/step - loss: 0.2382 - accuracy: 0.9619 - val_loss: 0.2662 - val_accuracy: 0.9778\n",
            "Epoch 389/1000\n",
            "4/4 [==============================] - 0s 14ms/step - loss: 0.2382 - accuracy: 0.9524 - val_loss: 0.2723 - val_accuracy: 0.9556\n",
            "Epoch 390/1000\n",
            "4/4 [==============================] - 0s 11ms/step - loss: 0.2377 - accuracy: 0.9524 - val_loss: 0.2731 - val_accuracy: 0.9556\n",
            "Epoch 391/1000\n",
            "4/4 [==============================] - 0s 13ms/step - loss: 0.2373 - accuracy: 0.9524 - val_loss: 0.2744 - val_accuracy: 0.9333\n",
            "Epoch 392/1000\n",
            "4/4 [==============================] - 0s 13ms/step - loss: 0.2366 - accuracy: 0.9524 - val_loss: 0.2695 - val_accuracy: 0.9556\n",
            "Epoch 393/1000\n",
            "4/4 [==============================] - 0s 13ms/step - loss: 0.2340 - accuracy: 0.9524 - val_loss: 0.2573 - val_accuracy: 0.9778\n",
            "Epoch 394/1000\n",
            "4/4 [==============================] - 0s 14ms/step - loss: 0.2321 - accuracy: 0.9619 - val_loss: 0.2498 - val_accuracy: 0.9778\n",
            "Epoch 395/1000\n",
            "4/4 [==============================] - 0s 12ms/step - loss: 0.2334 - accuracy: 0.9619 - val_loss: 0.2452 - val_accuracy: 0.9778\n",
            "Epoch 396/1000\n",
            "4/4 [==============================] - 0s 19ms/step - loss: 0.2327 - accuracy: 0.9619 - val_loss: 0.2438 - val_accuracy: 0.9778\n",
            "Epoch 397/1000\n",
            "4/4 [==============================] - 0s 12ms/step - loss: 0.2319 - accuracy: 0.9619 - val_loss: 0.2447 - val_accuracy: 0.9778\n",
            "Epoch 398/1000\n",
            "4/4 [==============================] - 0s 13ms/step - loss: 0.2286 - accuracy: 0.9714 - val_loss: 0.2523 - val_accuracy: 0.9778\n",
            "Epoch 399/1000\n",
            "4/4 [==============================] - 0s 12ms/step - loss: 0.2282 - accuracy: 0.9619 - val_loss: 0.2630 - val_accuracy: 0.9556\n",
            "Epoch 400/1000\n",
            "4/4 [==============================] - 0s 18ms/step - loss: 0.2311 - accuracy: 0.9524 - val_loss: 0.2693 - val_accuracy: 0.9333\n",
            "Epoch 401/1000\n",
            "4/4 [==============================] - 0s 13ms/step - loss: 0.2293 - accuracy: 0.9524 - val_loss: 0.2611 - val_accuracy: 0.9556\n",
            "Epoch 402/1000\n",
            "4/4 [==============================] - 0s 11ms/step - loss: 0.2263 - accuracy: 0.9524 - val_loss: 0.2553 - val_accuracy: 0.9778\n",
            "Epoch 403/1000\n",
            "4/4 [==============================] - 0s 12ms/step - loss: 0.2246 - accuracy: 0.9619 - val_loss: 0.2468 - val_accuracy: 0.9778\n",
            "Epoch 404/1000\n",
            "4/4 [==============================] - 0s 12ms/step - loss: 0.2233 - accuracy: 0.9619 - val_loss: 0.2425 - val_accuracy: 0.9778\n",
            "Epoch 405/1000\n",
            "4/4 [==============================] - 0s 12ms/step - loss: 0.2228 - accuracy: 0.9619 - val_loss: 0.2419 - val_accuracy: 0.9778\n",
            "Epoch 406/1000\n",
            "4/4 [==============================] - 0s 12ms/step - loss: 0.2219 - accuracy: 0.9619 - val_loss: 0.2382 - val_accuracy: 0.9778\n",
            "Epoch 407/1000\n",
            "4/4 [==============================] - 0s 12ms/step - loss: 0.2214 - accuracy: 0.9714 - val_loss: 0.2370 - val_accuracy: 0.9778\n",
            "Epoch 408/1000\n",
            "4/4 [==============================] - 0s 19ms/step - loss: 0.2205 - accuracy: 0.9714 - val_loss: 0.2347 - val_accuracy: 0.9778\n",
            "Epoch 409/1000\n",
            "4/4 [==============================] - 0s 12ms/step - loss: 0.2209 - accuracy: 0.9619 - val_loss: 0.2302 - val_accuracy: 0.9778\n",
            "Epoch 410/1000\n",
            "4/4 [==============================] - 0s 11ms/step - loss: 0.2212 - accuracy: 0.9619 - val_loss: 0.2302 - val_accuracy: 0.9778\n",
            "Epoch 411/1000\n",
            "4/4 [==============================] - 0s 14ms/step - loss: 0.2184 - accuracy: 0.9619 - val_loss: 0.2336 - val_accuracy: 0.9778\n",
            "Epoch 412/1000\n",
            "4/4 [==============================] - 0s 14ms/step - loss: 0.2163 - accuracy: 0.9619 - val_loss: 0.2407 - val_accuracy: 0.9778\n",
            "Epoch 413/1000\n",
            "4/4 [==============================] - 0s 11ms/step - loss: 0.2153 - accuracy: 0.9619 - val_loss: 0.2423 - val_accuracy: 0.9778\n",
            "Epoch 414/1000\n",
            "4/4 [==============================] - 0s 16ms/step - loss: 0.2147 - accuracy: 0.9619 - val_loss: 0.2431 - val_accuracy: 0.9778\n",
            "Epoch 415/1000\n",
            "4/4 [==============================] - 0s 14ms/step - loss: 0.2144 - accuracy: 0.9524 - val_loss: 0.2409 - val_accuracy: 0.9778\n",
            "Epoch 416/1000\n",
            "4/4 [==============================] - 0s 14ms/step - loss: 0.2133 - accuracy: 0.9619 - val_loss: 0.2339 - val_accuracy: 0.9778\n",
            "Epoch 417/1000\n",
            "4/4 [==============================] - 0s 12ms/step - loss: 0.2122 - accuracy: 0.9619 - val_loss: 0.2320 - val_accuracy: 0.9778\n",
            "Epoch 418/1000\n",
            "4/4 [==============================] - 0s 11ms/step - loss: 0.2117 - accuracy: 0.9714 - val_loss: 0.2299 - val_accuracy: 0.9778\n",
            "Epoch 419/1000\n",
            "4/4 [==============================] - 0s 12ms/step - loss: 0.2111 - accuracy: 0.9619 - val_loss: 0.2318 - val_accuracy: 0.9778\n",
            "Epoch 420/1000\n",
            "4/4 [==============================] - 0s 18ms/step - loss: 0.2098 - accuracy: 0.9619 - val_loss: 0.2297 - val_accuracy: 0.9778\n",
            "Epoch 421/1000\n",
            "4/4 [==============================] - 0s 12ms/step - loss: 0.2087 - accuracy: 0.9714 - val_loss: 0.2253 - val_accuracy: 0.9778\n",
            "Epoch 422/1000\n",
            "4/4 [==============================] - 0s 13ms/step - loss: 0.2086 - accuracy: 0.9619 - val_loss: 0.2218 - val_accuracy: 0.9778\n",
            "Epoch 423/1000\n",
            "4/4 [==============================] - 0s 13ms/step - loss: 0.2089 - accuracy: 0.9619 - val_loss: 0.2203 - val_accuracy: 0.9778\n",
            "Epoch 424/1000\n",
            "4/4 [==============================] - 0s 12ms/step - loss: 0.2071 - accuracy: 0.9619 - val_loss: 0.2248 - val_accuracy: 0.9778\n",
            "Epoch 425/1000\n",
            "4/4 [==============================] - 0s 13ms/step - loss: 0.2058 - accuracy: 0.9619 - val_loss: 0.2306 - val_accuracy: 0.9778\n",
            "Epoch 426/1000\n",
            "4/4 [==============================] - 0s 14ms/step - loss: 0.2053 - accuracy: 0.9524 - val_loss: 0.2336 - val_accuracy: 0.9778\n",
            "Epoch 427/1000\n",
            "4/4 [==============================] - 0s 13ms/step - loss: 0.2046 - accuracy: 0.9524 - val_loss: 0.2328 - val_accuracy: 0.9778\n",
            "Epoch 428/1000\n",
            "4/4 [==============================] - 0s 12ms/step - loss: 0.2035 - accuracy: 0.9524 - val_loss: 0.2264 - val_accuracy: 0.9778\n",
            "Epoch 429/1000\n",
            "4/4 [==============================] - 0s 13ms/step - loss: 0.2021 - accuracy: 0.9619 - val_loss: 0.2214 - val_accuracy: 0.9778\n",
            "Epoch 430/1000\n",
            "4/4 [==============================] - 0s 12ms/step - loss: 0.2021 - accuracy: 0.9714 - val_loss: 0.2177 - val_accuracy: 0.9778\n",
            "Epoch 431/1000\n",
            "4/4 [==============================] - 0s 17ms/step - loss: 0.2011 - accuracy: 0.9619 - val_loss: 0.2178 - val_accuracy: 0.9778\n",
            "Epoch 432/1000\n",
            "4/4 [==============================] - 0s 13ms/step - loss: 0.2011 - accuracy: 0.9714 - val_loss: 0.2226 - val_accuracy: 0.9778\n",
            "Epoch 433/1000\n",
            "4/4 [==============================] - 0s 12ms/step - loss: 0.1996 - accuracy: 0.9619 - val_loss: 0.2236 - val_accuracy: 0.9778\n",
            "Epoch 434/1000\n",
            "4/4 [==============================] - 0s 18ms/step - loss: 0.1982 - accuracy: 0.9619 - val_loss: 0.2182 - val_accuracy: 0.9778\n",
            "Epoch 435/1000\n",
            "4/4 [==============================] - 0s 12ms/step - loss: 0.1984 - accuracy: 0.9714 - val_loss: 0.2154 - val_accuracy: 0.9778\n",
            "Epoch 436/1000\n",
            "4/4 [==============================] - 0s 12ms/step - loss: 0.1964 - accuracy: 0.9714 - val_loss: 0.2188 - val_accuracy: 0.9778\n",
            "Epoch 437/1000\n",
            "4/4 [==============================] - 0s 12ms/step - loss: 0.1970 - accuracy: 0.9619 - val_loss: 0.2238 - val_accuracy: 0.9778\n",
            "Epoch 438/1000\n",
            "4/4 [==============================] - 0s 11ms/step - loss: 0.1957 - accuracy: 0.9524 - val_loss: 0.2224 - val_accuracy: 0.9778\n",
            "Epoch 439/1000\n",
            "4/4 [==============================] - 0s 12ms/step - loss: 0.1945 - accuracy: 0.9619 - val_loss: 0.2183 - val_accuracy: 0.9778\n",
            "Epoch 440/1000\n",
            "4/4 [==============================] - 0s 12ms/step - loss: 0.1934 - accuracy: 0.9714 - val_loss: 0.2136 - val_accuracy: 0.9778\n",
            "Epoch 441/1000\n",
            "4/4 [==============================] - 0s 12ms/step - loss: 0.1926 - accuracy: 0.9714 - val_loss: 0.2091 - val_accuracy: 0.9778\n",
            "Epoch 442/1000\n",
            "4/4 [==============================] - 0s 18ms/step - loss: 0.1926 - accuracy: 0.9619 - val_loss: 0.2074 - val_accuracy: 0.9778\n",
            "Epoch 443/1000\n",
            "4/4 [==============================] - 0s 12ms/step - loss: 0.1920 - accuracy: 0.9714 - val_loss: 0.2107 - val_accuracy: 0.9778\n",
            "Epoch 444/1000\n",
            "4/4 [==============================] - 0s 13ms/step - loss: 0.1908 - accuracy: 0.9714 - val_loss: 0.2152 - val_accuracy: 0.9778\n",
            "Epoch 445/1000\n",
            "4/4 [==============================] - 0s 13ms/step - loss: 0.1899 - accuracy: 0.9619 - val_loss: 0.2169 - val_accuracy: 0.9778\n",
            "Epoch 446/1000\n",
            "4/4 [==============================] - 0s 11ms/step - loss: 0.1895 - accuracy: 0.9619 - val_loss: 0.2192 - val_accuracy: 0.9778\n",
            "Epoch 447/1000\n",
            "4/4 [==============================] - 0s 12ms/step - loss: 0.1895 - accuracy: 0.9524 - val_loss: 0.2173 - val_accuracy: 0.9778\n",
            "Epoch 448/1000\n",
            "4/4 [==============================] - 0s 14ms/step - loss: 0.1887 - accuracy: 0.9619 - val_loss: 0.2142 - val_accuracy: 0.9778\n",
            "Epoch 449/1000\n",
            "4/4 [==============================] - 0s 14ms/step - loss: 0.1877 - accuracy: 0.9524 - val_loss: 0.2141 - val_accuracy: 0.9778\n",
            "Epoch 450/1000\n",
            "4/4 [==============================] - 0s 13ms/step - loss: 0.1870 - accuracy: 0.9524 - val_loss: 0.2125 - val_accuracy: 0.9778\n",
            "Epoch 451/1000\n",
            "4/4 [==============================] - 0s 12ms/step - loss: 0.1862 - accuracy: 0.9619 - val_loss: 0.2123 - val_accuracy: 0.9778\n",
            "Epoch 452/1000\n",
            "4/4 [==============================] - 0s 19ms/step - loss: 0.1853 - accuracy: 0.9619 - val_loss: 0.2088 - val_accuracy: 0.9778\n",
            "Epoch 453/1000\n",
            "4/4 [==============================] - 0s 12ms/step - loss: 0.1842 - accuracy: 0.9714 - val_loss: 0.2049 - val_accuracy: 0.9778\n",
            "Epoch 454/1000\n",
            "4/4 [==============================] - 0s 20ms/step - loss: 0.1835 - accuracy: 0.9714 - val_loss: 0.2027 - val_accuracy: 0.9778\n",
            "Epoch 455/1000\n",
            "4/4 [==============================] - 0s 13ms/step - loss: 0.1827 - accuracy: 0.9714 - val_loss: 0.2000 - val_accuracy: 0.9778\n",
            "Epoch 456/1000\n",
            "4/4 [==============================] - 0s 12ms/step - loss: 0.1822 - accuracy: 0.9714 - val_loss: 0.1987 - val_accuracy: 0.9778\n",
            "Epoch 457/1000\n",
            "4/4 [==============================] - 0s 13ms/step - loss: 0.1814 - accuracy: 0.9714 - val_loss: 0.2002 - val_accuracy: 0.9778\n",
            "Epoch 458/1000\n",
            "4/4 [==============================] - 0s 13ms/step - loss: 0.1806 - accuracy: 0.9714 - val_loss: 0.2026 - val_accuracy: 0.9778\n",
            "Epoch 459/1000\n",
            "4/4 [==============================] - 0s 13ms/step - loss: 0.1798 - accuracy: 0.9714 - val_loss: 0.2071 - val_accuracy: 0.9778\n",
            "Epoch 460/1000\n",
            "4/4 [==============================] - 0s 12ms/step - loss: 0.1800 - accuracy: 0.9524 - val_loss: 0.2085 - val_accuracy: 0.9778\n",
            "Epoch 461/1000\n",
            "4/4 [==============================] - 0s 12ms/step - loss: 0.1796 - accuracy: 0.9524 - val_loss: 0.2043 - val_accuracy: 0.9778\n",
            "Epoch 462/1000\n",
            "4/4 [==============================] - 0s 12ms/step - loss: 0.1778 - accuracy: 0.9714 - val_loss: 0.1982 - val_accuracy: 0.9778\n",
            "Epoch 463/1000\n",
            "4/4 [==============================] - 0s 12ms/step - loss: 0.1770 - accuracy: 0.9714 - val_loss: 0.1927 - val_accuracy: 0.9778\n",
            "Epoch 464/1000\n",
            "4/4 [==============================] - 0s 11ms/step - loss: 0.1770 - accuracy: 0.9619 - val_loss: 0.1903 - val_accuracy: 0.9778\n",
            "Epoch 465/1000\n",
            "4/4 [==============================] - 0s 13ms/step - loss: 0.1761 - accuracy: 0.9619 - val_loss: 0.1922 - val_accuracy: 0.9778\n",
            "Epoch 466/1000\n",
            "4/4 [==============================] - 0s 12ms/step - loss: 0.1749 - accuracy: 0.9714 - val_loss: 0.1943 - val_accuracy: 0.9778\n",
            "Epoch 467/1000\n",
            "4/4 [==============================] - 0s 12ms/step - loss: 0.1752 - accuracy: 0.9714 - val_loss: 0.1985 - val_accuracy: 0.9778\n",
            "Epoch 468/1000\n",
            "4/4 [==============================] - 0s 12ms/step - loss: 0.1739 - accuracy: 0.9714 - val_loss: 0.1955 - val_accuracy: 0.9778\n",
            "Epoch 469/1000\n",
            "4/4 [==============================] - 0s 12ms/step - loss: 0.1735 - accuracy: 0.9714 - val_loss: 0.1919 - val_accuracy: 0.9778\n",
            "Epoch 470/1000\n",
            "4/4 [==============================] - 0s 14ms/step - loss: 0.1724 - accuracy: 0.9714 - val_loss: 0.1910 - val_accuracy: 0.9778\n",
            "Epoch 471/1000\n",
            "4/4 [==============================] - 0s 12ms/step - loss: 0.1717 - accuracy: 0.9714 - val_loss: 0.1907 - val_accuracy: 0.9778\n",
            "Epoch 472/1000\n",
            "4/4 [==============================] - 0s 12ms/step - loss: 0.1709 - accuracy: 0.9714 - val_loss: 0.1882 - val_accuracy: 0.9778\n",
            "Epoch 473/1000\n",
            "4/4 [==============================] - 0s 12ms/step - loss: 0.1709 - accuracy: 0.9714 - val_loss: 0.1855 - val_accuracy: 0.9778\n",
            "Epoch 474/1000\n",
            "4/4 [==============================] - 0s 13ms/step - loss: 0.1700 - accuracy: 0.9619 - val_loss: 0.1849 - val_accuracy: 0.9778\n",
            "Epoch 475/1000\n",
            "4/4 [==============================] - 0s 17ms/step - loss: 0.1694 - accuracy: 0.9619 - val_loss: 0.1848 - val_accuracy: 0.9778\n",
            "Epoch 476/1000\n",
            "4/4 [==============================] - 0s 16ms/step - loss: 0.1687 - accuracy: 0.9619 - val_loss: 0.1848 - val_accuracy: 0.9778\n",
            "Epoch 477/1000\n",
            "4/4 [==============================] - 0s 16ms/step - loss: 0.1679 - accuracy: 0.9714 - val_loss: 0.1869 - val_accuracy: 0.9778\n",
            "Epoch 478/1000\n",
            "4/4 [==============================] - 0s 14ms/step - loss: 0.1677 - accuracy: 0.9714 - val_loss: 0.1857 - val_accuracy: 0.9778\n",
            "Epoch 479/1000\n",
            "4/4 [==============================] - 0s 13ms/step - loss: 0.1663 - accuracy: 0.9714 - val_loss: 0.1881 - val_accuracy: 0.9778\n",
            "Epoch 480/1000\n",
            "4/4 [==============================] - 0s 12ms/step - loss: 0.1659 - accuracy: 0.9714 - val_loss: 0.1898 - val_accuracy: 0.9778\n",
            "Epoch 481/1000\n",
            "4/4 [==============================] - 0s 12ms/step - loss: 0.1657 - accuracy: 0.9714 - val_loss: 0.1892 - val_accuracy: 0.9778\n",
            "Epoch 482/1000\n",
            "4/4 [==============================] - 0s 13ms/step - loss: 0.1648 - accuracy: 0.9714 - val_loss: 0.1847 - val_accuracy: 0.9778\n",
            "Epoch 483/1000\n",
            "4/4 [==============================] - 0s 14ms/step - loss: 0.1645 - accuracy: 0.9714 - val_loss: 0.1790 - val_accuracy: 0.9778\n",
            "Epoch 484/1000\n",
            "4/4 [==============================] - 0s 12ms/step - loss: 0.1637 - accuracy: 0.9619 - val_loss: 0.1782 - val_accuracy: 0.9778\n",
            "Epoch 485/1000\n",
            "4/4 [==============================] - 0s 12ms/step - loss: 0.1631 - accuracy: 0.9619 - val_loss: 0.1767 - val_accuracy: 0.9778\n",
            "Epoch 486/1000\n",
            "4/4 [==============================] - 0s 11ms/step - loss: 0.1627 - accuracy: 0.9619 - val_loss: 0.1765 - val_accuracy: 0.9778\n",
            "Epoch 487/1000\n",
            "4/4 [==============================] - 0s 12ms/step - loss: 0.1619 - accuracy: 0.9619 - val_loss: 0.1778 - val_accuracy: 0.9778\n",
            "Epoch 488/1000\n",
            "4/4 [==============================] - 0s 14ms/step - loss: 0.1610 - accuracy: 0.9619 - val_loss: 0.1780 - val_accuracy: 0.9778\n",
            "Epoch 489/1000\n",
            "4/4 [==============================] - 0s 12ms/step - loss: 0.1605 - accuracy: 0.9619 - val_loss: 0.1778 - val_accuracy: 0.9778\n",
            "Epoch 490/1000\n",
            "4/4 [==============================] - 0s 13ms/step - loss: 0.1604 - accuracy: 0.9714 - val_loss: 0.1795 - val_accuracy: 0.9778\n",
            "Epoch 491/1000\n",
            "4/4 [==============================] - 0s 14ms/step - loss: 0.1591 - accuracy: 0.9714 - val_loss: 0.1766 - val_accuracy: 0.9778\n",
            "Epoch 492/1000\n",
            "4/4 [==============================] - 0s 13ms/step - loss: 0.1587 - accuracy: 0.9619 - val_loss: 0.1742 - val_accuracy: 0.9778\n",
            "Epoch 493/1000\n",
            "4/4 [==============================] - 0s 13ms/step - loss: 0.1582 - accuracy: 0.9619 - val_loss: 0.1732 - val_accuracy: 0.9778\n",
            "Epoch 494/1000\n",
            "4/4 [==============================] - 0s 13ms/step - loss: 0.1579 - accuracy: 0.9619 - val_loss: 0.1711 - val_accuracy: 0.9778\n",
            "Epoch 495/1000\n",
            "4/4 [==============================] - 0s 12ms/step - loss: 0.1573 - accuracy: 0.9619 - val_loss: 0.1709 - val_accuracy: 0.9778\n",
            "Epoch 496/1000\n",
            "4/4 [==============================] - 0s 14ms/step - loss: 0.1567 - accuracy: 0.9619 - val_loss: 0.1712 - val_accuracy: 0.9778\n",
            "Epoch 497/1000\n",
            "4/4 [==============================] - 0s 13ms/step - loss: 0.1567 - accuracy: 0.9619 - val_loss: 0.1731 - val_accuracy: 0.9778\n",
            "Epoch 498/1000\n",
            "4/4 [==============================] - 0s 13ms/step - loss: 0.1553 - accuracy: 0.9714 - val_loss: 0.1714 - val_accuracy: 0.9778\n",
            "Epoch 499/1000\n",
            "4/4 [==============================] - 0s 14ms/step - loss: 0.1546 - accuracy: 0.9714 - val_loss: 0.1722 - val_accuracy: 0.9778\n",
            "Epoch 500/1000\n",
            "4/4 [==============================] - 0s 14ms/step - loss: 0.1542 - accuracy: 0.9714 - val_loss: 0.1719 - val_accuracy: 0.9778\n",
            "Epoch 501/1000\n",
            "4/4 [==============================] - 0s 13ms/step - loss: 0.1534 - accuracy: 0.9714 - val_loss: 0.1739 - val_accuracy: 0.9778\n",
            "Epoch 502/1000\n",
            "4/4 [==============================] - 0s 13ms/step - loss: 0.1536 - accuracy: 0.9714 - val_loss: 0.1743 - val_accuracy: 0.9778\n",
            "Epoch 503/1000\n",
            "4/4 [==============================] - 0s 12ms/step - loss: 0.1531 - accuracy: 0.9714 - val_loss: 0.1756 - val_accuracy: 0.9778\n",
            "Epoch 504/1000\n",
            "4/4 [==============================] - 0s 13ms/step - loss: 0.1532 - accuracy: 0.9714 - val_loss: 0.1761 - val_accuracy: 0.9778\n",
            "Epoch 505/1000\n",
            "4/4 [==============================] - 0s 12ms/step - loss: 0.1521 - accuracy: 0.9714 - val_loss: 0.1703 - val_accuracy: 0.9778\n",
            "Epoch 506/1000\n",
            "4/4 [==============================] - 0s 13ms/step - loss: 0.1511 - accuracy: 0.9714 - val_loss: 0.1697 - val_accuracy: 0.9778\n",
            "Epoch 507/1000\n",
            "4/4 [==============================] - 0s 13ms/step - loss: 0.1507 - accuracy: 0.9714 - val_loss: 0.1721 - val_accuracy: 0.9778\n",
            "Epoch 508/1000\n",
            "4/4 [==============================] - 0s 13ms/step - loss: 0.1505 - accuracy: 0.9714 - val_loss: 0.1740 - val_accuracy: 0.9778\n",
            "Epoch 509/1000\n",
            "4/4 [==============================] - 0s 16ms/step - loss: 0.1503 - accuracy: 0.9619 - val_loss: 0.1739 - val_accuracy: 0.9778\n",
            "Epoch 510/1000\n",
            "4/4 [==============================] - 0s 11ms/step - loss: 0.1501 - accuracy: 0.9619 - val_loss: 0.1730 - val_accuracy: 0.9778\n",
            "Epoch 511/1000\n",
            "4/4 [==============================] - 0s 12ms/step - loss: 0.1489 - accuracy: 0.9619 - val_loss: 0.1658 - val_accuracy: 0.9778\n",
            "Epoch 512/1000\n",
            "4/4 [==============================] - 0s 13ms/step - loss: 0.1484 - accuracy: 0.9619 - val_loss: 0.1605 - val_accuracy: 0.9778\n",
            "Epoch 513/1000\n",
            "4/4 [==============================] - 0s 13ms/step - loss: 0.1478 - accuracy: 0.9619 - val_loss: 0.1578 - val_accuracy: 0.9778\n",
            "Epoch 514/1000\n",
            "4/4 [==============================] - 0s 15ms/step - loss: 0.1484 - accuracy: 0.9714 - val_loss: 0.1569 - val_accuracy: 0.9778\n",
            "Epoch 515/1000\n",
            "4/4 [==============================] - 0s 13ms/step - loss: 0.1478 - accuracy: 0.9619 - val_loss: 0.1588 - val_accuracy: 0.9778\n",
            "Epoch 516/1000\n",
            "4/4 [==============================] - 0s 12ms/step - loss: 0.1462 - accuracy: 0.9619 - val_loss: 0.1618 - val_accuracy: 0.9778\n",
            "Epoch 517/1000\n",
            "4/4 [==============================] - 0s 17ms/step - loss: 0.1460 - accuracy: 0.9619 - val_loss: 0.1646 - val_accuracy: 0.9778\n",
            "Epoch 518/1000\n",
            "4/4 [==============================] - 0s 12ms/step - loss: 0.1451 - accuracy: 0.9714 - val_loss: 0.1609 - val_accuracy: 0.9778\n",
            "Epoch 519/1000\n",
            "4/4 [==============================] - 0s 13ms/step - loss: 0.1445 - accuracy: 0.9619 - val_loss: 0.1606 - val_accuracy: 0.9778\n",
            "Epoch 520/1000\n",
            "4/4 [==============================] - 0s 13ms/step - loss: 0.1439 - accuracy: 0.9714 - val_loss: 0.1615 - val_accuracy: 0.9778\n",
            "Epoch 521/1000\n",
            "4/4 [==============================] - 0s 12ms/step - loss: 0.1435 - accuracy: 0.9714 - val_loss: 0.1623 - val_accuracy: 0.9778\n",
            "Epoch 522/1000\n",
            "4/4 [==============================] - 0s 12ms/step - loss: 0.1432 - accuracy: 0.9714 - val_loss: 0.1622 - val_accuracy: 0.9778\n",
            "Epoch 523/1000\n",
            "4/4 [==============================] - 0s 14ms/step - loss: 0.1429 - accuracy: 0.9714 - val_loss: 0.1623 - val_accuracy: 0.9778\n",
            "Epoch 524/1000\n",
            "4/4 [==============================] - 0s 18ms/step - loss: 0.1428 - accuracy: 0.9714 - val_loss: 0.1605 - val_accuracy: 0.9778\n",
            "Epoch 525/1000\n",
            "4/4 [==============================] - 0s 12ms/step - loss: 0.1420 - accuracy: 0.9714 - val_loss: 0.1618 - val_accuracy: 0.9778\n",
            "Epoch 526/1000\n",
            "4/4 [==============================] - 0s 12ms/step - loss: 0.1417 - accuracy: 0.9714 - val_loss: 0.1615 - val_accuracy: 0.9778\n",
            "Epoch 527/1000\n",
            "4/4 [==============================] - 0s 19ms/step - loss: 0.1408 - accuracy: 0.9714 - val_loss: 0.1578 - val_accuracy: 0.9778\n",
            "Epoch 528/1000\n",
            "4/4 [==============================] - 0s 11ms/step - loss: 0.1409 - accuracy: 0.9619 - val_loss: 0.1517 - val_accuracy: 0.9778\n",
            "Epoch 529/1000\n",
            "4/4 [==============================] - 0s 11ms/step - loss: 0.1410 - accuracy: 0.9619 - val_loss: 0.1496 - val_accuracy: 0.9778\n",
            "Epoch 530/1000\n",
            "4/4 [==============================] - 0s 13ms/step - loss: 0.1407 - accuracy: 0.9714 - val_loss: 0.1514 - val_accuracy: 0.9778\n",
            "Epoch 531/1000\n",
            "4/4 [==============================] - 0s 12ms/step - loss: 0.1393 - accuracy: 0.9619 - val_loss: 0.1517 - val_accuracy: 0.9778\n",
            "Epoch 532/1000\n",
            "4/4 [==============================] - 0s 14ms/step - loss: 0.1386 - accuracy: 0.9619 - val_loss: 0.1533 - val_accuracy: 0.9778\n",
            "Epoch 533/1000\n",
            "4/4 [==============================] - 0s 18ms/step - loss: 0.1380 - accuracy: 0.9619 - val_loss: 0.1547 - val_accuracy: 0.9778\n",
            "Epoch 534/1000\n",
            "4/4 [==============================] - 0s 13ms/step - loss: 0.1376 - accuracy: 0.9714 - val_loss: 0.1597 - val_accuracy: 0.9778\n",
            "Epoch 535/1000\n",
            "4/4 [==============================] - 0s 14ms/step - loss: 0.1390 - accuracy: 0.9619 - val_loss: 0.1638 - val_accuracy: 0.9778\n",
            "Epoch 536/1000\n",
            "4/4 [==============================] - 0s 13ms/step - loss: 0.1384 - accuracy: 0.9619 - val_loss: 0.1593 - val_accuracy: 0.9778\n",
            "Epoch 537/1000\n",
            "4/4 [==============================] - 0s 16ms/step - loss: 0.1373 - accuracy: 0.9619 - val_loss: 0.1539 - val_accuracy: 0.9778\n",
            "Epoch 538/1000\n",
            "4/4 [==============================] - 0s 13ms/step - loss: 0.1361 - accuracy: 0.9714 - val_loss: 0.1517 - val_accuracy: 0.9778\n",
            "Epoch 539/1000\n",
            "4/4 [==============================] - 0s 14ms/step - loss: 0.1364 - accuracy: 0.9714 - val_loss: 0.1524 - val_accuracy: 0.9778\n",
            "Epoch 540/1000\n",
            "4/4 [==============================] - 0s 12ms/step - loss: 0.1355 - accuracy: 0.9619 - val_loss: 0.1486 - val_accuracy: 0.9778\n",
            "Epoch 541/1000\n",
            "4/4 [==============================] - 0s 12ms/step - loss: 0.1347 - accuracy: 0.9619 - val_loss: 0.1486 - val_accuracy: 0.9778\n",
            "Epoch 542/1000\n",
            "4/4 [==============================] - 0s 12ms/step - loss: 0.1344 - accuracy: 0.9619 - val_loss: 0.1484 - val_accuracy: 0.9778\n",
            "Epoch 543/1000\n",
            "4/4 [==============================] - 0s 14ms/step - loss: 0.1340 - accuracy: 0.9619 - val_loss: 0.1470 - val_accuracy: 0.9778\n",
            "Epoch 544/1000\n",
            "4/4 [==============================] - 0s 13ms/step - loss: 0.1338 - accuracy: 0.9619 - val_loss: 0.1467 - val_accuracy: 0.9778\n",
            "Epoch 545/1000\n",
            "4/4 [==============================] - 0s 13ms/step - loss: 0.1341 - accuracy: 0.9619 - val_loss: 0.1488 - val_accuracy: 0.9778\n",
            "Epoch 546/1000\n",
            "4/4 [==============================] - 0s 14ms/step - loss: 0.1328 - accuracy: 0.9619 - val_loss: 0.1452 - val_accuracy: 0.9778\n",
            "Epoch 547/1000\n",
            "4/4 [==============================] - 0s 12ms/step - loss: 0.1325 - accuracy: 0.9619 - val_loss: 0.1434 - val_accuracy: 0.9778\n",
            "Epoch 548/1000\n",
            "4/4 [==============================] - 0s 12ms/step - loss: 0.1322 - accuracy: 0.9619 - val_loss: 0.1423 - val_accuracy: 0.9778\n",
            "Epoch 549/1000\n",
            "4/4 [==============================] - 0s 14ms/step - loss: 0.1321 - accuracy: 0.9714 - val_loss: 0.1421 - val_accuracy: 0.9778\n",
            "Epoch 550/1000\n",
            "4/4 [==============================] - 0s 12ms/step - loss: 0.1313 - accuracy: 0.9619 - val_loss: 0.1434 - val_accuracy: 0.9778\n",
            "Epoch 551/1000\n",
            "4/4 [==============================] - 0s 16ms/step - loss: 0.1313 - accuracy: 0.9619 - val_loss: 0.1471 - val_accuracy: 0.9778\n",
            "Epoch 552/1000\n",
            "4/4 [==============================] - 0s 12ms/step - loss: 0.1304 - accuracy: 0.9714 - val_loss: 0.1478 - val_accuracy: 0.9778\n",
            "Epoch 553/1000\n",
            "4/4 [==============================] - 0s 14ms/step - loss: 0.1301 - accuracy: 0.9714 - val_loss: 0.1450 - val_accuracy: 0.9778\n",
            "Epoch 554/1000\n",
            "4/4 [==============================] - 0s 13ms/step - loss: 0.1295 - accuracy: 0.9619 - val_loss: 0.1392 - val_accuracy: 0.9778\n",
            "Epoch 555/1000\n",
            "4/4 [==============================] - 0s 13ms/step - loss: 0.1309 - accuracy: 0.9714 - val_loss: 0.1361 - val_accuracy: 0.9778\n",
            "Epoch 556/1000\n",
            "4/4 [==============================] - 0s 12ms/step - loss: 0.1318 - accuracy: 0.9714 - val_loss: 0.1354 - val_accuracy: 0.9778\n",
            "Epoch 557/1000\n",
            "4/4 [==============================] - 0s 13ms/step - loss: 0.1314 - accuracy: 0.9714 - val_loss: 0.1374 - val_accuracy: 0.9778\n",
            "Epoch 558/1000\n",
            "4/4 [==============================] - 0s 18ms/step - loss: 0.1284 - accuracy: 0.9714 - val_loss: 0.1399 - val_accuracy: 0.9778\n",
            "Epoch 559/1000\n",
            "4/4 [==============================] - 0s 12ms/step - loss: 0.1271 - accuracy: 0.9619 - val_loss: 0.1479 - val_accuracy: 0.9778\n",
            "Epoch 560/1000\n",
            "4/4 [==============================] - 0s 12ms/step - loss: 0.1281 - accuracy: 0.9619 - val_loss: 0.1528 - val_accuracy: 0.9778\n",
            "Epoch 561/1000\n",
            "4/4 [==============================] - 0s 12ms/step - loss: 0.1299 - accuracy: 0.9619 - val_loss: 0.1530 - val_accuracy: 0.9778\n",
            "Epoch 562/1000\n",
            "4/4 [==============================] - 0s 13ms/step - loss: 0.1282 - accuracy: 0.9619 - val_loss: 0.1438 - val_accuracy: 0.9778\n",
            "Epoch 563/1000\n",
            "4/4 [==============================] - 0s 12ms/step - loss: 0.1275 - accuracy: 0.9619 - val_loss: 0.1366 - val_accuracy: 0.9778\n",
            "Epoch 564/1000\n",
            "4/4 [==============================] - 0s 15ms/step - loss: 0.1260 - accuracy: 0.9714 - val_loss: 0.1344 - val_accuracy: 0.9778\n",
            "Epoch 565/1000\n",
            "4/4 [==============================] - 0s 15ms/step - loss: 0.1275 - accuracy: 0.9714 - val_loss: 0.1326 - val_accuracy: 0.9778\n",
            "Epoch 566/1000\n",
            "4/4 [==============================] - 0s 13ms/step - loss: 0.1272 - accuracy: 0.9714 - val_loss: 0.1330 - val_accuracy: 0.9778\n",
            "Epoch 567/1000\n",
            "4/4 [==============================] - 0s 14ms/step - loss: 0.1259 - accuracy: 0.9714 - val_loss: 0.1356 - val_accuracy: 0.9778\n",
            "Epoch 568/1000\n",
            "4/4 [==============================] - 0s 12ms/step - loss: 0.1244 - accuracy: 0.9619 - val_loss: 0.1373 - val_accuracy: 0.9778\n",
            "Epoch 569/1000\n",
            "4/4 [==============================] - 0s 12ms/step - loss: 0.1238 - accuracy: 0.9619 - val_loss: 0.1394 - val_accuracy: 0.9778\n",
            "Epoch 570/1000\n",
            "4/4 [==============================] - 0s 13ms/step - loss: 0.1241 - accuracy: 0.9714 - val_loss: 0.1436 - val_accuracy: 0.9778\n",
            "Epoch 571/1000\n",
            "4/4 [==============================] - 0s 14ms/step - loss: 0.1245 - accuracy: 0.9619 - val_loss: 0.1456 - val_accuracy: 0.9778\n",
            "Epoch 572/1000\n",
            "4/4 [==============================] - 0s 13ms/step - loss: 0.1242 - accuracy: 0.9619 - val_loss: 0.1418 - val_accuracy: 0.9778\n",
            "Epoch 573/1000\n",
            "4/4 [==============================] - 0s 14ms/step - loss: 0.1231 - accuracy: 0.9714 - val_loss: 0.1363 - val_accuracy: 0.9778\n",
            "Epoch 574/1000\n",
            "4/4 [==============================] - 0s 15ms/step - loss: 0.1219 - accuracy: 0.9619 - val_loss: 0.1329 - val_accuracy: 0.9778\n",
            "Epoch 575/1000\n",
            "4/4 [==============================] - 0s 15ms/step - loss: 0.1228 - accuracy: 0.9714 - val_loss: 0.1299 - val_accuracy: 0.9778\n",
            "Epoch 576/1000\n",
            "4/4 [==============================] - 0s 14ms/step - loss: 0.1228 - accuracy: 0.9714 - val_loss: 0.1298 - val_accuracy: 0.9778\n",
            "Epoch 577/1000\n",
            "4/4 [==============================] - 0s 13ms/step - loss: 0.1225 - accuracy: 0.9714 - val_loss: 0.1307 - val_accuracy: 0.9778\n",
            "Epoch 578/1000\n",
            "4/4 [==============================] - 0s 17ms/step - loss: 0.1210 - accuracy: 0.9714 - val_loss: 0.1321 - val_accuracy: 0.9778\n",
            "Epoch 579/1000\n",
            "4/4 [==============================] - 0s 15ms/step - loss: 0.1217 - accuracy: 0.9619 - val_loss: 0.1345 - val_accuracy: 0.9778\n",
            "Epoch 580/1000\n",
            "4/4 [==============================] - 0s 14ms/step - loss: 0.1205 - accuracy: 0.9619 - val_loss: 0.1321 - val_accuracy: 0.9778\n",
            "Epoch 581/1000\n",
            "4/4 [==============================] - 0s 13ms/step - loss: 0.1199 - accuracy: 0.9619 - val_loss: 0.1317 - val_accuracy: 0.9778\n",
            "Epoch 582/1000\n",
            "4/4 [==============================] - 0s 14ms/step - loss: 0.1195 - accuracy: 0.9619 - val_loss: 0.1321 - val_accuracy: 0.9778\n",
            "Epoch 583/1000\n",
            "4/4 [==============================] - 0s 14ms/step - loss: 0.1194 - accuracy: 0.9619 - val_loss: 0.1326 - val_accuracy: 0.9778\n",
            "Epoch 584/1000\n",
            "4/4 [==============================] - 0s 13ms/step - loss: 0.1190 - accuracy: 0.9619 - val_loss: 0.1327 - val_accuracy: 0.9778\n",
            "Epoch 585/1000\n",
            "4/4 [==============================] - 0s 14ms/step - loss: 0.1185 - accuracy: 0.9619 - val_loss: 0.1353 - val_accuracy: 0.9778\n",
            "Epoch 586/1000\n",
            "4/4 [==============================] - 0s 19ms/step - loss: 0.1193 - accuracy: 0.9714 - val_loss: 0.1378 - val_accuracy: 0.9778\n",
            "Epoch 587/1000\n",
            "4/4 [==============================] - 0s 13ms/step - loss: 0.1190 - accuracy: 0.9619 - val_loss: 0.1373 - val_accuracy: 0.9778\n",
            "Epoch 588/1000\n",
            "4/4 [==============================] - 0s 13ms/step - loss: 0.1185 - accuracy: 0.9619 - val_loss: 0.1375 - val_accuracy: 0.9778\n",
            "Epoch 589/1000\n",
            "4/4 [==============================] - 0s 18ms/step - loss: 0.1185 - accuracy: 0.9619 - val_loss: 0.1352 - val_accuracy: 0.9778\n",
            "Epoch 590/1000\n",
            "4/4 [==============================] - 0s 13ms/step - loss: 0.1176 - accuracy: 0.9714 - val_loss: 0.1326 - val_accuracy: 0.9778\n",
            "Epoch 591/1000\n",
            "4/4 [==============================] - 0s 16ms/step - loss: 0.1169 - accuracy: 0.9619 - val_loss: 0.1305 - val_accuracy: 0.9778\n",
            "Epoch 592/1000\n",
            "4/4 [==============================] - 0s 19ms/step - loss: 0.1165 - accuracy: 0.9619 - val_loss: 0.1306 - val_accuracy: 0.9778\n",
            "Epoch 593/1000\n",
            "4/4 [==============================] - 0s 15ms/step - loss: 0.1161 - accuracy: 0.9619 - val_loss: 0.1314 - val_accuracy: 0.9778\n",
            "Epoch 594/1000\n",
            "4/4 [==============================] - 0s 15ms/step - loss: 0.1161 - accuracy: 0.9714 - val_loss: 0.1316 - val_accuracy: 0.9778\n",
            "Epoch 595/1000\n",
            "4/4 [==============================] - 0s 13ms/step - loss: 0.1157 - accuracy: 0.9714 - val_loss: 0.1301 - val_accuracy: 0.9778\n",
            "Epoch 596/1000\n",
            "4/4 [==============================] - 0s 13ms/step - loss: 0.1155 - accuracy: 0.9619 - val_loss: 0.1298 - val_accuracy: 0.9778\n",
            "Epoch 597/1000\n",
            "4/4 [==============================] - 0s 19ms/step - loss: 0.1152 - accuracy: 0.9714 - val_loss: 0.1323 - val_accuracy: 0.9778\n",
            "Epoch 598/1000\n",
            "4/4 [==============================] - 0s 14ms/step - loss: 0.1160 - accuracy: 0.9619 - val_loss: 0.1347 - val_accuracy: 0.9778\n",
            "Epoch 599/1000\n",
            "4/4 [==============================] - 0s 13ms/step - loss: 0.1152 - accuracy: 0.9714 - val_loss: 0.1300 - val_accuracy: 0.9778\n",
            "Epoch 600/1000\n",
            "4/4 [==============================] - 0s 14ms/step - loss: 0.1149 - accuracy: 0.9714 - val_loss: 0.1253 - val_accuracy: 0.9778\n",
            "Epoch 601/1000\n",
            "4/4 [==============================] - 0s 12ms/step - loss: 0.1138 - accuracy: 0.9619 - val_loss: 0.1247 - val_accuracy: 0.9778\n",
            "Epoch 602/1000\n",
            "4/4 [==============================] - 0s 12ms/step - loss: 0.1135 - accuracy: 0.9619 - val_loss: 0.1260 - val_accuracy: 0.9778\n",
            "Epoch 603/1000\n",
            "4/4 [==============================] - 0s 12ms/step - loss: 0.1135 - accuracy: 0.9619 - val_loss: 0.1290 - val_accuracy: 0.9778\n",
            "Epoch 604/1000\n",
            "4/4 [==============================] - 0s 13ms/step - loss: 0.1138 - accuracy: 0.9619 - val_loss: 0.1325 - val_accuracy: 0.9778\n",
            "Epoch 605/1000\n",
            "4/4 [==============================] - 0s 12ms/step - loss: 0.1138 - accuracy: 0.9619 - val_loss: 0.1299 - val_accuracy: 0.9778\n",
            "Epoch 606/1000\n",
            "4/4 [==============================] - 0s 14ms/step - loss: 0.1126 - accuracy: 0.9714 - val_loss: 0.1263 - val_accuracy: 0.9778\n",
            "Epoch 607/1000\n",
            "4/4 [==============================] - 0s 12ms/step - loss: 0.1121 - accuracy: 0.9619 - val_loss: 0.1229 - val_accuracy: 0.9778\n",
            "Epoch 608/1000\n",
            "4/4 [==============================] - 0s 13ms/step - loss: 0.1117 - accuracy: 0.9619 - val_loss: 0.1215 - val_accuracy: 0.9778\n",
            "Epoch 609/1000\n",
            "4/4 [==============================] - 0s 13ms/step - loss: 0.1117 - accuracy: 0.9619 - val_loss: 0.1214 - val_accuracy: 0.9778\n",
            "Epoch 610/1000\n",
            "4/4 [==============================] - 0s 14ms/step - loss: 0.1118 - accuracy: 0.9714 - val_loss: 0.1203 - val_accuracy: 0.9778\n",
            "Epoch 611/1000\n",
            "4/4 [==============================] - 0s 15ms/step - loss: 0.1116 - accuracy: 0.9714 - val_loss: 0.1223 - val_accuracy: 0.9778\n",
            "Epoch 612/1000\n",
            "4/4 [==============================] - 0s 12ms/step - loss: 0.1106 - accuracy: 0.9619 - val_loss: 0.1233 - val_accuracy: 0.9778\n",
            "Epoch 613/1000\n",
            "4/4 [==============================] - 0s 15ms/step - loss: 0.1103 - accuracy: 0.9619 - val_loss: 0.1243 - val_accuracy: 0.9778\n",
            "Epoch 614/1000\n",
            "4/4 [==============================] - 0s 12ms/step - loss: 0.1103 - accuracy: 0.9714 - val_loss: 0.1276 - val_accuracy: 0.9778\n",
            "Epoch 615/1000\n",
            "4/4 [==============================] - 0s 12ms/step - loss: 0.1116 - accuracy: 0.9619 - val_loss: 0.1340 - val_accuracy: 0.9778\n",
            "Epoch 616/1000\n",
            "4/4 [==============================] - 0s 13ms/step - loss: 0.1127 - accuracy: 0.9619 - val_loss: 0.1339 - val_accuracy: 0.9778\n",
            "Epoch 617/1000\n",
            "4/4 [==============================] - 0s 12ms/step - loss: 0.1123 - accuracy: 0.9619 - val_loss: 0.1306 - val_accuracy: 0.9778\n",
            "Epoch 618/1000\n",
            "4/4 [==============================] - 0s 17ms/step - loss: 0.1107 - accuracy: 0.9619 - val_loss: 0.1241 - val_accuracy: 0.9778\n",
            "Epoch 619/1000\n",
            "4/4 [==============================] - 0s 20ms/step - loss: 0.1089 - accuracy: 0.9619 - val_loss: 0.1199 - val_accuracy: 0.9778\n",
            "Epoch 620/1000\n",
            "4/4 [==============================] - 0s 13ms/step - loss: 0.1084 - accuracy: 0.9619 - val_loss: 0.1179 - val_accuracy: 0.9778\n",
            "Epoch 621/1000\n",
            "4/4 [==============================] - 0s 13ms/step - loss: 0.1087 - accuracy: 0.9714 - val_loss: 0.1170 - val_accuracy: 0.9778\n",
            "Epoch 622/1000\n",
            "4/4 [==============================] - 0s 13ms/step - loss: 0.1083 - accuracy: 0.9714 - val_loss: 0.1170 - val_accuracy: 0.9778\n",
            "Epoch 623/1000\n",
            "4/4 [==============================] - 0s 13ms/step - loss: 0.1081 - accuracy: 0.9714 - val_loss: 0.1155 - val_accuracy: 0.9778\n",
            "Epoch 624/1000\n",
            "4/4 [==============================] - 0s 14ms/step - loss: 0.1079 - accuracy: 0.9714 - val_loss: 0.1169 - val_accuracy: 0.9778\n",
            "Epoch 625/1000\n",
            "4/4 [==============================] - 0s 13ms/step - loss: 0.1064 - accuracy: 0.9714 - val_loss: 0.1221 - val_accuracy: 0.9778\n",
            "Epoch 626/1000\n",
            "4/4 [==============================] - 0s 16ms/step - loss: 0.1084 - accuracy: 0.9619 - val_loss: 0.1297 - val_accuracy: 0.9778\n",
            "Epoch 627/1000\n",
            "4/4 [==============================] - 0s 15ms/step - loss: 0.1099 - accuracy: 0.9619 - val_loss: 0.1289 - val_accuracy: 0.9778\n",
            "Epoch 628/1000\n",
            "4/4 [==============================] - 0s 13ms/step - loss: 0.1106 - accuracy: 0.9619 - val_loss: 0.1323 - val_accuracy: 0.9778\n",
            "Epoch 629/1000\n",
            "4/4 [==============================] - 0s 14ms/step - loss: 0.1094 - accuracy: 0.9619 - val_loss: 0.1237 - val_accuracy: 0.9778\n",
            "Epoch 630/1000\n",
            "4/4 [==============================] - 0s 13ms/step - loss: 0.1061 - accuracy: 0.9714 - val_loss: 0.1162 - val_accuracy: 0.9778\n",
            "Epoch 631/1000\n",
            "4/4 [==============================] - 0s 14ms/step - loss: 0.1053 - accuracy: 0.9714 - val_loss: 0.1121 - val_accuracy: 0.9778\n",
            "Epoch 632/1000\n",
            "4/4 [==============================] - 0s 12ms/step - loss: 0.1078 - accuracy: 0.9714 - val_loss: 0.1103 - val_accuracy: 0.9778\n",
            "Epoch 633/1000\n",
            "4/4 [==============================] - 0s 14ms/step - loss: 0.1086 - accuracy: 0.9714 - val_loss: 0.1102 - val_accuracy: 0.9778\n",
            "Epoch 634/1000\n",
            "4/4 [==============================] - 0s 13ms/step - loss: 0.1078 - accuracy: 0.9714 - val_loss: 0.1103 - val_accuracy: 0.9778\n",
            "Epoch 635/1000\n",
            "4/4 [==============================] - 0s 14ms/step - loss: 0.1067 - accuracy: 0.9714 - val_loss: 0.1117 - val_accuracy: 0.9778\n",
            "Epoch 636/1000\n",
            "4/4 [==============================] - 0s 14ms/step - loss: 0.1051 - accuracy: 0.9714 - val_loss: 0.1143 - val_accuracy: 0.9778\n",
            "Epoch 637/1000\n",
            "4/4 [==============================] - 0s 14ms/step - loss: 0.1053 - accuracy: 0.9619 - val_loss: 0.1184 - val_accuracy: 0.9778\n",
            "Epoch 638/1000\n",
            "4/4 [==============================] - 0s 14ms/step - loss: 0.1047 - accuracy: 0.9619 - val_loss: 0.1191 - val_accuracy: 0.9778\n",
            "Epoch 639/1000\n",
            "4/4 [==============================] - 0s 16ms/step - loss: 0.1047 - accuracy: 0.9619 - val_loss: 0.1198 - val_accuracy: 0.9778\n",
            "Epoch 640/1000\n",
            "4/4 [==============================] - 0s 14ms/step - loss: 0.1044 - accuracy: 0.9619 - val_loss: 0.1185 - val_accuracy: 0.9778\n",
            "Epoch 641/1000\n",
            "4/4 [==============================] - 0s 14ms/step - loss: 0.1044 - accuracy: 0.9619 - val_loss: 0.1180 - val_accuracy: 0.9778\n",
            "Epoch 642/1000\n",
            "4/4 [==============================] - 0s 14ms/step - loss: 0.1036 - accuracy: 0.9714 - val_loss: 0.1155 - val_accuracy: 0.9778\n",
            "Epoch 643/1000\n",
            "4/4 [==============================] - 0s 14ms/step - loss: 0.1036 - accuracy: 0.9619 - val_loss: 0.1137 - val_accuracy: 0.9778\n",
            "Epoch 644/1000\n",
            "4/4 [==============================] - 0s 13ms/step - loss: 0.1027 - accuracy: 0.9619 - val_loss: 0.1156 - val_accuracy: 0.9778\n",
            "Epoch 645/1000\n",
            "4/4 [==============================] - 0s 14ms/step - loss: 0.1037 - accuracy: 0.9619 - val_loss: 0.1191 - val_accuracy: 0.9778\n",
            "Epoch 646/1000\n",
            "4/4 [==============================] - 0s 19ms/step - loss: 0.1034 - accuracy: 0.9619 - val_loss: 0.1167 - val_accuracy: 0.9778\n",
            "Epoch 647/1000\n",
            "4/4 [==============================] - 0s 14ms/step - loss: 0.1025 - accuracy: 0.9619 - val_loss: 0.1135 - val_accuracy: 0.9778\n",
            "Epoch 648/1000\n",
            "4/4 [==============================] - 0s 14ms/step - loss: 0.1019 - accuracy: 0.9619 - val_loss: 0.1119 - val_accuracy: 0.9778\n",
            "Epoch 649/1000\n",
            "4/4 [==============================] - 0s 14ms/step - loss: 0.1018 - accuracy: 0.9714 - val_loss: 0.1102 - val_accuracy: 0.9778\n",
            "Epoch 650/1000\n",
            "4/4 [==============================] - 0s 14ms/step - loss: 0.1014 - accuracy: 0.9714 - val_loss: 0.1078 - val_accuracy: 0.9778\n",
            "Epoch 651/1000\n",
            "4/4 [==============================] - 0s 13ms/step - loss: 0.1021 - accuracy: 0.9714 - val_loss: 0.1071 - val_accuracy: 0.9778\n",
            "Epoch 652/1000\n",
            "4/4 [==============================] - 0s 15ms/step - loss: 0.1022 - accuracy: 0.9714 - val_loss: 0.1073 - val_accuracy: 0.9778\n",
            "Epoch 653/1000\n",
            "4/4 [==============================] - 0s 20ms/step - loss: 0.1010 - accuracy: 0.9714 - val_loss: 0.1101 - val_accuracy: 0.9778\n",
            "Epoch 654/1000\n",
            "4/4 [==============================] - 0s 19ms/step - loss: 0.1004 - accuracy: 0.9714 - val_loss: 0.1137 - val_accuracy: 0.9778\n",
            "Epoch 655/1000\n",
            "4/4 [==============================] - 0s 14ms/step - loss: 0.1014 - accuracy: 0.9619 - val_loss: 0.1135 - val_accuracy: 0.9778\n",
            "Epoch 656/1000\n",
            "4/4 [==============================] - 0s 17ms/step - loss: 0.1005 - accuracy: 0.9714 - val_loss: 0.1178 - val_accuracy: 0.9778\n",
            "Epoch 657/1000\n",
            "4/4 [==============================] - 0s 13ms/step - loss: 0.1019 - accuracy: 0.9619 - val_loss: 0.1193 - val_accuracy: 0.9778\n",
            "Epoch 658/1000\n",
            "4/4 [==============================] - 0s 13ms/step - loss: 0.1015 - accuracy: 0.9619 - val_loss: 0.1149 - val_accuracy: 0.9778\n",
            "Epoch 659/1000\n",
            "4/4 [==============================] - 0s 14ms/step - loss: 0.1022 - accuracy: 0.9619 - val_loss: 0.1100 - val_accuracy: 0.9778\n",
            "Epoch 660/1000\n",
            "4/4 [==============================] - 0s 15ms/step - loss: 0.0995 - accuracy: 0.9619 - val_loss: 0.1098 - val_accuracy: 0.9778\n",
            "Epoch 661/1000\n",
            "4/4 [==============================] - 0s 13ms/step - loss: 0.0992 - accuracy: 0.9619 - val_loss: 0.1102 - val_accuracy: 0.9778\n",
            "Epoch 662/1000\n",
            "4/4 [==============================] - 0s 14ms/step - loss: 0.0991 - accuracy: 0.9619 - val_loss: 0.1096 - val_accuracy: 0.9778\n",
            "Epoch 663/1000\n",
            "4/4 [==============================] - 0s 14ms/step - loss: 0.0992 - accuracy: 0.9619 - val_loss: 0.1070 - val_accuracy: 0.9778\n",
            "Epoch 664/1000\n",
            "4/4 [==============================] - 0s 14ms/step - loss: 0.0990 - accuracy: 0.9714 - val_loss: 0.1063 - val_accuracy: 0.9778\n",
            "Epoch 665/1000\n",
            "4/4 [==============================] - 0s 13ms/step - loss: 0.0984 - accuracy: 0.9714 - val_loss: 0.1072 - val_accuracy: 0.9778\n",
            "Epoch 666/1000\n",
            "4/4 [==============================] - 0s 13ms/step - loss: 0.0981 - accuracy: 0.9714 - val_loss: 0.1078 - val_accuracy: 0.9778\n",
            "Epoch 667/1000\n",
            "4/4 [==============================] - 0s 14ms/step - loss: 0.0980 - accuracy: 0.9714 - val_loss: 0.1078 - val_accuracy: 0.9778\n",
            "Epoch 668/1000\n",
            "4/4 [==============================] - 0s 15ms/step - loss: 0.0977 - accuracy: 0.9619 - val_loss: 0.1084 - val_accuracy: 0.9778\n",
            "Epoch 669/1000\n",
            "4/4 [==============================] - 0s 12ms/step - loss: 0.0977 - accuracy: 0.9619 - val_loss: 0.1100 - val_accuracy: 0.9778\n",
            "Epoch 670/1000\n",
            "4/4 [==============================] - 0s 12ms/step - loss: 0.0979 - accuracy: 0.9619 - val_loss: 0.1133 - val_accuracy: 0.9778\n",
            "Epoch 671/1000\n",
            "4/4 [==============================] - 0s 14ms/step - loss: 0.0984 - accuracy: 0.9619 - val_loss: 0.1128 - val_accuracy: 0.9778\n",
            "Epoch 672/1000\n",
            "4/4 [==============================] - 0s 13ms/step - loss: 0.0983 - accuracy: 0.9619 - val_loss: 0.1122 - val_accuracy: 0.9778\n",
            "Epoch 673/1000\n",
            "4/4 [==============================] - 0s 13ms/step - loss: 0.0980 - accuracy: 0.9619 - val_loss: 0.1077 - val_accuracy: 0.9778\n",
            "Epoch 674/1000\n",
            "4/4 [==============================] - 0s 14ms/step - loss: 0.0967 - accuracy: 0.9619 - val_loss: 0.1064 - val_accuracy: 0.9778\n",
            "Epoch 675/1000\n",
            "4/4 [==============================] - 0s 14ms/step - loss: 0.0969 - accuracy: 0.9619 - val_loss: 0.1075 - val_accuracy: 0.9778\n",
            "Epoch 676/1000\n",
            "4/4 [==============================] - 0s 19ms/step - loss: 0.0964 - accuracy: 0.9619 - val_loss: 0.1077 - val_accuracy: 0.9778\n",
            "Epoch 677/1000\n",
            "4/4 [==============================] - 0s 18ms/step - loss: 0.0962 - accuracy: 0.9619 - val_loss: 0.1064 - val_accuracy: 0.9778\n",
            "Epoch 678/1000\n",
            "4/4 [==============================] - 0s 20ms/step - loss: 0.0956 - accuracy: 0.9619 - val_loss: 0.1037 - val_accuracy: 0.9778\n",
            "Epoch 679/1000\n",
            "4/4 [==============================] - 0s 13ms/step - loss: 0.0967 - accuracy: 0.9714 - val_loss: 0.1005 - val_accuracy: 0.9778\n",
            "Epoch 680/1000\n",
            "4/4 [==============================] - 0s 14ms/step - loss: 0.0973 - accuracy: 0.9714 - val_loss: 0.1003 - val_accuracy: 0.9778\n",
            "Epoch 681/1000\n",
            "4/4 [==============================] - 0s 12ms/step - loss: 0.0970 - accuracy: 0.9714 - val_loss: 0.1000 - val_accuracy: 0.9778\n",
            "Epoch 682/1000\n",
            "4/4 [==============================] - 0s 14ms/step - loss: 0.0967 - accuracy: 0.9714 - val_loss: 0.1010 - val_accuracy: 0.9778\n",
            "Epoch 683/1000\n",
            "4/4 [==============================] - 0s 14ms/step - loss: 0.0942 - accuracy: 0.9714 - val_loss: 0.1043 - val_accuracy: 0.9778\n",
            "Epoch 684/1000\n",
            "4/4 [==============================] - 0s 13ms/step - loss: 0.0955 - accuracy: 0.9619 - val_loss: 0.1100 - val_accuracy: 0.9778\n",
            "Epoch 685/1000\n",
            "4/4 [==============================] - 0s 13ms/step - loss: 0.0966 - accuracy: 0.9619 - val_loss: 0.1090 - val_accuracy: 0.9778\n",
            "Epoch 686/1000\n",
            "4/4 [==============================] - 0s 19ms/step - loss: 0.0953 - accuracy: 0.9619 - val_loss: 0.1013 - val_accuracy: 0.9778\n",
            "Epoch 687/1000\n",
            "4/4 [==============================] - 0s 13ms/step - loss: 0.0939 - accuracy: 0.9714 - val_loss: 0.0994 - val_accuracy: 0.9778\n",
            "Epoch 688/1000\n",
            "4/4 [==============================] - 0s 13ms/step - loss: 0.0951 - accuracy: 0.9714 - val_loss: 0.0987 - val_accuracy: 0.9778\n",
            "Epoch 689/1000\n",
            "4/4 [==============================] - 0s 13ms/step - loss: 0.0956 - accuracy: 0.9714 - val_loss: 0.0984 - val_accuracy: 0.9778\n",
            "Epoch 690/1000\n",
            "4/4 [==============================] - 0s 16ms/step - loss: 0.0960 - accuracy: 0.9714 - val_loss: 0.0994 - val_accuracy: 0.9778\n",
            "Epoch 691/1000\n",
            "4/4 [==============================] - 0s 14ms/step - loss: 0.0942 - accuracy: 0.9714 - val_loss: 0.1000 - val_accuracy: 0.9778\n",
            "Epoch 692/1000\n",
            "4/4 [==============================] - 0s 15ms/step - loss: 0.0936 - accuracy: 0.9714 - val_loss: 0.1000 - val_accuracy: 0.9778\n",
            "Epoch 693/1000\n",
            "4/4 [==============================] - 0s 14ms/step - loss: 0.0932 - accuracy: 0.9714 - val_loss: 0.0997 - val_accuracy: 0.9778\n",
            "Epoch 694/1000\n",
            "4/4 [==============================] - 0s 13ms/step - loss: 0.0941 - accuracy: 0.9714 - val_loss: 0.1001 - val_accuracy: 0.9778\n",
            "Epoch 695/1000\n",
            "4/4 [==============================] - 0s 15ms/step - loss: 0.0932 - accuracy: 0.9714 - val_loss: 0.0981 - val_accuracy: 0.9778\n",
            "Epoch 696/1000\n",
            "4/4 [==============================] - 0s 15ms/step - loss: 0.0934 - accuracy: 0.9714 - val_loss: 0.0982 - val_accuracy: 0.9778\n",
            "Epoch 697/1000\n",
            "4/4 [==============================] - 0s 14ms/step - loss: 0.0932 - accuracy: 0.9714 - val_loss: 0.0991 - val_accuracy: 0.9778\n",
            "Epoch 698/1000\n",
            "4/4 [==============================] - 0s 13ms/step - loss: 0.0926 - accuracy: 0.9714 - val_loss: 0.0992 - val_accuracy: 0.9778\n",
            "Epoch 699/1000\n",
            "4/4 [==============================] - 0s 14ms/step - loss: 0.0927 - accuracy: 0.9714 - val_loss: 0.0977 - val_accuracy: 0.9778\n",
            "Epoch 700/1000\n",
            "4/4 [==============================] - 0s 12ms/step - loss: 0.0927 - accuracy: 0.9714 - val_loss: 0.0977 - val_accuracy: 0.9778\n",
            "Epoch 701/1000\n",
            "4/4 [==============================] - 0s 15ms/step - loss: 0.0923 - accuracy: 0.9714 - val_loss: 0.0992 - val_accuracy: 0.9778\n",
            "Epoch 702/1000\n",
            "4/4 [==============================] - 0s 18ms/step - loss: 0.0920 - accuracy: 0.9714 - val_loss: 0.1002 - val_accuracy: 0.9778\n",
            "Epoch 703/1000\n",
            "4/4 [==============================] - 0s 14ms/step - loss: 0.0914 - accuracy: 0.9714 - val_loss: 0.1017 - val_accuracy: 0.9778\n",
            "Epoch 704/1000\n",
            "4/4 [==============================] - 0s 20ms/step - loss: 0.0923 - accuracy: 0.9524 - val_loss: 0.1032 - val_accuracy: 0.9778\n",
            "Epoch 705/1000\n",
            "4/4 [==============================] - 0s 20ms/step - loss: 0.0915 - accuracy: 0.9619 - val_loss: 0.0999 - val_accuracy: 0.9778\n",
            "Epoch 706/1000\n",
            "4/4 [==============================] - 0s 13ms/step - loss: 0.0909 - accuracy: 0.9714 - val_loss: 0.0988 - val_accuracy: 0.9778\n",
            "Epoch 707/1000\n",
            "4/4 [==============================] - 0s 12ms/step - loss: 0.0910 - accuracy: 0.9714 - val_loss: 0.0984 - val_accuracy: 0.9778\n",
            "Epoch 708/1000\n",
            "4/4 [==============================] - 0s 20ms/step - loss: 0.0912 - accuracy: 0.9714 - val_loss: 0.1000 - val_accuracy: 0.9778\n",
            "Epoch 709/1000\n",
            "4/4 [==============================] - 0s 12ms/step - loss: 0.0909 - accuracy: 0.9714 - val_loss: 0.0979 - val_accuracy: 0.9778\n",
            "Epoch 710/1000\n",
            "4/4 [==============================] - 0s 13ms/step - loss: 0.0904 - accuracy: 0.9714 - val_loss: 0.0978 - val_accuracy: 0.9778\n",
            "Epoch 711/1000\n",
            "4/4 [==============================] - 0s 12ms/step - loss: 0.0902 - accuracy: 0.9714 - val_loss: 0.0973 - val_accuracy: 0.9778\n",
            "Epoch 712/1000\n",
            "4/4 [==============================] - 0s 17ms/step - loss: 0.0903 - accuracy: 0.9714 - val_loss: 0.0960 - val_accuracy: 0.9778\n",
            "Epoch 713/1000\n",
            "4/4 [==============================] - 0s 15ms/step - loss: 0.0907 - accuracy: 0.9714 - val_loss: 0.0955 - val_accuracy: 0.9778\n",
            "Epoch 714/1000\n",
            "4/4 [==============================] - 0s 21ms/step - loss: 0.0909 - accuracy: 0.9714 - val_loss: 0.0956 - val_accuracy: 0.9778\n",
            "Epoch 715/1000\n",
            "4/4 [==============================] - 0s 14ms/step - loss: 0.0905 - accuracy: 0.9714 - val_loss: 0.0993 - val_accuracy: 0.9778\n",
            "Epoch 716/1000\n",
            "4/4 [==============================] - 0s 13ms/step - loss: 0.0903 - accuracy: 0.9524 - val_loss: 0.1027 - val_accuracy: 0.9778\n",
            "Epoch 717/1000\n",
            "4/4 [==============================] - 0s 12ms/step - loss: 0.0902 - accuracy: 0.9524 - val_loss: 0.1008 - val_accuracy: 0.9778\n",
            "Epoch 718/1000\n",
            "4/4 [==============================] - 0s 20ms/step - loss: 0.0896 - accuracy: 0.9524 - val_loss: 0.0986 - val_accuracy: 0.9778\n",
            "Epoch 719/1000\n",
            "4/4 [==============================] - 0s 14ms/step - loss: 0.0890 - accuracy: 0.9714 - val_loss: 0.0968 - val_accuracy: 0.9778\n",
            "Epoch 720/1000\n",
            "4/4 [==============================] - 0s 14ms/step - loss: 0.0885 - accuracy: 0.9714 - val_loss: 0.0939 - val_accuracy: 0.9778\n",
            "Epoch 721/1000\n",
            "4/4 [==============================] - 0s 16ms/step - loss: 0.0916 - accuracy: 0.9714 - val_loss: 0.0934 - val_accuracy: 0.9778\n",
            "Epoch 722/1000\n",
            "4/4 [==============================] - 0s 15ms/step - loss: 0.0893 - accuracy: 0.9714 - val_loss: 0.0981 - val_accuracy: 0.9778\n",
            "Epoch 723/1000\n",
            "4/4 [==============================] - 0s 13ms/step - loss: 0.0883 - accuracy: 0.9619 - val_loss: 0.1026 - val_accuracy: 0.9778\n",
            "Epoch 724/1000\n",
            "4/4 [==============================] - 0s 12ms/step - loss: 0.0892 - accuracy: 0.9619 - val_loss: 0.1046 - val_accuracy: 0.9778\n",
            "Epoch 725/1000\n",
            "4/4 [==============================] - 0s 12ms/step - loss: 0.0903 - accuracy: 0.9619 - val_loss: 0.1051 - val_accuracy: 0.9778\n",
            "Epoch 726/1000\n",
            "4/4 [==============================] - 0s 12ms/step - loss: 0.0903 - accuracy: 0.9619 - val_loss: 0.1022 - val_accuracy: 0.9778\n",
            "Epoch 727/1000\n",
            "4/4 [==============================] - 0s 12ms/step - loss: 0.0889 - accuracy: 0.9619 - val_loss: 0.0971 - val_accuracy: 0.9778\n",
            "Epoch 728/1000\n",
            "4/4 [==============================] - 0s 13ms/step - loss: 0.0877 - accuracy: 0.9714 - val_loss: 0.0931 - val_accuracy: 0.9778\n",
            "Epoch 729/1000\n",
            "4/4 [==============================] - 0s 14ms/step - loss: 0.0880 - accuracy: 0.9714 - val_loss: 0.0920 - val_accuracy: 0.9778\n",
            "Epoch 730/1000\n",
            "4/4 [==============================] - 0s 13ms/step - loss: 0.0903 - accuracy: 0.9714 - val_loss: 0.0915 - val_accuracy: 0.9778\n",
            "Epoch 731/1000\n",
            "4/4 [==============================] - 0s 13ms/step - loss: 0.0897 - accuracy: 0.9714 - val_loss: 0.0931 - val_accuracy: 0.9778\n",
            "Epoch 732/1000\n",
            "4/4 [==============================] - 0s 13ms/step - loss: 0.0871 - accuracy: 0.9714 - val_loss: 0.0946 - val_accuracy: 0.9778\n",
            "Epoch 733/1000\n",
            "4/4 [==============================] - 0s 14ms/step - loss: 0.0878 - accuracy: 0.9714 - val_loss: 0.0973 - val_accuracy: 0.9778\n",
            "Epoch 734/1000\n",
            "4/4 [==============================] - 0s 15ms/step - loss: 0.0870 - accuracy: 0.9619 - val_loss: 0.0976 - val_accuracy: 0.9778\n",
            "Epoch 735/1000\n",
            "4/4 [==============================] - 0s 16ms/step - loss: 0.0872 - accuracy: 0.9619 - val_loss: 0.0968 - val_accuracy: 0.9778\n",
            "Epoch 736/1000\n",
            "4/4 [==============================] - 0s 13ms/step - loss: 0.0902 - accuracy: 0.9619 - val_loss: 0.0931 - val_accuracy: 0.9778\n",
            "Epoch 737/1000\n",
            "4/4 [==============================] - 0s 15ms/step - loss: 0.0868 - accuracy: 0.9714 - val_loss: 0.0951 - val_accuracy: 0.9778\n",
            "Epoch 738/1000\n",
            "4/4 [==============================] - 0s 14ms/step - loss: 0.0862 - accuracy: 0.9714 - val_loss: 0.0942 - val_accuracy: 0.9778\n",
            "Epoch 739/1000\n",
            "4/4 [==============================] - 0s 15ms/step - loss: 0.0868 - accuracy: 0.9714 - val_loss: 0.0929 - val_accuracy: 0.9778\n",
            "Epoch 740/1000\n",
            "4/4 [==============================] - 0s 17ms/step - loss: 0.0863 - accuracy: 0.9714 - val_loss: 0.0930 - val_accuracy: 0.9778\n",
            "Epoch 741/1000\n",
            "4/4 [==============================] - 0s 14ms/step - loss: 0.0859 - accuracy: 0.9714 - val_loss: 0.0928 - val_accuracy: 0.9778\n",
            "Epoch 742/1000\n",
            "4/4 [==============================] - 0s 14ms/step - loss: 0.0858 - accuracy: 0.9714 - val_loss: 0.0932 - val_accuracy: 0.9778\n",
            "Epoch 743/1000\n",
            "4/4 [==============================] - 0s 15ms/step - loss: 0.0856 - accuracy: 0.9714 - val_loss: 0.0940 - val_accuracy: 0.9778\n",
            "Epoch 744/1000\n",
            "4/4 [==============================] - 0s 14ms/step - loss: 0.0859 - accuracy: 0.9714 - val_loss: 0.0931 - val_accuracy: 0.9778\n",
            "Epoch 745/1000\n",
            "4/4 [==============================] - 0s 13ms/step - loss: 0.0854 - accuracy: 0.9714 - val_loss: 0.0929 - val_accuracy: 0.9778\n",
            "Epoch 746/1000\n",
            "4/4 [==============================] - 0s 13ms/step - loss: 0.0858 - accuracy: 0.9714 - val_loss: 0.0925 - val_accuracy: 0.9778\n",
            "Epoch 747/1000\n",
            "4/4 [==============================] - 0s 17ms/step - loss: 0.0857 - accuracy: 0.9714 - val_loss: 0.0929 - val_accuracy: 0.9778\n",
            "Epoch 748/1000\n",
            "4/4 [==============================] - 0s 21ms/step - loss: 0.0848 - accuracy: 0.9714 - val_loss: 0.0977 - val_accuracy: 0.9778\n",
            "Epoch 749/1000\n",
            "4/4 [==============================] - 0s 12ms/step - loss: 0.0868 - accuracy: 0.9619 - val_loss: 0.1019 - val_accuracy: 0.9778\n",
            "Epoch 750/1000\n",
            "4/4 [==============================] - 0s 19ms/step - loss: 0.0875 - accuracy: 0.9619 - val_loss: 0.1002 - val_accuracy: 0.9778\n",
            "Epoch 751/1000\n",
            "4/4 [==============================] - 0s 18ms/step - loss: 0.0857 - accuracy: 0.9619 - val_loss: 0.0954 - val_accuracy: 0.9778\n",
            "Epoch 752/1000\n",
            "4/4 [==============================] - 0s 20ms/step - loss: 0.0856 - accuracy: 0.9714 - val_loss: 0.0918 - val_accuracy: 0.9778\n",
            "Epoch 753/1000\n",
            "4/4 [==============================] - 0s 14ms/step - loss: 0.0847 - accuracy: 0.9714 - val_loss: 0.0910 - val_accuracy: 0.9778\n",
            "Epoch 754/1000\n",
            "4/4 [==============================] - 0s 14ms/step - loss: 0.0842 - accuracy: 0.9714 - val_loss: 0.0919 - val_accuracy: 0.9778\n",
            "Epoch 755/1000\n",
            "4/4 [==============================] - 0s 16ms/step - loss: 0.0837 - accuracy: 0.9714 - val_loss: 0.0948 - val_accuracy: 0.9778\n",
            "Epoch 756/1000\n",
            "4/4 [==============================] - 0s 19ms/step - loss: 0.0851 - accuracy: 0.9524 - val_loss: 0.0978 - val_accuracy: 0.9778\n",
            "Epoch 757/1000\n",
            "4/4 [==============================] - 0s 14ms/step - loss: 0.0848 - accuracy: 0.9619 - val_loss: 0.0946 - val_accuracy: 0.9778\n",
            "Epoch 758/1000\n",
            "4/4 [==============================] - 0s 14ms/step - loss: 0.0842 - accuracy: 0.9619 - val_loss: 0.0905 - val_accuracy: 0.9778\n",
            "Epoch 759/1000\n",
            "4/4 [==============================] - 0s 20ms/step - loss: 0.0835 - accuracy: 0.9714 - val_loss: 0.0892 - val_accuracy: 0.9778\n",
            "Epoch 760/1000\n",
            "4/4 [==============================] - 0s 14ms/step - loss: 0.0840 - accuracy: 0.9714 - val_loss: 0.0888 - val_accuracy: 0.9778\n",
            "Epoch 761/1000\n",
            "4/4 [==============================] - 0s 14ms/step - loss: 0.0835 - accuracy: 0.9714 - val_loss: 0.0898 - val_accuracy: 0.9778\n",
            "Epoch 762/1000\n",
            "4/4 [==============================] - 0s 13ms/step - loss: 0.0839 - accuracy: 0.9714 - val_loss: 0.0912 - val_accuracy: 0.9778\n",
            "Epoch 763/1000\n",
            "4/4 [==============================] - 0s 13ms/step - loss: 0.0836 - accuracy: 0.9714 - val_loss: 0.0898 - val_accuracy: 0.9778\n",
            "Epoch 764/1000\n",
            "4/4 [==============================] - 0s 14ms/step - loss: 0.0832 - accuracy: 0.9714 - val_loss: 0.0894 - val_accuracy: 0.9778\n",
            "Epoch 765/1000\n",
            "4/4 [==============================] - 0s 13ms/step - loss: 0.0830 - accuracy: 0.9714 - val_loss: 0.0881 - val_accuracy: 0.9778\n",
            "Epoch 766/1000\n",
            "4/4 [==============================] - 0s 13ms/step - loss: 0.0836 - accuracy: 0.9714 - val_loss: 0.0882 - val_accuracy: 0.9778\n",
            "Epoch 767/1000\n",
            "4/4 [==============================] - 0s 13ms/step - loss: 0.0830 - accuracy: 0.9714 - val_loss: 0.0881 - val_accuracy: 0.9778\n",
            "Epoch 768/1000\n",
            "4/4 [==============================] - 0s 15ms/step - loss: 0.0828 - accuracy: 0.9714 - val_loss: 0.0887 - val_accuracy: 0.9778\n",
            "Epoch 769/1000\n",
            "4/4 [==============================] - 0s 13ms/step - loss: 0.0826 - accuracy: 0.9714 - val_loss: 0.0890 - val_accuracy: 0.9778\n",
            "Epoch 770/1000\n",
            "4/4 [==============================] - 0s 17ms/step - loss: 0.0826 - accuracy: 0.9714 - val_loss: 0.0897 - val_accuracy: 0.9778\n",
            "Epoch 771/1000\n",
            "4/4 [==============================] - 0s 13ms/step - loss: 0.0828 - accuracy: 0.9714 - val_loss: 0.0917 - val_accuracy: 0.9778\n",
            "Epoch 772/1000\n",
            "4/4 [==============================] - 0s 14ms/step - loss: 0.0825 - accuracy: 0.9619 - val_loss: 0.0929 - val_accuracy: 0.9778\n",
            "Epoch 773/1000\n",
            "4/4 [==============================] - 0s 17ms/step - loss: 0.0826 - accuracy: 0.9524 - val_loss: 0.0917 - val_accuracy: 0.9778\n",
            "Epoch 774/1000\n",
            "4/4 [==============================] - 0s 19ms/step - loss: 0.0820 - accuracy: 0.9714 - val_loss: 0.0898 - val_accuracy: 0.9778\n",
            "Epoch 775/1000\n",
            "4/4 [==============================] - 0s 14ms/step - loss: 0.0823 - accuracy: 0.9714 - val_loss: 0.0879 - val_accuracy: 0.9778\n",
            "Epoch 776/1000\n",
            "4/4 [==============================] - 0s 12ms/step - loss: 0.0820 - accuracy: 0.9714 - val_loss: 0.0888 - val_accuracy: 0.9778\n",
            "Epoch 777/1000\n",
            "4/4 [==============================] - 0s 14ms/step - loss: 0.0823 - accuracy: 0.9714 - val_loss: 0.0902 - val_accuracy: 0.9778\n",
            "Epoch 778/1000\n",
            "4/4 [==============================] - 0s 17ms/step - loss: 0.0819 - accuracy: 0.9714 - val_loss: 0.0895 - val_accuracy: 0.9778\n",
            "Epoch 779/1000\n",
            "4/4 [==============================] - 0s 13ms/step - loss: 0.0814 - accuracy: 0.9714 - val_loss: 0.0893 - val_accuracy: 0.9778\n",
            "Epoch 780/1000\n",
            "4/4 [==============================] - 0s 14ms/step - loss: 0.0815 - accuracy: 0.9714 - val_loss: 0.0901 - val_accuracy: 0.9778\n",
            "Epoch 781/1000\n",
            "4/4 [==============================] - 0s 15ms/step - loss: 0.0813 - accuracy: 0.9714 - val_loss: 0.0880 - val_accuracy: 0.9778\n",
            "Epoch 782/1000\n",
            "4/4 [==============================] - 0s 12ms/step - loss: 0.0810 - accuracy: 0.9714 - val_loss: 0.0875 - val_accuracy: 0.9778\n",
            "Epoch 783/1000\n",
            "4/4 [==============================] - 0s 18ms/step - loss: 0.0812 - accuracy: 0.9714 - val_loss: 0.0860 - val_accuracy: 0.9778\n",
            "Epoch 784/1000\n",
            "4/4 [==============================] - 0s 16ms/step - loss: 0.0816 - accuracy: 0.9714 - val_loss: 0.0860 - val_accuracy: 0.9778\n",
            "Epoch 785/1000\n",
            "4/4 [==============================] - 0s 14ms/step - loss: 0.0832 - accuracy: 0.9714 - val_loss: 0.0889 - val_accuracy: 0.9778\n",
            "Epoch 786/1000\n",
            "4/4 [==============================] - 0s 17ms/step - loss: 0.0808 - accuracy: 0.9714 - val_loss: 0.0878 - val_accuracy: 0.9778\n",
            "Epoch 787/1000\n",
            "4/4 [==============================] - 0s 15ms/step - loss: 0.0813 - accuracy: 0.9714 - val_loss: 0.0860 - val_accuracy: 0.9778\n",
            "Epoch 788/1000\n",
            "4/4 [==============================] - 0s 13ms/step - loss: 0.0805 - accuracy: 0.9714 - val_loss: 0.0864 - val_accuracy: 0.9778\n",
            "Epoch 789/1000\n",
            "4/4 [==============================] - 0s 16ms/step - loss: 0.0815 - accuracy: 0.9714 - val_loss: 0.0873 - val_accuracy: 0.9778\n",
            "Epoch 790/1000\n",
            "4/4 [==============================] - 0s 15ms/step - loss: 0.0799 - accuracy: 0.9714 - val_loss: 0.0861 - val_accuracy: 0.9778\n",
            "Epoch 791/1000\n",
            "4/4 [==============================] - 0s 14ms/step - loss: 0.0811 - accuracy: 0.9714 - val_loss: 0.0850 - val_accuracy: 0.9778\n",
            "Epoch 792/1000\n",
            "4/4 [==============================] - 0s 14ms/step - loss: 0.0796 - accuracy: 0.9714 - val_loss: 0.0872 - val_accuracy: 0.9778\n",
            "Epoch 793/1000\n",
            "4/4 [==============================] - 0s 12ms/step - loss: 0.0800 - accuracy: 0.9714 - val_loss: 0.0906 - val_accuracy: 0.9778\n",
            "Epoch 794/1000\n",
            "4/4 [==============================] - 0s 19ms/step - loss: 0.0804 - accuracy: 0.9524 - val_loss: 0.0929 - val_accuracy: 0.9778\n",
            "Epoch 795/1000\n",
            "4/4 [==============================] - 0s 14ms/step - loss: 0.0818 - accuracy: 0.9619 - val_loss: 0.0946 - val_accuracy: 0.9778\n",
            "Epoch 796/1000\n",
            "4/4 [==============================] - 0s 17ms/step - loss: 0.0818 - accuracy: 0.9619 - val_loss: 0.0930 - val_accuracy: 0.9778\n",
            "Epoch 797/1000\n",
            "4/4 [==============================] - 0s 13ms/step - loss: 0.0812 - accuracy: 0.9524 - val_loss: 0.0899 - val_accuracy: 0.9778\n",
            "Epoch 798/1000\n",
            "4/4 [==============================] - 0s 14ms/step - loss: 0.0800 - accuracy: 0.9524 - val_loss: 0.0906 - val_accuracy: 0.9778\n",
            "Epoch 799/1000\n",
            "4/4 [==============================] - 0s 13ms/step - loss: 0.0805 - accuracy: 0.9524 - val_loss: 0.0928 - val_accuracy: 0.9778\n",
            "Epoch 800/1000\n",
            "4/4 [==============================] - 0s 12ms/step - loss: 0.0809 - accuracy: 0.9619 - val_loss: 0.0912 - val_accuracy: 0.9778\n",
            "Epoch 801/1000\n",
            "4/4 [==============================] - 0s 12ms/step - loss: 0.0790 - accuracy: 0.9619 - val_loss: 0.0859 - val_accuracy: 0.9778\n",
            "Epoch 802/1000\n",
            "4/4 [==============================] - 0s 16ms/step - loss: 0.0787 - accuracy: 0.9714 - val_loss: 0.0836 - val_accuracy: 0.9778\n",
            "Epoch 803/1000\n",
            "4/4 [==============================] - 0s 19ms/step - loss: 0.0797 - accuracy: 0.9714 - val_loss: 0.0829 - val_accuracy: 0.9778\n",
            "Epoch 804/1000\n",
            "4/4 [==============================] - 0s 19ms/step - loss: 0.0800 - accuracy: 0.9714 - val_loss: 0.0829 - val_accuracy: 0.9778\n",
            "Epoch 805/1000\n",
            "4/4 [==============================] - 0s 14ms/step - loss: 0.0798 - accuracy: 0.9714 - val_loss: 0.0830 - val_accuracy: 0.9778\n",
            "Epoch 806/1000\n",
            "4/4 [==============================] - 0s 12ms/step - loss: 0.0791 - accuracy: 0.9714 - val_loss: 0.0847 - val_accuracy: 0.9778\n",
            "Epoch 807/1000\n",
            "4/4 [==============================] - 0s 16ms/step - loss: 0.0788 - accuracy: 0.9714 - val_loss: 0.0867 - val_accuracy: 0.9778\n",
            "Epoch 808/1000\n",
            "4/4 [==============================] - 0s 13ms/step - loss: 0.0788 - accuracy: 0.9714 - val_loss: 0.0871 - val_accuracy: 0.9778\n",
            "Epoch 809/1000\n",
            "4/4 [==============================] - 0s 13ms/step - loss: 0.0784 - accuracy: 0.9714 - val_loss: 0.0897 - val_accuracy: 0.9778\n",
            "Epoch 810/1000\n",
            "4/4 [==============================] - 0s 12ms/step - loss: 0.0797 - accuracy: 0.9524 - val_loss: 0.0908 - val_accuracy: 0.9778\n",
            "Epoch 811/1000\n",
            "4/4 [==============================] - 0s 19ms/step - loss: 0.0791 - accuracy: 0.9524 - val_loss: 0.0883 - val_accuracy: 0.9778\n",
            "Epoch 812/1000\n",
            "4/4 [==============================] - 0s 15ms/step - loss: 0.0796 - accuracy: 0.9524 - val_loss: 0.0853 - val_accuracy: 0.9778\n",
            "Epoch 813/1000\n",
            "4/4 [==============================] - 0s 14ms/step - loss: 0.0786 - accuracy: 0.9714 - val_loss: 0.0855 - val_accuracy: 0.9778\n",
            "Epoch 814/1000\n",
            "4/4 [==============================] - 0s 13ms/step - loss: 0.0778 - accuracy: 0.9714 - val_loss: 0.0835 - val_accuracy: 0.9778\n",
            "Epoch 815/1000\n",
            "4/4 [==============================] - 0s 13ms/step - loss: 0.0778 - accuracy: 0.9714 - val_loss: 0.0834 - val_accuracy: 0.9778\n",
            "Epoch 816/1000\n",
            "4/4 [==============================] - 0s 14ms/step - loss: 0.0775 - accuracy: 0.9714 - val_loss: 0.0844 - val_accuracy: 0.9778\n",
            "Epoch 817/1000\n",
            "4/4 [==============================] - 0s 14ms/step - loss: 0.0772 - accuracy: 0.9714 - val_loss: 0.0874 - val_accuracy: 0.9778\n",
            "Epoch 818/1000\n",
            "4/4 [==============================] - 0s 20ms/step - loss: 0.0781 - accuracy: 0.9619 - val_loss: 0.0895 - val_accuracy: 0.9778\n",
            "Epoch 819/1000\n",
            "4/4 [==============================] - 0s 13ms/step - loss: 0.0798 - accuracy: 0.9524 - val_loss: 0.0900 - val_accuracy: 0.9778\n",
            "Epoch 820/1000\n",
            "4/4 [==============================] - 0s 14ms/step - loss: 0.0783 - accuracy: 0.9524 - val_loss: 0.0876 - val_accuracy: 0.9778\n",
            "Epoch 821/1000\n",
            "4/4 [==============================] - 0s 19ms/step - loss: 0.0779 - accuracy: 0.9619 - val_loss: 0.0836 - val_accuracy: 0.9778\n",
            "Epoch 822/1000\n",
            "4/4 [==============================] - 0s 14ms/step - loss: 0.0770 - accuracy: 0.9714 - val_loss: 0.0838 - val_accuracy: 0.9778\n",
            "Epoch 823/1000\n",
            "4/4 [==============================] - 0s 12ms/step - loss: 0.0767 - accuracy: 0.9714 - val_loss: 0.0849 - val_accuracy: 0.9778\n",
            "Epoch 824/1000\n",
            "4/4 [==============================] - 0s 13ms/step - loss: 0.0775 - accuracy: 0.9714 - val_loss: 0.0848 - val_accuracy: 0.9778\n",
            "Epoch 825/1000\n",
            "4/4 [==============================] - 0s 20ms/step - loss: 0.0766 - accuracy: 0.9714 - val_loss: 0.0815 - val_accuracy: 0.9778\n",
            "Epoch 826/1000\n",
            "4/4 [==============================] - 0s 14ms/step - loss: 0.0769 - accuracy: 0.9714 - val_loss: 0.0808 - val_accuracy: 0.9778\n",
            "Epoch 827/1000\n",
            "4/4 [==============================] - 0s 17ms/step - loss: 0.0785 - accuracy: 0.9714 - val_loss: 0.0808 - val_accuracy: 0.9778\n",
            "Epoch 828/1000\n",
            "4/4 [==============================] - 0s 19ms/step - loss: 0.0762 - accuracy: 0.9714 - val_loss: 0.0828 - val_accuracy: 0.9778\n",
            "Epoch 829/1000\n",
            "4/4 [==============================] - 0s 13ms/step - loss: 0.0773 - accuracy: 0.9619 - val_loss: 0.0880 - val_accuracy: 0.9778\n",
            "Epoch 830/1000\n",
            "4/4 [==============================] - 0s 14ms/step - loss: 0.0780 - accuracy: 0.9524 - val_loss: 0.0915 - val_accuracy: 0.9778\n",
            "Epoch 831/1000\n",
            "4/4 [==============================] - 0s 13ms/step - loss: 0.0785 - accuracy: 0.9619 - val_loss: 0.0901 - val_accuracy: 0.9778\n",
            "Epoch 832/1000\n",
            "4/4 [==============================] - 0s 12ms/step - loss: 0.0774 - accuracy: 0.9524 - val_loss: 0.0860 - val_accuracy: 0.9778\n",
            "Epoch 833/1000\n",
            "4/4 [==============================] - 0s 12ms/step - loss: 0.0756 - accuracy: 0.9714 - val_loss: 0.0822 - val_accuracy: 0.9778\n",
            "Epoch 834/1000\n",
            "4/4 [==============================] - 0s 12ms/step - loss: 0.0756 - accuracy: 0.9714 - val_loss: 0.0810 - val_accuracy: 0.9778\n",
            "Epoch 835/1000\n",
            "4/4 [==============================] - 0s 13ms/step - loss: 0.0774 - accuracy: 0.9714 - val_loss: 0.0805 - val_accuracy: 0.9778\n",
            "Epoch 836/1000\n",
            "4/4 [==============================] - 0s 16ms/step - loss: 0.0757 - accuracy: 0.9714 - val_loss: 0.0840 - val_accuracy: 0.9778\n",
            "Epoch 837/1000\n",
            "4/4 [==============================] - 0s 12ms/step - loss: 0.0761 - accuracy: 0.9524 - val_loss: 0.0871 - val_accuracy: 0.9778\n",
            "Epoch 838/1000\n",
            "4/4 [==============================] - 0s 14ms/step - loss: 0.0766 - accuracy: 0.9524 - val_loss: 0.0850 - val_accuracy: 0.9778\n",
            "Epoch 839/1000\n",
            "4/4 [==============================] - 0s 13ms/step - loss: 0.0759 - accuracy: 0.9619 - val_loss: 0.0801 - val_accuracy: 0.9778\n",
            "Epoch 840/1000\n",
            "4/4 [==============================] - 0s 15ms/step - loss: 0.0772 - accuracy: 0.9714 - val_loss: 0.0791 - val_accuracy: 0.9778\n",
            "Epoch 841/1000\n",
            "4/4 [==============================] - 0s 13ms/step - loss: 0.0773 - accuracy: 0.9714 - val_loss: 0.0793 - val_accuracy: 0.9778\n",
            "Epoch 842/1000\n",
            "4/4 [==============================] - 0s 12ms/step - loss: 0.0754 - accuracy: 0.9714 - val_loss: 0.0810 - val_accuracy: 0.9778\n",
            "Epoch 843/1000\n",
            "4/4 [==============================] - 0s 13ms/step - loss: 0.0745 - accuracy: 0.9714 - val_loss: 0.0850 - val_accuracy: 0.9778\n",
            "Epoch 844/1000\n",
            "4/4 [==============================] - 0s 14ms/step - loss: 0.0753 - accuracy: 0.9524 - val_loss: 0.0868 - val_accuracy: 0.9778\n",
            "Epoch 845/1000\n",
            "4/4 [==============================] - 0s 13ms/step - loss: 0.0762 - accuracy: 0.9524 - val_loss: 0.0868 - val_accuracy: 0.9778\n",
            "Epoch 846/1000\n",
            "4/4 [==============================] - 0s 12ms/step - loss: 0.0762 - accuracy: 0.9524 - val_loss: 0.0837 - val_accuracy: 0.9778\n",
            "Epoch 847/1000\n",
            "4/4 [==============================] - 0s 21ms/step - loss: 0.0750 - accuracy: 0.9714 - val_loss: 0.0825 - val_accuracy: 0.9778\n",
            "Epoch 848/1000\n",
            "4/4 [==============================] - 0s 14ms/step - loss: 0.0746 - accuracy: 0.9714 - val_loss: 0.0830 - val_accuracy: 0.9778\n",
            "Epoch 849/1000\n",
            "4/4 [==============================] - 0s 19ms/step - loss: 0.0748 - accuracy: 0.9714 - val_loss: 0.0835 - val_accuracy: 0.9778\n",
            "Epoch 850/1000\n",
            "4/4 [==============================] - 0s 14ms/step - loss: 0.0750 - accuracy: 0.9619 - val_loss: 0.0845 - val_accuracy: 0.9778\n",
            "Epoch 851/1000\n",
            "4/4 [==============================] - 0s 13ms/step - loss: 0.0751 - accuracy: 0.9619 - val_loss: 0.0835 - val_accuracy: 0.9778\n",
            "Epoch 852/1000\n",
            "4/4 [==============================] - 0s 18ms/step - loss: 0.0746 - accuracy: 0.9619 - val_loss: 0.0811 - val_accuracy: 0.9778\n",
            "Epoch 853/1000\n",
            "4/4 [==============================] - 0s 16ms/step - loss: 0.0741 - accuracy: 0.9714 - val_loss: 0.0805 - val_accuracy: 0.9778\n",
            "Epoch 854/1000\n",
            "4/4 [==============================] - 0s 17ms/step - loss: 0.0742 - accuracy: 0.9714 - val_loss: 0.0802 - val_accuracy: 0.9778\n",
            "Epoch 855/1000\n",
            "4/4 [==============================] - 0s 13ms/step - loss: 0.0750 - accuracy: 0.9714 - val_loss: 0.0811 - val_accuracy: 0.9778\n",
            "Epoch 856/1000\n",
            "4/4 [==============================] - 0s 14ms/step - loss: 0.0743 - accuracy: 0.9714 - val_loss: 0.0789 - val_accuracy: 0.9778\n",
            "Epoch 857/1000\n",
            "4/4 [==============================] - 0s 14ms/step - loss: 0.0742 - accuracy: 0.9714 - val_loss: 0.0782 - val_accuracy: 0.9778\n",
            "Epoch 858/1000\n",
            "4/4 [==============================] - 0s 14ms/step - loss: 0.0752 - accuracy: 0.9714 - val_loss: 0.0779 - val_accuracy: 0.9778\n",
            "Epoch 859/1000\n",
            "4/4 [==============================] - 0s 20ms/step - loss: 0.0751 - accuracy: 0.9714 - val_loss: 0.0780 - val_accuracy: 0.9778\n",
            "Epoch 860/1000\n",
            "4/4 [==============================] - 0s 22ms/step - loss: 0.0745 - accuracy: 0.9714 - val_loss: 0.0781 - val_accuracy: 0.9778\n",
            "Epoch 861/1000\n",
            "4/4 [==============================] - 0s 16ms/step - loss: 0.0742 - accuracy: 0.9714 - val_loss: 0.0791 - val_accuracy: 0.9778\n",
            "Epoch 862/1000\n",
            "4/4 [==============================] - 0s 12ms/step - loss: 0.0737 - accuracy: 0.9714 - val_loss: 0.0801 - val_accuracy: 0.9778\n",
            "Epoch 863/1000\n",
            "4/4 [==============================] - 0s 12ms/step - loss: 0.0742 - accuracy: 0.9714 - val_loss: 0.0812 - val_accuracy: 0.9778\n",
            "Epoch 864/1000\n",
            "4/4 [==============================] - 0s 12ms/step - loss: 0.0733 - accuracy: 0.9714 - val_loss: 0.0799 - val_accuracy: 0.9778\n",
            "Epoch 865/1000\n",
            "4/4 [==============================] - 0s 19ms/step - loss: 0.0732 - accuracy: 0.9714 - val_loss: 0.0795 - val_accuracy: 0.9778\n",
            "Epoch 866/1000\n",
            "4/4 [==============================] - 0s 14ms/step - loss: 0.0743 - accuracy: 0.9714 - val_loss: 0.0784 - val_accuracy: 0.9778\n",
            "Epoch 867/1000\n",
            "4/4 [==============================] - 0s 14ms/step - loss: 0.0732 - accuracy: 0.9714 - val_loss: 0.0805 - val_accuracy: 0.9778\n",
            "Epoch 868/1000\n",
            "4/4 [==============================] - 0s 12ms/step - loss: 0.0734 - accuracy: 0.9619 - val_loss: 0.0836 - val_accuracy: 0.9778\n",
            "Epoch 869/1000\n",
            "4/4 [==============================] - 0s 19ms/step - loss: 0.0737 - accuracy: 0.9524 - val_loss: 0.0841 - val_accuracy: 0.9778\n",
            "Epoch 870/1000\n",
            "4/4 [==============================] - 0s 24ms/step - loss: 0.0735 - accuracy: 0.9524 - val_loss: 0.0819 - val_accuracy: 0.9778\n",
            "Epoch 871/1000\n",
            "4/4 [==============================] - 0s 17ms/step - loss: 0.0725 - accuracy: 0.9619 - val_loss: 0.0795 - val_accuracy: 0.9778\n",
            "Epoch 872/1000\n",
            "4/4 [==============================] - 0s 14ms/step - loss: 0.0723 - accuracy: 0.9714 - val_loss: 0.0776 - val_accuracy: 0.9778\n",
            "Epoch 873/1000\n",
            "4/4 [==============================] - 0s 13ms/step - loss: 0.0732 - accuracy: 0.9714 - val_loss: 0.0767 - val_accuracy: 0.9778\n",
            "Epoch 874/1000\n",
            "4/4 [==============================] - 0s 14ms/step - loss: 0.0739 - accuracy: 0.9714 - val_loss: 0.0765 - val_accuracy: 0.9778\n",
            "Epoch 875/1000\n",
            "4/4 [==============================] - 0s 14ms/step - loss: 0.0756 - accuracy: 0.9714 - val_loss: 0.0763 - val_accuracy: 0.9778\n",
            "Epoch 876/1000\n",
            "4/4 [==============================] - 0s 18ms/step - loss: 0.0749 - accuracy: 0.9714 - val_loss: 0.0765 - val_accuracy: 0.9778\n",
            "Epoch 877/1000\n",
            "4/4 [==============================] - 0s 14ms/step - loss: 0.0734 - accuracy: 0.9714 - val_loss: 0.0785 - val_accuracy: 0.9778\n",
            "Epoch 878/1000\n",
            "4/4 [==============================] - 0s 13ms/step - loss: 0.0735 - accuracy: 0.9619 - val_loss: 0.0824 - val_accuracy: 0.9778\n",
            "Epoch 879/1000\n",
            "4/4 [==============================] - 0s 14ms/step - loss: 0.0730 - accuracy: 0.9619 - val_loss: 0.0810 - val_accuracy: 0.9778\n",
            "Epoch 880/1000\n",
            "4/4 [==============================] - 0s 19ms/step - loss: 0.0728 - accuracy: 0.9619 - val_loss: 0.0804 - val_accuracy: 0.9778\n",
            "Epoch 881/1000\n",
            "4/4 [==============================] - 0s 19ms/step - loss: 0.0721 - accuracy: 0.9714 - val_loss: 0.0803 - val_accuracy: 0.9778\n",
            "Epoch 882/1000\n",
            "4/4 [==============================] - 0s 14ms/step - loss: 0.0720 - accuracy: 0.9714 - val_loss: 0.0801 - val_accuracy: 0.9778\n",
            "Epoch 883/1000\n",
            "4/4 [==============================] - 0s 22ms/step - loss: 0.0725 - accuracy: 0.9619 - val_loss: 0.0812 - val_accuracy: 0.9778\n",
            "Epoch 884/1000\n",
            "4/4 [==============================] - 0s 13ms/step - loss: 0.0723 - accuracy: 0.9619 - val_loss: 0.0800 - val_accuracy: 0.9778\n",
            "Epoch 885/1000\n",
            "4/4 [==============================] - 0s 13ms/step - loss: 0.0710 - accuracy: 0.9714 - val_loss: 0.0771 - val_accuracy: 0.9778\n",
            "Epoch 886/1000\n",
            "4/4 [==============================] - 0s 14ms/step - loss: 0.0717 - accuracy: 0.9714 - val_loss: 0.0759 - val_accuracy: 0.9778\n",
            "Epoch 887/1000\n",
            "4/4 [==============================] - 0s 13ms/step - loss: 0.0727 - accuracy: 0.9714 - val_loss: 0.0759 - val_accuracy: 0.9778\n",
            "Epoch 888/1000\n",
            "4/4 [==============================] - 0s 12ms/step - loss: 0.0725 - accuracy: 0.9714 - val_loss: 0.0754 - val_accuracy: 0.9778\n",
            "Epoch 889/1000\n",
            "4/4 [==============================] - 0s 12ms/step - loss: 0.0731 - accuracy: 0.9714 - val_loss: 0.0754 - val_accuracy: 0.9778\n",
            "Epoch 890/1000\n",
            "4/4 [==============================] - 0s 13ms/step - loss: 0.0729 - accuracy: 0.9714 - val_loss: 0.0755 - val_accuracy: 0.9778\n",
            "Epoch 891/1000\n",
            "4/4 [==============================] - 0s 13ms/step - loss: 0.0727 - accuracy: 0.9714 - val_loss: 0.0769 - val_accuracy: 0.9778\n",
            "Epoch 892/1000\n",
            "4/4 [==============================] - 0s 14ms/step - loss: 0.0710 - accuracy: 0.9714 - val_loss: 0.0783 - val_accuracy: 0.9778\n",
            "Epoch 893/1000\n",
            "4/4 [==============================] - 0s 20ms/step - loss: 0.0710 - accuracy: 0.9714 - val_loss: 0.0802 - val_accuracy: 0.9778\n",
            "Epoch 894/1000\n",
            "4/4 [==============================] - 0s 12ms/step - loss: 0.0718 - accuracy: 0.9619 - val_loss: 0.0824 - val_accuracy: 0.9778\n",
            "Epoch 895/1000\n",
            "4/4 [==============================] - 0s 13ms/step - loss: 0.0719 - accuracy: 0.9524 - val_loss: 0.0822 - val_accuracy: 0.9778\n",
            "Epoch 896/1000\n",
            "4/4 [==============================] - 0s 14ms/step - loss: 0.0717 - accuracy: 0.9524 - val_loss: 0.0804 - val_accuracy: 0.9778\n",
            "Epoch 897/1000\n",
            "4/4 [==============================] - 0s 13ms/step - loss: 0.0712 - accuracy: 0.9619 - val_loss: 0.0788 - val_accuracy: 0.9778\n",
            "Epoch 898/1000\n",
            "4/4 [==============================] - 0s 13ms/step - loss: 0.0711 - accuracy: 0.9714 - val_loss: 0.0771 - val_accuracy: 0.9778\n",
            "Epoch 899/1000\n",
            "4/4 [==============================] - 0s 14ms/step - loss: 0.0706 - accuracy: 0.9714 - val_loss: 0.0779 - val_accuracy: 0.9778\n",
            "Epoch 900/1000\n",
            "4/4 [==============================] - 0s 19ms/step - loss: 0.0706 - accuracy: 0.9714 - val_loss: 0.0783 - val_accuracy: 0.9778\n",
            "Epoch 901/1000\n",
            "4/4 [==============================] - 0s 19ms/step - loss: 0.0704 - accuracy: 0.9714 - val_loss: 0.0771 - val_accuracy: 0.9778\n",
            "Epoch 902/1000\n",
            "4/4 [==============================] - 0s 19ms/step - loss: 0.0706 - accuracy: 0.9714 - val_loss: 0.0755 - val_accuracy: 0.9778\n",
            "Epoch 903/1000\n",
            "4/4 [==============================] - 0s 19ms/step - loss: 0.0706 - accuracy: 0.9714 - val_loss: 0.0753 - val_accuracy: 0.9778\n",
            "Epoch 904/1000\n",
            "4/4 [==============================] - 0s 14ms/step - loss: 0.0710 - accuracy: 0.9714 - val_loss: 0.0752 - val_accuracy: 0.9778\n",
            "Epoch 905/1000\n",
            "4/4 [==============================] - 0s 18ms/step - loss: 0.0704 - accuracy: 0.9714 - val_loss: 0.0766 - val_accuracy: 0.9778\n",
            "Epoch 906/1000\n",
            "4/4 [==============================] - 0s 13ms/step - loss: 0.0695 - accuracy: 0.9714 - val_loss: 0.0801 - val_accuracy: 0.9778\n",
            "Epoch 907/1000\n",
            "4/4 [==============================] - 0s 20ms/step - loss: 0.0723 - accuracy: 0.9619 - val_loss: 0.0861 - val_accuracy: 0.9778\n",
            "Epoch 908/1000\n",
            "4/4 [==============================] - 0s 13ms/step - loss: 0.0745 - accuracy: 0.9619 - val_loss: 0.0897 - val_accuracy: 0.9778\n",
            "Epoch 909/1000\n",
            "4/4 [==============================] - 0s 13ms/step - loss: 0.0745 - accuracy: 0.9619 - val_loss: 0.0854 - val_accuracy: 0.9778\n",
            "Epoch 910/1000\n",
            "4/4 [==============================] - 0s 13ms/step - loss: 0.0723 - accuracy: 0.9619 - val_loss: 0.0791 - val_accuracy: 0.9778\n",
            "Epoch 911/1000\n",
            "4/4 [==============================] - 0s 18ms/step - loss: 0.0698 - accuracy: 0.9714 - val_loss: 0.0767 - val_accuracy: 0.9778\n",
            "Epoch 912/1000\n",
            "4/4 [==============================] - 0s 13ms/step - loss: 0.0696 - accuracy: 0.9714 - val_loss: 0.0755 - val_accuracy: 0.9778\n",
            "Epoch 913/1000\n",
            "4/4 [==============================] - 0s 13ms/step - loss: 0.0699 - accuracy: 0.9714 - val_loss: 0.0752 - val_accuracy: 0.9778\n",
            "Epoch 914/1000\n",
            "4/4 [==============================] - 0s 17ms/step - loss: 0.0699 - accuracy: 0.9714 - val_loss: 0.0756 - val_accuracy: 0.9778\n",
            "Epoch 915/1000\n",
            "4/4 [==============================] - 0s 19ms/step - loss: 0.0696 - accuracy: 0.9714 - val_loss: 0.0793 - val_accuracy: 0.9778\n",
            "Epoch 916/1000\n",
            "4/4 [==============================] - 0s 13ms/step - loss: 0.0709 - accuracy: 0.9524 - val_loss: 0.0824 - val_accuracy: 0.9778\n",
            "Epoch 917/1000\n",
            "4/4 [==============================] - 0s 16ms/step - loss: 0.0711 - accuracy: 0.9524 - val_loss: 0.0813 - val_accuracy: 0.9778\n",
            "Epoch 918/1000\n",
            "4/4 [==============================] - 0s 19ms/step - loss: 0.0700 - accuracy: 0.9619 - val_loss: 0.0770 - val_accuracy: 0.9778\n",
            "Epoch 919/1000\n",
            "4/4 [==============================] - 0s 16ms/step - loss: 0.0682 - accuracy: 0.9714 - val_loss: 0.0741 - val_accuracy: 0.9778\n",
            "Epoch 920/1000\n",
            "4/4 [==============================] - 0s 17ms/step - loss: 0.0709 - accuracy: 0.9714 - val_loss: 0.0733 - val_accuracy: 0.9778\n",
            "Epoch 921/1000\n",
            "4/4 [==============================] - 0s 15ms/step - loss: 0.0724 - accuracy: 0.9810 - val_loss: 0.0732 - val_accuracy: 0.9778\n",
            "Epoch 922/1000\n",
            "4/4 [==============================] - 0s 14ms/step - loss: 0.0724 - accuracy: 0.9714 - val_loss: 0.0734 - val_accuracy: 0.9778\n",
            "Epoch 923/1000\n",
            "4/4 [==============================] - 0s 14ms/step - loss: 0.0703 - accuracy: 0.9714 - val_loss: 0.0738 - val_accuracy: 0.9778\n",
            "Epoch 924/1000\n",
            "4/4 [==============================] - 0s 13ms/step - loss: 0.0697 - accuracy: 0.9714 - val_loss: 0.0743 - val_accuracy: 0.9778\n",
            "Epoch 925/1000\n",
            "4/4 [==============================] - 0s 14ms/step - loss: 0.0696 - accuracy: 0.9714 - val_loss: 0.0744 - val_accuracy: 0.9778\n",
            "Epoch 926/1000\n",
            "4/4 [==============================] - 0s 12ms/step - loss: 0.0690 - accuracy: 0.9714 - val_loss: 0.0760 - val_accuracy: 0.9778\n",
            "Epoch 927/1000\n",
            "4/4 [==============================] - 0s 18ms/step - loss: 0.0691 - accuracy: 0.9714 - val_loss: 0.0772 - val_accuracy: 0.9778\n",
            "Epoch 928/1000\n",
            "4/4 [==============================] - 0s 15ms/step - loss: 0.0686 - accuracy: 0.9619 - val_loss: 0.0755 - val_accuracy: 0.9778\n",
            "Epoch 929/1000\n",
            "4/4 [==============================] - 0s 20ms/step - loss: 0.0684 - accuracy: 0.9714 - val_loss: 0.0748 - val_accuracy: 0.9778\n",
            "Epoch 930/1000\n",
            "4/4 [==============================] - 0s 14ms/step - loss: 0.0687 - accuracy: 0.9714 - val_loss: 0.0744 - val_accuracy: 0.9778\n",
            "Epoch 931/1000\n",
            "4/4 [==============================] - 0s 14ms/step - loss: 0.0685 - accuracy: 0.9714 - val_loss: 0.0746 - val_accuracy: 0.9778\n",
            "Epoch 932/1000\n",
            "4/4 [==============================] - 0s 16ms/step - loss: 0.0682 - accuracy: 0.9714 - val_loss: 0.0752 - val_accuracy: 0.9778\n",
            "Epoch 933/1000\n",
            "4/4 [==============================] - 0s 12ms/step - loss: 0.0694 - accuracy: 0.9714 - val_loss: 0.0765 - val_accuracy: 0.9778\n",
            "Epoch 934/1000\n",
            "4/4 [==============================] - 0s 18ms/step - loss: 0.0684 - accuracy: 0.9619 - val_loss: 0.0758 - val_accuracy: 0.9778\n",
            "Epoch 935/1000\n",
            "4/4 [==============================] - 0s 19ms/step - loss: 0.0685 - accuracy: 0.9714 - val_loss: 0.0752 - val_accuracy: 0.9778\n",
            "Epoch 936/1000\n",
            "4/4 [==============================] - 0s 13ms/step - loss: 0.0680 - accuracy: 0.9714 - val_loss: 0.0753 - val_accuracy: 0.9778\n",
            "Epoch 937/1000\n",
            "4/4 [==============================] - 0s 18ms/step - loss: 0.0680 - accuracy: 0.9714 - val_loss: 0.0752 - val_accuracy: 0.9778\n",
            "Epoch 938/1000\n",
            "4/4 [==============================] - 0s 17ms/step - loss: 0.0679 - accuracy: 0.9714 - val_loss: 0.0747 - val_accuracy: 0.9778\n",
            "Epoch 939/1000\n",
            "4/4 [==============================] - 0s 18ms/step - loss: 0.0678 - accuracy: 0.9714 - val_loss: 0.0732 - val_accuracy: 0.9778\n",
            "Epoch 940/1000\n",
            "4/4 [==============================] - 0s 15ms/step - loss: 0.0679 - accuracy: 0.9714 - val_loss: 0.0724 - val_accuracy: 0.9778\n",
            "Epoch 941/1000\n",
            "4/4 [==============================] - 0s 15ms/step - loss: 0.0688 - accuracy: 0.9714 - val_loss: 0.0723 - val_accuracy: 0.9778\n",
            "Epoch 942/1000\n",
            "4/4 [==============================] - 0s 20ms/step - loss: 0.0686 - accuracy: 0.9714 - val_loss: 0.0728 - val_accuracy: 0.9778\n",
            "Epoch 943/1000\n",
            "4/4 [==============================] - 0s 19ms/step - loss: 0.0688 - accuracy: 0.9714 - val_loss: 0.0743 - val_accuracy: 0.9778\n",
            "Epoch 944/1000\n",
            "4/4 [==============================] - 0s 14ms/step - loss: 0.0677 - accuracy: 0.9714 - val_loss: 0.0739 - val_accuracy: 0.9778\n",
            "Epoch 945/1000\n",
            "4/4 [==============================] - 0s 12ms/step - loss: 0.0684 - accuracy: 0.9714 - val_loss: 0.0725 - val_accuracy: 0.9778\n",
            "Epoch 946/1000\n",
            "4/4 [==============================] - 0s 13ms/step - loss: 0.0693 - accuracy: 0.9714 - val_loss: 0.0721 - val_accuracy: 0.9778\n",
            "Epoch 947/1000\n",
            "4/4 [==============================] - 0s 18ms/step - loss: 0.0683 - accuracy: 0.9714 - val_loss: 0.0730 - val_accuracy: 0.9778\n",
            "Epoch 948/1000\n",
            "4/4 [==============================] - 0s 14ms/step - loss: 0.0674 - accuracy: 0.9714 - val_loss: 0.0734 - val_accuracy: 0.9778\n",
            "Epoch 949/1000\n",
            "4/4 [==============================] - 0s 18ms/step - loss: 0.0679 - accuracy: 0.9714 - val_loss: 0.0753 - val_accuracy: 0.9778\n",
            "Epoch 950/1000\n",
            "4/4 [==============================] - 0s 19ms/step - loss: 0.0673 - accuracy: 0.9619 - val_loss: 0.0763 - val_accuracy: 0.9778\n",
            "Epoch 951/1000\n",
            "4/4 [==============================] - 0s 18ms/step - loss: 0.0675 - accuracy: 0.9619 - val_loss: 0.0785 - val_accuracy: 0.9778\n",
            "Epoch 952/1000\n",
            "4/4 [==============================] - 0s 20ms/step - loss: 0.0680 - accuracy: 0.9619 - val_loss: 0.0768 - val_accuracy: 0.9778\n",
            "Epoch 953/1000\n",
            "4/4 [==============================] - 0s 13ms/step - loss: 0.0672 - accuracy: 0.9619 - val_loss: 0.0750 - val_accuracy: 0.9778\n",
            "Epoch 954/1000\n",
            "4/4 [==============================] - 0s 13ms/step - loss: 0.0664 - accuracy: 0.9714 - val_loss: 0.0724 - val_accuracy: 0.9778\n",
            "Epoch 955/1000\n",
            "4/4 [==============================] - 0s 18ms/step - loss: 0.0678 - accuracy: 0.9714 - val_loss: 0.0713 - val_accuracy: 0.9778\n",
            "Epoch 956/1000\n",
            "4/4 [==============================] - 0s 21ms/step - loss: 0.0690 - accuracy: 0.9714 - val_loss: 0.0712 - val_accuracy: 0.9778\n",
            "Epoch 957/1000\n",
            "4/4 [==============================] - 0s 15ms/step - loss: 0.0683 - accuracy: 0.9714 - val_loss: 0.0716 - val_accuracy: 0.9778\n",
            "Epoch 958/1000\n",
            "4/4 [==============================] - 0s 21ms/step - loss: 0.0662 - accuracy: 0.9714 - val_loss: 0.0736 - val_accuracy: 0.9778\n",
            "Epoch 959/1000\n",
            "4/4 [==============================] - 0s 13ms/step - loss: 0.0668 - accuracy: 0.9619 - val_loss: 0.0774 - val_accuracy: 0.9778\n",
            "Epoch 960/1000\n",
            "4/4 [==============================] - 0s 18ms/step - loss: 0.0682 - accuracy: 0.9619 - val_loss: 0.0777 - val_accuracy: 0.9778\n",
            "Epoch 961/1000\n",
            "4/4 [==============================] - 0s 13ms/step - loss: 0.0679 - accuracy: 0.9619 - val_loss: 0.0725 - val_accuracy: 0.9778\n",
            "Epoch 962/1000\n",
            "4/4 [==============================] - 0s 13ms/step - loss: 0.0676 - accuracy: 0.9714 - val_loss: 0.0715 - val_accuracy: 0.9778\n",
            "Epoch 963/1000\n",
            "4/4 [==============================] - 0s 19ms/step - loss: 0.0671 - accuracy: 0.9714 - val_loss: 0.0726 - val_accuracy: 0.9778\n",
            "Epoch 964/1000\n",
            "4/4 [==============================] - 0s 14ms/step - loss: 0.0672 - accuracy: 0.9619 - val_loss: 0.0757 - val_accuracy: 0.9778\n",
            "Epoch 965/1000\n",
            "4/4 [==============================] - 0s 13ms/step - loss: 0.0669 - accuracy: 0.9619 - val_loss: 0.0794 - val_accuracy: 0.9778\n",
            "Epoch 966/1000\n",
            "4/4 [==============================] - 0s 19ms/step - loss: 0.0687 - accuracy: 0.9524 - val_loss: 0.0810 - val_accuracy: 0.9778\n",
            "Epoch 967/1000\n",
            "4/4 [==============================] - 0s 16ms/step - loss: 0.0686 - accuracy: 0.9524 - val_loss: 0.0783 - val_accuracy: 0.9778\n",
            "Epoch 968/1000\n",
            "4/4 [==============================] - 0s 13ms/step - loss: 0.0670 - accuracy: 0.9619 - val_loss: 0.0755 - val_accuracy: 0.9778\n",
            "Epoch 969/1000\n",
            "4/4 [==============================] - 0s 13ms/step - loss: 0.0659 - accuracy: 0.9619 - val_loss: 0.0721 - val_accuracy: 0.9778\n",
            "Epoch 970/1000\n",
            "4/4 [==============================] - 0s 20ms/step - loss: 0.0676 - accuracy: 0.9714 - val_loss: 0.0707 - val_accuracy: 0.9778\n",
            "Epoch 971/1000\n",
            "4/4 [==============================] - 0s 16ms/step - loss: 0.0672 - accuracy: 0.9714 - val_loss: 0.0706 - val_accuracy: 0.9778\n",
            "Epoch 972/1000\n",
            "4/4 [==============================] - 0s 13ms/step - loss: 0.0672 - accuracy: 0.9714 - val_loss: 0.0705 - val_accuracy: 0.9778\n",
            "Epoch 973/1000\n",
            "4/4 [==============================] - 0s 18ms/step - loss: 0.0680 - accuracy: 0.9714 - val_loss: 0.0711 - val_accuracy: 0.9778\n",
            "Epoch 974/1000\n",
            "4/4 [==============================] - 0s 13ms/step - loss: 0.0665 - accuracy: 0.9714 - val_loss: 0.0719 - val_accuracy: 0.9778\n",
            "Epoch 975/1000\n",
            "4/4 [==============================] - 0s 12ms/step - loss: 0.0657 - accuracy: 0.9714 - val_loss: 0.0723 - val_accuracy: 0.9778\n",
            "Epoch 976/1000\n",
            "4/4 [==============================] - 0s 15ms/step - loss: 0.0663 - accuracy: 0.9714 - val_loss: 0.0728 - val_accuracy: 0.9778\n",
            "Epoch 977/1000\n",
            "4/4 [==============================] - 0s 13ms/step - loss: 0.0654 - accuracy: 0.9714 - val_loss: 0.0715 - val_accuracy: 0.9778\n",
            "Epoch 978/1000\n",
            "4/4 [==============================] - 0s 13ms/step - loss: 0.0654 - accuracy: 0.9714 - val_loss: 0.0706 - val_accuracy: 0.9778\n",
            "Epoch 979/1000\n",
            "4/4 [==============================] - 0s 13ms/step - loss: 0.0661 - accuracy: 0.9714 - val_loss: 0.0705 - val_accuracy: 0.9778\n",
            "Epoch 980/1000\n",
            "4/4 [==============================] - 0s 19ms/step - loss: 0.0667 - accuracy: 0.9714 - val_loss: 0.0702 - val_accuracy: 0.9778\n",
            "Epoch 981/1000\n",
            "4/4 [==============================] - 0s 20ms/step - loss: 0.0667 - accuracy: 0.9714 - val_loss: 0.0703 - val_accuracy: 0.9778\n",
            "Epoch 982/1000\n",
            "4/4 [==============================] - 0s 14ms/step - loss: 0.0659 - accuracy: 0.9714 - val_loss: 0.0714 - val_accuracy: 0.9778\n",
            "Epoch 983/1000\n",
            "4/4 [==============================] - 0s 14ms/step - loss: 0.0652 - accuracy: 0.9714 - val_loss: 0.0729 - val_accuracy: 0.9778\n",
            "Epoch 984/1000\n",
            "4/4 [==============================] - 0s 14ms/step - loss: 0.0653 - accuracy: 0.9714 - val_loss: 0.0742 - val_accuracy: 0.9778\n",
            "Epoch 985/1000\n",
            "4/4 [==============================] - 0s 16ms/step - loss: 0.0654 - accuracy: 0.9619 - val_loss: 0.0743 - val_accuracy: 0.9778\n",
            "Epoch 986/1000\n",
            "4/4 [==============================] - 0s 13ms/step - loss: 0.0657 - accuracy: 0.9619 - val_loss: 0.0743 - val_accuracy: 0.9778\n",
            "Epoch 987/1000\n",
            "4/4 [==============================] - 0s 19ms/step - loss: 0.0659 - accuracy: 0.9619 - val_loss: 0.0765 - val_accuracy: 0.9778\n",
            "Epoch 988/1000\n",
            "4/4 [==============================] - 0s 18ms/step - loss: 0.0662 - accuracy: 0.9619 - val_loss: 0.0738 - val_accuracy: 0.9778\n",
            "Epoch 989/1000\n",
            "4/4 [==============================] - 0s 19ms/step - loss: 0.0648 - accuracy: 0.9619 - val_loss: 0.0719 - val_accuracy: 0.9778\n",
            "Epoch 990/1000\n",
            "4/4 [==============================] - 0s 15ms/step - loss: 0.0644 - accuracy: 0.9714 - val_loss: 0.0699 - val_accuracy: 0.9778\n",
            "Epoch 991/1000\n",
            "4/4 [==============================] - 0s 23ms/step - loss: 0.0656 - accuracy: 0.9714 - val_loss: 0.0696 - val_accuracy: 0.9778\n",
            "Epoch 992/1000\n",
            "4/4 [==============================] - 0s 14ms/step - loss: 0.0668 - accuracy: 0.9714 - val_loss: 0.0699 - val_accuracy: 0.9778\n",
            "Epoch 993/1000\n",
            "4/4 [==============================] - 0s 13ms/step - loss: 0.0655 - accuracy: 0.9714 - val_loss: 0.0699 - val_accuracy: 0.9778\n",
            "Epoch 994/1000\n",
            "4/4 [==============================] - 0s 15ms/step - loss: 0.0656 - accuracy: 0.9714 - val_loss: 0.0699 - val_accuracy: 0.9778\n",
            "Epoch 995/1000\n",
            "4/4 [==============================] - 0s 13ms/step - loss: 0.0656 - accuracy: 0.9714 - val_loss: 0.0697 - val_accuracy: 0.9778\n",
            "Epoch 996/1000\n",
            "4/4 [==============================] - 0s 20ms/step - loss: 0.0658 - accuracy: 0.9714 - val_loss: 0.0695 - val_accuracy: 0.9778\n",
            "Epoch 997/1000\n",
            "4/4 [==============================] - 0s 14ms/step - loss: 0.0655 - accuracy: 0.9714 - val_loss: 0.0708 - val_accuracy: 0.9778\n",
            "Epoch 998/1000\n",
            "4/4 [==============================] - 0s 19ms/step - loss: 0.0648 - accuracy: 0.9714 - val_loss: 0.0719 - val_accuracy: 0.9778\n",
            "Epoch 999/1000\n",
            "4/4 [==============================] - 0s 19ms/step - loss: 0.0641 - accuracy: 0.9714 - val_loss: 0.0703 - val_accuracy: 0.9778\n",
            "Epoch 1000/1000\n",
            "4/4 [==============================] - 0s 18ms/step - loss: 0.0640 - accuracy: 0.9714 - val_loss: 0.0691 - val_accuracy: 0.9778\n"
          ]
        },
        {
          "output_type": "execute_result",
          "data": {
            "text/plain": [
              "<keras.callbacks.History at 0x7f29f4d00670>"
            ]
          },
          "metadata": {},
          "execution_count": 18
        }
      ]
    },
    {
      "cell_type": "code",
      "source": [
        "# Previsões e mudar a variável para True ou False de acordo com o threshold 0.5\n",
        "previsoesrn = modelo.predict(X_testern)\n",
        "previsoesrn = (previsoesrn > 0.5)\n",
        "previsoesrn"
      ],
      "metadata": {
        "colab": {
          "base_uri": "https://localhost:8080/"
        },
        "id": "9YoEEBo_3mIS",
        "outputId": "25a67b79-5ada-40eb-db23-34ec7d8c92c6"
      },
      "execution_count": null,
      "outputs": [
        {
          "output_type": "stream",
          "name": "stdout",
          "text": [
            "2/2 [==============================] - 0s 9ms/step\n"
          ]
        },
        {
          "output_type": "execute_result",
          "data": {
            "text/plain": [
              "array([[False, False,  True],\n",
              "       [False,  True, False],\n",
              "       [ True, False, False],\n",
              "       [False, False,  True],\n",
              "       [ True, False, False],\n",
              "       [False, False,  True],\n",
              "       [ True, False, False],\n",
              "       [False,  True, False],\n",
              "       [False,  True, False],\n",
              "       [False,  True, False],\n",
              "       [False, False,  True],\n",
              "       [False,  True, False],\n",
              "       [False,  True, False],\n",
              "       [False,  True, False],\n",
              "       [False,  True, False],\n",
              "       [ True, False, False],\n",
              "       [False,  True, False],\n",
              "       [False,  True, False],\n",
              "       [ True, False, False],\n",
              "       [ True, False, False],\n",
              "       [False, False,  True],\n",
              "       [False,  True, False],\n",
              "       [ True, False, False],\n",
              "       [ True, False, False],\n",
              "       [False, False,  True],\n",
              "       [ True, False, False],\n",
              "       [ True, False, False],\n",
              "       [False,  True, False],\n",
              "       [False,  True, False],\n",
              "       [ True, False, False],\n",
              "       [False, False,  True],\n",
              "       [False,  True, False],\n",
              "       [ True, False, False],\n",
              "       [False, False,  True],\n",
              "       [False, False,  True],\n",
              "       [False,  True, False],\n",
              "       [ True, False, False],\n",
              "       [False, False,  True],\n",
              "       [False,  True, False],\n",
              "       [False,  True, False],\n",
              "       [False, False,  True],\n",
              "       [ True, False, False],\n",
              "       [False, False,  True],\n",
              "       [ True, False, False],\n",
              "       [ True, False, False]])"
            ]
          },
          "metadata": {},
          "execution_count": 20
        }
      ]
    },
    {
      "cell_type": "code",
      "source": [
        "# Como é um problema com três saídas, precisamos buscar a posição que possui o maior valor (são retornados 3 valores)\n",
        "y_teste_matrix = [np.argmax(t) for t in y_testern]\n",
        "y_previsao_matrix = [np.argmax(t) for t in previsoesrn]"
      ],
      "metadata": {
        "id": "jpTbPMwj3qOX"
      },
      "execution_count": null,
      "outputs": []
    },
    {
      "cell_type": "code",
      "source": [
        "# Geração da matriz de confusão, diag principal sao os acertos\n",
        "confusaorn = confusion_matrix(y_teste_matrix, y_previsao_matrix)\n",
        "confusaorn"
      ],
      "metadata": {
        "colab": {
          "base_uri": "https://localhost:8080/"
        },
        "id": "eMnFmVvp3wZs",
        "outputId": "4edcc79d-de36-4d7a-c485-71d9a567a7e2"
      },
      "execution_count": null,
      "outputs": [
        {
          "output_type": "execute_result",
          "data": {
            "text/plain": [
              "array([[16,  0,  0],\n",
              "       [ 0, 17,  1],\n",
              "       [ 0,  0, 11]])"
            ]
          },
          "metadata": {},
          "execution_count": 24
        }
      ]
    },
    {
      "cell_type": "code",
      "source": [
        "#deep learning"
      ],
      "metadata": {
        "id": "clQJyMBB_o0E"
      },
      "execution_count": null,
      "outputs": []
    },
    {
      "cell_type": "code",
      "source": [
        "!pip install tensorflow"
      ],
      "metadata": {
        "colab": {
          "base_uri": "https://localhost:8080/"
        },
        "id": "8bOzqaMVBGaD",
        "outputId": "e0fc824c-d630-46a3-d95a-238da99b5dba"
      },
      "execution_count": null,
      "outputs": [
        {
          "output_type": "stream",
          "name": "stdout",
          "text": [
            "Looking in indexes: https://pypi.org/simple, https://us-python.pkg.dev/colab-wheels/public/simple/\n",
            "Requirement already satisfied: tensorflow in /usr/local/lib/python3.8/dist-packages (2.9.2)\n",
            "Requirement already satisfied: keras<2.10.0,>=2.9.0rc0 in /usr/local/lib/python3.8/dist-packages (from tensorflow) (2.9.0)\n",
            "Requirement already satisfied: absl-py>=1.0.0 in /usr/local/lib/python3.8/dist-packages (from tensorflow) (1.3.0)\n",
            "Requirement already satisfied: google-pasta>=0.1.1 in /usr/local/lib/python3.8/dist-packages (from tensorflow) (0.2.0)\n",
            "Requirement already satisfied: setuptools in /usr/local/lib/python3.8/dist-packages (from tensorflow) (57.4.0)\n",
            "Requirement already satisfied: termcolor>=1.1.0 in /usr/local/lib/python3.8/dist-packages (from tensorflow) (2.2.0)\n",
            "Requirement already satisfied: grpcio<2.0,>=1.24.3 in /usr/local/lib/python3.8/dist-packages (from tensorflow) (1.51.1)\n",
            "Requirement already satisfied: keras-preprocessing>=1.1.1 in /usr/local/lib/python3.8/dist-packages (from tensorflow) (1.1.2)\n",
            "Requirement already satisfied: packaging in /usr/local/lib/python3.8/dist-packages (from tensorflow) (21.3)\n",
            "Requirement already satisfied: six>=1.12.0 in /usr/local/lib/python3.8/dist-packages (from tensorflow) (1.15.0)\n",
            "Requirement already satisfied: opt-einsum>=2.3.2 in /usr/local/lib/python3.8/dist-packages (from tensorflow) (3.3.0)\n",
            "Requirement already satisfied: tensorboard<2.10,>=2.9 in /usr/local/lib/python3.8/dist-packages (from tensorflow) (2.9.1)\n",
            "Requirement already satisfied: protobuf<3.20,>=3.9.2 in /usr/local/lib/python3.8/dist-packages (from tensorflow) (3.19.6)\n",
            "Requirement already satisfied: flatbuffers<2,>=1.12 in /usr/local/lib/python3.8/dist-packages (from tensorflow) (1.12)\n",
            "Requirement already satisfied: wrapt>=1.11.0 in /usr/local/lib/python3.8/dist-packages (from tensorflow) (1.14.1)\n",
            "Requirement already satisfied: tensorflow-estimator<2.10.0,>=2.9.0rc0 in /usr/local/lib/python3.8/dist-packages (from tensorflow) (2.9.0)\n",
            "Requirement already satisfied: tensorflow-io-gcs-filesystem>=0.23.1 in /usr/local/lib/python3.8/dist-packages (from tensorflow) (0.29.0)\n",
            "Requirement already satisfied: numpy>=1.20 in /usr/local/lib/python3.8/dist-packages (from tensorflow) (1.21.6)\n",
            "Requirement already satisfied: gast<=0.4.0,>=0.2.1 in /usr/local/lib/python3.8/dist-packages (from tensorflow) (0.4.0)\n",
            "Requirement already satisfied: astunparse>=1.6.0 in /usr/local/lib/python3.8/dist-packages (from tensorflow) (1.6.3)\n",
            "Requirement already satisfied: h5py>=2.9.0 in /usr/local/lib/python3.8/dist-packages (from tensorflow) (3.1.0)\n",
            "Requirement already satisfied: typing-extensions>=3.6.6 in /usr/local/lib/python3.8/dist-packages (from tensorflow) (4.4.0)\n",
            "Requirement already satisfied: libclang>=13.0.0 in /usr/local/lib/python3.8/dist-packages (from tensorflow) (14.0.6)\n",
            "Requirement already satisfied: wheel<1.0,>=0.23.0 in /usr/local/lib/python3.8/dist-packages (from astunparse>=1.6.0->tensorflow) (0.38.4)\n",
            "Requirement already satisfied: tensorboard-plugin-wit>=1.6.0 in /usr/local/lib/python3.8/dist-packages (from tensorboard<2.10,>=2.9->tensorflow) (1.8.1)\n",
            "Requirement already satisfied: google-auth<3,>=1.6.3 in /usr/local/lib/python3.8/dist-packages (from tensorboard<2.10,>=2.9->tensorflow) (2.15.0)\n",
            "Requirement already satisfied: markdown>=2.6.8 in /usr/local/lib/python3.8/dist-packages (from tensorboard<2.10,>=2.9->tensorflow) (3.4.1)\n",
            "Requirement already satisfied: requests<3,>=2.21.0 in /usr/local/lib/python3.8/dist-packages (from tensorboard<2.10,>=2.9->tensorflow) (2.25.1)\n",
            "Requirement already satisfied: werkzeug>=1.0.1 in /usr/local/lib/python3.8/dist-packages (from tensorboard<2.10,>=2.9->tensorflow) (1.0.1)\n",
            "Requirement already satisfied: tensorboard-data-server<0.7.0,>=0.6.0 in /usr/local/lib/python3.8/dist-packages (from tensorboard<2.10,>=2.9->tensorflow) (0.6.1)\n",
            "Requirement already satisfied: google-auth-oauthlib<0.5,>=0.4.1 in /usr/local/lib/python3.8/dist-packages (from tensorboard<2.10,>=2.9->tensorflow) (0.4.6)\n",
            "Requirement already satisfied: pyparsing!=3.0.5,>=2.0.2 in /usr/local/lib/python3.8/dist-packages (from packaging->tensorflow) (3.0.9)\n",
            "Requirement already satisfied: rsa<5,>=3.1.4 in /usr/local/lib/python3.8/dist-packages (from google-auth<3,>=1.6.3->tensorboard<2.10,>=2.9->tensorflow) (4.9)\n",
            "Requirement already satisfied: pyasn1-modules>=0.2.1 in /usr/local/lib/python3.8/dist-packages (from google-auth<3,>=1.6.3->tensorboard<2.10,>=2.9->tensorflow) (0.2.8)\n",
            "Requirement already satisfied: cachetools<6.0,>=2.0.0 in /usr/local/lib/python3.8/dist-packages (from google-auth<3,>=1.6.3->tensorboard<2.10,>=2.9->tensorflow) (5.2.0)\n",
            "Requirement already satisfied: requests-oauthlib>=0.7.0 in /usr/local/lib/python3.8/dist-packages (from google-auth-oauthlib<0.5,>=0.4.1->tensorboard<2.10,>=2.9->tensorflow) (1.3.1)\n",
            "Requirement already satisfied: importlib-metadata>=4.4 in /usr/local/lib/python3.8/dist-packages (from markdown>=2.6.8->tensorboard<2.10,>=2.9->tensorflow) (6.0.0)\n",
            "Requirement already satisfied: urllib3<1.27,>=1.21.1 in /usr/local/lib/python3.8/dist-packages (from requests<3,>=2.21.0->tensorboard<2.10,>=2.9->tensorflow) (1.24.3)\n",
            "Requirement already satisfied: idna<3,>=2.5 in /usr/local/lib/python3.8/dist-packages (from requests<3,>=2.21.0->tensorboard<2.10,>=2.9->tensorflow) (2.10)\n",
            "Requirement already satisfied: chardet<5,>=3.0.2 in /usr/local/lib/python3.8/dist-packages (from requests<3,>=2.21.0->tensorboard<2.10,>=2.9->tensorflow) (4.0.0)\n",
            "Requirement already satisfied: certifi>=2017.4.17 in /usr/local/lib/python3.8/dist-packages (from requests<3,>=2.21.0->tensorboard<2.10,>=2.9->tensorflow) (2022.12.7)\n",
            "Requirement already satisfied: zipp>=0.5 in /usr/local/lib/python3.8/dist-packages (from importlib-metadata>=4.4->markdown>=2.6.8->tensorboard<2.10,>=2.9->tensorflow) (3.11.0)\n",
            "Requirement already satisfied: pyasn1<0.5.0,>=0.4.6 in /usr/local/lib/python3.8/dist-packages (from pyasn1-modules>=0.2.1->google-auth<3,>=1.6.3->tensorboard<2.10,>=2.9->tensorflow) (0.4.8)\n",
            "Requirement already satisfied: oauthlib>=3.0.0 in /usr/local/lib/python3.8/dist-packages (from requests-oauthlib>=0.7.0->google-auth-oauthlib<0.5,>=0.4.1->tensorboard<2.10,>=2.9->tensorflow) (3.2.2)\n"
          ]
        }
      ]
    },
    {
      "cell_type": "code",
      "source": [
        "# Importação das bibliotecas\n",
        "import matplotlib.pyplot as plt\n",
        "from keras.models import Sequential\n",
        "from keras.layers import Dense, Dropout\n",
        "from keras.utils import np_utils\n",
        "import numpy as np\n",
        "from sklearn.metrics import confusion_matrix\n",
        "from keras.datasets import mnist"
      ],
      "metadata": {
        "id": "hiWnxjiU_rAu"
      },
      "execution_count": null,
      "outputs": []
    },
    {
      "cell_type": "code",
      "source": [
        "# Obtenção dos dados e divisão automática entre treinamento e teste\n",
        "(X_treinoimg, y_treinoimg), (X_testeimg, y_testeimg) = mnist.load_data()\n",
        "# Visualização de imagens específicas\n",
        "plt.imshow(X_treinoimg[21], cmap = 'gray')\n",
        "plt.title(y_treinoimg[21]) #gerou um zero na posicao 21"
      ],
      "metadata": {
        "colab": {
          "base_uri": "https://localhost:8080/",
          "height": 333
        },
        "id": "JI5jVvOyBMaN",
        "outputId": "d9ca8839-0850-48f4-c905-6dec01580ba2"
      },
      "execution_count": null,
      "outputs": [
        {
          "output_type": "stream",
          "name": "stdout",
          "text": [
            "Downloading data from https://storage.googleapis.com/tensorflow/tf-keras-datasets/mnist.npz\n",
            "11490434/11490434 [==============================] - 1s 0us/step\n"
          ]
        },
        {
          "output_type": "execute_result",
          "data": {
            "text/plain": [
              "Text(0.5, 1.0, '0')"
            ]
          },
          "metadata": {},
          "execution_count": 2
        },
        {
          "output_type": "display_data",
          "data": {
            "text/plain": [
              "<Figure size 432x288 with 1 Axes>"
            ],
            "image/png": "[encoded data removed]"
          },
          "metadata": {
            "needs_background": "light"
          }
        }
      ]
    },
    {
      "cell_type": "code",
      "source": [
        "# Mudança de dimensão, originalmente está em 28x28 e precisamos 784, muda de vetor pra matriz\n",
        "X_treinoimg = X_treinoimg.reshape((len(X_treinoimg), np.prod(X_treinoimg.shape[1:])))\n",
        "X_testeimg = X_testeimg.reshape((len(X_testeimg), np.prod(X_testeimg.shape[1:])))\n",
        "X_testeimg[0]"
      ],
      "metadata": {
        "id": "fXQ6DRPYBQKD",
        "colab": {
          "base_uri": "https://localhost:8080/"
        },
        "outputId": "bc336c80-7380-4b5c-e0df-f6e43f623afe"
      },
      "execution_count": null,
      "outputs": [
        {
          "output_type": "execute_result",
          "data": {
            "text/plain": [
              "array([  0,   0,   0,   0,   0,   0,   0,   0,   0,   0,   0,   0,   0,\n",
              "         0,   0,   0,   0,   0,   0,   0,   0,   0,   0,   0,   0,   0,\n",
              "         0,   0,   0,   0,   0,   0,   0,   0,   0,   0,   0,   0,   0,\n",
              "         0,   0,   0,   0,   0,   0,   0,   0,   0,   0,   0,   0,   0,\n",
              "         0,   0,   0,   0,   0,   0,   0,   0,   0,   0,   0,   0,   0,\n",
              "         0,   0,   0,   0,   0,   0,   0,   0,   0,   0,   0,   0,   0,\n",
              "         0,   0,   0,   0,   0,   0,   0,   0,   0,   0,   0,   0,   0,\n",
              "         0,   0,   0,   0,   0,   0,   0,   0,   0,   0,   0,   0,   0,\n",
              "         0,   0,   0,   0,   0,   0,   0,   0,   0,   0,   0,   0,   0,\n",
              "         0,   0,   0,   0,   0,   0,   0,   0,   0,   0,   0,   0,   0,\n",
              "         0,   0,   0,   0,   0,   0,   0,   0,   0,   0,   0,   0,   0,\n",
              "         0,   0,   0,   0,   0,   0,   0,   0,   0,   0,   0,   0,   0,\n",
              "         0,   0,   0,   0,   0,   0,   0,   0,   0,   0,   0,   0,   0,\n",
              "         0,   0,   0,   0,   0,   0,   0,   0,   0,   0,   0,   0,   0,\n",
              "         0,   0,   0,   0,   0,   0,   0,   0,   0,   0,   0,   0,   0,\n",
              "         0,   0,   0,   0,   0,   0,   0,  84, 185, 159, 151,  60,  36,\n",
              "         0,   0,   0,   0,   0,   0,   0,   0,   0,   0,   0,   0,   0,\n",
              "         0,   0,   0,   0,   0,   0,   0,   0,   0, 222, 254, 254, 254,\n",
              "       254, 241, 198, 198, 198, 198, 198, 198, 198, 198, 170,  52,   0,\n",
              "         0,   0,   0,   0,   0,   0,   0,   0,   0,   0,   0,  67, 114,\n",
              "        72, 114, 163, 227, 254, 225, 254, 254, 254, 250, 229, 254, 254,\n",
              "       140,   0,   0,   0,   0,   0,   0,   0,   0,   0,   0,   0,   0,\n",
              "         0,   0,   0,   0,   0,  17,  66,  14,  67,  67,  67,  59,  21,\n",
              "       236, 254, 106,   0,   0,   0,   0,   0,   0,   0,   0,   0,   0,\n",
              "         0,   0,   0,   0,   0,   0,   0,   0,   0,   0,   0,   0,   0,\n",
              "         0,  83, 253, 209,  18,   0,   0,   0,   0,   0,   0,   0,   0,\n",
              "         0,   0,   0,   0,   0,   0,   0,   0,   0,   0,   0,   0,   0,\n",
              "         0,   0,  22, 233, 255,  83,   0,   0,   0,   0,   0,   0,   0,\n",
              "         0,   0,   0,   0,   0,   0,   0,   0,   0,   0,   0,   0,   0,\n",
              "         0,   0,   0,   0, 129, 254, 238,  44,   0,   0,   0,   0,   0,\n",
              "         0,   0,   0,   0,   0,   0,   0,   0,   0,   0,   0,   0,   0,\n",
              "         0,   0,   0,   0,   0,  59, 249, 254,  62,   0,   0,   0,   0,\n",
              "         0,   0,   0,   0,   0,   0,   0,   0,   0,   0,   0,   0,   0,\n",
              "         0,   0,   0,   0,   0,   0,   0, 133, 254, 187,   5,   0,   0,\n",
              "         0,   0,   0,   0,   0,   0,   0,   0,   0,   0,   0,   0,   0,\n",
              "         0,   0,   0,   0,   0,   0,   0,   0,   9, 205, 248,  58,   0,\n",
              "         0,   0,   0,   0,   0,   0,   0,   0,   0,   0,   0,   0,   0,\n",
              "         0,   0,   0,   0,   0,   0,   0,   0,   0,   0, 126, 254, 182,\n",
              "         0,   0,   0,   0,   0,   0,   0,   0,   0,   0,   0,   0,   0,\n",
              "         0,   0,   0,   0,   0,   0,   0,   0,   0,   0,   0,  75, 251,\n",
              "       240,  57,   0,   0,   0,   0,   0,   0,   0,   0,   0,   0,   0,\n",
              "         0,   0,   0,   0,   0,   0,   0,   0,   0,   0,   0,   0,  19,\n",
              "       221, 254, 166,   0,   0,   0,   0,   0,   0,   0,   0,   0,   0,\n",
              "         0,   0,   0,   0,   0,   0,   0,   0,   0,   0,   0,   0,   0,\n",
              "         3, 203, 254, 219,  35,   0,   0,   0,   0,   0,   0,   0,   0,\n",
              "         0,   0,   0,   0,   0,   0,   0,   0,   0,   0,   0,   0,   0,\n",
              "         0,   0,  38, 254, 254,  77,   0,   0,   0,   0,   0,   0,   0,\n",
              "         0,   0,   0,   0,   0,   0,   0,   0,   0,   0,   0,   0,   0,\n",
              "         0,   0,   0,  31, 224, 254, 115,   1,   0,   0,   0,   0,   0,\n",
              "         0,   0,   0,   0,   0,   0,   0,   0,   0,   0,   0,   0,   0,\n",
              "         0,   0,   0,   0,   0, 133, 254, 254,  52,   0,   0,   0,   0,\n",
              "         0,   0,   0,   0,   0,   0,   0,   0,   0,   0,   0,   0,   0,\n",
              "         0,   0,   0,   0,   0,   0,  61, 242, 254, 254,  52,   0,   0,\n",
              "         0,   0,   0,   0,   0,   0,   0,   0,   0,   0,   0,   0,   0,\n",
              "         0,   0,   0,   0,   0,   0,   0,   0, 121, 254, 254, 219,  40,\n",
              "         0,   0,   0,   0,   0,   0,   0,   0,   0,   0,   0,   0,   0,\n",
              "         0,   0,   0,   0,   0,   0,   0,   0,   0,   0, 121, 254, 207,\n",
              "        18,   0,   0,   0,   0,   0,   0,   0,   0,   0,   0,   0,   0,\n",
              "         0,   0,   0,   0,   0,   0,   0,   0,   0,   0,   0,   0,   0,\n",
              "         0,   0,   0,   0,   0,   0,   0,   0,   0,   0,   0,   0,   0,\n",
              "         0,   0,   0,   0], dtype=uint8)"
            ]
          },
          "metadata": {},
          "execution_count": 3
        }
      ]
    },
    {
      "cell_type": "code",
      "source": [
        "# Transformação dos dados para float para podermos normalizar os dados\n",
        "X_treinoimg = X_treinoimg.astype('float32')\n",
        "X_testeimg = X_testeimg.astype('float32')"
      ],
      "metadata": {
        "id": "P1x3W_0cBTXS"
      },
      "execution_count": null,
      "outputs": []
    },
    {
      "cell_type": "code",
      "source": [
        "# Normalização (255 é o valor máximo de um pixel)\n",
        "X_treinoimg /= 255\n",
        "X_testeimg /= 255"
      ],
      "metadata": {
        "id": "hBFOx9qWBX5S"
      },
      "execution_count": null,
      "outputs": []
    },
    {
      "cell_type": "code",
      "source": [
        "# Transformação para o formato dummy (temos 10 classes)\n",
        "y_treinoimg = np_utils.to_categorical(y_treinoimg, 10)\n",
        "y_testeimg = np_utils.to_categorical(y_testeimg, 10)\n",
        "y_testeimg[0] #vetor com posicao do caracter==1"
      ],
      "metadata": {
        "id": "OZj7CqlABdwJ",
        "colab": {
          "base_uri": "https://localhost:8080/"
        },
        "outputId": "4f803582-50e7-413f-eef7-ab46a8167d0c"
      },
      "execution_count": null,
      "outputs": [
        {
          "output_type": "execute_result",
          "data": {
            "text/plain": [
              "array([0., 0., 0., 0., 0., 0., 0., 1., 0., 0.], dtype=float32)"
            ]
          },
          "metadata": {},
          "execution_count": 6
        }
      ]
    },
    {
      "cell_type": "code",
      "source": [
        "# Estrutura da rede neural: 784 - 64 - 64 - 64 - 10\n",
        "# Dropout é utilizado para zerar uma porcentagem dos neurônios, para evitar o overfitting(dropouting transf valores iguaal a zero pra ñ ter super ajuste no modelo)\n",
        "modeloimg = Sequential()\n",
        "modeloimg.add(Dense(units = 64, activation = 'relu', input_dim = 784)) #densa= conectadas, 64 neuronios dessa camada conectada com 64 da seguinte\n",
        "modeloimg.add(Dropout(0.2))\n",
        "modeloimg.add(Dense(units = 64, activation = 'relu'))\n",
        "modeloimg.add(Dropout(0.2))\n",
        "modeloimg.add(Dense(units = 64, activation = 'relu'))\n",
        "modeloimg.add(Dropout(0.2))#20%\n",
        "#camada de saida, softmax probabilidade\n",
        "modeloimg.add(Dense(units = 10, activation = 'softmax')) #de 0 a 9 ==10 caracteres de saida"
      ],
      "metadata": {
        "id": "iCm1yR-aBi2t"
      },
      "execution_count": null,
      "outputs": []
    },
    {
      "cell_type": "code",
      "source": [
        "# Visualização da estrutura da rede neural\n",
        "modeloimg.summary()"
      ],
      "metadata": {
        "id": "wNW34x2yBnzD",
        "colab": {
          "base_uri": "https://localhost:8080/"
        },
        "outputId": "a8f22e72-2836-4e93-d856-2a6319599273"
      },
      "execution_count": null,
      "outputs": [
        {
          "output_type": "stream",
          "name": "stdout",
          "text": [
            "Model: \"sequential_1\"\n",
            "_________________________________________________________________\n",
            " Layer (type)                Output Shape              Param #   \n",
            "=================================================================\n",
            " dense_3 (Dense)             (None, 64)                50240     \n",
            "                                                                 \n",
            " dropout_2 (Dropout)         (None, 64)                0         \n",
            "                                                                 \n",
            " dense_4 (Dense)             (None, 64)                4160      \n",
            "                                                                 \n",
            " dropout_3 (Dropout)         (None, 64)                0         \n",
            "                                                                 \n",
            " dense_5 (Dense)             (None, 64)                4160      \n",
            "                                                                 \n",
            " dropout_4 (Dropout)         (None, 64)                0         \n",
            "                                                                 \n",
            " dense_6 (Dense)             (None, 10)                650       \n",
            "                                                                 \n",
            "=================================================================\n",
            "Total params: 59,210\n",
            "Trainable params: 59,210\n",
            "Non-trainable params: 0\n",
            "_________________________________________________________________\n"
          ]
        }
      ]
    },
    {
      "cell_type": "code",
      "source": [
        "# Configuração dos parâmetros da rede neural e treinamento (utilizando base de dados de validação)\n",
        "# Na variável historico temos os histórico das execuções (erro e accuracy). acurancy 1=teste\n",
        "modeloimg.compile(optimizer = 'adam', loss = 'categorical_crossentropy',\n",
        "               metrics = ['accuracy'])\n",
        "historico = modeloimg.fit(X_treinoimg, y_treinoimg, epochs = 20,\n",
        "                       validation_data = (X_testeimg, y_testeimg))"
      ],
      "metadata": {
        "id": "3vz-piLBBtKc",
        "colab": {
          "base_uri": "https://localhost:8080/"
        },
        "outputId": "50064c5c-c257-4a8d-f5c7-46a07a821a97"
      },
      "execution_count": null,
      "outputs": [
        {
          "output_type": "stream",
          "name": "stdout",
          "text": [
            "Epoch 1/20\n",
            "1875/1875 [==============================] - 6s 3ms/step - loss: 0.4487 - accuracy: 0.8640 - val_loss: 0.1654 - val_accuracy: 0.9503\n",
            "Epoch 2/20\n",
            "1875/1875 [==============================] - 6s 3ms/step - loss: 0.2314 - accuracy: 0.9331 - val_loss: 0.1293 - val_accuracy: 0.9616\n",
            "Epoch 3/20\n",
            "1875/1875 [==============================] - 5s 3ms/step - loss: 0.1908 - accuracy: 0.9446 - val_loss: 0.1210 - val_accuracy: 0.9654\n",
            "Epoch 4/20\n",
            "1875/1875 [==============================] - 5s 3ms/step - loss: 0.1691 - accuracy: 0.9505 - val_loss: 0.1006 - val_accuracy: 0.9718\n",
            "Epoch 5/20\n",
            "1875/1875 [==============================] - 5s 3ms/step - loss: 0.1523 - accuracy: 0.9563 - val_loss: 0.0954 - val_accuracy: 0.9713\n",
            "Epoch 6/20\n",
            "1875/1875 [==============================] - 7s 4ms/step - loss: 0.1432 - accuracy: 0.9571 - val_loss: 0.0980 - val_accuracy: 0.9706\n",
            "Epoch 7/20\n",
            "1875/1875 [==============================] - 6s 3ms/step - loss: 0.1331 - accuracy: 0.9620 - val_loss: 0.1003 - val_accuracy: 0.9709\n",
            "Epoch 8/20\n",
            "1875/1875 [==============================] - 5s 3ms/step - loss: 0.1255 - accuracy: 0.9630 - val_loss: 0.1002 - val_accuracy: 0.9719\n",
            "Epoch 9/20\n",
            "1875/1875 [==============================] - 6s 3ms/step - loss: 0.1206 - accuracy: 0.9645 - val_loss: 0.0890 - val_accuracy: 0.9741\n",
            "Epoch 10/20\n",
            "1875/1875 [==============================] - 6s 3ms/step - loss: 0.1151 - accuracy: 0.9658 - val_loss: 0.0954 - val_accuracy: 0.9747\n",
            "Epoch 11/20\n",
            "1875/1875 [==============================] - 6s 3ms/step - loss: 0.1127 - accuracy: 0.9665 - val_loss: 0.0951 - val_accuracy: 0.9739\n",
            "Epoch 12/20\n",
            "1875/1875 [==============================] - 6s 3ms/step - loss: 0.1085 - accuracy: 0.9675 - val_loss: 0.0912 - val_accuracy: 0.9743\n",
            "Epoch 13/20\n",
            "1875/1875 [==============================] - 6s 3ms/step - loss: 0.1043 - accuracy: 0.9693 - val_loss: 0.0888 - val_accuracy: 0.9747\n",
            "Epoch 14/20\n",
            "1875/1875 [==============================] - 6s 3ms/step - loss: 0.1007 - accuracy: 0.9696 - val_loss: 0.0962 - val_accuracy: 0.9742\n",
            "Epoch 15/20\n",
            "1875/1875 [==============================] - 6s 3ms/step - loss: 0.1010 - accuracy: 0.9700 - val_loss: 0.0934 - val_accuracy: 0.9739\n",
            "Epoch 16/20\n",
            "1875/1875 [==============================] - 6s 3ms/step - loss: 0.0978 - accuracy: 0.9700 - val_loss: 0.0947 - val_accuracy: 0.9736\n",
            "Epoch 17/20\n",
            "1875/1875 [==============================] - 6s 3ms/step - loss: 0.0944 - accuracy: 0.9715 - val_loss: 0.0891 - val_accuracy: 0.9752\n",
            "Epoch 18/20\n",
            "1875/1875 [==============================] - 6s 3ms/step - loss: 0.0907 - accuracy: 0.9732 - val_loss: 0.0946 - val_accuracy: 0.9730\n",
            "Epoch 19/20\n",
            "1875/1875 [==============================] - 6s 3ms/step - loss: 0.0910 - accuracy: 0.9726 - val_loss: 0.0963 - val_accuracy: 0.9745\n",
            "Epoch 20/20\n",
            "1875/1875 [==============================] - 5s 3ms/step - loss: 0.0896 - accuracy: 0.9730 - val_loss: 0.0912 - val_accuracy: 0.9755\n"
          ]
        }
      ]
    },
    {
      "cell_type": "code",
      "source": [
        "# Gráfico para visualizar os erros e accuracy == metrica de avaliacao,\n",
        "historico.history.keys()\n",
        "#evolução do erro, azul\n",
        "plt.plot(historico.history['val_loss'])\n",
        "#performance da rede\n",
        "plt.plot(historico.history['val_accuracy']) #azul é decorrocada do erro ,performance da rede é laranja"
      ],
      "metadata": {
        "id": "kRyyxPR-B0bN",
        "colab": {
          "base_uri": "https://localhost:8080/",
          "height": 282
        },
        "outputId": "8cc6dbf7-d2f2-4f0d-9596-87d6d7d66c08"
      },
      "execution_count": null,
      "outputs": [
        {
          "output_type": "execute_result",
          "data": {
            "text/plain": [
              "[<matplotlib.lines.Line2D at 0x7fa8eb1b26a0>]"
            ]
          },
          "metadata": {},
          "execution_count": 13
        },
        {
          "output_type": "display_data",
          "data": {
            "text/plain": [
              "<Figure size 432x288 with 1 Axes>"
            ],
            "image/png": "[encoded data removed]"
          },
          "metadata": {
            "needs_background": "light"
          }
        }
      ]
    },
    {
      "cell_type": "code",
      "source": [
        "# Obtenção das previsões \n",
        "previsoesimg = modeloimg.predict(X_testeimg)\n",
        "previsoesimg #termos de prob"
      ],
      "metadata": {
        "id": "SU2FGgikB54Q",
        "colab": {
          "base_uri": "https://localhost:8080/"
        },
        "outputId": "818025f5-463d-45b0-bc53-d88d9b897c28"
      },
      "execution_count": null,
      "outputs": [
        {
          "output_type": "stream",
          "name": "stdout",
          "text": [
            "313/313 [==============================] - 1s 1ms/step\n"
          ]
        },
        {
          "output_type": "execute_result",
          "data": {
            "text/plain": [
              "array([[3.6644542e-11, 6.4317931e-08, 1.8447750e-05, ..., 9.9995786e-01,\n",
              "        1.1730671e-08, 9.6105086e-06],\n",
              "       [2.1606818e-14, 1.0763186e-08, 9.9999946e-01, ..., 2.3897477e-09,\n",
              "        4.7867874e-09, 7.2115512e-16],\n",
              "       [8.8695338e-13, 9.9995440e-01, 1.2208115e-07, ..., 9.8720886e-07,\n",
              "        4.1922503e-05, 3.4491791e-08],\n",
              "       ...,\n",
              "       [8.4462884e-13, 3.5186210e-09, 4.3216694e-08, ..., 8.1272350e-07,\n",
              "        3.2789604e-08, 8.4902968e-05],\n",
              "       [3.0842762e-10, 3.7276981e-14, 5.1157216e-12, ..., 2.8218822e-10,\n",
              "        4.0832347e-07, 2.7689413e-08],\n",
              "       [6.2012673e-13, 1.6594048e-21, 8.3877258e-16, ..., 1.0075286e-21,\n",
              "        1.7398893e-15, 3.8225067e-18]], dtype=float32)"
            ]
          },
          "metadata": {},
          "execution_count": 14
        }
      ]
    },
    {
      "cell_type": "code",
      "source": [
        "# valor máximo (com a probabilidade maior por serem 10 saídas) e geração da matriz de confusão\n",
        "y_teste_matriz = [np.argmax(t) for t in y_testeimg] #poe agr max em y_testeimg\n",
        "y_previsoes_matriz = [np.argmax(t) for t in previsoesimg]\n",
        "confusao = confusion_matrix(y_teste_matriz, y_previsoes_matriz)\n",
        "confusao #diag principal acertou"
      ],
      "metadata": {
        "id": "S_WSusxOB6Xr",
        "colab": {
          "base_uri": "https://localhost:8080/"
        },
        "outputId": "b8001edf-fa43-43e2-cb48-a3d34d62f797"
      },
      "execution_count": null,
      "outputs": [
        {
          "output_type": "execute_result",
          "data": {
            "text/plain": [
              "array([[ 969,    0,    1,    1,    0,    0,    6,    1,    2,    0],\n",
              "       [   0, 1122,    3,    3,    0,    0,    2,    1,    4,    0],\n",
              "       [   0,    0, 1010,    5,    1,    1,    3,    3,    9,    0],\n",
              "       [   1,    0,    2,  994,    0,    2,    0,    5,    3,    3],\n",
              "       [   1,    0,    4,    0,  954,    0,    6,    1,    0,   16],\n",
              "       [   4,    0,    0,   15,    1,  857,    8,    0,    6,    1],\n",
              "       [   4,    3,    0,    1,    2,    3,  941,    0,    3,    1],\n",
              "       [   2,    5,   10,   10,    2,    0,    0,  988,    2,    9],\n",
              "       [   5,    0,    3,    3,    5,    2,    6,    3,  943,    4],\n",
              "       [   3,    4,    0,    7,   10,    1,    0,    5,    2,  977]])"
            ]
          },
          "metadata": {},
          "execution_count": 15
        }
      ]
    },
    {
      "cell_type": "code",
      "source": [
        "# Previsão com um novo registro, convertendo o array para o formato de matriz\n",
        "#número 4 \n",
        "y_treinoimg[20]"
      ],
      "metadata": {
        "id": "_Ff9LwKgCBxO",
        "colab": {
          "base_uri": "https://localhost:8080/"
        },
        "outputId": "595421a1-f372-4f1f-e018-15bdcc7e1d30"
      },
      "execution_count": null,
      "outputs": [
        {
          "output_type": "execute_result",
          "data": {
            "text/plain": [
              "array([0., 0., 0., 0., 1., 0., 0., 0., 0., 0.], dtype=float32)"
            ]
          },
          "metadata": {},
          "execution_count": 16
        }
      ]
    },
    {
      "cell_type": "code",
      "source": [
        "#passo a mesma posição para o modelo prever\n",
        "novo = X_treinoimg[20]\n",
        "#de matriz para vetor\n",
        "novo = np.expand_dims(novo, axis = 0)\n",
        "#previsao\n",
        "pred = modeloimg.predict(novo)\n",
        "#maior valor\n",
        "pred = [np.argmax(pred) for t in pred]\n",
        "pred"
      ],
      "metadata": {
        "id": "QOqOnukPB6tR",
        "colab": {
          "base_uri": "https://localhost:8080/"
        },
        "outputId": "dd47839d-1d74-4392-f116-98512a6ab156"
      },
      "execution_count": null,
      "outputs": [
        {
          "output_type": "stream",
          "name": "stdout",
          "text": [
            "1/1 [==============================] - 0s 41ms/step\n"
          ]
        },
        {
          "output_type": "execute_result",
          "data": {
            "text/plain": [
              "[4]"
            ]
          },
          "metadata": {},
          "execution_count": 17
        }
      ]
    },
    {
      "cell_type": "code",
      "source": [
        "#deep learning II"
      ],
      "metadata": {
        "id": "hVczbVRmuVSV"
      },
      "execution_count": null,
      "outputs": []
    },
    {
      "cell_type": "code",
      "source": [
        "import pandas as pd\n",
        "from keras.models import Sequential\n",
        "from keras.layers import Dense\n",
        "from sklearn.model_selection import train_test_split\n",
        "from sklearn.metrics import confusion_matrix\n",
        "from sklearn.preprocessing import LabelEncoder, OneHotEncoder\n",
        "from sklearn.preprocessing import StandardScaler\n",
        "from sklearn.compose import make_column_transformer"
      ],
      "metadata": {
        "id": "AvtrO900uZkP"
      },
      "execution_count": null,
      "outputs": []
    },
    {
      "cell_type": "code",
      "source": [
        "dataset = pd.read_csv(\"Credit2.csv\", sep=\";\")\n",
        "dataset"
      ],
      "metadata": {
        "colab": {
          "base_uri": "https://localhost:8080/",
          "height": 520
        },
        "id": "Gm4x2Eepua6K",
        "outputId": "8525b843-a2f2-4eab-e841-307c978194a5"
      },
      "execution_count": null,
      "outputs": [
        {
          "output_type": "execute_result",
          "data": {
            "text/plain": [
              "       ID checking_status                  credit_history  duration  \\\n",
              "0       1              <0  critical/other existing credit         6   \n",
              "1       2        0<=X<200                   existing paid        48   \n",
              "2       3     no checking  critical/other existing credit        12   \n",
              "3       4              <0                   existing paid        42   \n",
              "4       5              <0              delayed previously        24   \n",
              "..    ...             ...                             ...       ...   \n",
              "995   996     no checking                   existing paid        12   \n",
              "996   997              <0                   existing paid        30   \n",
              "997   998     no checking                   existing paid        12   \n",
              "998   999              <0                   existing paid        45   \n",
              "999  1000        0<=X<200  critical/other existing credit        45   \n",
              "\n",
              "     credit_amount  installment_commitment  residence_since  age  \\\n",
              "0             1169                       4                4   67   \n",
              "1             5951                       2                2   22   \n",
              "2             2096                       2                3   49   \n",
              "3             7882                       2                4   45   \n",
              "4             4870                       3                4   53   \n",
              "..             ...                     ...              ...  ...   \n",
              "995           1736                       3                4   31   \n",
              "996           3857                       4                4   40   \n",
              "997            804                       4                4   38   \n",
              "998           1845                       4                4   23   \n",
              "999           4576                       3                4   27   \n",
              "\n",
              "     existing_credits  num_dependents class  \n",
              "0                   2               1  good  \n",
              "1                   1               1   bad  \n",
              "2                   1               2  good  \n",
              "3                   1               2  good  \n",
              "4                   2               2   bad  \n",
              "..                ...             ...   ...  \n",
              "995                 1               1  good  \n",
              "996                 1               1  good  \n",
              "997                 1               1  good  \n",
              "998                 1               1   bad  \n",
              "999                 1               1  good  \n",
              "\n",
              "[1000 rows x 11 columns]"
            ],
            "text/html": [
              "\n",
              "  <div id=\"df-167e89a8-ad40-4aa5-ae78-0118cdf9587e\">\n",
              "    <div class=\"colab-df-container\">\n",
              "      <div>\n",
              "<style scoped>\n",
              "    .dataframe tbody tr th:only-of-type {\n",
              "        vertical-align: middle;\n",
              "    }\n",
              "\n",
              "    .dataframe tbody tr th {\n",
              "        vertical-align: top;\n",
              "    }\n",
              "\n",
              "    .dataframe thead th {\n",
              "        text-align: right;\n",
              "    }\n",
              "</style>\n",
              "<table border=\"1\" class=\"dataframe\">\n",
              "  <thead>\n",
              "    <tr style=\"text-align: right;\">\n",
              "      <th></th>\n",
              "      <th>ID</th>\n",
              "      <th>checking_status</th>\n",
              "      <th>credit_history</th>\n",
              "      <th>duration</th>\n",
              "      <th>credit_amount</th>\n",
              "      <th>installment_commitment</th>\n",
              "      <th>residence_since</th>\n",
              "      <th>age</th>\n",
              "      <th>existing_credits</th>\n",
              "      <th>num_dependents</th>\n",
              "      <th>class</th>\n",
              "    </tr>\n",
              "  </thead>\n",
              "  <tbody>\n",
              "    <tr>\n",
              "      <th>0</th>\n",
              "      <td>1</td>\n",
              "      <td>&lt;0</td>\n",
              "      <td>critical/other existing credit</td>\n",
              "      <td>6</td>\n",
              "      <td>1169</td>\n",
              "      <td>4</td>\n",
              "      <td>4</td>\n",
              "      <td>67</td>\n",
              "      <td>2</td>\n",
              "      <td>1</td>\n",
              "      <td>good</td>\n",
              "    </tr>\n",
              "    <tr>\n",
              "      <th>1</th>\n",
              "      <td>2</td>\n",
              "      <td>0&lt;=X&lt;200</td>\n",
              "      <td>existing paid</td>\n",
              "      <td>48</td>\n",
              "      <td>5951</td>\n",
              "      <td>2</td>\n",
              "      <td>2</td>\n",
              "      <td>22</td>\n",
              "      <td>1</td>\n",
              "      <td>1</td>\n",
              "      <td>bad</td>\n",
              "    </tr>\n",
              "    <tr>\n",
              "      <th>2</th>\n",
              "      <td>3</td>\n",
              "      <td>no checking</td>\n",
              "      <td>critical/other existing credit</td>\n",
              "      <td>12</td>\n",
              "      <td>2096</td>\n",
              "      <td>2</td>\n",
              "      <td>3</td>\n",
              "      <td>49</td>\n",
              "      <td>1</td>\n",
              "      <td>2</td>\n",
              "      <td>good</td>\n",
              "    </tr>\n",
              "    <tr>\n",
              "      <th>3</th>\n",
              "      <td>4</td>\n",
              "      <td>&lt;0</td>\n",
              "      <td>existing paid</td>\n",
              "      <td>42</td>\n",
              "      <td>7882</td>\n",
              "      <td>2</td>\n",
              "      <td>4</td>\n",
              "      <td>45</td>\n",
              "      <td>1</td>\n",
              "      <td>2</td>\n",
              "      <td>good</td>\n",
              "    </tr>\n",
              "    <tr>\n",
              "      <th>4</th>\n",
              "      <td>5</td>\n",
              "      <td>&lt;0</td>\n",
              "      <td>delayed previously</td>\n",
              "      <td>24</td>\n",
              "      <td>4870</td>\n",
              "      <td>3</td>\n",
              "      <td>4</td>\n",
              "      <td>53</td>\n",
              "      <td>2</td>\n",
              "      <td>2</td>\n",
              "      <td>bad</td>\n",
              "    </tr>\n",
              "    <tr>\n",
              "      <th>...</th>\n",
              "      <td>...</td>\n",
              "      <td>...</td>\n",
              "      <td>...</td>\n",
              "      <td>...</td>\n",
              "      <td>...</td>\n",
              "      <td>...</td>\n",
              "      <td>...</td>\n",
              "      <td>...</td>\n",
              "      <td>...</td>\n",
              "      <td>...</td>\n",
              "      <td>...</td>\n",
              "    </tr>\n",
              "    <tr>\n",
              "      <th>995</th>\n",
              "      <td>996</td>\n",
              "      <td>no checking</td>\n",
              "      <td>existing paid</td>\n",
              "      <td>12</td>\n",
              "      <td>1736</td>\n",
              "      <td>3</td>\n",
              "      <td>4</td>\n",
              "      <td>31</td>\n",
              "      <td>1</td>\n",
              "      <td>1</td>\n",
              "      <td>good</td>\n",
              "    </tr>\n",
              "    <tr>\n",
              "      <th>996</th>\n",
              "      <td>997</td>\n",
              "      <td>&lt;0</td>\n",
              "      <td>existing paid</td>\n",
              "      <td>30</td>\n",
              "      <td>3857</td>\n",
              "      <td>4</td>\n",
              "      <td>4</td>\n",
              "      <td>40</td>\n",
              "      <td>1</td>\n",
              "      <td>1</td>\n",
              "      <td>good</td>\n",
              "    </tr>\n",
              "    <tr>\n",
              "      <th>997</th>\n",
              "      <td>998</td>\n",
              "      <td>no checking</td>\n",
              "      <td>existing paid</td>\n",
              "      <td>12</td>\n",
              "      <td>804</td>\n",
              "      <td>4</td>\n",
              "      <td>4</td>\n",
              "      <td>38</td>\n",
              "      <td>1</td>\n",
              "      <td>1</td>\n",
              "      <td>good</td>\n",
              "    </tr>\n",
              "    <tr>\n",
              "      <th>998</th>\n",
              "      <td>999</td>\n",
              "      <td>&lt;0</td>\n",
              "      <td>existing paid</td>\n",
              "      <td>45</td>\n",
              "      <td>1845</td>\n",
              "      <td>4</td>\n",
              "      <td>4</td>\n",
              "      <td>23</td>\n",
              "      <td>1</td>\n",
              "      <td>1</td>\n",
              "      <td>bad</td>\n",
              "    </tr>\n",
              "    <tr>\n",
              "      <th>999</th>\n",
              "      <td>1000</td>\n",
              "      <td>0&lt;=X&lt;200</td>\n",
              "      <td>critical/other existing credit</td>\n",
              "      <td>45</td>\n",
              "      <td>4576</td>\n",
              "      <td>3</td>\n",
              "      <td>4</td>\n",
              "      <td>27</td>\n",
              "      <td>1</td>\n",
              "      <td>1</td>\n",
              "      <td>good</td>\n",
              "    </tr>\n",
              "  </tbody>\n",
              "</table>\n",
              "<p>1000 rows × 11 columns</p>\n",
              "</div>\n",
              "      <button class=\"colab-df-convert\" onclick=\"convertToInteractive('df-167e89a8-ad40-4aa5-ae78-0118cdf9587e')\"\n",
              "              title=\"Convert this dataframe to an interactive table.\"\n",
              "              style=\"display:none;\">\n",
              "        \n",
              "  <svg xmlns=\"http://www.w3.org/2000/svg\" height=\"24px\"viewBox=\"0 0 24 24\"\n",
              "       width=\"24px\">\n",
              "    <path d=\"M0 0h24v24H0V0z\" fill=\"none\"/>\n",
              "    <path d=\"M18.56 5.44l.94 2.06.94-2.06 2.06-.94-2.06-.94-.94-2.06-.94 2.06-2.06.94zm-11 1L8.5 8.5l.94-2.06 2.06-.94-2.06-.94L8.5 2.5l-.94 2.06-2.06.94zm10 10l.94 2.06.94-2.06 2.06-.94-2.06-.94-.94-2.06-.94 2.06-2.06.94z\"/><path d=\"M17.41 7.96l-1.37-1.37c-.4-.4-.92-.59-1.43-.59-.52 0-1.04.2-1.43.59L10.3 9.45l-7.72 7.72c-.78.78-.78 2.05 0 2.83L4 21.41c.39.39.9.59 1.41.59.51 0 1.02-.2 1.41-.59l7.78-7.78 2.81-2.81c.8-.78.8-2.07 0-2.86zM5.41 20L4 18.59l7.72-7.72 1.47 1.35L5.41 20z\"/>\n",
              "  </svg>\n",
              "      </button>\n",
              "      \n",
              "  <style>\n",
              "    .colab-df-container {\n",
              "      display:flex;\n",
              "      flex-wrap:wrap;\n",
              "      gap: 12px;\n",
              "    }\n",
              "\n",
              "    .colab-df-convert {\n",
              "      background-color: #E8F0FE;\n",
              "      border: none;\n",
              "      border-radius: 50%;\n",
              "      cursor: pointer;\n",
              "      display: none;\n",
              "      fill: #1967D2;\n",
              "      height: 32px;\n",
              "      padding: 0 0 0 0;\n",
              "      width: 32px;\n",
              "    }\n",
              "\n",
              "    .colab-df-convert:hover {\n",
              "      background-color: #E2EBFA;\n",
              "      box-shadow: 0px 1px 2px rgba(60, 64, 67, 0.3), 0px 1px 3px 1px rgba(60, 64, 67, 0.15);\n",
              "      fill: #174EA6;\n",
              "    }\n",
              "\n",
              "    [theme=dark] .colab-df-convert {\n",
              "      background-color: #3B4455;\n",
              "      fill: #D2E3FC;\n",
              "    }\n",
              "\n",
              "    [theme=dark] .colab-df-convert:hover {\n",
              "      background-color: #434B5C;\n",
              "      box-shadow: 0px 1px 3px 1px rgba(0, 0, 0, 0.15);\n",
              "      filter: drop-shadow(0px 1px 2px rgba(0, 0, 0, 0.3));\n",
              "      fill: #FFFFFF;\n",
              "    }\n",
              "  </style>\n",
              "\n",
              "      <script>\n",
              "        const buttonEl =\n",
              "          document.querySelector('#df-167e89a8-ad40-4aa5-ae78-0118cdf9587e button.colab-df-convert');\n",
              "        buttonEl.style.display =\n",
              "          google.colab.kernel.accessAllowed ? 'block' : 'none';\n",
              "\n",
              "        async function convertToInteractive(key) {\n",
              "          const element = document.querySelector('#df-167e89a8-ad40-4aa5-ae78-0118cdf9587e');\n",
              "          const dataTable =\n",
              "            await google.colab.kernel.invokeFunction('convertToInteractive',\n",
              "                                                     [key], {});\n",
              "          if (!dataTable) return;\n",
              "\n",
              "          const docLinkHtml = 'Like what you see? Visit the ' +\n",
              "            '<a target=\"_blank\" href=https://colab.research.google.com/notebooks/data_table.ipynb>data table notebook</a>'\n",
              "            + ' to learn more about interactive tables.';\n",
              "          element.innerHTML = '';\n",
              "          dataTable['output_type'] = 'display_data';\n",
              "          await google.colab.output.renderOutput(dataTable, element);\n",
              "          const docLink = document.createElement('div');\n",
              "          docLink.innerHTML = docLinkHtml;\n",
              "          element.appendChild(docLink);\n",
              "        }\n",
              "      </script>\n",
              "    </div>\n",
              "  </div>\n",
              "  "
            ]
          },
          "metadata": {},
          "execution_count": 20
        }
      ]
    },
    {
      "cell_type": "code",
      "source": [
        "#separação dos variáveis, ignoro primeira pois não tem valor semântico\n",
        "Xi = dataset.iloc[:,1:10].values #coluna zero fora de checking stts ate num_dep\n",
        "yd = dataset.iloc[:, 10].values #classe em y\n",
        "#temos um arry e não mais um data frame\n",
        "Xi"
      ],
      "metadata": {
        "colab": {
          "base_uri": "https://localhost:8080/"
        },
        "id": "c6-z3QAqucVD",
        "outputId": "13b740d1-9f61-4bf9-ce5c-32e8a56b9321"
      },
      "execution_count": null,
      "outputs": [
        {
          "output_type": "execute_result",
          "data": {
            "text/plain": [
              "array([['<0', 'critical/other existing credit', 6, ..., 67, 2, 1],\n",
              "       ['0<=X<200', 'existing paid', 48, ..., 22, 1, 1],\n",
              "       ['no checking', 'critical/other existing credit', 12, ..., 49, 1,\n",
              "        2],\n",
              "       ...,\n",
              "       ['no checking', 'existing paid', 12, ..., 38, 1, 1],\n",
              "       ['<0', 'existing paid', 45, ..., 23, 1, 1],\n",
              "       ['0<=X<200', 'critical/other existing credit', 45, ..., 27, 1, 1]],\n",
              "      dtype=object)"
            ]
          },
          "metadata": {},
          "execution_count": 21
        }
      ]
    },
    {
      "cell_type": "code",
      "source": [
        "#label encoder coluna checking_status, substitui colunas por valores\n",
        "#atribui valores de zero a 3\n",
        "labelencoder = LabelEncoder()\n",
        "Xi[:,0] = labelencoder.fit_transform(Xi[:,0]) #checking stts e o 0 pq ignorou o id\n",
        "Xi"
      ],
      "metadata": {
        "colab": {
          "base_uri": "https://localhost:8080/"
        },
        "id": "py-GiykOulD4",
        "outputId": "ff582d03-ee08-4843-f67f-db42cb00e379"
      },
      "execution_count": null,
      "outputs": [
        {
          "output_type": "execute_result",
          "data": {
            "text/plain": [
              "array([[1, 'critical/other existing credit', 6, ..., 67, 2, 1],\n",
              "       [0, 'existing paid', 48, ..., 22, 1, 1],\n",
              "       [3, 'critical/other existing credit', 12, ..., 49, 1, 2],\n",
              "       ...,\n",
              "       [3, 'existing paid', 12, ..., 38, 1, 1],\n",
              "       [1, 'existing paid', 45, ..., 23, 1, 1],\n",
              "       [0, 'critical/other existing credit', 45, ..., 27, 1, 1]],\n",
              "      dtype=object)"
            ]
          },
          "metadata": {},
          "execution_count": 22
        }
      ]
    },
    {
      "cell_type": "code",
      "source": [
        "#one hot encoder coluna credit_history, criar uma col pra cada um dos 5 valores possiveis , restante tera zero\n",
        "#deve adicionar 5 colunas\n",
        "onehotencoder = make_column_transformer((OneHotEncoder(categories='auto', sparse=False), [1]), remainder=\"passthrough\")\n",
        "Xi = onehotencoder.fit_transform(Xi)\n",
        "Xi"
      ],
      "metadata": {
        "colab": {
          "base_uri": "https://localhost:8080/"
        },
        "id": "4FSsKzX3uuQW",
        "outputId": "4e9cd2bc-b679-4728-86e2-3aebe1ec2220"
      },
      "execution_count": null,
      "outputs": [
        {
          "output_type": "execute_result",
          "data": {
            "text/plain": [
              "array([[0.0, 1.0, 0.0, ..., 67, 2, 1],\n",
              "       [0.0, 0.0, 0.0, ..., 22, 1, 1],\n",
              "       [0.0, 1.0, 0.0, ..., 49, 1, 2],\n",
              "       ...,\n",
              "       [0.0, 0.0, 0.0, ..., 38, 1, 1],\n",
              "       [0.0, 0.0, 0.0, ..., 23, 1, 1],\n",
              "       [0.0, 1.0, 0.0, ..., 27, 1, 1]], dtype=object)"
            ]
          },
          "metadata": {},
          "execution_count": 23
        }
      ]
    },
    {
      "cell_type": "code",
      "source": [
        "#Excluimos a variável para evitar a dummy variable trap\n",
        "Xi = Xi[:,1:]\n",
        "Xi"
      ],
      "metadata": {
        "colab": {
          "base_uri": "https://localhost:8080/"
        },
        "id": "0RKSGgMIuyGt",
        "outputId": "e06b9246-35af-4661-e62e-436522bf7f34"
      },
      "execution_count": null,
      "outputs": [
        {
          "output_type": "execute_result",
          "data": {
            "text/plain": [
              "array([[1.0, 0.0, 0.0, ..., 67, 2, 1],\n",
              "       [0.0, 0.0, 1.0, ..., 22, 1, 1],\n",
              "       [1.0, 0.0, 0.0, ..., 49, 1, 2],\n",
              "       ...,\n",
              "       [0.0, 0.0, 1.0, ..., 38, 1, 1],\n",
              "       [0.0, 0.0, 1.0, ..., 23, 1, 1],\n",
              "       [1.0, 0.0, 0.0, ..., 27, 1, 1]], dtype=object)"
            ]
          },
          "metadata": {},
          "execution_count": 24
        }
      ]
    },
    {
      "cell_type": "code",
      "source": [
        "#Laber encoder com a classe pra transf em valores 0  e 1\n",
        "labelencoder_Y = LabelEncoder()\n",
        "yd = labelencoder_Y.fit_transform(yd)\n",
        "yd"
      ],
      "metadata": {
        "colab": {
          "base_uri": "https://localhost:8080/"
        },
        "id": "a9tgXDOJu2Iu",
        "outputId": "e89f0f9b-1e70-4960-db98-369b4b0745a4"
      },
      "execution_count": null,
      "outputs": [
        {
          "output_type": "execute_result",
          "data": {
            "text/plain": [
              "array([1, 0, 1, 1, 0, 1, 1, 1, 1, 0, 0, 0, 1, 0, 1, 0, 1, 1, 0, 1, 1, 1,\n",
              "       1, 1, 1, 1, 1, 1, 1, 0, 1, 1, 1, 1, 1, 0, 1, 0, 1, 1, 1, 1, 1, 1,\n",
              "       0, 1, 1, 1, 1, 1, 1, 1, 1, 1, 0, 1, 0, 1, 1, 0, 1, 1, 0, 0, 1, 1,\n",
              "       1, 1, 0, 1, 1, 1, 1, 1, 0, 1, 0, 1, 1, 1, 0, 1, 1, 1, 1, 1, 1, 0,\n",
              "       1, 0, 1, 1, 0, 1, 1, 0, 1, 1, 1, 1, 1, 1, 1, 1, 1, 0, 0, 1, 1, 1,\n",
              "       1, 1, 1, 0, 1, 1, 0, 1, 0, 1, 0, 1, 1, 1, 0, 1, 1, 0, 1, 0, 1, 0,\n",
              "       1, 1, 1, 1, 1, 0, 1, 1, 1, 1, 1, 0, 1, 1, 1, 1, 1, 1, 1, 1, 1, 1,\n",
              "       1, 0, 1, 1, 1, 1, 1, 1, 1, 1, 1, 1, 0, 1, 1, 0, 0, 1, 0, 1, 0, 0,\n",
              "       1, 1, 1, 1, 0, 0, 0, 1, 0, 1, 0, 1, 0, 1, 0, 0, 0, 1, 0, 0, 1, 0,\n",
              "       1, 0, 1, 1, 1, 0, 1, 1, 1, 1, 1, 1, 1, 1, 0, 0, 1, 1, 1, 1, 1, 1,\n",
              "       1, 1, 1, 1, 1, 1, 0, 0, 0, 1, 0, 1, 1, 1, 1, 0, 0, 0, 1, 1, 0, 1,\n",
              "       0, 1, 1, 1, 1, 1, 1, 0, 1, 1, 0, 1, 1, 1, 1, 0, 1, 1, 1, 1, 1, 1,\n",
              "       1, 0, 1, 1, 0, 1, 1, 1, 1, 0, 0, 1, 1, 1, 0, 1, 1, 1, 1, 1, 1, 1,\n",
              "       1, 1, 1, 0, 1, 0, 1, 1, 1, 0, 1, 1, 1, 1, 1, 0, 0, 1, 0, 1, 1, 0,\n",
              "       0, 1, 1, 1, 1, 0, 1, 0, 1, 1, 1, 1, 0, 0, 1, 1, 1, 1, 1, 1, 1, 1,\n",
              "       1, 0, 0, 0, 0, 0, 1, 0, 1, 1, 1, 1, 1, 1, 1, 1, 1, 1, 1, 0, 1, 0,\n",
              "       1, 0, 1, 0, 1, 0, 1, 0, 1, 1, 1, 1, 0, 1, 1, 1, 0, 1, 1, 1, 1, 1,\n",
              "       0, 0, 1, 1, 0, 1, 1, 0, 1, 1, 1, 1, 1, 1, 1, 1, 1, 1, 1, 1, 1, 1,\n",
              "       1, 1, 0, 1, 1, 1, 0, 1, 1, 0, 1, 1, 1, 0, 1, 1, 0, 1, 0, 1, 0, 1,\n",
              "       1, 0, 1, 1, 1, 1, 0, 1, 1, 1, 1, 0, 1, 0, 1, 1, 1, 0, 1, 1, 1, 0,\n",
              "       1, 1, 1, 0, 0, 1, 0, 1, 1, 0, 1, 1, 1, 1, 0, 1, 1, 0, 1, 1, 1, 1,\n",
              "       1, 1, 1, 1, 0, 1, 1, 1, 0, 0, 0, 1, 0, 0, 1, 1, 1, 1, 1, 1, 1, 1,\n",
              "       1, 0, 1, 1, 1, 1, 1, 0, 1, 1, 1, 0, 0, 1, 1, 1, 0, 1, 1, 0, 0, 0,\n",
              "       1, 0, 1, 1, 0, 1, 1, 1, 1, 1, 1, 0, 1, 1, 1, 0, 0, 1, 1, 1, 1, 1,\n",
              "       0, 1, 1, 0, 1, 1, 1, 0, 1, 1, 0, 1, 0, 1, 0, 0, 1, 0, 1, 1, 0, 1,\n",
              "       1, 1, 0, 1, 1, 0, 0, 0, 0, 0, 1, 0, 1, 0, 1, 1, 0, 1, 1, 0, 0, 1,\n",
              "       1, 1, 1, 1, 1, 1, 0, 1, 0, 1, 1, 0, 1, 0, 1, 1, 0, 0, 1, 1, 1, 0,\n",
              "       0, 0, 0, 0, 0, 1, 1, 0, 0, 0, 1, 1, 1, 0, 1, 1, 0, 0, 1, 1, 0, 1,\n",
              "       1, 1, 0, 1, 1, 0, 0, 1, 0, 1, 1, 0, 1, 1, 1, 0, 1, 0, 0, 1, 1, 1,\n",
              "       1, 0, 0, 1, 0, 1, 1, 0, 1, 0, 0, 0, 1, 0, 0, 0, 1, 1, 0, 1, 1, 1,\n",
              "       1, 0, 1, 1, 1, 1, 1, 1, 0, 1, 1, 1, 1, 1, 0, 1, 1, 0, 1, 1, 1, 1,\n",
              "       1, 1, 1, 1, 1, 1, 1, 1, 1, 1, 1, 1, 1, 1, 1, 1, 1, 1, 0, 0, 1, 1,\n",
              "       1, 1, 0, 0, 1, 1, 1, 0, 1, 1, 0, 1, 1, 1, 1, 1, 0, 0, 0, 1, 0, 1,\n",
              "       1, 0, 0, 1, 1, 0, 1, 1, 1, 1, 0, 1, 1, 0, 1, 1, 1, 1, 1, 1, 1, 0,\n",
              "       1, 1, 1, 0, 1, 1, 0, 0, 1, 0, 1, 0, 1, 0, 1, 0, 1, 1, 0, 1, 1, 1,\n",
              "       1, 0, 1, 1, 1, 0, 1, 1, 1, 1, 0, 1, 1, 0, 1, 1, 1, 1, 0, 0, 0, 1,\n",
              "       1, 1, 1, 1, 0, 1, 1, 1, 1, 1, 1, 1, 1, 0, 1, 1, 1, 0, 1, 1, 0, 0,\n",
              "       0, 1, 1, 1, 1, 0, 1, 1, 0, 1, 1, 1, 0, 0, 0, 1, 1, 0, 0, 1, 0, 0,\n",
              "       1, 1, 1, 1, 0, 1, 0, 1, 1, 1, 0, 1, 1, 0, 0, 1, 1, 0, 1, 1, 1, 1,\n",
              "       0, 1, 1, 0, 0, 1, 0, 1, 1, 1, 1, 1, 1, 1, 1, 1, 1, 1, 1, 1, 0, 1,\n",
              "       1, 1, 1, 1, 0, 0, 1, 0, 1, 1, 1, 1, 1, 1, 1, 1, 1, 1, 1, 0, 0, 1,\n",
              "       1, 1, 1, 1, 1, 1, 1, 1, 1, 0, 1, 1, 0, 0, 1, 0, 0, 0, 1, 1, 0, 1,\n",
              "       0, 0, 1, 0, 1, 1, 1, 0, 1, 1, 1, 0, 0, 1, 0, 1, 1, 1, 1, 1, 1, 1,\n",
              "       0, 1, 0, 0, 1, 0, 0, 0, 1, 1, 1, 1, 0, 1, 1, 1, 1, 0, 1, 1, 0, 1,\n",
              "       1, 1, 1, 1, 0, 0, 1, 1, 1, 1, 0, 0, 0, 0, 1, 0, 1, 1, 1, 1, 1, 1,\n",
              "       1, 1, 1, 1, 1, 1, 1, 1, 0, 1])"
            ]
          },
          "metadata": {},
          "execution_count": 25
        }
      ]
    },
    {
      "cell_type": "code",
      "source": [
        "#separação em treino e teste\n",
        "X_train, X_test, y_train, y_test = train_test_split(Xi, yd, test_size = 0.2, random_state = 0)\n",
        "print(len(X_train),len(X_test),len(y_train),len(y_test))"
      ],
      "metadata": {
        "colab": {
          "base_uri": "https://localhost:8080/"
        },
        "id": "a_9Sbs3ou7Xi",
        "outputId": "edfb0e32-afe7-4358-c5cf-91aa5a546071"
      },
      "execution_count": null,
      "outputs": [
        {
          "output_type": "stream",
          "name": "stdout",
          "text": [
            "800 200 800 200\n"
          ]
        }
      ]
    },
    {
      "cell_type": "code",
      "source": [
        "#Feature Scalling, Padronização z-score(processo preferencial em relacao a minimax)\n",
        "sc = StandardScaler()\n",
        "X_train = sc.fit_transform(X_train)\n",
        "X_test = sc.transform(X_test)\n",
        "X_test #dados em msm escala"
      ],
      "metadata": {
        "colab": {
          "base_uri": "https://localhost:8080/"
        },
        "id": "-77yQCTsu8lP",
        "outputId": "b6c00319-a8bc-47b7-ee71-27ee23b92899"
      },
      "execution_count": null,
      "outputs": [
        {
          "output_type": "execute_result",
          "data": {
            "text/plain": [
              "array([[-0.65270587, -0.30966177,  0.95357636, ..., -0.50870719,\n",
              "        -0.71596668, -0.42214126],\n",
              "       [-0.65270587, -0.30966177,  0.95357636, ..., -0.85315557,\n",
              "        -0.71596668,  2.36887531],\n",
              "       [-0.65270587, -0.30966177,  0.95357636, ...,  0.61075002,\n",
              "        -0.71596668, -0.42214126],\n",
              "       ...,\n",
              "       [ 1.53208366, -0.30966177, -1.04868371, ...,  0.26630165,\n",
              "         1.04100677, -0.42214126],\n",
              "       [-0.65270587,  3.22932987, -1.04868371, ...,  0.52463793,\n",
              "         4.55495365, -0.42214126],\n",
              "       [-0.65270587, -0.30966177,  0.95357636, ...,  0.52463793,\n",
              "        -0.71596668,  2.36887531]])"
            ]
          },
          "metadata": {},
          "execution_count": 28
        }
      ]
    },
    {
      "cell_type": "code",
      "source": [
        "classifier = Sequential() #rn do sequencial\n",
        "classifier.add(Dense(units = 6, kernel_initializer = 'uniform', activation = 'relu', input_dim = 12))\n",
        "classifier.add(Dense(units = 6, kernel_initializer = 'uniform', activation = 'relu')) #segunda camada densa\n",
        "classifier.add(Dense(units = 1, kernel_initializer = 'uniform', activation = 'sigmoid'))\n",
        "classifier.compile(optimizer = 'adam', loss = 'binary_crossentropy', metrics = ['accuracy']) #camada de saida com 1 neuronio ,pois e 0 ou 1\n",
        "classifier.fit(X_train, y_train, batch_size = 10, epochs = 100) #atualiza a cada batch_size"
      ],
      "metadata": {
        "colab": {
          "base_uri": "https://localhost:8080/"
        },
        "id": "GiU6VycZvFyh",
        "outputId": "9c9e5697-ae40-4f93-b99e-e2b841d6d9e1"
      },
      "execution_count": null,
      "outputs": [
        {
          "output_type": "stream",
          "name": "stdout",
          "text": [
            "Epoch 1/100\n",
            "80/80 [==============================] - 1s 2ms/step - loss: 0.6826 - accuracy: 0.6988\n",
            "Epoch 2/100\n",
            "80/80 [==============================] - 0s 2ms/step - loss: 0.6333 - accuracy: 0.6975\n",
            "Epoch 3/100\n",
            "80/80 [==============================] - 0s 2ms/step - loss: 0.5643 - accuracy: 0.6975\n",
            "Epoch 4/100\n",
            "80/80 [==============================] - 0s 2ms/step - loss: 0.5391 - accuracy: 0.6975\n",
            "Epoch 5/100\n",
            "80/80 [==============================] - 0s 2ms/step - loss: 0.5317 - accuracy: 0.6975\n",
            "Epoch 6/100\n",
            "80/80 [==============================] - 0s 2ms/step - loss: 0.5272 - accuracy: 0.6975\n",
            "Epoch 7/100\n",
            "80/80 [==============================] - 0s 1ms/step - loss: 0.5253 - accuracy: 0.6975\n",
            "Epoch 8/100\n",
            "80/80 [==============================] - 0s 2ms/step - loss: 0.5237 - accuracy: 0.6975\n",
            "Epoch 9/100\n",
            "80/80 [==============================] - 0s 2ms/step - loss: 0.5218 - accuracy: 0.6975\n",
            "Epoch 10/100\n",
            "80/80 [==============================] - 0s 2ms/step - loss: 0.5204 - accuracy: 0.6975\n",
            "Epoch 11/100\n",
            "80/80 [==============================] - 0s 2ms/step - loss: 0.5201 - accuracy: 0.6975\n",
            "Epoch 12/100\n",
            "80/80 [==============================] - 0s 2ms/step - loss: 0.5183 - accuracy: 0.6975\n",
            "Epoch 13/100\n",
            "80/80 [==============================] - 0s 2ms/step - loss: 0.5172 - accuracy: 0.7237\n",
            "Epoch 14/100\n",
            "80/80 [==============================] - 0s 2ms/step - loss: 0.5164 - accuracy: 0.7462\n",
            "Epoch 15/100\n",
            "80/80 [==============================] - 0s 2ms/step - loss: 0.5156 - accuracy: 0.7437\n",
            "Epoch 16/100\n",
            "80/80 [==============================] - 0s 2ms/step - loss: 0.5148 - accuracy: 0.7538\n",
            "Epoch 17/100\n",
            "80/80 [==============================] - 0s 2ms/step - loss: 0.5145 - accuracy: 0.7475\n",
            "Epoch 18/100\n",
            "80/80 [==============================] - 0s 2ms/step - loss: 0.5136 - accuracy: 0.7613\n",
            "Epoch 19/100\n",
            "80/80 [==============================] - 0s 2ms/step - loss: 0.5129 - accuracy: 0.7563\n",
            "Epoch 20/100\n",
            "80/80 [==============================] - 0s 2ms/step - loss: 0.5121 - accuracy: 0.7563\n",
            "Epoch 21/100\n",
            "80/80 [==============================] - 0s 2ms/step - loss: 0.5123 - accuracy: 0.7538\n",
            "Epoch 22/100\n",
            "80/80 [==============================] - 0s 2ms/step - loss: 0.5110 - accuracy: 0.7563\n",
            "Epoch 23/100\n",
            "80/80 [==============================] - 0s 2ms/step - loss: 0.5104 - accuracy: 0.7600\n",
            "Epoch 24/100\n",
            "80/80 [==============================] - 0s 2ms/step - loss: 0.5103 - accuracy: 0.7613\n",
            "Epoch 25/100\n",
            "80/80 [==============================] - 0s 2ms/step - loss: 0.5097 - accuracy: 0.7638\n",
            "Epoch 26/100\n",
            "80/80 [==============================] - 0s 2ms/step - loss: 0.5089 - accuracy: 0.7625\n",
            "Epoch 27/100\n",
            "80/80 [==============================] - 0s 2ms/step - loss: 0.5081 - accuracy: 0.7625\n",
            "Epoch 28/100\n",
            "80/80 [==============================] - 0s 2ms/step - loss: 0.5079 - accuracy: 0.7625\n",
            "Epoch 29/100\n",
            "80/80 [==============================] - 0s 2ms/step - loss: 0.5065 - accuracy: 0.7675\n",
            "Epoch 30/100\n",
            "80/80 [==============================] - 0s 2ms/step - loss: 0.5066 - accuracy: 0.7638\n",
            "Epoch 31/100\n",
            "80/80 [==============================] - 0s 2ms/step - loss: 0.5058 - accuracy: 0.7588\n",
            "Epoch 32/100\n",
            "80/80 [==============================] - 0s 2ms/step - loss: 0.5051 - accuracy: 0.7613\n",
            "Epoch 33/100\n",
            "80/80 [==============================] - 0s 2ms/step - loss: 0.5044 - accuracy: 0.7625\n",
            "Epoch 34/100\n",
            "80/80 [==============================] - 0s 2ms/step - loss: 0.5039 - accuracy: 0.7650\n",
            "Epoch 35/100\n",
            "80/80 [==============================] - 0s 2ms/step - loss: 0.5037 - accuracy: 0.7613\n",
            "Epoch 36/100\n",
            "80/80 [==============================] - 0s 2ms/step - loss: 0.5026 - accuracy: 0.7675\n",
            "Epoch 37/100\n",
            "80/80 [==============================] - 0s 2ms/step - loss: 0.5010 - accuracy: 0.7688\n",
            "Epoch 38/100\n",
            "80/80 [==============================] - 0s 5ms/step - loss: 0.5003 - accuracy: 0.7638\n",
            "Epoch 39/100\n",
            "80/80 [==============================] - 0s 3ms/step - loss: 0.4999 - accuracy: 0.7663\n",
            "Epoch 40/100\n",
            "80/80 [==============================] - 0s 3ms/step - loss: 0.4990 - accuracy: 0.7638\n",
            "Epoch 41/100\n",
            "80/80 [==============================] - 0s 3ms/step - loss: 0.4984 - accuracy: 0.7700\n",
            "Epoch 42/100\n",
            "80/80 [==============================] - 0s 2ms/step - loss: 0.4973 - accuracy: 0.7663\n",
            "Epoch 43/100\n",
            "80/80 [==============================] - 0s 3ms/step - loss: 0.4964 - accuracy: 0.7638\n",
            "Epoch 44/100\n",
            "80/80 [==============================] - 0s 3ms/step - loss: 0.4958 - accuracy: 0.7650\n",
            "Epoch 45/100\n",
            "80/80 [==============================] - 0s 4ms/step - loss: 0.4948 - accuracy: 0.7675\n",
            "Epoch 46/100\n",
            "80/80 [==============================] - 0s 4ms/step - loss: 0.4940 - accuracy: 0.7688\n",
            "Epoch 47/100\n",
            "80/80 [==============================] - 0s 3ms/step - loss: 0.4939 - accuracy: 0.7700\n",
            "Epoch 48/100\n",
            "80/80 [==============================] - 0s 3ms/step - loss: 0.4927 - accuracy: 0.7738\n",
            "Epoch 49/100\n",
            "80/80 [==============================] - 0s 3ms/step - loss: 0.4920 - accuracy: 0.7700\n",
            "Epoch 50/100\n",
            "80/80 [==============================] - 1s 7ms/step - loss: 0.4913 - accuracy: 0.7713\n",
            "Epoch 51/100\n",
            "80/80 [==============================] - 0s 4ms/step - loss: 0.4899 - accuracy: 0.7713\n",
            "Epoch 52/100\n",
            "80/80 [==============================] - 0s 5ms/step - loss: 0.4896 - accuracy: 0.7738\n",
            "Epoch 53/100\n",
            "80/80 [==============================] - 0s 4ms/step - loss: 0.4891 - accuracy: 0.7763\n",
            "Epoch 54/100\n",
            "80/80 [==============================] - 0s 3ms/step - loss: 0.4883 - accuracy: 0.7788\n",
            "Epoch 55/100\n",
            "80/80 [==============================] - 0s 4ms/step - loss: 0.4878 - accuracy: 0.7750\n",
            "Epoch 56/100\n",
            "80/80 [==============================] - 0s 3ms/step - loss: 0.4870 - accuracy: 0.7775\n",
            "Epoch 57/100\n",
            "80/80 [==============================] - 0s 3ms/step - loss: 0.4873 - accuracy: 0.7775\n",
            "Epoch 58/100\n",
            "80/80 [==============================] - 0s 3ms/step - loss: 0.4852 - accuracy: 0.7800\n",
            "Epoch 59/100\n",
            "80/80 [==============================] - 0s 4ms/step - loss: 0.4852 - accuracy: 0.7775\n",
            "Epoch 60/100\n",
            "80/80 [==============================] - 0s 4ms/step - loss: 0.4842 - accuracy: 0.7763\n",
            "Epoch 61/100\n",
            "80/80 [==============================] - 0s 2ms/step - loss: 0.4836 - accuracy: 0.7775\n",
            "Epoch 62/100\n",
            "80/80 [==============================] - 0s 1ms/step - loss: 0.4835 - accuracy: 0.7812\n",
            "Epoch 63/100\n",
            "80/80 [==============================] - 0s 3ms/step - loss: 0.4830 - accuracy: 0.7800\n",
            "Epoch 64/100\n",
            "80/80 [==============================] - 0s 3ms/step - loss: 0.4821 - accuracy: 0.7763\n",
            "Epoch 65/100\n",
            "80/80 [==============================] - 0s 2ms/step - loss: 0.4816 - accuracy: 0.7800\n",
            "Epoch 66/100\n",
            "80/80 [==============================] - 0s 3ms/step - loss: 0.4808 - accuracy: 0.7763\n",
            "Epoch 67/100\n",
            "80/80 [==============================] - 0s 3ms/step - loss: 0.4802 - accuracy: 0.7775\n",
            "Epoch 68/100\n",
            "80/80 [==============================] - 0s 2ms/step - loss: 0.4820 - accuracy: 0.7763\n",
            "Epoch 69/100\n",
            "80/80 [==============================] - 0s 3ms/step - loss: 0.4805 - accuracy: 0.7788\n",
            "Epoch 70/100\n",
            "80/80 [==============================] - 0s 2ms/step - loss: 0.4801 - accuracy: 0.7750\n",
            "Epoch 71/100\n",
            "80/80 [==============================] - 0s 2ms/step - loss: 0.4789 - accuracy: 0.7775\n",
            "Epoch 72/100\n",
            "80/80 [==============================] - 0s 4ms/step - loss: 0.4783 - accuracy: 0.7725\n",
            "Epoch 73/100\n",
            "80/80 [==============================] - 0s 1ms/step - loss: 0.4781 - accuracy: 0.7775\n",
            "Epoch 74/100\n",
            "80/80 [==============================] - 0s 2ms/step - loss: 0.4788 - accuracy: 0.7812\n",
            "Epoch 75/100\n",
            "80/80 [==============================] - 0s 2ms/step - loss: 0.4777 - accuracy: 0.7775\n",
            "Epoch 76/100\n",
            "80/80 [==============================] - 0s 2ms/step - loss: 0.4768 - accuracy: 0.7788\n",
            "Epoch 77/100\n",
            "80/80 [==============================] - 0s 3ms/step - loss: 0.4761 - accuracy: 0.7788\n",
            "Epoch 78/100\n",
            "80/80 [==============================] - 0s 2ms/step - loss: 0.4771 - accuracy: 0.7763\n",
            "Epoch 79/100\n",
            "80/80 [==============================] - 0s 2ms/step - loss: 0.4765 - accuracy: 0.7775\n",
            "Epoch 80/100\n",
            "80/80 [==============================] - 0s 3ms/step - loss: 0.4760 - accuracy: 0.7788\n",
            "Epoch 81/100\n",
            "80/80 [==============================] - 0s 2ms/step - loss: 0.4752 - accuracy: 0.7775\n",
            "Epoch 82/100\n",
            "80/80 [==============================] - 0s 4ms/step - loss: 0.4758 - accuracy: 0.7750\n",
            "Epoch 83/100\n",
            "80/80 [==============================] - 0s 4ms/step - loss: 0.4753 - accuracy: 0.7800\n",
            "Epoch 84/100\n",
            "80/80 [==============================] - 0s 2ms/step - loss: 0.4754 - accuracy: 0.7738\n",
            "Epoch 85/100\n",
            "80/80 [==============================] - 0s 2ms/step - loss: 0.4749 - accuracy: 0.7788\n",
            "Epoch 86/100\n",
            "80/80 [==============================] - 0s 3ms/step - loss: 0.4747 - accuracy: 0.7775\n",
            "Epoch 87/100\n",
            "80/80 [==============================] - 0s 2ms/step - loss: 0.4740 - accuracy: 0.7750\n",
            "Epoch 88/100\n",
            "80/80 [==============================] - 0s 1ms/step - loss: 0.4739 - accuracy: 0.7763\n",
            "Epoch 89/100\n",
            "80/80 [==============================] - 0s 4ms/step - loss: 0.4738 - accuracy: 0.7750\n",
            "Epoch 90/100\n",
            "80/80 [==============================] - 0s 3ms/step - loss: 0.4743 - accuracy: 0.7800\n",
            "Epoch 91/100\n",
            "80/80 [==============================] - 0s 2ms/step - loss: 0.4742 - accuracy: 0.7788\n",
            "Epoch 92/100\n",
            "80/80 [==============================] - 0s 2ms/step - loss: 0.4734 - accuracy: 0.7788\n",
            "Epoch 93/100\n",
            "80/80 [==============================] - 0s 2ms/step - loss: 0.4738 - accuracy: 0.7750\n",
            "Epoch 94/100\n",
            "80/80 [==============================] - 0s 3ms/step - loss: 0.4738 - accuracy: 0.7775\n",
            "Epoch 95/100\n",
            "80/80 [==============================] - 0s 2ms/step - loss: 0.4737 - accuracy: 0.7738\n",
            "Epoch 96/100\n",
            "80/80 [==============================] - 0s 3ms/step - loss: 0.4722 - accuracy: 0.7775\n",
            "Epoch 97/100\n",
            "80/80 [==============================] - 0s 3ms/step - loss: 0.4724 - accuracy: 0.7775\n",
            "Epoch 98/100\n",
            "80/80 [==============================] - 0s 3ms/step - loss: 0.4736 - accuracy: 0.7763\n",
            "Epoch 99/100\n",
            "80/80 [==============================] - 0s 3ms/step - loss: 0.4721 - accuracy: 0.7763\n",
            "Epoch 100/100\n",
            "80/80 [==============================] - 0s 3ms/step - loss: 0.4717 - accuracy: 0.7788\n"
          ]
        },
        {
          "output_type": "execute_result",
          "data": {
            "text/plain": [
              "<keras.callbacks.History at 0x7fa8ef70e4c0>"
            ]
          },
          "metadata": {},
          "execution_count": 29
        }
      ]
    },
    {
      "cell_type": "code",
      "source": [
        "y_pred = classifier.predict(X_test) #previsao em termos de prob\n",
        "y_pred = (y_pred > 0.5) #transf em TorF pra gerar matriz de confusao\n",
        "y_pred"
      ],
      "metadata": {
        "colab": {
          "base_uri": "https://localhost:8080/"
        },
        "id": "0o5fcoM4vLLh",
        "outputId": "c42fd696-e9c6-4e46-d5ae-b39ba1b7b6a2"
      },
      "execution_count": null,
      "outputs": [
        {
          "output_type": "stream",
          "name": "stdout",
          "text": [
            "7/7 [==============================] - 0s 2ms/step\n"
          ]
        },
        {
          "output_type": "execute_result",
          "data": {
            "text/plain": [
              "array([[False],\n",
              "       [ True],\n",
              "       [ True],\n",
              "       [ True],\n",
              "       [ True],\n",
              "       [ True],\n",
              "       [ True],\n",
              "       [ True],\n",
              "       [ True],\n",
              "       [False],\n",
              "       [False],\n",
              "       [False],\n",
              "       [ True],\n",
              "       [ True],\n",
              "       [False],\n",
              "       [ True],\n",
              "       [ True],\n",
              "       [ True],\n",
              "       [ True],\n",
              "       [ True],\n",
              "       [ True],\n",
              "       [ True],\n",
              "       [False],\n",
              "       [ True],\n",
              "       [ True],\n",
              "       [False],\n",
              "       [ True],\n",
              "       [ True],\n",
              "       [ True],\n",
              "       [False],\n",
              "       [ True],\n",
              "       [ True],\n",
              "       [ True],\n",
              "       [ True],\n",
              "       [ True],\n",
              "       [ True],\n",
              "       [ True],\n",
              "       [ True],\n",
              "       [ True],\n",
              "       [ True],\n",
              "       [ True],\n",
              "       [False],\n",
              "       [ True],\n",
              "       [ True],\n",
              "       [ True],\n",
              "       [ True],\n",
              "       [ True],\n",
              "       [False],\n",
              "       [ True],\n",
              "       [ True],\n",
              "       [ True],\n",
              "       [False],\n",
              "       [ True],\n",
              "       [ True],\n",
              "       [False],\n",
              "       [ True],\n",
              "       [False],\n",
              "       [ True],\n",
              "       [ True],\n",
              "       [ True],\n",
              "       [False],\n",
              "       [ True],\n",
              "       [False],\n",
              "       [ True],\n",
              "       [ True],\n",
              "       [ True],\n",
              "       [ True],\n",
              "       [ True],\n",
              "       [False],\n",
              "       [ True],\n",
              "       [ True],\n",
              "       [ True],\n",
              "       [False],\n",
              "       [False],\n",
              "       [ True],\n",
              "       [ True],\n",
              "       [ True],\n",
              "       [ True],\n",
              "       [ True],\n",
              "       [ True],\n",
              "       [ True],\n",
              "       [ True],\n",
              "       [ True],\n",
              "       [ True],\n",
              "       [ True],\n",
              "       [ True],\n",
              "       [ True],\n",
              "       [False],\n",
              "       [ True],\n",
              "       [ True],\n",
              "       [False],\n",
              "       [ True],\n",
              "       [ True],\n",
              "       [ True],\n",
              "       [ True],\n",
              "       [ True],\n",
              "       [False],\n",
              "       [ True],\n",
              "       [ True],\n",
              "       [ True],\n",
              "       [ True],\n",
              "       [ True],\n",
              "       [ True],\n",
              "       [ True],\n",
              "       [ True],\n",
              "       [ True],\n",
              "       [False],\n",
              "       [False],\n",
              "       [False],\n",
              "       [ True],\n",
              "       [ True],\n",
              "       [False],\n",
              "       [ True],\n",
              "       [ True],\n",
              "       [False],\n",
              "       [ True],\n",
              "       [ True],\n",
              "       [ True],\n",
              "       [ True],\n",
              "       [ True],\n",
              "       [ True],\n",
              "       [ True],\n",
              "       [ True],\n",
              "       [False],\n",
              "       [ True],\n",
              "       [ True],\n",
              "       [ True],\n",
              "       [ True],\n",
              "       [ True],\n",
              "       [ True],\n",
              "       [False],\n",
              "       [ True],\n",
              "       [False],\n",
              "       [ True],\n",
              "       [ True],\n",
              "       [ True],\n",
              "       [ True],\n",
              "       [ True],\n",
              "       [ True],\n",
              "       [False],\n",
              "       [False],\n",
              "       [False],\n",
              "       [ True],\n",
              "       [ True],\n",
              "       [ True],\n",
              "       [ True],\n",
              "       [ True],\n",
              "       [ True],\n",
              "       [ True],\n",
              "       [ True],\n",
              "       [ True],\n",
              "       [ True],\n",
              "       [ True],\n",
              "       [ True],\n",
              "       [ True],\n",
              "       [ True],\n",
              "       [ True],\n",
              "       [ True],\n",
              "       [ True],\n",
              "       [ True],\n",
              "       [ True],\n",
              "       [False],\n",
              "       [ True],\n",
              "       [ True],\n",
              "       [False],\n",
              "       [False],\n",
              "       [ True],\n",
              "       [ True],\n",
              "       [ True],\n",
              "       [ True],\n",
              "       [False],\n",
              "       [ True],\n",
              "       [False],\n",
              "       [ True],\n",
              "       [ True],\n",
              "       [ True],\n",
              "       [False],\n",
              "       [ True],\n",
              "       [ True],\n",
              "       [ True],\n",
              "       [ True],\n",
              "       [False],\n",
              "       [ True],\n",
              "       [False],\n",
              "       [ True],\n",
              "       [ True],\n",
              "       [ True],\n",
              "       [ True],\n",
              "       [ True],\n",
              "       [ True],\n",
              "       [ True],\n",
              "       [False],\n",
              "       [ True],\n",
              "       [ True],\n",
              "       [ True],\n",
              "       [ True],\n",
              "       [ True],\n",
              "       [ True],\n",
              "       [False],\n",
              "       [ True]])"
            ]
          },
          "metadata": {},
          "execution_count": 30
        }
      ]
    },
    {
      "cell_type": "code",
      "source": [
        "#matriz de confusão\n",
        "cm = confusion_matrix(y_test, y_pred)\n",
        "cm"
      ],
      "metadata": {
        "colab": {
          "base_uri": "https://localhost:8080/"
        },
        "id": "4_YqIRq0vMWT",
        "outputId": "734b0fcd-1abc-48db-a74b-3f8ce85941be"
      },
      "execution_count": null,
      "outputs": [
        {
          "output_type": "execute_result",
          "data": {
            "text/plain": [
              "array([[ 22,  36],\n",
              "       [ 20, 122]])"
            ]
          },
          "metadata": {},
          "execution_count": 31
        }
      ]
    },
    {
      "cell_type": "code",
      "source": [
        "#GRAFOS"
      ],
      "metadata": {
        "id": "ddoyTg7YJgAn"
      },
      "execution_count": null,
      "outputs": []
    },
    {
      "cell_type": "code",
      "source": [
        "!apt install libcairo2-dev"
      ],
      "metadata": {
        "colab": {
          "base_uri": "https://localhost:8080/"
        },
        "id": "XNXNCzUJKacw",
        "outputId": "bf342efc-91ac-49f7-abde-0fd584d4df76"
      },
      "execution_count": null,
      "outputs": [
        {
          "output_type": "stream",
          "name": "stdout",
          "text": [
            "Reading package lists... Done\n",
            "Building dependency tree       \n",
            "Reading state information... Done\n",
            "The following package was automatically installed and is no longer required:\n",
            "  libnvidia-common-460\n",
            "Use 'apt autoremove' to remove it.\n",
            "The following additional packages will be installed:\n",
            "  libcairo-script-interpreter2 libpixman-1-dev libxcb-shm0-dev\n",
            "Suggested packages:\n",
            "  libcairo2-doc\n",
            "The following NEW packages will be installed:\n",
            "  libcairo-script-interpreter2 libcairo2-dev libpixman-1-dev libxcb-shm0-dev\n",
            "0 upgraded, 4 newly installed, 0 to remove and 21 not upgraded.\n",
            "Need to get 930 kB of archives.\n",
            "After this operation, 3,986 kB of additional disk space will be used.\n",
            "Get:1 http://archive.ubuntu.com/ubuntu bionic-updates/main amd64 libcairo-script-interpreter2 amd64 1.15.10-2ubuntu0.1 [53.5 kB]\n",
            "Get:2 http://archive.ubuntu.com/ubuntu bionic-updates/main amd64 libpixman-1-dev amd64 0.34.0-2ubuntu0.1 [244 kB]\n",
            "Get:3 http://archive.ubuntu.com/ubuntu bionic-updates/main amd64 libxcb-shm0-dev amd64 1.13-2~ubuntu18.04 [6,684 B]\n",
            "Get:4 http://archive.ubuntu.com/ubuntu bionic-updates/main amd64 libcairo2-dev amd64 1.15.10-2ubuntu0.1 [626 kB]\n",
            "Fetched 930 kB in 2s (488 kB/s)\n",
            "Selecting previously unselected package libcairo-script-interpreter2:amd64.\n",
            "(Reading database ... 124016 files and directories currently installed.)\n",
            "Preparing to unpack .../libcairo-script-interpreter2_1.15.10-2ubuntu0.1_amd64.deb ...\n",
            "Unpacking libcairo-script-interpreter2:amd64 (1.15.10-2ubuntu0.1) ...\n",
            "Selecting previously unselected package libpixman-1-dev:amd64.\n",
            "Preparing to unpack .../libpixman-1-dev_0.34.0-2ubuntu0.1_amd64.deb ...\n",
            "Unpacking libpixman-1-dev:amd64 (0.34.0-2ubuntu0.1) ...\n",
            "Selecting previously unselected package libxcb-shm0-dev:amd64.\n",
            "Preparing to unpack .../libxcb-shm0-dev_1.13-2~ubuntu18.04_amd64.deb ...\n",
            "Unpacking libxcb-shm0-dev:amd64 (1.13-2~ubuntu18.04) ...\n",
            "Selecting previously unselected package libcairo2-dev:amd64.\n",
            "Preparing to unpack .../libcairo2-dev_1.15.10-2ubuntu0.1_amd64.deb ...\n",
            "Unpacking libcairo2-dev:amd64 (1.15.10-2ubuntu0.1) ...\n",
            "Setting up libcairo-script-interpreter2:amd64 (1.15.10-2ubuntu0.1) ...\n",
            "Setting up libxcb-shm0-dev:amd64 (1.13-2~ubuntu18.04) ...\n",
            "Setting up libpixman-1-dev:amd64 (0.34.0-2ubuntu0.1) ...\n",
            "Setting up libcairo2-dev:amd64 (1.15.10-2ubuntu0.1) ...\n",
            "Processing triggers for libc-bin (2.27-3ubuntu1.6) ...\n"
          ]
        }
      ]
    },
    {
      "cell_type": "code",
      "source": [
        "!pip install pycairo"
      ],
      "metadata": {
        "colab": {
          "base_uri": "https://localhost:8080/"
        },
        "id": "1l1XM8sfRDMe",
        "outputId": "e8b157b9-3925-4d81-efcd-4cd7ca5d389a"
      },
      "execution_count": null,
      "outputs": [
        {
          "output_type": "stream",
          "name": "stdout",
          "text": [
            "Looking in indexes: https://pypi.org/simple, https://us-python.pkg.dev/colab-wheels/public/simple/\n",
            "Collecting pycairo\n",
            "  Using cached pycairo-1.23.0.tar.gz (344 kB)\n",
            "  Installing build dependencies ... \u001b[?25l\u001b[?25hdone\n",
            "  Getting requirements to build wheel ... \u001b[?25l\u001b[?25hdone\n",
            "  Installing backend dependencies ... \u001b[?25l\u001b[?25hdone\n",
            "  Preparing metadata (pyproject.toml) ... \u001b[?25l\u001b[?25hdone\n",
            "Building wheels for collected packages: pycairo\n",
            "  Building wheel for pycairo (pyproject.toml) ... \u001b[?25l\u001b[?25hdone\n",
            "  Created wheel for pycairo: filename=pycairo-1.23.0-cp38-cp38-linux_x86_64.whl size=297239 sha256=161ae6e517536d88ddb025ed6e5986b8ceee952b2d3b3265b57adf740f2637c1\n",
            "  Stored in directory: /root/.cache/pip/wheels/d9/25/86/ba7950c33840b1fda7ab932c7c7172d77b994807c5fd35c3ea\n",
            "Successfully built pycairo\n",
            "Installing collected packages: pycairo\n",
            "Successfully installed pycairo-1.23.0\n"
          ]
        }
      ]
    },
    {
      "cell_type": "code",
      "source": [
        "!pip install igraph"
      ],
      "metadata": {
        "colab": {
          "base_uri": "https://localhost:8080/"
        },
        "id": "qShalpxVROwt",
        "outputId": "8de8ac42-c107-40ff-87ba-4e09fc2c3932"
      },
      "execution_count": null,
      "outputs": [
        {
          "output_type": "stream",
          "name": "stdout",
          "text": [
            "Looking in indexes: https://pypi.org/simple, https://us-python.pkg.dev/colab-wheels/public/simple/\n",
            "Requirement already satisfied: igraph in /usr/local/lib/python3.8/dist-packages (0.10.3)\n",
            "Requirement already satisfied: texttable>=1.6.2 in /usr/local/lib/python3.8/dist-packages (from igraph) (1.6.7)\n"
          ]
        }
      ]
    },
    {
      "cell_type": "code",
      "source": [
        "# Importação das bibliotecas\n",
        "from igraph import Graph\n",
        "from igraph import plot\n",
        "import matplotlib.pyplot as plt\n"
      ],
      "metadata": {
        "id": "H4KNdnQGJh1z"
      },
      "execution_count": 9,
      "outputs": []
    },
    {
      "cell_type": "code",
      "source": [],
      "metadata": {
        "id": "DiN1qiUtS2Ln"
      },
      "execution_count": null,
      "outputs": []
    },
    {
      "cell_type": "code",
      "source": [
        "# Definição do grafo com as arestas\n",
        "grafo1 = Graph(edges = [(0,1),(1,2),(2,3),(3,0)], directed = True)\n",
        "# Definição do rótulo de cada vértice\n",
        "grafo1.vs['label'] = range(grafo1.vcount()) #contagem é o rotulo dos vertices\n",
        "print(grafo1) #grafico é direcionado, de 4 vert e 4 arestas"
      ],
      "metadata": {
        "colab": {
          "base_uri": "https://localhost:8080/"
        },
        "id": "QC83Iy0hJ22U",
        "outputId": "3b7b74b6-6675-4253-c98a-e5faa197d542"
      },
      "execution_count": null,
      "outputs": [
        {
          "output_type": "stream",
          "name": "stdout",
          "text": [
            "IGRAPH D--- 4 4 --\n",
            "+ attr: label (v)\n",
            "+ edges:\n",
            "0->1 1->2 2->3 3->0\n"
          ]
        }
      ]
    },
    {
      "cell_type": "code",
      "source": [
        "#gráfico\n",
        "#gráfico\n",
        "#plot(grafo1, bbox = (0,0,300,300) \n",
        "plot(grafo1, target=plt.axes())\n"
      ],
      "metadata": {
        "colab": {
          "base_uri": "https://localhost:8080/",
          "height": 265
        },
        "id": "TT7AB39_J9R8",
        "outputId": "f48bb0f7-f0d1-48fc-85c3-e6b2530720b4"
      },
      "execution_count": null,
      "outputs": [
        {
          "output_type": "execute_result",
          "data": {
            "text/plain": [
              "<matplotlib.axes._subplots.AxesSubplot at 0x7fa8e6f27a90>"
            ]
          },
          "metadata": {},
          "execution_count": 59
        },
        {
          "output_type": "display_data",
          "data": {
            "text/plain": [
              "<Figure size 432x288 with 1 Axes>"
            ],
            "image/png": "[encoded data removed]"
          },
          "metadata": {}
        }
      ]
    },
    {
      "cell_type": "code",
      "source": [
        "# Criação do segundo grafo\n",
        "grafo2 = Graph(edges = [(0,1),(1,2),(2,3),(3,0),(0,3),(3,2),(2,1),(1,0)], directed = True) #direcionado \n",
        "grafo2.vs['label'] = range(grafo2.vcount())\n",
        "plot(grafo2, # Grafo com Laço\n",
        "grafo3 = Graph(edges = [(0,1),(1,2),(2,3),(3,0),(1,1)], directed = True)\n",
        "grafo3.vs['label'] = range(grafo3.vcount())\n",
        "plot(grafo3, target=plt.axes()) #devido erro do igraph na lib só roda com o target=plt.axes()"
      ],
      "metadata": {
        "colab": {
          "base_uri": "https://localhost:8080/",
          "height": 265
        },
        "id": "ZxaWCuA2TJre",
        "outputId": "6726be77-b4c4-434d-df9b-0ca67e0fc1f9"
      },
      "execution_count": null,
      "outputs": [
        {
          "output_type": "execute_result",
          "data": {
            "text/plain": [
              "<matplotlib.axes._subplots.AxesSubplot at 0x7fa8e73655e0>"
            ]
          },
          "metadata": {},
          "execution_count": 56
        },
        {
          "output_type": "display_data",
          "data": {
            "text/plain": [
              "<Figure size 432x288 with 1 Axes>"
            ],
            "image/png": "[encoded data removed]"
          },
          "metadata": {}
        }
      ]
    },
    {
      "cell_type": "code",
      "source": [
        "# Grafo com Laço\n",
        "grafo3 = Graph(edges = [(0,1),(1,2),(2,3),(3,0),(1,1)], directed = True)#(1,1)é um laço ,pois aresta liga o vertice com si msm\n",
        "grafo3.vs['label'] = range(grafo3.vcount())\n",
        "plot(grafo3, target=plt.axes())"
      ],
      "metadata": {
        "colab": {
          "base_uri": "https://localhost:8080/",
          "height": 265
        },
        "id": "H3vS01nCTqdS",
        "outputId": "06160fc1-2a3a-4563-84c7-b5bd174ad2aa"
      },
      "execution_count": null,
      "outputs": [
        {
          "output_type": "execute_result",
          "data": {
            "text/plain": [
              "<matplotlib.axes._subplots.AxesSubplot at 0x7fa8e70ab2e0>"
            ]
          },
          "metadata": {},
          "execution_count": 57
        },
        {
          "output_type": "display_data",
          "data": {
            "text/plain": [
              "<Figure size 432x288 with 1 Axes>"
            ],
            "image/png": "[encoded data removed]"
          },
          "metadata": {}
        }
      ]
    },
    {
      "cell_type": "code",
      "source": [
        "# Criação do quarto grafo\n",
        "grafo4 = Graph(edges = [(0,1),(1,2),(2,3),(3,0),(1,1)], directed = True) \n",
        "# adicionamos vertice isolado, não faz conexao\n",
        "grafo4.add_vertex(5)\n",
        "grafo4.vs['label'] = range(grafo4.vcount())\n",
        "plot(grafo4,target=plt.axes())"
      ],
      "metadata": {
        "colab": {
          "base_uri": "https://localhost:8080/",
          "height": 265
        },
        "id": "WkRKECSoT4ni",
        "outputId": "a942bdfc-4b61-4561-ec61-a3e8be404f48"
      },
      "execution_count": null,
      "outputs": [
        {
          "output_type": "execute_result",
          "data": {
            "text/plain": [
              "<matplotlib.axes._subplots.AxesSubplot at 0x7fa8e6f56ca0>"
            ]
          },
          "metadata": {},
          "execution_count": 58
        },
        {
          "output_type": "display_data",
          "data": {
            "text/plain": [
              "<Figure size 432x288 with 1 Axes>"
            ],
            "image/png": "[encoded data removed]"
          },
          "metadata": {}
        }
      ]
    },
    {
      "cell_type": "code",
      "source": [
        "!apt install libcairo2-dev"
      ],
      "metadata": {
        "colab": {
          "base_uri": "https://localhost:8080/"
        },
        "id": "CO4l20eBuWn1",
        "outputId": "ad8da997-e345-4c68-860f-6eb4909e7c3f"
      },
      "execution_count": 2,
      "outputs": [
        {
          "output_type": "stream",
          "name": "stdout",
          "text": [
            "Reading package lists... Done\n",
            "Building dependency tree       \n",
            "Reading state information... Done\n",
            "The following package was automatically installed and is no longer required:\n",
            "  libnvidia-common-460\n",
            "Use 'apt autoremove' to remove it.\n",
            "The following additional packages will be installed:\n",
            "  libcairo-script-interpreter2 libpixman-1-dev libxcb-shm0-dev\n",
            "Suggested packages:\n",
            "  libcairo2-doc\n",
            "The following NEW packages will be installed:\n",
            "  libcairo-script-interpreter2 libcairo2-dev libpixman-1-dev libxcb-shm0-dev\n",
            "0 upgraded, 4 newly installed, 0 to remove and 21 not upgraded.\n",
            "Need to get 930 kB of archives.\n",
            "After this operation, 3,986 kB of additional disk space will be used.\n",
            "Get:1 http://archive.ubuntu.com/ubuntu bionic-updates/main amd64 libcairo-script-interpreter2 amd64 1.15.10-2ubuntu0.1 [53.5 kB]\n",
            "Get:2 http://archive.ubuntu.com/ubuntu bionic-updates/main amd64 libpixman-1-dev amd64 0.34.0-2ubuntu0.1 [244 kB]\n",
            "Get:3 http://archive.ubuntu.com/ubuntu bionic-updates/main amd64 libxcb-shm0-dev amd64 1.13-2~ubuntu18.04 [6,684 B]\n",
            "Get:4 http://archive.ubuntu.com/ubuntu bionic-updates/main amd64 libcairo2-dev amd64 1.15.10-2ubuntu0.1 [626 kB]\n",
            "Fetched 930 kB in 1s (1,284 kB/s)\n",
            "Selecting previously unselected package libcairo-script-interpreter2:amd64.\n",
            "(Reading database ... 124016 files and directories currently installed.)\n",
            "Preparing to unpack .../libcairo-script-interpreter2_1.15.10-2ubuntu0.1_amd64.deb ...\n",
            "Unpacking libcairo-script-interpreter2:amd64 (1.15.10-2ubuntu0.1) ...\n",
            "Selecting previously unselected package libpixman-1-dev:amd64.\n",
            "Preparing to unpack .../libpixman-1-dev_0.34.0-2ubuntu0.1_amd64.deb ...\n",
            "Unpacking libpixman-1-dev:amd64 (0.34.0-2ubuntu0.1) ...\n",
            "Selecting previously unselected package libxcb-shm0-dev:amd64.\n",
            "Preparing to unpack .../libxcb-shm0-dev_1.13-2~ubuntu18.04_amd64.deb ...\n",
            "Unpacking libxcb-shm0-dev:amd64 (1.13-2~ubuntu18.04) ...\n",
            "Selecting previously unselected package libcairo2-dev:amd64.\n",
            "Preparing to unpack .../libcairo2-dev_1.15.10-2ubuntu0.1_amd64.deb ...\n",
            "Unpacking libcairo2-dev:amd64 (1.15.10-2ubuntu0.1) ...\n",
            "Setting up libcairo-script-interpreter2:amd64 (1.15.10-2ubuntu0.1) ...\n",
            "Setting up libxcb-shm0-dev:amd64 (1.13-2~ubuntu18.04) ...\n",
            "Setting up libpixman-1-dev:amd64 (0.34.0-2ubuntu0.1) ...\n",
            "Setting up libcairo2-dev:amd64 (1.15.10-2ubuntu0.1) ...\n",
            "Processing triggers for libc-bin (2.27-3ubuntu1.6) ...\n"
          ]
        }
      ]
    },
    {
      "cell_type": "code",
      "source": [
        "!pip install pycairo"
      ],
      "metadata": {
        "colab": {
          "base_uri": "https://localhost:8080/"
        },
        "id": "cXB-dsd7ukyB",
        "outputId": "4d39dce9-68c6-4158-ddf8-1a8afdb36265"
      },
      "execution_count": 3,
      "outputs": [
        {
          "output_type": "stream",
          "name": "stdout",
          "text": [
            "Looking in indexes: https://pypi.org/simple, https://us-python.pkg.dev/colab-wheels/public/simple/\n",
            "Collecting pycairo\n",
            "  Downloading pycairo-1.23.0.tar.gz (344 kB)\n",
            "\u001b[?25l     \u001b[90m━━━━━━━━━━━━━━━━━━━━━━━━━━━━━━━━━━━━━━━━\u001b[0m \u001b[32m0.0/344.6 KB\u001b[0m \u001b[31m?\u001b[0m eta \u001b[36m-:--:--\u001b[0m\r\u001b[2K     \u001b[90m━━━━━━━━━━━━━━━━━━━━━━━━━━━━━━━━━━━━━━\u001b[0m \u001b[32m344.6/344.6 KB\u001b[0m \u001b[31m19.7 MB/s\u001b[0m eta \u001b[36m0:00:00\u001b[0m\n",
            "\u001b[?25h  Installing build dependencies ... \u001b[?25l\u001b[?25hdone\n",
            "  Getting requirements to build wheel ... \u001b[?25l\u001b[?25hdone\n",
            "  Installing backend dependencies ... \u001b[?25l\u001b[?25hdone\n",
            "  Preparing metadata (pyproject.toml) ... \u001b[?25l\u001b[?25hdone\n",
            "Building wheels for collected packages: pycairo\n",
            "  Building wheel for pycairo (pyproject.toml) ... \u001b[?25l\u001b[?25hdone\n",
            "  Created wheel for pycairo: filename=pycairo-1.23.0-cp38-cp38-linux_x86_64.whl size=297285 sha256=5ea1ac23f51b30545a0037148925fe4a4c5a344df56e7fff682b82d551c74d02\n",
            "  Stored in directory: /root/.cache/pip/wheels/d9/25/86/ba7950c33840b1fda7ab932c7c7172d77b994807c5fd35c3ea\n",
            "Successfully built pycairo\n",
            "Installing collected packages: pycairo\n",
            "Successfully installed pycairo-1.23.0\n"
          ]
        }
      ]
    },
    {
      "cell_type": "code",
      "source": [
        "!pip install igraph"
      ],
      "metadata": {
        "colab": {
          "base_uri": "https://localhost:8080/"
        },
        "id": "fHN03sjQu0oA",
        "outputId": "0527425f-82d9-4e28-aeab-63b26d152c50"
      },
      "execution_count": 4,
      "outputs": [
        {
          "output_type": "stream",
          "name": "stdout",
          "text": [
            "Looking in indexes: https://pypi.org/simple, https://us-python.pkg.dev/colab-wheels/public/simple/\n",
            "Collecting igraph\n",
            "  Downloading igraph-0.10.3-cp38-cp38-manylinux_2_17_x86_64.manylinux2014_x86_64.whl (3.3 MB)\n",
            "\u001b[2K     \u001b[90m━━━━━━━━━━━━━━━━━━━━━━━━━━━━━━━━━━━━━━━━\u001b[0m \u001b[32m3.3/3.3 MB\u001b[0m \u001b[31m68.4 MB/s\u001b[0m eta \u001b[36m0:00:00\u001b[0m\n",
            "\u001b[?25hCollecting texttable>=1.6.2\n",
            "  Downloading texttable-1.6.7-py2.py3-none-any.whl (10 kB)\n",
            "Installing collected packages: texttable, igraph\n",
            "Successfully installed igraph-0.10.3 texttable-1.6.7\n"
          ]
        }
      ]
    },
    {
      "cell_type": "code",
      "source": [
        "# Importação das bibliotecas\n",
        "from igraph import Graph\n",
        "from igraph import plot\n"
      ],
      "metadata": {
        "id": "0aSchuT0tE_N"
      },
      "execution_count": 5,
      "outputs": []
    },
    {
      "cell_type": "code",
      "source": [
        "# Definição do grafo com as arestas\n",
        "grafo5 = Graph(edges = [(0,1),(1,2),(2,3),(3,0)], directed = True) #torna direcionado\n",
        "# Direcao entre as arestas indicado por D no print\n",
        "grafo5.vs['label'] = range(grafo5.vcount()) #contagem é o rotulo dos vertices\n",
        "print(grafo5) #grafico é direcionado, de 4 vert e 4 arestas"
      ],
      "metadata": {
        "colab": {
          "base_uri": "https://localhost:8080/"
        },
        "id": "Xi3FbBQJvHEl",
        "outputId": "a612a46f-1cc5-4acc-dbc1-07b7b86db8c4"
      },
      "execution_count": 6,
      "outputs": [
        {
          "output_type": "stream",
          "name": "stdout",
          "text": [
            "IGRAPH D--- 4 4 --\n",
            "+ attr: label (v)\n",
            "+ edges:\n",
            "0->1 1->2 2->3 3->0\n"
          ]
        }
      ]
    },
    {
      "cell_type": "code",
      "source": [
        "grafo6 = Graph(edges = [(0,1),(1,2),(2,3),(3,0)], directed = False) #torna NÃO direcionado\n",
        "# Ñ DIRECIONADO indicado por U no print\n",
        "grafo6.vs['label'] = range(grafo6.vcount()) #contagem é o rotulo dos vertices\n",
        "print(grafo6) #grafico é direcionado, de 4 vert e 4 arestas"
      ],
      "metadata": {
        "colab": {
          "base_uri": "https://localhost:8080/"
        },
        "id": "Z6ji15-kvkGn",
        "outputId": "804eaa37-dc51-41f6-af44-8793cfaa6dff"
      },
      "execution_count": 7,
      "outputs": [
        {
          "output_type": "stream",
          "name": "stdout",
          "text": [
            "IGRAPH U--- 4 4 --\n",
            "+ attr: label (v)\n",
            "+ edges:\n",
            "0--1 1--2 2--3 0--3\n"
          ]
        }
      ]
    },
    {
      "cell_type": "code",
      "source": [
        "plot(grafo6,target=plt.axes())#ñ direcionado ñ há setas no grafo"
      ],
      "metadata": {
        "colab": {
          "base_uri": "https://localhost:8080/",
          "height": 265
        },
        "id": "x_BAH4X-vtzn",
        "outputId": "9fd2feec-c605-4322-9ee5-e51703d58dfa"
      },
      "execution_count": 10,
      "outputs": [
        {
          "output_type": "execute_result",
          "data": {
            "text/plain": [
              "<matplotlib.axes._subplots.AxesSubplot at 0x7fa82b132190>"
            ]
          },
          "metadata": {},
          "execution_count": 10
        },
        {
          "output_type": "display_data",
          "data": {
            "text/plain": [
              "<Figure size 432x288 with 1 Axes>"
            ],
            "image/png": "[encoded data removed]"
          },
          "metadata": {}
        }
      ]
    },
    {
      "cell_type": "code",
      "source": [
        "# Adicionando vértices e arestas por meio das funções add_vertices e add_vertex\n",
        "grafo3 = Graph(directed = False)\n",
        "grafo3.add_vertices(10)\n",
        "grafo3.add_vertex(16) #add apenas 1 vertice\n",
        "grafo3.add_edges([(0,1),(2,2),(2,3),(3,0)]) #4 arestas definida \n",
        "grafo3.vs['label'] = range(grafo3.vcount())\n",
        "print(grafo3)\n",
        "plot(grafo3,target=plt.axes())"
      ],
      "metadata": {
        "colab": {
          "base_uri": "https://localhost:8080/",
          "height": 334
        },
        "id": "W8gguN34wh2w",
        "outputId": "47436e03-e3d1-44d1-d264-49993c8dad20"
      },
      "execution_count": 20,
      "outputs": [
        {
          "output_type": "stream",
          "name": "stdout",
          "text": [
            "IGRAPH UN-- 11 4 --\n",
            "+ attr: label (v), name (v)\n",
            "+ edges (vertex names):\n",
            "None--None, None--None, None--None, None--None\n"
          ]
        },
        {
          "output_type": "execute_result",
          "data": {
            "text/plain": [
              "<matplotlib.axes._subplots.AxesSubplot at 0x7fa82191c0d0>"
            ]
          },
          "metadata": {},
          "execution_count": 20
        },
        {
          "output_type": "display_data",
          "data": {
            "text/plain": [
              "<Figure size 432x288 with 1 Axes>"
            ],
            "image/png": "[encoded data removed]"
          },
          "metadata": {}
        }
      ]
    },
    {
      "cell_type": "code",
      "source": [
        "grafo3 = Graph(directed = False)\n",
        "grafo3.add_vertices(5)\n",
        "#grafo3.add_vertex(16) \n",
        "grafo3.add_edges([(0,1),(1,2),(2,3),(3,4),(4,0),(0,2),(2,1)]) #edges para os 5 primeiros criados\n",
        "grafo3.add_vertex(5) \n",
        "grafo3.add_vertex(6) \n",
        "grafo3.vs['label'] = ['A','B','C','D','E','F','G']\n",
        "print(grafo3)\n",
        "plot(grafo3,target=plt.axes())"
      ],
      "metadata": {
        "colab": {
          "base_uri": "https://localhost:8080/",
          "height": 352
        },
        "id": "4aJydptE2OZp",
        "outputId": "83893648-877b-4f61-9ec2-6f67883c8816"
      },
      "execution_count": 21,
      "outputs": [
        {
          "output_type": "stream",
          "name": "stdout",
          "text": [
            "IGRAPH UN-- 7 7 --\n",
            "+ attr: label (v), name (v)\n",
            "+ edges (vertex names):\n",
            "None--None, None--None, None--None, None--None, None--None, None--None,\n",
            "None--None\n"
          ]
        },
        {
          "output_type": "execute_result",
          "data": {
            "text/plain": [
              "<matplotlib.axes._subplots.AxesSubplot at 0x7fa82188d820>"
            ]
          },
          "metadata": {},
          "execution_count": 21
        },
        {
          "output_type": "display_data",
          "data": {
            "text/plain": [
              "<Figure size 432x288 with 1 Axes>"
            ],
            "image/png": "[encoded data removed]"
          },
          "metadata": {}
        }
      ]
    },
    {
      "cell_type": "code",
      "source": [
        "# recriamos o grafo 4\n",
        "grafo71 = Graph(directed = False)\n",
        "grafo71.add_vertices(5)\n",
        "grafo71.add_edges([(0,1),(1,2),(2,3),(3,4),(4,0),(0,2),(2,1)])\n",
        "grafo71.add_vertex(5)\n",
        "grafo71.add_vertex(6)\n",
        "grafo71.vs['label'] = ['A', 'B', 'C', 'D', 'E', 'F', 'G']\n",
        "grafo71.vs['name'] = ['A', 'B', 'C', 'D', 'E', 'F', 'G']"
      ],
      "metadata": {
        "id": "vOhCpiOA3nZ7"
      },
      "execution_count": 22,
      "outputs": []
    },
    {
      "cell_type": "code",
      "source": [
        "# Impressão da matriz de adjacência,possivel acessar elementos pontuais\n",
        "print(grafo71.get_adjacency())"
      ],
      "metadata": {
        "colab": {
          "base_uri": "https://localhost:8080/"
        },
        "id": "8NsrpDCl33C4",
        "outputId": "18b5b51d-4022-411d-ab61-f1c527b90b81"
      },
      "execution_count": 24,
      "outputs": [
        {
          "output_type": "stream",
          "name": "stdout",
          "text": [
            "[[0, 1, 1, 0, 1, 0, 0]\n",
            " [1, 0, 2, 0, 0, 0, 0]\n",
            " [1, 2, 0, 1, 0, 0, 0]\n",
            " [0, 0, 1, 0, 1, 0, 0]\n",
            " [1, 0, 0, 1, 0, 0, 0]\n",
            " [0, 0, 0, 0, 0, 0, 0]\n",
            " [0, 0, 0, 0, 0, 0, 0]]\n"
          ]
        }
      ]
    },
    {
      "cell_type": "code",
      "source": [
        "# linha\n",
        "grafo71.get_adjacency()[0,]"
      ],
      "metadata": {
        "colab": {
          "base_uri": "https://localhost:8080/"
        },
        "id": "yYMtCv3w3cLq",
        "outputId": "82af75ba-ab5c-4c19-f3fa-ec1810046391"
      },
      "execution_count": 26,
      "outputs": [
        {
          "output_type": "execute_result",
          "data": {
            "text/plain": [
              "[0, 1, 1, 0, 1, 0, 0]"
            ]
          },
          "metadata": {},
          "execution_count": 26
        }
      ]
    },
    {
      "cell_type": "code",
      "source": [
        "#linha e coluna\n",
        "grafo71.get_adjacency()[0,1]"
      ],
      "metadata": {
        "colab": {
          "base_uri": "https://localhost:8080/"
        },
        "id": "r6LhyCAs37UH",
        "outputId": "19fadebd-6553-4a3a-c5dc-fd74c7c41352"
      },
      "execution_count": 27,
      "outputs": [
        {
          "output_type": "execute_result",
          "data": {
            "text/plain": [
              "1"
            ]
          },
          "metadata": {},
          "execution_count": 27
        }
      ]
    },
    {
      "cell_type": "code",
      "source": [
        "# Estrutura de repetição para percorrer cada vértice, visualizando o nome e o rótulo,sendo nome propridade interna\n",
        "for v in grafo71.vs:\n",
        "   print(v) "
      ],
      "metadata": {
        "colab": {
          "base_uri": "https://localhost:8080/"
        },
        "id": "kNHjK95O370C",
        "outputId": "66b3e2e0-26a4-457f-afd4-9c8f51538155"
      },
      "execution_count": 28,
      "outputs": [
        {
          "output_type": "stream",
          "name": "stdout",
          "text": [
            "igraph.Vertex(<igraph.Graph object at 0x7fa821d30540>, 0, {'name': 'A', 'label': 'A'})\n",
            "igraph.Vertex(<igraph.Graph object at 0x7fa821d30540>, 1, {'name': 'B', 'label': 'B'})\n",
            "igraph.Vertex(<igraph.Graph object at 0x7fa821d30540>, 2, {'name': 'C', 'label': 'C'})\n",
            "igraph.Vertex(<igraph.Graph object at 0x7fa821d30540>, 3, {'name': 'D', 'label': 'D'})\n",
            "igraph.Vertex(<igraph.Graph object at 0x7fa821d30540>, 4, {'name': 'E', 'label': 'E'})\n",
            "igraph.Vertex(<igraph.Graph object at 0x7fa821d30540>, 5, {'name': 'F', 'label': 'F'})\n",
            "igraph.Vertex(<igraph.Graph object at 0x7fa821d30540>, 6, {'name': 'G', 'label': 'G'})\n"
          ]
        }
      ]
    },
    {
      "cell_type": "code",
      "source": [
        "plot(grafo71,target=plt.axes())"
      ],
      "metadata": {
        "colab": {
          "base_uri": "https://localhost:8080/",
          "height": 265
        },
        "id": "hS5zkwtR38Ta",
        "outputId": "e548e211-6727-437f-d3b4-d453156d07fc"
      },
      "execution_count": 31,
      "outputs": [
        {
          "output_type": "execute_result",
          "data": {
            "text/plain": [
              "<matplotlib.axes._subplots.AxesSubplot at 0x7fa8218763a0>"
            ]
          },
          "metadata": {},
          "execution_count": 31
        },
        {
          "output_type": "display_data",
          "data": {
            "text/plain": [
              "<Figure size 432x288 with 1 Axes>"
            ],
            "image/png": "[encoded data removed]"
          },
          "metadata": {}
        }
      ]
    },
    {
      "cell_type": "code",
      "source": [
        "# Criação de grafo com pesos entre as relações\n",
        "grafo51 = Graph(edges = [(0,1),(2,3),(0,2),(0,3)], directed = True)\n",
        "grafo51.vs['label'] = ['Fernando', 'Pedro', 'Jose', 'Antonio']\n",
        "grafo51.vs['peso'] = [40,30,30,25]\n",
        "print(grafo5)"
      ],
      "metadata": {
        "colab": {
          "base_uri": "https://localhost:8080/"
        },
        "id": "olWfNRSs4LZz",
        "outputId": "c5bc3b6b-16cf-43aa-81be-e1961a8f6600"
      },
      "execution_count": 32,
      "outputs": [
        {
          "output_type": "stream",
          "name": "stdout",
          "text": [
            "IGRAPH D--- 4 4 --\n",
            "+ attr: label (v)\n",
            "+ edges:\n",
            "0->1 1->2 2->3 3->0\n"
          ]
        }
      ]
    },
    {
      "cell_type": "code",
      "source": [
        "# Percorrer os vértices para visualizar os pesos\n",
        "for v in grafo51.vs:\n",
        "    print(v)"
      ],
      "metadata": {
        "colab": {
          "base_uri": "https://localhost:8080/"
        },
        "id": "psqM6Ola4PhF",
        "outputId": "dbf02bab-bd87-430c-edfc-48c233d21e29"
      },
      "execution_count": 33,
      "outputs": [
        {
          "output_type": "stream",
          "name": "stdout",
          "text": [
            "igraph.Vertex(<igraph.Graph object at 0x7fa821ecde40>, 0, {'label': 'Fernando', 'peso': 40})\n",
            "igraph.Vertex(<igraph.Graph object at 0x7fa821ecde40>, 1, {'label': 'Pedro', 'peso': 30})\n",
            "igraph.Vertex(<igraph.Graph object at 0x7fa821ecde40>, 2, {'label': 'Jose', 'peso': 30})\n",
            "igraph.Vertex(<igraph.Graph object at 0x7fa821ecde40>, 3, {'label': 'Antonio', 'peso': 25})\n"
          ]
        }
      ]
    },
    {
      "cell_type": "code",
      "source": [
        "grafo51.vs[0]"
      ],
      "metadata": {
        "colab": {
          "base_uri": "https://localhost:8080/"
        },
        "id": "cqf0yH4Q4Sqw",
        "outputId": "7a435cfc-3b0b-4c92-ec63-758eb1680cb0"
      },
      "execution_count": 34,
      "outputs": [
        {
          "output_type": "execute_result",
          "data": {
            "text/plain": [
              "igraph.Vertex(<igraph.Graph object at 0x7fa821ecde40>, 0, {'label': 'Fernando', 'peso': 40})"
            ]
          },
          "metadata": {},
          "execution_count": 34
        }
      ]
    },
    {
      "cell_type": "code",
      "source": [
        "# Definição do tipo de amizado e do peso das relações\n",
        "grafo51.es['TipoAmizade'] = ['Amigo', 'Inimigo', 'Inimigo', 'Amigo']\n",
        "grafo51.es['weight'] = [1,2,1,3]#torna o grafico ponderado\n",
        "print(grafo5)"
      ],
      "metadata": {
        "colab": {
          "base_uri": "https://localhost:8080/"
        },
        "id": "giBR9_4c4ZHb",
        "outputId": "fe230b75-d351-416d-8b14-f51481e79644"
      },
      "execution_count": 35,
      "outputs": [
        {
          "output_type": "stream",
          "name": "stdout",
          "text": [
            "IGRAPH D--- 4 4 --\n",
            "+ attr: label (v)\n",
            "+ edges:\n",
            "0->1 1->2 2->3 3->0\n"
          ]
        }
      ]
    },
    {
      "cell_type": "code",
      "source": [
        "# Percorrer os vértices, tipo de amizade\n",
        "for e in grafo51.es:\n",
        "    print(e)"
      ],
      "metadata": {
        "colab": {
          "base_uri": "https://localhost:8080/"
        },
        "id": "Z7m4bEJR4awS",
        "outputId": "ce9d5b31-9e7c-47a0-fc00-f7ab69b2aa8d"
      },
      "execution_count": 36,
      "outputs": [
        {
          "output_type": "stream",
          "name": "stdout",
          "text": [
            "igraph.Edge(<igraph.Graph object at 0x7fa821ecde40>, 0, {'TipoAmizade': 'Amigo', 'weight': 1})\n",
            "igraph.Edge(<igraph.Graph object at 0x7fa821ecde40>, 1, {'TipoAmizade': 'Inimigo', 'weight': 2})\n",
            "igraph.Edge(<igraph.Graph object at 0x7fa821ecde40>, 2, {'TipoAmizade': 'Inimigo', 'weight': 1})\n",
            "igraph.Edge(<igraph.Graph object at 0x7fa821ecde40>, 3, {'TipoAmizade': 'Amigo', 'weight': 3})\n"
          ]
        }
      ]
    },
    {
      "cell_type": "code",
      "source": [
        "#propriedades e valores de uma posição\n",
        "grafo51.es[0]"
      ],
      "metadata": {
        "colab": {
          "base_uri": "https://localhost:8080/"
        },
        "id": "A2IkwvrK4bIF",
        "outputId": "f675138c-589e-4403-e211-58cd3fa8d943"
      },
      "execution_count": 38,
      "outputs": [
        {
          "output_type": "execute_result",
          "data": {
            "text/plain": [
              "igraph.Edge(<igraph.Graph object at 0x7fa821ecde40>, 0, {'TipoAmizade': 'Amigo', 'weight': 1})"
            ]
          },
          "metadata": {},
          "execution_count": 38
        }
      ]
    },
    {
      "cell_type": "code",
      "source": [
        "# tipos de amizade\n",
        "grafo51.es['TipoAmizade'] #ver aresta=propriedade tipo de amizade"
      ],
      "metadata": {
        "colab": {
          "base_uri": "https://localhost:8080/"
        },
        "id": "X9A1nxTh4bkY",
        "outputId": "7baf5891-16ac-4e89-f6fc-e00c32d56ba5"
      },
      "execution_count": 40,
      "outputs": [
        {
          "output_type": "execute_result",
          "data": {
            "text/plain": [
              "['Amigo', 'Inimigo', 'Inimigo', 'Amigo']"
            ]
          },
          "metadata": {},
          "execution_count": 40
        }
      ]
    },
    {
      "cell_type": "code",
      "source": [
        "print(grafo51) #d w indicam que é direcionado e ponderado"
      ],
      "metadata": {
        "colab": {
          "base_uri": "https://localhost:8080/"
        },
        "id": "o2eanLQW4mGX",
        "outputId": "6e6e0bbf-761e-496b-a854-47bd14e86010"
      },
      "execution_count": 41,
      "outputs": [
        {
          "output_type": "stream",
          "name": "stdout",
          "text": [
            "IGRAPH D-W- 4 4 --\n",
            "+ attr: label (v), peso (v), TipoAmizade (e), weight (e)\n",
            "+ edges:\n",
            "0->1 2->3 0->2 0->3\n"
          ]
        }
      ]
    },
    {
      "cell_type": "code",
      "source": [
        "# Mudança dos tipos das relações em grafos já existentes\n",
        "grafo51.vs['type'] = 'Humanos'\n",
        "grafo51.vs['name'] = 'Amizades'\n",
        "print(grafo51)\n",
        "plot(grafo51, target=plt.axes())"
      ],
      "metadata": {
        "colab": {
          "base_uri": "https://localhost:8080/",
          "height": 334
        },
        "id": "Wx7juU474mg1",
        "outputId": "c3f56474-6062-416d-f6cd-1a24d5dec96c"
      },
      "execution_count": 44,
      "outputs": [
        {
          "output_type": "stream",
          "name": "stdout",
          "text": [
            "IGRAPH DNWT 4 4 --\n",
            "+ attr: label (v), name (v), peso (v), type (v), TipoAmizade (e), weight (e)\n",
            "+ edges (vertex names):\n",
            "Amizades->Amizades, Amizades->Amizades, Amizades->Amizades, Amizades->Amizades\n"
          ]
        },
        {
          "output_type": "execute_result",
          "data": {
            "text/plain": [
              "<matplotlib.axes._subplots.AxesSubplot at 0x7fa8217c4af0>"
            ]
          },
          "metadata": {},
          "execution_count": 44
        },
        {
          "output_type": "display_data",
          "data": {
            "text/plain": [
              "<Figure size 432x288 with 1 Axes>"
            ],
            "image/png": "[encoded data removed]"
          },
          "metadata": {}
        }
      ]
    },
    {
      "cell_type": "code",
      "source": [
        "# Criação de grafo com pesos entre as relações\n",
        "grafo52 = Graph(edges = [(0,1),(2,3),(0,2),(0,3)], directed = True)\n",
        "grafo52.vs['label'] = ['Fernando', 'Pedro', 'Jose', 'Antonio'] #vs pra acessar vertices,ponto tem o nome\n",
        "grafo52.vs['peso'] = [40,30,30,25]\n",
        "grafo52.es['TipoAmizade'] = ['Amigo', 'Inimigo', 'Inimigo', 'Amigo'] #es para as arestas, tipo de amizade fica na relaçao\n",
        "grafo52.es['weight'] = [1,2,1,3]"
      ],
      "metadata": {
        "id": "eoMiyWYb8ff9"
      },
      "execution_count": 45,
      "outputs": []
    },
    {
      "cell_type": "code",
      "source": [
        "# Visualizar informações sobre os vértices\n",
        "for v in grafo52.vs:\n",
        "    print(v)"
      ],
      "metadata": {
        "colab": {
          "base_uri": "https://localhost:8080/"
        },
        "id": "H5QA73zh9A8c",
        "outputId": "7af2b7da-c5ae-4bf9-a410-c2147ced8258"
      },
      "execution_count": 46,
      "outputs": [
        {
          "output_type": "stream",
          "name": "stdout",
          "text": [
            "igraph.Vertex(<igraph.Graph object at 0x7fa821d30240>, 0, {'label': 'Fernando', 'peso': 40})\n",
            "igraph.Vertex(<igraph.Graph object at 0x7fa821d30240>, 1, {'label': 'Pedro', 'peso': 30})\n",
            "igraph.Vertex(<igraph.Graph object at 0x7fa821d30240>, 2, {'label': 'Jose', 'peso': 30})\n",
            "igraph.Vertex(<igraph.Graph object at 0x7fa821d30240>, 3, {'label': 'Antonio', 'peso': 25})\n"
          ]
        }
      ]
    },
    {
      "cell_type": "code",
      "source": [
        "# Visualizar informações sobre as arestas\n",
        "for e in grafo52.es:\n",
        "    print(e)"
      ],
      "metadata": {
        "colab": {
          "base_uri": "https://localhost:8080/"
        },
        "id": "xSned2ke9FPt",
        "outputId": "3de8ce9e-1c2d-465a-ca59-e91e290231f5"
      },
      "execution_count": 47,
      "outputs": [
        {
          "output_type": "stream",
          "name": "stdout",
          "text": [
            "igraph.Edge(<igraph.Graph object at 0x7fa821d30240>, 0, {'TipoAmizade': 'Amigo', 'weight': 1})\n",
            "igraph.Edge(<igraph.Graph object at 0x7fa821d30240>, 1, {'TipoAmizade': 'Inimigo', 'weight': 2})\n",
            "igraph.Edge(<igraph.Graph object at 0x7fa821d30240>, 2, {'TipoAmizade': 'Inimigo', 'weight': 1})\n",
            "igraph.Edge(<igraph.Graph object at 0x7fa821d30240>, 3, {'TipoAmizade': 'Amigo', 'weight': 3})\n"
          ]
        }
      ]
    },
    {
      "cell_type": "code",
      "source": [
        "# Definição de cores para os vértices\n",
        "grafo52.vs['cor'] = ['blue', 'red', 'yellow', 'green']\n",
        "plot(grafo52, target=plt.axes(),vertex_color = grafo52.vs['cor'])#vertex_color é para referencia as cores "
      ],
      "metadata": {
        "colab": {
          "base_uri": "https://localhost:8080/",
          "height": 265
        },
        "id": "ZM5odfdX9P7c",
        "outputId": "096a4eae-fbf9-41b7-9967-f8f0f2fa7124"
      },
      "execution_count": 48,
      "outputs": [
        {
          "output_type": "execute_result",
          "data": {
            "text/plain": [
              "<matplotlib.axes._subplots.AxesSubplot at 0x7fa8217b5ca0>"
            ]
          },
          "metadata": {},
          "execution_count": 48
        },
        {
          "output_type": "display_data",
          "data": {
            "text/plain": [
              "<Figure size 432x288 with 1 Axes>"
            ],
            "image/png": "[encoded data removed]"
          },
          "metadata": {}
        }
      ]
    },
    {
      "cell_type": "code",
      "source": [
        "# pesos para as arrestas\n",
        "plot(grafo52,target=plt.axes()  \n",
        ",edge_width = grafo52.es['weight']\n",
        ",vertex_color = grafo52.vs['cor'])"
      ],
      "metadata": {
        "colab": {
          "base_uri": "https://localhost:8080/",
          "height": 265
        },
        "id": "nCzhFxrS9RGV",
        "outputId": "a9cb7865-4a3f-4664-b101-fcd8fe7b8315"
      },
      "execution_count": 52,
      "outputs": [
        {
          "output_type": "execute_result",
          "data": {
            "text/plain": [
              "<matplotlib.axes._subplots.AxesSubplot at 0x7fa82170b4c0>"
            ]
          },
          "metadata": {},
          "execution_count": 52
        },
        {
          "output_type": "display_data",
          "data": {
            "text/plain": [
              "<Figure size 432x288 with 1 Axes>"
            ],
            "image/png": "[encoded data removed]"
          },
          "metadata": {}
        }
      ]
    },
    {
      "cell_type": "code",
      "source": [
        "# Pesos para os vértices#parametro da impressao o size\n",
        "plot(grafo52, target=plt.axes(), vertex_size = grafo52.vs['peso'],\n",
        "     edge_width = grafo52.es['weight'],\n",
        "     vertex_color = grafo52.vs['cor'])"
      ],
      "metadata": {
        "colab": {
          "base_uri": "https://localhost:8080/",
          "height": 265
        },
        "id": "l3e9aQvr9WES",
        "outputId": "79d9679f-d85c-401f-dcc8-45bc8ca93292"
      },
      "execution_count": 55,
      "outputs": [
        {
          "output_type": "execute_result",
          "data": {
            "text/plain": [
              "<matplotlib.axes._subplots.AxesSubplot at 0x7fa821615af0>"
            ]
          },
          "metadata": {},
          "execution_count": 55
        },
        {
          "output_type": "display_data",
          "data": {
            "text/plain": [
              "<Figure size 432x288 with 1 Axes>"
            ],
            "image/png": "[encoded data removed]"
          },
          "metadata": {}
        }
      ]
    },
    {
      "cell_type": "code",
      "source": [
        "# Curvatura varias arestas com angulo diferente pra ñ tranpostar , bom para rotas entre duas cidades por exemplo\n",
        "plot(grafo52, target=plt.axes(), vertex_size = grafo52.vs['peso'],\n",
        "     edge_width = grafo52.es['weight'],\n",
        "     vertex_color = grafo52.vs['cor'],\n",
        "     edge_curved = 0.4)#defini propriedade com curved  e define angulatura"
      ],
      "metadata": {
        "colab": {
          "base_uri": "https://localhost:8080/",
          "height": 265
        },
        "id": "u7JKJSLo9Zw0",
        "outputId": "e7cba63e-3930-43b3-a1b1-dc9b40f3d7a7"
      },
      "execution_count": 56,
      "outputs": [
        {
          "output_type": "execute_result",
          "data": {
            "text/plain": [
              "<matplotlib.axes._subplots.AxesSubplot at 0x7fa8215f06d0>"
            ]
          },
          "metadata": {},
          "execution_count": 56
        },
        {
          "output_type": "display_data",
          "data": {
            "text/plain": [
              "<Figure size 432x288 with 1 Axes>"
            ],
            "image/png": "[encoded data removed]"
          },
          "metadata": {}
        }
      ]
    },
    {
      "cell_type": "code",
      "source": [
        "# Formato, mudando de um circulo p um triangulo\n",
        "plot(grafo52, target=plt.axes(), vertex_size = grafo52.vs['peso'],\n",
        "     edge_width = grafo52.es['weight'],\n",
        "     vertex_color = grafo52.vs['cor'],\n",
        "     edge_curved = 0.4, vertex_shape = 'triangle')#pode ate por imagens aq"
      ],
      "metadata": {
        "colab": {
          "base_uri": "https://localhost:8080/",
          "height": 265
        },
        "id": "3f5U3KaI9e3C",
        "outputId": "b5d5c67c-cc5b-4280-9d08-b71ff4291b7a"
      },
      "execution_count": 58,
      "outputs": [
        {
          "output_type": "execute_result",
          "data": {
            "text/plain": [
              "<matplotlib.axes._subplots.AxesSubplot at 0x7fa8215578e0>"
            ]
          },
          "metadata": {},
          "execution_count": 58
        },
        {
          "output_type": "display_data",
          "data": {
            "text/plain": [
              "<Figure size 432x288 with 1 Axes>"
            ],
            "image/png": "[encoded data removed]"
          },
          "metadata": {}
        }
      ]
    },
    {
      "cell_type": "code",
      "source": [
        "# Importação das bibliotecas\n",
        "#from igraph import Graph\n",
        "#from igraph import plot"
      ],
      "metadata": {
        "id": "_en7a7MFDWgK"
      },
      "execution_count": 60,
      "outputs": []
    },
    {
      "cell_type": "code",
      "source": [
        "!apt install libcairo2-dev"
      ],
      "metadata": {
        "colab": {
          "base_uri": "https://localhost:8080/"
        },
        "id": "Guo2O-jQDbPO",
        "outputId": "24a19a24-0cf9-4802-f473-437c91429e70"
      },
      "execution_count": 62,
      "outputs": [
        {
          "output_type": "stream",
          "name": "stdout",
          "text": [
            "Reading package lists... Done\n",
            "Building dependency tree       \n",
            "Reading state information... Done\n",
            "libcairo2-dev is already the newest version (1.15.10-2ubuntu0.1).\n",
            "The following package was automatically installed and is no longer required:\n",
            "  libnvidia-common-460\n",
            "Use 'apt autoremove' to remove it.\n",
            "0 upgraded, 0 newly installed, 0 to remove and 21 not upgraded.\n"
          ]
        }
      ]
    },
    {
      "cell_type": "code",
      "source": [
        "!pip install igraph"
      ],
      "metadata": {
        "colab": {
          "base_uri": "https://localhost:8080/"
        },
        "id": "tDBiftPJDbzH",
        "outputId": "3b8c7be3-3047-4c08-d962-5fd0d05c7476"
      },
      "execution_count": 63,
      "outputs": [
        {
          "output_type": "stream",
          "name": "stdout",
          "text": [
            "Looking in indexes: https://pypi.org/simple, https://us-python.pkg.dev/colab-wheels/public/simple/\n",
            "Requirement already satisfied: igraph in /usr/local/lib/python3.8/dist-packages (0.10.3)\n",
            "Requirement already satisfied: texttable>=1.6.2 in /usr/local/lib/python3.8/dist-packages (from igraph) (1.6.7)\n"
          ]
        }
      ]
    },
    {
      "cell_type": "code",
      "source": [],
      "metadata": {
        "id": "SG--hW0VESGK"
      },
      "execution_count": null,
      "outputs": []
    },
    {
      "cell_type": "code",
      "source": [
        "from igraph import Graph\n",
        "from igraph import plot"
      ],
      "metadata": {
        "id": "FeWRbUYuD5Ba"
      },
      "execution_count": 64,
      "outputs": []
    },
    {
      "cell_type": "code",
      "source": [
        "# Carregamento de grafo no formato graphml\n",
        "#grafo33 = igraph.load('Grafo.graphml') ERRO IMPOSSIBILITOU CONTINUACAO\n",
        "#print(grafo33)"
      ],
      "metadata": {
        "id": "rLkvqdbxCJ0v"
      },
      "execution_count": null,
      "outputs": []
    },
    {
      "cell_type": "code",
      "source": [
        "# Criação de grafo direcionado com pesos entre as arestas\n",
        "grafo44 = Graph(edges = [(0,2),(0,1),(1,4),(1,5),(2,3),(6,7),(3,7),(4,7),(5,6)],\n",
        "                       directed = True)\n",
        "grafo44.vs['label'] = ['A', 'B', 'C', 'D', 'E', 'F', 'G', 'H'] #cada label é um local\n",
        "grafo44.es['weight'] = [2,1,2,1,2,1,3,1] #representam distancias"
      ],
      "metadata": {
        "id": "qZi24SCRCN4o"
      },
      "execution_count": 68,
      "outputs": []
    },
    {
      "cell_type": "code",
      "source": [
        "# Visualização do grafo com os pesos,grafo direcionado como mapa , ñ pode andar qlqr direcao\n",
        "plot(grafo44, target=plt.axes(), edge_label = grafo44.es['weight'])"
      ],
      "metadata": {
        "colab": {
          "base_uri": "https://localhost:8080/",
          "height": 265
        },
        "id": "ffWdzshuCQ6t",
        "outputId": "369d5054-9a57-4350-a566-882b898e4133"
      },
      "execution_count": 69,
      "outputs": [
        {
          "output_type": "execute_result",
          "data": {
            "text/plain": [
              "<matplotlib.axes._subplots.AxesSubplot at 0x7fa821483190>"
            ]
          },
          "metadata": {},
          "execution_count": 69
        },
        {
          "output_type": "display_data",
          "data": {
            "text/plain": [
              "<Figure size 432x288 with 1 Axes>"
            ],
            "image/png": "[encoded data removed]"
          },
          "metadata": {}
        }
      ]
    },
    {
      "cell_type": "code",
      "source": [
        "# Caminho entre os vértices A - H, calcular menor caminho e essa dist entre vertices\n",
        "caminho_vertice = grafo44.get_shortest_paths(0,7, output = 'vpath') #usa os indices pra tracar caminho +curto\n",
        "for n in caminho_vertice[0]:\n",
        "    print(grafo44.vs[n]['label']) #imprimindo caminho + curto pelas labels"
      ],
      "metadata": {
        "colab": {
          "base_uri": "https://localhost:8080/"
        },
        "id": "VqwdeEWhCRco",
        "outputId": "8047d093-2e3b-465e-c083-d96f51f6e6c9"
      },
      "execution_count": 70,
      "outputs": [
        {
          "output_type": "stream",
          "name": "stdout",
          "text": [
            "A\n",
            "B\n",
            "E\n",
            "H\n"
          ]
        }
      ]
    },
    {
      "cell_type": "code",
      "source": [
        "# Obtenção dos caminhos mais curtos entre 0 e 7, buscando caminho + curto pelo indice das arestas\n",
        "caminho_aresta = grafo44.get_shortest_paths(0,7, output = 'epath')\n",
        "caminho_aresta"
      ],
      "metadata": {
        "colab": {
          "base_uri": "https://localhost:8080/"
        },
        "id": "WNbJ4L6QCS2Q",
        "outputId": "f3fbcf79-4ee3-4cda-c286-98533640980f"
      },
      "execution_count": 71,
      "outputs": [
        {
          "output_type": "execute_result",
          "data": {
            "text/plain": [
              "[[1, 2, 7]]"
            ]
          },
          "metadata": {},
          "execution_count": 71
        }
      ]
    },
    {
      "cell_type": "code",
      "source": [
        "# Mostrar o caminho \n",
        "caminho_aresta_id = []\n",
        "for n in caminho_aresta[0]:\n",
        "    caminho_aresta_id.append(n)\n",
        "caminho_aresta_id\n",
        "\n",
        "# Somatório dos pesos (ou distâncias) entre os vértices do caminho\n",
        "distancia = 0\n",
        "for e in grafo44.es:\n",
        "    #print(e.index)\n",
        "    if e.index in caminho_aresta_id:\n",
        "        distancia += grafo44.es[e.index]['weight']\n",
        "distancia     "
      ],
      "metadata": {
        "colab": {
          "base_uri": "https://localhost:8080/"
        },
        "id": "vBsfT4WlCTOz",
        "outputId": "80b37b72-8143-4dae-ac27-84ea3613559b"
      },
      "execution_count": 74,
      "outputs": [
        {
          "output_type": "execute_result",
          "data": {
            "text/plain": [
              "4"
            ]
          },
          "metadata": {},
          "execution_count": 74
        }
      ]
    },
    {
      "cell_type": "code",
      "source": [
        "# Criação de um gráfico direcionado com pesos entre as arestas\n",
        "grafo44 = Graph(edges = [(0,2),(0,1),(1,4),(1,5),(2,3),(6,7),(3,7),(4,7),(5,6)],\n",
        "                       directed = True)\n",
        "grafo44.vs['label'] = ['A', 'B', 'C', 'D', 'E', 'F', 'G', 'H']\n",
        "grafo44.es['weight'] = [2,1,2,1,2,1,3,1]"
      ],
      "metadata": {
        "id": "zKmp7WdkCjb2"
      },
      "execution_count": 75,
      "outputs": []
    },
    {
      "cell_type": "code",
      "source": [
        "# Visualização dos resultados\n",
        "plot(grafo44, target=plt.axes(), edge_label = grafo44.es['weight'])"
      ],
      "metadata": {
        "colab": {
          "base_uri": "https://localhost:8080/",
          "height": 265
        },
        "id": "2ux8ysq1CnLB",
        "outputId": "540dd3c7-ff92-47ec-d250-44ebfc131c11"
      },
      "execution_count": 76,
      "outputs": [
        {
          "output_type": "execute_result",
          "data": {
            "text/plain": [
              "<matplotlib.axes._subplots.AxesSubplot at 0x7fa8218cdc10>"
            ]
          },
          "metadata": {},
          "execution_count": 76
        },
        {
          "output_type": "display_data",
          "data": {
            "text/plain": [
              "<Figure size 432x288 with 1 Axes>"
            ],
            "image/png": "[encoded data removed]"
          },
          "metadata": {}
        }
      ]
    },
    {
      "cell_type": "code",
      "source": [
        "# Menor caminho entre A - H (retorna os vértices), retornando os vertices  0==A e 7==H\n",
        "caminho_vertice = grafo44.get_shortest_paths(0,7, output = 'vpath')\n",
        "caminho_vertice"
      ],
      "metadata": {
        "colab": {
          "base_uri": "https://localhost:8080/"
        },
        "id": "oWXwPcFDCnkp",
        "outputId": "3d101507-7dc3-4f8d-a1be-1808533df6f9"
      },
      "execution_count": 77,
      "outputs": [
        {
          "output_type": "execute_result",
          "data": {
            "text/plain": [
              "[[0, 1, 4, 7]]"
            ]
          },
          "metadata": {},
          "execution_count": 77
        }
      ]
    },
    {
      "cell_type": "code",
      "source": [
        "# Retorna as arestas que ligam os dois vértices epath retorna arestas\n",
        "caminho_aresta = grafo44.get_shortest_paths(0,7, output = 'epath')\n",
        "caminho_aresta"
      ],
      "metadata": {
        "colab": {
          "base_uri": "https://localhost:8080/"
        },
        "id": "byHkHsoHLiEF",
        "outputId": "286a998a-2f8d-4bd6-ddbc-97e9f456b5bf"
      },
      "execution_count": 78,
      "outputs": [
        {
          "output_type": "execute_result",
          "data": {
            "text/plain": [
              "[[1, 2, 7]]"
            ]
          },
          "metadata": {},
          "execution_count": 78
        }
      ]
    },
    {
      "cell_type": "code",
      "source": [
        "# Mostra o ID dos vértices que fazem parte do caminho, cria lista vazia percorre obj das aresta e exibe indentificadores\n",
        "caminho_aresta_id = []\n",
        "for n in caminho_aresta[0]:\n",
        "    caminho_aresta_id.append(n)\n",
        "caminho_aresta_id"
      ],
      "metadata": {
        "colab": {
          "base_uri": "https://localhost:8080/"
        },
        "id": "WGCdMPENLmIZ",
        "outputId": "1ae21282-33be-42b5-e5b8-24e411b3746b"
      },
      "execution_count": 79,
      "outputs": [
        {
          "output_type": "execute_result",
          "data": {
            "text/plain": [
              "[1, 2, 7]"
            ]
          },
          "metadata": {},
          "execution_count": 79
        }
      ]
    },
    {
      "cell_type": "code",
      "source": [
        "# Mostra o nome dos vértices que fazem parte do caminho\n",
        "caminho_nome_vertices = []\n",
        "for n in caminho_vertice[0]:\n",
        "    print(grafo44.vs[n]['label'])\n",
        "    caminho_nome_vertices.append(grafo44.vs[n]['label'])\n",
        "caminho_nome_vertices    "
      ],
      "metadata": {
        "colab": {
          "base_uri": "https://localhost:8080/"
        },
        "id": "qT3_skOELrBH",
        "outputId": "1b871562-48dd-4883-83cb-200aec1aa6bd"
      },
      "execution_count": 82,
      "outputs": [
        {
          "output_type": "stream",
          "name": "stdout",
          "text": [
            "A\n",
            "B\n",
            "E\n",
            "H\n"
          ]
        },
        {
          "output_type": "execute_result",
          "data": {
            "text/plain": [
              "['A', 'B', 'E', 'H']"
            ]
          },
          "metadata": {},
          "execution_count": 82
        }
      ]
    },
    {
      "cell_type": "code",
      "source": [
        "# Colorir os vértices do caminho, percorre vertices do grafo se grafo q laço ta passando esta entre os labels do caminho==green se ñ=grey\n",
        "for v in grafo44.vs:\n",
        "    #print(v)\n",
        "    if v['label'] in caminho_nome_vertices:\n",
        "        v['color'] = 'green'\n",
        "    else:\n",
        "        v['color'] = 'gray'"
      ],
      "metadata": {
        "id": "JgTvaeivLuqx"
      },
      "execution_count": 84,
      "outputs": []
    },
    {
      "cell_type": "code",
      "source": [
        "# Colorir as arestas do caminho\n",
        "for e in grafo44.es:\n",
        "    #print(e)\n",
        "    if e.index in caminho_aresta_id:\n",
        "        e['color'] = 'green'\n",
        "    else:\n",
        "        e['color'] = 'gray'"
      ],
      "metadata": {
        "id": "MkkeCCWRLzC9"
      },
      "execution_count": 85,
      "outputs": []
    },
    {
      "cell_type": "code",
      "source": [
        "plot(grafo44,target=plt.axes()) #exibicao do caminho colorido"
      ],
      "metadata": {
        "colab": {
          "base_uri": "https://localhost:8080/",
          "height": 265
        },
        "id": "X1q-qnkIL2SM",
        "outputId": "55aaa8a1-e90d-4bcb-cd47-a67a1acea838"
      },
      "execution_count": 86,
      "outputs": [
        {
          "output_type": "execute_result",
          "data": {
            "text/plain": [
              "<matplotlib.axes._subplots.AxesSubplot at 0x7fa82154d9d0>"
            ]
          },
          "metadata": {},
          "execution_count": 86
        },
        {
          "output_type": "display_data",
          "data": {
            "text/plain": [
              "<Figure size 432x288 with 1 Axes>"
            ],
            "image/png": "[encoded data removed]"
          },
          "metadata": {}
        }
      ]
    },
    {
      "cell_type": "code",
      "source": [
        "#exemplo 2"
      ],
      "metadata": {
        "id": "ZIDIa2kzOIeL"
      },
      "execution_count": null,
      "outputs": []
    },
    {
      "cell_type": "code",
      "source": [
        "# Criação de grafo direcionado com pesos nas arestas\n",
        "grafo2 = Graph(edges = [(0,2),(0,1),(1,4),(1,5),(2,3),(6,7),(3,7),(4,7),(5,6)],\n",
        "                       directed = True)\n",
        "grafo2.vs['label'] = ['A', 'B', 'C', 'D', 'E', 'F', 'G', 'H']\n",
        "grafo2.es['weight'] = [2,1,2,1,2,1,3,1]"
      ],
      "metadata": {
        "id": "HGVNkPEKOJju"
      },
      "execution_count": 88,
      "outputs": []
    },
    {
      "cell_type": "code",
      "source": [
        "# Visualização do grafo\n",
        "plot(grafo2, target=plt.axes())"
      ],
      "metadata": {
        "colab": {
          "base_uri": "https://localhost:8080/",
          "height": 265
        },
        "id": "0cvHVssDORJD",
        "outputId": "41c16b02-1ea4-4675-a7f6-41e35f923448"
      },
      "execution_count": 89,
      "outputs": [
        {
          "output_type": "execute_result",
          "data": {
            "text/plain": [
              "<matplotlib.axes._subplots.AxesSubplot at 0x7fa8218c2130>"
            ]
          },
          "metadata": {},
          "execution_count": 89
        },
        {
          "output_type": "display_data",
          "data": {
            "text/plain": [
              "<Figure size 432x288 with 1 Axes>"
            ],
            "image/png": "[encoded data removed]"
          },
          "metadata": {}
        }
      ]
    },
    {
      "cell_type": "code",
      "source": [
        "# Visualização de comunidades e em qual comunidade cada registro foi associado\n",
        "comunidades2 = grafo2.clusters()\n",
        "print(comunidades2)\n",
        "comunidades2.membership"
      ],
      "metadata": {
        "colab": {
          "base_uri": "https://localhost:8080/"
        },
        "id": "Nn_2wwfROV48",
        "outputId": "d1ed961e-b3ed-4262-9ad7-6fb49df20ece"
      },
      "execution_count": 90,
      "outputs": [
        {
          "output_type": "stream",
          "name": "stdout",
          "text": [
            "Clustering with 8 elements and 8 clusters\n",
            "[0] 0\n",
            "[1] 2\n",
            "[2] 3\n",
            "[3] 1\n",
            "[4] 5\n",
            "[5] 6\n",
            "[6] 4\n",
            "[7] 7\n"
          ]
        },
        {
          "output_type": "stream",
          "name": "stderr",
          "text": [
            "<ipython-input-90-cafe802301ad>:2: DeprecationWarning: Graph.clusters() is deprecated; use Graph.connected_components() instead\n",
            "  comunidades2 = grafo2.clusters()\n"
          ]
        },
        {
          "output_type": "execute_result",
          "data": {
            "text/plain": [
              "[0, 3, 1, 2, 6, 4, 5, 7]"
            ]
          },
          "metadata": {},
          "execution_count": 90
        }
      ]
    },
    {
      "cell_type": "code",
      "source": [
        "# Função mais otimizada para visualização das comunidades\n",
        "c = grafo2.community_edge_betweenness()\n",
        "print(c)\n",
        "# Obtenção do número de clusters\n",
        "c.optimal_count\n",
        "# Visualização da nova comunidade\n",
        "comunidades3 = c.as_clustering()\n",
        "print(comunidades3)\n",
        "comunidades3.membership"
      ],
      "metadata": {
        "colab": {
          "base_uri": "https://localhost:8080/"
        },
        "id": "35NSrO6pOZO1",
        "outputId": "ea268138-b227-4ff5-d7ba-dbee715a6ecb"
      },
      "execution_count": 91,
      "outputs": [
        {
          "output_type": "stream",
          "name": "stdout",
          "text": [
            "Dendrogram, 8 elements, 7 merges\n",
            "\n",
            "7 4 3 6 5 1 2 0\n",
            "| | | | | | | |\n",
            "`-' | | | | | |\n",
            " |  | | | | | |\n",
            " `--' | | | | |\n",
            "  |   | | | | |\n",
            "  `---' `-' `-'\n",
            "    |    |   | \n",
            "    `----'   | \n",
            "      |      | \n",
            "      `------'\n",
            "Clustering with 8 elements and 3 clusters\n",
            "[0] 0, 2\n",
            "[1] 1, 5\n",
            "[2] 3, 4, 6, 7\n"
          ]
        },
        {
          "output_type": "execute_result",
          "data": {
            "text/plain": [
              "[0, 1, 0, 2, 2, 1, 2, 2]"
            ]
          },
          "metadata": {},
          "execution_count": 91
        }
      ]
    }
  ]
}