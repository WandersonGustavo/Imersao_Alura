{
  "nbformat": 4,
  "nbformat_minor": 0,
  "metadata": {
    "colab": {
      "provenance": [],
      "authorship_tag": "ABX9TyPzT96w9Z2GjYcz7/pLMJWp",
      "include_colab_link": true
    },
    "kernelspec": {
      "name": "python3",
      "display_name": "Python 3"
    },
    "language_info": {
      "name": "python"
    }
  },
  "cells": [
    {
      "cell_type": "markdown",
      "metadata": {
        "id": "view-in-github",
        "colab_type": "text"
      },
      "source": [
        "<a href=\"https://colab.research.google.com/github/WandersonGustavo/Imersao_Alura/blob/main/dnit_dados2.ipynb\" target=\"_parent\"><img src=\"https://colab.research.google.com/assets/colab-badge.svg\" alt=\"Open In Colab\"/></a>"
      ]
    },
    {
      "cell_type": "code",
      "execution_count": 41,
      "metadata": {
        "id": "heAwMKoTcnJk"
      },
      "outputs": [],
      "source": [
        "import pandas as pd\n",
        "import numpy as np\n",
        "import matplotlib.pyplot as plt\n",
        "import seaborn as sns\n",
        "import statistics  as sts\n",
        "from sklearn.model_selection import train_test_split\n",
        "from sklearn.linear_model import LinearRegression\n",
        "from sklearn.metrics import mean_squared_log_error\n",
        "from sklearn.metrics import mean_squared_error\n",
        "from sklearn.preprocessing import LabelEncoder"
      ]
    },
    {
      "cell_type": "code",
      "source": [
        "base=pd.read_csv('icm_-01-2023-transparencia.csv',on_bad_lines='skip',sep=\";\")\n"
      ],
      "metadata": {
        "id": "KH3tAYeEc1mK"
      },
      "execution_count": 2,
      "outputs": []
    },
    {
      "cell_type": "code",
      "source": [
        "base.columns=['UF','Rodovia','km inicial','km final','Extensão (km)','Data','Latitude','Longitude','Observação','ICMNP']\n"
      ],
      "metadata": {
        "id": "7AIhvGYteNVQ"
      },
      "execution_count": 3,
      "outputs": []
    },
    {
      "cell_type": "code",
      "source": [
        "base2=pd.read_csv('icm_12_2022.csv',on_bad_lines='skip',sep=\";\")\n"
      ],
      "metadata": {
        "id": "eRFd8vv6dARV"
      },
      "execution_count": 4,
      "outputs": []
    },
    {
      "cell_type": "code",
      "source": [
        "base2.columns=['UF','Rodovia','km inicial','km final','Extensão (km)','Data','Latitude','Longitude','ICC','ICP','ICM']\n"
      ],
      "metadata": {
        "id": "70maqC8rgurW"
      },
      "execution_count": 5,
      "outputs": []
    },
    {
      "cell_type": "code",
      "source": [
        "#AGUPAR E EXIBIR DADOS DA BAHIA\n",
        "dadosBahia22=base2.groupby(['UF'])\n",
        "dadosBahia22\n",
        "dadosBahia22.get_group('BA')\n",
        "lat22BA=dadosBahia22.head(31)"
      ],
      "metadata": {
        "id": "zpDdA9mrfErG"
      },
      "execution_count": 6,
      "outputs": []
    },
    {
      "cell_type": "code",
      "source": [
        "dadosBahia23=base.groupby(['UF'])\n",
        "dadosBahia23=dadosBahia23.get_group('BA')\n",
        "dadosBahia23.describe()"
      ],
      "metadata": {
        "id": "wmvpXJI3k2KO",
        "colab": {
          "base_uri": "https://localhost:8080/",
          "height": 174
        },
        "outputId": "efe2af72-dcbc-4b92-e76a-72191534d9fb"
      },
      "execution_count": 7,
      "outputs": [
        {
          "output_type": "execute_result",
          "data": {
            "text/plain": [
              "        UF Rodovia km inicial km final Extensão (km)        Data     Latitude  \\\n",
              "count   31      31         31       31            31          31           31   \n",
              "unique   1       1         31       31             6           1            8   \n",
              "top     BA  BR-135    205,800  206,000         1,000  24/01/2023  -12,3693466   \n",
              "freq    31      31          1        1            24          31           22   \n",
              "\n",
              "        Longitude Observação   ICMNP  \n",
              "count          31          0      31  \n",
              "unique          8          0      19  \n",
              "top     -44,97331        NaN  76,250  \n",
              "freq           22        NaN       6  "
            ],
            "text/html": [
              "\n",
              "  <div id=\"df-6a1e73bb-ba5c-47f3-9a4c-3eaa0c31df81\">\n",
              "    <div class=\"colab-df-container\">\n",
              "      <div>\n",
              "<style scoped>\n",
              "    .dataframe tbody tr th:only-of-type {\n",
              "        vertical-align: middle;\n",
              "    }\n",
              "\n",
              "    .dataframe tbody tr th {\n",
              "        vertical-align: top;\n",
              "    }\n",
              "\n",
              "    .dataframe thead th {\n",
              "        text-align: right;\n",
              "    }\n",
              "</style>\n",
              "<table border=\"1\" class=\"dataframe\">\n",
              "  <thead>\n",
              "    <tr style=\"text-align: right;\">\n",
              "      <th></th>\n",
              "      <th>UF</th>\n",
              "      <th>Rodovia</th>\n",
              "      <th>km inicial</th>\n",
              "      <th>km final</th>\n",
              "      <th>Extensão (km)</th>\n",
              "      <th>Data</th>\n",
              "      <th>Latitude</th>\n",
              "      <th>Longitude</th>\n",
              "      <th>Observação</th>\n",
              "      <th>ICMNP</th>\n",
              "    </tr>\n",
              "  </thead>\n",
              "  <tbody>\n",
              "    <tr>\n",
              "      <th>count</th>\n",
              "      <td>31</td>\n",
              "      <td>31</td>\n",
              "      <td>31</td>\n",
              "      <td>31</td>\n",
              "      <td>31</td>\n",
              "      <td>31</td>\n",
              "      <td>31</td>\n",
              "      <td>31</td>\n",
              "      <td>0</td>\n",
              "      <td>31</td>\n",
              "    </tr>\n",
              "    <tr>\n",
              "      <th>unique</th>\n",
              "      <td>1</td>\n",
              "      <td>1</td>\n",
              "      <td>31</td>\n",
              "      <td>31</td>\n",
              "      <td>6</td>\n",
              "      <td>1</td>\n",
              "      <td>8</td>\n",
              "      <td>8</td>\n",
              "      <td>0</td>\n",
              "      <td>19</td>\n",
              "    </tr>\n",
              "    <tr>\n",
              "      <th>top</th>\n",
              "      <td>BA</td>\n",
              "      <td>BR-135</td>\n",
              "      <td>205,800</td>\n",
              "      <td>206,000</td>\n",
              "      <td>1,000</td>\n",
              "      <td>24/01/2023</td>\n",
              "      <td>-12,3693466</td>\n",
              "      <td>-44,97331</td>\n",
              "      <td>NaN</td>\n",
              "      <td>76,250</td>\n",
              "    </tr>\n",
              "    <tr>\n",
              "      <th>freq</th>\n",
              "      <td>31</td>\n",
              "      <td>31</td>\n",
              "      <td>1</td>\n",
              "      <td>1</td>\n",
              "      <td>24</td>\n",
              "      <td>31</td>\n",
              "      <td>22</td>\n",
              "      <td>22</td>\n",
              "      <td>NaN</td>\n",
              "      <td>6</td>\n",
              "    </tr>\n",
              "  </tbody>\n",
              "</table>\n",
              "</div>\n",
              "      <button class=\"colab-df-convert\" onclick=\"convertToInteractive('df-6a1e73bb-ba5c-47f3-9a4c-3eaa0c31df81')\"\n",
              "              title=\"Convert this dataframe to an interactive table.\"\n",
              "              style=\"display:none;\">\n",
              "        \n",
              "  <svg xmlns=\"http://www.w3.org/2000/svg\" height=\"24px\"viewBox=\"0 0 24 24\"\n",
              "       width=\"24px\">\n",
              "    <path d=\"M0 0h24v24H0V0z\" fill=\"none\"/>\n",
              "    <path d=\"M18.56 5.44l.94 2.06.94-2.06 2.06-.94-2.06-.94-.94-2.06-.94 2.06-2.06.94zm-11 1L8.5 8.5l.94-2.06 2.06-.94-2.06-.94L8.5 2.5l-.94 2.06-2.06.94zm10 10l.94 2.06.94-2.06 2.06-.94-2.06-.94-.94-2.06-.94 2.06-2.06.94z\"/><path d=\"M17.41 7.96l-1.37-1.37c-.4-.4-.92-.59-1.43-.59-.52 0-1.04.2-1.43.59L10.3 9.45l-7.72 7.72c-.78.78-.78 2.05 0 2.83L4 21.41c.39.39.9.59 1.41.59.51 0 1.02-.2 1.41-.59l7.78-7.78 2.81-2.81c.8-.78.8-2.07 0-2.86zM5.41 20L4 18.59l7.72-7.72 1.47 1.35L5.41 20z\"/>\n",
              "  </svg>\n",
              "      </button>\n",
              "      \n",
              "  <style>\n",
              "    .colab-df-container {\n",
              "      display:flex;\n",
              "      flex-wrap:wrap;\n",
              "      gap: 12px;\n",
              "    }\n",
              "\n",
              "    .colab-df-convert {\n",
              "      background-color: #E8F0FE;\n",
              "      border: none;\n",
              "      border-radius: 50%;\n",
              "      cursor: pointer;\n",
              "      display: none;\n",
              "      fill: #1967D2;\n",
              "      height: 32px;\n",
              "      padding: 0 0 0 0;\n",
              "      width: 32px;\n",
              "    }\n",
              "\n",
              "    .colab-df-convert:hover {\n",
              "      background-color: #E2EBFA;\n",
              "      box-shadow: 0px 1px 2px rgba(60, 64, 67, 0.3), 0px 1px 3px 1px rgba(60, 64, 67, 0.15);\n",
              "      fill: #174EA6;\n",
              "    }\n",
              "\n",
              "    [theme=dark] .colab-df-convert {\n",
              "      background-color: #3B4455;\n",
              "      fill: #D2E3FC;\n",
              "    }\n",
              "\n",
              "    [theme=dark] .colab-df-convert:hover {\n",
              "      background-color: #434B5C;\n",
              "      box-shadow: 0px 1px 3px 1px rgba(0, 0, 0, 0.15);\n",
              "      filter: drop-shadow(0px 1px 2px rgba(0, 0, 0, 0.3));\n",
              "      fill: #FFFFFF;\n",
              "    }\n",
              "  </style>\n",
              "\n",
              "      <script>\n",
              "        const buttonEl =\n",
              "          document.querySelector('#df-6a1e73bb-ba5c-47f3-9a4c-3eaa0c31df81 button.colab-df-convert');\n",
              "        buttonEl.style.display =\n",
              "          google.colab.kernel.accessAllowed ? 'block' : 'none';\n",
              "\n",
              "        async function convertToInteractive(key) {\n",
              "          const element = document.querySelector('#df-6a1e73bb-ba5c-47f3-9a4c-3eaa0c31df81');\n",
              "          const dataTable =\n",
              "            await google.colab.kernel.invokeFunction('convertToInteractive',\n",
              "                                                     [key], {});\n",
              "          if (!dataTable) return;\n",
              "\n",
              "          const docLinkHtml = 'Like what you see? Visit the ' +\n",
              "            '<a target=\"_blank\" href=https://colab.research.google.com/notebooks/data_table.ipynb>data table notebook</a>'\n",
              "            + ' to learn more about interactive tables.';\n",
              "          element.innerHTML = '';\n",
              "          dataTable['output_type'] = 'display_data';\n",
              "          await google.colab.output.renderOutput(dataTable, element);\n",
              "          const docLink = document.createElement('div');\n",
              "          docLink.innerHTML = docLinkHtml;\n",
              "          element.appendChild(docLink);\n",
              "        }\n",
              "      </script>\n",
              "    </div>\n",
              "  </div>\n",
              "  "
            ]
          },
          "metadata": {},
          "execution_count": 7
        }
      ]
    },
    {
      "cell_type": "code",
      "source": [
        "#latitude dos trechos baianos\n",
        "longitude=base.groupby(['Longitude'])\n",
        "lon23BA=dadosBahia23\n",
        "lon23BA.Longitude.head(31)\n",
        "lon23BA.describe\n"
      ],
      "metadata": {
        "id": "hvph2hSAo1xZ",
        "colab": {
          "base_uri": "https://localhost:8080/"
        },
        "outputId": "5a42fc56-d6aa-4411-e4f7-65c0b67f3d34"
      },
      "execution_count": 8,
      "outputs": [
        {
          "output_type": "execute_result",
          "data": {
            "text/plain": [
              "<bound method NDFrame.describe of       UF Rodovia km inicial km final Extensão (km)        Data     Latitude  \\\n",
              "1383  BA  BR-135    205,800  206,000         0,200  24/01/2023  -12,3564116   \n",
              "1384  BA  BR-135    206,000  207,000         1,000  24/01/2023  -12,3693466   \n",
              "1385  BA  BR-135    207,000  208,000         1,000  24/01/2023  -12,3693466   \n",
              "1386  BA  BR-135    208,000  209,000         1,000  24/01/2023  -12,3693466   \n",
              "1387  BA  BR-135    209,000  210,000         1,000  24/01/2023  -12,3693466   \n",
              "1388  BA  BR-135    210,000  211,000         1,000  24/01/2023  -12,3693466   \n",
              "1389  BA  BR-135    211,000  212,000         1,000  24/01/2023  -12,3693466   \n",
              "1390  BA  BR-135    212,000  213,000         1,000  24/01/2023  -12,3693466   \n",
              "1391  BA  BR-135    213,000  214,000         1,000  24/01/2023  -12,3693466   \n",
              "1392  BA  BR-135    214,000  215,000         1,000  24/01/2023  -12,3693466   \n",
              "1393  BA  BR-135    215,000  216,000         1,000  24/01/2023  -12,3693466   \n",
              "1394  BA  BR-135    216,000  217,000         1,000  24/01/2023  -12,3693466   \n",
              "1395  BA  BR-135    217,000  218,000         1,000  24/01/2023  -12,3693466   \n",
              "1396  BA  BR-135    218,000  219,000         1,000  24/01/2023  -12,3693466   \n",
              "1397  BA  BR-135    219,000  220,000         1,000  24/01/2023  -12,3693466   \n",
              "1398  BA  BR-135    220,000  221,000         1,000  24/01/2023  -12,3693466   \n",
              "1399  BA  BR-135    221,000  222,000         1,000  24/01/2023  -12,3693466   \n",
              "1400  BA  BR-135    222,000  223,000         1,000  24/01/2023  -12,3693466   \n",
              "1401  BA  BR-135    223,000  224,000         1,000  24/01/2023  -12,3693466   \n",
              "1402  BA  BR-135    224,000  225,000         1,000  24/01/2023  -12,3693466   \n",
              "1403  BA  BR-135    225,000  226,000         1,000  24/01/2023  -12,3693466   \n",
              "1404  BA  BR-135    226,000  227,000         1,000  24/01/2023  -12,3693466   \n",
              "1405  BA  BR-135    227,000  228,000         1,000  24/01/2023  -12,3693466   \n",
              "1406  BA  BR-135    306,500  307,000         0,500  24/01/2023  -13,0440416   \n",
              "1407  BA  BR-135    307,000  307,100         0,100  24/01/2023  -13,0459504   \n",
              "1408  BA  BR-135    319,800  320,000         0,200  24/01/2023  -13,1542816   \n",
              "1409  BA  BR-135    320,000  321,000         1,000  24/01/2023  -13,1573666   \n",
              "1410  BA  BR-135    321,000  321,200         0,200  24/01/2023  -13,1573666   \n",
              "1411  BA  BR-135    323,400  324,000         0,600  24/01/2023   -13,165705   \n",
              "1412  BA  BR-135    324,000  325,000         1,000  24/01/2023  -13,1830766   \n",
              "1413  BA  BR-135    325,000  325,300         0,300  24/01/2023  -13,1830766   \n",
              "\n",
              "        Longitude Observação   ICMNP  \n",
              "1383  -44,9800283        NaN  30,000  \n",
              "1384    -44,97331        NaN  35,000  \n",
              "1385    -44,97331        NaN  53,750  \n",
              "1386    -44,97331        NaN  47,500  \n",
              "1387    -44,97331        NaN  50,000  \n",
              "1388    -44,97331        NaN  53,750  \n",
              "1389    -44,97331        NaN  65,000  \n",
              "1390    -44,97331        NaN  76,250  \n",
              "1391    -44,97331        NaN  61,250  \n",
              "1392    -44,97331        NaN  76,250  \n",
              "1393    -44,97331        NaN  68,750  \n",
              "1394    -44,97331        NaN  71,250  \n",
              "1395    -44,97331        NaN  76,250  \n",
              "1396    -44,97331        NaN  68,750  \n",
              "1397    -44,97331        NaN  83,750  \n",
              "1398    -44,97331        NaN  72,500  \n",
              "1399    -44,97331        NaN  76,250  \n",
              "1400    -44,97331        NaN  73,750  \n",
              "1401    -44,97331        NaN  83,750  \n",
              "1402    -44,97331        NaN  72,500  \n",
              "1403    -44,97331        NaN  76,250  \n",
              "1404    -44,97331        NaN  66,250  \n",
              "1405    -44,97331        NaN  76,250  \n",
              "1406   -44,621948        NaN   0,000  \n",
              "1407  -44,6228495        NaN   0,000  \n",
              "1408  -44,6166333        NaN   3,750  \n",
              "1409  -44,6161683        NaN   3,750  \n",
              "1410  -44,6161683        NaN   3,750  \n",
              "1411  -44,6122983        NaN  52,500  \n",
              "1412   -44,617495        NaN  20,000  \n",
              "1413   -44,617495        NaN  17,500  >"
            ]
          },
          "metadata": {},
          "execution_count": 8
        }
      ]
    },
    {
      "cell_type": "code",
      "source": [
        "\n",
        "icmnp=base.groupby(['ICMNP'])\n",
        "i23BA=dadosBahia23\n",
        "#lat23BA.Latitude.head(31)\n",
        "i23BA.describe"
      ],
      "metadata": {
        "id": "CVnaEUYrk08L",
        "colab": {
          "base_uri": "https://localhost:8080/"
        },
        "outputId": "e8eede6c-1ab8-4663-bbd2-27ed4754f68f"
      },
      "execution_count": 9,
      "outputs": [
        {
          "output_type": "execute_result",
          "data": {
            "text/plain": [
              "<bound method NDFrame.describe of       UF Rodovia km inicial km final Extensão (km)        Data     Latitude  \\\n",
              "1383  BA  BR-135    205,800  206,000         0,200  24/01/2023  -12,3564116   \n",
              "1384  BA  BR-135    206,000  207,000         1,000  24/01/2023  -12,3693466   \n",
              "1385  BA  BR-135    207,000  208,000         1,000  24/01/2023  -12,3693466   \n",
              "1386  BA  BR-135    208,000  209,000         1,000  24/01/2023  -12,3693466   \n",
              "1387  BA  BR-135    209,000  210,000         1,000  24/01/2023  -12,3693466   \n",
              "1388  BA  BR-135    210,000  211,000         1,000  24/01/2023  -12,3693466   \n",
              "1389  BA  BR-135    211,000  212,000         1,000  24/01/2023  -12,3693466   \n",
              "1390  BA  BR-135    212,000  213,000         1,000  24/01/2023  -12,3693466   \n",
              "1391  BA  BR-135    213,000  214,000         1,000  24/01/2023  -12,3693466   \n",
              "1392  BA  BR-135    214,000  215,000         1,000  24/01/2023  -12,3693466   \n",
              "1393  BA  BR-135    215,000  216,000         1,000  24/01/2023  -12,3693466   \n",
              "1394  BA  BR-135    216,000  217,000         1,000  24/01/2023  -12,3693466   \n",
              "1395  BA  BR-135    217,000  218,000         1,000  24/01/2023  -12,3693466   \n",
              "1396  BA  BR-135    218,000  219,000         1,000  24/01/2023  -12,3693466   \n",
              "1397  BA  BR-135    219,000  220,000         1,000  24/01/2023  -12,3693466   \n",
              "1398  BA  BR-135    220,000  221,000         1,000  24/01/2023  -12,3693466   \n",
              "1399  BA  BR-135    221,000  222,000         1,000  24/01/2023  -12,3693466   \n",
              "1400  BA  BR-135    222,000  223,000         1,000  24/01/2023  -12,3693466   \n",
              "1401  BA  BR-135    223,000  224,000         1,000  24/01/2023  -12,3693466   \n",
              "1402  BA  BR-135    224,000  225,000         1,000  24/01/2023  -12,3693466   \n",
              "1403  BA  BR-135    225,000  226,000         1,000  24/01/2023  -12,3693466   \n",
              "1404  BA  BR-135    226,000  227,000         1,000  24/01/2023  -12,3693466   \n",
              "1405  BA  BR-135    227,000  228,000         1,000  24/01/2023  -12,3693466   \n",
              "1406  BA  BR-135    306,500  307,000         0,500  24/01/2023  -13,0440416   \n",
              "1407  BA  BR-135    307,000  307,100         0,100  24/01/2023  -13,0459504   \n",
              "1408  BA  BR-135    319,800  320,000         0,200  24/01/2023  -13,1542816   \n",
              "1409  BA  BR-135    320,000  321,000         1,000  24/01/2023  -13,1573666   \n",
              "1410  BA  BR-135    321,000  321,200         0,200  24/01/2023  -13,1573666   \n",
              "1411  BA  BR-135    323,400  324,000         0,600  24/01/2023   -13,165705   \n",
              "1412  BA  BR-135    324,000  325,000         1,000  24/01/2023  -13,1830766   \n",
              "1413  BA  BR-135    325,000  325,300         0,300  24/01/2023  -13,1830766   \n",
              "\n",
              "        Longitude Observação   ICMNP  \n",
              "1383  -44,9800283        NaN  30,000  \n",
              "1384    -44,97331        NaN  35,000  \n",
              "1385    -44,97331        NaN  53,750  \n",
              "1386    -44,97331        NaN  47,500  \n",
              "1387    -44,97331        NaN  50,000  \n",
              "1388    -44,97331        NaN  53,750  \n",
              "1389    -44,97331        NaN  65,000  \n",
              "1390    -44,97331        NaN  76,250  \n",
              "1391    -44,97331        NaN  61,250  \n",
              "1392    -44,97331        NaN  76,250  \n",
              "1393    -44,97331        NaN  68,750  \n",
              "1394    -44,97331        NaN  71,250  \n",
              "1395    -44,97331        NaN  76,250  \n",
              "1396    -44,97331        NaN  68,750  \n",
              "1397    -44,97331        NaN  83,750  \n",
              "1398    -44,97331        NaN  72,500  \n",
              "1399    -44,97331        NaN  76,250  \n",
              "1400    -44,97331        NaN  73,750  \n",
              "1401    -44,97331        NaN  83,750  \n",
              "1402    -44,97331        NaN  72,500  \n",
              "1403    -44,97331        NaN  76,250  \n",
              "1404    -44,97331        NaN  66,250  \n",
              "1405    -44,97331        NaN  76,250  \n",
              "1406   -44,621948        NaN   0,000  \n",
              "1407  -44,6228495        NaN   0,000  \n",
              "1408  -44,6166333        NaN   3,750  \n",
              "1409  -44,6161683        NaN   3,750  \n",
              "1410  -44,6161683        NaN   3,750  \n",
              "1411  -44,6122983        NaN  52,500  \n",
              "1412   -44,617495        NaN  20,000  \n",
              "1413   -44,617495        NaN  17,500  >"
            ]
          },
          "metadata": {},
          "execution_count": 9
        }
      ]
    },
    {
      "cell_type": "code",
      "source": [
        "dadosBahia22=base2.groupby(['UF'])\n",
        "dadosBahia22=lat22BA\n",
        "dadosBahia22.describe()"
      ],
      "metadata": {
        "id": "P5ZJV7t6h3dn",
        "colab": {
          "base_uri": "https://localhost:8080/",
          "height": 174
        },
        "outputId": "46ee8de8-b42b-40f2-91f9-c30cd9917bcb"
      },
      "execution_count": 10,
      "outputs": [
        {
          "output_type": "execute_result",
          "data": {
            "text/plain": [
              "         UF Rodovia km inicial km final Extensão (km)        Data Latitude  \\\n",
              "count   714     714        714      714           714         714      714   \n",
              "unique   24      24        404      392            17          16      238   \n",
              "top      MS  BR-101      2,000    1,000         1,000  06/12/2022        0   \n",
              "freq     31      93         11       11           679         124       75   \n",
              "\n",
              "       Longitude     ICC    ICP    ICM  \n",
              "count        714     714    714    714  \n",
              "unique       236      20     32    117  \n",
              "top            0  25,000  0,000  7,500  \n",
              "freq          75     229    201     62  "
            ],
            "text/html": [
              "\n",
              "  <div id=\"df-b358b0d1-0825-4e1c-8d84-ea96e48b2a22\">\n",
              "    <div class=\"colab-df-container\">\n",
              "      <div>\n",
              "<style scoped>\n",
              "    .dataframe tbody tr th:only-of-type {\n",
              "        vertical-align: middle;\n",
              "    }\n",
              "\n",
              "    .dataframe tbody tr th {\n",
              "        vertical-align: top;\n",
              "    }\n",
              "\n",
              "    .dataframe thead th {\n",
              "        text-align: right;\n",
              "    }\n",
              "</style>\n",
              "<table border=\"1\" class=\"dataframe\">\n",
              "  <thead>\n",
              "    <tr style=\"text-align: right;\">\n",
              "      <th></th>\n",
              "      <th>UF</th>\n",
              "      <th>Rodovia</th>\n",
              "      <th>km inicial</th>\n",
              "      <th>km final</th>\n",
              "      <th>Extensão (km)</th>\n",
              "      <th>Data</th>\n",
              "      <th>Latitude</th>\n",
              "      <th>Longitude</th>\n",
              "      <th>ICC</th>\n",
              "      <th>ICP</th>\n",
              "      <th>ICM</th>\n",
              "    </tr>\n",
              "  </thead>\n",
              "  <tbody>\n",
              "    <tr>\n",
              "      <th>count</th>\n",
              "      <td>714</td>\n",
              "      <td>714</td>\n",
              "      <td>714</td>\n",
              "      <td>714</td>\n",
              "      <td>714</td>\n",
              "      <td>714</td>\n",
              "      <td>714</td>\n",
              "      <td>714</td>\n",
              "      <td>714</td>\n",
              "      <td>714</td>\n",
              "      <td>714</td>\n",
              "    </tr>\n",
              "    <tr>\n",
              "      <th>unique</th>\n",
              "      <td>24</td>\n",
              "      <td>24</td>\n",
              "      <td>404</td>\n",
              "      <td>392</td>\n",
              "      <td>17</td>\n",
              "      <td>16</td>\n",
              "      <td>238</td>\n",
              "      <td>236</td>\n",
              "      <td>20</td>\n",
              "      <td>32</td>\n",
              "      <td>117</td>\n",
              "    </tr>\n",
              "    <tr>\n",
              "      <th>top</th>\n",
              "      <td>MS</td>\n",
              "      <td>BR-101</td>\n",
              "      <td>2,000</td>\n",
              "      <td>1,000</td>\n",
              "      <td>1,000</td>\n",
              "      <td>06/12/2022</td>\n",
              "      <td>0</td>\n",
              "      <td>0</td>\n",
              "      <td>25,000</td>\n",
              "      <td>0,000</td>\n",
              "      <td>7,500</td>\n",
              "    </tr>\n",
              "    <tr>\n",
              "      <th>freq</th>\n",
              "      <td>31</td>\n",
              "      <td>93</td>\n",
              "      <td>11</td>\n",
              "      <td>11</td>\n",
              "      <td>679</td>\n",
              "      <td>124</td>\n",
              "      <td>75</td>\n",
              "      <td>75</td>\n",
              "      <td>229</td>\n",
              "      <td>201</td>\n",
              "      <td>62</td>\n",
              "    </tr>\n",
              "  </tbody>\n",
              "</table>\n",
              "</div>\n",
              "      <button class=\"colab-df-convert\" onclick=\"convertToInteractive('df-b358b0d1-0825-4e1c-8d84-ea96e48b2a22')\"\n",
              "              title=\"Convert this dataframe to an interactive table.\"\n",
              "              style=\"display:none;\">\n",
              "        \n",
              "  <svg xmlns=\"http://www.w3.org/2000/svg\" height=\"24px\"viewBox=\"0 0 24 24\"\n",
              "       width=\"24px\">\n",
              "    <path d=\"M0 0h24v24H0V0z\" fill=\"none\"/>\n",
              "    <path d=\"M18.56 5.44l.94 2.06.94-2.06 2.06-.94-2.06-.94-.94-2.06-.94 2.06-2.06.94zm-11 1L8.5 8.5l.94-2.06 2.06-.94-2.06-.94L8.5 2.5l-.94 2.06-2.06.94zm10 10l.94 2.06.94-2.06 2.06-.94-2.06-.94-.94-2.06-.94 2.06-2.06.94z\"/><path d=\"M17.41 7.96l-1.37-1.37c-.4-.4-.92-.59-1.43-.59-.52 0-1.04.2-1.43.59L10.3 9.45l-7.72 7.72c-.78.78-.78 2.05 0 2.83L4 21.41c.39.39.9.59 1.41.59.51 0 1.02-.2 1.41-.59l7.78-7.78 2.81-2.81c.8-.78.8-2.07 0-2.86zM5.41 20L4 18.59l7.72-7.72 1.47 1.35L5.41 20z\"/>\n",
              "  </svg>\n",
              "      </button>\n",
              "      \n",
              "  <style>\n",
              "    .colab-df-container {\n",
              "      display:flex;\n",
              "      flex-wrap:wrap;\n",
              "      gap: 12px;\n",
              "    }\n",
              "\n",
              "    .colab-df-convert {\n",
              "      background-color: #E8F0FE;\n",
              "      border: none;\n",
              "      border-radius: 50%;\n",
              "      cursor: pointer;\n",
              "      display: none;\n",
              "      fill: #1967D2;\n",
              "      height: 32px;\n",
              "      padding: 0 0 0 0;\n",
              "      width: 32px;\n",
              "    }\n",
              "\n",
              "    .colab-df-convert:hover {\n",
              "      background-color: #E2EBFA;\n",
              "      box-shadow: 0px 1px 2px rgba(60, 64, 67, 0.3), 0px 1px 3px 1px rgba(60, 64, 67, 0.15);\n",
              "      fill: #174EA6;\n",
              "    }\n",
              "\n",
              "    [theme=dark] .colab-df-convert {\n",
              "      background-color: #3B4455;\n",
              "      fill: #D2E3FC;\n",
              "    }\n",
              "\n",
              "    [theme=dark] .colab-df-convert:hover {\n",
              "      background-color: #434B5C;\n",
              "      box-shadow: 0px 1px 3px 1px rgba(0, 0, 0, 0.15);\n",
              "      filter: drop-shadow(0px 1px 2px rgba(0, 0, 0, 0.3));\n",
              "      fill: #FFFFFF;\n",
              "    }\n",
              "  </style>\n",
              "\n",
              "      <script>\n",
              "        const buttonEl =\n",
              "          document.querySelector('#df-b358b0d1-0825-4e1c-8d84-ea96e48b2a22 button.colab-df-convert');\n",
              "        buttonEl.style.display =\n",
              "          google.colab.kernel.accessAllowed ? 'block' : 'none';\n",
              "\n",
              "        async function convertToInteractive(key) {\n",
              "          const element = document.querySelector('#df-b358b0d1-0825-4e1c-8d84-ea96e48b2a22');\n",
              "          const dataTable =\n",
              "            await google.colab.kernel.invokeFunction('convertToInteractive',\n",
              "                                                     [key], {});\n",
              "          if (!dataTable) return;\n",
              "\n",
              "          const docLinkHtml = 'Like what you see? Visit the ' +\n",
              "            '<a target=\"_blank\" href=https://colab.research.google.com/notebooks/data_table.ipynb>data table notebook</a>'\n",
              "            + ' to learn more about interactive tables.';\n",
              "          element.innerHTML = '';\n",
              "          dataTable['output_type'] = 'display_data';\n",
              "          await google.colab.output.renderOutput(dataTable, element);\n",
              "          const docLink = document.createElement('div');\n",
              "          docLink.innerHTML = docLinkHtml;\n",
              "          element.appendChild(docLink);\n",
              "        }\n",
              "      </script>\n",
              "    </div>\n",
              "  </div>\n",
              "  "
            ]
          },
          "metadata": {},
          "execution_count": 10
        }
      ]
    },
    {
      "cell_type": "code",
      "source": [
        "icm=base2.groupby(['ICM'])\n",
        "icm22BA=dadosBahia22.describe()\n",
        "#icm22BA.ICM.head(31)"
      ],
      "metadata": {
        "id": "PR83YS9AhqOw"
      },
      "execution_count": 11,
      "outputs": []
    },
    {
      "cell_type": "code",
      "source": [
        "base2['ICM'].isnull().sum()\n"
      ],
      "metadata": {
        "colab": {
          "base_uri": "https://localhost:8080/"
        },
        "id": "QzWs1mHrvahP",
        "outputId": "d92d91ee-edbc-4847-a22f-d2593033a8b6"
      },
      "execution_count": 39,
      "outputs": [
        {
          "output_type": "execute_result",
          "data": {
            "text/plain": [
              "5"
            ]
          },
          "metadata": {},
          "execution_count": 39
        }
      ]
    },
    {
      "cell_type": "code",
      "source": [
        "base2['ICM'].fillna(0,inplace=True)\n",
        "base2['ICM'].isnull().sum()"
      ],
      "metadata": {
        "colab": {
          "base_uri": "https://localhost:8080/"
        },
        "id": "OddhgK-28bJV",
        "outputId": "c46065c2-2fa4-4eeb-c9a9-a6db889ecd3d"
      },
      "execution_count": 45,
      "outputs": [
        {
          "output_type": "execute_result",
          "data": {
            "text/plain": [
              "0"
            ]
          },
          "metadata": {},
          "execution_count": 45
        }
      ]
    },
    {
      "cell_type": "code",
      "source": [
        "#\n",
        "a=\"12,5\"\n",
        "b=a.replace(\",\",\".\")\n",
        "b1=float(b)\n",
        "b1\n"
      ],
      "metadata": {
        "id": "Kl6fbg-HqjFK"
      },
      "execution_count": null,
      "outputs": []
    },
    {
      "cell_type": "code",
      "source": [
        "\n",
        "base2['ICM']=base2['ICM'].apply(lambda x: str(x).replace(\",\",\".\") )\n",
        "#base2['ICM'].astype('Float64')\n",
        "base2['ICM']\n",
        "base2['ICM'].astype('float64')"
      ],
      "metadata": {
        "colab": {
          "base_uri": "https://localhost:8080/"
        },
        "id": "LS_f-dqL9uyK",
        "outputId": "00519c7f-cf59-424c-af97-e5a56db7c060"
      },
      "execution_count": 52,
      "outputs": [
        {
          "output_type": "execute_result",
          "data": {
            "text/plain": [
              "0             0\n",
              "1             0\n",
              "2             0\n",
              "3           ICM\n",
              "4             0\n",
              "          ...  \n",
              "39840    82.000\n",
              "39841    75.000\n",
              "39842    50.500\n",
              "39843    85.500\n",
              "39844    85.500\n",
              "Name: ICM, Length: 39845, dtype: object"
            ]
          },
          "metadata": {},
          "execution_count": 52
        }
      ]
    },
    {
      "cell_type": "code",
      "source": [
        "base2['ICM'].astype('float64')"
      ],
      "metadata": {
        "colab": {
          "base_uri": "https://localhost:8080/",
          "height": 310
        },
        "id": "MR_xqwPQB7-H",
        "outputId": "a97d444c-d291-404c-f957-8e8cbc119db7"
      },
      "execution_count": 53,
      "outputs": [
        {
          "output_type": "error",
          "ename": "ValueError",
          "evalue": "ignored",
          "traceback": [
            "\u001b[0;31m---------------------------------------------------------------------------\u001b[0m",
            "\u001b[0;31mValueError\u001b[0m                                Traceback (most recent call last)",
            "\u001b[0;32m<ipython-input-53-ad04907b36d4>\u001b[0m in \u001b[0;36m<cell line: 1>\u001b[0;34m()\u001b[0m\n\u001b[0;32m----> 1\u001b[0;31m \u001b[0mbase2\u001b[0m\u001b[0;34m[\u001b[0m\u001b[0;34m'ICM'\u001b[0m\u001b[0;34m]\u001b[0m\u001b[0;34m.\u001b[0m\u001b[0mastype\u001b[0m\u001b[0;34m(\u001b[0m\u001b[0;34m'float64'\u001b[0m\u001b[0;34m)\u001b[0m\u001b[0;34m\u001b[0m\u001b[0;34m\u001b[0m\u001b[0m\n\u001b[0m",
            "\u001b[0;32m/usr/local/lib/python3.9/dist-packages/pandas/core/generic.py\u001b[0m in \u001b[0;36mastype\u001b[0;34m(self, dtype, copy, errors)\u001b[0m\n\u001b[1;32m   6238\u001b[0m         \u001b[0;32melse\u001b[0m\u001b[0;34m:\u001b[0m\u001b[0;34m\u001b[0m\u001b[0;34m\u001b[0m\u001b[0m\n\u001b[1;32m   6239\u001b[0m             \u001b[0;31m# else, only a single dtype is given\u001b[0m\u001b[0;34m\u001b[0m\u001b[0;34m\u001b[0m\u001b[0m\n\u001b[0;32m-> 6240\u001b[0;31m             \u001b[0mnew_data\u001b[0m \u001b[0;34m=\u001b[0m \u001b[0mself\u001b[0m\u001b[0;34m.\u001b[0m\u001b[0m_mgr\u001b[0m\u001b[0;34m.\u001b[0m\u001b[0mastype\u001b[0m\u001b[0;34m(\u001b[0m\u001b[0mdtype\u001b[0m\u001b[0;34m=\u001b[0m\u001b[0mdtype\u001b[0m\u001b[0;34m,\u001b[0m \u001b[0mcopy\u001b[0m\u001b[0;34m=\u001b[0m\u001b[0mcopy\u001b[0m\u001b[0;34m,\u001b[0m \u001b[0merrors\u001b[0m\u001b[0;34m=\u001b[0m\u001b[0merrors\u001b[0m\u001b[0;34m)\u001b[0m\u001b[0;34m\u001b[0m\u001b[0;34m\u001b[0m\u001b[0m\n\u001b[0m\u001b[1;32m   6241\u001b[0m             \u001b[0;32mreturn\u001b[0m \u001b[0mself\u001b[0m\u001b[0;34m.\u001b[0m\u001b[0m_constructor\u001b[0m\u001b[0;34m(\u001b[0m\u001b[0mnew_data\u001b[0m\u001b[0;34m)\u001b[0m\u001b[0;34m.\u001b[0m\u001b[0m__finalize__\u001b[0m\u001b[0;34m(\u001b[0m\u001b[0mself\u001b[0m\u001b[0;34m,\u001b[0m \u001b[0mmethod\u001b[0m\u001b[0;34m=\u001b[0m\u001b[0;34m\"astype\"\u001b[0m\u001b[0;34m)\u001b[0m\u001b[0;34m\u001b[0m\u001b[0;34m\u001b[0m\u001b[0m\n\u001b[1;32m   6242\u001b[0m \u001b[0;34m\u001b[0m\u001b[0m\n",
            "\u001b[0;32m/usr/local/lib/python3.9/dist-packages/pandas/core/internals/managers.py\u001b[0m in \u001b[0;36mastype\u001b[0;34m(self, dtype, copy, errors)\u001b[0m\n\u001b[1;32m    446\u001b[0m \u001b[0;34m\u001b[0m\u001b[0m\n\u001b[1;32m    447\u001b[0m     \u001b[0;32mdef\u001b[0m \u001b[0mastype\u001b[0m\u001b[0;34m(\u001b[0m\u001b[0mself\u001b[0m\u001b[0;34m:\u001b[0m \u001b[0mT\u001b[0m\u001b[0;34m,\u001b[0m \u001b[0mdtype\u001b[0m\u001b[0;34m,\u001b[0m \u001b[0mcopy\u001b[0m\u001b[0;34m:\u001b[0m \u001b[0mbool\u001b[0m \u001b[0;34m=\u001b[0m \u001b[0;32mFalse\u001b[0m\u001b[0;34m,\u001b[0m \u001b[0merrors\u001b[0m\u001b[0;34m:\u001b[0m \u001b[0mstr\u001b[0m \u001b[0;34m=\u001b[0m \u001b[0;34m\"raise\"\u001b[0m\u001b[0;34m)\u001b[0m \u001b[0;34m->\u001b[0m \u001b[0mT\u001b[0m\u001b[0;34m:\u001b[0m\u001b[0;34m\u001b[0m\u001b[0;34m\u001b[0m\u001b[0m\n\u001b[0;32m--> 448\u001b[0;31m         \u001b[0;32mreturn\u001b[0m \u001b[0mself\u001b[0m\u001b[0;34m.\u001b[0m\u001b[0mapply\u001b[0m\u001b[0;34m(\u001b[0m\u001b[0;34m\"astype\"\u001b[0m\u001b[0;34m,\u001b[0m \u001b[0mdtype\u001b[0m\u001b[0;34m=\u001b[0m\u001b[0mdtype\u001b[0m\u001b[0;34m,\u001b[0m \u001b[0mcopy\u001b[0m\u001b[0;34m=\u001b[0m\u001b[0mcopy\u001b[0m\u001b[0;34m,\u001b[0m \u001b[0merrors\u001b[0m\u001b[0;34m=\u001b[0m\u001b[0merrors\u001b[0m\u001b[0;34m)\u001b[0m\u001b[0;34m\u001b[0m\u001b[0;34m\u001b[0m\u001b[0m\n\u001b[0m\u001b[1;32m    449\u001b[0m \u001b[0;34m\u001b[0m\u001b[0m\n\u001b[1;32m    450\u001b[0m     def convert(\n",
            "\u001b[0;32m/usr/local/lib/python3.9/dist-packages/pandas/core/internals/managers.py\u001b[0m in \u001b[0;36mapply\u001b[0;34m(self, f, align_keys, ignore_failures, **kwargs)\u001b[0m\n\u001b[1;32m    350\u001b[0m                     \u001b[0mapplied\u001b[0m \u001b[0;34m=\u001b[0m \u001b[0mb\u001b[0m\u001b[0;34m.\u001b[0m\u001b[0mapply\u001b[0m\u001b[0;34m(\u001b[0m\u001b[0mf\u001b[0m\u001b[0;34m,\u001b[0m \u001b[0;34m**\u001b[0m\u001b[0mkwargs\u001b[0m\u001b[0;34m)\u001b[0m\u001b[0;34m\u001b[0m\u001b[0;34m\u001b[0m\u001b[0m\n\u001b[1;32m    351\u001b[0m                 \u001b[0;32melse\u001b[0m\u001b[0;34m:\u001b[0m\u001b[0;34m\u001b[0m\u001b[0;34m\u001b[0m\u001b[0m\n\u001b[0;32m--> 352\u001b[0;31m                     \u001b[0mapplied\u001b[0m \u001b[0;34m=\u001b[0m \u001b[0mgetattr\u001b[0m\u001b[0;34m(\u001b[0m\u001b[0mb\u001b[0m\u001b[0;34m,\u001b[0m \u001b[0mf\u001b[0m\u001b[0;34m)\u001b[0m\u001b[0;34m(\u001b[0m\u001b[0;34m**\u001b[0m\u001b[0mkwargs\u001b[0m\u001b[0;34m)\u001b[0m\u001b[0;34m\u001b[0m\u001b[0;34m\u001b[0m\u001b[0m\n\u001b[0m\u001b[1;32m    353\u001b[0m             \u001b[0;32mexcept\u001b[0m \u001b[0;34m(\u001b[0m\u001b[0mTypeError\u001b[0m\u001b[0;34m,\u001b[0m \u001b[0mNotImplementedError\u001b[0m\u001b[0;34m)\u001b[0m\u001b[0;34m:\u001b[0m\u001b[0;34m\u001b[0m\u001b[0;34m\u001b[0m\u001b[0m\n\u001b[1;32m    354\u001b[0m                 \u001b[0;32mif\u001b[0m \u001b[0;32mnot\u001b[0m \u001b[0mignore_failures\u001b[0m\u001b[0;34m:\u001b[0m\u001b[0;34m\u001b[0m\u001b[0;34m\u001b[0m\u001b[0m\n",
            "\u001b[0;32m/usr/local/lib/python3.9/dist-packages/pandas/core/internals/blocks.py\u001b[0m in \u001b[0;36mastype\u001b[0;34m(self, dtype, copy, errors)\u001b[0m\n\u001b[1;32m    524\u001b[0m         \u001b[0mvalues\u001b[0m \u001b[0;34m=\u001b[0m \u001b[0mself\u001b[0m\u001b[0;34m.\u001b[0m\u001b[0mvalues\u001b[0m\u001b[0;34m\u001b[0m\u001b[0;34m\u001b[0m\u001b[0m\n\u001b[1;32m    525\u001b[0m \u001b[0;34m\u001b[0m\u001b[0m\n\u001b[0;32m--> 526\u001b[0;31m         \u001b[0mnew_values\u001b[0m \u001b[0;34m=\u001b[0m \u001b[0mastype_array_safe\u001b[0m\u001b[0;34m(\u001b[0m\u001b[0mvalues\u001b[0m\u001b[0;34m,\u001b[0m \u001b[0mdtype\u001b[0m\u001b[0;34m,\u001b[0m \u001b[0mcopy\u001b[0m\u001b[0;34m=\u001b[0m\u001b[0mcopy\u001b[0m\u001b[0;34m,\u001b[0m \u001b[0merrors\u001b[0m\u001b[0;34m=\u001b[0m\u001b[0merrors\u001b[0m\u001b[0;34m)\u001b[0m\u001b[0;34m\u001b[0m\u001b[0;34m\u001b[0m\u001b[0m\n\u001b[0m\u001b[1;32m    527\u001b[0m \u001b[0;34m\u001b[0m\u001b[0m\n\u001b[1;32m    528\u001b[0m         \u001b[0mnew_values\u001b[0m \u001b[0;34m=\u001b[0m \u001b[0mmaybe_coerce_values\u001b[0m\u001b[0;34m(\u001b[0m\u001b[0mnew_values\u001b[0m\u001b[0;34m)\u001b[0m\u001b[0;34m\u001b[0m\u001b[0;34m\u001b[0m\u001b[0m\n",
            "\u001b[0;32m/usr/local/lib/python3.9/dist-packages/pandas/core/dtypes/astype.py\u001b[0m in \u001b[0;36mastype_array_safe\u001b[0;34m(values, dtype, copy, errors)\u001b[0m\n\u001b[1;32m    297\u001b[0m \u001b[0;34m\u001b[0m\u001b[0m\n\u001b[1;32m    298\u001b[0m     \u001b[0;32mtry\u001b[0m\u001b[0;34m:\u001b[0m\u001b[0;34m\u001b[0m\u001b[0;34m\u001b[0m\u001b[0m\n\u001b[0;32m--> 299\u001b[0;31m         \u001b[0mnew_values\u001b[0m \u001b[0;34m=\u001b[0m \u001b[0mastype_array\u001b[0m\u001b[0;34m(\u001b[0m\u001b[0mvalues\u001b[0m\u001b[0;34m,\u001b[0m \u001b[0mdtype\u001b[0m\u001b[0;34m,\u001b[0m \u001b[0mcopy\u001b[0m\u001b[0;34m=\u001b[0m\u001b[0mcopy\u001b[0m\u001b[0;34m)\u001b[0m\u001b[0;34m\u001b[0m\u001b[0;34m\u001b[0m\u001b[0m\n\u001b[0m\u001b[1;32m    300\u001b[0m     \u001b[0;32mexcept\u001b[0m \u001b[0;34m(\u001b[0m\u001b[0mValueError\u001b[0m\u001b[0;34m,\u001b[0m \u001b[0mTypeError\u001b[0m\u001b[0;34m)\u001b[0m\u001b[0;34m:\u001b[0m\u001b[0;34m\u001b[0m\u001b[0;34m\u001b[0m\u001b[0m\n\u001b[1;32m    301\u001b[0m         \u001b[0;31m# e.g. astype_nansafe can fail on object-dtype of strings\u001b[0m\u001b[0;34m\u001b[0m\u001b[0;34m\u001b[0m\u001b[0m\n",
            "\u001b[0;32m/usr/local/lib/python3.9/dist-packages/pandas/core/dtypes/astype.py\u001b[0m in \u001b[0;36mastype_array\u001b[0;34m(values, dtype, copy)\u001b[0m\n\u001b[1;32m    228\u001b[0m \u001b[0;34m\u001b[0m\u001b[0m\n\u001b[1;32m    229\u001b[0m     \u001b[0;32melse\u001b[0m\u001b[0;34m:\u001b[0m\u001b[0;34m\u001b[0m\u001b[0;34m\u001b[0m\u001b[0m\n\u001b[0;32m--> 230\u001b[0;31m         \u001b[0mvalues\u001b[0m \u001b[0;34m=\u001b[0m \u001b[0mastype_nansafe\u001b[0m\u001b[0;34m(\u001b[0m\u001b[0mvalues\u001b[0m\u001b[0;34m,\u001b[0m \u001b[0mdtype\u001b[0m\u001b[0;34m,\u001b[0m \u001b[0mcopy\u001b[0m\u001b[0;34m=\u001b[0m\u001b[0mcopy\u001b[0m\u001b[0;34m)\u001b[0m\u001b[0;34m\u001b[0m\u001b[0;34m\u001b[0m\u001b[0m\n\u001b[0m\u001b[1;32m    231\u001b[0m \u001b[0;34m\u001b[0m\u001b[0m\n\u001b[1;32m    232\u001b[0m     \u001b[0;31m# in pandas we don't store numpy str dtypes, so convert to object\u001b[0m\u001b[0;34m\u001b[0m\u001b[0;34m\u001b[0m\u001b[0m\n",
            "\u001b[0;32m/usr/local/lib/python3.9/dist-packages/pandas/core/dtypes/astype.py\u001b[0m in \u001b[0;36mastype_nansafe\u001b[0;34m(arr, dtype, copy, skipna)\u001b[0m\n\u001b[1;32m    168\u001b[0m     \u001b[0;32mif\u001b[0m \u001b[0mcopy\u001b[0m \u001b[0;32mor\u001b[0m \u001b[0mis_object_dtype\u001b[0m\u001b[0;34m(\u001b[0m\u001b[0marr\u001b[0m\u001b[0;34m.\u001b[0m\u001b[0mdtype\u001b[0m\u001b[0;34m)\u001b[0m \u001b[0;32mor\u001b[0m \u001b[0mis_object_dtype\u001b[0m\u001b[0;34m(\u001b[0m\u001b[0mdtype\u001b[0m\u001b[0;34m)\u001b[0m\u001b[0;34m:\u001b[0m\u001b[0;34m\u001b[0m\u001b[0;34m\u001b[0m\u001b[0m\n\u001b[1;32m    169\u001b[0m         \u001b[0;31m# Explicit copy, or required since NumPy can't view from / to object.\u001b[0m\u001b[0;34m\u001b[0m\u001b[0;34m\u001b[0m\u001b[0m\n\u001b[0;32m--> 170\u001b[0;31m         \u001b[0;32mreturn\u001b[0m \u001b[0marr\u001b[0m\u001b[0;34m.\u001b[0m\u001b[0mastype\u001b[0m\u001b[0;34m(\u001b[0m\u001b[0mdtype\u001b[0m\u001b[0;34m,\u001b[0m \u001b[0mcopy\u001b[0m\u001b[0;34m=\u001b[0m\u001b[0;32mTrue\u001b[0m\u001b[0;34m)\u001b[0m\u001b[0;34m\u001b[0m\u001b[0;34m\u001b[0m\u001b[0m\n\u001b[0m\u001b[1;32m    171\u001b[0m \u001b[0;34m\u001b[0m\u001b[0m\n\u001b[1;32m    172\u001b[0m     \u001b[0;32mreturn\u001b[0m \u001b[0marr\u001b[0m\u001b[0;34m.\u001b[0m\u001b[0mastype\u001b[0m\u001b[0;34m(\u001b[0m\u001b[0mdtype\u001b[0m\u001b[0;34m,\u001b[0m \u001b[0mcopy\u001b[0m\u001b[0;34m=\u001b[0m\u001b[0mcopy\u001b[0m\u001b[0;34m)\u001b[0m\u001b[0;34m\u001b[0m\u001b[0;34m\u001b[0m\u001b[0m\n",
            "\u001b[0;31mValueError\u001b[0m: could not convert string to float: 'ICM'"
          ]
        }
      ]
    },
    {
      "cell_type": "code",
      "source": [
        "#TRANSFORMAÇÃO DOS DADOS DE STRING PRA FLOAT AGR PODE CORRELACIONAR\n",
        "#i23BA['ICMNP']=i23BA['ICMNP'].apply(lambda x: str(x).replace(\",\",\".\") )\n",
        "#i23BA=i23BA['ICMNP'].replace(\",\",\".\")\n",
        "i23BA.astype('Float64')"
      ],
      "metadata": {
        "id": "Goaxh8zs0LxF",
        "colab": {
          "base_uri": "https://localhost:8080/"
        },
        "outputId": "dfd7b78e-6a93-47b2-d165-506569d59912"
      },
      "execution_count": 20,
      "outputs": [
        {
          "output_type": "execute_result",
          "data": {
            "text/plain": [
              "1383     30.0\n",
              "1384     35.0\n",
              "1385    53.75\n",
              "1386     47.5\n",
              "1387     50.0\n",
              "1388    53.75\n",
              "1389     65.0\n",
              "1390    76.25\n",
              "1391    61.25\n",
              "1392    76.25\n",
              "1393    68.75\n",
              "1394    71.25\n",
              "1395    76.25\n",
              "1396    68.75\n",
              "1397    83.75\n",
              "1398     72.5\n",
              "1399    76.25\n",
              "1400    73.75\n",
              "1401    83.75\n",
              "1402     72.5\n",
              "1403    76.25\n",
              "1404    66.25\n",
              "1405    76.25\n",
              "1406      0.0\n",
              "1407      0.0\n",
              "1408     3.75\n",
              "1409     3.75\n",
              "1410     3.75\n",
              "1411     52.5\n",
              "1412     20.0\n",
              "1413     17.5\n",
              "Name: ICMNP, dtype: Float64"
            ]
          },
          "metadata": {},
          "execution_count": 20
        }
      ]
    },
    {
      "cell_type": "code",
      "source": [
        "#******************************************''DADOS DE 2022 ABAIXO''***********************************************************************\n",
        "#lon23BA['Longitude']=lon23BA['Longitude'].apply(lambda x: str(x).replace(\",\",\".\") )\n",
        "#lon23BA['Longitude']=lon23BA['Longitude'].astype('float64')"
      ],
      "metadata": {
        "id": "DOXUle6Lp5ar"
      },
      "execution_count": null,
      "outputs": []
    },
    {
      "cell_type": "code",
      "source": [
        "lon23BA['Longitude'].astype('float64')"
      ],
      "metadata": {
        "colab": {
          "base_uri": "https://localhost:8080/"
        },
        "id": "AIHt0zO0rIEF",
        "outputId": "e17f5e4f-0f53-417c-c24b-26725d6734a7"
      },
      "execution_count": null,
      "outputs": [
        {
          "output_type": "execute_result",
          "data": {
            "text/plain": [
              "1383   -44.980028\n",
              "1384   -44.973310\n",
              "1385   -44.973310\n",
              "1386   -44.973310\n",
              "1387   -44.973310\n",
              "1388   -44.973310\n",
              "1389   -44.973310\n",
              "1390   -44.973310\n",
              "1391   -44.973310\n",
              "1392   -44.973310\n",
              "1393   -44.973310\n",
              "1394   -44.973310\n",
              "1395   -44.973310\n",
              "1396   -44.973310\n",
              "1397   -44.973310\n",
              "1398   -44.973310\n",
              "1399   -44.973310\n",
              "1400   -44.973310\n",
              "1401   -44.973310\n",
              "1402   -44.973310\n",
              "1403   -44.973310\n",
              "1404   -44.973310\n",
              "1405   -44.973310\n",
              "1406   -44.621948\n",
              "1407   -44.622850\n",
              "1408   -44.616633\n",
              "1409   -44.616168\n",
              "1410   -44.616168\n",
              "1411   -44.612298\n",
              "1412   -44.617495\n",
              "1413   -44.617495\n",
              "Name: Longitude, dtype: float64"
            ]
          },
          "metadata": {},
          "execution_count": 20
        }
      ]
    },
    {
      "cell_type": "code",
      "source": [
        "pergunta=lon23BA.iloc[:,7].values\n",
        "resposta=indice23.iloc[:,9].values"
      ],
      "metadata": {
        "id": "pWVuQgk-skCK"
      },
      "execution_count": null,
      "outputs": []
    },
    {
      "cell_type": "code",
      "source": [
        "np.corrcoef(pergunta,resposta)"
      ],
      "metadata": {
        "id": "jigbOSR3HUAu"
      },
      "execution_count": null,
      "outputs": []
    }
  ]
}