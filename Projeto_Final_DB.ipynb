{
  "nbformat": 4,
  "nbformat_minor": 0,
  "metadata": {
    "colab": {
      "provenance": [],
      "authorship_tag": "ABX9TyM55dxZacdmlGMPd6yvkHuS",
      "include_colab_link": true
    },
    "kernelspec": {
      "name": "python3",
      "display_name": "Python 3"
    },
    "language_info": {
      "name": "python"
    }
  },
  "cells": [
    {
      "cell_type": "markdown",
      "metadata": {
        "id": "view-in-github",
        "colab_type": "text"
      },
      "source": [
        "<a href=\"https://colab.research.google.com/github/WandersonGustavo/Imersao_Alura/blob/main/Projeto_Final_DB.ipynb\" target=\"_parent\"><img src=\"https://colab.research.google.com/assets/colab-badge.svg\" alt=\"Open In Colab\"/></a>"
      ]
    },
    {
      "cell_type": "code",
      "execution_count": null,
      "metadata": {
        "id": "ca-ROs43KbdK"
      },
      "outputs": [],
      "source": [
        "#Projeto final :objetivo tratar e modelar  base de dados de um db postgres de uma empresa a fim de prever inadimplência dos clientes e reduzir de 35 para 20%"
      ]
    },
    {
      "cell_type": "code",
      "source": [
        "import pandas as pd \n",
        "import numpy as np\n",
        "import matplotlib.pyplot as plt\n",
        "from scipy import stats\n",
        "from sklearn.linear_model import LinearRegression\n",
        "from datetime import datetime\n",
        "#registro de converters para uso do matplotlib\n",
        "from pandas.plotting import register_matplotlib_converters\n",
        "register_matplotlib_converters()\n",
        "from sklearn.cluster import KMeans\n",
        "from sklearn.metrics import confusion_matrix"
      ],
      "metadata": {
        "id": "s0vorIQdLGWM"
      },
      "execution_count": null,
      "outputs": []
    },
    {
      "cell_type": "code",
      "source": [
        "#import psycopg2"
      ],
      "metadata": {
        "id": "CUSA9DffM2kO"
      },
      "execution_count": null,
      "outputs": []
    },
    {
      "cell_type": "code",
      "source": [
        "base=pd.read_csv('Credit.csv')\n",
        "base"
      ],
      "metadata": {
        "colab": {
          "base_uri": "https://localhost:8080/",
          "height": 609
        },
        "id": "wARTiEQiV0wM",
        "outputId": "651f56b6-b63c-443d-d2be-7bdaa062a7d5"
      },
      "execution_count": null,
      "outputs": [
        {
          "output_type": "execute_result",
          "data": {
            "text/plain": [
              "    checking_status  duration                    credit_history  \\\n",
              "0                <0         6  'critical/other existing credit'   \n",
              "1          0<=X<200        48                   'existing paid'   \n",
              "2     'no checking'        12  'critical/other existing credit'   \n",
              "3                <0        42                   'existing paid'   \n",
              "4                <0        24              'delayed previously'   \n",
              "..              ...       ...                               ...   \n",
              "995   'no checking'        12                   'existing paid'   \n",
              "996              <0        30                   'existing paid'   \n",
              "997   'no checking'        12                   'existing paid'   \n",
              "998              <0        45                   'existing paid'   \n",
              "999        0<=X<200        45  'critical/other existing credit'   \n",
              "\n",
              "                 purpose  credit_amount      savings_status  employment  \\\n",
              "0               radio/tv           1169  'no known savings'         >=7   \n",
              "1               radio/tv           5951                <100      1<=X<4   \n",
              "2              education           2096                <100      4<=X<7   \n",
              "3    furniture/equipment           7882                <100      4<=X<7   \n",
              "4              'new car'           4870                <100      1<=X<4   \n",
              "..                   ...            ...                 ...         ...   \n",
              "995  furniture/equipment           1736                <100      4<=X<7   \n",
              "996           'used car'           3857                <100      1<=X<4   \n",
              "997             radio/tv            804                <100         >=7   \n",
              "998             radio/tv           1845                <100      1<=X<4   \n",
              "999           'used car'           4576          100<=X<500  unemployed   \n",
              "\n",
              "     installment_commitment       personal_status other_parties  ...  \\\n",
              "0                         4         'male single'          none  ...   \n",
              "1                         2  'female div/dep/mar'          none  ...   \n",
              "2                         2         'male single'          none  ...   \n",
              "3                         2         'male single'     guarantor  ...   \n",
              "4                         3         'male single'          none  ...   \n",
              "..                      ...                   ...           ...  ...   \n",
              "995                       3  'female div/dep/mar'          none  ...   \n",
              "996                       4        'male div/sep'          none  ...   \n",
              "997                       4         'male single'          none  ...   \n",
              "998                       4         'male single'          none  ...   \n",
              "999                       3         'male single'          none  ...   \n",
              "\n",
              "      property_magnitude age  other_payment_plans     housing  \\\n",
              "0          'real estate'  67                 none         own   \n",
              "1          'real estate'  22                 none         own   \n",
              "2          'real estate'  49                 none         own   \n",
              "3       'life insurance'  45                 none  'for free'   \n",
              "4    'no known property'  53                 none  'for free'   \n",
              "..                   ...  ..                  ...         ...   \n",
              "995        'real estate'  31                 none         own   \n",
              "996     'life insurance'  40                 none         own   \n",
              "997                  car  38                 none         own   \n",
              "998  'no known property'  23                 none  'for free'   \n",
              "999                  car  27                 none         own   \n",
              "\n",
              "    existing_credits                          job num_dependents  \\\n",
              "0                  2                      skilled              1   \n",
              "1                  1                      skilled              1   \n",
              "2                  1         'unskilled resident'              2   \n",
              "3                  1                      skilled              2   \n",
              "4                  2                      skilled              2   \n",
              "..               ...                          ...            ...   \n",
              "995                1         'unskilled resident'              1   \n",
              "996                1  'high qualif/self emp/mgmt'              1   \n",
              "997                1                      skilled              1   \n",
              "998                1                      skilled              1   \n",
              "999                1                      skilled              1   \n",
              "\n",
              "     own_telephone foreign_worker class  \n",
              "0              yes            yes  good  \n",
              "1             none            yes   bad  \n",
              "2             none            yes  good  \n",
              "3             none            yes  good  \n",
              "4             none            yes   bad  \n",
              "..             ...            ...   ...  \n",
              "995           none            yes  good  \n",
              "996            yes            yes  good  \n",
              "997           none            yes  good  \n",
              "998            yes            yes   bad  \n",
              "999           none            yes  good  \n",
              "\n",
              "[1000 rows x 21 columns]"
            ],
            "text/html": [
              "\n",
              "  <div id=\"df-26c1ad1c-f58e-4d46-add5-06424518ddd6\">\n",
              "    <div class=\"colab-df-container\">\n",
              "      <div>\n",
              "<style scoped>\n",
              "    .dataframe tbody tr th:only-of-type {\n",
              "        vertical-align: middle;\n",
              "    }\n",
              "\n",
              "    .dataframe tbody tr th {\n",
              "        vertical-align: top;\n",
              "    }\n",
              "\n",
              "    .dataframe thead th {\n",
              "        text-align: right;\n",
              "    }\n",
              "</style>\n",
              "<table border=\"1\" class=\"dataframe\">\n",
              "  <thead>\n",
              "    <tr style=\"text-align: right;\">\n",
              "      <th></th>\n",
              "      <th>checking_status</th>\n",
              "      <th>duration</th>\n",
              "      <th>credit_history</th>\n",
              "      <th>purpose</th>\n",
              "      <th>credit_amount</th>\n",
              "      <th>savings_status</th>\n",
              "      <th>employment</th>\n",
              "      <th>installment_commitment</th>\n",
              "      <th>personal_status</th>\n",
              "      <th>other_parties</th>\n",
              "      <th>...</th>\n",
              "      <th>property_magnitude</th>\n",
              "      <th>age</th>\n",
              "      <th>other_payment_plans</th>\n",
              "      <th>housing</th>\n",
              "      <th>existing_credits</th>\n",
              "      <th>job</th>\n",
              "      <th>num_dependents</th>\n",
              "      <th>own_telephone</th>\n",
              "      <th>foreign_worker</th>\n",
              "      <th>class</th>\n",
              "    </tr>\n",
              "  </thead>\n",
              "  <tbody>\n",
              "    <tr>\n",
              "      <th>0</th>\n",
              "      <td>&lt;0</td>\n",
              "      <td>6</td>\n",
              "      <td>'critical/other existing credit'</td>\n",
              "      <td>radio/tv</td>\n",
              "      <td>1169</td>\n",
              "      <td>'no known savings'</td>\n",
              "      <td>&gt;=7</td>\n",
              "      <td>4</td>\n",
              "      <td>'male single'</td>\n",
              "      <td>none</td>\n",
              "      <td>...</td>\n",
              "      <td>'real estate'</td>\n",
              "      <td>67</td>\n",
              "      <td>none</td>\n",
              "      <td>own</td>\n",
              "      <td>2</td>\n",
              "      <td>skilled</td>\n",
              "      <td>1</td>\n",
              "      <td>yes</td>\n",
              "      <td>yes</td>\n",
              "      <td>good</td>\n",
              "    </tr>\n",
              "    <tr>\n",
              "      <th>1</th>\n",
              "      <td>0&lt;=X&lt;200</td>\n",
              "      <td>48</td>\n",
              "      <td>'existing paid'</td>\n",
              "      <td>radio/tv</td>\n",
              "      <td>5951</td>\n",
              "      <td>&lt;100</td>\n",
              "      <td>1&lt;=X&lt;4</td>\n",
              "      <td>2</td>\n",
              "      <td>'female div/dep/mar'</td>\n",
              "      <td>none</td>\n",
              "      <td>...</td>\n",
              "      <td>'real estate'</td>\n",
              "      <td>22</td>\n",
              "      <td>none</td>\n",
              "      <td>own</td>\n",
              "      <td>1</td>\n",
              "      <td>skilled</td>\n",
              "      <td>1</td>\n",
              "      <td>none</td>\n",
              "      <td>yes</td>\n",
              "      <td>bad</td>\n",
              "    </tr>\n",
              "    <tr>\n",
              "      <th>2</th>\n",
              "      <td>'no checking'</td>\n",
              "      <td>12</td>\n",
              "      <td>'critical/other existing credit'</td>\n",
              "      <td>education</td>\n",
              "      <td>2096</td>\n",
              "      <td>&lt;100</td>\n",
              "      <td>4&lt;=X&lt;7</td>\n",
              "      <td>2</td>\n",
              "      <td>'male single'</td>\n",
              "      <td>none</td>\n",
              "      <td>...</td>\n",
              "      <td>'real estate'</td>\n",
              "      <td>49</td>\n",
              "      <td>none</td>\n",
              "      <td>own</td>\n",
              "      <td>1</td>\n",
              "      <td>'unskilled resident'</td>\n",
              "      <td>2</td>\n",
              "      <td>none</td>\n",
              "      <td>yes</td>\n",
              "      <td>good</td>\n",
              "    </tr>\n",
              "    <tr>\n",
              "      <th>3</th>\n",
              "      <td>&lt;0</td>\n",
              "      <td>42</td>\n",
              "      <td>'existing paid'</td>\n",
              "      <td>furniture/equipment</td>\n",
              "      <td>7882</td>\n",
              "      <td>&lt;100</td>\n",
              "      <td>4&lt;=X&lt;7</td>\n",
              "      <td>2</td>\n",
              "      <td>'male single'</td>\n",
              "      <td>guarantor</td>\n",
              "      <td>...</td>\n",
              "      <td>'life insurance'</td>\n",
              "      <td>45</td>\n",
              "      <td>none</td>\n",
              "      <td>'for free'</td>\n",
              "      <td>1</td>\n",
              "      <td>skilled</td>\n",
              "      <td>2</td>\n",
              "      <td>none</td>\n",
              "      <td>yes</td>\n",
              "      <td>good</td>\n",
              "    </tr>\n",
              "    <tr>\n",
              "      <th>4</th>\n",
              "      <td>&lt;0</td>\n",
              "      <td>24</td>\n",
              "      <td>'delayed previously'</td>\n",
              "      <td>'new car'</td>\n",
              "      <td>4870</td>\n",
              "      <td>&lt;100</td>\n",
              "      <td>1&lt;=X&lt;4</td>\n",
              "      <td>3</td>\n",
              "      <td>'male single'</td>\n",
              "      <td>none</td>\n",
              "      <td>...</td>\n",
              "      <td>'no known property'</td>\n",
              "      <td>53</td>\n",
              "      <td>none</td>\n",
              "      <td>'for free'</td>\n",
              "      <td>2</td>\n",
              "      <td>skilled</td>\n",
              "      <td>2</td>\n",
              "      <td>none</td>\n",
              "      <td>yes</td>\n",
              "      <td>bad</td>\n",
              "    </tr>\n",
              "    <tr>\n",
              "      <th>...</th>\n",
              "      <td>...</td>\n",
              "      <td>...</td>\n",
              "      <td>...</td>\n",
              "      <td>...</td>\n",
              "      <td>...</td>\n",
              "      <td>...</td>\n",
              "      <td>...</td>\n",
              "      <td>...</td>\n",
              "      <td>...</td>\n",
              "      <td>...</td>\n",
              "      <td>...</td>\n",
              "      <td>...</td>\n",
              "      <td>...</td>\n",
              "      <td>...</td>\n",
              "      <td>...</td>\n",
              "      <td>...</td>\n",
              "      <td>...</td>\n",
              "      <td>...</td>\n",
              "      <td>...</td>\n",
              "      <td>...</td>\n",
              "      <td>...</td>\n",
              "    </tr>\n",
              "    <tr>\n",
              "      <th>995</th>\n",
              "      <td>'no checking'</td>\n",
              "      <td>12</td>\n",
              "      <td>'existing paid'</td>\n",
              "      <td>furniture/equipment</td>\n",
              "      <td>1736</td>\n",
              "      <td>&lt;100</td>\n",
              "      <td>4&lt;=X&lt;7</td>\n",
              "      <td>3</td>\n",
              "      <td>'female div/dep/mar'</td>\n",
              "      <td>none</td>\n",
              "      <td>...</td>\n",
              "      <td>'real estate'</td>\n",
              "      <td>31</td>\n",
              "      <td>none</td>\n",
              "      <td>own</td>\n",
              "      <td>1</td>\n",
              "      <td>'unskilled resident'</td>\n",
              "      <td>1</td>\n",
              "      <td>none</td>\n",
              "      <td>yes</td>\n",
              "      <td>good</td>\n",
              "    </tr>\n",
              "    <tr>\n",
              "      <th>996</th>\n",
              "      <td>&lt;0</td>\n",
              "      <td>30</td>\n",
              "      <td>'existing paid'</td>\n",
              "      <td>'used car'</td>\n",
              "      <td>3857</td>\n",
              "      <td>&lt;100</td>\n",
              "      <td>1&lt;=X&lt;4</td>\n",
              "      <td>4</td>\n",
              "      <td>'male div/sep'</td>\n",
              "      <td>none</td>\n",
              "      <td>...</td>\n",
              "      <td>'life insurance'</td>\n",
              "      <td>40</td>\n",
              "      <td>none</td>\n",
              "      <td>own</td>\n",
              "      <td>1</td>\n",
              "      <td>'high qualif/self emp/mgmt'</td>\n",
              "      <td>1</td>\n",
              "      <td>yes</td>\n",
              "      <td>yes</td>\n",
              "      <td>good</td>\n",
              "    </tr>\n",
              "    <tr>\n",
              "      <th>997</th>\n",
              "      <td>'no checking'</td>\n",
              "      <td>12</td>\n",
              "      <td>'existing paid'</td>\n",
              "      <td>radio/tv</td>\n",
              "      <td>804</td>\n",
              "      <td>&lt;100</td>\n",
              "      <td>&gt;=7</td>\n",
              "      <td>4</td>\n",
              "      <td>'male single'</td>\n",
              "      <td>none</td>\n",
              "      <td>...</td>\n",
              "      <td>car</td>\n",
              "      <td>38</td>\n",
              "      <td>none</td>\n",
              "      <td>own</td>\n",
              "      <td>1</td>\n",
              "      <td>skilled</td>\n",
              "      <td>1</td>\n",
              "      <td>none</td>\n",
              "      <td>yes</td>\n",
              "      <td>good</td>\n",
              "    </tr>\n",
              "    <tr>\n",
              "      <th>998</th>\n",
              "      <td>&lt;0</td>\n",
              "      <td>45</td>\n",
              "      <td>'existing paid'</td>\n",
              "      <td>radio/tv</td>\n",
              "      <td>1845</td>\n",
              "      <td>&lt;100</td>\n",
              "      <td>1&lt;=X&lt;4</td>\n",
              "      <td>4</td>\n",
              "      <td>'male single'</td>\n",
              "      <td>none</td>\n",
              "      <td>...</td>\n",
              "      <td>'no known property'</td>\n",
              "      <td>23</td>\n",
              "      <td>none</td>\n",
              "      <td>'for free'</td>\n",
              "      <td>1</td>\n",
              "      <td>skilled</td>\n",
              "      <td>1</td>\n",
              "      <td>yes</td>\n",
              "      <td>yes</td>\n",
              "      <td>bad</td>\n",
              "    </tr>\n",
              "    <tr>\n",
              "      <th>999</th>\n",
              "      <td>0&lt;=X&lt;200</td>\n",
              "      <td>45</td>\n",
              "      <td>'critical/other existing credit'</td>\n",
              "      <td>'used car'</td>\n",
              "      <td>4576</td>\n",
              "      <td>100&lt;=X&lt;500</td>\n",
              "      <td>unemployed</td>\n",
              "      <td>3</td>\n",
              "      <td>'male single'</td>\n",
              "      <td>none</td>\n",
              "      <td>...</td>\n",
              "      <td>car</td>\n",
              "      <td>27</td>\n",
              "      <td>none</td>\n",
              "      <td>own</td>\n",
              "      <td>1</td>\n",
              "      <td>skilled</td>\n",
              "      <td>1</td>\n",
              "      <td>none</td>\n",
              "      <td>yes</td>\n",
              "      <td>good</td>\n",
              "    </tr>\n",
              "  </tbody>\n",
              "</table>\n",
              "<p>1000 rows × 21 columns</p>\n",
              "</div>\n",
              "      <button class=\"colab-df-convert\" onclick=\"convertToInteractive('df-26c1ad1c-f58e-4d46-add5-06424518ddd6')\"\n",
              "              title=\"Convert this dataframe to an interactive table.\"\n",
              "              style=\"display:none;\">\n",
              "        \n",
              "  <svg xmlns=\"http://www.w3.org/2000/svg\" height=\"24px\"viewBox=\"0 0 24 24\"\n",
              "       width=\"24px\">\n",
              "    <path d=\"M0 0h24v24H0V0z\" fill=\"none\"/>\n",
              "    <path d=\"M18.56 5.44l.94 2.06.94-2.06 2.06-.94-2.06-.94-.94-2.06-.94 2.06-2.06.94zm-11 1L8.5 8.5l.94-2.06 2.06-.94-2.06-.94L8.5 2.5l-.94 2.06-2.06.94zm10 10l.94 2.06.94-2.06 2.06-.94-2.06-.94-.94-2.06-.94 2.06-2.06.94z\"/><path d=\"M17.41 7.96l-1.37-1.37c-.4-.4-.92-.59-1.43-.59-.52 0-1.04.2-1.43.59L10.3 9.45l-7.72 7.72c-.78.78-.78 2.05 0 2.83L4 21.41c.39.39.9.59 1.41.59.51 0 1.02-.2 1.41-.59l7.78-7.78 2.81-2.81c.8-.78.8-2.07 0-2.86zM5.41 20L4 18.59l7.72-7.72 1.47 1.35L5.41 20z\"/>\n",
              "  </svg>\n",
              "      </button>\n",
              "      \n",
              "  <style>\n",
              "    .colab-df-container {\n",
              "      display:flex;\n",
              "      flex-wrap:wrap;\n",
              "      gap: 12px;\n",
              "    }\n",
              "\n",
              "    .colab-df-convert {\n",
              "      background-color: #E8F0FE;\n",
              "      border: none;\n",
              "      border-radius: 50%;\n",
              "      cursor: pointer;\n",
              "      display: none;\n",
              "      fill: #1967D2;\n",
              "      height: 32px;\n",
              "      padding: 0 0 0 0;\n",
              "      width: 32px;\n",
              "    }\n",
              "\n",
              "    .colab-df-convert:hover {\n",
              "      background-color: #E2EBFA;\n",
              "      box-shadow: 0px 1px 2px rgba(60, 64, 67, 0.3), 0px 1px 3px 1px rgba(60, 64, 67, 0.15);\n",
              "      fill: #174EA6;\n",
              "    }\n",
              "\n",
              "    [theme=dark] .colab-df-convert {\n",
              "      background-color: #3B4455;\n",
              "      fill: #D2E3FC;\n",
              "    }\n",
              "\n",
              "    [theme=dark] .colab-df-convert:hover {\n",
              "      background-color: #434B5C;\n",
              "      box-shadow: 0px 1px 3px 1px rgba(0, 0, 0, 0.15);\n",
              "      filter: drop-shadow(0px 1px 2px rgba(0, 0, 0, 0.3));\n",
              "      fill: #FFFFFF;\n",
              "    }\n",
              "  </style>\n",
              "\n",
              "      <script>\n",
              "        const buttonEl =\n",
              "          document.querySelector('#df-26c1ad1c-f58e-4d46-add5-06424518ddd6 button.colab-df-convert');\n",
              "        buttonEl.style.display =\n",
              "          google.colab.kernel.accessAllowed ? 'block' : 'none';\n",
              "\n",
              "        async function convertToInteractive(key) {\n",
              "          const element = document.querySelector('#df-26c1ad1c-f58e-4d46-add5-06424518ddd6');\n",
              "          const dataTable =\n",
              "            await google.colab.kernel.invokeFunction('convertToInteractive',\n",
              "                                                     [key], {});\n",
              "          if (!dataTable) return;\n",
              "\n",
              "          const docLinkHtml = 'Like what you see? Visit the ' +\n",
              "            '<a target=\"_blank\" href=https://colab.research.google.com/notebooks/data_table.ipynb>data table notebook</a>'\n",
              "            + ' to learn more about interactive tables.';\n",
              "          element.innerHTML = '';\n",
              "          dataTable['output_type'] = 'display_data';\n",
              "          await google.colab.output.renderOutput(dataTable, element);\n",
              "          const docLink = document.createElement('div');\n",
              "          docLink.innerHTML = docLinkHtml;\n",
              "          element.appendChild(docLink);\n",
              "        }\n",
              "      </script>\n",
              "    </div>\n",
              "  </div>\n",
              "  "
            ]
          },
          "metadata": {},
          "execution_count": 3
        }
      ]
    },
    {
      "cell_type": "code",
      "source": [
        "baseAgrupada=base.groupby(['class'])\n",
        "baseAgrupada"
      ],
      "metadata": {
        "id": "12VdT99PwbdO",
        "colab": {
          "base_uri": "https://localhost:8080/"
        },
        "outputId": "17bf45f0-0ff8-48ce-9689-e5f102217698"
      },
      "execution_count": null,
      "outputs": [
        {
          "output_type": "execute_result",
          "data": {
            "text/plain": [
              "<pandas.core.groupby.generic.DataFrameGroupBy object at 0x7fadf605ed30>"
            ]
          },
          "metadata": {},
          "execution_count": 4
        }
      ]
    },
    {
      "cell_type": "code",
      "source": [
        "base['checking_status'].describe()"
      ],
      "metadata": {
        "id": "tcC1Zz7XWqsh",
        "colab": {
          "base_uri": "https://localhost:8080/"
        },
        "outputId": "5ac80356-2948-4f54-f808-e354e2641fef"
      },
      "execution_count": null,
      "outputs": [
        {
          "output_type": "execute_result",
          "data": {
            "text/plain": [
              "count              1000\n",
              "unique                4\n",
              "top       'no checking'\n",
              "freq                394\n",
              "Name: checking_status, dtype: object"
            ]
          },
          "metadata": {},
          "execution_count": 5
        }
      ]
    },
    {
      "cell_type": "code",
      "source": [
        "base.groupby('duration')"
      ],
      "metadata": {
        "id": "1BZvkJxjoVvu",
        "colab": {
          "base_uri": "https://localhost:8080/"
        },
        "outputId": "d0591009-46e8-4472-cd50-1227cdbeeb06"
      },
      "execution_count": null,
      "outputs": [
        {
          "output_type": "execute_result",
          "data": {
            "text/plain": [
              "<pandas.core.groupby.generic.DataFrameGroupBy object at 0x7fadf605e430>"
            ]
          },
          "metadata": {},
          "execution_count": 6
        }
      ]
    },
    {
      "cell_type": "code",
      "source": [
        "base.describe"
      ],
      "metadata": {
        "id": "iHQEujspeCdA"
      },
      "execution_count": null,
      "outputs": []
    },
    {
      "cell_type": "code",
      "source": [
        "base['class'].isnull().sum()"
      ],
      "metadata": {
        "colab": {
          "base_uri": "https://localhost:8080/"
        },
        "id": "K8EsM9iK1fRe",
        "outputId": "efe3cadf-778c-4cde-e90d-d745b28af76a"
      },
      "execution_count": null,
      "outputs": [
        {
          "output_type": "execute_result",
          "data": {
            "text/plain": [
              "0"
            ]
          },
          "metadata": {},
          "execution_count": 7
        }
      ]
    },
    {
      "cell_type": "code",
      "source": [
        "base.describe"
      ],
      "metadata": {
        "id": "qLA7EHFJyyyG"
      },
      "execution_count": null,
      "outputs": []
    },
    {
      "cell_type": "code",
      "source": [
        "colNumber=base.columns.get_loc('credit_amount')\n",
        "colNumber"
      ],
      "metadata": {
        "colab": {
          "base_uri": "https://localhost:8080/"
        },
        "id": "T3o4LNXw3kjN",
        "outputId": "1edcd3f3-9153-41b3-9f2b-1355e89cc7cb"
      },
      "execution_count": null,
      "outputs": [
        {
          "output_type": "execute_result",
          "data": {
            "text/plain": [
              "4"
            ]
          },
          "metadata": {},
          "execution_count": 22
        }
      ]
    },
    {
      "cell_type": "code",
      "source": [
        "#relacao duracao e idade , idade==x e duracao==y\n",
        "X = base.iloc[:,4].values\n",
        "y = base.iloc[:,11].values\n",
        "X"
      ],
      "metadata": {
        "id": "D58uwrfr1-pX",
        "colab": {
          "base_uri": "https://localhost:8080/"
        },
        "outputId": "870b3e05-eb71-4086-a879-864345449547"
      },
      "execution_count": null,
      "outputs": [
        {
          "output_type": "execute_result",
          "data": {
            "text/plain": [
              "array([ 1169,  5951,  2096,  7882,  4870,  9055,  2835,  6948,  3059,\n",
              "        5234,  1295,  4308,  1567,  1199,  1403,  1282,  2424,  8072,\n",
              "       12579,  3430,  2134,  2647,  2241,  1804,  2069,  1374,   426,\n",
              "         409,  2415,  6836,  1913,  4020,  5866,  1264,  1474,  4746,\n",
              "        6110,  2100,  1225,   458,  2333,  1158,  6204,  6187,  6143,\n",
              "        1393,  2299,  1352,  7228,  2073,  2333,  5965,  1262,  3378,\n",
              "        2225,   783,  6468,  9566,  1961,  6229,  1391,  1537,  1953,\n",
              "       14421,  3181,  5190,  2171,  1007,  1819,  2394,  8133,   730,\n",
              "        1164,  5954,  1977,  1526,  3965,  4771,  9436,  3832,  5943,\n",
              "        1213,  1568,  1755,  2315,  1412,  1295, 12612,  2249,  1108,\n",
              "         618,  1409,   797,  3617,  1318, 15945,  2012,  2622,  2337,\n",
              "        7057,  1469,  2323,   932,  1919,  2445, 11938,  6458,  6078,\n",
              "        7721,  1410,  1449,   392,  6260,  7855,  1680,  3578,  7174,\n",
              "        2132,  4281,  2366,  1835,  3868,  1768,   781,  1924,  2121,\n",
              "         701,   639,  1860,  3499,  8487,  6887,  2708,  1984, 10144,\n",
              "        1240,  8613,   766,  2728,  1881,   709,  4795,  3416,  2462,\n",
              "        2288,  3566,   860,   682,  5371,  1582,  1346,  1924,  5848,\n",
              "        7758,  6967,  1282,  1288,   339,  3512,  1898,  2872,  1055,\n",
              "        1262,  7308,   909,  2978,  1131,  1577,  3972,  1935,   950,\n",
              "         763,  2064,  1414,  3414,  7485,  2577,   338,  1963,   571,\n",
              "        9572,  4455,  1647,  3777,   884,  1360,  5129,  1175,   674,\n",
              "        3244,  4591,  3844,  3915,  2108,  3031,  1501,  1382,   951,\n",
              "        2760,  4297,   936,  1168,  5117,   902,  1495, 10623,  1935,\n",
              "        1424,  6568,  1413,  3074,  3835,  5293,  1908,  3342,   932,\n",
              "        3104,  3913,  3021,  1364,   625,  1200,   707,  2978,  4657,\n",
              "        2613, 10961,  7865,  1478,  3149,  4210,  2507,  2141,   866,\n",
              "        1544,  1823, 14555,  2767,  1291,  2522,   915,  1595,  4605,\n",
              "        1185,  3447,  1258,   717,  1204,  1925,   433,   666,  2251,\n",
              "        2150,  4151,  2030,  7418,  2684,  2149,  3812,  1154,  1657,\n",
              "        1603,  5302,  2748,  1231,   802,  6304,  1533,  8978,   999,\n",
              "        2662,  1402, 12169,  3060, 11998,  2697,  2404,  1262,  4611,\n",
              "        1901,  3368,  1574,  1445,  1520,  3878, 10722,  4788,  7582,\n",
              "        1092,  1024,  1076,  9398,  6419,  4796,  7629,  9960,  4675,\n",
              "        1287,  2515,  2745,   672,  3804,  1344,  1038, 10127,  1543,\n",
              "        4811,   727,  1237,   276,  5381,  5511,  3749,   685,  1494,\n",
              "        2746,   708,  4351,   701,  3643,  4249,  1938,  2910,  2659,\n",
              "        1028,  3398,  5801,  1525,  4473,  1068,  6615,  1864,  7408,\n",
              "       11590,  4110,  3384,  2101,  1275,  4169,  1521,  5743,  3599,\n",
              "        3213,  4439,  3949,  1459,   882,  3758,  1743,  1136,  1236,\n",
              "         959,  3229,  6199,   727,  1246,  2331,  4463,   776,  2406,\n",
              "        1239,  3399,  2247,  1766,  2473,  1542,  3850,  3650,  3446,\n",
              "        3001,  3079,  6070,  2146, 13756, 14782,  7685,  2320,   846,\n",
              "       14318,   362,  2212, 12976,  1283,  1330,  4272,  2238,  1126,\n",
              "        7374,  2326,  1449,  1820,   983,  3249,  1957,  2406, 11760,\n",
              "        2578,  2348,  1223,  1516,  1473,  1887,  8648,   802,  2899,\n",
              "        2039,  2197,  1053,  3235,   939,  1967,  7253,  2292,  1597,\n",
              "        1381,  5842,  2579,  8471,  2782,  1042,  3186,  2028,   958,\n",
              "        1591,  2762,  2779,  2743,  1149,  1313,  1190,  3448, 11328,\n",
              "        1872,  2058,  2136,  1484,   660,  1287,  3394,   609,  1884,\n",
              "        1620,  2629,   719,  5096,  1244,  1842,  2576,  1424,  1512,\n",
              "       11054,   518,  2759,  2670,  4817,  2679,  3905,  3386,   343,\n",
              "        4594,  3620,  1721,  3017,   754,  1950,  2924,  1659,  7238,\n",
              "        2764,  4679,  3092,   448,   654,  1238,  1245,  3114,  2569,\n",
              "        5152,  1037,  1478,  3573,  1201,  3622,   960,  1163,  1209,\n",
              "        3077,  3757,  1418,  3518,  1934,  8318,  1237,   368,  2122,\n",
              "        2996,  9034,  1585,  1301,  1323,  3123,  5493,  1126,  1216,\n",
              "        1207,  1309,  2360,  6850,  1413,  8588,   759,  4686,  2687,\n",
              "         585,  2255,   609,  1361,  7127,  1203,   700,  5507,  3190,\n",
              "        7119,  3488,  1113,  7966,  1532,  1503,  2302,   662,  2273,\n",
              "        2631,  1503,  1311,  3105,  2319,  1374,  3612,  7763,  3049,\n",
              "        1534,  2032,  6350,  2864,  1255,  1333,  2022,  1552,   626,\n",
              "        8858,   996,  1750,  6999,  1995,  1199,  1331,  2278,  5003,\n",
              "        3552,  1928,  2964,  1546,   683, 12389,  4712,  1553,  1372,\n",
              "        2578,  3979,  6758,  3234,  5954,  5433,   806,  1082,  2788,\n",
              "        2930,  1927,  2820,   937,  1056,  3124,  1388,  2384,  2133,\n",
              "        2039,  2799,  1289,  1217,  2246,   385,  1965,  1572,  2718,\n",
              "        1358,   931,  1442,  4241,  2775,  3863,  2329,   918,  1837,\n",
              "        3349,  1275,  2828,  4526,  2671,  2051,  1300,   741,  1240,\n",
              "        3357,  3632,  1808, 12204,  9157,  3676,  3441,   640,  3652,\n",
              "        1530,  3914,  1858,  2600,  1979,  2116,  1437,  4042,  3832,\n",
              "        3660,  1553,  1444,  1980,  1355,  1393,  1376, 15653,  1493,\n",
              "        4370,   750,  1308,  4623,  1851,  1880,  7980,  4583,  1386,\n",
              "         947,   684,  7476,  1922,  2303,  8086,  2346,  3973,   888,\n",
              "       10222,  4221,  6361,  1297,   900,  2241,  1050,  1047,  6314,\n",
              "        3496,  3609,  4843,  3017,  4139,  5742, 10366,  2080,  2580,\n",
              "        4530,  5150,  5595,  2384,  1453,  1538,  2279,  1478,  5103,\n",
              "        9857,  6527,  1347,  2862,  2753,  3651,   975,  2631,  2896,\n",
              "        4716,  2284,  1236,  1103,   926,  1800,  1905,  1123,  6331,\n",
              "        1377,  2503,  2528,  5324,  6560,  2969,  1206,  2118,   629,\n",
              "        1198,  2476,  1138, 14027,  7596,  3077,  1505,  3148,  6148,\n",
              "        1337,   433,  1228,   790,  2570,   250,  1316,  1882,  6416,\n",
              "        1275,  6403,  1987,   760,  2603,  3380,  3990, 11560,  4380,\n",
              "        6761,  4280,  2325,  1048,  3160,  2483, 14179,  1797,  2511,\n",
              "        1274,  5248,  3029,   428,   976,   841,  5771,  1555,  1285,\n",
              "        1299,  1271,  1393,   691,  5045,  2124,  2214, 12680,  2463,\n",
              "        1155,  3108,  2901,  3617,  1655,  2812,  8065,  3275,  2223,\n",
              "        1480,  1371,  3535,  3509,  5711,  3872,  4933,  1940,  1410,\n",
              "         836,  6468,  1941,  2675,  2751,  6224,  5998,  1188,  6313,\n",
              "        1221,  2892,  3062,  2301,  7511,  1258,   717,  1549,  1597,\n",
              "        1795,  4272,   976,  7472,  9271,   590,   930,  9283,  1778,\n",
              "         907,   484,  9629,  3051,  3931,  7432,  1338,  1554, 15857,\n",
              "        1345,  1101,  3016,  2712,   731,  3780,  1602,  3966,  4165,\n",
              "        8335,  6681,  2375,  1216, 11816,  5084,  2327,  1082,   886,\n",
              "         601,  2957,  2611,  5179,  2993,  1943,  1559,  3422,  3976,\n",
              "        6761,  1249,  1364,   709,  2235,  4042,  1471,  1442, 10875,\n",
              "        1474,   894,  3343,  3959,  3577,  5804,  2169,  2439,  4526,\n",
              "        2210,  2221,  2389,  3331,  7409,   652,  7678,  1343,  1382,\n",
              "         874,  3590,  1322,  1940,  3595,  1422,  6742,  7814,  9277,\n",
              "        2181,  1098,  4057,   795,  2825, 15672,  6614,  7824,  2442,\n",
              "        1829,  2171,  5800,  1169,  8947,  2606,  1592,  2186,  4153,\n",
              "        2625,  3485, 10477,  1386,  1278,  1107,  3763,  3711,  3594,\n",
              "        3195,  4454,  4736,  2991,  2142,  3161, 18424,  2848, 14896,\n",
              "        2359,  3345,  1817, 12749,  1366,  2002,  6872,   697,  1049,\n",
              "       10297,  1867,  1344,  1747,  1670,  1224,   522,  1498,  1919,\n",
              "         745,  2063,  6288,  6842,  3527,  1546,   929,  1455,  1845,\n",
              "        8358,  3349,  2859,  1533,  3621,  3590,  2145,  4113, 10974,\n",
              "        1893,  1231,  3656,  1154,  4006,  3069,  1740,  2353,  3556,\n",
              "        2397,   454,  1715,  2520,  3568,  7166,  3939,  1514,  7393,\n",
              "        1193,  7297,  2831,  1258,   753,  2427,  2538,  1264,  8386,\n",
              "        4844,  2923,  8229,  2028,  1433,  6289,  1409,  6579,  1743,\n",
              "        3565,  1569,  1936,  3959,  2390,  1736,  3857,   804,  1845,\n",
              "        4576])"
            ]
          },
          "metadata": {},
          "execution_count": 20
        }
      ]
    },
    {
      "cell_type": "code",
      "source": [
        "correlacao = np.corrcoef(X, y)\n",
        "correlacao"
      ],
      "metadata": {
        "id": "G3sEiVHO4dIi"
      },
      "execution_count": null,
      "outputs": []
    },
    {
      "cell_type": "code",
      "source": [
        "X = X.reshape(-1, 1)\n",
        "modelo = LinearRegression()\n",
        "modelo.fit(X, y)"
      ],
      "metadata": {
        "colab": {
          "base_uri": "https://localhost:8080/"
        },
        "id": "CFVx-M9M4lo_",
        "outputId": "c5e81de4-0b43-466a-b673-f6fab9d71b76"
      },
      "execution_count": null,
      "outputs": [
        {
          "output_type": "execute_result",
          "data": {
            "text/plain": [
              "LinearRegression()"
            ]
          },
          "metadata": {},
          "execution_count": 11
        }
      ]
    },
    {
      "cell_type": "code",
      "source": [
        "modelo.intercept_"
      ],
      "metadata": {
        "colab": {
          "base_uri": "https://localhost:8080/"
        },
        "id": "V12OmkJs6x4Y",
        "outputId": "a756f17c-d812-40c6-8039-50b76ba2cdd7"
      },
      "execution_count": null,
      "outputs": [
        {
          "output_type": "execute_result",
          "data": {
            "text/plain": [
              "12.168902198241387"
            ]
          },
          "metadata": {},
          "execution_count": 12
        }
      ]
    },
    {
      "cell_type": "code",
      "source": [
        "modelo.coef_"
      ],
      "metadata": {
        "colab": {
          "base_uri": "https://localhost:8080/"
        },
        "id": "M46JKwHs7AJy",
        "outputId": "3a58ca4a-d3d3-4f00-ffc4-121bc0dec45b"
      },
      "execution_count": null,
      "outputs": [
        {
          "output_type": "execute_result",
          "data": {
            "text/plain": [
              "array([0.00266995])"
            ]
          },
          "metadata": {},
          "execution_count": 13
        }
      ]
    },
    {
      "cell_type": "code",
      "source": [
        "plt.scatter(X, y)\n",
        "plt.plot(X, modelo.predict(X), color = 'red')"
      ],
      "metadata": {
        "colab": {
          "base_uri": "https://localhost:8080/",
          "height": 282
        },
        "id": "jZqGEeLl7HRJ",
        "outputId": "64b1011e-4d73-487a-9e00-7ab271d366b3"
      },
      "execution_count": null,
      "outputs": [
        {
          "output_type": "execute_result",
          "data": {
            "text/plain": [
              "[<matplotlib.lines.Line2D at 0x7f13d788dc10>]"
            ]
          },
          "metadata": {},
          "execution_count": 14
        },
        {
          "output_type": "display_data",
          "data": {
            "text/plain": [
              "<Figure size 432x288 with 1 Axes>"
            ],
            "image/png": "[encoded data removed]"
          },
          "metadata": {
            "needs_background": "light"
          }
        }
      ]
    },
    {
      "cell_type": "code",
      "source": [],
      "metadata": {
        "id": "GyE7NDWG7OLa"
      },
      "execution_count": null,
      "outputs": []
    }
  ]
}