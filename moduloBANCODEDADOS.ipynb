{
  "nbformat": 4,
  "nbformat_minor": 0,
  "metadata": {
    "colab": {
      "provenance": [],
      "authorship_tag": "ABX9TyPGBdJrb6DRBe7d1TtWCkdn",
      "include_colab_link": true
    },
    "kernelspec": {
      "name": "python3",
      "display_name": "Python 3"
    },
    "language_info": {
      "name": "python"
    }
  },
  "cells": [
    {
      "cell_type": "markdown",
      "metadata": {
        "id": "view-in-github",
        "colab_type": "text"
      },
      "source": [
        "<a href=\"https://colab.research.google.com/github/WandersonGustavo/Imersao_Alura/blob/main/moduloBANCODEDADOS.ipynb\" target=\"_parent\"><img src=\"https://colab.research.google.com/assets/colab-badge.svg\" alt=\"Open In Colab\"/></a>"
      ]
    },
    {
      "cell_type": "code",
      "execution_count": null,
      "metadata": {
        "id": "isUqpVaSjgno"
      },
      "outputs": [],
      "source": [
        "#pip install psycopg2\n",
        "import psycopg2"
      ]
    },
    {
      "cell_type": "code",
      "source": [
        "#conexão\n",
        "conexao = psycopg2.connect(host=\"localhost\",database=\"aula_sql\", user=\" wanderson\", password=\" \", port=3318)"
      ],
      "metadata": {
        "id": "GLHFt60Yj0KC"
      },
      "execution_count": null,
      "outputs": []
    },
    {
      "cell_type": "code",
      "source": [
        "#cria um cursor\n",
        "cursor = conexao.cursor()\n",
        "#define consulta\n",
        "consulta = \"select * from clientes\"\n",
        "#executa\n",
        "cursor.execute(consulta)"
      ],
      "metadata": {
        "id": "2eaL6kl1kNRq"
      },
      "execution_count": null,
      "outputs": []
    },
    {
      "cell_type": "code",
      "source": [
        "#recupera todos os registros\n",
        "registros = cursor.fetchall()"
      ],
      "metadata": {
        "id": "jo59UfYQkOcx"
      },
      "execution_count": null,
      "outputs": []
    },
    {
      "cell_type": "code",
      "source": [
        "#percorre os registros e imprime\n",
        "for row in registros:\n",
        "       print(\"Nome = \", row[1], )\n",
        "       print(\"Estado = \", row[2])\n",
        "       print(\"Status  = \", row[4], \"\\n\")"
      ],
      "metadata": {
        "id": "bwn9ww0xkTjx"
      },
      "execution_count": null,
      "outputs": []
    }
  ]
}