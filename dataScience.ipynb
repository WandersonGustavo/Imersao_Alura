{
  "nbformat": 4,
  "nbformat_minor": 0,
  "metadata": {
    "colab": {
      "provenance": [],
      "authorship_tag": "ABX9TyP4rS4eFyTO82Sh95ZX0A6H",
      "include_colab_link": true
    },
    "kernelspec": {
      "name": "python3",
      "display_name": "Python 3"
    },
    "language_info": {
      "name": "python"
    }
  },
  "cells": [
    {
      "cell_type": "markdown",
      "metadata": {
        "id": "view-in-github",
        "colab_type": "text"
      },
      "source": [
        "<a href=\"https://colab.research.google.com/github/WandersonGustavo/Imersao_Alura/blob/main/dataScience.ipynb\" target=\"_parent\"><img src=\"https://colab.research.google.com/assets/colab-badge.svg\" alt=\"Open In Colab\"/></a>"
      ]
    },
    {
      "cell_type": "code",
      "execution_count": 5,
      "metadata": {
        "colab": {
          "base_uri": "https://localhost:8080/"
        },
        "id": "5hVx4a6ziB5Z",
        "outputId": "3c871cb8-a5e7-4dba-b1f5-e90a0a7b92cb"
      },
      "outputs": [
        {
          "output_type": "stream",
          "name": "stdout",
          "text": [
            "hello world\n"
          ]
        }
      ],
      "source": [
        "#criando var\n",
        "y = \"hello world\"\n",
        "print(y)"
      ]
    },
    {
      "cell_type": "code",
      "source": [
        "y=20\n",
        "x=2\n",
        "z=(y*x)\n",
        "print(z)\n",
        "xx=\"ola mundo\"\n",
        "#yy=2023\n",
        "zz=\"vai ser iradoooo\"\n",
        "print(xx+zz)"
      ],
      "metadata": {
        "colab": {
          "base_uri": "https://localhost:8080/"
        },
        "id": "jU3vxGWW20TM",
        "outputId": "fdd85626-cce3-437a-955d-bae4c10aead8"
      },
      "execution_count": 10,
      "outputs": [
        {
          "output_type": "stream",
          "name": "stdout",
          "text": [
            "40\n",
            "ola mundovai ser iradoooo\n"
          ]
        }
      ]
    },
    {
      "cell_type": "code",
      "source": [
        "print(\"digite\")\n",
        "i=input()\n",
        "print(i)\n",
        "var=input(\"digite valor\")\n",
        "print(var)\n",
        "var1=float(var)\n",
        "print(var1)"
      ],
      "metadata": {
        "colab": {
          "base_uri": "https://localhost:8080/"
        },
        "id": "3qemroiI5CES",
        "outputId": "8f940363-d925-4817-b6ee-d5cd39c28120"
      },
      "execution_count": 12,
      "outputs": [
        {
          "output_type": "stream",
          "name": "stdout",
          "text": [
            "digite\n",
            "oi\n",
            "oi\n",
            "digite valor255\n",
            "255\n",
            "255.0\n"
          ]
        }
      ]
    },
    {
      "cell_type": "code",
      "source": [
        "#DECISÃO\n",
        "nota=input()\n",
        "if nota>=7.0:\n",
        "  print(\"Sua nota foi:\",nota,\"APR\")\n",
        "elif nota<7.0 and nota>=5.0:\n",
        "  print(\"Sua nota foi:\",nota,\": DEP\")\n",
        "else:\n",
        "  print(\"Sua nota foi:\",nota,\"REP\")"
      ],
      "metadata": {
        "id": "aH0KwDfh5xo6"
      },
      "execution_count": null,
      "outputs": []
    },
    {
      "cell_type": "code",
      "source": [
        "count =1\n",
        "while count <=5:\n",
        "  print(count)\n",
        "  count+=1\n",
        "print(\"***********************************\")\n",
        "for n in range(2,23):\n",
        "  if(n==16):\n",
        "    continue #pulará o 16, break terminaria no 16\n",
        "  print(n)\n",
        "print(\"##########\")\n",
        "lst2=list(range(1,11))\n",
        "lst=[1,\"ola\",False,[1,2,\"cinco\",True],lst2] #lista guarda varios tipos diferentes\n",
        "print(lst[4])\n",
        "print(\"##########\")\n",
        "#DICIONARIOS & SET\"S\n",
        "notas={\"val1\":5.5,\"var2\":7.5,\"var3\":8.5}\n",
        "print(notas[\"val1\"])#imprimindo valor da chave val1\n",
        "print(\"val1\"in notas)#verificar se existe no dic, será boolean\n",
        "notas[\"val4\"]=9.5 #incluir no dic \n",
        "print(notas.get(\"val4\"))#pegar valor \n",
        "print(\"##############\")\n",
        "#SET \n",
        "bd={\"v\",\"t\",\"u\"}\n",
        "print(len(bd))\n",
        "bd.add(\"r\")\n",
        "print(bd)\n",
        "print(len(bd))\n",
        "#tupla ,USAM () e ñ pode alterar\n",
        "tp=(1,2,35,4)\n",
        "print(type(tp))\n"
      ],
      "metadata": {
        "id": "Akf0UVpc7odV"
      },
      "execution_count": null,
      "outputs": []
    },
    {
      "cell_type": "code",
      "source": [
        "import numpy as np\n",
        "#matriz multiD\n",
        "md=np.array([1,2,3,4])\n",
        "print(md)\n",
        "mdd=np.array([1.5,25.5,3.0,40.8,5.5,6.6,7.85],dtype = np.float64)\n",
        "#convertendo type\n",
        "mdn=mdd.astype(int)#mudando tipo\n",
        "print(mdd)\n",
        "print(mdn)#resultado\n",
        "print(\"############33\")\n",
        "#criando matriz\n",
        "zeros=np.zeros([4,3])\n",
        "print(zeros)\n",
        "diag=np.eye(4)\n",
        "print(diag)#diag principalcom 1\n",
        "print(\"########################\")\n",
        "rand=np.random.random((4,4))#valores aleat\n",
        "print(rand)\n",
        "print(\"########################\")\n",
        "gr=np.random.default_rng(1)#nums aleats padrao, o 1 é a semente\n",
        "print(gr)\n",
        "print(zeros[1][1])#printar valor especifíco\n",
        "print(diag+rand)#soma de matrizs\n",
        "s=rand.transpose"
      ],
      "metadata": {
        "colab": {
          "base_uri": "https://localhost:8080/"
        },
        "id": "HgGQ4RotDxfX",
        "outputId": "8845562f-3fa7-4cc6-b67e-4ba6b5b3ca8f"
      },
      "execution_count": 58,
      "outputs": [
        {
          "output_type": "stream",
          "name": "stdout",
          "text": [
            "[1 2 3 4]\n",
            "[ 1.5  25.5   3.   40.8   5.5   6.6   7.85]\n",
            "[ 1 25  3 40  5  6  7]\n",
            "############33\n",
            "[[0. 0. 0.]\n",
            " [0. 0. 0.]\n",
            " [0. 0. 0.]\n",
            " [0. 0. 0.]]\n",
            "[[1. 0. 0. 0.]\n",
            " [0. 1. 0. 0.]\n",
            " [0. 0. 1. 0.]\n",
            " [0. 0. 0. 1.]]\n",
            "########################\n",
            "[[0.30793852 0.18652373 0.03551133 0.47580283]\n",
            " [0.66788426 0.76899584 0.82622825 0.82557476]\n",
            " [0.69510675 0.24951462 0.24030613 0.63118304]\n",
            " [0.40153088 0.6879018  0.77571568 0.64963921]]\n",
            "########################\n",
            "Generator(PCG64)\n",
            "0.0\n",
            "[[1.30793852 0.18652373 0.03551133 0.47580283]\n",
            " [0.66788426 1.76899584 0.82622825 0.82557476]\n",
            " [0.69510675 0.24951462 1.24030613 0.63118304]\n",
            " [0.40153088 0.6879018  0.77571568 1.64963921]]\n"
          ]
        }
      ]
    }
  ]
}